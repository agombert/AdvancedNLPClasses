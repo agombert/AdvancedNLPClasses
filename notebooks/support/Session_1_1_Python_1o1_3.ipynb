{
 "cells": [
  {
   "cell_type": "markdown",
   "metadata": {},
   "source": [
    "# Python DataFrames (pandas)\n",
    "\n",
    "This notebook introduces the basics and advanced features of pandas `DataFrame`. DataFrames are central to data manipulation in Python.\n",
    "\n",
    "## Table of Contents\n",
    "1. [Basic Concepts](#basic)\n",
    "2. [Advanced Concepts](#advanced)\n",
    "3. [Exercises](#exercises)\n",
    "4. [Real-World Applications](#applications)"
   ]
  },
  {
   "cell_type": "markdown",
   "metadata": {},
   "source": [
    "## 1. Basic Concepts <a name=\"basic\"></a>\n",
    "\n",
    "### 1.1 Creating a DataFrame"
   ]
  },
  {
   "cell_type": "code",
   "metadata": {
    "tags": []
   },
   "source": [
    "import pandas as pd\n",
    "\n",
    "# From a dictionary\n",
    "data = {\n",
    "    \"Name\": [\"Alice\", \"Bob\", \"Charlie\"],\n",
    "    \"Age\": [25, 30, 35],\n",
    "    \"City\": [\"New York\", \"Los Angeles\", \"Chicago\"]\n",
    "}\n",
    "\n",
    "df = pd.DataFrame(data)\n",
    "df"
   ],
   "execution_count": null,
   "outputs": []
  },
  {
   "cell_type": "markdown",
   "metadata": {},
   "source": [
    "### 1.2 Reading Data from Files\n",
    "Commonly, pandas is used to read CSV, Excel, or JSON files."
   ]
  },
  {
   "cell_type": "code",
   "metadata": {},
   "source": [
    "# Example (uncomment if you have a file)\n",
    "# df_csv = pd.read_csv('data.csv')\n",
    "# df_excel = pd.read_excel('data.xlsx')\n",
    "# df_json = pd.read_json('data.json')\n",
    "pass"
   ],
   "execution_count": null,
   "outputs": []
  },
  {
   "cell_type": "markdown",
   "metadata": {},
   "source": [
    "### 1.3 Basic Inspection\n",
    "Methods for quickly assessing your DataFrame’s shape and contents."
   ]
  },
  {
   "cell_type": "code",
   "metadata": {},
   "source": [
    "print(df.head())     # First few rows\n",
    "print(df.tail())     # Last few rows\n",
    "print(df.info())     # Data types and null counts\n",
    "print(df.describe()) # Statistical summary"
   ],
   "execution_count": null,
   "outputs": []
  },
  {
   "cell_type": "markdown",
   "metadata": {},
   "source": [
    "## 2. Advanced Concepts <a name=\"advanced\"></a>\n",
    "\n",
    "### 2.1 Indexing and Selection\n",
    "Pandas offers powerful indexing with `.loc` (label-based) and `.iloc` (integer-based)."
   ]
  },
  {
   "cell_type": "code",
   "metadata": {},
   "source": [
    "# Label-based indexing\n",
    "print(\"Label-based indexing:\")\n",
    "print(df.loc[0, \"Name\"])\n",
    "print()\n",
    "\n",
    "# Integer-based indexing\n",
    "print(\"Integer-based indexing:\")\n",
    "print(df.iloc[1, 2])"
   ],
   "execution_count": null,
   "outputs": []
  },
  {
   "cell_type": "markdown",
   "metadata": {},
   "source": [
    "### 2.2 Merging and Joining\n",
    "You can combine DataFrames in various ways using `merge()`, `join()`, or `concat()`."
   ]
  },
  {
   "cell_type": "code",
   "metadata": {},
   "source": [
    "data_extra = {\n",
    "    \"Name\": [\"Alice\", \"Bob\"],\n",
    "    \"Salary\": [70000, 80000]\n",
    "}\n",
    "df_extra = pd.DataFrame(data_extra)\n",
    "\n",
    "merged_df = pd.merge(df, df_extra, on=\"Name\", how=\"left\")\n",
    "merged_df"
   ],
   "execution_count": null,
   "outputs": []
  },
  {
   "cell_type": "markdown",
   "metadata": {},
   "source": [
    "### 2.3 GroupBy and Aggregation\n",
    "Grouping data by categories and applying aggregate functions like `sum`, `mean`, or `count`."
   ]
  },
  {
   "cell_type": "code",
   "metadata": {},
   "source": [
    "# Example data\n",
    "df_sales = pd.DataFrame({\n",
    "    \"Product\": [\"A\", \"A\", \"B\", \"B\", \"B\"],\n",
    "    \"Sales\": [100, 150, 200, 120, 180],\n",
    "    \"Region\": [\"North\", \"South\", \"North\", \"South\", \"North\"]\n",
    "})\n",
    "\n",
    "grouped = df_sales.groupby(\"Product\").agg({\"Sales\": \"sum\"})\n",
    "grouped"
   ],
   "execution_count": null,
   "outputs": []
  },
  {
   "cell_type": "markdown",
   "metadata": {},
   "source": [
    "### 2.4 Handling Missing Data\n",
    "Missing data is common in real datasets. Pandas provides methods like `dropna()`, `fillna()`, etc."
   ]
  },
  {
   "cell_type": "code",
   "metadata": {},
   "source": [
    "df_missing = pd.DataFrame({\n",
    "    \"Col1\": [1, None, 3],\n",
    "    \"Col2\": [None, 5, 6]\n",
    "})\n",
    "print(df_missing)\n",
    "\n",
    "df_dropped = df_missing.dropna()\n",
    "print(\"\\nAfter dropna:\\n\", df_dropped)\n",
    "\n",
    "df_filled = df_missing.fillna(0)\n",
    "print(\"\\nAfter fillna(0):\\n\", df_filled)"
   ],
   "execution_count": null,
   "outputs": []
  },
  {
   "cell_type": "markdown",
   "metadata": {},
   "source": [
    "## 3. Exercises <a name=\"exercises\"></a>"
   ]
  },
  {
   "cell_type": "markdown",
   "metadata": {},
   "source": [
    "### Exercise 1: Data Cleaning\n",
    "1. Create a DataFrame with columns `Name`, `Age`, `City`, and some missing values.\n",
    "2. Drop rows with missing values.\n",
    "3. Fill missing values in `Age` with the mean age.\n"
   ]
  },
  {
   "cell_type": "code",
   "metadata": {},
   "source": [
    "# Your code here\n",
    "import numpy as np\n",
    "\n",
    "df_ex = pd.DataFrame({\n",
    "    \"Name\": [\"Tom\", \"Jane\", \"Steve\", \"NaN\"],\n",
    "    \"Age\": [25, None, 30, 22],\n",
    "    \"City\": [\"Boston\", \"\", \"Seattle\", None]\n",
    "})\n",
    "# 1) Create the DataFrame\n",
    "# 2) Drop rows with missing values\n",
    "# 3) Fill missing Age with mean"
   ],
   "execution_count": null,
   "outputs": []
  },
  {
   "cell_type": "markdown",
   "metadata": {},
   "source": [
    "### Exercise 2: GroupBy and Aggregation\n",
    "Using the `df_sales` DataFrame shown earlier (or create your own):\n",
    "1. Group by `Region`.\n",
    "2. Calculate the average sales per region.\n",
    "3. Print the results."
   ]
  },
  {
   "cell_type": "code",
   "metadata": {},
   "source": [
    "# Your code here\n"
   ],
   "execution_count": null,
   "outputs": []
  },
  {
   "cell_type": "markdown",
   "metadata": {},
   "source": [
    "### Exercise 3: Merging DataFrames\n",
    "1. Create two DataFrames `df1` and `df2` with a common column (e.g., `id`).\n",
    "2. Perform a left merge on `id`.\n",
    "3. Perform an inner merge on `id`."
   ]
  },
  {
   "cell_type": "code",
   "metadata": {},
   "source": [
    "# Your code here\n"
   ],
   "execution_count": null,
   "outputs": []
  },
  {
   "cell_type": "markdown",
   "metadata": {},
   "source": [
    "## 4. Real-World Applications <a name=\"applications\"></a>\n",
    "\n",
    "### ETL (Extract, Transform, Load)\n",
    "- Data scientists use pandas to extract data from various sources (databases, APIs, files), transform it (cleaning, feature engineering), and load it into analytics tools.\n",
    "\n",
    "### Exploratory Data Analysis (EDA)\n",
    "- Pandas is essential for quick EDA: summarizing datasets, detecting outliers, etc.\n",
    "\n",
    "### Time-Series Analysis\n",
    "- Pandas offers specialized support for time-series data, making it popular in finance and IoT data processing.\n",
    "\n",
    "These are just a few examples—pandas is central to nearly every data-related task in Python!"
   ]
  }
 ],
 "metadata": {
  "kernelspec": {
   "display_name": "Python 3",
   "language": "python",
   "name": "python3"
  },
  "language_info": {
   "name": "python",
   "version": "3.11"
  }
 },
 "nbformat": 4,
 "nbformat_minor": 4
}
