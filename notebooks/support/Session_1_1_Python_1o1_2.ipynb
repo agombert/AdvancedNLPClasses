{
 "cells": [
  {
   "cell_type": "markdown",
   "metadata": {},
   "source": [
    "# Python Classes\n",
    "\n",
    "This notebook explores Python classes, which are crucial for object-oriented programming (OOP). Mastering classes helps structure code effectively—especially important in large NLP or data science projects.\n",
    "\n",
    "## Table of Contents\n",
    "1. [Basic Concepts](#basic)\n",
    "2. [Advanced Concepts](#advanced)\n",
    "3. [Exercises](#exercises)\n",
    "4. [Real-World Applications](#applications)"
   ]
  },
  {
   "cell_type": "markdown",
   "metadata": {},
   "source": [
    "## 1. Basic Concepts <a name=\"basic\"></a>\n",
    "\n",
    "In Python, classes allow you to create custom data types and bundle data (attributes) with behaviors (methods)."
   ]
  },
  {
   "cell_type": "markdown",
   "metadata": {},
   "source": [
    "### 1.1 Defining a Class"
   ]
  },
  {
   "cell_type": "code",
   "metadata": {},
   "source": [
    "class Animal:\n",
    "    def __init__(self, name, species):\n",
    "        self.name = name      # instance attribute\n",
    "        self.species = species\n",
    "\n",
    "    def make_sound(self):\n",
    "        print(\"<generic animal sound>\")\n",
    "\n",
    "# Instantiate the class\n",
    "dog = Animal(\"Fido\", \"Canine\")\n",
    "print(dog.name, dog.species)\n",
    "dog.make_sound()"
   ],
   "execution_count": null,
   "outputs": []
  },
  {
   "cell_type": "markdown",
   "metadata": {},
   "source": [
    "### 1.2 Inheritance\n",
    "\n",
    "Inheritance enables a new class (child) to inherit attributes and methods from an existing class (parent)."
   ]
  },
  {
   "cell_type": "code",
   "metadata": {},
   "source": [
    "class Dog(Animal):\n",
    "    def __init__(self, name):\n",
    "        super().__init__(name, \"Canine\")\n",
    "\n",
    "    def make_sound(self):\n",
    "        print(\"Woof!\")\n",
    "\n",
    "my_dog = Dog(\"Rex\")\n",
    "print(my_dog.name, my_dog.species)\n",
    "my_dog.make_sound()"
   ],
   "execution_count": null,
   "outputs": []
  },
  {
   "cell_type": "markdown",
   "metadata": {},
   "source": [
    "## 2. Advanced Concepts <a name=\"advanced\"></a>\n",
    "\n",
    "### 2.1 Class Methods and Static Methods\n",
    "\n",
    "Class methods take a reference to the class (`cls`) instead of the instance (`self`), while static methods don’t take any special first argument."
   ]
  },
  {
   "cell_type": "code",
   "metadata": {},
   "source": [
    "class MathUtils:\n",
    "    PI = 3.14159  # class attribute\n",
    "\n",
    "    @classmethod\n",
    "    def circle_area(cls, radius):\n",
    "        return cls.PI * (radius ** 2)\n",
    "\n",
    "    @staticmethod\n",
    "    def add(a, b):\n",
    "        return a + b\n",
    "\n",
    "# Using class and static methods\n",
    "print(MathUtils.circle_area(5))\n",
    "print(MathUtils.add(10, 20))"
   ],
   "execution_count": null,
   "outputs": []
  },
  {
   "cell_type": "markdown",
   "metadata": {},
   "source": [
    "### 2.2 Dunder Methods (Magic Methods)\n",
    "\n",
    "Dunder methods allow classes to integrate with Python’s built-in operations (like `str()`, `len()`, arithmetic, etc.)."
   ]
  },
  {
   "cell_type": "code",
   "metadata": {},
   "source": [
    "class Vector:\n",
    "    def __init__(self, x, y):\n",
    "        self.x = x\n",
    "        self.y = y\n",
    "\n",
    "    def __str__(self):\n",
    "        return f\"Vector({self.x}, {self.y})\"\n",
    "\n",
    "    def __add__(self, other):\n",
    "        return Vector(self.x + other.x, self.y + other.y)\n",
    "\n",
    "v1 = Vector(2, 3)\n",
    "v2 = Vector(4, 1)\n",
    "v3 = v1 + v2\n",
    "print(v3)"
   ],
   "execution_count": null,
   "outputs": []
  },
  {
   "cell_type": "markdown",
   "metadata": {},
   "source": [
    "### 2.3 Composition vs Inheritance\n",
    "\n",
    "Composition is an alternative to inheritance. Instead of inheriting from a class, you hold an instance of another class as an attribute."
   ]
  },
  {
   "cell_type": "code",
   "metadata": {},
   "source": [
    "class Engine:\n",
    "    def start(self):\n",
    "        print(\"Engine starts.\")\n",
    "    def stop(self):\n",
    "        print(\"Engine stops.\")\n",
    "\n",
    "class Car:\n",
    "    def __init__(self):\n",
    "        self.engine = Engine()  # Composition\n",
    "\n",
    "    def drive(self):\n",
    "        self.engine.start()\n",
    "        print(\"Car is driving...\")\n",
    "        self.engine.stop()\n",
    "\n",
    "my_car = Car()\n",
    "my_car.drive()"
   ],
   "execution_count": null,
   "outputs": []
  },
  {
   "cell_type": "markdown",
   "metadata": {},
   "source": [
    "## 3. Exercises <a name=\"exercises\"></a>\n",
    "\n",
    "Work on the following exercises to consolidate your understanding of Python classes."
   ]
  },
  {
   "cell_type": "markdown",
   "metadata": {},
   "source": [
    "### Exercise 1: Creating a Book Class\n",
    "1. Create a `Book` class with attributes: `title`, `author`, `pages`.\n",
    "2. Implement a `__str__` method that returns a string in the format: `\"Book(title='...', author='...', pages=...)\"`.\n",
    "3. Instantiate a few `Book` objects and print them."
   ]
  },
  {
   "cell_type": "code",
   "metadata": {},
   "source": [
    "# Your solution here\n",
    "class Book:\n",
    "    pass\n",
    "\n",
    "# Test your class:\n",
    "b1 = Book(\"Brave New World\", \"Aldous Huxley\", 311)\n",
    "print(b1)\n",
    "b2 = Book(\"1984\", \"George Orwell\", 328)\n",
    "print(b2)"
   ],
   "execution_count": null,
   "outputs": []
  },
  {
   "cell_type": "markdown",
   "metadata": {},
   "source": [
    "### Exercise 2: Inheritance\n",
    "1. Create a `Vehicle` parent class with attributes: `make`, `model`, and a method `drive()`.\n",
    "2. Create a `Truck` child class that inherits from `Vehicle`. Add an attribute `capacity` and override `drive()` to print a different message.\n",
    "3. Instantiate both classes and call their `drive()` methods."
   ]
  },
  {
   "cell_type": "code",
   "metadata": {},
   "source": [
    "# Your solution here\n",
    "class Vehicle:\n",
    "    pass\n",
    "\n",
    "class Truck(Vehicle):\n",
    "    pass\n",
    "\n",
    "# Example usage:\n",
    "# car = Vehicle(\"Toyota\", \"Camry\")\n",
    "# car.drive()\n",
    "# pickup = Truck(\"Ford\", \"F-150\", 1000)\n",
    "# pickup.drive()"
   ],
   "execution_count": null,
   "outputs": []
  },
  {
   "cell_type": "markdown",
   "metadata": {},
   "source": [
    "### Exercise 3: Class/Static Methods\n",
    "1. Define a class `MathOperations` with a class method `from_list(values)` that returns an instance with some aggregated result (e.g., sum of the list), and a static method `multiply(a, b)`.\n",
    "2. Demonstrate usage by creating an instance using `from_list` and calling `multiply`."
   ]
  },
  {
   "cell_type": "code",
   "metadata": {},
   "source": [
    "# Your code here\n",
    "class MathOperations:\n",
    "    pass\n",
    "\n",
    "# Example usage:\n",
    "# ops = MathOperations.from_list([1, 2, 3])\n",
    "# print(ops)\n",
    "# print(MathOperations.multiply(3, 5))"
   ],
   "execution_count": null,
   "outputs": []
  },
  {
   "cell_type": "markdown",
   "metadata": {},
   "source": [
    "## 4. Real-World Applications <a name=\"applications\"></a>\n",
    "\n",
    "### Frameworks Using OOP\n",
    "- **Django**: A popular web framework that relies heavily on classes (models, views) to structure large applications.\n",
    "- **Flask Extensions**: Often define extension classes for plugin functionality.\n",
    "\n",
    "### NLP Libraries\n",
    "- **spaCy**: Defines classes like `Doc`, `Token`, `Span` for text processing.\n",
    "- **NLTK**: Many classes for parsing, tokenization, etc.\n",
    "\n",
    "### Data Science\n",
    "- **scikit-learn**: Almost every algorithm is an object with `.fit()` and `.predict()` methods.\n",
    "- **PyTorch / TensorFlow**: Model classes that define neural network architectures.\n",
    "\n",
    "Classes are the foundation of these libraries, making it easier to organize and extend complex functionality."
   ]
  }
 ],
 "metadata": {
  "kernelspec": {
   "display_name": "Python 3",
   "language": "python",
   "name": "python3"
  },
  "language_info": {
   "name": "python",
   "mimetype": "text/x-python",
   "codemirror_mode": {
    "name": "ipython",
    "version": 3
   },
   "version": "3.11"
  }
 },
 "nbformat": 4,
 "nbformat_minor": 4
}
