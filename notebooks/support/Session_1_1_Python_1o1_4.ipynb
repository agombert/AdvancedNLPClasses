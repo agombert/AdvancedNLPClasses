{
 "cells": [
  {
   "cell_type": "markdown",
   "metadata": {},
   "source": [
    "# Python NumPy\n",
    "\n",
    "NumPy is the fundamental package for numerical computing in Python. It provides support for large, multi-dimensional arrays and matrices, along with a collection of mathematical functions to operate on these arrays.\n",
    "\n",
    "## Table of Contents\n",
    "1. [Basic Concepts](#basic)\n",
    "2. [Advanced Concepts](#advanced)\n",
    "3. [Exercises](#exercises)\n",
    "4. [Real-World Applications](#applications)"
   ]
  },
  {
   "cell_type": "markdown",
   "metadata": {},
   "source": [
    "## 1. Basic Concepts <a name=\"basic\"></a>\n",
    "\n",
    "### 1.1 NumPy Arrays"
   ]
  },
  {
   "cell_type": "code",
   "metadata": {},
   "source": [
    "import numpy as np\n",
    "\n",
    "# Creating arrays\n",
    "arr1 = np.array([1, 2, 3])\n",
    "arr2 = np.array([[1, 2], [3, 4]])\n",
    "\n",
    "print(\"arr1:\", arr1)\n",
    "print(\"arr2:\\n\", arr2)\n",
    "print(\"Shape of arr2:\", arr2.shape)"
   ],
   "execution_count": null,
   "outputs": []
  },
  {
   "cell_type": "markdown",
   "metadata": {},
   "source": [
    "### 1.2 Array Operations\n",
    "NumPy allows element-wise operations for arithmetic, comparisons, etc."
   ]
  },
  {
   "cell_type": "code",
   "metadata": {},
   "source": [
    "arr3 = np.array([10, 20, 30])\n",
    "\n",
    "# Element-wise arithmetic\n",
    "print(\"arr1 + arr3 =\", arr1 + arr3)\n",
    "\n",
    "# Scalar operations\n",
    "print(\"arr1 * 2 =\", arr1 * 2)\n",
    "\n",
    "# Comparison\n",
    "print(\"arr3 > 15?\", arr3 > 15)"
   ],
   "execution_count": null,
   "outputs": []
  },
  {
   "cell_type": "markdown",
   "metadata": {},
   "source": [
    "### 1.3 Slicing and Indexing"
   ]
  },
  {
   "cell_type": "code",
   "metadata": {},
   "source": [
    "arr4 = np.array([10, 11, 12, 13, 14, 15])\n",
    "print(\"arr4[1:4] =\", arr4[1:4])\n",
    "arr5 = np.array([[1,2,3],[4,5,6],[7,8,9]])\n",
    "print(\"\\n\", arr5)\n",
    "print(\"arr5[0, 1] =\", arr5[0, 1])\n",
    "print(\"arr5[:, 1] =\", arr5[:, 1])"
   ],
   "execution_count": null,
   "outputs": []
  },
  {
   "cell_type": "markdown",
   "metadata": {},
   "source": [
    "## 2. Advanced Concepts <a name=\"advanced\"></a>\n",
    "\n",
    "### 2.1 Broadcasting\n",
    "NumPy can automatically expand array dimensions to match shapes during operations."
   ]
  },
  {
   "cell_type": "code",
   "metadata": {},
   "source": [
    "arr6 = np.array([[1, 2, 3], [4, 5, 6]])\n",
    "arr7 = np.array([10, 20, 30])\n",
    "# arr6 is (2,3) and arr7 is (3,)\n",
    "\n",
    "result = arr6 + arr7  # Broadcasting adds arr7 to each row of arr6\n",
    "print(result)"
   ],
   "execution_count": null,
   "outputs": []
  },
  {
   "cell_type": "markdown",
   "metadata": {},
   "source": [
    "### 2.2 Reshaping and Transposing"
   ]
  },
  {
   "cell_type": "code",
   "metadata": {},
   "source": [
    "arr8 = np.arange(1, 7)\n",
    "print(\"Original:\", arr8)\n",
    "arr8_reshaped = arr8.reshape(2, 3)\n",
    "print(\"\\nReshaped to (2,3):\\n\", arr8_reshaped)\n",
    "\n",
    "# Transpose\n",
    "print(\"\\nTransposed:\\n\", arr8_reshaped.T)"
   ],
   "execution_count": null,
   "outputs": []
  },
  {
   "cell_type": "markdown",
   "metadata": {},
   "source": [
    "### 2.3 Mathematical and Statistical Functions\n",
    "NumPy provides a variety of built-in functions for computations like sum, mean, std, etc."
   ]
  },
  {
   "cell_type": "code",
   "metadata": {},
   "source": [
    "arr9 = np.array([1, 2, 3, 4, 5])\n",
    "print(\"Sum:\", np.sum(arr9))\n",
    "print(\"Mean:\", np.mean(arr9))\n",
    "print(\"Standard Deviation:\", np.std(arr9))"
   ],
   "execution_count": null,
   "outputs": []
  },
  {
   "cell_type": "markdown",
   "metadata": {},
   "source": [
    "### 2.4 Random Module\n",
    "Useful for generating random numbers, random samples, etc."
   ]
  },
  {
   "cell_type": "code",
   "metadata": {},
   "source": [
    "random_arr = np.random.rand(3, 3)  # uniform distribution\n",
    "print(\"Random Array:\\n\", random_arr)\n",
    "\n",
    "randint_arr = np.random.randint(0, 10, size=(2, 5))\n",
    "print(\"\\nRandom Integers:\\n\", randint_arr)"
   ],
   "execution_count": null,
   "outputs": []
  },
  {
   "cell_type": "markdown",
   "metadata": {},
   "source": [
    "## 3. Exercises <a name=\"exercises\"></a>"
   ]
  },
  {
   "cell_type": "markdown",
   "metadata": {},
   "source": [
    "### Exercise 1: Basic Array Operations\n",
    "1. Create a NumPy array of shape `(4,4)` with numbers from 1 to 16.\n",
    "2. Print the slice containing the second row.\n",
    "3. Multiply the entire array by 2."
   ]
  },
  {
   "cell_type": "code",
   "metadata": {},
   "source": [
    "# Your code here\n"
   ],
   "execution_count": null,
   "outputs": []
  },
  {
   "cell_type": "markdown",
   "metadata": {},
   "source": [
    "### Exercise 2: Reshaping and Broadcasting\n",
    "1. Create a 1D array with numbers from 1 to 9.\n",
    "2. Reshape it into `(3,3)`.\n",
    "3. Add a 1D array `[10,10,10]` to it using broadcasting."
   ]
  },
  {
   "cell_type": "code",
   "metadata": {},
   "source": [
    "# Your code here\n"
   ],
   "execution_count": null,
   "outputs": []
  },
  {
   "cell_type": "markdown",
   "metadata": {},
   "source": [
    "### Exercise 3: Statistical Functions\n",
    "1. Generate an array of 100 random numbers (using `np.random.randn()`).\n",
    "2. Compute the mean and standard deviation.\n",
    "3. Print the values."
   ]
  },
  {
   "cell_type": "code",
   "metadata": {},
   "source": [
    "# Your code here\n"
   ],
   "execution_count": null,
   "outputs": []
  },
  {
   "cell_type": "markdown",
   "metadata": {},
   "source": [
    "## 4. Real-World Applications <a name=\"applications\"></a>\n",
    "\n",
    "### Machine Learning\n",
    "- NumPy arrays are the foundation for libraries like scikit-learn, TensorFlow, and PyTorch.\n",
    "\n",
    "### Linear Algebra\n",
    "- Operations like matrix multiplication, decompositions, etc. are common in ML and data analysis.\n",
    "\n",
    "### Signal Processing, Simulations\n",
    "- Researchers often use NumPy for large-scale numerical simulations, random processes, or DSP tasks.\n",
    "\n",
    "NumPy is indispensable for scientific computing in Python, serving as the backbone for almost every advanced data library!"
   ]
  }
 ],
 "metadata": {
  "kernelspec": {
   "display_name": "Python 3",
   "name": "python3",
   "language": "python"
  },
  "language_info": {
   "name": "python",
   "version": "3.11"
  }
 },
 "nbformat": 4,
 "nbformat_minor": 4
}
