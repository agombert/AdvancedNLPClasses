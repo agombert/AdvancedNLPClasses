{
  "cells": [
    {
      "cell_type": "markdown",
      "metadata": {},
      "source": [
        "# ML with TF-IDF + Logistic Regression on IMDB Dataset\n",
        "\n",
        "In this notebook, we will:\n",
        "\n",
        "0. Set a NumPy random seed and load the **IMDB** dataset from Hugging Face, sampling 8k examples for training and 3k for testing. We will further split the training set into **train** and **dev**.\n",
        "1. Tackle sentiment classification with **TF-IDF** features and **Logistic Regression**.\n",
        "2. Explore key hyperparameters: `stop_words`, `tokenizer`, `analyzer`, `min_df`, `max_df`, `ngram_range`, `max_features`, and `vocabulary` with clear examples.\n",
        "3. Create a scikit-learn **Pipeline** with a pre-processing class (if needed), TF-IDF vectorizer, and Logistic Regression (with comments on regularization parameters and class weights).\n",
        "4. Evaluate the results on the **dev** and **test** sets.\n",
        "5. Analyze feature importance:\n",
        "    - a. Look at the contribution of each token.\n",
        "    - b. Show (with color highlights) which words drive the predictions.\n",
        "    - c. Rank the top words for positive and negative classes.\n",
        "6. Update the pre-processing pipelines based on this analysis."
      ]
    },
    {
      "cell_type": "markdown",
      "metadata": {},
      "source": [
        "## 0. Load the IMDB dataset\n",
        "\n",
        "### What is the IMDB Dataset?\n",
        "\n",
        "The IMDB dataset is a widely-used benchmark in sentiment analysis. It consists of movie reviews collected from the Internet Movie Database (IMDB), each labeled with a binary sentiment indicating whether the review is **positive** or **negative**.\n",
        "\n",
        "#### Key Features:\n",
        "- **Text Reviews:** Each record is a movie review written in natural language.\n",
        "- **Binary Sentiment Labels:** Reviews are marked as `0` (negative) or `1` (positive).\n",
        "- **Benchmark Dataset:** It is extensively used for training and evaluating models in natural language processing, particularly for sentiment classification tasks.\n",
        "\n",
        "I set a random seed for reproducibility. I sample 8000 examples for training and 3000 for testing. I further split the training set into train and dev (80/20 split)."
      ]
    },
    {
      "cell_type": "code",
      "execution_count": 1,
      "metadata": {},
      "outputs": [
        {
          "data": {
            "application/vnd.jupyter.widget-view+json": {
              "model_id": "8b177fc615a7455f87b6ca9c34e22583",
              "version_major": 2,
              "version_minor": 0
            },
            "text/plain": [
              "README.md:   0%|          | 0.00/7.81k [00:00<?, ?B/s]"
            ]
          },
          "metadata": {},
          "output_type": "display_data"
        },
        {
          "data": {
            "application/vnd.jupyter.widget-view+json": {
              "model_id": "8b6785b294db49ffa6f1672923d326b1",
              "version_major": 2,
              "version_minor": 0
            },
            "text/plain": [
              "train-00000-of-00001.parquet:   0%|          | 0.00/21.0M [00:00<?, ?B/s]"
            ]
          },
          "metadata": {},
          "output_type": "display_data"
        },
        {
          "data": {
            "application/vnd.jupyter.widget-view+json": {
              "model_id": "4cb684f01dc047428f3469c1cb912386",
              "version_major": 2,
              "version_minor": 0
            },
            "text/plain": [
              "test-00000-of-00001.parquet:   0%|          | 0.00/20.5M [00:00<?, ?B/s]"
            ]
          },
          "metadata": {},
          "output_type": "display_data"
        },
        {
          "data": {
            "application/vnd.jupyter.widget-view+json": {
              "model_id": "b709b696d3984c5b8b92bbc3c10b8ade",
              "version_major": 2,
              "version_minor": 0
            },
            "text/plain": [
              "unsupervised-00000-of-00001.parquet:   0%|          | 0.00/42.0M [00:00<?, ?B/s]"
            ]
          },
          "metadata": {},
          "output_type": "display_data"
        },
        {
          "data": {
            "application/vnd.jupyter.widget-view+json": {
              "model_id": "e8d3a41c9a6e44569596885397f255a9",
              "version_major": 2,
              "version_minor": 0
            },
            "text/plain": [
              "Generating train split:   0%|          | 0/25000 [00:00<?, ? examples/s]"
            ]
          },
          "metadata": {},
          "output_type": "display_data"
        },
        {
          "data": {
            "application/vnd.jupyter.widget-view+json": {
              "model_id": "16b9f694868c432783b4527bae92423f",
              "version_major": 2,
              "version_minor": 0
            },
            "text/plain": [
              "Generating test split:   0%|          | 0/25000 [00:00<?, ? examples/s]"
            ]
          },
          "metadata": {},
          "output_type": "display_data"
        },
        {
          "data": {
            "application/vnd.jupyter.widget-view+json": {
              "model_id": "2c298ef66cff4595817bdddc19a29853",
              "version_major": 2,
              "version_minor": 0
            },
            "text/plain": [
              "Generating unsupervised split:   0%|          | 0/50000 [00:00<?, ? examples/s]"
            ]
          },
          "metadata": {},
          "output_type": "display_data"
        },
        {
          "name": "stdout",
          "output_type": "stream",
          "text": [
            "Train size: 6400\n",
            "Dev size: 1600\n",
            "Test size: 3000\n"
          ]
        }
      ],
      "source": [
        "# 0. Setup & Data Loading\n",
        "import numpy as np\n",
        "import pandas as pd\n",
        "from datasets import load_dataset\n",
        "from sklearn.model_selection import train_test_split\n",
        "\n",
        "# Set numpy random seed for reproducibility\n",
        "np.random.seed(42)\n",
        "\n",
        "# Load the IMDB dataset from Hugging Face\n",
        "imdb = load_dataset(\"imdb\")\n",
        "\n",
        "# Sample 8000 examples for training from the original train split\n",
        "imdb_train_full = imdb[\"train\"]\n",
        "imdb_test_full = imdb[\"test\"]\n",
        "\n",
        "train_df = pd.DataFrame(imdb_train_full)\n",
        "test_df = pd.DataFrame(imdb_test_full)\n",
        "\n",
        "# Sample 8000 from train and 3000 from test\n",
        "train_df = train_df.sample(n=8000, random_state=42).reset_index(drop=True)\n",
        "test_df = test_df.sample(n=3000, random_state=42).reset_index(drop=True)\n",
        "\n",
        "# Split train_df into train and dev (e.g., 80/20 split)\n",
        "train_df, dev_df = train_test_split(train_df, test_size=0.2, random_state=42, stratify=train_df[\"label\"])\n",
        "\n",
        "print(\"Train size:\", len(train_df))\n",
        "print(\"Dev size:\", len(dev_df))\n",
        "print(\"Test size:\", len(test_df))"
      ]
    },
    {
      "cell_type": "markdown",
      "metadata": {},
      "source": [
        "## 1. TF-IDF + Logistic Regression for Sentiment Classification\n",
        "\n",
        "We will build a machine learning model using TF-IDF features combined with Logistic Regression to predict sentiment (positive/negative) from IMDB reviews.\n",
        "\n",
        "As mentioned in the slides, we can use the `TfidfVectorizer` to convert the text data into a matrix of TF-IDF features.\n",
        "\n",
        "We can then use a `LogisticRegression` model to predict the sentiment of the reviews. It's a simple model that is easy to understand and interpret.\n",
        "\n",
        "We can also use a `Pipeline` to streamline the process of converting the text data into TF-IDF features and then using the Logistic Regression model to predict the sentiment. `Pipeline` is a powerful tool that allows us to chain together multiple steps of the process into a single object."
      ]
    },
    {
      "cell_type": "code",
      "execution_count": 18,
      "metadata": {},
      "outputs": [
        {
          "data": {
            "text/html": [
              "<style>#sk-container-id-2 {\n",
              "  /* Definition of color scheme common for light and dark mode */\n",
              "  --sklearn-color-text: #000;\n",
              "  --sklearn-color-text-muted: #666;\n",
              "  --sklearn-color-line: gray;\n",
              "  /* Definition of color scheme for unfitted estimators */\n",
              "  --sklearn-color-unfitted-level-0: #fff5e6;\n",
              "  --sklearn-color-unfitted-level-1: #f6e4d2;\n",
              "  --sklearn-color-unfitted-level-2: #ffe0b3;\n",
              "  --sklearn-color-unfitted-level-3: chocolate;\n",
              "  /* Definition of color scheme for fitted estimators */\n",
              "  --sklearn-color-fitted-level-0: #f0f8ff;\n",
              "  --sklearn-color-fitted-level-1: #d4ebff;\n",
              "  --sklearn-color-fitted-level-2: #b3dbfd;\n",
              "  --sklearn-color-fitted-level-3: cornflowerblue;\n",
              "\n",
              "  /* Specific color for light theme */\n",
              "  --sklearn-color-text-on-default-background: var(--sg-text-color, var(--theme-code-foreground, var(--jp-content-font-color1, black)));\n",
              "  --sklearn-color-background: var(--sg-background-color, var(--theme-background, var(--jp-layout-color0, white)));\n",
              "  --sklearn-color-border-box: var(--sg-text-color, var(--theme-code-foreground, var(--jp-content-font-color1, black)));\n",
              "  --sklearn-color-icon: #696969;\n",
              "\n",
              "  @media (prefers-color-scheme: dark) {\n",
              "    /* Redefinition of color scheme for dark theme */\n",
              "    --sklearn-color-text-on-default-background: var(--sg-text-color, var(--theme-code-foreground, var(--jp-content-font-color1, white)));\n",
              "    --sklearn-color-background: var(--sg-background-color, var(--theme-background, var(--jp-layout-color0, #111)));\n",
              "    --sklearn-color-border-box: var(--sg-text-color, var(--theme-code-foreground, var(--jp-content-font-color1, white)));\n",
              "    --sklearn-color-icon: #878787;\n",
              "  }\n",
              "}\n",
              "\n",
              "#sk-container-id-2 {\n",
              "  color: var(--sklearn-color-text);\n",
              "}\n",
              "\n",
              "#sk-container-id-2 pre {\n",
              "  padding: 0;\n",
              "}\n",
              "\n",
              "#sk-container-id-2 input.sk-hidden--visually {\n",
              "  border: 0;\n",
              "  clip: rect(1px 1px 1px 1px);\n",
              "  clip: rect(1px, 1px, 1px, 1px);\n",
              "  height: 1px;\n",
              "  margin: -1px;\n",
              "  overflow: hidden;\n",
              "  padding: 0;\n",
              "  position: absolute;\n",
              "  width: 1px;\n",
              "}\n",
              "\n",
              "#sk-container-id-2 div.sk-dashed-wrapped {\n",
              "  border: 1px dashed var(--sklearn-color-line);\n",
              "  margin: 0 0.4em 0.5em 0.4em;\n",
              "  box-sizing: border-box;\n",
              "  padding-bottom: 0.4em;\n",
              "  background-color: var(--sklearn-color-background);\n",
              "}\n",
              "\n",
              "#sk-container-id-2 div.sk-container {\n",
              "  /* jupyter's `normalize.less` sets `[hidden] { display: none; }`\n",
              "     but bootstrap.min.css set `[hidden] { display: none !important; }`\n",
              "     so we also need the `!important` here to be able to override the\n",
              "     default hidden behavior on the sphinx rendered scikit-learn.org.\n",
              "     See: https://github.com/scikit-learn/scikit-learn/issues/21755 */\n",
              "  display: inline-block !important;\n",
              "  position: relative;\n",
              "}\n",
              "\n",
              "#sk-container-id-2 div.sk-text-repr-fallback {\n",
              "  display: none;\n",
              "}\n",
              "\n",
              "div.sk-parallel-item,\n",
              "div.sk-serial,\n",
              "div.sk-item {\n",
              "  /* draw centered vertical line to link estimators */\n",
              "  background-image: linear-gradient(var(--sklearn-color-text-on-default-background), var(--sklearn-color-text-on-default-background));\n",
              "  background-size: 2px 100%;\n",
              "  background-repeat: no-repeat;\n",
              "  background-position: center center;\n",
              "}\n",
              "\n",
              "/* Parallel-specific style estimator block */\n",
              "\n",
              "#sk-container-id-2 div.sk-parallel-item::after {\n",
              "  content: \"\";\n",
              "  width: 100%;\n",
              "  border-bottom: 2px solid var(--sklearn-color-text-on-default-background);\n",
              "  flex-grow: 1;\n",
              "}\n",
              "\n",
              "#sk-container-id-2 div.sk-parallel {\n",
              "  display: flex;\n",
              "  align-items: stretch;\n",
              "  justify-content: center;\n",
              "  background-color: var(--sklearn-color-background);\n",
              "  position: relative;\n",
              "}\n",
              "\n",
              "#sk-container-id-2 div.sk-parallel-item {\n",
              "  display: flex;\n",
              "  flex-direction: column;\n",
              "}\n",
              "\n",
              "#sk-container-id-2 div.sk-parallel-item:first-child::after {\n",
              "  align-self: flex-end;\n",
              "  width: 50%;\n",
              "}\n",
              "\n",
              "#sk-container-id-2 div.sk-parallel-item:last-child::after {\n",
              "  align-self: flex-start;\n",
              "  width: 50%;\n",
              "}\n",
              "\n",
              "#sk-container-id-2 div.sk-parallel-item:only-child::after {\n",
              "  width: 0;\n",
              "}\n",
              "\n",
              "/* Serial-specific style estimator block */\n",
              "\n",
              "#sk-container-id-2 div.sk-serial {\n",
              "  display: flex;\n",
              "  flex-direction: column;\n",
              "  align-items: center;\n",
              "  background-color: var(--sklearn-color-background);\n",
              "  padding-right: 1em;\n",
              "  padding-left: 1em;\n",
              "}\n",
              "\n",
              "\n",
              "/* Toggleable style: style used for estimator/Pipeline/ColumnTransformer box that is\n",
              "clickable and can be expanded/collapsed.\n",
              "- Pipeline and ColumnTransformer use this feature and define the default style\n",
              "- Estimators will overwrite some part of the style using the `sk-estimator` class\n",
              "*/\n",
              "\n",
              "/* Pipeline and ColumnTransformer style (default) */\n",
              "\n",
              "#sk-container-id-2 div.sk-toggleable {\n",
              "  /* Default theme specific background. It is overwritten whether we have a\n",
              "  specific estimator or a Pipeline/ColumnTransformer */\n",
              "  background-color: var(--sklearn-color-background);\n",
              "}\n",
              "\n",
              "/* Toggleable label */\n",
              "#sk-container-id-2 label.sk-toggleable__label {\n",
              "  cursor: pointer;\n",
              "  display: flex;\n",
              "  width: 100%;\n",
              "  margin-bottom: 0;\n",
              "  padding: 0.5em;\n",
              "  box-sizing: border-box;\n",
              "  text-align: center;\n",
              "  align-items: start;\n",
              "  justify-content: space-between;\n",
              "  gap: 0.5em;\n",
              "}\n",
              "\n",
              "#sk-container-id-2 label.sk-toggleable__label .caption {\n",
              "  font-size: 0.6rem;\n",
              "  font-weight: lighter;\n",
              "  color: var(--sklearn-color-text-muted);\n",
              "}\n",
              "\n",
              "#sk-container-id-2 label.sk-toggleable__label-arrow:before {\n",
              "  /* Arrow on the left of the label */\n",
              "  content: \"▸\";\n",
              "  float: left;\n",
              "  margin-right: 0.25em;\n",
              "  color: var(--sklearn-color-icon);\n",
              "}\n",
              "\n",
              "#sk-container-id-2 label.sk-toggleable__label-arrow:hover:before {\n",
              "  color: var(--sklearn-color-text);\n",
              "}\n",
              "\n",
              "/* Toggleable content - dropdown */\n",
              "\n",
              "#sk-container-id-2 div.sk-toggleable__content {\n",
              "  max-height: 0;\n",
              "  max-width: 0;\n",
              "  overflow: hidden;\n",
              "  text-align: left;\n",
              "  /* unfitted */\n",
              "  background-color: var(--sklearn-color-unfitted-level-0);\n",
              "}\n",
              "\n",
              "#sk-container-id-2 div.sk-toggleable__content.fitted {\n",
              "  /* fitted */\n",
              "  background-color: var(--sklearn-color-fitted-level-0);\n",
              "}\n",
              "\n",
              "#sk-container-id-2 div.sk-toggleable__content pre {\n",
              "  margin: 0.2em;\n",
              "  border-radius: 0.25em;\n",
              "  color: var(--sklearn-color-text);\n",
              "  /* unfitted */\n",
              "  background-color: var(--sklearn-color-unfitted-level-0);\n",
              "}\n",
              "\n",
              "#sk-container-id-2 div.sk-toggleable__content.fitted pre {\n",
              "  /* unfitted */\n",
              "  background-color: var(--sklearn-color-fitted-level-0);\n",
              "}\n",
              "\n",
              "#sk-container-id-2 input.sk-toggleable__control:checked~div.sk-toggleable__content {\n",
              "  /* Expand drop-down */\n",
              "  max-height: 200px;\n",
              "  max-width: 100%;\n",
              "  overflow: auto;\n",
              "}\n",
              "\n",
              "#sk-container-id-2 input.sk-toggleable__control:checked~label.sk-toggleable__label-arrow:before {\n",
              "  content: \"▾\";\n",
              "}\n",
              "\n",
              "/* Pipeline/ColumnTransformer-specific style */\n",
              "\n",
              "#sk-container-id-2 div.sk-label input.sk-toggleable__control:checked~label.sk-toggleable__label {\n",
              "  color: var(--sklearn-color-text);\n",
              "  background-color: var(--sklearn-color-unfitted-level-2);\n",
              "}\n",
              "\n",
              "#sk-container-id-2 div.sk-label.fitted input.sk-toggleable__control:checked~label.sk-toggleable__label {\n",
              "  background-color: var(--sklearn-color-fitted-level-2);\n",
              "}\n",
              "\n",
              "/* Estimator-specific style */\n",
              "\n",
              "/* Colorize estimator box */\n",
              "#sk-container-id-2 div.sk-estimator input.sk-toggleable__control:checked~label.sk-toggleable__label {\n",
              "  /* unfitted */\n",
              "  background-color: var(--sklearn-color-unfitted-level-2);\n",
              "}\n",
              "\n",
              "#sk-container-id-2 div.sk-estimator.fitted input.sk-toggleable__control:checked~label.sk-toggleable__label {\n",
              "  /* fitted */\n",
              "  background-color: var(--sklearn-color-fitted-level-2);\n",
              "}\n",
              "\n",
              "#sk-container-id-2 div.sk-label label.sk-toggleable__label,\n",
              "#sk-container-id-2 div.sk-label label {\n",
              "  /* The background is the default theme color */\n",
              "  color: var(--sklearn-color-text-on-default-background);\n",
              "}\n",
              "\n",
              "/* On hover, darken the color of the background */\n",
              "#sk-container-id-2 div.sk-label:hover label.sk-toggleable__label {\n",
              "  color: var(--sklearn-color-text);\n",
              "  background-color: var(--sklearn-color-unfitted-level-2);\n",
              "}\n",
              "\n",
              "/* Label box, darken color on hover, fitted */\n",
              "#sk-container-id-2 div.sk-label.fitted:hover label.sk-toggleable__label.fitted {\n",
              "  color: var(--sklearn-color-text);\n",
              "  background-color: var(--sklearn-color-fitted-level-2);\n",
              "}\n",
              "\n",
              "/* Estimator label */\n",
              "\n",
              "#sk-container-id-2 div.sk-label label {\n",
              "  font-family: monospace;\n",
              "  font-weight: bold;\n",
              "  display: inline-block;\n",
              "  line-height: 1.2em;\n",
              "}\n",
              "\n",
              "#sk-container-id-2 div.sk-label-container {\n",
              "  text-align: center;\n",
              "}\n",
              "\n",
              "/* Estimator-specific */\n",
              "#sk-container-id-2 div.sk-estimator {\n",
              "  font-family: monospace;\n",
              "  border: 1px dotted var(--sklearn-color-border-box);\n",
              "  border-radius: 0.25em;\n",
              "  box-sizing: border-box;\n",
              "  margin-bottom: 0.5em;\n",
              "  /* unfitted */\n",
              "  background-color: var(--sklearn-color-unfitted-level-0);\n",
              "}\n",
              "\n",
              "#sk-container-id-2 div.sk-estimator.fitted {\n",
              "  /* fitted */\n",
              "  background-color: var(--sklearn-color-fitted-level-0);\n",
              "}\n",
              "\n",
              "/* on hover */\n",
              "#sk-container-id-2 div.sk-estimator:hover {\n",
              "  /* unfitted */\n",
              "  background-color: var(--sklearn-color-unfitted-level-2);\n",
              "}\n",
              "\n",
              "#sk-container-id-2 div.sk-estimator.fitted:hover {\n",
              "  /* fitted */\n",
              "  background-color: var(--sklearn-color-fitted-level-2);\n",
              "}\n",
              "\n",
              "/* Specification for estimator info (e.g. \"i\" and \"?\") */\n",
              "\n",
              "/* Common style for \"i\" and \"?\" */\n",
              "\n",
              ".sk-estimator-doc-link,\n",
              "a:link.sk-estimator-doc-link,\n",
              "a:visited.sk-estimator-doc-link {\n",
              "  float: right;\n",
              "  font-size: smaller;\n",
              "  line-height: 1em;\n",
              "  font-family: monospace;\n",
              "  background-color: var(--sklearn-color-background);\n",
              "  border-radius: 1em;\n",
              "  height: 1em;\n",
              "  width: 1em;\n",
              "  text-decoration: none !important;\n",
              "  margin-left: 0.5em;\n",
              "  text-align: center;\n",
              "  /* unfitted */\n",
              "  border: var(--sklearn-color-unfitted-level-1) 1pt solid;\n",
              "  color: var(--sklearn-color-unfitted-level-1);\n",
              "}\n",
              "\n",
              ".sk-estimator-doc-link.fitted,\n",
              "a:link.sk-estimator-doc-link.fitted,\n",
              "a:visited.sk-estimator-doc-link.fitted {\n",
              "  /* fitted */\n",
              "  border: var(--sklearn-color-fitted-level-1) 1pt solid;\n",
              "  color: var(--sklearn-color-fitted-level-1);\n",
              "}\n",
              "\n",
              "/* On hover */\n",
              "div.sk-estimator:hover .sk-estimator-doc-link:hover,\n",
              ".sk-estimator-doc-link:hover,\n",
              "div.sk-label-container:hover .sk-estimator-doc-link:hover,\n",
              ".sk-estimator-doc-link:hover {\n",
              "  /* unfitted */\n",
              "  background-color: var(--sklearn-color-unfitted-level-3);\n",
              "  color: var(--sklearn-color-background);\n",
              "  text-decoration: none;\n",
              "}\n",
              "\n",
              "div.sk-estimator.fitted:hover .sk-estimator-doc-link.fitted:hover,\n",
              ".sk-estimator-doc-link.fitted:hover,\n",
              "div.sk-label-container:hover .sk-estimator-doc-link.fitted:hover,\n",
              ".sk-estimator-doc-link.fitted:hover {\n",
              "  /* fitted */\n",
              "  background-color: var(--sklearn-color-fitted-level-3);\n",
              "  color: var(--sklearn-color-background);\n",
              "  text-decoration: none;\n",
              "}\n",
              "\n",
              "/* Span, style for the box shown on hovering the info icon */\n",
              ".sk-estimator-doc-link span {\n",
              "  display: none;\n",
              "  z-index: 9999;\n",
              "  position: relative;\n",
              "  font-weight: normal;\n",
              "  right: .2ex;\n",
              "  padding: .5ex;\n",
              "  margin: .5ex;\n",
              "  width: min-content;\n",
              "  min-width: 20ex;\n",
              "  max-width: 50ex;\n",
              "  color: var(--sklearn-color-text);\n",
              "  box-shadow: 2pt 2pt 4pt #999;\n",
              "  /* unfitted */\n",
              "  background: var(--sklearn-color-unfitted-level-0);\n",
              "  border: .5pt solid var(--sklearn-color-unfitted-level-3);\n",
              "}\n",
              "\n",
              ".sk-estimator-doc-link.fitted span {\n",
              "  /* fitted */\n",
              "  background: var(--sklearn-color-fitted-level-0);\n",
              "  border: var(--sklearn-color-fitted-level-3);\n",
              "}\n",
              "\n",
              ".sk-estimator-doc-link:hover span {\n",
              "  display: block;\n",
              "}\n",
              "\n",
              "/* \"?\"-specific style due to the `<a>` HTML tag */\n",
              "\n",
              "#sk-container-id-2 a.estimator_doc_link {\n",
              "  float: right;\n",
              "  font-size: 1rem;\n",
              "  line-height: 1em;\n",
              "  font-family: monospace;\n",
              "  background-color: var(--sklearn-color-background);\n",
              "  border-radius: 1rem;\n",
              "  height: 1rem;\n",
              "  width: 1rem;\n",
              "  text-decoration: none;\n",
              "  /* unfitted */\n",
              "  color: var(--sklearn-color-unfitted-level-1);\n",
              "  border: var(--sklearn-color-unfitted-level-1) 1pt solid;\n",
              "}\n",
              "\n",
              "#sk-container-id-2 a.estimator_doc_link.fitted {\n",
              "  /* fitted */\n",
              "  border: var(--sklearn-color-fitted-level-1) 1pt solid;\n",
              "  color: var(--sklearn-color-fitted-level-1);\n",
              "}\n",
              "\n",
              "/* On hover */\n",
              "#sk-container-id-2 a.estimator_doc_link:hover {\n",
              "  /* unfitted */\n",
              "  background-color: var(--sklearn-color-unfitted-level-3);\n",
              "  color: var(--sklearn-color-background);\n",
              "  text-decoration: none;\n",
              "}\n",
              "\n",
              "#sk-container-id-2 a.estimator_doc_link.fitted:hover {\n",
              "  /* fitted */\n",
              "  background-color: var(--sklearn-color-fitted-level-3);\n",
              "}\n",
              "</style><div id=\"sk-container-id-2\" class=\"sk-top-container\"><div class=\"sk-text-repr-fallback\"><pre>Pipeline(steps=[(&#x27;preprocessor&#x27;,\n",
              "                 FunctionTransformer(func=&lt;function &lt;lambda&gt; at 0x16c003b00&gt;)),\n",
              "                (&#x27;tfidf&#x27;,\n",
              "                 TfidfVectorizer(max_df=0.8, max_features=10000, min_df=5,\n",
              "                                 stop_words=&#x27;english&#x27;)),\n",
              "                (&#x27;logreg&#x27;,\n",
              "                 LogisticRegression(class_weight=&#x27;balanced&#x27;, max_iter=1000))])</pre><b>In a Jupyter environment, please rerun this cell to show the HTML representation or trust the notebook. <br />On GitHub, the HTML representation is unable to render, please try loading this page with nbviewer.org.</b></div><div class=\"sk-container\" hidden><div class=\"sk-item sk-dashed-wrapped\"><div class=\"sk-label-container\"><div class=\"sk-label  sk-toggleable\"><input class=\"sk-toggleable__control sk-hidden--visually\" id=\"sk-estimator-id-5\" type=\"checkbox\" ><label for=\"sk-estimator-id-5\" class=\"sk-toggleable__label  sk-toggleable__label-arrow\"><div><div>Pipeline</div></div><div><a class=\"sk-estimator-doc-link \" rel=\"noreferrer\" target=\"_blank\" href=\"https://scikit-learn.org/1.6/modules/generated/sklearn.pipeline.Pipeline.html\">?<span>Documentation for Pipeline</span></a><span class=\"sk-estimator-doc-link \">i<span>Not fitted</span></span></div></label><div class=\"sk-toggleable__content \"><pre>Pipeline(steps=[(&#x27;preprocessor&#x27;,\n",
              "                 FunctionTransformer(func=&lt;function &lt;lambda&gt; at 0x16c003b00&gt;)),\n",
              "                (&#x27;tfidf&#x27;,\n",
              "                 TfidfVectorizer(max_df=0.8, max_features=10000, min_df=5,\n",
              "                                 stop_words=&#x27;english&#x27;)),\n",
              "                (&#x27;logreg&#x27;,\n",
              "                 LogisticRegression(class_weight=&#x27;balanced&#x27;, max_iter=1000))])</pre></div> </div></div><div class=\"sk-serial\"><div class=\"sk-item\"><div class=\"sk-estimator  sk-toggleable\"><input class=\"sk-toggleable__control sk-hidden--visually\" id=\"sk-estimator-id-6\" type=\"checkbox\" ><label for=\"sk-estimator-id-6\" class=\"sk-toggleable__label  sk-toggleable__label-arrow\"><div><div>&lt;lambda&gt;</div><div class=\"caption\">FunctionTransformer</div></div><div><a class=\"sk-estimator-doc-link \" rel=\"noreferrer\" target=\"_blank\" href=\"https://scikit-learn.org/1.6/modules/generated/sklearn.preprocessing.FunctionTransformer.html\">?<span>Documentation for FunctionTransformer</span></a></div></label><div class=\"sk-toggleable__content \"><pre>FunctionTransformer(func=&lt;function &lt;lambda&gt; at 0x16c003b00&gt;)</pre></div> </div></div><div class=\"sk-item\"><div class=\"sk-estimator  sk-toggleable\"><input class=\"sk-toggleable__control sk-hidden--visually\" id=\"sk-estimator-id-7\" type=\"checkbox\" ><label for=\"sk-estimator-id-7\" class=\"sk-toggleable__label  sk-toggleable__label-arrow\"><div><div>TfidfVectorizer</div></div><div><a class=\"sk-estimator-doc-link \" rel=\"noreferrer\" target=\"_blank\" href=\"https://scikit-learn.org/1.6/modules/generated/sklearn.feature_extraction.text.TfidfVectorizer.html\">?<span>Documentation for TfidfVectorizer</span></a></div></label><div class=\"sk-toggleable__content \"><pre>TfidfVectorizer(max_df=0.8, max_features=10000, min_df=5, stop_words=&#x27;english&#x27;)</pre></div> </div></div><div class=\"sk-item\"><div class=\"sk-estimator  sk-toggleable\"><input class=\"sk-toggleable__control sk-hidden--visually\" id=\"sk-estimator-id-8\" type=\"checkbox\" ><label for=\"sk-estimator-id-8\" class=\"sk-toggleable__label  sk-toggleable__label-arrow\"><div><div>LogisticRegression</div></div><div><a class=\"sk-estimator-doc-link \" rel=\"noreferrer\" target=\"_blank\" href=\"https://scikit-learn.org/1.6/modules/generated/sklearn.linear_model.LogisticRegression.html\">?<span>Documentation for LogisticRegression</span></a></div></label><div class=\"sk-toggleable__content \"><pre>LogisticRegression(class_weight=&#x27;balanced&#x27;, max_iter=1000)</pre></div> </div></div></div></div></div></div>"
            ],
            "text/plain": [
              "Pipeline(steps=[('preprocessor',\n",
              "                 FunctionTransformer(func=<function <lambda> at 0x16c003b00>)),\n",
              "                ('tfidf',\n",
              "                 TfidfVectorizer(max_df=0.8, max_features=10000, min_df=5,\n",
              "                                 stop_words='english')),\n",
              "                ('logreg',\n",
              "                 LogisticRegression(class_weight='balanced', max_iter=1000))])"
            ]
          },
          "execution_count": 18,
          "metadata": {},
          "output_type": "execute_result"
        }
      ],
      "source": [
        "# Import necessary libraries for TF-IDF and Logistic Regression\n",
        "from sklearn.feature_extraction.text import TfidfVectorizer\n",
        "from sklearn.linear_model import LogisticRegression\n",
        "from sklearn.pipeline import Pipeline\n",
        "from sklearn.metrics import accuracy_score, precision_score, recall_score, f1_score\n",
        "from sklearn.preprocessing import FunctionTransformer\n",
        "\n",
        "# For demonstration, we define a very simple text preprocessor (could be extended)\n",
        "import re\n",
        "\n",
        "def simple_preprocessor(text):\n",
        "    # Lowercase and remove non-alphabetic characters\n",
        "    text = text.lower()\n",
        "    text = re.sub(r'[^a-z\\s]', '', text)\n",
        "    return text\n",
        "\n",
        "# Example hyperparameter settings for TfidfVectorizer\n",
        "tfidf_params = {\n",
        "    \"stop_words\": \"english\",           # Remove English stop words\n",
        "    \"tokenizer\": None,                   # Use default tokenizer; can be replaced by a custom one\n",
        "    \"analyzer\": \"word\",                # Analyze words (as opposed to characters)\n",
        "    \"min_df\": 5,                         # Ignore terms that appear in fewer than 5 documents\n",
        "    \"max_df\": 0.8,                       # Ignore terms that appear in more than 80% of the documents\n",
        "    \"ngram_range\": (1, 1),               # Unigrams by default (can change to (1,2) for bigrams, etc.)\n",
        "    \"max_features\": 10000                # Limit vocabulary size\n",
        "}\n",
        "\n",
        "# Create the pipeline\n",
        "pipeline = Pipeline([\n",
        "    (\"preprocessor\", FunctionTransformer(lambda X: [simple_preprocessor(text) for text in X])),\n",
        "    (\"tfidf\", TfidfVectorizer(**tfidf_params)),\n",
        "    (\"logreg\", LogisticRegression(\n",
        "         # See https://scikit-learn.org/stable/modules/generated/sklearn.linear_model.LogisticRegression.html\n",
        "         # Regularization: C is the inverse of regularization strength (smaller values specify stronger regularization)\n",
        "         # class_weight: can be set to 'balanced' to automatically adjust weights inversely proportional to class frequencies\n",
        "         C=1.0,\n",
        "         penalty='l2',\n",
        "         solver='lbfgs',\n",
        "         max_iter=1000,\n",
        "         class_weight='balanced'\n",
        "     ))\n",
        "])\n",
        "\n",
        "# Display the pipeline steps\n",
        "pipeline"
      ]
    },
    {
      "cell_type": "markdown",
      "metadata": {},
      "source": [
        "## 2. Hyperparameter Examples for TF-IDF\n",
        "\n",
        "Below are some key parameters for the TF-IDF vectorizer with brief explanations:\n",
        "\n",
        "- **stop_words**: Words to remove (e.g., \"english\" removes common English stop words).\n",
        "- **tokenizer**: Function to split text into tokens. You can provide your own function.\n",
        "- **analyzer**: Determines whether the analyzer operates on word or character level.\n",
        "- **min_df**: Minimum document frequency; ignore terms that appear in fewer documents.\n",
        "- **max_df**: Maximum document frequency; ignore terms that appear in a large proportion of documents.\n",
        "- **ngram_range**: The range of n-values for different n-grams to be extracted (e.g., (1,2) for unigrams and bigrams).\n",
        "- **max_features**: Maximum number of features (vocabulary size) to consider.\n",
        "- **vocabulary**: Optionally, you can pass a custom vocabulary.\n",
        "\n",
        "Below are examples of how those parameters affect the feature matrix.\n",
        "\n",
        "### Stop_words\n",
        "**Description:** Removes common words from the text.  \n",
        "**Example:** Remove common English stop words."
      ]
    },
    {
      "cell_type": "code",
      "execution_count": 3,
      "metadata": {},
      "outputs": [
        {
          "name": "stdout",
          "output_type": "stream",
          "text": [
            "Features with stop_words='english': ['document' 'sample' 'text']\n",
            "Features without stop_words: ['another' 'document' 'is' 'more' 'sample' 'text' 'this' 'with']\n"
          ]
        }
      ],
      "source": [
        "from sklearn.feature_extraction.text import TfidfVectorizer\n",
        "\n",
        "# Using built-in stop words for English\n",
        "vectorizer1 = TfidfVectorizer(stop_words=\"english\")\n",
        "vectorizer2 = TfidfVectorizer(stop_words=None)\n",
        "\n",
        "documents = [\"This is a sample document.\", \"Another document with more text.\"]\n",
        "\n",
        "tfidf_matrix1 = vectorizer1.fit_transform(documents)\n",
        "tfidf_matrix2 = vectorizer2.fit_transform(documents)\n",
        "\n",
        "print(\"Features with stop_words='english':\", vectorizer1.get_feature_names_out())\n",
        "print(\"Features without stop_words:\", vectorizer2.get_feature_names_out())"
      ]
    },
    {
      "cell_type": "markdown",
      "metadata": {},
      "source": [
        "### Tokenizer\n",
        "**Description:** Function to split text into tokens.  \n",
        "**Example:** Use a custom tokenizer.\n",
        "\n",
        "You'll see a warning when you use a custom tokenizer as you won't be using the default `token_pattern` anymore."
      ]
    },
    {
      "cell_type": "code",
      "execution_count": 17,
      "metadata": {},
      "outputs": [
        {
          "name": "stdout",
          "output_type": "stream",
          "text": [
            "Tokens using custom tokenizer: ['an' 'custom' 'example' 'happy' 'hello' 'im' 'is' 'see' 'this' 'to'\n",
            " 'tokenizer' 'well' 'works' 'world' 'you']\n",
            "Tokens without custom tokenizer: ['an' 'custom' 'example' 'happy' 'hello' 'is' 'see' 'this' 'to'\n",
            " 'tokenizer' 'well' 'works' 'world' 'you']\n"
          ]
        },
        {
          "name": "stderr",
          "output_type": "stream",
          "text": [
            "/Users/agomberto/Library/Caches/pypoetry/virtualenvs/bse-nlp-DetGwK6_-py3.11/lib/python3.11/site-packages/sklearn/feature_extraction/text.py:517: UserWarning: The parameter 'token_pattern' will not be used since 'tokenizer' is not None'\n",
            "  warnings.warn(\n"
          ]
        }
      ],
      "source": [
        "def custom_tokenizer(text):\n",
        "    # Remove punctuation and split by whitespace\n",
        "    text = re.sub(r'[^\\w\\s]', '', text)\n",
        "    return text.lower().split()\n",
        "\n",
        "vectorizer1 = TfidfVectorizer(tokenizer=custom_tokenizer)\n",
        "vectorizer2 = TfidfVectorizer(tokenizer=None)\n",
        "\n",
        "documents = [\"Hello, world! This is an example. I'm happy to see you.\", \"Custom tokenizer works well.\"]\n",
        "\n",
        "tfidf_matrix1 = vectorizer1.fit_transform(documents)\n",
        "tfidf_matrix2 = vectorizer2.fit_transform(documents)\n",
        "\n",
        "print(\"Tokens using custom tokenizer:\", vectorizer1.get_feature_names_out())\n",
        "print(\"Tokens without custom tokenizer:\", vectorizer2.get_feature_names_out())"
      ]
    },
    {
      "cell_type": "markdown",
      "metadata": {},
      "source": [
        "### Analyzer\n",
        "**Description:** Determines whether the analyzer operates on word or character level.  \n",
        "**Example:** Analyze words, characters or character-word boundary.\n",
        "\n",
        "‘char_wb’ creates character n-grams only from text inside word boundaries."
      ]
    },
    {
      "cell_type": "code",
      "execution_count": 9,
      "metadata": {},
      "outputs": [
        {
          "name": "stdout",
          "output_type": "stream",
          "text": [
            "Character n-grams as features: [' a' ' a ' ' a s' ' d' ' do' ' doc' ' i' ' is' ' is ' ' m' ' mo' ' mor'\n",
            " ' s' ' sa' ' sam' ' t' ' te' ' tex' ' w' ' wi' ' wit' 'a ' 'a s' 'a sa'\n",
            " 'am' 'amp' 'ampl' 'an' 'ano' 'anot' 'cu' 'cum' 'cume' 'do' 'doc' 'docu'\n",
            " 'e ' 'e d' 'e do' 'e t' 'e te' 'en' 'ent' 'ent ' 'ent.' 'er' 'er ' 'er d'\n",
            " 'ex' 'ext' 'ext.' 'h ' 'h m' 'h mo' 'he' 'her' 'her ' 'hi' 'his' 'his '\n",
            " 'is' 'is ' 'is a' 'is i' 'it' 'ith' 'ith ' 'le' 'le ' 'le d' 'me' 'men'\n",
            " 'ment' 'mo' 'mor' 'more' 'mp' 'mpl' 'mple' 'no' 'not' 'noth' 'nt' 'nt '\n",
            " 'nt w' 'nt.' 'oc' 'ocu' 'ocum' 'or' 'ore' 'ore ' 'ot' 'oth' 'othe' 'pl'\n",
            " 'ple' 'ple ' 'r ' 'r d' 'r do' 're' 're ' 're t' 's ' 's a' 's a ' 's i'\n",
            " 's is' 'sa' 'sam' 'samp' 't ' 't w' 't wi' 't.' 'te' 'tex' 'text' 'th'\n",
            " 'th ' 'th m' 'the' 'ther' 'thi' 'this' 'um' 'ume' 'umen' 'wi' 'wit'\n",
            " 'with' 'xt' 'xt.']\n",
            "Character-word boundary n-grams as features: [' a' ' a ' ' an' ' ano' ' d' ' do' ' doc' ' i' ' is' ' is ' ' m' ' mo'\n",
            " ' mor' ' s' ' sa' ' sam' ' t' ' te' ' tex' ' th' ' thi' ' w' ' wi' ' wit'\n",
            " '. ' 'a ' 'am' 'amp' 'ampl' 'an' 'ano' 'anot' 'cu' 'cum' 'cume' 'do'\n",
            " 'doc' 'docu' 'e ' 'en' 'ent' 'ent ' 'ent.' 'er' 'er ' 'ex' 'ext' 'ext.'\n",
            " 'h ' 'he' 'her' 'her ' 'hi' 'his' 'his ' 'is' 'is ' 'it' 'ith' 'ith '\n",
            " 'le' 'le ' 'me' 'men' 'ment' 'mo' 'mor' 'more' 'mp' 'mpl' 'mple' 'no'\n",
            " 'not' 'noth' 'nt' 'nt ' 'nt.' 'nt. ' 'oc' 'ocu' 'ocum' 'or' 'ore' 'ore '\n",
            " 'ot' 'oth' 'othe' 'pl' 'ple' 'ple ' 'r ' 're' 're ' 's ' 'sa' 'sam'\n",
            " 'samp' 't ' 't.' 't. ' 'te' 'tex' 'text' 'th' 'th ' 'the' 'ther' 'thi'\n",
            " 'this' 'um' 'ume' 'umen' 'wi' 'wit' 'with' 'xt' 'xt.' 'xt. ']\n",
            "Word n-grams as features: ['another document' 'another document with' 'another document with more'\n",
            " 'document with' 'document with more' 'document with more text'\n",
            " 'is sample' 'is sample document' 'more text' 'sample document' 'this is'\n",
            " 'this is sample' 'this is sample document' 'with more' 'with more text']\n"
          ]
        }
      ],
      "source": [
        "# Use character analyzer (each character n-gram will be a feature)\n",
        "vectorizer1 = TfidfVectorizer(analyzer=\"char\", ngram_range=(2, 4))\n",
        "vectorizer2 = TfidfVectorizer(analyzer=\"word\", ngram_range=(2, 4))\n",
        "vectorizer3 = TfidfVectorizer(analyzer=\"char_wb\", ngram_range=(2, 4))\n",
        "\n",
        "documents = [\"This is a sample document.\", \"Another document with more text.\"]\n",
        "\n",
        "tfidf_matrix1 = vectorizer1.fit_transform(documents)\n",
        "tfidf_matrix2 = vectorizer2.fit_transform(documents)\n",
        "tfidf_matrix3 = vectorizer3.fit_transform(documents)\n",
        "\n",
        "print(\"Character n-grams as features:\", vectorizer1.get_feature_names_out())\n",
        "print(\"Character-word boundary n-grams as features:\", vectorizer3.get_feature_names_out())\n",
        "print(\"Word n-grams as features:\", vectorizer2.get_feature_names_out())\n"
      ]
    },
    {
      "cell_type": "markdown",
      "metadata": {},
      "source": [
        "### Min_df and Max_df\n",
        "**Description:** Minimum and maximum document frequencies for terms to be included in the vocabulary.  \n",
        "**Example:** Include terms that appear in at least 5 documents and at most 80% of the documents.\n",
        "\n",
        "In the following example, we see that the features map is changing when we change the `min_df` and `max_df` parameters."
      ]
    },
    {
      "cell_type": "code",
      "execution_count": 10,
      "metadata": {},
      "outputs": [
        {
          "name": "stdout",
          "output_type": "stream",
          "text": [
            "Features without min_df and max_df: ['another' 'document' 'is' 'more' 'sample' 'text' 'this' 'with']\n",
            "Features with min_df=2: ['another' 'document' 'is' 'this']\n",
            "Features with max_df=0.8: ['another' 'is' 'more' 'sample' 'text' 'this' 'with']\n"
          ]
        }
      ],
      "source": [
        "vectorizer0 = TfidfVectorizer()\n",
        "vectorizer1 = TfidfVectorizer(min_df=2)\n",
        "vectorizer2 = TfidfVectorizer(max_df=0.8)\n",
        "\n",
        "documents = [\"This is a sample document.\", \"Another document with more text.\", \"This is another document.\"]\n",
        "\n",
        "\n",
        "tfidf_matrix0 = vectorizer0.fit_transform(documents)\n",
        "tfidf_matrix1 = vectorizer1.fit_transform(documents)\n",
        "tfidf_matrix2 = vectorizer2.fit_transform(documents)\n",
        "\n",
        "print(\"Features without min_df and max_df:\", vectorizer0.get_feature_names_out())\n",
        "print(\"Features with min_df=2:\", vectorizer1.get_feature_names_out())\n",
        "print(\"Features with max_df=0.8:\", vectorizer2.get_feature_names_out())"
      ]
    },
    {
      "cell_type": "markdown",
      "metadata": {},
      "source": [
        "### N-gram Range\n",
        "**Description:** The range of n-values for different n-grams to be extracted (e.g., (1,2) for unigrams and bigrams).  \n",
        "**Example:** Extract unigrams and bigrams."
      ]
    },
    {
      "cell_type": "code",
      "execution_count": 11,
      "metadata": {},
      "outputs": [
        {
          "name": "stdout",
          "output_type": "stream",
          "text": [
            "Features with ngram_range=(1,2): ['another' 'another test' 'example' 'is' 'is test' 'test' 'test example'\n",
            " 'this' 'this is']\n",
            "Features with ngram_range=(1,3): ['another' 'another test' 'another test example' 'example' 'is' 'is test'\n",
            " 'test' 'test example' 'this' 'this is' 'this is test']\n"
          ]
        }
      ],
      "source": [
        "vectorizer1 = TfidfVectorizer(ngram_range=(1, 2))\n",
        "vectorizer2 = TfidfVectorizer(ngram_range=(1, 3))\n",
        "\n",
        "documents = [\"this is a test\", \"another test example\"]\n",
        "\n",
        "tfidf_matrix1 = vectorizer1.fit_transform(documents)\n",
        "tfidf_matrix2 = vectorizer2.fit_transform(documents)\n",
        "\n",
        "print(\"Features with ngram_range=(1,2):\", vectorizer1.get_feature_names_out())\n",
        "print(\"Features with ngram_range=(1,3):\", vectorizer2.get_feature_names_out())"
      ]
    },
    {
      "cell_type": "markdown",
      "metadata": {},
      "source": [
        "### Max_features\n",
        "**Description:** Maximum number of features (vocabulary size) to consider.  \n",
        "**Example:** Limit the vocabulary size to 2.\n",
        "\n",
        "Only consider the top `max_features` ordered by term frequency across the corpus.\n"
      ]
    },
    {
      "cell_type": "code",
      "execution_count": 12,
      "metadata": {},
      "outputs": [
        {
          "name": "stdout",
          "output_type": "stream",
          "text": [
            "Features with max_features=3: ['document' 'is' 'lot']\n"
          ]
        }
      ],
      "source": [
        "vectorizer = TfidfVectorizer(max_features=3)\n",
        "documents = [\"This is a document with a lot of words\", \"This is another document with a lot of words\"]\n",
        "tfidf_matrix = vectorizer.fit_transform(documents)\n",
        "print(\"Features with max_features=3:\", vectorizer.get_feature_names_out())"
      ]
    },
    {
      "cell_type": "markdown",
      "metadata": {},
      "source": [
        "### Vocabulary\n",
        "**Description:** Optionally, you can pass a custom vocabulary.  \n",
        "**Example:** Use a custom vocabulary.\n",
        "\n",
        "The feature map will be the intersection of the vocabulary and the features in the corpus."
      ]
    },
    {
      "cell_type": "code",
      "execution_count": 15,
      "metadata": {},
      "outputs": [
        {
          "name": "stdout",
          "output_type": "stream",
          "text": [
            "Features using custom vocabulary: ['data' 'science' 'machine' 'learning']\n",
            "Features using custom vocabulary: ['data' 'science' 'machine' 'is' 'amazing']\n"
          ]
        }
      ],
      "source": [
        "custom_vocab1 = {\"data\": 0, \"science\": 1, \"machine\": 2, \"learning\": 3}\n",
        "custom_vocab2 = {\"data\": 0, \"science\": 1, \"machine\": 2, \"is\": 3, \"amazing\": 4}\n",
        "\n",
        "vectorizer1 = TfidfVectorizer(vocabulary=custom_vocab1)\n",
        "vectorizer2 = TfidfVectorizer(vocabulary=custom_vocab2)\n",
        "\n",
        "documents = [\"data science is amazing\", \"machine learning is part of data science\"]\n",
        "\n",
        "tfidf_matrix1 = vectorizer1.fit_transform(documents)\n",
        "tfidf_matrix2 = vectorizer2.fit_transform(documents)\n",
        "\n",
        "print(\"Features using custom vocabulary:\", vectorizer1.get_feature_names_out())\n",
        "print(\"Features using custom vocabulary:\", vectorizer2.get_feature_names_out())"
      ]
    },
    {
      "cell_type": "markdown",
      "metadata": {},
      "source": [
        "## 3. Train the Model and Evaluate\n",
        "\n",
        "We now train our pipeline on the training set, evaluate on the dev set, and finally check performance on the test set.\n",
        "\n",
        "You'll see below that this is straightforward as we just need to call the `fit` method on the training set and then the `predict` method on the dev and test sets."
      ]
    },
    {
      "cell_type": "code",
      "execution_count": 19,
      "metadata": {},
      "outputs": [
        {
          "name": "stdout",
          "output_type": "stream",
          "text": [
            "Dev Set Metrics:\n",
            "Accuracy: 85.31%\n",
            "Precision: 84.16%\n",
            "Recall: 87.00%\n",
            "F1-score: 85.56%\n",
            "\n",
            "Test Set Metrics:\n",
            "Accuracy: 85.23%\n",
            "Precision: 83.31%\n",
            "Recall: 86.71%\n",
            "F1-score: 84.98%\n"
          ]
        }
      ],
      "source": [
        "# Train the model\n",
        "pipeline.fit(train_df[\"text\"], train_df[\"label\"])\n",
        "\n",
        "# Evaluate on dev set\n",
        "dev_preds = pipeline.predict(dev_df[\"text\"])\n",
        "dev_accuracy = accuracy_score(dev_df[\"label\"], dev_preds)\n",
        "dev_precision = precision_score(dev_df[\"label\"], dev_preds)\n",
        "dev_recall = recall_score(dev_df[\"label\"], dev_preds)\n",
        "dev_f1 = f1_score(dev_df[\"label\"], dev_preds)\n",
        "\n",
        "print(\"Dev Set Metrics:\")\n",
        "print(f\"Accuracy: {dev_accuracy*100:.2f}%\")\n",
        "print(f\"Precision: {dev_precision*100:.2f}%\")\n",
        "print(f\"Recall: {dev_recall*100:.2f}%\")\n",
        "print(f\"F1-score: {dev_f1*100:.2f}%\")\n",
        "\n",
        "# Evaluate on test set\n",
        "test_preds = pipeline.predict(test_df[\"text\"])\n",
        "test_accuracy = accuracy_score(test_df[\"label\"], test_preds)\n",
        "test_precision = precision_score(test_df[\"label\"], test_preds)\n",
        "test_recall = recall_score(test_df[\"label\"], test_preds)\n",
        "test_f1 = f1_score(test_df[\"label\"], test_preds)\n",
        "\n",
        "print(\"\\nTest Set Metrics:\")\n",
        "print(f\"Accuracy: {test_accuracy*100:.2f}%\")\n",
        "print(f\"Precision: {test_precision*100:.2f}%\")\n",
        "print(f\"Recall: {test_recall*100:.2f}%\")\n",
        "print(f\"F1-score: {test_f1*100:.2f}%\")"
      ]
    },
    {
      "cell_type": "markdown",
      "metadata": {},
      "source": [
        "Results are quite good if we compare to the random baseline (50% F1). We outperform the baseline by a large margin. We also see that the results of precision and recall are quite good around 85% without a clear decrepancy between the two.\n",
        "\n",
        "Let's look at the feature importance analysis to understand which tokens drive the predictions and maybe find some interesting patterns that will help us improve the pipeline."
      ]
    },
    {
      "cell_type": "markdown",
      "metadata": {},
      "source": [
        "## 4. Feature Importance Analysis\n",
        "\n",
        "After training, we analyze the learned logistic regression coefficients to understand which tokens drive the predictions.\n",
        "\n",
        "a. **Contribution of Each Token**: We extract the coefficient for each feature (token).\n",
        "b. **Visual Examples**: We'll highlight tokens in some example reviews (this example uses HTML formatting for color).\n",
        "c. **Ranking Top Tokens**: We rank tokens for each class (positive and negative)."
      ]
    },
    {
      "cell_type": "code",
      "execution_count": 29,
      "metadata": {},
      "outputs": [
        {
          "data": {
            "image/png": "[encoded data removed]",
            "text/plain": [
              "<Figure size 1000x500 with 2 Axes>"
            ]
          },
          "metadata": {},
          "output_type": "display_data"
        }
      ],
      "source": [
        "from IPython.display import display, HTML\n",
        "from matplotlib import pyplot as plt\n",
        "import pandas as pd\n",
        "\n",
        "# Get the trained Logistic Regression model from the pipeline\n",
        "logreg = pipeline.named_steps['logreg']\n",
        "tfidf = pipeline.named_steps['tfidf']\n",
        "\n",
        "# Get feature names (tokens)\n",
        "feature_names = np.array(tfidf.get_feature_names_out())\n",
        "\n",
        "# Logistic Regression coefficients\n",
        "coefficients = logreg.coef_[0]\n",
        "\n",
        "# a. Contribution of each token\n",
        "# Create a DataFrame to display tokens and their coefficients\n",
        "coef_df = pd.DataFrame({\n",
        "    'token': feature_names,\n",
        "    'coefficient': coefficients\n",
        "})\n",
        "\n",
        "# b. Top tokens for positive (assumed label 1) and negative (assumed label 0) sentiment\n",
        "top_positive = coef_df.sort_values(by='coefficient', ascending=False).head(20)\n",
        "top_negative = coef_df.sort_values(by='coefficient').head(20)\n",
        "\n",
        "#Make an horizontal plot of the top tokens for positive and negative sentiment\n",
        "fig, ax = plt.subplots(nrows=1, ncols=2, figsize=(10, 5))\n",
        "\n",
        "ax[0].barh(top_positive['token'], top_positive['coefficient'], color='green')\n",
        "ax[1].barh(top_negative['token'], top_negative['coefficient'], color='red')\n",
        "ax[0].set_xlabel('Coefficient')\n",
        "ax[0].set_ylabel('Tokens')\n",
        "ax[0].set_title('Top Tokens for Positive Sentiment')\n",
        "ax[1].set_xlabel('Coefficient')\n",
        "ax[1].set_ylabel('Tokens')\n",
        "ax[1].set_title('Top Tokens for Negative Sentiment')\n",
        "\n",
        "plt.tight_layout()\n",
        "plt.show()\n"
      ]
    },
    {
      "cell_type": "markdown",
      "metadata": {},
      "source": [
        "We see interesting patterns here. For positive label, the top tokens are mostly related to sentiment. Words like \"great\", \"wonderful\", \"excellent\", \"fantastic\" are all positive words. For negative label, the top tokens are mostly related to sentiment. Words like \"bad\", \"terrible\", \"horrible\", \"awful\" are all negative words.\n",
        "\n",
        "Nevertheless, we see some tokens that are not related to sentiment but are still important for the classification. For example, \"today\" or \"script\" are important for the classification but they are not related to sentiment. It looks like the model overfits on those tokens because they may be present too many times in the corpus for positive or negative reviews.\n",
        "\n",
        "Let's check that hypothesis by looking at the probability to have a positive or negative review depending on the presence of a token.\n"
      ]
    },
    {
      "cell_type": "code",
      "execution_count": 37,
      "metadata": {},
      "outputs": [
        {
          "name": "stdout",
          "output_type": "stream",
          "text": [
            "Words most associated with positive sentiment:\n",
            "             P(positive|word)  count\n",
            "katey                     1.0      5\n",
            "kline                     1.0     12\n",
            "haines                    1.0      7\n",
            "bittersweet               1.0     10\n",
            "curr                      1.0      5\n",
            "knockout                  1.0      8\n",
            "tate                      1.0      5\n",
            "adele                     1.0      5\n",
            "askey                     1.0      6\n",
            "johansson                 1.0      9\n",
            "christina                 1.0      8\n",
            "krell                     1.0      6\n",
            "waterman                  1.0      5\n",
            "fido                      1.0      5\n",
            "jonestown                 1.0      6\n",
            "joss                      1.0      8\n",
            "harilal                   1.0      5\n",
            "rotoscoped                1.0      6\n",
            "bjm                       1.0      5\n",
            "daisies                   1.0      5\n",
            "\n",
            "Words most associated with negative sentiment:\n",
            "             P(negative|word)  count\n",
            "reb                       1.0      5\n",
            "mercifully                1.0      8\n",
            "uwe                       1.0     12\n",
            "dung                      1.0     10\n",
            "unwatchable               1.0     33\n",
            "nope                      1.0     13\n",
            "ninjas                    1.0      9\n",
            "hams                      1.0     10\n",
            "bigfoot                   1.0      5\n",
            "biehn                     1.0      6\n",
            "slater                    1.0      6\n",
            "beowulf                   1.0      5\n",
            "retirement                1.0      7\n",
            "sleeve                    1.0      9\n",
            "heather                   1.0      5\n",
            "agonizing                 1.0      7\n",
            "turgid                    1.0      7\n",
            "moronic                   1.0     14\n",
            "snakes                    1.0      9\n",
            "monstrosity               1.0      9\n"
          ]
        }
      ],
      "source": [
        "# Get the TF-IDF vectorizer from the pipeline\n",
        "tfidf = pipeline.named_steps['tfidf']\n",
        "\n",
        "# Get the vocabulary and feature names\n",
        "vocabulary = tfidf.vocabulary_\n",
        "feature_names = tfidf.get_feature_names_out()\n",
        "\n",
        "# We just want to know if a word appears or not\n",
        "# Transform the training data\n",
        "X_count = tfidf.transform(train_df[\"text\"])\n",
        "\n",
        "# Convert to binary (1 if word appears, 0 if not)\n",
        "X_binary = (X_count > 0).astype(int)\n",
        "\n",
        "# Get the labels\n",
        "y = train_df[\"label\"].values\n",
        "\n",
        "# Calculate probabilities\n",
        "word_sentiment_probs = {}\n",
        "\n",
        "# Total counts for each sentiment\n",
        "positive_count = np.sum(y == 1)\n",
        "negative_count = np.sum(y == 0)\n",
        "total_count = len(y)\n",
        "\n",
        "# For each word in the vocabulary\n",
        "for i, word in enumerate(feature_names):\n",
        "    # Get documents containing this word\n",
        "    docs_with_word = X_binary[:, i].toarray().flatten()\n",
        "    \n",
        "    # Count documents with this word for each sentiment\n",
        "    positive_with_word = np.sum(docs_with_word & (y == 1))\n",
        "    negative_with_word = np.sum(docs_with_word & (y == 0))\n",
        "    total_with_word = np.sum(docs_with_word)\n",
        "    \n",
        "    if total_with_word > 0:  # Avoid division by zero\n",
        "        # P(positive | word)\n",
        "        p_positive_given_word = positive_with_word / total_with_word\n",
        "        \n",
        "        # P(negative | word)\n",
        "        p_negative_given_word = negative_with_word / total_with_word\n",
        "        \n",
        "        # Store the probabilities\n",
        "        word_sentiment_probs[word] = {\n",
        "            'P(positive|word)': p_positive_given_word,\n",
        "            'P(negative|word)': p_negative_given_word,\n",
        "            'count': total_with_word,\n",
        "            'positive_count': positive_with_word,\n",
        "            'negative_count': negative_with_word\n",
        "        }\n",
        "\n",
        "# Convert to DataFrame for easier analysis\n",
        "probs_df = pd.DataFrame.from_dict(word_sentiment_probs, orient='index')\n",
        "\n",
        "# Sort by probability of positive sentiment\n",
        "most_positive_words = probs_df.sort_values(by='P(positive|word)', ascending=False).head(20)\n",
        "most_negative_words = probs_df.sort_values(by='P(negative|word)', ascending=False).head(20)\n",
        "\n",
        "# Display results\n",
        "print(\"Words most associated with positive sentiment:\")\n",
        "print(most_positive_words[['P(positive|word)', 'count']])\n",
        "\n",
        "print(\"\\nWords most associated with negative sentiment:\")\n",
        "print(most_negative_words[['P(negative|word)', 'count']])"
      ]
    },
    {
      "cell_type": "code",
      "execution_count": 38,
      "metadata": {},
      "outputs": [
        {
          "data": {
            "text/plain": [
              "{'P(positive|word)': np.float64(0.7734375),\n",
              " 'P(negative|word)': np.float64(0.2265625),\n",
              " 'count': np.int64(256),\n",
              " 'positive_count': np.int64(198),\n",
              " 'negative_count': np.int64(58)}"
            ]
          },
          "execution_count": 38,
          "metadata": {},
          "output_type": "execute_result"
        }
      ],
      "source": [
        "word_sentiment_probs[\"today\"]"
      ]
    },
    {
      "cell_type": "code",
      "execution_count": 49,
      "metadata": {},
      "outputs": [
        {
          "data": {
            "text/plain": [
              "{'P(positive|word)': np.float64(0.4669042769857434),\n",
              " 'P(negative|word)': np.float64(0.5330957230142567),\n",
              " 'count': np.int64(3928),\n",
              " 'positive_count': np.int64(1834),\n",
              " 'negative_count': np.int64(2094)}"
            ]
          },
          "execution_count": 49,
          "metadata": {},
          "output_type": "execute_result"
        }
      ],
      "source": [
        "word_sentiment_probs[\"movie\"]"
      ]
    },
    {
      "cell_type": "code",
      "execution_count": 48,
      "metadata": {},
      "outputs": [
        {
          "data": {
            "text/plain": [
              "{'P(positive|word)': np.float64(0.49778024417314093),\n",
              " 'P(negative|word)': np.float64(0.5022197558268591),\n",
              " 'count': np.int64(3604),\n",
              " 'positive_count': np.int64(1794),\n",
              " 'negative_count': np.int64(1810)}"
            ]
          },
          "execution_count": 48,
          "metadata": {},
          "output_type": "execute_result"
        }
      ],
      "source": [
        "word_sentiment_probs[\"film\"]"
      ]
    },
    {
      "cell_type": "markdown",
      "metadata": {},
      "source": [
        "Here we see a lot of words that may not be related to sentiment but are still important for the classification. For example, \"tate\" or \"joss\". And we look at the exemple of \"today\" that we saw before, the probability to have a positive or negative review depending on the presence of \"today\" is clearly skewed towards positive reviews. There may be a reason, but this word without context, is not a good feature for the classification. Therefore maybe we should remove those words from the vocabulary or use them only with more context ie with higher ngrams.\n",
        "\n",
        "Let's see another way of looking at the feature importance by highlighting the words in some example reviews."
      ]
    },
    {
      "cell_type": "code",
      "execution_count": 42,
      "metadata": {},
      "outputs": [
        {
          "data": {
            "text/html": [
              "I could not believe how terrible and <span style=\"color:red\">boring</span> this Hollywood <span style=\"color:green\">remake</span> was.It's so dreadful. It <span style=\"color:green\">easily</span> lands a place in my top <span style=\"color:green\">10</span> worst <span style=\"color:green\">films</span> of 1998.About the only thing it had <span style=\"color:green\">going</span> for it was <span style=\"color:red\">Bruce</span> Willis,who should <span style=\"color:green\">stick</span> to <span style=\"color:red\">action</span> films,as a <span style=\"color:red\">completely</span> emotionless <span style=\"color:green\">killer</span> who'd <span style=\"color:red\">kill</span> his own mother for the <span style=\"color:red\">right</span> price.But I'd rather listen to Robbie Coltraine talk <span style=\"color:red\">American</span> for a week than listen to <span style=\"color:red\">Richard</span> Gere's nauseating <span style=\"color:green\">Irish</span> <span style=\"color:red\">accent</span> again.But this <span style=\"color:green\">film</span> is also implausible,unconvincing,uneven,unexciting,unimpressive and lands <span style=\"color:green\">Sidney</span> Poiter in a <span style=\"color:red\">rubbish</span> role to <span style=\"color:green\">make</span> a <span style=\"color:green\">possible</span> career comeback.One for filmroll-footie purposes entirely."
            ],
            "text/plain": [
              "<IPython.core.display.HTML object>"
            ]
          },
          "metadata": {},
          "output_type": "display_data"
        },
        {
          "name": "stdout",
          "output_type": "stream",
          "text": [
            "--------------------------------\n"
          ]
        },
        {
          "data": {
            "text/html": [
              "I <span style=\"color:green\">rented</span> <span style=\"color:green\">Boogie</span> Nights last week and I could <span style=\"color:green\">tell</span> you, when I <span style=\"color:red\">watched</span> the <span style=\"color:green\">film</span> I had a blast. If you <span style=\"color:red\">think</span> that when you <span style=\"color:green\">watch</span> the <span style=\"color:green\">film</span> you will get sicked by the porn. I <span style=\"color:red\">mean</span> yes, if your not a <span style=\"color:red\">porn</span> <span style=\"color:red\">person</span> who can't bother being by it, than this isn't the <span style=\"color:green\">film</span> to see. But the thing is, the whole <span style=\"color:green\">film</span> isn't <span style=\"color:green\">really</span> about porn. Well <span style=\"color:red\">halfway</span> through the <span style=\"color:green\">film</span> is about the <span style=\"color:red\">porn</span> <span style=\"color:red\">industry</span> but the other <span style=\"color:red\">half</span> is about the <span style=\"color:green\">character</span> <span style=\"color:green\">development</span> and the <span style=\"color:green\">bad</span> <span style=\"color:green\">situations</span> these <span style=\"color:red\">characters</span> go through. The <span style=\"color:green\">actors</span> <span style=\"color:green\">played</span> there <span style=\"color:green\">roles</span> perfect, <span style=\"color:red\">especially</span> <span style=\"color:green\">Mark</span> Wahlberg, <span style=\"color:red\">John</span> C. Reilly, and William H. Macy. The <span style=\"color:red\">sex</span> scenes, of <span style=\"color:red\">course</span> are terrific but <span style=\"color:red\">mainly</span> <span style=\"color:green\">focus</span> on the character's <span style=\"color:green\">hype</span> in <span style=\"color:red\">porn</span> <span style=\"color:green\">films</span> until there struggles. Excellent film, one of the best! <br /><br />Hedeen's Outlook: 10/10 **** A+"
            ],
            "text/plain": [
              "<IPython.core.display.HTML object>"
            ]
          },
          "metadata": {},
          "output_type": "display_data"
        },
        {
          "name": "stdout",
          "output_type": "stream",
          "text": [
            "--------------------------------\n"
          ]
        },
        {
          "data": {
            "text/html": [
              "First off, this movie is not <span style=\"color:red\">near</span> complete, my <span style=\"color:red\">guess</span> is that someone actually <span style=\"color:red\">bothered</span> to <span style=\"color:red\">steal</span> every other <span style=\"color:red\">page</span> of the script.<br /><br />The movie <span style=\"color:red\">contains</span> <span style=\"color:green\">bizarre</span> time-travels without notice, inconsistent dialogs, <span style=\"color:green\">misplaced</span> <span style=\"color:red\">details</span> all over, the <span style=\"color:green\">music</span> isn't very <span style=\"color:green\">bad</span> at all, other then <span style=\"color:green\">misplaced</span> tracks, and besides the fact that the <span style=\"color:red\">volume</span> <span style=\"color:green\">goes</span> up and down between the <span style=\"color:red\">different</span> tracks. The cutting-room <span style=\"color:green\">did</span> a <span style=\"color:red\">descent</span> <span style=\"color:green\">job</span> actually, and that <span style=\"color:green\">says</span> a lot. Missplaced <span style=\"color:green\">sound</span> <span style=\"color:green\">effects</span> <span style=\"color:green\">ruin</span> the tension, though.<br /><br />Luke <span style=\"color:red\">Perry</span> does what he does best, <span style=\"color:green\">just</span> <span style=\"color:green\">looking</span> worried, and occasionally coughing up punchlines from hell.<br /><br />I <span style=\"color:red\">seriously</span> rate this movie as the worst of 2007, and i've <span style=\"color:green\">seen</span> a few <span style=\"color:green\">bad</span> ones. Do not <span style=\"color:green\">spend</span> <span style=\"color:green\">money</span> on this one, it's not so <span style=\"color:green\">bad</span> it's a laugh, it's worse. <span style=\"color:green\">Ratings</span> above 1 star, should render a blacklist at IMDb, because it's a <span style=\"color:green\">damn</span> lie."
            ],
            "text/plain": [
              "<IPython.core.display.HTML object>"
            ]
          },
          "metadata": {},
          "output_type": "display_data"
        },
        {
          "name": "stdout",
          "output_type": "stream",
          "text": [
            "--------------------------------\n"
          ]
        },
        {
          "data": {
            "text/html": [
              "I <span style=\"color:red\">watched</span> this <span style=\"color:green\">mini</span> in the <span style=\"color:green\">early</span> eighties. <span style=\"color:red\">Sam</span> Waterson <span style=\"color:green\">proved</span> himself to be a <span style=\"color:green\">great</span> actor. In fact when he <span style=\"color:green\">began</span> <span style=\"color:red\">Law</span> and <span style=\"color:red\">Order</span> I was <span style=\"color:red\">disappointed</span> in him as it was not as powerful a role. <span style=\"color:green\">Unfortunately</span> the <span style=\"color:green\">good</span> <span style=\"color:green\">roles</span> do not <span style=\"color:green\">pay</span> the bills. I <span style=\"color:green\">wish</span> I could find a <span style=\"color:red\">copy</span> of this <span style=\"color:red\">rare</span> series and review it. It is both factual and entertaining. Everyone should see it to <span style=\"color:green\">know</span> what <span style=\"color:green\">really</span> happened. I was so <span style=\"color:red\">moved</span> I <span style=\"color:green\">purchased</span> and <span style=\"color:green\">read</span> the book \"Pppenheimer-Shatterer of Worlds\". And <span style=\"color:red\">saw</span> how this <span style=\"color:red\">man</span> became an <span style=\"color:green\">unlikely</span> <span style=\"color:red\">hero</span> who was never <span style=\"color:green\">rewarded</span> for his insight. If you get a <span style=\"color:green\">chance</span> be <span style=\"color:red\">sure</span> to <span style=\"color:green\">watch</span> this movie and see what a <span style=\"color:green\">performance</span> Mr. Waterston can <span style=\"color:green\">really</span> provide an audience. <span style=\"color:red\">Enjoy</span> the movies!"
            ],
            "text/plain": [
              "<IPython.core.display.HTML object>"
            ]
          },
          "metadata": {},
          "output_type": "display_data"
        },
        {
          "name": "stdout",
          "output_type": "stream",
          "text": [
            "--------------------------------\n"
          ]
        },
        {
          "data": {
            "text/html": [
              "This movie was never <span style=\"color:green\">intended</span> as a big-budget <span style=\"color:green\">film</span> but was a <span style=\"color:red\">cute</span> <span style=\"color:green\">little</span> picture that <span style=\"color:red\">pretty</span> much anyone could enjoy. It <span style=\"color:red\">probably</span> won't <span style=\"color:red\">change</span> your life, but it is <span style=\"color:red\">certainly</span> charming and engaging.<br /><br />Clifton Webb <span style=\"color:red\">plays</span> a curmudgeon (that's <span style=\"color:red\">certainly</span> not new) who has a TV. However, his <span style=\"color:green\">ratings</span> are failing and he is worried about cancellation. So he <span style=\"color:red\">decides</span> <span style=\"color:green\">maybe</span> he is too out of <span style=\"color:green\">touch</span> with kids--as he and his <span style=\"color:red\">wife</span> have none of their own. So, he volunteers as a scoutmaster and regrets <span style=\"color:green\">doing</span> this almost immediately! Remember, he IS a curmudgeon and doesn't particularly <span style=\"color:red\">like</span> kids. To <span style=\"color:green\">make</span> things worse, one of the kids <span style=\"color:green\">really</span> <span style=\"color:green\">likes</span> him and follows him <span style=\"color:red\">like</span> a <span style=\"color:red\">lost</span> puppy. No <span style=\"color:green\">matter</span> how indifferently he <span style=\"color:red\">acts</span> towards the kid, the child <span style=\"color:green\">just</span> <span style=\"color:red\">wants</span> to <span style=\"color:green\">spend</span> <span style=\"color:red\">time</span> with him! The <span style=\"color:green\">kid</span> is <span style=\"color:red\">cute</span> and <span style=\"color:green\">nearly</span> <span style=\"color:red\">steals</span> the show all by himself! <br /><br />What <span style=\"color:green\">happens</span> next and the <span style=\"color:green\">twists</span> and <span style=\"color:red\">turns</span> of the movie are something you'll <span style=\"color:green\">just</span> have to find out for yourself. <span style=\"color:green\">Understand</span> that this is a light, <span style=\"color:red\">cute</span> and yet not cloying movie you'll <span style=\"color:red\">probably</span> enjoy."
            ],
            "text/plain": [
              "<IPython.core.display.HTML object>"
            ]
          },
          "metadata": {},
          "output_type": "display_data"
        },
        {
          "name": "stdout",
          "output_type": "stream",
          "text": [
            "--------------------------------\n"
          ]
        },
        {
          "data": {
            "text/html": [
              "I <span style=\"color:green\">thought</span> this was an <span style=\"color:red\">extremely</span> <span style=\"color:green\">bad</span> movie. The whole <span style=\"color:red\">time</span> I was <span style=\"color:green\">watching</span> this movie I couldn't <span style=\"color:green\">help</span> but <span style=\"color:red\">think</span> over and over how <span style=\"color:green\">bad</span> it is, and how that was $3.69 down the drain. The <span style=\"color:red\">plot</span> was so jumpy. They <span style=\"color:green\">did</span> an excellent <span style=\"color:green\">job</span> at the <span style=\"color:red\">beginning</span> of <span style=\"color:green\">explaining</span> who <span style=\"color:green\">dated</span> who in high school, but they never <span style=\"color:green\">really</span> <span style=\"color:green\">explained</span> anything after that. Was it a <span style=\"color:red\">supernatural</span> thriller? Was it a regular thriller? Apparently you can <span style=\"color:green\">decide</span> for yourself, because they didn't see the <span style=\"color:green\">need</span> to explain. I <span style=\"color:red\">understood</span> basically what happened, I think. What I got confused about was all of it prior, what was the <span style=\"color:red\">deal</span> with the bloody noses, <span style=\"color:red\">phone</span> calls, etc.? Was this <span style=\"color:red\">guy</span> coming back? Was the <span style=\"color:red\">wife</span> channeling \"Carrie\" or something? Who knows? You <span style=\"color:red\">certainly</span> won't after <span style=\"color:green\">watching</span> this movie."
            ],
            "text/plain": [
              "<IPython.core.display.HTML object>"
            ]
          },
          "metadata": {},
          "output_type": "display_data"
        },
        {
          "name": "stdout",
          "output_type": "stream",
          "text": [
            "--------------------------------\n"
          ]
        },
        {
          "data": {
            "text/html": [
              "This was one of the biggest <span style=\"color:red\">pieces</span> of crap I have ever had to watch. I mean, seriously. How would <span style=\"color:red\">anybody</span> else <span style=\"color:red\">feel</span> if they were in <span style=\"color:green\">Woody</span> Harrelson's <span style=\"color:red\">shoes</span> and your <span style=\"color:red\">wife</span> was even CONSIDERING it would be a <span style=\"color:green\">good</span> <span style=\"color:green\">idea</span> to sleep with the other <span style=\"color:red\">guy</span> even for a <span style=\"color:green\">million</span> bucks. After all, she was the one <span style=\"color:red\">talking</span> about it in bed and <span style=\"color:red\">saying</span> how it would be <span style=\"color:green\">good</span> for them since he can <span style=\"color:green\">build</span> his <span style=\"color:green\">house</span> or whatever with that money. <span style=\"color:green\">Woody</span> never <span style=\"color:green\">fully</span> agreed to it until she <span style=\"color:red\">talked</span> him into it. How CAN you trust her? Who the hell would actually even <span style=\"color:red\">consider</span> that if they were married? I don't care how desperate they were. That's the most ridiculous thing I have ever <span style=\"color:red\">heard</span> in my life. Then, he flips out on her. Apparently, he had no <span style=\"color:red\">right</span> to mistrust her, other than the fact that his <span style=\"color:red\">wife</span> <span style=\"color:green\">just</span> <span style=\"color:red\">slept</span> with another <span style=\"color:red\">dude</span> who is <span style=\"color:red\">extremely</span> <span style=\"color:red\">rich</span> and handsome. Oh and wait, then he's <span style=\"color:green\">supposed</span> to <span style=\"color:green\">apologize</span> to HER after she <span style=\"color:red\">files</span> for the divorce so she can be with the <span style=\"color:red\">guy</span> she <span style=\"color:red\">slept</span> with. Of <span style=\"color:red\">course</span> <span style=\"color:green\">Woody</span> has no <span style=\"color:red\">right</span> to <span style=\"color:red\">say</span> anything to her or mistrust her <span style=\"color:red\">especially</span> after she still has Roy Hobb's <span style=\"color:green\">card</span> in her wallet. Then, at the end of the movie, she's apparently so in <span style=\"color:green\">love</span> with <span style=\"color:green\">Woody</span> still and <span style=\"color:green\">misses</span> him so much, that she was not <span style=\"color:green\">going</span> to <span style=\"color:green\">leave</span> Hobbs until he made some <span style=\"color:green\">ridiculously</span> <span style=\"color:green\">stupid</span> <span style=\"color:red\">story</span> up to <span style=\"color:green\">try</span> to hint to her to leave, and she bleeping <span style=\"color:red\">thanks</span> Hobbs???? Are you bleeping <span style=\"color:green\">kidding</span> me? Was she under contract as his <span style=\"color:red\">sex</span> <span style=\"color:red\">slave</span> or something?? I <span style=\"color:red\">mean</span> what the bleep?? Oh and wait it <span style=\"color:green\">gets</span> better. She bleeping kisses him passionately before she <span style=\"color:green\">gets</span> out of the car. Yea, she's not a whore. Oh, <span style=\"color:red\">thank</span> you for <span style=\"color:red\">letting</span> me go, <span style=\"color:green\">let</span> me go <span style=\"color:green\">make</span> out with you one last <span style=\"color:red\">time</span> for <span style=\"color:green\">good</span> ole' sake. Smooch smooch, smooch even though I'm still <span style=\"color:green\">married</span> to a <span style=\"color:red\">guy</span> I <span style=\"color:red\">left</span> for a <span style=\"color:red\">rich</span> guy. I have never <span style=\"color:green\">seen</span> such a piece of crap in my life. How the hell are we <span style=\"color:green\">supposed</span> to <span style=\"color:red\">feel</span> <span style=\"color:green\">good</span> after that horrible ending? What was this movie <span style=\"color:green\">supposed</span> to represent? NOTHING CAME OUT OF THIS! This was the most pointless movie I have ever <span style=\"color:green\">seen</span> in my life. Two pathetic desperate people. If I were Woody, I would <span style=\"color:green\">tell</span> her to go drown herself in that <span style=\"color:green\">body</span> of <span style=\"color:green\">water</span> they were near. Apparently, he had no <span style=\"color:green\">self</span> respect. What the hell was Roy Hobbs thinking by <span style=\"color:red\">taking</span> this horrible role. I <span style=\"color:red\">feel</span> <span style=\"color:red\">like</span> puking after <span style=\"color:green\">watching</span> this. This movie was so bad, it was <span style=\"color:red\">seriously</span> laughable. I <span style=\"color:red\">want</span> those two <span style=\"color:green\">hours</span> of my life back that I wasted <span style=\"color:green\">watching</span> this piece of ****."
            ],
            "text/plain": [
              "<IPython.core.display.HTML object>"
            ]
          },
          "metadata": {},
          "output_type": "display_data"
        },
        {
          "name": "stdout",
          "output_type": "stream",
          "text": [
            "--------------------------------\n"
          ]
        },
        {
          "data": {
            "text/html": [
              "I <span style=\"color:green\">just</span> <span style=\"color:red\">watched</span> it for the <span style=\"color:red\">second</span> <span style=\"color:red\">time</span> <span style=\"color:red\">today</span> and I must <span style=\"color:red\">say</span> with all my <span style=\"color:green\">heart</span> it is about <span style=\"color:green\">damn</span> <span style=\"color:red\">time</span> they made a movie about us as <span style=\"color:green\">people</span> not as spiritual beings. Such a <span style=\"color:red\">waste</span> of <span style=\"color:red\">human</span> life as this <span style=\"color:red\">story</span> was <span style=\"color:green\">maybe</span> some <span style=\"color:green\">good</span> will come out of it. And Eric is hotter than ever. To often in the <span style=\"color:green\">movies</span> First <span style=\"color:green\">Nations</span> <span style=\"color:green\">people</span> are <span style=\"color:green\">seen</span> as other than <span style=\"color:red\">everyday</span> people. We are always <span style=\"color:green\">portrayed</span> as chiefs or <span style=\"color:red\">medicine</span> people. Hey we are <span style=\"color:green\">just</span> <span style=\"color:red\">like</span> everyone else. And this movie <span style=\"color:red\">showed</span> <span style=\"color:green\">just</span> that. We <span style=\"color:green\">hurt</span> when an <span style=\"color:green\">injustice</span> is done and we can win in quest for justice. It is <span style=\"color:green\">really</span> to <span style=\"color:green\">bad</span> that the big movie <span style=\"color:red\">companies</span> cant see that. I cant wait till this <span style=\"color:red\">comes</span> out on DVD. <span style=\"color:red\">Thanks</span> to those who chose to show this <span style=\"color:red\">story</span> as it <span style=\"color:green\">really</span> was."
            ],
            "text/plain": [
              "<IPython.core.display.HTML object>"
            ]
          },
          "metadata": {},
          "output_type": "display_data"
        },
        {
          "name": "stdout",
          "output_type": "stream",
          "text": [
            "--------------------------------\n"
          ]
        },
        {
          "data": {
            "text/html": [
              "I've <span style=\"color:green\">read</span> through a <span style=\"color:red\">lot</span> of the <span style=\"color:green\">comments</span> here about how this movie <span style=\"color:red\">sticks</span> to the book.. I don't <span style=\"color:red\">think</span> any of them have actually <span style=\"color:green\">read</span> it. Edgar <span style=\"color:red\">Rice</span> wrote about a <span style=\"color:red\">dangerous</span> <span style=\"color:red\">African</span> Jungle and <span style=\"color:red\">Apes</span> were <span style=\"color:red\">killers</span> and hunters. We <span style=\"color:green\">know</span> <span style=\"color:green\">differently</span> now and this movie <span style=\"color:red\">portrays</span> <span style=\"color:red\">Apes</span> in a more modern view. I've never <span style=\"color:green\">seen</span> a <span style=\"color:green\">Tarzan</span> movie that even <span style=\"color:red\">comes</span> close to Edgar's vision. <span style=\"color:green\">Maybe</span> one <span style=\"color:red\">day</span> Hollywood with trust talented and <span style=\"color:green\">respected</span> authors to <span style=\"color:green\">tell</span> the story. So, if you've never <span style=\"color:green\">read</span> the book and <span style=\"color:red\">enjoy</span> a <span style=\"color:green\">good</span> <span style=\"color:red\">story</span> about <span style=\"color:green\">feelings</span> and a fluffy <span style=\"color:red\">bunny</span> view of wild animals, <span style=\"color:green\">maybe</span> a <span style=\"color:green\">good</span> cry, see the movie. I <span style=\"color:green\">hope</span> <span style=\"color:red\">John</span> <span style=\"color:red\">Carter</span> of <span style=\"color:green\">Mars</span> get's more respect than <span style=\"color:green\">Tarzan</span> has. We <span style=\"color:red\">miss</span> ya, Edgar!"
            ],
            "text/plain": [
              "<IPython.core.display.HTML object>"
            ]
          },
          "metadata": {},
          "output_type": "display_data"
        },
        {
          "name": "stdout",
          "output_type": "stream",
          "text": [
            "--------------------------------\n"
          ]
        },
        {
          "data": {
            "text/html": [
              "I usually much <span style=\"color:red\">prefer</span> French <span style=\"color:green\">movies</span> over <span style=\"color:red\">American</span> ones, with explosions and <span style=\"color:green\">car</span> chases, but this movie was very disappointing. There is no way to <span style=\"color:green\">write</span> a spoiler because nothing <span style=\"color:green\">really</span> happens. This French <span style=\"color:red\">couple</span> has been <span style=\"color:green\">living</span> in Lisbon for years, and they return to Paris for a friend's wedding. They announce to another <span style=\"color:green\">friend</span> they are having <span style=\"color:red\">dinner</span> with that they are <span style=\"color:green\">going</span> to split. Then nothing much happens, they don't seem to <span style=\"color:green\">know</span> whether they <span style=\"color:red\">want</span> to <span style=\"color:green\">separate</span> or not. I don't necessarily <span style=\"color:red\">think</span> that their hesitations <span style=\"color:green\">make</span> for a <span style=\"color:green\">bad</span> movie, it is very <span style=\"color:red\">human</span> to hesitate before <span style=\"color:green\">making</span> such a <span style=\"color:green\">decision</span> for good, but this could be treated in an <span style=\"color:red\">interesting</span> manner, giving some flesh to their desires and their relationship, but that does not happen. One <span style=\"color:green\">gets</span> out of the <span style=\"color:green\">theater</span> unsure of why these two got together or <span style=\"color:red\">want</span> to split. The only piece I enjoyed was the <span style=\"color:green\">conversation</span> with the drunk. That was true to life."
            ],
            "text/plain": [
              "<IPython.core.display.HTML object>"
            ]
          },
          "metadata": {},
          "output_type": "display_data"
        },
        {
          "name": "stdout",
          "output_type": "stream",
          "text": [
            "--------------------------------\n"
          ]
        }
      ],
      "source": [
        "# c. Example: Highlight words in a review (for illustration, using HTML styling)\n",
        "# Let's put intensity of the color to the coefficient of the token\n",
        "# For instance, if the coefficient is high, the color should be more intense\n",
        "def highlight_review(review, threshold=0.5):\n",
        "    tokens = review.split()\n",
        "    highlighted = []\n",
        "    for token in tokens:\n",
        "        token_clean = token.lower()\n",
        "        if token_clean in feature_names:\n",
        "            # Find index of token in the vocabulary\n",
        "            idx = np.where(feature_names == token_clean)[0][0]\n",
        "            coef = coefficients[idx]\n",
        "            # Color positive words in green and negative in red\n",
        "            if coef > threshold:\n",
        "                token = f'<span style=\"color:green\">{token}</span>'\n",
        "            elif coef < -threshold:\n",
        "                token = f'<span style=\"color:red\">{token}</span>'\n",
        "        highlighted.append(token)\n",
        "    return ' '.join(highlighted)\n",
        "\n",
        "# Show highlighted review example (use IPython.display to render HTML)\n",
        "from IPython.display import display, HTML\n",
        "\n",
        "\n",
        "for i in range(10):\n",
        "    sample_review = test_df['text'].iloc[i]\n",
        "    display(HTML(highlight_review(sample_review, threshold=0.1)))\n",
        "    print('--------------------------------')"
      ]
    },
    {
      "cell_type": "markdown",
      "metadata": {},
      "source": [
        "This is quit interesting to see the results as  we see words like \"American\", \"think\" or \"right\" which are highlighted in red and words like \"maybe\", \"tell\" or \"film\", that are highlighted in green. WE see also a lot of names.\n",
        "\n",
        "But it looks weird as those words are not related to sentiment. It looks like the model overfits on those tokens.\n",
        "\n",
        "One potential solution for this problem would be to consider only bigrams or trigrams as features just to increase the context of the tokens. One way would be to use the `ngram_range` parameter in the TF-IDF vectorizer. We could also increase the `min_df` parameter to remove words that are not present in enough documents and reduce words that are present in too many documents such as \"film\" or \"movie\".\n",
        "\n",
        "Let's try to see if this hypothesis is correct by running the pipeline with different stop words. Also we see that the word \"like\" is in red generally, maybe we should use it with more context ? because like and don't like would dramatically change the sentiment of the review."
      ]
    },
    {
      "cell_type": "code",
      "execution_count": 59,
      "metadata": {},
      "outputs": [
        {
          "name": "stdout",
          "output_type": "stream",
          "text": [
            "\n",
            "Evaluating with stop_words = frozenset({'a', 'other', 'towards', 'our', 'himself', 'sometimes', 'such', 'hasnt', 'first', 'hereby', 'should', 'mill', 'until', 'beside', 'over', 'have', 'already', 'for', 'own', 'thin', 'someone', 'became', 'though', 'besides', 'each', 'too', 'however', 'under', 'into', 'co', 'both', 'elsewhere', 'i', 'she', 'they', 'anyway', 'therefore', 'eg', 'forty', 'me', 'no', 'whenever', 'whose', 'please', 'and', 'seem', 'yours', 'thus', 'go', 'anywhere', 'nor', 'ever', 'somehow', 'most', 'afterwards', 'nobody', 'always', 'latterly', 'which', 'least', 'find', 'this', 'several', 'between', 'ourselves', 'put', 'hers', 'am', 'onto', 'mostly', 'every', 'due', 'thence', 'through', 'nothing', 'all', 'may', 'top', 'off', 'ltd', 'along', 'must', 'anything', 'his', 'un', 'former', 'sixty', 'nine', 'everywhere', 'how', 'so', 'thereafter', 'why', 'two', 'upon', 'than', 'not', 'was', 'would', 'itself', 'or', 'third', 'everything', 'even', 'of', 'whereafter', 'are', 'although', 'give', 'it', 'side', 'still', 'bottom', 'had', 'across', 'via', 'well', 'again', 'sometime', 'none', 'whole', 'same', 'once', 'around', 'con', 'detail', 'herself', 'except', 'at', 'found', 'down', 'when', 'these', 'five', 'myself', 'them', 'enough', 'twenty', 'is', 'without', 'by', 'in', 'get', 'full', 'you', 'throughout', 'take', 'where', 'among', 'noone', 'ie', 'neither', 'ten', 'its', 'here', 'part', 'front', 'there', 'an', 'but', 'something', 'above', 'hence', 'ours', 'has', 'below', 'describe', 'since', 'whence', 'whom', 'whereas', 'very', 'eight', 'against', 'wherever', 'only', 'beyond', 'serious', 'becoming', 'could', 'couldnt', 'as', 'from', 'thereupon', 'many', 'often', 'also', 'next', 'keep', 'amount', 'fire', 'who', 'behind', 'seeming', 're', 'fifteen', 'might', 'your', 'hundred', 'because', 'herein', 'within', 'he', 'see', 'fifty', 'indeed', 'nevertheless', 'perhaps', 'rather', 'cry', 'cant', 'before', 'seems', 'further', 'latter', 'whatever', 'much', 'will', 'somewhere', 'never', 'name', 'whether', 'meanwhile', 'what', 'can', 'him', 'thick', 'we', 'my', 'last', 'out', 'seemed', 'amongst', 'with', 'those', 'four', 'nowhere', 'becomes', 'whereby', 'become', 'bill', 'now', 'thereby', 'inc', 'being', 'move', 'wherein', 'almost', 'formerly', 'one', 'then', 'together', 'hereafter', 'their', 'yet', 'about', 'thru', 'show', 'empty', 'while', 'less', 'anyone', 'either', 'another', 'otherwise', 'to', 'anyhow', 'were', 'three', 'on', 'be', 'whoever', 'few', 'been', 'others', 'her', 'up', 'yourself', 'interest', 'during', 'some', 'moreover', 'namely', 'eleven', 'do', 'per', 'therein', 'toward', 'after', 'hereupon', 'more', 'system', 'any', 'else', 'twelve', 'de', 'etc', 'us', 'call', 'back', 'cannot', 'mine', 'sincere', 'amoungst', 'beforehand', 'the', 'everyone', 'alone', 'that', 'yourselves', 'done', 'whereupon', 'if', 'fill', 'themselves', 'whither', 'six', 'made'})\n",
            "Dev Accuracy: 85.06%\n",
            "Dev Precision: 83.92%\n",
            "Dev Recall: 86.75%\n",
            "Dev F1-score: 85.31%\n",
            "\n",
            "Evaluating with stop_words = frozenset({'a', 'you', 'throughout', 'other', 'towards', 'take', 'where', 'among', 'noone', 'ie', 'gets', 'neither', 'ten', 'its', 'our', 'here', 'himself', 'sometimes', 'part', 'such', 'hasnt', 'front', 'there', 'an', 'but', 'first', 'hereby', 'should', 'something', 'mill', 'above', 'john', 'until', 'beside', 'hence', 'over', 'ours', 'has', 'below', 'have', 'describe', 'already', 'for', 'own', 'since', 'whence', 'whom', 'whereas', 'thin', 'someone', 'very', 'tell', 'eight', 'film', 'became', 'against', 'think', 'wherever', 'only', 'though', 'beyond', 'serious', 'besides', 'each', 'becoming', 'could', 'couldnt', 'too', 'however', 'as', 'from', 'under', 'thereupon', 'many', 'into', 'co', 'often', 'both', 'also', 'elsewhere', 'i', 'next', 'she', 'day', 'keep', 'amount', 'couple', 'they', 'anyway', 'therefore', 'eg', 'forty', 'fire', 'who', 'behind', 'seeming', 'me', 're', 'no', 'fifteen', 'might', 'whenever', 'whose', 'please', 'and', 'your', 'hundred', 'because', 'seem', 'yours', 'thus', 'herein', 'within', 'he', 'go', 'see', 'fifty', 'indeed', 'anywhere', 'nevertheless', 'nor', 'ever', 'somehow', 'perhaps', 'rather', 'most', 'cry', 'afterwards', 'cant', 'nobody', 'before', 'always', 'seems', 'latterly', 'say', 'further', 'which', 'least', 'latter', 'find', 'whatever', 'much', 'will', 'this', 'somewhere', 'several', 'never', 'between', 'ourselves', 'put', 'hers', 'am', 'name', 'onto', 'mostly', 'every', 'due', 'thence', 'whether', 'through', 'meanwhile', 'nothing', 'what', 'can', 'movie', 'all', 'him', 'thick', 'may', 'top', 'off', 'we', 'my', 'ltd', 'last', 'out', 'seemed', 'amongst', 'with', 'along', 'must', 'anything', 'his', 'un', 'those', 'apes', 'four', 'former', 'sixty', 'nowhere', 'becomes', 'whereby', 'become', 'bill', 'now', 'thereby', 'want', 'inc', 'being', 'move', 'wherein', 'almost', 'formerly', 'nine', 'one', 'everywhere', 'then', 'together', 'carter', 'how', 'hereafter', 'their', 'yet', 'so', 'about', 'thru', 'thereafter', 'show', 'why', 'two', 'upon', 'than', 'empty', 'while', 'less', 'not', 'anyone', 'either', 'was', 'would', 'another', 'otherwise', 'to', 'anyhow', 'were', 'three', 'itself', 'or', 'on', 'be', 'whoever', 'third', 'few', 'been', 'others', 'everything', 'even', 'her', 'of', 'whereafter', 'up', 'yourself', 'interest', 'are', 'although', 'give', 'during', 'it', 'some', 'maybe', 'moreover', 'side', 'namely', 'eleven', 'american', 'still', 'do', 'per', 'therein', 'bottom', 'had', 'toward', 'after', 'hereupon', 'more', 'across', 'system', 'via', 'any', 'else', 'well', 'again', 'twelve', 'sometime', 'de', 'etc', 'us', 'none', 'whole', 'call', 'same', 'once', 'around', 'con', 'detail', 'back', 'herself', 'except', 'cannot', 'mine', 'sincere', 'whither', 'amoungst', 'beforehand', 'the', 'everyone', 'at', 'rice', 'found', 'alone', 'down', 'right', 'when', 'these', 'five', 'that', 'yourselves', 'myself', 'them', 'enough', 'done', 'whereupon', 'twenty', 'is', 'without', 'if', 'fill', 'by', 'themselves', 'in', 'get', 'full', 'six', 'made'})\n",
            "Dev Accuracy: 85.25%\n",
            "Dev Precision: 83.98%\n",
            "Dev Recall: 87.12%\n",
            "Dev F1-score: 85.52%\n"
          ]
        }
      ],
      "source": [
        "from sklearn.feature_extraction.text import ENGLISH_STOP_WORDS\n",
        "\n",
        "new_stop_words = [\"film\", \"movie\", \"american\", \"think\", \"right\", \"maybe\", \"tell\", \n",
        "                  \"couple\", \"want\", \"gets\", \"get\", \"john\", \"carter\", \"rice\", \"day\", \"apes\",\n",
        "                  \"say\"]\n",
        "\n",
        "for stop_words in [ENGLISH_STOP_WORDS, ENGLISH_STOP_WORDS.union(new_stop_words)]:\n",
        "    print(f\"\\nEvaluating with stop_words = {stop_words}\")\n",
        "    tfidf_params[\"stop_words\"] = list(stop_words)\n",
        "    pipeline.set_params(tfidf=TfidfVectorizer(**tfidf_params))\n",
        "    pipeline.fit(train_df[\"text\"], train_df[\"label\"])\n",
        "    preds = pipeline.predict(dev_df[\"text\"])\n",
        "    acc = accuracy_score(dev_df[\"label\"], preds)\n",
        "    precision = precision_score(dev_df[\"label\"], preds)\n",
        "    recall = recall_score(dev_df[\"label\"], preds)\n",
        "    f1 = f1_score(dev_df[\"label\"], preds)\n",
        "    print(f\"Dev Accuracy: {acc*100:.2f}%\")\n",
        "    print(f\"Dev Precision: {precision*100:.2f}%\")\n",
        "    print(f\"Dev Recall: {recall*100:.2f}%\")\n",
        "    print(f\"Dev F1-score: {f1*100:.2f}%\")\n"
      ]
    },
    {
      "cell_type": "code",
      "execution_count": 60,
      "metadata": {},
      "outputs": [
        {
          "data": {
            "text/html": [
              "I could not <span style=\"color:red\">believe</span> how <span style=\"color:red\">terrible</span> and <span style=\"color:red\">boring</span> this <span style=\"color:green\">Hollywood</span> <span style=\"color:red\">remake</span> was.It's so dreadful. It <span style=\"color:green\">easily</span> lands a place in my top 10 <span style=\"color:red\">worst</span> <span style=\"color:green\">films</span> of 1998.About the only <span style=\"color:red\">thing</span> it had <span style=\"color:red\">going</span> for it was <span style=\"color:green\">Bruce</span> Willis,who should <span style=\"color:red\">stick</span> to <span style=\"color:green\">action</span> films,as a <span style=\"color:red\">completely</span> emotionless <span style=\"color:red\">killer</span> who'd kill his own mother for the right price.But I'd rather <span style=\"color:green\">listen</span> to Robbie Coltraine <span style=\"color:red\">talk</span> American for a <span style=\"color:green\">week</span> than <span style=\"color:green\">listen</span> to Richard Gere's nauseating <span style=\"color:red\">Irish</span> <span style=\"color:red\">accent</span> again.But this film is also implausible,unconvincing,uneven,unexciting,unimpressive and lands <span style=\"color:green\">Sidney</span> Poiter in a <span style=\"color:red\">rubbish</span> <span style=\"color:green\">role</span> to <span style=\"color:red\">make</span> a possible <span style=\"color:red\">career</span> comeback.One for filmroll-footie <span style=\"color:red\">purposes</span> entirely."
            ],
            "text/plain": [
              "<IPython.core.display.HTML object>"
            ]
          },
          "metadata": {},
          "output_type": "display_data"
        },
        {
          "name": "stdout",
          "output_type": "stream",
          "text": [
            "--------------------------------\n"
          ]
        },
        {
          "data": {
            "text/html": [
              "I <span style=\"color:red\">rented</span> Boogie <span style=\"color:red\">Nights</span> last <span style=\"color:green\">week</span> and I could tell you, when I <span style=\"color:red\">watched</span> the film I had a blast. If you think that when you <span style=\"color:green\">watch</span> the film you will get sicked by the porn. I <span style=\"color:red\">mean</span> yes, if your not a <span style=\"color:red\">porn</span> <span style=\"color:green\">person</span> who can't <span style=\"color:red\">bother</span> being by it, than this isn't the film to see. But the <span style=\"color:red\">thing</span> is, the whole film isn't <span style=\"color:green\">really</span> about porn. Well <span style=\"color:red\">halfway</span> through the film is about the <span style=\"color:red\">porn</span> industry but the other <span style=\"color:red\">half</span> is about the <span style=\"color:green\">character</span> <span style=\"color:red\">development</span> and the <span style=\"color:red\">bad</span> <span style=\"color:green\">situations</span> these <span style=\"color:red\">characters</span> go through. The <span style=\"color:red\">actors</span> <span style=\"color:green\">played</span> there <span style=\"color:green\">roles</span> perfect, <span style=\"color:green\">especially</span> <span style=\"color:green\">Mark</span> Wahlberg, John C. Reilly, and <span style=\"color:green\">William</span> H. Macy. The <span style=\"color:red\">sex</span> scenes, of <span style=\"color:green\">course</span> are <span style=\"color:green\">terrific</span> but <span style=\"color:red\">mainly</span> <span style=\"color:green\">focus</span> on the character's <span style=\"color:red\">hype</span> in <span style=\"color:red\">porn</span> <span style=\"color:green\">films</span> until there struggles. <span style=\"color:green\">Excellent</span> film, one of the best! <br /><br />Hedeen's Outlook: 10/10 **** A+"
            ],
            "text/plain": [
              "<IPython.core.display.HTML object>"
            ]
          },
          "metadata": {},
          "output_type": "display_data"
        },
        {
          "name": "stdout",
          "output_type": "stream",
          "text": [
            "--------------------------------\n"
          ]
        },
        {
          "data": {
            "text/html": [
              "First off, this movie is not <span style=\"color:red\">near</span> complete, my <span style=\"color:red\">guess</span> is that someone actually <span style=\"color:red\">bothered</span> to <span style=\"color:green\">steal</span> every other page of the script.<br /><br />The movie <span style=\"color:green\">contains</span> <span style=\"color:red\">bizarre</span> time-travels without notice, <span style=\"color:red\">inconsistent</span> dialogs, misplaced <span style=\"color:red\">details</span> all over, the <span style=\"color:green\">music</span> isn't very <span style=\"color:red\">bad</span> at all, other then misplaced tracks, and besides the <span style=\"color:red\">fact</span> that the <span style=\"color:red\">volume</span> <span style=\"color:red\">goes</span> up and down between the <span style=\"color:green\">different</span> tracks. The cutting-room <span style=\"color:red\">did</span> a descent <span style=\"color:green\">job</span> actually, and that <span style=\"color:red\">says</span> a lot. Missplaced sound <span style=\"color:red\">effects</span> ruin the tension, though.<br /><br />Luke <span style=\"color:green\">Perry</span> <span style=\"color:red\">does</span> what he <span style=\"color:red\">does</span> best, <span style=\"color:red\">just</span> looking worried, and <span style=\"color:red\">occasionally</span> coughing up punchlines from hell.<br /><br />I <span style=\"color:red\">seriously</span> <span style=\"color:red\">rate</span> this movie as the <span style=\"color:red\">worst</span> of 2007, and i've <span style=\"color:green\">seen</span> a few <span style=\"color:red\">bad</span> ones. Do not <span style=\"color:red\">spend</span> <span style=\"color:red\">money</span> on this one, it's not so <span style=\"color:red\">bad</span> it's a laugh, it's worse. Ratings above 1 star, should render a blacklist at IMDb, because it's a <span style=\"color:green\">damn</span> lie."
            ],
            "text/plain": [
              "<IPython.core.display.HTML object>"
            ]
          },
          "metadata": {},
          "output_type": "display_data"
        },
        {
          "name": "stdout",
          "output_type": "stream",
          "text": [
            "--------------------------------\n"
          ]
        },
        {
          "data": {
            "text/html": [
              "I <span style=\"color:red\">watched</span> this mini in the <span style=\"color:green\">early</span> eighties. Sam Waterson proved himself to be a <span style=\"color:green\">great</span> actor. In <span style=\"color:red\">fact</span> when he <span style=\"color:green\">began</span> Law and <span style=\"color:red\">Order</span> I was <span style=\"color:red\">disappointed</span> in him as it was not as <span style=\"color:green\">powerful</span> a role. <span style=\"color:red\">Unfortunately</span> the <span style=\"color:green\">good</span> <span style=\"color:green\">roles</span> do not <span style=\"color:red\">pay</span> the bills. I <span style=\"color:green\">wish</span> I could find a <span style=\"color:green\">copy</span> of this <span style=\"color:green\">rare</span> <span style=\"color:green\">series</span> and <span style=\"color:red\">review</span> it. It is both <span style=\"color:red\">factual</span> and entertaining. Everyone should see it to <span style=\"color:green\">know</span> what <span style=\"color:green\">really</span> happened. I was so <span style=\"color:green\">moved</span> I purchased and <span style=\"color:green\">read</span> the <span style=\"color:red\">book</span> \"Pppenheimer-Shatterer of Worlds\". And <span style=\"color:green\">saw</span> how this <span style=\"color:green\">man</span> became an unlikely <span style=\"color:red\">hero</span> who was never <span style=\"color:green\">rewarded</span> for his insight. If you get a <span style=\"color:green\">chance</span> be <span style=\"color:green\">sure</span> to <span style=\"color:green\">watch</span> this movie and see what a <span style=\"color:green\">performance</span> Mr. Waterston can <span style=\"color:green\">really</span> <span style=\"color:red\">provide</span> an audience. <span style=\"color:green\">Enjoy</span> the movies!"
            ],
            "text/plain": [
              "<IPython.core.display.HTML object>"
            ]
          },
          "metadata": {},
          "output_type": "display_data"
        },
        {
          "name": "stdout",
          "output_type": "stream",
          "text": [
            "--------------------------------\n"
          ]
        },
        {
          "data": {
            "text/html": [
              "This movie was never <span style=\"color:red\">intended</span> as a big-budget film but was a <span style=\"color:red\">cute</span> <span style=\"color:red\">little</span> picture that <span style=\"color:red\">pretty</span> much anyone could enjoy. It probably won't <span style=\"color:green\">change</span> your life, but it is certainly <span style=\"color:green\">charming</span> and engaging.<br /><br />Clifton Webb <span style=\"color:green\">plays</span> a curmudgeon (that's certainly not new) who has a TV. However, his ratings are <span style=\"color:red\">failing</span> and he is <span style=\"color:green\">worried</span> about cancellation. So he <span style=\"color:green\">decides</span> maybe he is too out of <span style=\"color:green\">touch</span> with kids--as he and his wife have none of their own. So, he volunteers as a scoutmaster and regrets <span style=\"color:red\">doing</span> this almost immediately! Remember, he IS a curmudgeon and doesn't <span style=\"color:red\">particularly</span> <span style=\"color:red\">like</span> kids. To <span style=\"color:red\">make</span> <span style=\"color:green\">things</span> worse, one of the <span style=\"color:green\">kids</span> <span style=\"color:green\">really</span> likes him and <span style=\"color:green\">follows</span> him <span style=\"color:red\">like</span> a lost puppy. No <span style=\"color:green\">matter</span> how indifferently he <span style=\"color:red\">acts</span> towards the kid, the <span style=\"color:green\">child</span> <span style=\"color:red\">just</span> wants to <span style=\"color:red\">spend</span> <span style=\"color:green\">time</span> with him! The <span style=\"color:red\">kid</span> is <span style=\"color:red\">cute</span> and <span style=\"color:green\">nearly</span> <span style=\"color:green\">steals</span> the show all by himself! <br /><br />What <span style=\"color:red\">happens</span> next and the <span style=\"color:green\">twists</span> and turns of the movie are something you'll <span style=\"color:red\">just</span> have to find out for yourself. <span style=\"color:green\">Understand</span> that this is a light, <span style=\"color:red\">cute</span> and yet not cloying movie you'll probably enjoy."
            ],
            "text/plain": [
              "<IPython.core.display.HTML object>"
            ]
          },
          "metadata": {},
          "output_type": "display_data"
        },
        {
          "name": "stdout",
          "output_type": "stream",
          "text": [
            "--------------------------------\n"
          ]
        },
        {
          "data": {
            "text/html": [
              "I <span style=\"color:green\">thought</span> this was an <span style=\"color:green\">extremely</span> <span style=\"color:red\">bad</span> movie. The whole <span style=\"color:green\">time</span> I was <span style=\"color:red\">watching</span> this movie I couldn't <span style=\"color:green\">help</span> but think over and over how <span style=\"color:red\">bad</span> it is, and how that was $3.69 down the drain. The <span style=\"color:red\">plot</span> was so jumpy. They <span style=\"color:red\">did</span> an <span style=\"color:green\">excellent</span> <span style=\"color:green\">job</span> at the <span style=\"color:red\">beginning</span> of <span style=\"color:red\">explaining</span> who <span style=\"color:green\">dated</span> who in <span style=\"color:green\">high</span> school, but they never <span style=\"color:green\">really</span> <span style=\"color:red\">explained</span> anything after that. Was it a supernatural thriller? Was it a <span style=\"color:green\">regular</span> thriller? <span style=\"color:red\">Apparently</span> you can <span style=\"color:red\">decide</span> for yourself, because they didn't see the <span style=\"color:red\">need</span> to explain. I understood <span style=\"color:red\">basically</span> what happened, I think. What I <span style=\"color:red\">got</span> <span style=\"color:red\">confused</span> about was all of it prior, what was the <span style=\"color:green\">deal</span> with the <span style=\"color:green\">bloody</span> noses, <span style=\"color:red\">phone</span> calls, etc.? Was this <span style=\"color:red\">guy</span> <span style=\"color:green\">coming</span> back? Was the wife channeling \"Carrie\" or something? Who knows? You certainly won't after <span style=\"color:red\">watching</span> this movie."
            ],
            "text/plain": [
              "<IPython.core.display.HTML object>"
            ]
          },
          "metadata": {},
          "output_type": "display_data"
        },
        {
          "name": "stdout",
          "output_type": "stream",
          "text": [
            "--------------------------------\n"
          ]
        },
        {
          "data": {
            "text/html": [
              "This was one of the biggest pieces of <span style=\"color:red\">crap</span> I have ever had to watch. I mean, seriously. How would anybody else <span style=\"color:green\">feel</span> if they were in Woody Harrelson's <span style=\"color:red\">shoes</span> and your wife was even <span style=\"color:red\">CONSIDERING</span> it would be a <span style=\"color:green\">good</span> <span style=\"color:red\">idea</span> to <span style=\"color:red\">sleep</span> with the other <span style=\"color:red\">guy</span> even for a <span style=\"color:green\">million</span> bucks. After all, she was the one talking about it in <span style=\"color:red\">bed</span> and <span style=\"color:red\">saying</span> how it would be <span style=\"color:green\">good</span> for them since he can <span style=\"color:red\">build</span> his house or whatever with that money. Woody never <span style=\"color:green\">fully</span> <span style=\"color:red\">agreed</span> to it until she <span style=\"color:red\">talked</span> him into it. How CAN you trust her? Who the <span style=\"color:red\">hell</span> would actually even <span style=\"color:red\">consider</span> that if they were married? I don't <span style=\"color:red\">care</span> how <span style=\"color:red\">desperate</span> they were. That's the most <span style=\"color:red\">ridiculous</span> <span style=\"color:red\">thing</span> I have ever <span style=\"color:green\">heard</span> in my life. Then, he flips out on her. Apparently, he had no right to mistrust her, other than the <span style=\"color:red\">fact</span> that his wife <span style=\"color:red\">just</span> <span style=\"color:red\">slept</span> with another <span style=\"color:red\">dude</span> who is <span style=\"color:green\">extremely</span> rich and handsome. <span style=\"color:red\">Oh</span> and wait, then he's <span style=\"color:red\">supposed</span> to apologize to HER after she files for the <span style=\"color:green\">divorce</span> so she can be with the <span style=\"color:red\">guy</span> she <span style=\"color:red\">slept</span> with. Of <span style=\"color:green\">course</span> Woody has no right to say anything to her or mistrust her <span style=\"color:green\">especially</span> after she still has <span style=\"color:green\">Roy</span> Hobb's <span style=\"color:green\">card</span> in her wallet. Then, at the <span style=\"color:red\">end</span> of the movie, she's <span style=\"color:red\">apparently</span> so in <span style=\"color:green\">love</span> with Woody still and <span style=\"color:red\">misses</span> him so much, that she was not <span style=\"color:red\">going</span> to leave Hobbs until he made some <span style=\"color:red\">ridiculously</span> <span style=\"color:red\">stupid</span> <span style=\"color:green\">story</span> up to <span style=\"color:red\">try</span> to <span style=\"color:red\">hint</span> to her to leave, and she bleeping <span style=\"color:green\">thanks</span> Hobbs???? Are you bleeping <span style=\"color:red\">kidding</span> me? Was she under <span style=\"color:green\">contract</span> as his <span style=\"color:red\">sex</span> slave or something?? I <span style=\"color:red\">mean</span> what the bleep?? <span style=\"color:red\">Oh</span> and <span style=\"color:red\">wait</span> it gets better. She bleeping kisses him passionately before she gets out of the car. Yea, she's not a whore. Oh, <span style=\"color:green\">thank</span> you for <span style=\"color:red\">letting</span> me go, <span style=\"color:red\">let</span> me go <span style=\"color:red\">make</span> out with you one last <span style=\"color:green\">time</span> for <span style=\"color:green\">good</span> ole' sake. Smooch smooch, smooch even though I'm still <span style=\"color:green\">married</span> to a <span style=\"color:red\">guy</span> I <span style=\"color:red\">left</span> for a rich guy. I have never <span style=\"color:green\">seen</span> such a <span style=\"color:red\">piece</span> of <span style=\"color:red\">crap</span> in my life. How the <span style=\"color:red\">hell</span> are we <span style=\"color:red\">supposed</span> to <span style=\"color:green\">feel</span> <span style=\"color:green\">good</span> after that <span style=\"color:red\">horrible</span> ending? What was this movie <span style=\"color:red\">supposed</span> to represent? NOTHING CAME OUT OF THIS! This was the most <span style=\"color:red\">pointless</span> movie I have ever <span style=\"color:green\">seen</span> in my life. Two <span style=\"color:red\">pathetic</span> <span style=\"color:red\">desperate</span> people. If I were Woody, I would tell her to go drown herself in that <span style=\"color:red\">body</span> of <span style=\"color:green\">water</span> they were near. Apparently, he had no <span style=\"color:red\">self</span> respect. What the <span style=\"color:red\">hell</span> was <span style=\"color:green\">Roy</span> Hobbs <span style=\"color:red\">thinking</span> by <span style=\"color:red\">taking</span> this <span style=\"color:red\">horrible</span> role. I <span style=\"color:green\">feel</span> <span style=\"color:red\">like</span> puking after <span style=\"color:red\">watching</span> this. This movie was so bad, it was <span style=\"color:red\">seriously</span> laughable. I want those two <span style=\"color:red\">hours</span> of my <span style=\"color:green\">life</span> back that I <span style=\"color:red\">wasted</span> <span style=\"color:red\">watching</span> this <span style=\"color:red\">piece</span> of ****."
            ],
            "text/plain": [
              "<IPython.core.display.HTML object>"
            ]
          },
          "metadata": {},
          "output_type": "display_data"
        },
        {
          "name": "stdout",
          "output_type": "stream",
          "text": [
            "--------------------------------\n"
          ]
        },
        {
          "data": {
            "text/html": [
              "I <span style=\"color:red\">just</span> <span style=\"color:red\">watched</span> it for the <span style=\"color:green\">second</span> <span style=\"color:green\">time</span> <span style=\"color:green\">today</span> and I must say with all my <span style=\"color:green\">heart</span> it is about <span style=\"color:green\">damn</span> <span style=\"color:green\">time</span> they made a movie about us as <span style=\"color:green\">people</span> not as spiritual beings. Such a <span style=\"color:red\">waste</span> of <span style=\"color:green\">human</span> <span style=\"color:green\">life</span> as this <span style=\"color:green\">story</span> was maybe some <span style=\"color:green\">good</span> will <span style=\"color:green\">come</span> out of it. And <span style=\"color:green\">Eric</span> is hotter than ever. To often in the <span style=\"color:red\">movies</span> First <span style=\"color:green\">Nations</span> <span style=\"color:green\">people</span> are <span style=\"color:green\">seen</span> as other than <span style=\"color:green\">everyday</span> people. We are always <span style=\"color:green\">portrayed</span> as chiefs or <span style=\"color:green\">medicine</span> people. <span style=\"color:red\">Hey</span> we are <span style=\"color:red\">just</span> <span style=\"color:red\">like</span> everyone else. And this movie <span style=\"color:red\">showed</span> <span style=\"color:red\">just</span> that. We <span style=\"color:red\">hurt</span> when an injustice is done and we can <span style=\"color:green\">win</span> in quest for justice. It is <span style=\"color:green\">really</span> to <span style=\"color:red\">bad</span> that the <span style=\"color:red\">big</span> movie <span style=\"color:red\">companies</span> cant see that. I cant <span style=\"color:red\">wait</span> <span style=\"color:green\">till</span> this <span style=\"color:red\">comes</span> out on DVD. <span style=\"color:green\">Thanks</span> to those who chose to show this <span style=\"color:green\">story</span> as it <span style=\"color:green\">really</span> was."
            ],
            "text/plain": [
              "<IPython.core.display.HTML object>"
            ]
          },
          "metadata": {},
          "output_type": "display_data"
        },
        {
          "name": "stdout",
          "output_type": "stream",
          "text": [
            "--------------------------------\n"
          ]
        },
        {
          "data": {
            "text/html": [
              "I've <span style=\"color:green\">read</span> through a <span style=\"color:green\">lot</span> of the <span style=\"color:green\">comments</span> here about how this movie <span style=\"color:green\">sticks</span> to the book.. I don't think any of them have actually <span style=\"color:green\">read</span> it. Edgar Rice <span style=\"color:red\">wrote</span> about a dangerous <span style=\"color:red\">African</span> <span style=\"color:red\">Jungle</span> and Apes were <span style=\"color:green\">killers</span> and hunters. We <span style=\"color:green\">know</span> differently now and this movie portrays Apes in a more <span style=\"color:green\">modern</span> view. I've never <span style=\"color:green\">seen</span> a <span style=\"color:red\">Tarzan</span> movie that even <span style=\"color:red\">comes</span> close to Edgar's vision. Maybe one day <span style=\"color:green\">Hollywood</span> with trust <span style=\"color:red\">talented</span> and <span style=\"color:red\">respected</span> <span style=\"color:red\">authors</span> to tell the story. So, if you've never <span style=\"color:green\">read</span> the <span style=\"color:red\">book</span> and <span style=\"color:green\">enjoy</span> a <span style=\"color:green\">good</span> <span style=\"color:green\">story</span> about <span style=\"color:green\">feelings</span> and a fluffy <span style=\"color:green\">bunny</span> view of <span style=\"color:red\">wild</span> animals, maybe a <span style=\"color:green\">good</span> cry, see the movie. I <span style=\"color:green\">hope</span> John Carter of Mars get's more <span style=\"color:green\">respect</span> than <span style=\"color:red\">Tarzan</span> has. We <span style=\"color:green\">miss</span> ya, Edgar!"
            ],
            "text/plain": [
              "<IPython.core.display.HTML object>"
            ]
          },
          "metadata": {},
          "output_type": "display_data"
        },
        {
          "name": "stdout",
          "output_type": "stream",
          "text": [
            "--------------------------------\n"
          ]
        },
        {
          "data": {
            "text/html": [
              "I <span style=\"color:red\">usually</span> much <span style=\"color:red\">prefer</span> <span style=\"color:green\">French</span> <span style=\"color:red\">movies</span> over American ones, with explosions and <span style=\"color:red\">car</span> chases, but this movie was very disappointing. There is no <span style=\"color:green\">way</span> to <span style=\"color:red\">write</span> a spoiler because nothing <span style=\"color:green\">really</span> happens. This <span style=\"color:green\">French</span> couple has been <span style=\"color:green\">living</span> in Lisbon for years, and they <span style=\"color:green\">return</span> to <span style=\"color:green\">Paris</span> for a friend's wedding. They announce to another <span style=\"color:green\">friend</span> they are <span style=\"color:red\">having</span> <span style=\"color:red\">dinner</span> with that they are <span style=\"color:red\">going</span> to split. Then nothing much happens, they don't seem to <span style=\"color:green\">know</span> whether they want to <span style=\"color:green\">separate</span> or not. I don't <span style=\"color:green\">necessarily</span> think that their hesitations <span style=\"color:red\">make</span> for a <span style=\"color:red\">bad</span> movie, it is very <span style=\"color:green\">human</span> to <span style=\"color:green\">hesitate</span> before <span style=\"color:red\">making</span> such a <span style=\"color:red\">decision</span> for good, but this could be <span style=\"color:red\">treated</span> in an <span style=\"color:red\">interesting</span> manner, <span style=\"color:red\">giving</span> some flesh to their <span style=\"color:green\">desires</span> and their relationship, but that <span style=\"color:red\">does</span> not happen. One gets out of the <span style=\"color:red\">theater</span> unsure of why these two <span style=\"color:red\">got</span> together or want to split. The only <span style=\"color:red\">piece</span> I <span style=\"color:green\">enjoyed</span> was the <span style=\"color:green\">conversation</span> with the drunk. That was <span style=\"color:green\">true</span> to life."
            ],
            "text/plain": [
              "<IPython.core.display.HTML object>"
            ]
          },
          "metadata": {},
          "output_type": "display_data"
        },
        {
          "name": "stdout",
          "output_type": "stream",
          "text": [
            "--------------------------------\n"
          ]
        }
      ],
      "source": [
        "tfidf = pipeline.named_steps['tfidf']\n",
        "logreg = pipeline.named_steps['logreg']\n",
        "\n",
        "vocabulary = tfidf.vocabulary_\n",
        "feature_names = tfidf.get_feature_names_out()\n",
        "coefficients = logreg.coef_[0]\n",
        "\n",
        "def highlight_review(review, threshold=0.5):\n",
        "    tokens = review.split()\n",
        "    highlighted = []\n",
        "    for token in tokens:\n",
        "        token_clean = token.lower()\n",
        "        if token_clean in feature_names:\n",
        "            # Find index of token in the vocabulary\n",
        "            idx = np.where(feature_names == token_clean)[0][0]\n",
        "            coef = coefficients[idx]\n",
        "            # Color positive words in green and negative in red\n",
        "            if coef > threshold:\n",
        "                token = f'<span style=\"color:green\">{token}</span>'\n",
        "            elif coef < -threshold:\n",
        "                token = f'<span style=\"color:red\">{token}</span>'\n",
        "        highlighted.append(token)\n",
        "    return ' '.join(highlighted)\n",
        "\n",
        "\n",
        "\n",
        "for i in range(10):\n",
        "    sample_review = test_df['text'].iloc[i]\n",
        "    display(HTML(highlight_review(sample_review, threshold=0.1)))\n",
        "    print('--------------------------------')"
      ]
    },
    {
      "cell_type": "markdown",
      "metadata": {},
      "source": [
        "We see that we have removed the words that are not related to sentiment and the model is more focused on the sentiment of the review. But we see others. Maybe we should just limit the vocabulary size to the most important words the ones that are really important for the classification. This should be investigated.\n",
        "\n",
        "We see that the model stays with equivalent results. It means that the stop words are not important for the classification. Plus we now have a slightly stronger confidence in the results as we know that the model is not overfitting on those stop words. We would need to investigate further to see if we can improve the results by removing other stop words and feeling confident enough to put such models in production. We don't want the user looking at results and seeing that a word like \"film\" or \"movie\" drove the results the user will lose confidence in the model. "
      ]
    }
  ],
  "metadata": {
    "kernelspec": {
      "display_name": "bse-nlp-DetGwK6_-py3.11",
      "language": "python",
      "name": "python3"
    },
    "language_info": {
      "codemirror_mode": {
        "name": "ipython",
        "version": 3
      },
      "file_extension": ".py",
      "mimetype": "text/x-python",
      "name": "python",
      "nbconvert_exporter": "python",
      "pygments_lexer": "ipython3",
      "version": "3.11.5"
    }
  },
  "nbformat": 4,
  "nbformat_minor": 2
}
