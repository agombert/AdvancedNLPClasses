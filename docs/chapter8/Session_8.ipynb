{
  "cells": [
    {
      "cell_type": "markdown",
      "metadata": {
        "id": "9ufxzo5GdOaz"
      },
      "source": [
        "![bse_logo_textminingcourse](https://bse.eu/sites/default/files/bse_logo_small.png)\n",
        "\n",
        "# Advanced Methods in Natural Language Processing - Session 8\n",
        "\n",
        "## Table of Contents\n",
        "\n",
        "1. **[Part 1: Fine-Tuning BERT](#part1)**\n",
        "   - 1.1. Loading and Exploring Data\n",
        "   - 1.2. Loading a BERT from HF hub\n",
        "   - 1.3. Training BERT\n",
        "   - 1.4. Learning Curve - Model Evaluation\n",
        "\n",
        "2. **[Part 2: Few Shot Learing](#part2)**\n",
        "   - 2.1. Loading SetFit\n",
        "   - 2.2. Training the SetFit with 32 examples\n",
        "   - 2.3. Try to augment the data with prompt\n",
        "   - 2.4. Model Evaluation\n",
        "\n",
        "3. **[Part 3: Biases in BERT models - WinoGrad schemas](#part3)**\n",
        "   - 3.1. Gender Biases\n",
        "   - 3.2. Understanding of the agent\n",
        "\n"
      ]
    },
    {
      "cell_type": "markdown",
      "metadata": {
        "id": "l06WFgIIOp6P"
      },
      "source": [
        "## Part 0: Metrics Functions to Consider\n",
        "\n",
        "Before diving into the model building and training, it's crucial to establish the metrics we'll use to evaluate our models. In this part, we will define and discuss the different metrics functions that are commonly used in NLP tasks, particularly for text classification:\n",
        "\n",
        "1. **Accuracy**: Measures the proportion of correct predictions among the total number of cases examined. It's a straightforward metric but can be misleading if the classes are imbalanced.\n",
        "\n",
        "2. **Precision and Recall**: Precision measures the proportion of positive identifications that were actually correct, while recall measures the proportion of actual positives that were identified correctly. These metrics are especially important when dealing with imbalanced datasets.\n",
        "\n",
        "3. **F1 Score**: The harmonic mean of precision and recall. It's a good way to show that a classifer has a good balance between precision and recall.\n",
        "\n",
        "4. **Confusion Matrix**: A table used to describe the performance of a classification model on a set of test data for which the true values are known. It allows the visualization of the performance of an algorithm.\n",
        "\n",
        "5. **ROC and AUC**: The receiver operating characteristic curve is a graphical plot that illustrates the diagnostic ability of a binary classifier system. The area under the curve (AUC) represents measure of separability.\n",
        "\n",
        "We will implement these metrics functions using libraries such as scikit-learn, and they will be used to assess and compare the performance of our different models throughout this exercise."
      ]
    },
    {
      "cell_type": "code",
      "execution_count": 1,
      "metadata": {
        "id": "AkfXFXf2Oruj"
      },
      "outputs": [],
      "source": [
        "import matplotlib.pyplot as plt\n",
        "import numpy as np\n",
        "from sklearn.metrics import accuracy_score, precision_score, recall_score, f1_score\n",
        "\n",
        "class Metrics:\n",
        "    def __init__(self):\n",
        "        self.results = {}\n",
        "\n",
        "    def run(self, y_true, y_pred, method_name, average='macro'):\n",
        "        # Calculate metrics\n",
        "        accuracy = accuracy_score(y_true, y_pred)\n",
        "        precision = precision_score(y_true, y_pred, average=average)\n",
        "        recall = recall_score(y_true, y_pred, average=average)\n",
        "        f1 = f1_score(y_true, y_pred, average=average)\n",
        "\n",
        "        # Store results\n",
        "        self.results[method_name] = {\n",
        "            'accuracy': accuracy,\n",
        "            'precision': precision,\n",
        "            'recall': recall,\n",
        "            'f1': f1,\n",
        "        }\n",
        "\n",
        "    def plot(self):\n",
        "        # Create subplots\n",
        "        fig, axs = plt.subplots(2, 2, figsize=(15, 10))\n",
        "\n",
        "        # Plot each metric\n",
        "        for i, metric in enumerate(['accuracy', 'precision', 'recall', 'f1']):\n",
        "            ax = axs[i//2, i%2]\n",
        "            values = [res[metric] * 100 for res in self.results.values()]\n",
        "            ax.bar(self.results.keys(), values)\n",
        "            ax.set_title(metric)\n",
        "            ax.set_ylim(0, 100)\n",
        "\n",
        "            # Add values on the bars\n",
        "            for j, v in enumerate(values):\n",
        "                ax.text(j, v + 0.02, f\"{v:.2f}\", ha='center', va='bottom')\n",
        "\n",
        "        plt.tight_layout()\n",
        "        plt.show()"
      ]
    },
    {
      "cell_type": "markdown",
      "metadata": {
        "id": "isy4Wby6Ol7k"
      },
      "source": [
        "## Part 1 - Fine tuning BERT models\n",
        "\n",
        "In this part, we will create a baseline model for text classification with BERT. This involves:"
      ]
    },
    {
      "cell_type": "markdown",
      "metadata": {
        "id": "l3CfPXOtPJ_5"
      },
      "source": [
        "### 1. **Loading and Exploring Data**:\n",
        "\n",
        "We will load the AG News corpus and perform necessary preprocessing steps like exploring the dataset."
      ]
    },
    {
      "cell_type": "code",
      "execution_count": null,
      "metadata": {
        "colab": {
          "base_uri": "https://localhost:8080/",
          "height": 443,
          "referenced_widgets": [
            "0bc9beb2e74a4019aa925ccb4639765c",
            "6e56344fd0f445a1a5aa6ebcf19c53a7",
            "61be7c64cf9e4558bbd48929c26ad8a8",
            "3a06efa87c9a47a2910eb807fece7e08",
            "ab562fceb9cc4f30a1d0d380ca2a84f3",
            "9f6a67b11d3f4991b7c6b5cbfe91117c",
            "cea8f4838c204b119800bf738fc5ab39",
            "d1f74f52d1404a46828e3d3d453bd2a0",
            "14df9f13d9414486883bf90aa223c41b",
            "217404d381d74304a3e629239c8fda00",
            "dba640b3230d487da7d9b04ee64b1ac7",
            "0f6d4ae7ebb04e699442f1be6c1c64ab",
            "e0c3133edc8a45d3abbafb947d2e2281",
            "c2cbd029c4ff4609acdc4e9e3a28c605",
            "de7d21608f634650a0c4e3d8881ed00c",
            "8119d7df3fe7484cbc6c04a2b506efa4",
            "36f339ebb4ba426dbf33dece6edc2121",
            "b4826e8a26494fe99eaa701c057b228b",
            "e0bcd3a176884e108105cb58738cb495",
            "db73b5b373ed478eb9b3c9ce12fa7836",
            "7c7572405d6d460eb999d433752fc4e5",
            "718d1e370fe444b29e5f38b564aa90d3",
            "b3952b15131246cabc86ec85ca11fe13",
            "0db00e17dfc74556a97b57aedb435e69",
            "033c6653a885441aab188969a0b49c42",
            "18fa191e12b24833a36f3aa5248fe909",
            "1c8ad9e18f9f4363a8c652deab829801",
            "c0cbc1d3d10c4be38cde9208ff35f62e",
            "8acbb0cd20a84420b51a17e55ab28f32",
            "50db3ad3a79c4950b52bc330fd01c430",
            "710c92a5552643f9a245ddc23a32950c",
            "e05e3122806a438e98bfea3aa482d398",
            "8f03cd6cfb8248da90fb9f77b440acf6",
            "df8c59a7be88417a92937baa615de91d",
            "2c7ef14631f646698b99ab4527be7a2d",
            "a04c8214a3d8434390df1159a693cce5",
            "6d7431108f514747a6a174d1899fd745",
            "4d9bcce22e0c4154a5e666a9adbbbdc9",
            "361047bdadda41d0aa5feabe8bff8449",
            "edc4229442ea422a8c2709838dd6a373",
            "f7f0d131b8314204bdb0d545a3e2e021",
            "78c408e93de1483e9628ec8820513114",
            "1535d54deeb64c2bae4a3464da7cca10",
            "02ccc9d92b814be8a89ecf659fcddc5b"
          ]
        },
        "id": "Nro-bNZcPOP4",
        "outputId": "e889d309-8c0f-4ce2-b30d-7188882d8b81"
      },
      "outputs": [],
      "source": [
        "from datasets import load_dataset\n",
        "\n",
        "# Load the 'ag_news' dataset\n",
        "dataset = load_dataset(\"ag_news\")\n",
        "\n",
        "# Explore the structure of the dataset\n",
        "print(dataset)"
      ]
    },
    {
      "cell_type": "markdown",
      "metadata": {
        "id": "EFkLs38MPU3x"
      },
      "source": [
        "Let's create stratified samples for training and validation sets ensuring that each class is represented in proportion to its frequency. It will go faster with just a sample, and we will be able to make tests on validation test before trying to work on the testing set."
      ]
    },
    {
      "cell_type": "code",
      "execution_count": 3,
      "metadata": {
        "id": "kAPU1X3IPVsN"
      },
      "outputs": [],
      "source": [
        "from sklearn.model_selection import train_test_split\n",
        "\n",
        "data = dataset['train']['text']\n",
        "labels = dataset['train']['label']\n",
        "\n",
        "test_data = dataset['test']['text']\n",
        "test_labels = dataset['test']['label']\n",
        "\n",
        "# Stratified split to create a smaller training and validation set\n",
        "train_data, valid_data, train_labels, valid_labels = train_test_split(\n",
        "    data, labels, stratify=labels, test_size=0.2, random_state=42\n",
        ")\n",
        "\n",
        "# Further split to get 10k and 2k samples respectively\n",
        "train_data, _, train_labels, _ = train_test_split(\n",
        "    train_data, train_labels, stratify=train_labels, train_size=10000, random_state=42\n",
        ")\n",
        "valid_data, _, valid_labels, _ = train_test_split(\n",
        "    valid_data, valid_labels, stratify=valid_labels, train_size=2000, random_state=42\n",
        ")"
      ]
    },
    {
      "cell_type": "code",
      "execution_count": null,
      "metadata": {
        "colab": {
          "base_uri": "https://localhost:8080/",
          "height": 590
        },
        "id": "NLzS0wdHPYvA",
        "outputId": "cb5fd68c-5363-4c26-a382-a6e878a24bda"
      },
      "outputs": [],
      "source": [
        "from wordcloud import WordCloud\n",
        "import matplotlib.pyplot as plt\n",
        "from collections import defaultdict\n",
        "import nltk\n",
        "from nltk.corpus import stopwords\n",
        "\n",
        "nltk.download('stopwords')\n",
        "stop_words = set(stopwords.words('english'))\n",
        "\n",
        "labels = {0: 'World', 1: 'Sports',\n",
        "          2: 'Business', 3: 'Sci/Tech'}\n",
        "\n",
        "# Prepare data for wordclouds\n",
        "label_data = defaultdict(lambda: '')\n",
        "\n",
        "for text, label in zip(train_data, train_labels):\n",
        "    label_data[label] += text\n",
        "\n",
        "# Generate and plot wordclouds for each label\n",
        "fig, axs = plt.subplots(2, 2, figsize=(10, 6))  # Create 2x2 subplots\n",
        "axs = axs.flatten()  # Flatten the axis array\n",
        "\n",
        "for ax, (label, text) in zip(axs, label_data.items()):\n",
        "    wordcloud = WordCloud(stopwords=stop_words, background_color='white').generate(text)\n",
        "    ax.imshow(wordcloud, interpolation='bilinear')\n",
        "    ax.set_title('WordCloud for Label {}'.format(labels.get(label)))\n",
        "    ax.axis('off')\n",
        "\n",
        "plt.tight_layout()\n",
        "plt.show()"
      ]
    },
    {
      "cell_type": "code",
      "execution_count": null,
      "metadata": {
        "colab": {
          "base_uri": "https://localhost:8080/",
          "height": 435
        },
        "id": "jFYLUoCzPbzP",
        "outputId": "50dbcd3d-82ef-4ebd-e7aa-c658d66f8bce"
      },
      "outputs": [],
      "source": [
        "from collections import Counter\n",
        "import matplotlib.pyplot as plt\n",
        "\n",
        "# Count the frequency of each label\n",
        "label_counts = Counter(train_labels)\n",
        "\n",
        "# Data to plot\n",
        "_labels = [labels.get(lab) for lab in label_counts.keys()]\n",
        "sizes = label_counts.values()\n",
        "colors = ['gold', 'yellowgreen', 'lightcoral', 'lightskyblue']\n",
        "\n",
        "# Plotting the pie chart\n",
        "plt.pie(sizes, labels=_labels, colors=colors, autopct='%1.1f%%', startangle=140)\n",
        "plt.axis('equal')  # Equal aspect ratio ensures that pie is drawn as a circle.\n",
        "plt.title('Proportion of Each Label')\n",
        "plt.show()\n"
      ]
    },
    {
      "cell_type": "markdown",
      "metadata": {
        "id": "lJimp-f1QTP3"
      },
      "source": [
        "Let's have a baseline with TF-IDF + logistic regression"
      ]
    },
    {
      "cell_type": "code",
      "execution_count": null,
      "metadata": {
        "colab": {
          "base_uri": "https://localhost:8080/",
          "height": 643
        },
        "id": "5gC0bQNYQXAe",
        "outputId": "4576135c-b541-4d30-a5a0-9de96ba63c74"
      },
      "outputs": [],
      "source": [
        "from sklearn.feature_extraction.text import TfidfVectorizer\n",
        "from sklearn.linear_model import LogisticRegression\n",
        "from sklearn.pipeline import Pipeline\n",
        "from sklearn.model_selection import train_test_split\n",
        "\n",
        "# Create a pipeline with TF-IDF and Logistic Regression\n",
        "pipeline = Pipeline([\n",
        "    ('tfidf', TfidfVectorizer(ngram_range=(1, 2),\n",
        "                              min_df=5,\n",
        "                              stop_words='english')),\n",
        "    ('clf', LogisticRegression(solver='liblinear')),\n",
        "])\n",
        "\n",
        "# Fit the pipeline on the training data\n",
        "pipeline.fit(train_data, train_labels)\n",
        "\n",
        "valid_preds = pipeline.predict(valid_data)\n",
        "\n",
        "metrics_val= Metrics()\n",
        "metrics_val.run(valid_labels, valid_preds, \"basic TF-IDF\")\n",
        "metrics_val.plot()"
      ]
    },
    {
      "cell_type": "markdown",
      "metadata": {
        "id": "1jKu4kokPheE"
      },
      "source": [
        "### 2. **Import BERT components**:\n",
        "\n",
        "The first thing is to load from HF.\n"
      ]
    },
    {
      "cell_type": "code",
      "execution_count": null,
      "metadata": {
        "colab": {
          "base_uri": "https://localhost:8080/"
        },
        "id": "iKBVaRoEPe7P",
        "outputId": "5c48d6e3-8a73-4ee8-e737-3d1359de3cb0"
      },
      "outputs": [],
      "source": [
        "from transformers import AutoTokenizer, TFAutoModel\n",
        "\n",
        "checkpoint= \"distilbert-base-uncased\"# let's go faster !\n",
        "tokenizer = AutoTokenizer.from_pretrained(checkpoint)\n",
        "model = TFAutoModel.from_pretrained(checkpoint)\n",
        "\n",
        "batch_size=64\n",
        "max_length=64\n",
        "rate = 0.5\n",
        "num_labels = len(np.unique(valid_labels))"
      ]
    },
    {
      "cell_type": "code",
      "execution_count": null,
      "metadata": {
        "colab": {
          "base_uri": "https://localhost:8080/"
        },
        "id": "YHCXUcWMi-kp",
        "outputId": "150ef9d5-960f-49d4-8558-8693e69922b1"
      },
      "outputs": [],
      "source": [
        "tokenizer.batch_encode_plus(['I am a BSE student'], add_special_tokens=True, max_length=max_length,\n",
        "                                         padding='max_length', return_attention_mask=True,\n",
        "                                         return_token_type_ids=True, truncation=True,\n",
        "                                         return_tensors=\"np\")"
      ]
    },
    {
      "cell_type": "code",
      "execution_count": null,
      "metadata": {
        "colab": {
          "base_uri": "https://localhost:8080/"
        },
        "id": "eY5Z4yv5kX3D",
        "outputId": "35af2383-58ff-49fa-a5cf-585a909ae359"
      },
      "outputs": [],
      "source": [
        "tokenizer.batch_encode_plus(['I am a [MASK] student'], add_special_tokens=True, max_length=max_length,\n",
        "                                         padding='max_length', return_attention_mask=True,\n",
        "                                         return_token_type_ids=True, truncation=True,\n",
        "                                         return_tensors=\"np\")"
      ]
    },
    {
      "cell_type": "markdown",
      "metadata": {
        "id": "b7K6BjfBQ2C0"
      },
      "source": [
        "### 3. Implement the layer on top of BERT\n",
        "\n",
        "We need to add one layer upon the BERT pre-trained model to leverage the knowledge. Btw, we will create one model where we freeze BERT weights and another with training all the network.\n",
        "\n",
        "BERT needs two types of inputs:\n",
        "- **input_ids**: which are the ids of the tokens once the sentence is tokenized\n",
        "- **input_masks_in**: To indicate to the model if we consider the token or not\n",
        "\n",
        "Indeed, as we pad every sentence to a length of 64 tokens, sometimes there are less tokens ans do we will have 0s to indicate to the model not to consider those tokens.\n",
        "\n",
        "The architecture is:\n",
        "1. Inputs ids and Inputs Masks\n",
        "2. Embedding layer --> the BERT model to process the inputs\n",
        "3. A layer upon the embeddings layer to convert the final [CLS] token into probabilities."
      ]
    },
    {
      "cell_type": "code",
      "execution_count": 10,
      "metadata": {
        "colab": {
          "base_uri": "https://localhost:8080/",
          "height": 946
        },
        "id": "mqkWKAy8T9wN",
        "outputId": "0f62732c-5f36-4e1f-b1ce-9385ffd36275"
      },
      "outputs": [],
      "source": [
        "import tensorflow as tf\n",
        "\n",
        "## Input\n",
        "input_ids_in = tf.keras.layers.Input(shape=(max_length,), name='input_token', dtype='int32')\n",
        "input_masks_in = tf.keras.layers.Input(shape=(max_length,), name='masked_token', dtype='int32')\n",
        "\n",
        "# Embedding layers\n",
        "# we need only the first token representation nothing else !\n",
        "embedding_layer = model(input_ids_in, attention_mask=input_masks_in)[0][:,0,:]"
      ]
    },
    {
      "cell_type": "markdown",
      "metadata": {
        "id": "K2mY3FnNWGVc"
      },
      "source": [
        "Let's generate some batches. In order no to go"
      ]
    },
    {
      "cell_type": "code",
      "execution_count": 11,
      "metadata": {
        "id": "g_pyH0r0XXqZ"
      },
      "outputs": [],
      "source": [
        "from sklearn.utils import shuffle\n",
        "\n",
        "def get_batches(X_train, y_train, tokenizer, batch_size, max_length):\n",
        "    \"\"\"\n",
        "    Objective: Create a generator that yields batches of tokenized text and corresponding labels.\n",
        "               The data is shuffled and looped through indefinitely.\n",
        "\n",
        "    Inputs:\n",
        "        - X_train (np.array): Array of text data (features).\n",
        "        - y_train (np.array): Array of labels.\n",
        "        - tokenizer (DistilBertTokenizer): Tokenizer for text data.\n",
        "        - batch_size (int): Size of each batch.\n",
        "        - max_length (int): Maximum length of tokenized sequences.\n",
        "    Outputs:\n",
        "        - Generator yielding batches of (inputs, targets).\n",
        "    \"\"\"\n",
        "\n",
        "    # Pre-tokenize the entire dataset\n",
        "    inputs = tokenizer.batch_encode_plus(list(X_train), add_special_tokens=True, max_length=max_length,\n",
        "                                         padding='max_length', return_attention_mask=True,\n",
        "                                         return_token_type_ids=True, truncation=True,\n",
        "                                         return_tensors=\"np\")\n",
        "\n",
        "    input_ids = np.asarray(inputs['input_ids'], dtype='int32')\n",
        "    attention_masks = np.asarray(inputs['attention_mask'], dtype='int32')\n",
        "\n",
        "    # Shuffle and yield batches\n",
        "    while True:\n",
        "        X_train, y_train, input_ids, attention_masks = shuffle(X_train, y_train, input_ids, attention_masks, random_state=11)\n",
        "\n",
        "        for i in range(0, len(X_train), batch_size):\n",
        "            yield [input_ids[i:i + batch_size], attention_masks[i:i + batch_size]], y_train[i:i + batch_size]"
      ]
    },
    {
      "cell_type": "markdown",
      "metadata": {
        "id": "_uycG5bAZ-tj"
      },
      "source": [
        "We need to encode the `y_train` as a one hot encoder to have the four classes as in our architecture."
      ]
    },
    {
      "cell_type": "code",
      "execution_count": null,
      "metadata": {
        "id": "F56xqNldaFEY"
      },
      "outputs": [],
      "source": [
        "from sklearn.preprocessing import OneHotEncoder\n",
        "\n",
        "enc =\n",
        "y_train ="
      ]
    },
    {
      "cell_type": "code",
      "execution_count": null,
      "metadata": {
        "id": "sonuKBx70Mx0"
      },
      "outputs": [],
      "source": [
        "from tensorflow.keras.optimizers import Adam\n",
        "\n",
        "X_train = np.array(train_data)\n",
        "\n",
        "steps_per_epoch = int(len(X_train) / batch_size)\n",
        "\n",
        "batches = get_batches(X_train, y_train, tokenizer, batch_size, max_length)\n",
        "\n",
        "#Compile the model as for th RNN\n",
        "bert_model.compile(\n",
        "\n",
        "\n",
        "\n",
        "#Fit the model\n",
        "bert_model"
      ]
    },
    {
      "cell_type": "markdown",
      "metadata": {
        "id": "LDGcWm48IG3F"
      },
      "source": [
        "Let's now take a look at the results"
      ]
    },
    {
      "cell_type": "code",
      "execution_count": null,
      "metadata": {
        "id": "AKAyX0hYAlEO"
      },
      "outputs": [],
      "source": [
        "inputs =\n",
        "\n",
        "inputs_valid =\n",
        "valid_preds =\n",
        "valid_preds =\n",
        "\n",
        "metrics_val.run(valid_labels, valid_preds, \"distilBERT + softmax\")\n",
        "metrics_val.plot()"
      ]
    },
    {
      "cell_type": "markdown",
      "metadata": {
        "id": "1FyX3KKqcFKo"
      },
      "source": [
        "Let's try to freeze the BERT models to see the differences and the knowlegde of BERT."
      ]
    },
    {
      "cell_type": "code",
      "execution_count": null,
      "metadata": {
        "id": "bnWzxp0JcLlD"
      },
      "outputs": [],
      "source": [
        "import tensorflow as tf\n",
        "\n",
        "## Input\n",
        "input_ids_in =\n",
        "input_masks_in =\n",
        "\n",
        "# Embedding layers\n",
        "# we need only the first token representation nothing else !\n",
        "embedding_layer =\n",
        "# Let's add some dropout to reduce overfitting\n",
        "output_layer =\n",
        "\n",
        "# One dense layer to process the last layer\n",
        "output =\n",
        "\n",
        "\n",
        "bert_model = tf.keras.Model(inputs=[input_ids_in, input_masks_in], outputs = output)\n",
        "bert_model.layers[2].trainable = False\n",
        "bert_model.summary()"
      ]
    },
    {
      "cell_type": "code",
      "execution_count": null,
      "metadata": {
        "id": "Hs_gq4l3cneu"
      },
      "outputs": [],
      "source": [
        "batches = get_batches(X_train, y_train, tokenizer, batch_size, max_length)\n",
        "#Compile the model with gradient descent algorithm and metrics\n",
        "bert_model.compile(\n",
        "\n",
        ")\n",
        "#fit the model\n",
        "bert_model"
      ]
    },
    {
      "cell_type": "code",
      "execution_count": null,
      "metadata": {
        "id": "haTc_2XNcnyG"
      },
      "outputs": [],
      "source": [
        "valid_preds =\n",
        "valid_preds =\n",
        "\n",
        "metrics_val.run(valid_labels, valid_preds, \"distilBERT frozen + Softmax\")\n",
        "metrics_val.plot()"
      ]
    },
    {
      "cell_type": "markdown",
      "metadata": {
        "id": "rfUla6fKAe2O"
      },
      "source": [
        "## Part 2: Few Shot Learning\n",
        "\n",
        "In this part, we'll explore few shot learning with SetFit. We will train the model with low number of examples and try to augment the dataset with prompts !"
      ]
    },
    {
      "cell_type": "markdown",
      "metadata": {
        "id": "-KmEy9JJxFCW"
      },
      "source": [
        "### Loading SetFit\n",
        "\n",
        "Let's begin by setting-up the environment"
      ]
    },
    {
      "cell_type": "code",
      "execution_count": null,
      "metadata": {
        "id": "6tYKtZUTDDJw"
      },
      "outputs": [],
      "source": [
        "from setfit import SetFitModel, Trainer, TrainingArguments, sample_dataset"
      ]
    },
    {
      "cell_type": "markdown",
      "metadata": {
        "id": "8NCk1cgdjE5t"
      },
      "source": [
        "### Training the SetFit with 32 examples\n",
        "\n"
      ]
    },
    {
      "cell_type": "code",
      "execution_count": null,
      "metadata": {
        "id": "fNaWjFq0lqgo"
      },
      "outputs": [],
      "source": [
        "from datasets import Dataset\n",
        "\n",
        "# Convert data into Dataset object from datasets\n",
        "train_dict = {'text': train_data, 'label': train_labels}\n",
        "\n",
        "train_dataset = Dataset.from_dict(train_dict)\n",
        "\n",
        "dataset_dict = {'train': train_dataset}\n",
        "\n",
        "#let's sample 32 examples at first to see results\n",
        "train_dataset = sample_dataset(\n",
        "\n",
        "                               )\n",
        "\n",
        "train_dataset"
      ]
    },
    {
      "cell_type": "code",
      "execution_count": null,
      "metadata": {
        "id": "cwhD_YQ4mtkp"
      },
      "outputs": [],
      "source": [
        "#Model to load\n",
        "model = SetFitModel.from_pretrained(\n",
        "\n",
        ")\n",
        "\n",
        "#Arguments / hyperparamters to train\n",
        "args = TrainingArguments(\n",
        "\n",
        ")\n",
        "\n",
        "\n",
        "# Trainer class to train afterwards\n",
        "trainer = Trainer(\n",
        "    model=model,\n",
        "    args=args,\n",
        "    train_dataset=train_dataset_augmented,\n",
        "    metric=\"accuracy\",\n",
        ")\n",
        "\n",
        "# Train and evaluate\n",
        "trainer"
      ]
    },
    {
      "cell_type": "code",
      "execution_count": null,
      "metadata": {
        "id": "-lNWofcToplk"
      },
      "outputs": [],
      "source": [
        "valid_preds =\n",
        "metrics_val.run(valid_labels, valid_preds, \"SetFit 32 examples\")\n",
        "metrics_val.plot()"
      ]
    },
    {
      "cell_type": "markdown",
      "metadata": {
        "id": "kmEwwnvjjJzw"
      },
      "source": [
        "### Try to augment the data with prompt"
      ]
    },
    {
      "cell_type": "code",
      "execution_count": null,
      "metadata": {
        "id": "pn1_H6IskExm"
      },
      "outputs": [],
      "source": [
        "labels = {0: 'World', 1: 'Sports',\n",
        "          2: 'Business', 3: 'Sci/Tech'}\n",
        "labels_to_id = {value:key for key, value in labels.items()}\n",
        "\n",
        "\n",
        "from transformers import pipeline\n",
        "# Load zero-shot classification pipeline\n",
        "classifier =\n",
        "\n",
        "# Define the sequence to classify\n",
        "texts =\n",
        "\n",
        "# Define the candidate labels\n",
        "candidate_labels =\n",
        "\n",
        "# Perform zero-shot classification\n",
        "results ="
      ]
    },
    {
      "cell_type": "code",
      "execution_count": null,
      "metadata": {
        "id": "BN4zuwDPrGGp"
      },
      "outputs": [],
      "source": [
        "#select texts\n",
        "texts =\n",
        "#apply classifier\n",
        "results ="
      ]
    },
    {
      "cell_type": "code",
      "execution_count": null,
      "metadata": {
        "id": "X4Aut70ut9-f"
      },
      "outputs": [],
      "source": [
        "labels_to_id = {value:key for key, value in labels.items()}\n",
        "\n",
        "new_texts = []\n",
        "new_labels = []\n",
        "th = 0.6\n",
        "\n",
        "for text, result in zip(texts, results):\n",
        "  if max(result.get('scores')) < th:\n",
        "    continue\n",
        "\n",
        "  new_texts.append(text)\n",
        "  new_labels.append(labels_to_id.get(result.get('labels')[0]))\n",
        "\n",
        "np.unique(new_labels, return_counts=True)"
      ]
    },
    {
      "cell_type": "code",
      "execution_count": null,
      "metadata": {
        "id": "nledOU1ls0W4"
      },
      "outputs": [],
      "source": [
        "train_data_augmented = train_dataset['text'] + new_texts\n",
        "train_labels_augmented = train_dataset['label'] + new_labels\n",
        "\n",
        "train_dict_augmented = {'text': train_data_augmented, 'label': train_labels_augmented}\n",
        "\n",
        "train_dataset_augmented = Dataset.from_dict(train_dict_augmented)\n",
        "\n",
        "train_dataset_augmented"
      ]
    },
    {
      "cell_type": "code",
      "execution_count": null,
      "metadata": {
        "id": "ojwxqeo1w0mU"
      },
      "outputs": [],
      "source": [
        "\n",
        "#Model to load\n",
        "model = SetFitModel.from_pretrained(\n",
        "\n",
        ")\n",
        "\n",
        "#Arguments / hyperparamters to train\n",
        "args = TrainingArguments(\n",
        "\n",
        ")\n",
        "\n",
        "\n",
        "# Trainer class to train afterwards\n",
        "trainer = Trainer(\n",
        "    model=model,\n",
        "    args=args,\n",
        "    train_dataset=train_dataset_augmented,\n",
        "    metric=\"accuracy\",\n",
        ")\n",
        "\n",
        "# Train and evaluate\n",
        "trainer"
      ]
    },
    {
      "cell_type": "markdown",
      "metadata": {
        "id": "XJukVE-DjJ-G"
      },
      "source": [
        "### Model Evaluation"
      ]
    },
    {
      "cell_type": "code",
      "execution_count": null,
      "metadata": {
        "id": "QFTYoptExhj9"
      },
      "outputs": [],
      "source": [
        "#Makes some preds\n",
        "valid_preds =\n",
        "metrics_val.run(valid_labels, valid_preds, \"SetFit augmented\")\n",
        "metrics_val.plot()"
      ]
    },
    {
      "cell_type": "markdown",
      "metadata": {
        "id": "5Em7rcoLxzux"
      },
      "source": [
        "## Part 3: Winogender Schemas\n",
        "\n",
        "In this work, we will explore biases of the BERT model. We will begin with the [Winograd Schemas adapted](https://en.wikipedia.org/wiki/Winograd_schema_challenge) to gender: [Winogender schemas](https://github.com/rudinger/winogender-schemas#winogender-schemas). This dataset is extracted from [Rudinger et al. (2018)](https://aclanthology.org/N18-2002/).\n",
        "\n",
        "\n",
        "From Wikipedia:\n",
        "\n",
        "> The Winograd schema challenge (WSC) is a test of machine intelligence proposed by Hector Levesque, a computer scientist at the University of Toronto. Designed to be an improvement on the Turing test, it is a multiple-choice test that employs questions of a very specific structure: they are instances of what are called Winograd schemas. Questions of this form may be tailored to require knowledge and commonsense reasoning in a variety of domains.\n",
        ">\n",
        "> A Winograd schema challenge question consists of three parts:\n",
        "> 1. A sentence or brief discourse that contains the following:\n",
        "> *   Two noun phrases of the same semantic class (male, female, inanimate or group of objects or people),\n",
        "> *   An ambiguous pronoun that may refer to either of the above noun phrases, and\n",
        "> *   A special word and alternate word, such that if the special word is replaced with the alternate word, the natural resolution of the pronoun changes.\n",
        "> 2. A question asking the identity of the ambiguous pronoun, and\n",
        "> 3. Two answer choices corresponding to the noun phrases in question.\n",
        ">\n",
        "> A machine will be given the problem in a standardized form which includes the answer choices, thus making it a binary decision problem.\n"
      ]
    },
    {
      "cell_type": "code",
      "execution_count": null,
      "metadata": {
        "id": "TjRVdiPHjP9N"
      },
      "outputs": [],
      "source": [
        "import pandas as pd\n",
        "\n",
        "url = 'https://raw.githubusercontent.com/rudinger/winogender-schemas/master/data/templates.tsv'\n",
        "df = pd.read_csv(url, sep='\\t')\n",
        "\n",
        "df.loc[:, 'whole_sentence'] = df.loc[:, ['sentence',\n",
        "                                         'occupation(0)',\n",
        "                                         'other-participant(1)']].apply(lambda x:\n",
        "                                         x[0].replace('$OCCUPATION', x[1]).replace('$PARTICIPANT', x[2]), axis=1)\n",
        "\n",
        "df.head()"
      ]
    },
    {
      "cell_type": "markdown",
      "metadata": {
        "id": "PTHZzTk_y_63"
      },
      "source": [
        "### Gender bias identification\n",
        "\n",
        "In this part, we will take a look at ungendered occupation / participant, and see what are the main distribution of gender pronouns.\n",
        "\n",
        "We will use simp,ly the pipeline to fill mask from huggingface that is really efficient. We can do it for several different models in order to see what are the differences between models"
      ]
    },
    {
      "cell_type": "markdown",
      "metadata": {
        "id": "-Ket5COBzR4n"
      },
      "source": [
        "#### BERT-large"
      ]
    },
    {
      "cell_type": "code",
      "execution_count": null,
      "metadata": {
        "id": "tKRTR3zJzBhI"
      },
      "outputs": [],
      "source": [
        "import re\n",
        "\n",
        "checkpoint=\"bert-large-uncased\"\n",
        "classifier = pipeline('fill-mask', model=checkpoint)\n",
        "\n",
        "regex = '\\$(\\w+)'\n",
        "df.loc[:, 'pronoun'] = df.loc[:, 'whole_sentence'].apply(lambda x: re.findall(regex, x)[0])\n",
        "words_to_replace = ['\\$' + x for x in df.loc[:, 'pronoun'].unique()]\n",
        "regex = r'(?:{})'.format('|'.join(words_to_replace))\n",
        "df.loc[:, 'sentence_mask'] = df.loc[:, 'whole_sentence'].apply(lambda x: re.sub(regex, '[MASK]', x))\n",
        "df.head()"
      ]
    },
    {
      "cell_type": "code",
      "execution_count": null,
      "metadata": {
        "id": "ni0nA4PZzcbg"
      },
      "outputs": [],
      "source": [
        "pronouns = {'ACC_PRONOUN': ['her', 'him'],\n",
        "            'NOM_PRONOUN': ['she', 'he'],\n",
        "            'POSS_PRONOUN': ['her', 'his']}"
      ]
    },
    {
      "cell_type": "code",
      "execution_count": null,
      "metadata": {
        "id": "YakSnxGHzeRo"
      },
      "outputs": [],
      "source": [
        "res = {}\n",
        "for key, value in pronouns.items():\n",
        "  res[key] = []\n",
        "  texts = list(df.loc[df.loc[:, 'pronoun'] == key, 'sentence_mask'].values)\n",
        "  res[key] += classifier(texts, targets=value, top_k=2)"
      ]
    },
    {
      "cell_type": "code",
      "execution_count": null,
      "metadata": {
        "id": "GJJbQQ0FzgIl"
      },
      "outputs": [],
      "source": [
        "probas = {}\n",
        "for key, value in pronouns.items():\n",
        "  probas[key] = [x[0]['score'] / (x[0]['score'] + x[1]['score'])\n",
        "                 if x[0]['token_str'] == value[0]\n",
        "                 else x[1]['score'] / (x[0]['score'] + x[1]['score'])\n",
        "    for x in res[key]]"
      ]
    },
    {
      "cell_type": "code",
      "execution_count": null,
      "metadata": {
        "id": "87lkg5u_zhui"
      },
      "outputs": [],
      "source": [
        "for key, value in pronouns.items():\n",
        "  df.loc[df.loc[:, 'pronoun'] == key, 'BERT-large-female'] = probas[key]"
      ]
    },
    {
      "cell_type": "markdown",
      "metadata": {
        "id": "yg9zISFGzmnd"
      },
      "source": [
        "#### BERT"
      ]
    },
    {
      "cell_type": "code",
      "execution_count": null,
      "metadata": {
        "id": "F_kzpEbszn0n"
      },
      "outputs": [],
      "source": [
        "checkpoint=\"bert-base-uncased\"\n",
        "classifier = pipeline('fill-mask', model=checkpoint)\n",
        "\n",
        "res = {}\n",
        "probas = {}\n",
        "for key, value in pronouns.items():\n",
        "  res[key] = []\n",
        "  texts = list(df.loc[df.loc[:, 'pronoun'] == key, 'sentence_mask'].values)\n",
        "  res[key] += classifier(texts, targets=value, top_k=2)\n",
        "  probas[key] = [x[0]['score'] / (x[0]['score'] + x[1]['score'])\n",
        "                 if x[0]['token_str'] == value[0]\n",
        "                 else x[1]['score'] / (x[0]['score'] + x[1]['score'])\n",
        "    for x in res[key]]\n",
        "  df.loc[df.loc[:, 'pronoun'] == key, 'BERT-female'] = probas[key]"
      ]
    },
    {
      "cell_type": "markdown",
      "metadata": {
        "id": "_yRHHQtUzrvR"
      },
      "source": [
        "### distillBERT\n",
        "\n"
      ]
    },
    {
      "cell_type": "code",
      "execution_count": null,
      "metadata": {
        "id": "eLNeYcf_zwXn"
      },
      "outputs": [],
      "source": [
        "checkpoint=\"distilbert-base-uncased\"\n",
        "classifier = pipeline('fill-mask', model=checkpoint)\n",
        "\n",
        "res = {}\n",
        "probas = {}\n",
        "for key, value in pronouns.items():\n",
        "  res[key] = []\n",
        "  texts = list(df.loc[df.loc[:, 'pronoun'] == key, 'sentence_mask'].values)\n",
        "  res[key] += classifier(texts, targets=value, top_k=2)\n",
        "  probas[key] = [x[0]['score'] / (x[0]['score'] + x[1]['score'])\n",
        "                 if x[0]['token_str'] == value[0]\n",
        "                 else x[1]['score'] / (x[0]['score'] + x[1]['score'])\n",
        "    for x in res[key]]\n",
        "  df.loc[df.loc[:, 'pronoun'] == key, 'distilBERT-female'] = probas[key]"
      ]
    },
    {
      "cell_type": "markdown",
      "metadata": {
        "id": "WIzR_rU2z253"
      },
      "source": [
        "#### Visualize"
      ]
    },
    {
      "cell_type": "code",
      "execution_count": null,
      "metadata": {
        "id": "_zMLeMA4z1YM"
      },
      "outputs": [],
      "source": [
        "probas = {}\n",
        "\n",
        "for occ, part, answer, l, b, d in df.loc[:, ['occupation(0)', 'other-participant(1)', 'answer',\n",
        "                                             'BERT-large-female', 'BERT-female', 'distilBERT-female']].values:\n",
        "  p = occ if answer == 0 else part\n",
        "  if p in probas.keys():\n",
        "    probas[p].append([l, b, d])\n",
        "  else:\n",
        "    probas[p] = [[l, b, d]]\n",
        "\n",
        "for key, value in probas.items():\n",
        "  probas[key] = np.mean(value, axis=0)\n",
        "\n",
        "probas = sorted(probas.items(), key=lambda x: x[1][0], reverse=True)"
      ]
    },
    {
      "cell_type": "code",
      "execution_count": null,
      "metadata": {
        "id": "zgbG_Y-hz9sx"
      },
      "outputs": [],
      "source": [
        "fig, ax = plt.subplots(figsize=(30, 8))\n",
        "\n",
        "ax.scatter(np.arange(len(probas)), [x[1][0] for x in probas], label='BERT-large')\n",
        "ax.scatter(np.arange(len(probas)), [x[1][1] for x in probas], label='BERT')\n",
        "ax.scatter(np.arange(len(probas)), [x[1][2] for x in probas], label='distilBERT')\n",
        "\n",
        "ax.hlines(0.5, 0, len(probas), colors='g')\n",
        "ax.set_xticks(np.arange(len(probas)))\n",
        "ax.set_xticklabels([x[0] for x in probas], rotation=90)\n",
        "ax.set_xlabel(\"occupations\")\n",
        "ax.set_ylabel(\"probability to be women\")\n",
        "ax.legend()\n",
        "\n",
        "plt.show()"
      ]
    },
    {
      "cell_type": "code",
      "execution_count": null,
      "metadata": {
        "id": "qd90nubF0VnT"
      },
      "outputs": [],
      "source": []
    }
  ],
  "metadata": {
    "accelerator": "GPU",
    "colab": {
      "provenance": []
    },
    "gpuClass": "standard",
    "kernelspec": {
      "display_name": "bse-nlp-DetGwK6_-py3.11",
      "language": "python",
      "name": "python3"
    },
    "language_info": {
      "codemirror_mode": {
        "name": "ipython",
        "version": 3
      },
      "file_extension": ".py",
      "mimetype": "text/x-python",
      "name": "python",
      "nbconvert_exporter": "python",
      "pygments_lexer": "ipython3",
      "version": "3.11.5"
    },
    "widgets": {
      "application/vnd.jupyter.widget-state+json": {
        "02ccc9d92b814be8a89ecf659fcddc5b": {
          "model_module": "@jupyter-widgets/controls",
          "model_module_version": "1.5.0",
          "model_name": "DescriptionStyleModel",
          "state": {
            "_model_module": "@jupyter-widgets/controls",
            "_model_module_version": "1.5.0",
            "_model_name": "DescriptionStyleModel",
            "_view_count": null,
            "_view_module": "@jupyter-widgets/base",
            "_view_module_version": "1.2.0",
            "_view_name": "StyleView",
            "description_width": ""
          }
        },
        "033c6653a885441aab188969a0b49c42": {
          "model_module": "@jupyter-widgets/controls",
          "model_module_version": "1.5.0",
          "model_name": "FloatProgressModel",
          "state": {
            "_dom_classes": [],
            "_model_module": "@jupyter-widgets/controls",
            "_model_module_version": "1.5.0",
            "_model_name": "FloatProgressModel",
            "_view_count": null,
            "_view_module": "@jupyter-widgets/controls",
            "_view_module_version": "1.5.0",
            "_view_name": "ProgressView",
            "bar_style": "success",
            "description": "",
            "description_tooltip": null,
            "layout": "IPY_MODEL_50db3ad3a79c4950b52bc330fd01c430",
            "max": 120000,
            "min": 0,
            "orientation": "horizontal",
            "style": "IPY_MODEL_710c92a5552643f9a245ddc23a32950c",
            "value": 120000
          }
        },
        "0bc9beb2e74a4019aa925ccb4639765c": {
          "model_module": "@jupyter-widgets/controls",
          "model_module_version": "1.5.0",
          "model_name": "HBoxModel",
          "state": {
            "_dom_classes": [],
            "_model_module": "@jupyter-widgets/controls",
            "_model_module_version": "1.5.0",
            "_model_name": "HBoxModel",
            "_view_count": null,
            "_view_module": "@jupyter-widgets/controls",
            "_view_module_version": "1.5.0",
            "_view_name": "HBoxView",
            "box_style": "",
            "children": [
              "IPY_MODEL_6e56344fd0f445a1a5aa6ebcf19c53a7",
              "IPY_MODEL_61be7c64cf9e4558bbd48929c26ad8a8",
              "IPY_MODEL_3a06efa87c9a47a2910eb807fece7e08"
            ],
            "layout": "IPY_MODEL_ab562fceb9cc4f30a1d0d380ca2a84f3"
          }
        },
        "0db00e17dfc74556a97b57aedb435e69": {
          "model_module": "@jupyter-widgets/controls",
          "model_module_version": "1.5.0",
          "model_name": "HTMLModel",
          "state": {
            "_dom_classes": [],
            "_model_module": "@jupyter-widgets/controls",
            "_model_module_version": "1.5.0",
            "_model_name": "HTMLModel",
            "_view_count": null,
            "_view_module": "@jupyter-widgets/controls",
            "_view_module_version": "1.5.0",
            "_view_name": "HTMLView",
            "description": "",
            "description_tooltip": null,
            "layout": "IPY_MODEL_c0cbc1d3d10c4be38cde9208ff35f62e",
            "placeholder": "​",
            "style": "IPY_MODEL_8acbb0cd20a84420b51a17e55ab28f32",
            "value": "Generating train split: 100%"
          }
        },
        "0f6d4ae7ebb04e699442f1be6c1c64ab": {
          "model_module": "@jupyter-widgets/controls",
          "model_module_version": "1.5.0",
          "model_name": "HBoxModel",
          "state": {
            "_dom_classes": [],
            "_model_module": "@jupyter-widgets/controls",
            "_model_module_version": "1.5.0",
            "_model_name": "HBoxModel",
            "_view_count": null,
            "_view_module": "@jupyter-widgets/controls",
            "_view_module_version": "1.5.0",
            "_view_name": "HBoxView",
            "box_style": "",
            "children": [
              "IPY_MODEL_e0c3133edc8a45d3abbafb947d2e2281",
              "IPY_MODEL_c2cbd029c4ff4609acdc4e9e3a28c605",
              "IPY_MODEL_de7d21608f634650a0c4e3d8881ed00c"
            ],
            "layout": "IPY_MODEL_8119d7df3fe7484cbc6c04a2b506efa4"
          }
        },
        "14df9f13d9414486883bf90aa223c41b": {
          "model_module": "@jupyter-widgets/controls",
          "model_module_version": "1.5.0",
          "model_name": "ProgressStyleModel",
          "state": {
            "_model_module": "@jupyter-widgets/controls",
            "_model_module_version": "1.5.0",
            "_model_name": "ProgressStyleModel",
            "_view_count": null,
            "_view_module": "@jupyter-widgets/base",
            "_view_module_version": "1.2.0",
            "_view_name": "StyleView",
            "bar_color": null,
            "description_width": ""
          }
        },
        "1535d54deeb64c2bae4a3464da7cca10": {
          "model_module": "@jupyter-widgets/base",
          "model_module_version": "1.2.0",
          "model_name": "LayoutModel",
          "state": {
            "_model_module": "@jupyter-widgets/base",
            "_model_module_version": "1.2.0",
            "_model_name": "LayoutModel",
            "_view_count": null,
            "_view_module": "@jupyter-widgets/base",
            "_view_module_version": "1.2.0",
            "_view_name": "LayoutView",
            "align_content": null,
            "align_items": null,
            "align_self": null,
            "border": null,
            "bottom": null,
            "display": null,
            "flex": null,
            "flex_flow": null,
            "grid_area": null,
            "grid_auto_columns": null,
            "grid_auto_flow": null,
            "grid_auto_rows": null,
            "grid_column": null,
            "grid_gap": null,
            "grid_row": null,
            "grid_template_areas": null,
            "grid_template_columns": null,
            "grid_template_rows": null,
            "height": null,
            "justify_content": null,
            "justify_items": null,
            "left": null,
            "margin": null,
            "max_height": null,
            "max_width": null,
            "min_height": null,
            "min_width": null,
            "object_fit": null,
            "object_position": null,
            "order": null,
            "overflow": null,
            "overflow_x": null,
            "overflow_y": null,
            "padding": null,
            "right": null,
            "top": null,
            "visibility": null,
            "width": null
          }
        },
        "18fa191e12b24833a36f3aa5248fe909": {
          "model_module": "@jupyter-widgets/controls",
          "model_module_version": "1.5.0",
          "model_name": "HTMLModel",
          "state": {
            "_dom_classes": [],
            "_model_module": "@jupyter-widgets/controls",
            "_model_module_version": "1.5.0",
            "_model_name": "HTMLModel",
            "_view_count": null,
            "_view_module": "@jupyter-widgets/controls",
            "_view_module_version": "1.5.0",
            "_view_name": "HTMLView",
            "description": "",
            "description_tooltip": null,
            "layout": "IPY_MODEL_e05e3122806a438e98bfea3aa482d398",
            "placeholder": "​",
            "style": "IPY_MODEL_8f03cd6cfb8248da90fb9f77b440acf6",
            "value": " 120000/120000 [00:00&lt;00:00, 344847.71 examples/s]"
          }
        },
        "1c8ad9e18f9f4363a8c652deab829801": {
          "model_module": "@jupyter-widgets/base",
          "model_module_version": "1.2.0",
          "model_name": "LayoutModel",
          "state": {
            "_model_module": "@jupyter-widgets/base",
            "_model_module_version": "1.2.0",
            "_model_name": "LayoutModel",
            "_view_count": null,
            "_view_module": "@jupyter-widgets/base",
            "_view_module_version": "1.2.0",
            "_view_name": "LayoutView",
            "align_content": null,
            "align_items": null,
            "align_self": null,
            "border": null,
            "bottom": null,
            "display": null,
            "flex": null,
            "flex_flow": null,
            "grid_area": null,
            "grid_auto_columns": null,
            "grid_auto_flow": null,
            "grid_auto_rows": null,
            "grid_column": null,
            "grid_gap": null,
            "grid_row": null,
            "grid_template_areas": null,
            "grid_template_columns": null,
            "grid_template_rows": null,
            "height": null,
            "justify_content": null,
            "justify_items": null,
            "left": null,
            "margin": null,
            "max_height": null,
            "max_width": null,
            "min_height": null,
            "min_width": null,
            "object_fit": null,
            "object_position": null,
            "order": null,
            "overflow": null,
            "overflow_x": null,
            "overflow_y": null,
            "padding": null,
            "right": null,
            "top": null,
            "visibility": null,
            "width": null
          }
        },
        "217404d381d74304a3e629239c8fda00": {
          "model_module": "@jupyter-widgets/base",
          "model_module_version": "1.2.0",
          "model_name": "LayoutModel",
          "state": {
            "_model_module": "@jupyter-widgets/base",
            "_model_module_version": "1.2.0",
            "_model_name": "LayoutModel",
            "_view_count": null,
            "_view_module": "@jupyter-widgets/base",
            "_view_module_version": "1.2.0",
            "_view_name": "LayoutView",
            "align_content": null,
            "align_items": null,
            "align_self": null,
            "border": null,
            "bottom": null,
            "display": null,
            "flex": null,
            "flex_flow": null,
            "grid_area": null,
            "grid_auto_columns": null,
            "grid_auto_flow": null,
            "grid_auto_rows": null,
            "grid_column": null,
            "grid_gap": null,
            "grid_row": null,
            "grid_template_areas": null,
            "grid_template_columns": null,
            "grid_template_rows": null,
            "height": null,
            "justify_content": null,
            "justify_items": null,
            "left": null,
            "margin": null,
            "max_height": null,
            "max_width": null,
            "min_height": null,
            "min_width": null,
            "object_fit": null,
            "object_position": null,
            "order": null,
            "overflow": null,
            "overflow_x": null,
            "overflow_y": null,
            "padding": null,
            "right": null,
            "top": null,
            "visibility": null,
            "width": null
          }
        },
        "2c7ef14631f646698b99ab4527be7a2d": {
          "model_module": "@jupyter-widgets/controls",
          "model_module_version": "1.5.0",
          "model_name": "HTMLModel",
          "state": {
            "_dom_classes": [],
            "_model_module": "@jupyter-widgets/controls",
            "_model_module_version": "1.5.0",
            "_model_name": "HTMLModel",
            "_view_count": null,
            "_view_module": "@jupyter-widgets/controls",
            "_view_module_version": "1.5.0",
            "_view_name": "HTMLView",
            "description": "",
            "description_tooltip": null,
            "layout": "IPY_MODEL_361047bdadda41d0aa5feabe8bff8449",
            "placeholder": "​",
            "style": "IPY_MODEL_edc4229442ea422a8c2709838dd6a373",
            "value": "Generating test split: 100%"
          }
        },
        "361047bdadda41d0aa5feabe8bff8449": {
          "model_module": "@jupyter-widgets/base",
          "model_module_version": "1.2.0",
          "model_name": "LayoutModel",
          "state": {
            "_model_module": "@jupyter-widgets/base",
            "_model_module_version": "1.2.0",
            "_model_name": "LayoutModel",
            "_view_count": null,
            "_view_module": "@jupyter-widgets/base",
            "_view_module_version": "1.2.0",
            "_view_name": "LayoutView",
            "align_content": null,
            "align_items": null,
            "align_self": null,
            "border": null,
            "bottom": null,
            "display": null,
            "flex": null,
            "flex_flow": null,
            "grid_area": null,
            "grid_auto_columns": null,
            "grid_auto_flow": null,
            "grid_auto_rows": null,
            "grid_column": null,
            "grid_gap": null,
            "grid_row": null,
            "grid_template_areas": null,
            "grid_template_columns": null,
            "grid_template_rows": null,
            "height": null,
            "justify_content": null,
            "justify_items": null,
            "left": null,
            "margin": null,
            "max_height": null,
            "max_width": null,
            "min_height": null,
            "min_width": null,
            "object_fit": null,
            "object_position": null,
            "order": null,
            "overflow": null,
            "overflow_x": null,
            "overflow_y": null,
            "padding": null,
            "right": null,
            "top": null,
            "visibility": null,
            "width": null
          }
        },
        "36f339ebb4ba426dbf33dece6edc2121": {
          "model_module": "@jupyter-widgets/base",
          "model_module_version": "1.2.0",
          "model_name": "LayoutModel",
          "state": {
            "_model_module": "@jupyter-widgets/base",
            "_model_module_version": "1.2.0",
            "_model_name": "LayoutModel",
            "_view_count": null,
            "_view_module": "@jupyter-widgets/base",
            "_view_module_version": "1.2.0",
            "_view_name": "LayoutView",
            "align_content": null,
            "align_items": null,
            "align_self": null,
            "border": null,
            "bottom": null,
            "display": null,
            "flex": null,
            "flex_flow": null,
            "grid_area": null,
            "grid_auto_columns": null,
            "grid_auto_flow": null,
            "grid_auto_rows": null,
            "grid_column": null,
            "grid_gap": null,
            "grid_row": null,
            "grid_template_areas": null,
            "grid_template_columns": null,
            "grid_template_rows": null,
            "height": null,
            "justify_content": null,
            "justify_items": null,
            "left": null,
            "margin": null,
            "max_height": null,
            "max_width": null,
            "min_height": null,
            "min_width": null,
            "object_fit": null,
            "object_position": null,
            "order": null,
            "overflow": null,
            "overflow_x": null,
            "overflow_y": null,
            "padding": null,
            "right": null,
            "top": null,
            "visibility": null,
            "width": null
          }
        },
        "3a06efa87c9a47a2910eb807fece7e08": {
          "model_module": "@jupyter-widgets/controls",
          "model_module_version": "1.5.0",
          "model_name": "HTMLModel",
          "state": {
            "_dom_classes": [],
            "_model_module": "@jupyter-widgets/controls",
            "_model_module_version": "1.5.0",
            "_model_name": "HTMLModel",
            "_view_count": null,
            "_view_module": "@jupyter-widgets/controls",
            "_view_module_version": "1.5.0",
            "_view_name": "HTMLView",
            "description": "",
            "description_tooltip": null,
            "layout": "IPY_MODEL_217404d381d74304a3e629239c8fda00",
            "placeholder": "​",
            "style": "IPY_MODEL_dba640b3230d487da7d9b04ee64b1ac7",
            "value": " 18.6M/18.6M [00:00&lt;00:00, 28.7MB/s]"
          }
        },
        "4d9bcce22e0c4154a5e666a9adbbbdc9": {
          "model_module": "@jupyter-widgets/base",
          "model_module_version": "1.2.0",
          "model_name": "LayoutModel",
          "state": {
            "_model_module": "@jupyter-widgets/base",
            "_model_module_version": "1.2.0",
            "_model_name": "LayoutModel",
            "_view_count": null,
            "_view_module": "@jupyter-widgets/base",
            "_view_module_version": "1.2.0",
            "_view_name": "LayoutView",
            "align_content": null,
            "align_items": null,
            "align_self": null,
            "border": null,
            "bottom": null,
            "display": null,
            "flex": null,
            "flex_flow": null,
            "grid_area": null,
            "grid_auto_columns": null,
            "grid_auto_flow": null,
            "grid_auto_rows": null,
            "grid_column": null,
            "grid_gap": null,
            "grid_row": null,
            "grid_template_areas": null,
            "grid_template_columns": null,
            "grid_template_rows": null,
            "height": null,
            "justify_content": null,
            "justify_items": null,
            "left": null,
            "margin": null,
            "max_height": null,
            "max_width": null,
            "min_height": null,
            "min_width": null,
            "object_fit": null,
            "object_position": null,
            "order": null,
            "overflow": null,
            "overflow_x": null,
            "overflow_y": null,
            "padding": null,
            "right": null,
            "top": null,
            "visibility": null,
            "width": null
          }
        },
        "50db3ad3a79c4950b52bc330fd01c430": {
          "model_module": "@jupyter-widgets/base",
          "model_module_version": "1.2.0",
          "model_name": "LayoutModel",
          "state": {
            "_model_module": "@jupyter-widgets/base",
            "_model_module_version": "1.2.0",
            "_model_name": "LayoutModel",
            "_view_count": null,
            "_view_module": "@jupyter-widgets/base",
            "_view_module_version": "1.2.0",
            "_view_name": "LayoutView",
            "align_content": null,
            "align_items": null,
            "align_self": null,
            "border": null,
            "bottom": null,
            "display": null,
            "flex": null,
            "flex_flow": null,
            "grid_area": null,
            "grid_auto_columns": null,
            "grid_auto_flow": null,
            "grid_auto_rows": null,
            "grid_column": null,
            "grid_gap": null,
            "grid_row": null,
            "grid_template_areas": null,
            "grid_template_columns": null,
            "grid_template_rows": null,
            "height": null,
            "justify_content": null,
            "justify_items": null,
            "left": null,
            "margin": null,
            "max_height": null,
            "max_width": null,
            "min_height": null,
            "min_width": null,
            "object_fit": null,
            "object_position": null,
            "order": null,
            "overflow": null,
            "overflow_x": null,
            "overflow_y": null,
            "padding": null,
            "right": null,
            "top": null,
            "visibility": null,
            "width": null
          }
        },
        "61be7c64cf9e4558bbd48929c26ad8a8": {
          "model_module": "@jupyter-widgets/controls",
          "model_module_version": "1.5.0",
          "model_name": "FloatProgressModel",
          "state": {
            "_dom_classes": [],
            "_model_module": "@jupyter-widgets/controls",
            "_model_module_version": "1.5.0",
            "_model_name": "FloatProgressModel",
            "_view_count": null,
            "_view_module": "@jupyter-widgets/controls",
            "_view_module_version": "1.5.0",
            "_view_name": "ProgressView",
            "bar_style": "success",
            "description": "",
            "description_tooltip": null,
            "layout": "IPY_MODEL_d1f74f52d1404a46828e3d3d453bd2a0",
            "max": 18585438,
            "min": 0,
            "orientation": "horizontal",
            "style": "IPY_MODEL_14df9f13d9414486883bf90aa223c41b",
            "value": 18585438
          }
        },
        "6d7431108f514747a6a174d1899fd745": {
          "model_module": "@jupyter-widgets/controls",
          "model_module_version": "1.5.0",
          "model_name": "HTMLModel",
          "state": {
            "_dom_classes": [],
            "_model_module": "@jupyter-widgets/controls",
            "_model_module_version": "1.5.0",
            "_model_name": "HTMLModel",
            "_view_count": null,
            "_view_module": "@jupyter-widgets/controls",
            "_view_module_version": "1.5.0",
            "_view_name": "HTMLView",
            "description": "",
            "description_tooltip": null,
            "layout": "IPY_MODEL_1535d54deeb64c2bae4a3464da7cca10",
            "placeholder": "​",
            "style": "IPY_MODEL_02ccc9d92b814be8a89ecf659fcddc5b",
            "value": " 7600/7600 [00:00&lt;00:00, 156470.08 examples/s]"
          }
        },
        "6e56344fd0f445a1a5aa6ebcf19c53a7": {
          "model_module": "@jupyter-widgets/controls",
          "model_module_version": "1.5.0",
          "model_name": "HTMLModel",
          "state": {
            "_dom_classes": [],
            "_model_module": "@jupyter-widgets/controls",
            "_model_module_version": "1.5.0",
            "_model_name": "HTMLModel",
            "_view_count": null,
            "_view_module": "@jupyter-widgets/controls",
            "_view_module_version": "1.5.0",
            "_view_name": "HTMLView",
            "description": "",
            "description_tooltip": null,
            "layout": "IPY_MODEL_9f6a67b11d3f4991b7c6b5cbfe91117c",
            "placeholder": "​",
            "style": "IPY_MODEL_cea8f4838c204b119800bf738fc5ab39",
            "value": "Downloading data: 100%"
          }
        },
        "710c92a5552643f9a245ddc23a32950c": {
          "model_module": "@jupyter-widgets/controls",
          "model_module_version": "1.5.0",
          "model_name": "ProgressStyleModel",
          "state": {
            "_model_module": "@jupyter-widgets/controls",
            "_model_module_version": "1.5.0",
            "_model_name": "ProgressStyleModel",
            "_view_count": null,
            "_view_module": "@jupyter-widgets/base",
            "_view_module_version": "1.2.0",
            "_view_name": "StyleView",
            "bar_color": null,
            "description_width": ""
          }
        },
        "718d1e370fe444b29e5f38b564aa90d3": {
          "model_module": "@jupyter-widgets/controls",
          "model_module_version": "1.5.0",
          "model_name": "DescriptionStyleModel",
          "state": {
            "_model_module": "@jupyter-widgets/controls",
            "_model_module_version": "1.5.0",
            "_model_name": "DescriptionStyleModel",
            "_view_count": null,
            "_view_module": "@jupyter-widgets/base",
            "_view_module_version": "1.2.0",
            "_view_name": "StyleView",
            "description_width": ""
          }
        },
        "78c408e93de1483e9628ec8820513114": {
          "model_module": "@jupyter-widgets/controls",
          "model_module_version": "1.5.0",
          "model_name": "ProgressStyleModel",
          "state": {
            "_model_module": "@jupyter-widgets/controls",
            "_model_module_version": "1.5.0",
            "_model_name": "ProgressStyleModel",
            "_view_count": null,
            "_view_module": "@jupyter-widgets/base",
            "_view_module_version": "1.2.0",
            "_view_name": "StyleView",
            "bar_color": null,
            "description_width": ""
          }
        },
        "7c7572405d6d460eb999d433752fc4e5": {
          "model_module": "@jupyter-widgets/base",
          "model_module_version": "1.2.0",
          "model_name": "LayoutModel",
          "state": {
            "_model_module": "@jupyter-widgets/base",
            "_model_module_version": "1.2.0",
            "_model_name": "LayoutModel",
            "_view_count": null,
            "_view_module": "@jupyter-widgets/base",
            "_view_module_version": "1.2.0",
            "_view_name": "LayoutView",
            "align_content": null,
            "align_items": null,
            "align_self": null,
            "border": null,
            "bottom": null,
            "display": null,
            "flex": null,
            "flex_flow": null,
            "grid_area": null,
            "grid_auto_columns": null,
            "grid_auto_flow": null,
            "grid_auto_rows": null,
            "grid_column": null,
            "grid_gap": null,
            "grid_row": null,
            "grid_template_areas": null,
            "grid_template_columns": null,
            "grid_template_rows": null,
            "height": null,
            "justify_content": null,
            "justify_items": null,
            "left": null,
            "margin": null,
            "max_height": null,
            "max_width": null,
            "min_height": null,
            "min_width": null,
            "object_fit": null,
            "object_position": null,
            "order": null,
            "overflow": null,
            "overflow_x": null,
            "overflow_y": null,
            "padding": null,
            "right": null,
            "top": null,
            "visibility": null,
            "width": null
          }
        },
        "8119d7df3fe7484cbc6c04a2b506efa4": {
          "model_module": "@jupyter-widgets/base",
          "model_module_version": "1.2.0",
          "model_name": "LayoutModel",
          "state": {
            "_model_module": "@jupyter-widgets/base",
            "_model_module_version": "1.2.0",
            "_model_name": "LayoutModel",
            "_view_count": null,
            "_view_module": "@jupyter-widgets/base",
            "_view_module_version": "1.2.0",
            "_view_name": "LayoutView",
            "align_content": null,
            "align_items": null,
            "align_self": null,
            "border": null,
            "bottom": null,
            "display": null,
            "flex": null,
            "flex_flow": null,
            "grid_area": null,
            "grid_auto_columns": null,
            "grid_auto_flow": null,
            "grid_auto_rows": null,
            "grid_column": null,
            "grid_gap": null,
            "grid_row": null,
            "grid_template_areas": null,
            "grid_template_columns": null,
            "grid_template_rows": null,
            "height": null,
            "justify_content": null,
            "justify_items": null,
            "left": null,
            "margin": null,
            "max_height": null,
            "max_width": null,
            "min_height": null,
            "min_width": null,
            "object_fit": null,
            "object_position": null,
            "order": null,
            "overflow": null,
            "overflow_x": null,
            "overflow_y": null,
            "padding": null,
            "right": null,
            "top": null,
            "visibility": null,
            "width": null
          }
        },
        "8acbb0cd20a84420b51a17e55ab28f32": {
          "model_module": "@jupyter-widgets/controls",
          "model_module_version": "1.5.0",
          "model_name": "DescriptionStyleModel",
          "state": {
            "_model_module": "@jupyter-widgets/controls",
            "_model_module_version": "1.5.0",
            "_model_name": "DescriptionStyleModel",
            "_view_count": null,
            "_view_module": "@jupyter-widgets/base",
            "_view_module_version": "1.2.0",
            "_view_name": "StyleView",
            "description_width": ""
          }
        },
        "8f03cd6cfb8248da90fb9f77b440acf6": {
          "model_module": "@jupyter-widgets/controls",
          "model_module_version": "1.5.0",
          "model_name": "DescriptionStyleModel",
          "state": {
            "_model_module": "@jupyter-widgets/controls",
            "_model_module_version": "1.5.0",
            "_model_name": "DescriptionStyleModel",
            "_view_count": null,
            "_view_module": "@jupyter-widgets/base",
            "_view_module_version": "1.2.0",
            "_view_name": "StyleView",
            "description_width": ""
          }
        },
        "9f6a67b11d3f4991b7c6b5cbfe91117c": {
          "model_module": "@jupyter-widgets/base",
          "model_module_version": "1.2.0",
          "model_name": "LayoutModel",
          "state": {
            "_model_module": "@jupyter-widgets/base",
            "_model_module_version": "1.2.0",
            "_model_name": "LayoutModel",
            "_view_count": null,
            "_view_module": "@jupyter-widgets/base",
            "_view_module_version": "1.2.0",
            "_view_name": "LayoutView",
            "align_content": null,
            "align_items": null,
            "align_self": null,
            "border": null,
            "bottom": null,
            "display": null,
            "flex": null,
            "flex_flow": null,
            "grid_area": null,
            "grid_auto_columns": null,
            "grid_auto_flow": null,
            "grid_auto_rows": null,
            "grid_column": null,
            "grid_gap": null,
            "grid_row": null,
            "grid_template_areas": null,
            "grid_template_columns": null,
            "grid_template_rows": null,
            "height": null,
            "justify_content": null,
            "justify_items": null,
            "left": null,
            "margin": null,
            "max_height": null,
            "max_width": null,
            "min_height": null,
            "min_width": null,
            "object_fit": null,
            "object_position": null,
            "order": null,
            "overflow": null,
            "overflow_x": null,
            "overflow_y": null,
            "padding": null,
            "right": null,
            "top": null,
            "visibility": null,
            "width": null
          }
        },
        "a04c8214a3d8434390df1159a693cce5": {
          "model_module": "@jupyter-widgets/controls",
          "model_module_version": "1.5.0",
          "model_name": "FloatProgressModel",
          "state": {
            "_dom_classes": [],
            "_model_module": "@jupyter-widgets/controls",
            "_model_module_version": "1.5.0",
            "_model_name": "FloatProgressModel",
            "_view_count": null,
            "_view_module": "@jupyter-widgets/controls",
            "_view_module_version": "1.5.0",
            "_view_name": "ProgressView",
            "bar_style": "success",
            "description": "",
            "description_tooltip": null,
            "layout": "IPY_MODEL_f7f0d131b8314204bdb0d545a3e2e021",
            "max": 7600,
            "min": 0,
            "orientation": "horizontal",
            "style": "IPY_MODEL_78c408e93de1483e9628ec8820513114",
            "value": 7600
          }
        },
        "ab562fceb9cc4f30a1d0d380ca2a84f3": {
          "model_module": "@jupyter-widgets/base",
          "model_module_version": "1.2.0",
          "model_name": "LayoutModel",
          "state": {
            "_model_module": "@jupyter-widgets/base",
            "_model_module_version": "1.2.0",
            "_model_name": "LayoutModel",
            "_view_count": null,
            "_view_module": "@jupyter-widgets/base",
            "_view_module_version": "1.2.0",
            "_view_name": "LayoutView",
            "align_content": null,
            "align_items": null,
            "align_self": null,
            "border": null,
            "bottom": null,
            "display": null,
            "flex": null,
            "flex_flow": null,
            "grid_area": null,
            "grid_auto_columns": null,
            "grid_auto_flow": null,
            "grid_auto_rows": null,
            "grid_column": null,
            "grid_gap": null,
            "grid_row": null,
            "grid_template_areas": null,
            "grid_template_columns": null,
            "grid_template_rows": null,
            "height": null,
            "justify_content": null,
            "justify_items": null,
            "left": null,
            "margin": null,
            "max_height": null,
            "max_width": null,
            "min_height": null,
            "min_width": null,
            "object_fit": null,
            "object_position": null,
            "order": null,
            "overflow": null,
            "overflow_x": null,
            "overflow_y": null,
            "padding": null,
            "right": null,
            "top": null,
            "visibility": null,
            "width": null
          }
        },
        "b3952b15131246cabc86ec85ca11fe13": {
          "model_module": "@jupyter-widgets/controls",
          "model_module_version": "1.5.0",
          "model_name": "HBoxModel",
          "state": {
            "_dom_classes": [],
            "_model_module": "@jupyter-widgets/controls",
            "_model_module_version": "1.5.0",
            "_model_name": "HBoxModel",
            "_view_count": null,
            "_view_module": "@jupyter-widgets/controls",
            "_view_module_version": "1.5.0",
            "_view_name": "HBoxView",
            "box_style": "",
            "children": [
              "IPY_MODEL_0db00e17dfc74556a97b57aedb435e69",
              "IPY_MODEL_033c6653a885441aab188969a0b49c42",
              "IPY_MODEL_18fa191e12b24833a36f3aa5248fe909"
            ],
            "layout": "IPY_MODEL_1c8ad9e18f9f4363a8c652deab829801"
          }
        },
        "b4826e8a26494fe99eaa701c057b228b": {
          "model_module": "@jupyter-widgets/controls",
          "model_module_version": "1.5.0",
          "model_name": "DescriptionStyleModel",
          "state": {
            "_model_module": "@jupyter-widgets/controls",
            "_model_module_version": "1.5.0",
            "_model_name": "DescriptionStyleModel",
            "_view_count": null,
            "_view_module": "@jupyter-widgets/base",
            "_view_module_version": "1.2.0",
            "_view_name": "StyleView",
            "description_width": ""
          }
        },
        "c0cbc1d3d10c4be38cde9208ff35f62e": {
          "model_module": "@jupyter-widgets/base",
          "model_module_version": "1.2.0",
          "model_name": "LayoutModel",
          "state": {
            "_model_module": "@jupyter-widgets/base",
            "_model_module_version": "1.2.0",
            "_model_name": "LayoutModel",
            "_view_count": null,
            "_view_module": "@jupyter-widgets/base",
            "_view_module_version": "1.2.0",
            "_view_name": "LayoutView",
            "align_content": null,
            "align_items": null,
            "align_self": null,
            "border": null,
            "bottom": null,
            "display": null,
            "flex": null,
            "flex_flow": null,
            "grid_area": null,
            "grid_auto_columns": null,
            "grid_auto_flow": null,
            "grid_auto_rows": null,
            "grid_column": null,
            "grid_gap": null,
            "grid_row": null,
            "grid_template_areas": null,
            "grid_template_columns": null,
            "grid_template_rows": null,
            "height": null,
            "justify_content": null,
            "justify_items": null,
            "left": null,
            "margin": null,
            "max_height": null,
            "max_width": null,
            "min_height": null,
            "min_width": null,
            "object_fit": null,
            "object_position": null,
            "order": null,
            "overflow": null,
            "overflow_x": null,
            "overflow_y": null,
            "padding": null,
            "right": null,
            "top": null,
            "visibility": null,
            "width": null
          }
        },
        "c2cbd029c4ff4609acdc4e9e3a28c605": {
          "model_module": "@jupyter-widgets/controls",
          "model_module_version": "1.5.0",
          "model_name": "FloatProgressModel",
          "state": {
            "_dom_classes": [],
            "_model_module": "@jupyter-widgets/controls",
            "_model_module_version": "1.5.0",
            "_model_name": "FloatProgressModel",
            "_view_count": null,
            "_view_module": "@jupyter-widgets/controls",
            "_view_module_version": "1.5.0",
            "_view_name": "ProgressView",
            "bar_style": "success",
            "description": "",
            "description_tooltip": null,
            "layout": "IPY_MODEL_e0bcd3a176884e108105cb58738cb495",
            "max": 1234829,
            "min": 0,
            "orientation": "horizontal",
            "style": "IPY_MODEL_db73b5b373ed478eb9b3c9ce12fa7836",
            "value": 1234829
          }
        },
        "cea8f4838c204b119800bf738fc5ab39": {
          "model_module": "@jupyter-widgets/controls",
          "model_module_version": "1.5.0",
          "model_name": "DescriptionStyleModel",
          "state": {
            "_model_module": "@jupyter-widgets/controls",
            "_model_module_version": "1.5.0",
            "_model_name": "DescriptionStyleModel",
            "_view_count": null,
            "_view_module": "@jupyter-widgets/base",
            "_view_module_version": "1.2.0",
            "_view_name": "StyleView",
            "description_width": ""
          }
        },
        "d1f74f52d1404a46828e3d3d453bd2a0": {
          "model_module": "@jupyter-widgets/base",
          "model_module_version": "1.2.0",
          "model_name": "LayoutModel",
          "state": {
            "_model_module": "@jupyter-widgets/base",
            "_model_module_version": "1.2.0",
            "_model_name": "LayoutModel",
            "_view_count": null,
            "_view_module": "@jupyter-widgets/base",
            "_view_module_version": "1.2.0",
            "_view_name": "LayoutView",
            "align_content": null,
            "align_items": null,
            "align_self": null,
            "border": null,
            "bottom": null,
            "display": null,
            "flex": null,
            "flex_flow": null,
            "grid_area": null,
            "grid_auto_columns": null,
            "grid_auto_flow": null,
            "grid_auto_rows": null,
            "grid_column": null,
            "grid_gap": null,
            "grid_row": null,
            "grid_template_areas": null,
            "grid_template_columns": null,
            "grid_template_rows": null,
            "height": null,
            "justify_content": null,
            "justify_items": null,
            "left": null,
            "margin": null,
            "max_height": null,
            "max_width": null,
            "min_height": null,
            "min_width": null,
            "object_fit": null,
            "object_position": null,
            "order": null,
            "overflow": null,
            "overflow_x": null,
            "overflow_y": null,
            "padding": null,
            "right": null,
            "top": null,
            "visibility": null,
            "width": null
          }
        },
        "db73b5b373ed478eb9b3c9ce12fa7836": {
          "model_module": "@jupyter-widgets/controls",
          "model_module_version": "1.5.0",
          "model_name": "ProgressStyleModel",
          "state": {
            "_model_module": "@jupyter-widgets/controls",
            "_model_module_version": "1.5.0",
            "_model_name": "ProgressStyleModel",
            "_view_count": null,
            "_view_module": "@jupyter-widgets/base",
            "_view_module_version": "1.2.0",
            "_view_name": "StyleView",
            "bar_color": null,
            "description_width": ""
          }
        },
        "dba640b3230d487da7d9b04ee64b1ac7": {
          "model_module": "@jupyter-widgets/controls",
          "model_module_version": "1.5.0",
          "model_name": "DescriptionStyleModel",
          "state": {
            "_model_module": "@jupyter-widgets/controls",
            "_model_module_version": "1.5.0",
            "_model_name": "DescriptionStyleModel",
            "_view_count": null,
            "_view_module": "@jupyter-widgets/base",
            "_view_module_version": "1.2.0",
            "_view_name": "StyleView",
            "description_width": ""
          }
        },
        "de7d21608f634650a0c4e3d8881ed00c": {
          "model_module": "@jupyter-widgets/controls",
          "model_module_version": "1.5.0",
          "model_name": "HTMLModel",
          "state": {
            "_dom_classes": [],
            "_model_module": "@jupyter-widgets/controls",
            "_model_module_version": "1.5.0",
            "_model_name": "HTMLModel",
            "_view_count": null,
            "_view_module": "@jupyter-widgets/controls",
            "_view_module_version": "1.5.0",
            "_view_name": "HTMLView",
            "description": "",
            "description_tooltip": null,
            "layout": "IPY_MODEL_7c7572405d6d460eb999d433752fc4e5",
            "placeholder": "​",
            "style": "IPY_MODEL_718d1e370fe444b29e5f38b564aa90d3",
            "value": " 1.23M/1.23M [00:00&lt;00:00, 8.30MB/s]"
          }
        },
        "df8c59a7be88417a92937baa615de91d": {
          "model_module": "@jupyter-widgets/controls",
          "model_module_version": "1.5.0",
          "model_name": "HBoxModel",
          "state": {
            "_dom_classes": [],
            "_model_module": "@jupyter-widgets/controls",
            "_model_module_version": "1.5.0",
            "_model_name": "HBoxModel",
            "_view_count": null,
            "_view_module": "@jupyter-widgets/controls",
            "_view_module_version": "1.5.0",
            "_view_name": "HBoxView",
            "box_style": "",
            "children": [
              "IPY_MODEL_2c7ef14631f646698b99ab4527be7a2d",
              "IPY_MODEL_a04c8214a3d8434390df1159a693cce5",
              "IPY_MODEL_6d7431108f514747a6a174d1899fd745"
            ],
            "layout": "IPY_MODEL_4d9bcce22e0c4154a5e666a9adbbbdc9"
          }
        },
        "e05e3122806a438e98bfea3aa482d398": {
          "model_module": "@jupyter-widgets/base",
          "model_module_version": "1.2.0",
          "model_name": "LayoutModel",
          "state": {
            "_model_module": "@jupyter-widgets/base",
            "_model_module_version": "1.2.0",
            "_model_name": "LayoutModel",
            "_view_count": null,
            "_view_module": "@jupyter-widgets/base",
            "_view_module_version": "1.2.0",
            "_view_name": "LayoutView",
            "align_content": null,
            "align_items": null,
            "align_self": null,
            "border": null,
            "bottom": null,
            "display": null,
            "flex": null,
            "flex_flow": null,
            "grid_area": null,
            "grid_auto_columns": null,
            "grid_auto_flow": null,
            "grid_auto_rows": null,
            "grid_column": null,
            "grid_gap": null,
            "grid_row": null,
            "grid_template_areas": null,
            "grid_template_columns": null,
            "grid_template_rows": null,
            "height": null,
            "justify_content": null,
            "justify_items": null,
            "left": null,
            "margin": null,
            "max_height": null,
            "max_width": null,
            "min_height": null,
            "min_width": null,
            "object_fit": null,
            "object_position": null,
            "order": null,
            "overflow": null,
            "overflow_x": null,
            "overflow_y": null,
            "padding": null,
            "right": null,
            "top": null,
            "visibility": null,
            "width": null
          }
        },
        "e0bcd3a176884e108105cb58738cb495": {
          "model_module": "@jupyter-widgets/base",
          "model_module_version": "1.2.0",
          "model_name": "LayoutModel",
          "state": {
            "_model_module": "@jupyter-widgets/base",
            "_model_module_version": "1.2.0",
            "_model_name": "LayoutModel",
            "_view_count": null,
            "_view_module": "@jupyter-widgets/base",
            "_view_module_version": "1.2.0",
            "_view_name": "LayoutView",
            "align_content": null,
            "align_items": null,
            "align_self": null,
            "border": null,
            "bottom": null,
            "display": null,
            "flex": null,
            "flex_flow": null,
            "grid_area": null,
            "grid_auto_columns": null,
            "grid_auto_flow": null,
            "grid_auto_rows": null,
            "grid_column": null,
            "grid_gap": null,
            "grid_row": null,
            "grid_template_areas": null,
            "grid_template_columns": null,
            "grid_template_rows": null,
            "height": null,
            "justify_content": null,
            "justify_items": null,
            "left": null,
            "margin": null,
            "max_height": null,
            "max_width": null,
            "min_height": null,
            "min_width": null,
            "object_fit": null,
            "object_position": null,
            "order": null,
            "overflow": null,
            "overflow_x": null,
            "overflow_y": null,
            "padding": null,
            "right": null,
            "top": null,
            "visibility": null,
            "width": null
          }
        },
        "e0c3133edc8a45d3abbafb947d2e2281": {
          "model_module": "@jupyter-widgets/controls",
          "model_module_version": "1.5.0",
          "model_name": "HTMLModel",
          "state": {
            "_dom_classes": [],
            "_model_module": "@jupyter-widgets/controls",
            "_model_module_version": "1.5.0",
            "_model_name": "HTMLModel",
            "_view_count": null,
            "_view_module": "@jupyter-widgets/controls",
            "_view_module_version": "1.5.0",
            "_view_name": "HTMLView",
            "description": "",
            "description_tooltip": null,
            "layout": "IPY_MODEL_36f339ebb4ba426dbf33dece6edc2121",
            "placeholder": "​",
            "style": "IPY_MODEL_b4826e8a26494fe99eaa701c057b228b",
            "value": "Downloading data: 100%"
          }
        },
        "edc4229442ea422a8c2709838dd6a373": {
          "model_module": "@jupyter-widgets/controls",
          "model_module_version": "1.5.0",
          "model_name": "DescriptionStyleModel",
          "state": {
            "_model_module": "@jupyter-widgets/controls",
            "_model_module_version": "1.5.0",
            "_model_name": "DescriptionStyleModel",
            "_view_count": null,
            "_view_module": "@jupyter-widgets/base",
            "_view_module_version": "1.2.0",
            "_view_name": "StyleView",
            "description_width": ""
          }
        },
        "f7f0d131b8314204bdb0d545a3e2e021": {
          "model_module": "@jupyter-widgets/base",
          "model_module_version": "1.2.0",
          "model_name": "LayoutModel",
          "state": {
            "_model_module": "@jupyter-widgets/base",
            "_model_module_version": "1.2.0",
            "_model_name": "LayoutModel",
            "_view_count": null,
            "_view_module": "@jupyter-widgets/base",
            "_view_module_version": "1.2.0",
            "_view_name": "LayoutView",
            "align_content": null,
            "align_items": null,
            "align_self": null,
            "border": null,
            "bottom": null,
            "display": null,
            "flex": null,
            "flex_flow": null,
            "grid_area": null,
            "grid_auto_columns": null,
            "grid_auto_flow": null,
            "grid_auto_rows": null,
            "grid_column": null,
            "grid_gap": null,
            "grid_row": null,
            "grid_template_areas": null,
            "grid_template_columns": null,
            "grid_template_rows": null,
            "height": null,
            "justify_content": null,
            "justify_items": null,
            "left": null,
            "margin": null,
            "max_height": null,
            "max_width": null,
            "min_height": null,
            "min_width": null,
            "object_fit": null,
            "object_position": null,
            "order": null,
            "overflow": null,
            "overflow_x": null,
            "overflow_y": null,
            "padding": null,
            "right": null,
            "top": null,
            "visibility": null,
            "width": null
          }
        }
      }
    }
  },
  "nbformat": 4,
  "nbformat_minor": 0
}
