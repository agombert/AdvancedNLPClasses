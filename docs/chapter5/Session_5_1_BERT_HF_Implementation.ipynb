{
  "cells": [
    {
      "cell_type": "markdown",
      "metadata": {
        "id": "hSePAhRNLmu6"
      },
      "source": [
        "# BERT Implementation with HF vs LSTM Text Classification vs. TF-IDF + Logistic Regression\n",
        "\n",
        "In this notebook, we compare three different approaches to text classification:\n",
        "\n",
        "1. **Logistic Regression** on top of TF-IDF features\n",
        "2. **LSTM** (using Keras) trained end-to-end\n",
        "3. **BERT** (using Hugging Face) trained end-to-end\n",
        "\n",
        "We'll explore:\n",
        "- The architectures for each approach\n",
        "- Their respective training processes\n",
        "- Visualization of results and metrics\n",
        "- Potential improvements for the BERT model"
      ]
    },
    {
      "cell_type": "markdown",
      "metadata": {
        "id": "1r5vdQV2Lmu7"
      },
      "source": [
        "## 1. Environment Setup & Imports\n",
        "\n",
        "We'll install any dependencies (if needed) and import the necessary libraries."
      ]
    },
    {
      "cell_type": "code",
      "execution_count": 1,
      "metadata": {
        "colab": {
          "base_uri": "https://localhost:8080/"
        },
        "id": "yyMImr0gLmu7",
        "outputId": "de75ed5b-8000-46f0-db6a-f1be6755ab5f",
        "tags": []
      },
      "outputs": [
        {
          "name": "stderr",
          "output_type": "stream",
          "text": [
            "2025-05-05 11:11:03.608750: I tensorflow/core/util/port.cc:113] oneDNN custom operations are on. You may see slightly different numerical results due to floating-point round-off errors from different computation orders. To turn them off, set the environment variable `TF_ENABLE_ONEDNN_OPTS=0`.\n",
            "2025-05-05 11:11:03.643424: E external/local_xla/xla/stream_executor/cuda/cuda_dnn.cc:9261] Unable to register cuDNN factory: Attempting to register factory for plugin cuDNN when one has already been registered\n",
            "2025-05-05 11:11:03.643448: E external/local_xla/xla/stream_executor/cuda/cuda_fft.cc:607] Unable to register cuFFT factory: Attempting to register factory for plugin cuFFT when one has already been registered\n",
            "2025-05-05 11:11:03.644375: E external/local_xla/xla/stream_executor/cuda/cuda_blas.cc:1515] Unable to register cuBLAS factory: Attempting to register factory for plugin cuBLAS when one has already been registered\n",
            "2025-05-05 11:11:03.650611: I tensorflow/core/platform/cpu_feature_guard.cc:182] This TensorFlow binary is optimized to use available CPU instructions in performance-critical operations.\n",
            "To enable the following instructions: AVX2 AVX512F AVX512_VNNI FMA, in other operations, rebuild TensorFlow with the appropriate compiler flags.\n",
            "2025-05-05 11:11:04.384736: W tensorflow/compiler/tf2tensorrt/utils/py_utils.cc:38] TF-TRT Warning: Could not find TensorRT\n"
          ]
        }
      ],
      "source": [
        "import numpy as np\n",
        "import pandas as pd\n",
        "import matplotlib.pyplot as plt\n",
        "import seaborn as sns\n",
        "from datasets import load_dataset\n",
        "from sklearn.model_selection import train_test_split\n",
        "from sklearn.feature_extraction.text import TfidfVectorizer\n",
        "from sklearn.linear_model import LogisticRegression\n",
        "from sklearn.metrics import confusion_matrix, classification_report\n",
        "\n",
        "import os\n",
        "os.environ[\"TF_USE_LEGACY_KERAS\"] = \"1\" # This is needed for the LSTM model on GPU\n",
        "os.environ[\"KERAS_BACKEND\"] = \"tensorflow\"  # Use TensorFlow backend\n",
        "\n",
        "import tensorflow as tf\n",
        "from tensorflow import keras\n",
        "from tensorflow.keras import layers\n",
        "\n",
        "from transformers import (AutoTokenizer, AutoModelForSequenceClassification,\n",
        "                          DataCollatorWithPadding, TrainingArguments, Trainer)\n",
        "import evaluate, torch, os, random, json\n",
        "\n",
        "np.random.seed(42)"
      ]
    },
    {
      "cell_type": "markdown",
      "metadata": {
        "id": "UV7PuqNoLmu8"
      },
      "source": [
        "## 2. Data Loading & Preprocessing\n",
        "\n",
        "For demonstration, we'll assume we have a text classification dataset named `df`. It contains two columns:\n",
        "- `text` : The text field\n",
        "- `label`: The target label (0 or 1, for binary classification, or more classes)\n",
        "\n",
        "We'll split the data into **train** and **test** sets, then further create a small dev set if needed."
      ]
    },
    {
      "cell_type": "code",
      "execution_count": 2,
      "metadata": {
        "id": "GqcC7KYbLmu8",
        "outputId": "3113b509-76c9-4a19-ecdf-7ee291a165c3",
        "tags": []
      },
      "outputs": [
        {
          "name": "stdout",
          "output_type": "stream",
          "text": [
            "DatasetDict({\n",
            "    train: Dataset({\n",
            "        features: ['text', 'label'],\n",
            "        num_rows: 25000\n",
            "    })\n",
            "    test: Dataset({\n",
            "        features: ['text', 'label'],\n",
            "        num_rows: 25000\n",
            "    })\n",
            "    unsupervised: Dataset({\n",
            "        features: ['text', 'label'],\n",
            "        num_rows: 50000\n",
            "    })\n",
            "})\n"
          ]
        }
      ],
      "source": [
        "# Load the imdb\n",
        "dataset = load_dataset('imdb')\n",
        "print(dataset)\n",
        "\n",
        "\n",
        "# Convert to pandas DataFrame for easier manipulation\n",
        "train_df = dataset['train'].shuffle(seed=42).to_pandas()\n",
        "test_df = dataset['test'].shuffle(seed=42).to_pandas()\n",
        "# Clean the memory\n",
        "del dataset"
      ]
    },
    {
      "cell_type": "markdown",
      "metadata": {
        "id": "X8qGTLSWLmu9"
      },
      "source": [
        "## 3. TF-IDF + Logistic Regression\n",
        "\n",
        "We'll:\n",
        "1. Vectorize our text using TF-IDF.\n",
        "2. Train a Logistic Regression model.\n",
        "3. Evaluate on the test set.\n",
        "4. Visualize results.\n"
      ]
    },
    {
      "cell_type": "code",
      "execution_count": 3,
      "metadata": {
        "id": "fRucDkOMLmu-",
        "outputId": "a23da300-7460-4513-88b1-61561d4998e3"
      },
      "outputs": [
        {
          "name": "stdout",
          "output_type": "stream",
          "text": [
            "X_train shape: (25000, 20000) , y_train shape: (25000,)\n"
          ]
        }
      ],
      "source": [
        "# 3.1 Vectorize text with TF-IDF\n",
        "tfidf_vec = TfidfVectorizer(stop_words='english', min_df=5, max_features=20000)\n",
        "\n",
        "X_train_tfidf = tfidf_vec.fit_transform(train_df['text'])\n",
        "y_train = train_df['label'].values\n",
        "\n",
        "X_test_tfidf = tfidf_vec.transform(test_df['text'])\n",
        "y_test = test_df['label'].values\n",
        "\n",
        "print(\"X_train shape:\", X_train_tfidf.shape, \", y_train shape:\", y_train.shape)"
      ]
    },
    {
      "cell_type": "code",
      "execution_count": 4,
      "metadata": {
        "id": "N6C0IxCeLmu-",
        "outputId": "92558089-4e9d-4ca4-c15e-8a48ab64dbca"
      },
      "outputs": [
        {
          "name": "stdout",
          "output_type": "stream",
          "text": [
            "LogisticRegression Test Classification Report:\n",
            "              precision    recall  f1-score   support\n",
            "\n",
            "           0       0.88      0.88      0.88     12500\n",
            "           1       0.88      0.88      0.88     12500\n",
            "\n",
            "    accuracy                           0.88     25000\n",
            "   macro avg       0.88      0.88      0.88     25000\n",
            "weighted avg       0.88      0.88      0.88     25000\n",
            "\n",
            "Confusion Matrix: [[10985  1515]\n",
            " [ 1479 11021]]\n"
          ]
        }
      ],
      "source": [
        "# 3.2 Train a Logistic Regression model\n",
        "logreg = LogisticRegression()\n",
        "logreg.fit(X_train_tfidf, y_train)\n",
        "\n",
        "# Evaluate on test\n",
        "y_pred_logreg = logreg.predict(X_test_tfidf)\n",
        "\n",
        "print(\"LogisticRegression Test Classification Report:\")\n",
        "print(classification_report(y_test, y_pred_logreg))\n",
        "cm_logreg = confusion_matrix(y_test, y_pred_logreg)\n",
        "print(\"Confusion Matrix:\", cm_logreg)"
      ]
    },
    {
      "cell_type": "markdown",
      "metadata": {
        "id": "zpw0x7fXLmu-"
      },
      "source": [
        "### Visualization of Confusion Matrix"
      ]
    },
    {
      "cell_type": "code",
      "execution_count": null,
      "metadata": {
        "id": "tp7yffowLmu-",
        "outputId": "32bc0acf-538b-4aba-d291-5d7afcfd71cd"
      },
      "outputs": [
        {
          "data": {
            "image/png": "[encoded data removed]",
            "text/plain": [
              "<Figure size 400x400 with 1 Axes>"
            ]
          },
          "metadata": {},
          "output_type": "display_data"
        }
      ],
      "source": [
        "plt.figure(figsize=(4,4))\n",
        "sns.heatmap(cm_logreg, annot=True, cmap='Blues', fmt='d', cbar=False)\n",
        "plt.title(\"LogReg TF-IDF - Confusion Matrix\")\n",
        "plt.xlabel(\"Predicted\")\n",
        "plt.ylabel(\"True\")\n",
        "plt.show()"
      ]
    },
    {
      "cell_type": "markdown",
      "metadata": {
        "id": "vkmlft9eLmu_"
      },
      "source": [
        "## 4: LSTM Classification\n",
        "\n",
        "For the whole explanation on the LSTM classification, please refer to the [Session 4](https://github.com/agomberto/AdvancedNLPClasses/blob/main/docs/chapter2/Session_2_3_LSTM_Classif.ipynb).\n",
        "\n",
        "Here we will directly train the model.\n",
        "\n",
        "### 4.1 Preprocessing the Text for LSTM"
      ]
    },
    {
      "cell_type": "code",
      "execution_count": 6,
      "metadata": {
        "id": "uV_PO6RkLmvA",
        "outputId": "bb75ddba-cd63-43e5-9b61-682ed8bb9e7e"
      },
      "outputs": [
        {
          "name": "stdout",
          "output_type": "stream",
          "text": [
            "20001\n"
          ]
        },
        {
          "data": {
            "text/plain": [
              "((25000, 128), (25000,))"
            ]
          },
          "execution_count": 6,
          "metadata": {},
          "output_type": "execute_result"
        }
      ],
      "source": [
        "from tensorflow.keras.preprocessing.text import Tokenizer\n",
        "from tensorflow.keras.preprocessing.sequence import pad_sequences\n",
        "\n",
        "#Create the tokenizer with the same vocabulary as the TF-IDF vectorizer\n",
        "custom_vocab = tfidf_vec.vocabulary_\n",
        "vocab_size = len(custom_vocab) + 1 # +1 for the OOV token\n",
        "tokenizer = Tokenizer(num_words=vocab_size, oov_token=\"<OOV>\")\n",
        "\n",
        "# Manually assign word index\n",
        "tokenizer.word_index = {word: i for i, word in enumerate(custom_vocab)}\n",
        "tokenizer.word_index[tokenizer.oov_token] = len(custom_vocab)\n",
        "print(len(tokenizer.word_index))\n",
        "\n",
        "##Let's increase the max length of the sequences to 128\n",
        "max_len = 128\n",
        "\n",
        "# Let's create a function to convert the text to a sequence of token IDs and pad them to the same length: 128\n",
        "\n",
        "def text_to_seq(df_col, max_len=128):\n",
        "    seqs = tokenizer.texts_to_sequences(df_col)\n",
        "    # pad\n",
        "    seqs_padded = pad_sequences(seqs, maxlen=max_len, padding='post', truncating='post')\n",
        "    return seqs_padded\n",
        "\n",
        "X_train_seq = text_to_seq(train_df['text'].map(lambda x: x.lower()), max_len=max_len)\n",
        "X_test_seq = text_to_seq(test_df['text'].map(lambda x: x.lower()), max_len=max_len)\n",
        "\n",
        "y_train_lstm = train_df['label'].values\n",
        "y_test_lstm  = test_df['label'].values\n",
        "\n",
        "X_train_seq.shape, y_train_lstm.shape"
      ]
    },
    {
      "cell_type": "markdown",
      "metadata": {
        "id": "TPHR1BcNLmvA"
      },
      "source": [
        "### 4.2 Build the LSTM Model\n",
        "\n",
        "Now that we have our sequences ready and padded, we can build an LSTM-based neural network using Keras.\n",
        "\n",
        "We’ll use a simple architecture:\n",
        "- An **Embedding layer** to learn word representations.\n",
        "- A single **LSTM layer** to process the sequence.\n",
        "- A **Dense layer** with a sigmoid activation to output binary predictions.\n",
        "\n",
        "The optimizer is Adam with a learning rate of 0.01."
      ]
    },
    {
      "cell_type": "code",
      "execution_count": 7,
      "metadata": {
        "id": "gehkCNhcLmvA",
        "outputId": "bb5b502b-5609-4963-b615-76963d1b952f"
      },
      "outputs": [
        {
          "name": "stdout",
          "output_type": "stream",
          "text": [
            "Model: \"model\"\n",
            "_________________________________________________________________\n",
            " Layer (type)                Output Shape              Param #   \n",
            "=================================================================\n",
            " input_1 (InputLayer)        [(None, 128)]             0         \n",
            "                                                                 \n",
            " embedding (Embedding)       (None, 128, 32)           640032    \n",
            "                                                                 \n",
            " lstm (LSTM)                 (None, 128, 32)           8320      \n",
            "                                                                 \n"
          ]
        },
        {
          "name": "stderr",
          "output_type": "stream",
          "text": [
            "2025-05-05 11:11:25.038066: I external/local_xla/xla/stream_executor/cuda/cuda_executor.cc:901] successful NUMA node read from SysFS had negative value (-1), but there must be at least one NUMA node, so returning NUMA node zero. See more at https://github.com/torvalds/linux/blob/v6.0/Documentation/ABI/testing/sysfs-bus-pci#L344-L355\n",
            "2025-05-05 11:11:25.042701: W tensorflow/core/common_runtime/gpu/gpu_device.cc:2256] Cannot dlopen some GPU libraries. Please make sure the missing libraries mentioned above are installed properly if you would like to use GPU. Follow the guide at https://www.tensorflow.org/install/gpu for how to download and setup the required libraries for your platform.\n",
            "Skipping registering GPU devices...\n"
          ]
        },
        {
          "name": "stdout",
          "output_type": "stream",
          "text": [
            " flatten (Flatten)           (None, 4096)              0         \n",
            "                                                                 \n",
            " dropout (Dropout)           (None, 4096)              0         \n",
            "                                                                 \n",
            " dense (Dense)               (None, 1)                 4097      \n",
            "                                                                 \n",
            "=================================================================\n",
            "Total params: 652449 (2.49 MB)\n",
            "Trainable params: 652449 (2.49 MB)\n",
            "Non-trainable params: 0 (0.00 Byte)\n",
            "_________________________________________________________________\n"
          ]
        }
      ],
      "source": [
        "import keras\n",
        "from keras import layers, regularizers\n",
        "\n",
        "embedding_dim = 32\n",
        "inputs = keras.Input(shape=(max_len,), dtype=\"int32\")\n",
        "x = layers.Embedding(vocab_size, embedding_dim)(inputs)\n",
        "\n",
        "# LSTM with regularizer\n",
        "x = layers.LSTM(32,\n",
        "               return_sequences=True,\n",
        "               kernel_regularizer=regularizers.L2(0.01))(x)\n",
        "\n",
        "x = layers.Flatten()(x)\n",
        "x = layers.Dropout(0.15)(x)\n",
        "outputs = layers.Dense(1, activation=\"sigmoid\")(x)\n",
        "model = keras.Model(inputs, outputs)\n",
        "model.summary()"
      ]
    },
    {
      "cell_type": "markdown",
      "metadata": {
        "id": "ROapDcYWLmvB"
      },
      "source": [
        "### 4.3 Train the LSTM Model\n",
        "\n",
        "Now we train the model using our preprocessed sequences and binary labels.\n",
        "\n",
        "We use:\n",
        "- `validation_split=0.2`: to hold out 20% of training data for validation.\n",
        "- `epochs=10`: to iterate 10 times over the dataset.\n",
        "- `batch_size=128`: A high batch size to speed up training and also to reduce overfitting.\n",
        "\n",
        "Note that LSTMs are more computationally expensive than logistic regression, so training can take longer — especially with small batches.\n",
        "\n",
        "To control the overfitting we can use the callback `EarlyStopping` to stop the training if the validation loss does not improve for 3 epochs."
      ]
    },
    {
      "cell_type": "code",
      "execution_count": 8,
      "metadata": {
        "id": "3rFW_hUdLmvB"
      },
      "outputs": [],
      "source": [
        "from tensorflow.keras.metrics import Recall, Precision\n",
        "\n",
        "optimizer = keras.optimizers.Adam(learning_rate=0.001)\n",
        "\n",
        "# Then compile with the correct metric objects\n",
        "model.compile(\n",
        "    optimizer=optimizer,\n",
        "    loss=keras.losses.BinaryCrossentropy(from_logits=False),\n",
        "    metrics=['accuracy', Recall(), Precision()]\n",
        ")"
      ]
    },
    {
      "cell_type": "code",
      "execution_count": 9,
      "metadata": {
        "id": "p-xn14v1LmvB",
        "outputId": "b4d7fdb2-07f9-42fe-9fe5-8a6cdf6772ed"
      },
      "outputs": [
        {
          "name": "stdout",
          "output_type": "stream",
          "text": [
            "Epoch 1/20\n"
          ]
        },
        {
          "name": "stdout",
          "output_type": "stream",
          "text": [
            "157/157 [==============================] - 10s 39ms/step - loss: 0.7218 - accuracy: 0.6925 - recall: 0.6582 - precision: 0.5813 - val_loss: 0.4788 - val_accuracy: 0.8064 - val_recall: 0.6960 - val_precision: 0.7081\n",
            "Epoch 2/20\n",
            "157/157 [==============================] - 6s 36ms/step - loss: 0.2989 - accuracy: 0.8913 - recall: 0.7491 - precision: 0.7688 - val_loss: 0.3881 - val_accuracy: 0.8410 - val_recall: 0.7881 - val_precision: 0.8005\n",
            "Epoch 3/20\n",
            "157/157 [==============================] - 6s 36ms/step - loss: 0.1876 - accuracy: 0.9392 - recall: 0.8165 - precision: 0.8247 - val_loss: 0.4466 - val_accuracy: 0.8336 - val_recall: 0.8351 - val_precision: 0.8405\n",
            "Epoch 4/20\n",
            "157/157 [==============================] - 6s 36ms/step - loss: 0.1205 - accuracy: 0.9647 - recall: 0.8514 - precision: 0.8543 - val_loss: 0.6309 - val_accuracy: 0.8064 - val_recall: 0.8590 - val_precision: 0.8662\n",
            "Epoch 5/20\n",
            "157/157 [==============================] - 6s 36ms/step - loss: 0.0881 - accuracy: 0.9752 - recall: 0.8662 - precision: 0.8768 - val_loss: 0.6237 - val_accuracy: 0.8214 - val_recall: 0.8742 - val_precision: 0.8835\n"
          ]
        }
      ],
      "source": [
        "from tensorflow.keras.callbacks import EarlyStopping\n",
        "\n",
        "history = model.fit(\n",
        "    X_train_seq, y_train_lstm,\n",
        "    validation_split=0.2,\n",
        "    epochs=20,\n",
        "    batch_size=128,\n",
        "    verbose=1,\n",
        "    callbacks=[EarlyStopping(monitor='val_loss', patience=3)]\n",
        ")"
      ]
    },
    {
      "cell_type": "markdown",
      "metadata": {
        "id": "WrweGi_tLmvB"
      },
      "source": [
        "### 4.4 Training Curves\n",
        "Let's visualize the training and validation accuracy/loss."
      ]
    },
    {
      "cell_type": "code",
      "execution_count": 12,
      "metadata": {
        "id": "QDEkp9g-LmvB",
        "outputId": "d9960bd8-9e85-4cb3-cc12-7655b203a816"
      },
      "outputs": [
        {
          "data": {
            "image/png": "[encoded data removed]",
            "text/plain": [
              "<Figure size 1200x400 with 2 Axes>"
            ]
          },
          "metadata": {},
          "output_type": "display_data"
        }
      ],
      "source": [
        "plt.figure(figsize=(12,4))\n",
        "plt.subplot(1,2,1)\n",
        "plt.plot(history.history['loss'], label='Train Loss')\n",
        "plt.plot(history.history['val_loss'], label='Val Loss')\n",
        "plt.legend()\n",
        "plt.title('LSTM Loss')\n",
        "\n",
        "plt.subplot(1,2,2)\n",
        "plt.plot(history.history['accuracy'], label='Train Acc')\n",
        "plt.plot(history.history['val_accuracy'], label='Val Acc')\n",
        "plt.legend()\n",
        "plt.title('LSTM Accuracy')\n",
        "plt.show()"
      ]
    },
    {
      "cell_type": "markdown",
      "metadata": {
        "id": "CD48JyKZLmvC"
      },
      "source": [
        "### 4.5 Evaluate on Test Data"
      ]
    },
    {
      "cell_type": "code",
      "execution_count": 11,
      "metadata": {
        "id": "-aab80KRLmvC",
        "outputId": "b4760b65-b33b-4502-f295-a59c87bf1546"
      },
      "outputs": [
        {
          "name": "stdout",
          "output_type": "stream",
          "text": [
            "782/782 [==============================] - 5s 6ms/step\n",
            "LSTM Classification Report:\n",
            "              precision    recall  f1-score   support\n",
            "\n",
            "           0       0.78      0.78      0.78     12500\n",
            "           1       0.78      0.78      0.78     12500\n",
            "\n",
            "    accuracy                           0.78     25000\n",
            "   macro avg       0.78      0.78      0.78     25000\n",
            "weighted avg       0.78      0.78      0.78     25000\n",
            "\n"
          ]
        }
      ],
      "source": [
        "y_pred_lstm_prob = model.predict(X_test_seq)\n",
        "y_pred_lstm = (y_pred_lstm_prob>0.5).astype(int)\n",
        "print(\"LSTM Classification Report:\")\n",
        "print(classification_report(y_test_lstm, y_pred_lstm))"
      ]
    },
    {
      "cell_type": "markdown",
      "metadata": {
        "id": "kNK5lWVpLmvC"
      },
      "source": [
        "## 5 : BERT (Text Classification)\n",
        "\n",
        "In this section we'll fine-tune **BERT (Base-uncased)** – a *bidirectional* transformer that already knows an enormous amount about language from pre-training on Wikipedia + Books.\n",
        "\n",
        "### 🤔 Why Move From LSTM to BERT?\n",
        "\n",
        "|                           | LSTM + Embeddings            | BERT (Transformer)                   |\n",
        "|---------------------------|------------------------------|--------------------------------------|\n",
        "| **Context Window**        | Limited, sequential          | Global (self-attention)              |\n",
        "| **Pre-training**          | Usually random embeddings    | 110 M parameters pre-trained on ~3 B words |\n",
        "| **Handles Long Ranges?**  | Struggles                    | Much better (all-to-all attention)   |\n",
        "| **Training Data Needed**  | More (from scratch)          | Less (only fine-tune)                |\n",
        "| **Compute / Memory**      | Lower                        | Higher                               |\n",
        "\n",
        "\n",
        "Absolutely! Here's a warm, student-friendly introductory Markdown cell that should go **above** the one I gave earlier — ideal for Master’s students encountering BERT for the first time:\n",
        "\n",
        "### 🤖 What is BERT?\n",
        "\n",
        "BERT stands for **Bidirectional Encoder Representations from Transformers**.\n",
        "It was introduced by Google in 2018 and changed the game by allowing models to **understand context in both directions** — left-to-right *and* right-to-left — at once.\n",
        "\n",
        "This means:\n",
        "\n",
        "* It understands that in \"bank account\" and \"river bank\", the word \"bank\" means different things.\n",
        "* It can be pre-trained on massive text data and then fine-tuned on small, specific tasks like sentiment analysis, spam detection, or question answering.\n",
        "\n",
        "---\n",
        "\n",
        "### 🧩 What Are We Doing here?\n",
        "\n",
        "We’ll take a **pre-trained BERT model**, add a small classification head on top, and fine-tune it to solve a binary classification problem (e.g. spam vs. ham, or positive vs. negative).\n",
        "\n",
        "You don’t need to train BERT from scratch. Why?\n",
        "\n",
        "> 💡 Because it was already trained on **massive corpora** like Wikipedia and BooksCorpus — that’s months of compute time we’re saving!\n",
        "\n",
        "---\n",
        "\n",
        "### 🔍 Where Do Pretrained Models Come From?\n",
        "\n",
        "We use the [🤗 Hugging Face Hub](https://huggingface.co/models) — it’s the “GitHub for machine learning models”.\n",
        "There you’ll find thousands of pre-trained models shared by the community, ready to be fine-tuned for your task.\n",
        "\n",
        "You can explore and download models like:\n",
        "\n",
        "* `bert-base-uncased` (classic BERT)\n",
        "* `distilbert-base-uncased` (smaller, faster)\n",
        "* `roberta-base`, `albert`, `tinyBERT`, `ModernBERT`, etc.\n",
        "\n",
        "Just replace the model name in your code — it’s that easy!\n",
        "\n",
        "---\n",
        "\n",
        "### ⚡ Why You Should Use a GPU\n",
        "\n",
        "Training large transformer models like BERT is **computationally expensive**.\n",
        "Without a GPU, training might take **hours or even days** — especially with large datasets.\n",
        "\n",
        "Using a GPU (e.g. on Google Colab, Kaggle, or your university’s cluster) makes training:\n",
        "\n",
        "* ⏱️ **Much faster**\n",
        "* 🔁 More suitable for experimentation\n",
        "* 🔬 Better for deep model introspection and visualization\n",
        "\n",
        "You can check GPU availability with:"
      ]
    },
    {
      "cell_type": "code",
      "execution_count": null,
      "metadata": {},
      "outputs": [],
      "source": [
        "import torch\n",
        "print(torch.cuda.is_available())"
      ]
    },
    {
      "cell_type": "markdown",
      "metadata": {},
      "source": [
        "### 🧰 Setup & Imports\n",
        "\n",
        "Before diving into BERT fine-tuning, we start by loading the necessary libraries and defining key training parameters:\n",
        "\n",
        "* **🤗 Hugging Face Transformers**: For model and tokenizer.\n",
        "* **🤗 Datasets**: To handle data loading and formatting.\n",
        "* **Trainer API**: For managing the training loop and evaluation.\n",
        "* **EarlyStoppingCallback**: To stop training once performance stops improving.\n",
        "* **evaluate**: For downstream metrics (like accuracy, F1...).\n",
        "* **Seed initialization**: To ensure reproducibility.\n",
        "\n",
        "#### 🔧 Key Configuration Parameters\n",
        "\n",
        "* `model_ckpt`: We’ll use `\"bert-base-uncased\"` as our pre-trained model. You can replace it with smaller models like `\"microsoft/MiniLM-L6...\"` for efficiency.\n",
        "* `num_labels`: We’re doing binary classification (`2` labels).\n",
        "* `max_length`: Input sequences are padded or truncated to `128` tokens.\n",
        "* `batch_size`: Controls how many samples are processed in one training step.\n",
        "* `seed`: Sets the random seed for reproducibility.\n",
        "\n",
        "We also define a `set_seed` function to ensure our experiments are deterministic across runs."
      ]
    },
    {
      "cell_type": "code",
      "execution_count": 2,
      "metadata": {
        "id": "1Dnn7IiYLmvC"
      },
      "outputs": [],
      "source": [
        "from datasets import load_dataset, DatasetDict\n",
        "from transformers import (AutoTokenizer,\n",
        "                          AutoModelForSequenceClassification,\n",
        "                          TrainingArguments, Trainer,\n",
        "                          EarlyStoppingCallback)\n",
        "import evaluate, numpy as np, matplotlib.pyplot as plt\n",
        "from pathlib import Path\n",
        "import torch, random, os\n",
        "\n",
        "model_ckpt   = \"bert-base-uncased\"   # ✔️ swap for \"microsoft/MiniLM-L6...\" if you need something lighter\n",
        "num_labels   = 2                     # binary classification\n",
        "max_length   = 128                   # truncate / pad length\n",
        "batch_size   = 64\n",
        "seed         = 42\n",
        "\n",
        "def set_seed(seed):\n",
        "    random.seed(seed); np.random.seed(seed); torch.manual_seed(seed); torch.cuda.manual_seed_all(seed)\n",
        "set_seed(seed)"
      ]
    },
    {
      "cell_type": "markdown",
      "metadata": {
        "id": "SFadNOD9LmvC"
      },
      "source": [
        "### 5.1 Pre-Processing (Tokenizer)\n",
        "\n",
        "Here’s a clear and student-friendly Markdown block that should go above this cell. It explains what's happening in an intuitive way, including why tokenization is critical when working with BERT:\n",
        "\n",
        "#### 🧪 Tokenize the Text (BERT Can’t Read Raw Text!)\n",
        "\n",
        "BERT doesn't read words — it reads **tokens**. So we need to:\n",
        "\n",
        "* Convert text into BERT-readable format using a **tokenizer**.\n",
        "* Truncate or pad each sentence to a fixed length (`max_length=128`).!\n",
        "\n",
        "Before we batch-process the whole dataset, let’s look at what happens to **one sentence** during BERT tokenization.\n",
        "\n",
        "We’ll use the BERT tokenizer (`bert-base-uncased`) to show the key steps:\n",
        "\n",
        "---\n",
        "\n",
        "#### ✏️ Example: A Single Sentence\n",
        "\n",
        "Let’s say we have this review:\n",
        "\n",
        "#### 🔢 Step 1: Tokenization into Subwords\n",
        "\n",
        "BERT uses **WordPiece** tokenization — it breaks rare or unknown words into subword units:\n",
        "\n",
        "Some words (like \"surprisingly\") may get split into subwords like `['surprising', '##ly']`.\n",
        "The `##` prefix means: “this subword continues a previous token.”\n"
      ]
    },
    {
      "cell_type": "code",
      "execution_count": 16,
      "metadata": {},
      "outputs": [
        {
          "name": "stdout",
          "output_type": "stream",
          "text": [
            "\"I Am Curious: Yellow\" is a risible and pretentious steaming pile. It doesn't matter what one's political views are because this film can hardly be taken seriously on any level. As for the claim that frontal male nudity is an automatic NC-17, that isn't true. I've seen R-rated films with male nudity. Granted, they only offer some fleeting views, but where are the R-rated films with gaping vulvas and flapping labia? Nowhere, because they don't exist. The same goes for those crappy cable shows: schlongs swinging in the breeze but not a clitoris in sight. And those pretentious indie movies like The Brown Bunny, in which we're treated to the site of Vincent Gallo's throbbing johnson, but not a trace of pink visible on Chloe Sevigny. Before crying (or implying) \"double-standard\" in matters of nudity, the mentally obtuse should take into account one unavoidably obvious anatomical difference between men and women: there are no genitals on display when actresses appears nude, and the same cannot be said for a man. In fact, you generally won't see female genitals in an American film in anything short of porn or explicit erotica. This alleged double-standard is less a double standard than an admittedly depressing ability to come to terms culturally with the insides of women's bodies.\n"
          ]
        }
      ],
      "source": [
        "# Load your dataset -----------------------------------------------------------\n",
        "raw = load_dataset(\"imdb\", split={\"train\":\"train\", \"test\":\"test\"})\n",
        "dataset = DatasetDict(train=raw[\"train\"], test=raw[\"test\"])\n",
        "\n",
        "# Tokeniser -------------------------------------------------------------------\n",
        "tok = AutoTokenizer.from_pretrained(model_ckpt)\n",
        "text = dataset['train'][1]['text']\n",
        "print(text)"
      ]
    },
    {
      "cell_type": "code",
      "execution_count": 17,
      "metadata": {},
      "outputs": [
        {
          "name": "stdout",
          "output_type": "stream",
          "text": [
            "\"I Am Curious: Yellow\" is a risible and pretentious steaming pile. It doesn't matter what one's political views are because this film can hardly be taken seriously on any level. As for the claim that frontal male nudity is an automatic NC-17, that isn't true. I've seen R-rated films with male nudity. Granted, they only offer some fleeting views, but where are the R-rated films with gaping vulvas and flapping labia? Nowhere, because they don't exist. The same goes for those crappy cable shows: schlongs swinging in the breeze but not a clitoris in sight. And those pretentious indie movies like The Brown Bunny, in which we're treated to the site of Vincent Gallo's throbbing johnson, but not a trace of pink visible on Chloe Sevigny. Before crying (or implying) \"double-standard\" in matters of nudity, the mentally obtuse should take into account one unavoidably obvious anatomical difference between men and women: there are no genitals on display when actresses appears nude, and the same cannot be said for a man. In fact, you generally won't see female genitals in an American film in anything short of porn or explicit erotica. This alleged double-standard is less a double standard than an admittedly depressing ability to come to terms culturally with the insides of women's bodies.\n",
            "['[CLS]', '\"', 'i', 'am', 'curious', ':', 'yellow', '\"', 'is', 'a', 'ri', '##sible', 'and', 'pre', '##ten', '##tious', 'steaming', 'pile', '.', 'it', 'doesn', \"'\", 't', 'matter', 'what', 'one', \"'\", 's', 'political', 'views', 'are', 'because', 'this', 'film', 'can', 'hardly', 'be', 'taken', 'seriously', 'on', 'any', 'level', '.', 'as', 'for', 'the', 'claim', 'that', 'frontal', 'male', 'nu', '##dity', 'is', 'an', 'automatic', 'nc', '-', '17', ',', 'that', 'isn', \"'\", 't', 'true', '.', 'i', \"'\", 've', 'seen', 'r', '-', 'rated', 'films', 'with', 'male', 'nu', '##dity', '.', 'granted', ',', 'they', 'only', 'offer', 'some', 'fleeting', 'views', ',', 'but', 'where', 'are', 'the', 'r', '-', 'rated', 'films', 'with', 'gaping', 'vu', '##lva', '##s', 'and', 'flap', '##ping', 'lab', '##ia', '?', 'nowhere', ',', 'because', 'they', 'don', \"'\", 't', 'exist', '.', 'the', 'same', 'goes', 'for', 'those', 'crap', '##py', 'cable', 'shows', ':', 'sc', '##hl', '##ong', '##s', 'swinging', 'in', 'the', 'breeze', 'but', 'not', 'a', 'clit', '##oris', 'in', 'sight', '.', 'and', 'those', 'pre', '##ten', '##tious', 'indie', 'movies', 'like', 'the', 'brown', 'bunny', ',', 'in', 'which', 'we', \"'\", 're', 'treated', 'to', 'the', 'site', 'of', 'vincent', 'gallo', \"'\", 's', 'throbbing', 'johnson', ',', 'but', 'not', 'a', 'trace', 'of', 'pink', 'visible', 'on', 'chloe', 'se', '##vi', '##gny', '.', 'before', 'crying', '(', 'or', 'implying', ')', '\"', 'double', '-', 'standard', '\"', 'in', 'matters', 'of', 'nu', '##dity', ',', 'the', 'mentally', 'ob', '##tus', '##e', 'should', 'take', 'into', 'account', 'one', 'una', '##vo', '##ida', '##bly', 'obvious', 'anatomical', 'difference', 'between', 'men', 'and', 'women', ':', 'there', 'are', 'no', 'gen', '##ital', '##s', 'on', 'display', 'when', 'actresses', 'appears', 'nude', ',', 'and', 'the', 'same', 'cannot', 'be', 'said', 'for', 'a', 'man', '.', 'in', 'fact', ',', 'you', 'generally', 'won', \"'\", 't', 'see', 'female', 'gen', '##ital', '##s', 'in', 'an', 'american', 'film', 'in', 'anything', 'short', 'of', 'porn', 'or', 'explicit', 'erotic', '##a', '.', 'this', 'alleged', 'double', '-', 'standard', 'is', 'less', 'a', 'double', 'standard', 'than', 'an', 'admitted', '##ly', 'de', '##pressing', 'ability', 'to', 'come', 'to', 'terms', 'culturally', 'with', 'the', 'insides', 'of', 'women', \"'\", 's', 'bodies', '.', '[SEP]']\n"
          ]
        }
      ],
      "source": [
        "text = dataset['train'][1]['text']\n",
        "print(text)\n",
        "tokens = tok.tokenize(text)\n",
        "print(tokens)"
      ]
    },
    {
      "cell_type": "markdown",
      "metadata": {},
      "source": [
        "#### 🔁 Step 2: Add Special Tokens\n",
        "\n",
        "BERT needs special tokens:\n",
        "\n",
        "* `[CLS]` at the start: stands for \"classification\" and is used as the summary vector.\n",
        "* `[SEP]` at the end: separates sequences (useful for sentence pairs)."
      ]
    },
    {
      "cell_type": "code",
      "execution_count": 18,
      "metadata": {},
      "outputs": [
        {
          "name": "stdout",
          "output_type": "stream",
          "text": [
            "\"I Am Curious: Yellow\" is a risible and pretentious steaming pile. It doesn't matter what one's political views are because this film can hardly be taken seriously on any level. As for the claim that frontal male nudity is an automatic NC-17, that isn't true. I've seen R-rated films with male nudity. Granted, they only offer some fleeting views, but where are the R-rated films with gaping vulvas and flapping labia? Nowhere, because they don't exist. The same goes for those crappy cable shows: schlongs swinging in the breeze but not a clitoris in sight. And those pretentious indie movies like The Brown Bunny, in which we're treated to the site of Vincent Gallo's throbbing johnson, but not a trace of pink visible on Chloe Sevigny. Before crying (or implying) \"double-standard\" in matters of nudity, the mentally obtuse should take into account one unavoidably obvious anatomical difference between men and women: there are no genitals on display when actresses appears nude, and the same cannot be said for a man. In fact, you generally won't see female genitals in an American film in anything short of porn or explicit erotica. This alleged double-standard is less a double standard than an admittedly depressing ability to come to terms culturally with the insides of women's bodies.\n",
            "['\"', 'i', 'am', 'curious', ':', 'yellow', '\"', 'is', 'a', 'ri', '##sible', 'and', 'pre', '##ten', '##tious', 'steaming', 'pile', '.', 'it', 'doesn', \"'\", 't', 'matter', 'what', 'one', \"'\", 's', 'political', 'views', 'are', 'because', 'this', 'film', 'can', 'hardly', 'be', 'taken', 'seriously', 'on', 'any', 'level', '.', 'as', 'for', 'the', 'claim', 'that', 'frontal', 'male', 'nu', '##dity', 'is', 'an', 'automatic', 'nc', '-', '17', ',', 'that', 'isn', \"'\", 't', 'true', '.', 'i', \"'\", 've', 'seen', 'r', '-', 'rated', 'films', 'with', 'male', 'nu', '##dity', '.', 'granted', ',', 'they', 'only', 'offer', 'some', 'fleeting', 'views', ',', 'but', 'where', 'are', 'the', 'r', '-', 'rated', 'films', 'with', 'gaping', 'vu', '##lva', '##s', 'and', 'flap', '##ping', 'lab', '##ia', '?', 'nowhere', ',', 'because', 'they', 'don', \"'\", 't', 'exist', '.', 'the', 'same', 'goes', 'for', 'those', 'crap', '##py', 'cable', 'shows', ':', 'sc', '##hl', '##ong', '##s', 'swinging', 'in', 'the', 'breeze', 'but', 'not', 'a', 'clit', '##oris', 'in', 'sight', '.', 'and', 'those', 'pre', '##ten', '##tious', 'indie', 'movies', 'like', 'the', 'brown', 'bunny', ',', 'in', 'which', 'we', \"'\", 're', 'treated', 'to', 'the', 'site', 'of', 'vincent', 'gallo', \"'\", 's', 'throbbing', 'johnson', ',', 'but', 'not', 'a', 'trace', 'of', 'pink', 'visible', 'on', 'chloe', 'se', '##vi', '##gny', '.', 'before', 'crying', '(', 'or', 'implying', ')', '\"', 'double', '-', 'standard', '\"', 'in', 'matters', 'of', 'nu', '##dity', ',', 'the', 'mentally', 'ob', '##tus', '##e', 'should', 'take', 'into', 'account', 'one', 'una', '##vo', '##ida', '##bly', 'obvious', 'anatomical', 'difference', 'between', 'men', 'and', 'women', ':', 'there', 'are', 'no', 'gen', '##ital', '##s', 'on', 'display', 'when', 'actresses', 'appears', 'nude', ',', 'and', 'the', 'same', 'cannot', 'be', 'said', 'for', 'a', 'man', '.', 'in', 'fact', ',', 'you', 'generally', 'won', \"'\", 't', 'see', 'female', 'gen', '##ital', '##s', 'in', 'an', 'american', 'film', 'in', 'anything', 'short', 'of', 'porn', 'or', 'explicit', 'erotic', '##a', '.', 'this', 'alleged', 'double', '-', 'standard', 'is', 'less', 'a', 'double', 'standard', 'than', 'an', 'admitted', '##ly', 'de', '##pressing', 'ability', 'to', 'come', 'to', 'terms', 'culturally', 'with', 'the', 'insides', 'of', 'women', \"'\", 's', 'bodies', '.']\n",
            "['[CLS]', '\"', 'i', 'am', 'curious', ':', 'yellow', '\"', 'is', 'a', 'ri', '##sible', 'and', 'pre', '##ten', '##tious', 'steaming', 'pile', '.', 'it', 'doesn', \"'\", 't', 'matter', 'what', 'one', \"'\", 's', 'political', 'views', 'are', 'because', 'this', 'film', 'can', 'hardly', 'be', 'taken', 'seriously', 'on', 'any', 'level', '.', 'as', 'for', 'the', 'claim', 'that', 'frontal', 'male', 'nu', '##dity', 'is', 'an', 'automatic', 'nc', '-', '17', ',', 'that', 'isn', \"'\", 't', 'true', '.', 'i', \"'\", 've', 'seen', 'r', '-', 'rated', 'films', 'with', 'male', 'nu', '##dity', '.', 'granted', ',', 'they', 'only', 'offer', 'some', 'fleeting', 'views', ',', 'but', 'where', 'are', 'the', 'r', '-', 'rated', 'films', 'with', 'gaping', 'vu', '##lva', '##s', 'and', 'flap', '##ping', 'lab', '##ia', '?', 'nowhere', ',', 'because', 'they', 'don', \"'\", 't', 'exist', '.', 'the', 'same', 'goes', 'for', 'those', 'crap', '##py', 'cable', 'shows', ':', 'sc', '##hl', '##ong', '##s', 'swinging', 'in', 'the', 'breeze', 'but', 'not', 'a', 'clit', '##oris', 'in', 'sight', '.', 'and', 'those', 'pre', '##ten', '##tious', 'indie', 'movies', 'like', 'the', 'brown', 'bunny', ',', 'in', 'which', 'we', \"'\", 're', 'treated', 'to', 'the', 'site', 'of', 'vincent', 'gallo', \"'\", 's', 'throbbing', 'johnson', ',', 'but', 'not', 'a', 'trace', 'of', 'pink', 'visible', 'on', 'chloe', 'se', '##vi', '##gny', '.', 'before', 'crying', '(', 'or', 'implying', ')', '\"', 'double', '-', 'standard', '\"', 'in', 'matters', 'of', 'nu', '##dity', ',', 'the', 'mentally', 'ob', '##tus', '##e', 'should', 'take', 'into', 'account', 'one', 'una', '##vo', '##ida', '##bly', 'obvious', 'anatomical', 'difference', 'between', 'men', 'and', 'women', ':', 'there', 'are', 'no', 'gen', '##ital', '##s', 'on', 'display', 'when', 'actresses', 'appears', 'nude', ',', 'and', 'the', 'same', 'cannot', 'be', 'said', 'for', 'a', 'man', '.', 'in', 'fact', ',', 'you', 'generally', 'won', \"'\", 't', 'see', 'female', 'gen', '##ital', '##s', 'in', 'an', 'american', 'film', 'in', 'anything', 'short', 'of', 'porn', 'or', 'explicit', 'erotic', '##a', '.', 'this', 'alleged', 'double', '-', 'standard', 'is', 'less', 'a', 'double', 'standard', 'than', 'an', 'admitted', '##ly', 'de', '##pressing', 'ability', 'to', 'come', 'to', 'terms', 'culturally', 'with', 'the', 'insides', 'of', 'women', \"'\", 's', 'bodies', '.', '[SEP]']\n"
          ]
        }
      ],
      "source": [
        "print(text)\n",
        "tokens = tok.tokenize(text)\n",
        "print(tokens)\n",
        "tokens = tok.tokenize(text, add_special_tokens=True)\n",
        "print(tokens)"
      ]
    },
    {
      "cell_type": "markdown",
      "metadata": {},
      "source": [
        "#### 🔢 Step 3: Convert Tokens to IDs\n",
        "\n",
        "After breaking the text into tokens (or subword units), BERT still can’t work directly with text.\n",
        "It needs **numeric IDs** that correspond to each token’s position in its internal vocabulary.\n",
        "\n",
        "These IDs are just unique integers representing each token in the model’s 30,000+ word vocabulary.\n",
        "\n",
        "---\n",
        "\n",
        "##### 🧪 Example:\n",
        "\n",
        "Let’s say our tokenized review looks like this:\n",
        "\n",
        "```python\n",
        "['[CLS]', 'the', 'movie', 'was', 'surprisingly', 'good', '!', '[SEP]']\n",
        "```\n",
        "\n",
        "When we call:\n",
        "\n",
        "```python\n",
        "token_ids = tok.convert_tokens_to_ids(tokens)\n",
        "```\n",
        "\n",
        "We might get something like:\n",
        "\n",
        "```python\n",
        "[101, 1996, 3185, 2001, 6239, 2204, 999, 102]\n",
        "```\n",
        "\n",
        "Each number is the **index of the token** in the BERT vocabulary. For instance:\n",
        "\n",
        "* `'[CLS]'` → `101`\n",
        "* `'the'`   → `1996`\n",
        "* `'movie'` → `3185`\n",
        "\n",
        "---\n",
        "\n",
        "These token IDs are what the BERT model actually sees — they’re passed as input to its embedding layer, which looks up a vector for each ID and starts building meaning from there.\n",
        "\n",
        "💡 **Important**: This process ensures that text can be converted into tensors and used in neural networks efficiently."
      ]
    },
    {
      "cell_type": "code",
      "execution_count": 26,
      "metadata": {},
      "outputs": [
        {
          "name": "stdout",
          "output_type": "stream",
          "text": [
            "\"I Am Curious: Yellow\" is a risible and pretentious steaming pile. It doesn't matter what one's political views are because this film can hardly be taken seriously on any level. As for the claim that frontal male nudity is an automatic NC-17, that isn't true. I've seen R-rated films with male nudity. Granted, they only offer some fleeting views, but where are the R-rated films with gaping vulvas and flapping labia? Nowhere, because they don't exist. The same goes for those crappy cable shows: schlongs swinging in the breeze but not a clitoris in sight. And those pretentious indie movies like The Brown Bunny, in which we're treated to the site of Vincent Gallo's throbbing johnson, but not a trace of pink visible on Chloe Sevigny. Before crying (or implying) \"double-standard\" in matters of nudity, the mentally obtuse should take into account one unavoidably obvious anatomical difference between men and women: there are no genitals on display when actresses appears nude, and the same cannot be said for a man. In fact, you generally won't see female genitals in an American film in anything short of porn or explicit erotica. This alleged double-standard is less a double standard than an admittedly depressing ability to come to terms culturally with the insides of women's bodies.\n",
            "length of tokens:  302\n",
            "['\"', 'i', 'am', 'curious', ':', 'yellow', '\"', 'is', 'a', 'ri', '##sible', 'and', 'pre', '##ten', '##tious', 'steaming', 'pile', '.', 'it', 'doesn', \"'\", 't', 'matter', 'what', 'one', \"'\", 's', 'political', 'views', 'are', 'because', 'this', 'film', 'can', 'hardly', 'be', 'taken', 'seriously', 'on', 'any', 'level', '.', 'as', 'for', 'the', 'claim', 'that', 'frontal', 'male', 'nu', '##dity', 'is', 'an', 'automatic', 'nc', '-', '17', ',', 'that', 'isn', \"'\", 't', 'true', '.', 'i', \"'\", 've', 'seen', 'r', '-', 'rated', 'films', 'with', 'male', 'nu', '##dity', '.', 'granted', ',', 'they', 'only', 'offer', 'some', 'fleeting', 'views', ',', 'but', 'where', 'are', 'the', 'r', '-', 'rated', 'films', 'with', 'gaping', 'vu', '##lva', '##s', 'and', 'flap', '##ping', 'lab', '##ia', '?', 'nowhere', ',', 'because', 'they', 'don', \"'\", 't', 'exist', '.', 'the', 'same', 'goes', 'for', 'those', 'crap', '##py', 'cable', 'shows', ':', 'sc', '##hl', '##ong', '##s', 'swinging', 'in', 'the', 'breeze', 'but', 'not', 'a', 'clit', '##oris', 'in', 'sight', '.', 'and', 'those', 'pre', '##ten', '##tious', 'indie', 'movies', 'like', 'the', 'brown', 'bunny', ',', 'in', 'which', 'we', \"'\", 're', 'treated', 'to', 'the', 'site', 'of', 'vincent', 'gallo', \"'\", 's', 'throbbing', 'johnson', ',', 'but', 'not', 'a', 'trace', 'of', 'pink', 'visible', 'on', 'chloe', 'se', '##vi', '##gny', '.', 'before', 'crying', '(', 'or', 'implying', ')', '\"', 'double', '-', 'standard', '\"', 'in', 'matters', 'of', 'nu', '##dity', ',', 'the', 'mentally', 'ob', '##tus', '##e', 'should', 'take', 'into', 'account', 'one', 'una', '##vo', '##ida', '##bly', 'obvious', 'anatomical', 'difference', 'between', 'men', 'and', 'women', ':', 'there', 'are', 'no', 'gen', '##ital', '##s', 'on', 'display', 'when', 'actresses', 'appears', 'nude', ',', 'and', 'the', 'same', 'cannot', 'be', 'said', 'for', 'a', 'man', '.', 'in', 'fact', ',', 'you', 'generally', 'won', \"'\", 't', 'see', 'female', 'gen', '##ital', '##s', 'in', 'an', 'american', 'film', 'in', 'anything', 'short', 'of', 'porn', 'or', 'explicit', 'erotic', '##a', '.', 'this', 'alleged', 'double', '-', 'standard', 'is', 'less', 'a', 'double', 'standard', 'than', 'an', 'admitted', '##ly', 'de', '##pressing', 'ability', 'to', 'come', 'to', 'terms', 'culturally', 'with', 'the', 'insides', 'of', 'women', \"'\", 's', 'bodies', '.']\n",
            "length of tokens:  304\n",
            "['[CLS]', '\"', 'i', 'am', 'curious', ':', 'yellow', '\"', 'is', 'a', 'ri', '##sible', 'and', 'pre', '##ten', '##tious', 'steaming', 'pile', '.', 'it', 'doesn', \"'\", 't', 'matter', 'what', 'one', \"'\", 's', 'political', 'views', 'are', 'because', 'this', 'film', 'can', 'hardly', 'be', 'taken', 'seriously', 'on', 'any', 'level', '.', 'as', 'for', 'the', 'claim', 'that', 'frontal', 'male', 'nu', '##dity', 'is', 'an', 'automatic', 'nc', '-', '17', ',', 'that', 'isn', \"'\", 't', 'true', '.', 'i', \"'\", 've', 'seen', 'r', '-', 'rated', 'films', 'with', 'male', 'nu', '##dity', '.', 'granted', ',', 'they', 'only', 'offer', 'some', 'fleeting', 'views', ',', 'but', 'where', 'are', 'the', 'r', '-', 'rated', 'films', 'with', 'gaping', 'vu', '##lva', '##s', 'and', 'flap', '##ping', 'lab', '##ia', '?', 'nowhere', ',', 'because', 'they', 'don', \"'\", 't', 'exist', '.', 'the', 'same', 'goes', 'for', 'those', 'crap', '##py', 'cable', 'shows', ':', 'sc', '##hl', '##ong', '##s', 'swinging', 'in', 'the', 'breeze', 'but', 'not', 'a', 'clit', '##oris', 'in', 'sight', '.', 'and', 'those', 'pre', '##ten', '##tious', 'indie', 'movies', 'like', 'the', 'brown', 'bunny', ',', 'in', 'which', 'we', \"'\", 're', 'treated', 'to', 'the', 'site', 'of', 'vincent', 'gallo', \"'\", 's', 'throbbing', 'johnson', ',', 'but', 'not', 'a', 'trace', 'of', 'pink', 'visible', 'on', 'chloe', 'se', '##vi', '##gny', '.', 'before', 'crying', '(', 'or', 'implying', ')', '\"', 'double', '-', 'standard', '\"', 'in', 'matters', 'of', 'nu', '##dity', ',', 'the', 'mentally', 'ob', '##tus', '##e', 'should', 'take', 'into', 'account', 'one', 'una', '##vo', '##ida', '##bly', 'obvious', 'anatomical', 'difference', 'between', 'men', 'and', 'women', ':', 'there', 'are', 'no', 'gen', '##ital', '##s', 'on', 'display', 'when', 'actresses', 'appears', 'nude', ',', 'and', 'the', 'same', 'cannot', 'be', 'said', 'for', 'a', 'man', '.', 'in', 'fact', ',', 'you', 'generally', 'won', \"'\", 't', 'see', 'female', 'gen', '##ital', '##s', 'in', 'an', 'american', 'film', 'in', 'anything', 'short', 'of', 'porn', 'or', 'explicit', 'erotic', '##a', '.', 'this', 'alleged', 'double', '-', 'standard', 'is', 'less', 'a', 'double', 'standard', 'than', 'an', 'admitted', '##ly', 'de', '##pressing', 'ability', 'to', 'come', 'to', 'terms', 'culturally', 'with', 'the', 'insides', 'of', 'women', \"'\", 's', 'bodies', '.', '[SEP]']\n",
            "length of token_ids:  304\n",
            "[101, 1000, 1045, 2572, 8025, 1024, 3756, 1000, 2003, 1037, 15544, 19307, 1998, 3653, 6528, 20771, 19986, 8632, 1012, 2009, 2987, 1005, 1056, 3043, 2054, 2028, 1005, 1055, 2576, 5328, 2024, 2138, 2023, 2143, 2064, 6684, 2022, 2579, 5667, 2006, 2151, 2504, 1012, 2004, 2005, 1996, 4366, 2008, 19124, 3287, 16371, 25469, 2003, 2019, 6882, 13316, 1011, 2459, 1010, 2008, 3475, 1005, 1056, 2995, 1012, 1045, 1005, 2310, 2464, 1054, 1011, 6758, 3152, 2007, 3287, 16371, 25469, 1012, 4379, 1010, 2027, 2069, 3749, 2070, 25085, 5328, 1010, 2021, 2073, 2024, 1996, 1054, 1011, 6758, 3152, 2007, 21226, 24728, 22144, 2015, 1998, 20916, 4691, 6845, 2401, 1029, 7880, 1010, 2138, 2027, 2123, 1005, 1056, 4839, 1012, 1996, 2168, 3632, 2005, 2216, 10231, 7685, 5830, 3065, 1024, 8040, 7317, 5063, 2015, 11820, 1999, 1996, 9478, 2021, 2025, 1037, 17962, 21239, 1999, 4356, 1012, 1998, 2216, 3653, 6528, 20771, 10271, 5691, 2066, 1996, 2829, 16291, 1010, 1999, 2029, 2057, 1005, 2128, 5845, 2000, 1996, 2609, 1997, 6320, 25624, 1005, 1055, 17061, 3779, 1010, 2021, 2025, 1037, 7637, 1997, 5061, 5710, 2006, 9318, 7367, 5737, 19393, 1012, 2077, 6933, 1006, 2030, 20242, 1007, 1000, 3313, 1011, 3115, 1000, 1999, 5609, 1997, 16371, 25469, 1010, 1996, 10597, 27885, 5809, 2063, 2323, 2202, 2046, 4070, 2028, 14477, 6767, 8524, 6321, 5793, 28141, 4489, 2090, 2273, 1998, 2308, 1024, 2045, 2024, 2053, 8991, 18400, 2015, 2006, 4653, 2043, 19910, 3544, 15287, 1010, 1998, 1996, 2168, 3685, 2022, 2056, 2005, 1037, 2158, 1012, 1999, 2755, 1010, 2017, 3227, 2180, 1005, 1056, 2156, 2931, 8991, 18400, 2015, 1999, 2019, 2137, 2143, 1999, 2505, 2460, 1997, 22555, 2030, 13216, 14253, 2050, 1012, 2023, 6884, 3313, 1011, 3115, 2003, 2625, 1037, 3313, 3115, 2084, 2019, 4914, 2135, 2139, 24128, 3754, 2000, 2272, 2000, 3408, 20547, 2007, 1996, 19008, 1997, 2308, 1005, 1055, 4230, 1012, 102]\n"
          ]
        }
      ],
      "source": [
        "print(text)\n",
        "tokens = tok.tokenize(text)\n",
        "print(\"length of tokens: \", len(tokens))\n",
        "print(tokens)\n",
        "tokens = tok.tokenize(text, add_special_tokens=True)\n",
        "print(\"length of tokens: \", len(tokens))\n",
        "print(tokens)\n",
        "token_ids = tok.convert_tokens_to_ids(tokens)\n",
        "print(\"length of token_ids: \", len(token_ids))\n",
        "print(token_ids)\n"
      ]
    },
    {
      "cell_type": "markdown",
      "metadata": {},
      "source": [
        "#### 🧱 Step 4: Padding and Truncation\n",
        "\n",
        "Before we feed data into a BERT model, every sentence needs to have **the same number of tokens**. Since natural text varies in length, we apply:\n",
        "\n",
        "1. **Truncation**:  \n",
        "   If a sentence is too long, we **cut** it down to `max_length` tokens.  \n",
        "   → In this notebook, we use `max_length = 128`.\n",
        "\n",
        "2. **Padding**:  \n",
        "   If a sentence is too short, we **extend** it with special `[PAD]` tokens until it reaches `max_length`.\n",
        "\n",
        "When we call the tokenizer with:\n",
        "```python\n",
        "tok(text, padding=\"max_length\", truncation=True, max_length=128)\n",
        "````\n",
        "\n",
        "we get back several useful things:\n",
        "\n",
        "* `input_ids`: The tokenized sentence as integers (with padding/truncation).\n",
        "* `attention_mask`: Tells the model which tokens are real (`1`) and which are padding (`0`).\n",
        "* `token_type_ids`: Useful in tasks involving two sentences (e.g., next sentence prediction). All `0`s here since we have only one sentence.\n",
        "\n",
        "These ensure the inputs are well-formed and aligned into uniform matrices that the model can process efficiently."
      ]
    },
    {
      "cell_type": "code",
      "execution_count": 29,
      "metadata": {},
      "outputs": [
        {
          "name": "stdout",
          "output_type": "stream",
          "text": [
            "🧩 Token IDs: [101, 1000, 1045, 2572, 8025, 1024, 3756, 1000, 2003, 1037, 15544, 19307, 1998, 3653, 6528, 20771, 19986, 8632, 1012, 2009, 2987, 1005, 1056, 3043, 2054, 2028, 1005, 1055, 2576, 5328, 2024, 2138, 2023, 2143, 2064, 6684, 2022, 2579, 5667, 2006, 2151, 2504, 1012, 2004, 2005, 1996, 4366, 2008, 19124, 3287, 16371, 25469, 2003, 2019, 6882, 13316, 1011, 2459, 1010, 2008, 3475, 1005, 1056, 2995, 1012, 1045, 1005, 2310, 2464, 1054, 1011, 6758, 3152, 2007, 3287, 16371, 25469, 1012, 4379, 1010, 2027, 2069, 3749, 2070, 25085, 5328, 1010, 2021, 2073, 2024, 1996, 1054, 1011, 6758, 3152, 2007, 21226, 24728, 22144, 2015, 1998, 20916, 4691, 6845, 2401, 1029, 7880, 1010, 2138, 2027, 2123, 1005, 1056, 4839, 1012, 1996, 2168, 3632, 2005, 2216, 10231, 7685, 5830, 3065, 1024, 8040, 7317, 102]\n",
            "📏 Length: 128\n",
            "Attention Mask: [1, 1, 1, 1, 1, 1, 1, 1, 1, 1, 1, 1, 1, 1, 1, 1, 1, 1, 1, 1, 1, 1, 1, 1, 1, 1, 1, 1, 1, 1, 1, 1, 1, 1, 1, 1, 1, 1, 1, 1, 1, 1, 1, 1, 1, 1, 1, 1, 1, 1, 1, 1, 1, 1, 1, 1, 1, 1, 1, 1, 1, 1, 1, 1, 1, 1, 1, 1, 1, 1, 1, 1, 1, 1, 1, 1, 1, 1, 1, 1, 1, 1, 1, 1, 1, 1, 1, 1, 1, 1, 1, 1, 1, 1, 1, 1, 1, 1, 1, 1, 1, 1, 1, 1, 1, 1, 1, 1, 1, 1, 1, 1, 1, 1, 1, 1, 1, 1, 1, 1, 1, 1, 1, 1, 1, 1, 1, 1]\n",
            "Token Type IDs: [0, 0, 0, 0, 0, 0, 0, 0, 0, 0, 0, 0, 0, 0, 0, 0, 0, 0, 0, 0, 0, 0, 0, 0, 0, 0, 0, 0, 0, 0, 0, 0, 0, 0, 0, 0, 0, 0, 0, 0, 0, 0, 0, 0, 0, 0, 0, 0, 0, 0, 0, 0, 0, 0, 0, 0, 0, 0, 0, 0, 0, 0, 0, 0, 0, 0, 0, 0, 0, 0, 0, 0, 0, 0, 0, 0, 0, 0, 0, 0, 0, 0, 0, 0, 0, 0, 0, 0, 0, 0, 0, 0, 0, 0, 0, 0, 0, 0, 0, 0, 0, 0, 0, 0, 0, 0, 0, 0, 0, 0, 0, 0, 0, 0, 0, 0, 0, 0, 0, 0, 0, 0, 0, 0, 0, 0, 0, 0]\n"
          ]
        }
      ],
      "source": [
        "# Tokenize with padding and truncation\n",
        "tokens = tok(text, padding=\"max_length\", truncation=True, max_length=max_length)\n",
        "\n",
        "# Display input IDs (tokenized & padded)\n",
        "print(\"🧩 Token IDs:\", tokens[\"input_ids\"])\n",
        "print(\"📏 Length:\", len(tokens[\"input_ids\"]))\n",
        "print(\"Attention Mask:\", tokens[\"attention_mask\"])\n",
        "print(\"Token Type IDs:\", tokens[\"token_type_ids\"])"
      ]
    },
    {
      "cell_type": "markdown",
      "metadata": {},
      "source": [
        "Once you're confident this makes sense, we’ll apply it to the **whole dataset** using the `map()` function.\n",
        "\n",
        "\n",
        "* Output PyTorch-friendly tensors.\n",
        "\n",
        "This is what the `tokenize()` function does for every review in the dataset. We then:\n",
        "\n",
        "* Replace the `\"text\"` column with tokenized input.\n",
        "* Rename the `\"label\"` column to `\"labels\"` to match Hugging Face’s expected format.\n",
        "* Convert everything to PyTorch tensors for training.\n",
        "\n",
        "Now the dataset is ready for BERT to digest"
      ]
    },
    {
      "cell_type": "code",
      "execution_count": 13,
      "metadata": {
        "colab": {
          "base_uri": "https://localhost:8080/",
          "height": 49,
          "referenced_widgets": [
            "1978b39ae0834479b0b0e99c8618fd8f",
            "4d8609b107d74eefb58b78d6da160456",
            "ff8343d16be64b89ae6328c5099bfc77",
            "86c227b7871b44c6aca4b1f6cb0defba",
            "732cf088f859477c8c777930add73e9c",
            "412ccd8f851a45fda83f14380d47eedb",
            "9f4a3e48f9894ce0b19dda61bfb066f8",
            "5cd5be93a88140c6ab922c98367443e8",
            "77e49a6af5bc4f13a546993b76b8174c",
            "45e7f1892de44b1f9254f263d25addf5",
            "fc56ba71a6314130a1729f1ff5e26348"
          ]
        },
        "id": "Tf-JAaTlLmvC",
        "outputId": "4b829ab7-089f-4247-dd2a-f5124ee4dca1"
      },
      "outputs": [],
      "source": [
        "def tokenize(batch):\n",
        "    return tok(batch[\"text\"], padding=\"max_length\", truncation=True, max_length=max_length)\n",
        "\n",
        "dataset = dataset.map(tokenize, batched=True, remove_columns=[\"text\"])\n",
        "dataset = dataset.rename_column(\"label\", \"labels\")\n",
        "dataset.set_format(\"torch\")"
      ]
    },
    {
      "cell_type": "code",
      "execution_count": 14,
      "metadata": {},
      "outputs": [
        {
          "data": {
            "text/plain": [
              "{'labels': tensor(0),\n",
              " 'input_ids': tensor([  101,  1000,  1045,  2572,  8025,  1024,  3756,  1000,  2003,  1037,\n",
              "         15544, 19307,  1998,  3653,  6528, 20771, 19986,  8632,  1012,  2009,\n",
              "          2987,  1005,  1056,  3043,  2054,  2028,  1005,  1055,  2576,  5328,\n",
              "          2024,  2138,  2023,  2143,  2064,  6684,  2022,  2579,  5667,  2006,\n",
              "          2151,  2504,  1012,  2004,  2005,  1996,  4366,  2008, 19124,  3287,\n",
              "         16371, 25469,  2003,  2019,  6882, 13316,  1011,  2459,  1010,  2008,\n",
              "          3475,  1005,  1056,  2995,  1012,  1045,  1005,  2310,  2464,  1054,\n",
              "          1011,  6758,  3152,  2007,  3287, 16371, 25469,  1012,  4379,  1010,\n",
              "          2027,  2069,  3749,  2070, 25085,  5328,  1010,  2021,  2073,  2024,\n",
              "          1996,  1054,  1011,  6758,  3152,  2007, 21226, 24728, 22144,  2015,\n",
              "          1998, 20916,  4691,  6845,  2401,  1029,  7880,  1010,  2138,  2027,\n",
              "          2123,  1005,  1056,  4839,  1012,  1996,  2168,  3632,  2005,  2216,\n",
              "         10231,  7685,  5830,  3065,  1024,  8040,  7317,   102]),\n",
              " 'token_type_ids': tensor([0, 0, 0, 0, 0, 0, 0, 0, 0, 0, 0, 0, 0, 0, 0, 0, 0, 0, 0, 0, 0, 0, 0, 0,\n",
              "         0, 0, 0, 0, 0, 0, 0, 0, 0, 0, 0, 0, 0, 0, 0, 0, 0, 0, 0, 0, 0, 0, 0, 0,\n",
              "         0, 0, 0, 0, 0, 0, 0, 0, 0, 0, 0, 0, 0, 0, 0, 0, 0, 0, 0, 0, 0, 0, 0, 0,\n",
              "         0, 0, 0, 0, 0, 0, 0, 0, 0, 0, 0, 0, 0, 0, 0, 0, 0, 0, 0, 0, 0, 0, 0, 0,\n",
              "         0, 0, 0, 0, 0, 0, 0, 0, 0, 0, 0, 0, 0, 0, 0, 0, 0, 0, 0, 0, 0, 0, 0, 0,\n",
              "         0, 0, 0, 0, 0, 0, 0, 0]),\n",
              " 'attention_mask': tensor([1, 1, 1, 1, 1, 1, 1, 1, 1, 1, 1, 1, 1, 1, 1, 1, 1, 1, 1, 1, 1, 1, 1, 1,\n",
              "         1, 1, 1, 1, 1, 1, 1, 1, 1, 1, 1, 1, 1, 1, 1, 1, 1, 1, 1, 1, 1, 1, 1, 1,\n",
              "         1, 1, 1, 1, 1, 1, 1, 1, 1, 1, 1, 1, 1, 1, 1, 1, 1, 1, 1, 1, 1, 1, 1, 1,\n",
              "         1, 1, 1, 1, 1, 1, 1, 1, 1, 1, 1, 1, 1, 1, 1, 1, 1, 1, 1, 1, 1, 1, 1, 1,\n",
              "         1, 1, 1, 1, 1, 1, 1, 1, 1, 1, 1, 1, 1, 1, 1, 1, 1, 1, 1, 1, 1, 1, 1, 1,\n",
              "         1, 1, 1, 1, 1, 1, 1, 1])}"
            ]
          },
          "execution_count": 14,
          "metadata": {},
          "output_type": "execute_result"
        }
      ],
      "source": [
        "dataset['train'][1]"
      ]
    },
    {
      "cell_type": "markdown",
      "metadata": {
        "id": "rV6A9IgILmvD"
      },
      "source": [
        "### 5.2 Build the BERT Model\n",
        "\n",
        "We now load a pretrained BERT model and adapt it for our classification task.\n",
        "\n",
        "```python\n",
        "AutoModelForSequenceClassification.from_pretrained(...)\n",
        "````\n",
        "\n",
        "This gives us a model that:\n",
        "\n",
        "✅ **Starts with pretrained BERT** (in our case: `bert-base-uncased`)\n",
        "✅ Adds a brand-new **classification head** on top (a dense layer that outputs class logits)\n",
        "✅ Is ready to be **fine-tuned** on our task (sentiment classification)\n",
        "\n",
        "---\n",
        "\n",
        "#### 🧠 What’s Inside?\n",
        "\n",
        "* The **lower layers** of BERT:\n",
        "\n",
        "  * A tokenizer + embedding layer\n",
        "  * 12 Transformer encoder blocks (attention + feedforward layers)\n",
        "  * These come with pretrained weights learned from huge corpora (like Wikipedia + BooksCorpus)\n",
        "\n",
        "* The **upper layer** we just added:\n",
        "\n",
        "  * A fresh, untrained **classification head** (linear layer)\n",
        "  * Maps the `[CLS]` token’s output into `num_labels` predictions\n",
        "    (→ In our case: 2, for binary sentiment classification)\n",
        "\n",
        "---\n",
        "\n",
        "#### 🔧 Why Use `AutoModelForSequenceClassification`?\n",
        "\n",
        "Hugging Face's `transformers` library automatically:\n",
        "\n",
        "* Chooses the correct architecture for your model checkpoint (`bert`, `roberta`, `distilbert`, etc.)\n",
        "* Adds a task-specific head (here, classification)\n",
        "* Handles token types, attention masks, and outputs correctly\n",
        "\n",
        "---\n",
        "\n",
        "✅ We're now ready to train a BERT model that's already fluent in English — we just need to teach it sentiment-specific nuances!"
      ]
    },
    {
      "cell_type": "code",
      "execution_count": 15,
      "metadata": {
        "colab": {
          "base_uri": "https://localhost:8080/"
        },
        "id": "lDEzFo8ILmvD",
        "outputId": "3e95fa88-69a2-4028-cceb-cb0275eaf2f6"
      },
      "outputs": [
        {
          "name": "stderr",
          "output_type": "stream",
          "text": [
            "Some weights of BertForSequenceClassification were not initialized from the model checkpoint at bert-base-uncased and are newly initialized: ['classifier.bias', 'classifier.weight']\n",
            "You should probably TRAIN this model on a down-stream task to be able to use it for predictions and inference.\n"
          ]
        }
      ],
      "source": [
        "model = AutoModelForSequenceClassification.from_pretrained(\n",
        "    model_ckpt,\n",
        "    num_labels = num_labels,\n",
        "    problem_type = \"single_label_classification\"\n",
        ")"
      ]
    },
    {
      "cell_type": "markdown",
      "metadata": {
        "id": "SZf-YadULmvD"
      },
      "source": [
        "### 5.3 Training (set up `Trainer` + Early Stopping)\n",
        "\n",
        "#### 🎯 Evaluation Metrics\n",
        "\n",
        "To evaluate our model's performance, we define a `compute_metrics()` function.\n",
        "\n",
        "This function returns:\n",
        "\n",
        "- **Accuracy**: How many predictions were correct?\n",
        "- **Precision**: Of the predicted positives, how many were correct?\n",
        "- **Recall**: Of the actual positives, how many did we catch?\n",
        "\n",
        "These are standard metrics for binary classification, and we use the 🤗 `evaluate` library to compute them."
      ]
    },
    {
      "cell_type": "code",
      "execution_count": 16,
      "metadata": {
        "id": "m4qzv4glLmvD"
      },
      "outputs": [],
      "source": [
        "metric_accuracy  = evaluate.load(\"accuracy\")\n",
        "metric_precision = evaluate.load(\"precision\")\n",
        "metric_recall    = evaluate.load(\"recall\")\n",
        "\n",
        "def compute_metrics(eval_pred):\n",
        "    logits, labels = eval_pred\n",
        "    preds = np.argmax(logits, axis=-1)\n",
        "\n",
        "    acc  = metric_accuracy.compute(predictions=preds, references=labels)\n",
        "    prec = metric_precision.compute(predictions=preds, references=labels, average=\"binary\")\n",
        "    rec  = metric_recall.compute(predictions=preds, references=labels, average=\"binary\")\n",
        "\n",
        "    # merge into a single dict that Trainer can log\n",
        "    return {\n",
        "        \"accuracy\":  acc[\"accuracy\"],\n",
        "        \"precision\": prec[\"precision\"],\n",
        "        \"recall\":    rec[\"recall\"],\n",
        "    }"
      ]
    },
    {
      "cell_type": "markdown",
      "metadata": {},
      "source": [
        "#### ⚙️ Configure TrainingArguments\n",
        "\n",
        "We now define the training configuration using Hugging Face’s `TrainingArguments`. `TrainingArguments` defines how your model is trained and evaluated.\n",
        "\n",
        "Here’s a breakdown of key arguments and why we chose them:\n",
        "\n",
        "- `output_dir=\"./bert_cls\"`  \n",
        "  ➤ Where all checkpoints, logs, and config files are saved.\n",
        "\n",
        "- `eval_strategy=\"epoch\"`  \n",
        "  ➤ Evaluate the model after every full pass through the training set.\n",
        "\n",
        "- `save_strategy=\"epoch\"`  \n",
        "  ➤ Save model checkpoints after each epoch (only 2 best ones kept, see below).\n",
        "\n",
        "- `logging_strategy=\"steps\"`  \n",
        "  ➤ Log progress every `logging_steps=50` training steps.\n",
        "\n",
        "- `learning_rate=2e-5`  \n",
        "  ➤ A standard learning rate for BERT fine-tuning.  \n",
        "  🔁 You can adjust this (e.g., `5e-5`, `3e-5`) — it's often the **first thing to tune**.\n",
        "\n",
        "- `per_device_train_batch_size=batch_size`  \n",
        "  ➤ Batch size per GPU.  \n",
        "  🔁 You can lower it if memory is tight (e.g., 32, 16).\n",
        "\n",
        "- `num_train_epochs=10`  \n",
        "  ➤ Max number of epochs (we’ll stop early if no improvement — see next cell).\n",
        "\n",
        "- `weight_decay=0.01`  \n",
        "  ➤ Regularization to avoid overfitting. Helps generalization.\n",
        "\n",
        "- `load_best_model_at_end=True`  \n",
        "  ➤ After training, load the checkpoint with the **lowest eval loss**.\n",
        "\n",
        "- `metric_for_best_model=\"eval_loss\"`  \n",
        "  ➤ Tells the trainer which metric to use to select the \"best\" model.\n",
        "\n",
        "- `save_total_limit=2`  \n",
        "  ➤ Keep only the two best models to save space.\n",
        "\n",
        "- `fp16=True`  \n",
        "  ➤ Use **mixed precision training** (if GPU supports it) — speeds things up and uses less memory.\n",
        "\n",
        "- `gradient_accumulation_steps=2`  \n",
        "  ➤ Simulates larger batch sizes by updating weights every 2 steps.\n",
        "\n",
        "---\n",
        "\n",
        "🛠️ **Tuning Tips**:\n",
        "\n",
        "- For small datasets: lower `learning_rate` and fewer epochs (e.g., 3–5).\n",
        "- For large datasets: increase `num_train_epochs` or use `eval_strategy=\"steps\"`."
      ]
    },
    {
      "cell_type": "code",
      "execution_count": null,
      "metadata": {},
      "outputs": [],
      "source": [
        "args = TrainingArguments(\n",
        "    output_dir          = \"./bert_cls\",\n",
        "    eval_strategy       = \"epoch\",\n",
        "    save_strategy       = \"epoch\",\n",
        "    logging_strategy    = \"steps\",\n",
        "    logging_steps       = 50,\n",
        "    learning_rate       = 2e-5,\n",
        "    per_device_train_batch_size = batch_size,\n",
        "    per_device_eval_batch_size  = batch_size,\n",
        "    num_train_epochs    = 10,\n",
        "    weight_decay        = 0.01,\n",
        "    load_best_model_at_end = True,\n",
        "    metric_for_best_model = \"eval_loss\",\n",
        "    save_total_limit    = 2,\n",
        "    seed                = seed,\n",
        "    report_to           = \"none\",  # Disable wandb\n",
        "    fp16                = True, # Enable mixed precision training\n",
        "    gradient_accumulation_steps = 2\n",
        ")"
      ]
    },
    {
      "cell_type": "markdown",
      "metadata": {},
      "source": [
        "#### 🏋️ Set Up the Trainer\n",
        "\n",
        "We now initialize the 🤗 `Trainer`, which handles training, evaluation, and logging for us. The `Trainer` class from Hugging Face wraps everything you need for training into one easy-to-use object.\n",
        "\n",
        "It handles:\n",
        "\n",
        "- Running training loops\n",
        "- Evaluating your model\n",
        "- Saving logs and checkpoints\n",
        "- Applying callbacks like early stopping\n",
        "\n",
        "Key components:\n",
        "\n",
        "- `model`: Our BERT model for sequence classification.\n",
        "- `args`: The `TrainingArguments` we just defined.\n",
        "- `train_dataset`: The IMDB training set, already tokenized and formatted.\n",
        "- `eval_dataset`: The test set, shuffled to ensure a good evaluation sample.\n",
        "- `compute_metrics`: Our custom function for accuracy, precision, and recall.\n",
        "- `EarlyStoppingCallback(early_stopping_patience=3)`:  \n",
        "  ➤ If evaluation loss doesn’t improve for 3 epochs, training will stop early.  \n",
        "  ➤ Helps avoid overfitting and saves time.\n",
        "\n",
        "---\n",
        "\n",
        "🔁 **You can reuse this Trainer setup for many fine-tuning tasks** — just swap the model and dataset!"
      ]
    },
    {
      "cell_type": "code",
      "execution_count": null,
      "metadata": {},
      "outputs": [],
      "source": [
        "trainer = Trainer(\n",
        "    model           = model,\n",
        "    args            = args,\n",
        "    train_dataset   = dataset[\"train\"],\n",
        "    eval_dataset    = dataset[\"test\"].shuffle(seed=seed),  # small held-out set for early-stop\n",
        "    compute_metrics = compute_metrics,\n",
        "    callbacks       = [EarlyStoppingCallback(early_stopping_patience=3)]\n",
        ")"
      ]
    },
    {
      "cell_type": "markdown",
      "metadata": {
        "id": "wviICpPKLmvD"
      },
      "source": [
        "### 5.4 Train the Model 🚀\n",
        "\n",
        "Just one line of code !"
      ]
    },
    {
      "cell_type": "code",
      "execution_count": 17,
      "metadata": {
        "colab": {
          "base_uri": "https://localhost:8080/",
          "height": 201
        },
        "id": "h25G9LSbLmvD",
        "outputId": "6d9e2f15-b14b-473c-cec9-726a43f0b122"
      },
      "outputs": [
        {
          "data": {
            "text/html": [
              "\n",
              "    <div>\n",
              "      \n",
              "      <progress value='980' max='1950' style='width:300px; height:20px; vertical-align: middle;'></progress>\n",
              "      [ 980/1950 06:19 < 06:16, 2.58 it/s, Epoch 5/10]\n",
              "    </div>\n",
              "    <table border=\"1\" class=\"dataframe\">\n",
              "  <thead>\n",
              " <tr style=\"text-align: left;\">\n",
              "      <th>Epoch</th>\n",
              "      <th>Training Loss</th>\n",
              "      <th>Validation Loss</th>\n",
              "      <th>Accuracy</th>\n",
              "      <th>Precision</th>\n",
              "      <th>Recall</th>\n",
              "    </tr>\n",
              "  </thead>\n",
              "  <tbody>\n",
              "    <tr>\n",
              "      <td>1</td>\n",
              "      <td>0.318100</td>\n",
              "      <td>0.288745</td>\n",
              "      <td>0.877800</td>\n",
              "      <td>0.850776</td>\n",
              "      <td>0.916320</td>\n",
              "    </tr>\n",
              "    <tr>\n",
              "      <td>2</td>\n",
              "      <td>0.227900</td>\n",
              "      <td>0.273267</td>\n",
              "      <td>0.887760</td>\n",
              "      <td>0.898209</td>\n",
              "      <td>0.874640</td>\n",
              "    </tr>\n",
              "    <tr>\n",
              "      <td>3</td>\n",
              "      <td>0.159500</td>\n",
              "      <td>0.303185</td>\n",
              "      <td>0.889200</td>\n",
              "      <td>0.878128</td>\n",
              "      <td>0.903840</td>\n",
              "    </tr>\n",
              "    <tr>\n",
              "      <td>4</td>\n",
              "      <td>0.093700</td>\n",
              "      <td>0.365608</td>\n",
              "      <td>0.882120</td>\n",
              "      <td>0.907238</td>\n",
              "      <td>0.851280</td>\n",
              "    </tr>\n",
              "    <tr>\n",
              "      <td>5</td>\n",
              "      <td>0.064300</td>\n",
              "      <td>0.425973</td>\n",
              "      <td>0.886440</td>\n",
              "      <td>0.869728</td>\n",
              "      <td>0.909040</td>\n",
              "    </tr>\n",
              "  </tbody>\n",
              "</table><p>"
            ],
            "text/plain": [
              "<IPython.core.display.HTML object>"
            ]
          },
          "metadata": {},
          "output_type": "display_data"
        }
      ],
      "source": [
        "train_output = trainer.train()"
      ]
    },
    {
      "cell_type": "markdown",
      "metadata": {
        "id": "Ql0wkH3lLmvE"
      },
      "source": [
        "### 5.5 Training Curves 📈\n",
        "\n",
        "Let’s plot **loss** & **accuracy** logged in `trainer.state.log_history`.  \n",
        "We’ll visualise *train* vs *eval* so you can spot over-fitting at a glance."
      ]
    },
    {
      "cell_type": "code",
      "execution_count": 18,
      "metadata": {
        "colab": {
          "base_uri": "https://localhost:8080/",
          "height": 803
        },
        "id": "1cRQIHvGLmvE",
        "outputId": "7f3c4c06-b48e-439e-c29d-15955ff39f8b"
      },
      "outputs": [
        {
          "data": {
            "image/png": "[encoded data removed]",
            "text/plain": [
              "<Figure size 600x400 with 1 Axes>"
            ]
          },
          "metadata": {},
          "output_type": "display_data"
        },
        {
          "data": {
            "image/png": "[encoded data removed]",
            "text/plain": [
              "<Figure size 600x400 with 1 Axes>"
            ]
          },
          "metadata": {},
          "output_type": "display_data"
        }
      ],
      "source": [
        "# Collect logs ---------------------------------------------------------------\n",
        "logs = trainer.state.log_history\n",
        "train_loss, eval_loss, eval_acc, steps_eval, steps_train = [], [], [], [], []\n",
        "\n",
        "for e in logs:\n",
        "    if 'loss' in e and e.get(\"epoch\") is not None:\n",
        "        train_loss.append(e['loss'])\n",
        "        steps_train.append(e['epoch'])\n",
        "    if 'eval_loss' in e:\n",
        "        eval_loss.append(e['eval_loss'])\n",
        "        eval_acc.append(e['eval_accuracy'])\n",
        "        steps_eval.append(e['epoch'])\n",
        "\n",
        "# Plot -----------------------------------------------------------------------\n",
        "plt.figure(figsize=(6,4))\n",
        "plt.plot(steps_train, train_loss, label=\"train-loss\")\n",
        "plt.plot(steps_eval, eval_loss, label=\"eval-loss\")\n",
        "plt.xlabel(\"Epoch\"); plt.ylabel(\"Loss\"); plt.legend(); plt.title(\"BERT Loss Curves\")\n",
        "plt.show()\n",
        "\n",
        "plt.figure(figsize=(6,4))\n",
        "plt.plot(steps_eval, eval_acc, label=\"eval-accuracy\")\n",
        "plt.xlabel(\"Epoch\"); plt.ylabel(\"Accuracy\"); plt.legend(); plt.title(\"BERT Accuracy Curve\")\n",
        "plt.show()\n"
      ]
    },
    {
      "cell_type": "markdown",
      "metadata": {
        "id": "lAsOCigdLmvE"
      },
      "source": [
        "### 5.6 Final Evaluation (on the Test Set)\n",
        "\n",
        "We now evaluate on the **full** test split that was never touched during training.\n"
      ]
    },
    {
      "cell_type": "code",
      "execution_count": 19,
      "metadata": {
        "colab": {
          "base_uri": "https://localhost:8080/",
          "height": 75
        },
        "id": "xMFXEPYLLmvE",
        "outputId": "b1067c5e-51b7-4218-d8d4-315920471b72"
      },
      "outputs": [
        {
          "data": {
            "text/html": [
              "\n",
              "    <div>\n",
              "      \n",
              "      <progress value='4' max='391' style='width:300px; height:20px; vertical-align: middle;'></progress>\n",
              "      [  4/391 00:00 < 00:17, 22.73 it/s]\n",
              "    </div>\n",
              "    "
            ],
            "text/plain": [
              "<IPython.core.display.HTML object>"
            ]
          },
          "metadata": {},
          "output_type": "display_data"
        },
        {
          "name": "stdout",
          "output_type": "stream",
          "text": [
            "{'eval_loss': 0.27326661348342896, 'eval_accuracy': 0.88776, 'eval_precision': 0.8982090042720999, 'eval_recall': 0.87464, 'eval_runtime': 17.5668, 'eval_samples_per_second': 1423.138, 'eval_steps_per_second': 22.258, 'epoch': 5.0}\n"
          ]
        }
      ],
      "source": [
        "test_metrics = trainer.evaluate(dataset[\"test\"])\n",
        "print(test_metrics)"
      ]
    },
    {
      "cell_type": "markdown",
      "metadata": {},
      "source": [
        "### 5.7 Compare with other models"
      ]
    },
    {
      "cell_type": "code",
      "execution_count": 20,
      "metadata": {},
      "outputs": [
        {
          "data": {
            "image/png": "[encoded data removed]",
            "text/plain": [
              "<Figure size 1600x600 with 4 Axes>"
            ]
          },
          "metadata": {},
          "output_type": "display_data"
        }
      ],
      "source": [
        "import matplotlib.pyplot as plt\n",
        "import numpy as np\n",
        "import pandas as pd\n",
        "from sklearn.metrics import accuracy_score, precision_score, recall_score, f1_score\n",
        "\n",
        "\n",
        "# Calculate metrics for LogReg (TF-IDF)\n",
        "logreg_accuracy = accuracy_score(y_test, y_pred_logreg)\n",
        "logreg_precision = precision_score(y_test, y_pred_logreg, average='weighted')\n",
        "logreg_recall = recall_score(y_test, y_pred_logreg, average='weighted')\n",
        "logreg_f1 = f1_score(y_test, y_pred_logreg, average='weighted')\n",
        "\n",
        "# Calculate metrics for LSTM\n",
        "lstm_accuracy = accuracy_score(y_test_lstm, y_pred_lstm)\n",
        "lstm_precision = precision_score(y_test_lstm, y_pred_lstm, average='weighted')\n",
        "lstm_recall = recall_score(y_test_lstm, y_pred_lstm, average='weighted')\n",
        "lstm_f1 = f1_score(y_test_lstm, y_pred_lstm, average='weighted')\n",
        "\n",
        "# Extract BERT metrics from test_metrics (assuming this structure)\n",
        "# If your test_metrics has a different structure, adjust accordingly\n",
        "bert_accuracy = test_metrics.get('eval_accuracy', 0)\n",
        "bert_precision = test_metrics.get('eval_precision', 0)\n",
        "bert_recall = test_metrics.get('eval_recall', 0)\n",
        "bert_f1 = test_metrics.get('eval_f1', 2 * bert_recall * bert_precision / (bert_recall + bert_precision))\n",
        "\n",
        "# Create a DataFrame for easy plotting\n",
        "models = ['TF-IDF+LogReg', 'LSTM', 'BERT']\n",
        "metrics_df = pd.DataFrame({\n",
        "    'Accuracy': [logreg_accuracy, lstm_accuracy, bert_accuracy],\n",
        "    'Precision': [logreg_precision, lstm_precision, bert_precision],\n",
        "    'Recall': [logreg_recall, lstm_recall, bert_recall],\n",
        "    'F1-Score': [logreg_f1, lstm_f1, bert_f1]\n",
        "}, index=models)\n",
        "\n",
        "fig, axes = plt.subplots(1, 4, figsize=(16, 6), sharey=True)\n",
        "metrics = ['Accuracy', 'Precision', 'Recall', 'F1-Score']\n",
        "\n",
        "# Colors for each model\n",
        "colors = ['#3498db', '#2ecc71', '#e74c3c']  # Blue, Green, Red\n",
        "\n",
        "# Plot each metric in a separate subplot\n",
        "for i, metric in enumerate(metrics):\n",
        "    ax = axes[i]\n",
        "    bars = ax.bar(models, metrics_df[metric], color=colors, alpha=0.8)\n",
        "    \n",
        "    # Add value labels on top of bars\n",
        "    for bar in bars:\n",
        "        height = bar.get_height()\n",
        "        ax.text(bar.get_x() + bar.get_width()/2., height + 0.01,\n",
        "                f'{height:.3f}', ha='center', va='bottom', fontsize=9)\n",
        "    \n",
        "    # Set title and customize\n",
        "    ax.set_title(metric, fontsize=14)\n",
        "    ax.set_ylim(0, 1.05)\n",
        "    ax.grid(axis='y', alpha=0.3)\n",
        "    \n",
        "    # Only show y-axis label on the first subplot\n",
        "    if i == 0:\n",
        "        ax.set_ylabel('Score', fontsize=12)\n",
        "    \n",
        "    # Rotate x-axis labels to avoid overlap\n",
        "    plt.setp(ax.get_xticklabels(), rotation=30, ha='right')\n",
        "\n",
        "# Add a common legend\n",
        "fig.legend(\n",
        "    [plt.Rectangle((0,0),1,1, color=color) for color in colors],\n",
        "    models,\n",
        "    loc='upper center', \n",
        "    bbox_to_anchor=(0.5, 0.05),\n",
        "    ncol=3,\n",
        "    fontsize=12\n",
        ")\n",
        "\n",
        "plt.suptitle('Performance Comparison of Text Classification Models', fontsize=16)\n",
        "plt.tight_layout(rect=[0, 0.1, 1, 0.95])  # Adjust layout to accommodate the legend\n",
        "plt.show()"
      ]
    },
    {
      "cell_type": "markdown",
      "metadata": {
        "id": "Ruwsyv3yLmvE"
      },
      "source": [
        "## 📊 Final Comparison: TF-IDF + Logistic Regression vs. LSTM vs. BERT\n",
        "\n",
        "We've now compared three models for sentiment classification:\n",
        "\n",
        "1. **TF-IDF + Logistic Regression**  \n",
        "   - Strong baseline.\n",
        "   - Surprisingly competitive.\n",
        "   - Fastest to train, interpretable, but relies on sparse word frequency features.\n",
        "\n",
        "2. **LSTM (Recurrent Neural Network)**  \n",
        "   - Captures sequential patterns in text.\n",
        "   - Slower to train, less accurate.\n",
        "   - Struggles with long dependencies compared to attention-based models.\n",
        "\n",
        "3. **BERT (Transformer-based model)**  \n",
        "   - Best performance out-of-the-box.\n",
        "   - Learns deep contextual embeddings from pre-trained Transformers.\n",
        "   - No custom tuning yet, still outperforms other methods.\n",
        "\n",
        "### 🧠 Why is BERT better?\n",
        "\n",
        "- It leverages **pre-trained knowledge** from vast corpora (Wikipedia, BooksCorpus).\n",
        "- Even without adjusting any hyperparameters, it achieves **88.8% accuracy**, beating TF-IDF+LogReg and LSTM.\n",
        "- It benefits from **contextual understanding** of words, not just frequency or sequence.\n",
        "\n",
        "---\n",
        "\n",
        "### 🚀 Next Steps to Improve BERT\n",
        "\n",
        "1. **Swap the backbone**: Try `roberta-base`, `deberta-v3-small`, or even `ModernBERT`.\n",
        "2. **Domain adaptation**: Resume pretraining or fine-tuning on movie reviews specifically.\n",
        "3. **Error analysis**: Look at false positives/negatives to uncover patterns and improve preprocessing.\n",
        "4. **Architecture tweaking**: Add dense layers, dropout, or residuals above BERT to improve generalization.\n",
        "\n",
        "---\n",
        "\n",
        "### 🧾 Model Comparison Summary\n",
        "\n",
        "| Model                     | Accuracy | Precision | Recall | F1-Score | Train Time | Notes                                |\n",
        "|---------------------------|----------|-----------|--------|----------|-------------|---------------------------------------|\n",
        "| **TF-IDF + LogReg**       | 0.880    | 0.880     | 0.880  | 0.880    | ~few seconds       | Fastest, no deep learning needed      |\n",
        "| **LSTM**                  | 0.779    | 0.779     | 0.779  | 0.779    | ~few minutes       | Worse results, slower training        |\n",
        "| **BERT (base uncased)**   | 0.888    | 0.898     | 0.875  | 0.886    | ~few minutes - needs GPU      | Best performance, no tuning applied   |\n",
        "\n",
        "---\n",
        "\n",
        "### 🔎 Final Word\n",
        "\n",
        "To go further, we must perform **error analysis**:\n",
        "- Which inputs were misclassified?\n",
        "- Are they noisy? Ambiguous? Long or rare?\n",
        "\n",
        "This will guide whether we need:\n",
        "- Better preprocessing?\n",
        "- A stronger model?"
      ]
    },
    {
      "cell_type": "markdown",
      "metadata": {},
      "source": []
    }
  ],
  "metadata": {
    "accelerator": "GPU",
    "colab": {
      "gpuType": "T4",
      "provenance": []
    },
    "kernelspec": {
      "display_name": "bse-nlp-DetGwK6_-py3.11",
      "language": "python",
      "name": "python3"
    },
    "language_info": {
      "codemirror_mode": {
        "name": "ipython",
        "version": 3
      },
      "file_extension": ".py",
      "mimetype": "text/x-python",
      "name": "python",
      "nbconvert_exporter": "python",
      "pygments_lexer": "ipython3",
      "version": "3.11.5"
    }
  },
  "nbformat": 4,
  "nbformat_minor": 0
}
