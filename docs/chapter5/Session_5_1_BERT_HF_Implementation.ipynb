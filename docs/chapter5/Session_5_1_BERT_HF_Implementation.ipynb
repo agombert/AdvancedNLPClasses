{
  "cells": [
    {
      "cell_type": "markdown",
      "metadata": {
        "id": "hSePAhRNLmu6"
      },
      "source": [
        "# BERT Implementation with HF vs LSTM Text Classification vs. TF-IDF + Logistic Regression\n",
        "\n",
        "In this notebook, we compare three different approaches to text classification:\n",
        "\n",
        "1. **Logistic Regression** on top of TF-IDF features\n",
        "2. **LSTM** (using Keras) trained end-to-end\n",
        "3. **BERT** (using Hugging Face) trained end-to-end\n",
        "\n",
        "We'll explore:\n",
        "- The architectures for each approach\n",
        "- Their respective training processes\n",
        "- Visualization of results and metrics\n",
        "- How each model interprets words in the final decision\n",
        "- Potential improvements for the BERT model"
      ]
    },
    {
      "cell_type": "markdown",
      "metadata": {
        "id": "1r5vdQV2Lmu7"
      },
      "source": [
        "## 1. Environment Setup & Imports\n",
        "\n",
        "We'll install any dependencies (if needed) and import the necessary libraries."
      ]
    },
    {
      "cell_type": "code",
      "execution_count": 1,
      "metadata": {
        "colab": {
          "base_uri": "https://localhost:8080/"
        },
        "id": "yyMImr0gLmu7",
        "outputId": "de75ed5b-8000-46f0-db6a-f1be6755ab5f",
        "tags": []
      },
      "outputs": [
        {
          "name": "stdout",
          "output_type": "stream",
          "text": [
            "Requirement already satisfied: scikit-learn in /usr/local/lib/python3.11/dist-packages (1.6.1)\n",
            "Requirement already satisfied: numpy in /usr/local/lib/python3.11/dist-packages (2.0.2)\n",
            "Requirement already satisfied: pandas in /usr/local/lib/python3.11/dist-packages (2.2.2)\n",
            "Requirement already satisfied: matplotlib in /usr/local/lib/python3.11/dist-packages (3.10.0)\n",
            "Requirement already satisfied: seaborn in /usr/local/lib/python3.11/dist-packages (0.13.2)\n",
            "Collecting datasets\n",
            "  Downloading datasets-3.5.1-py3-none-any.whl.metadata (19 kB)\n",
            "Requirement already satisfied: transformers in /usr/local/lib/python3.11/dist-packages (4.51.3)\n",
            "Collecting evaluate\n",
            "  Downloading evaluate-0.4.3-py3-none-any.whl.metadata (9.2 kB)\n",
            "Requirement already satisfied: accelerate in /usr/local/lib/python3.11/dist-packages (1.6.0)\n",
            "Requirement already satisfied: scipy>=1.6.0 in /usr/local/lib/python3.11/dist-packages (from scikit-learn) (1.15.2)\n",
            "Requirement already satisfied: joblib>=1.2.0 in /usr/local/lib/python3.11/dist-packages (from scikit-learn) (1.4.2)\n",
            "Requirement already satisfied: threadpoolctl>=3.1.0 in /usr/local/lib/python3.11/dist-packages (from scikit-learn) (3.6.0)\n",
            "Requirement already satisfied: python-dateutil>=2.8.2 in /usr/local/lib/python3.11/dist-packages (from pandas) (2.9.0.post0)\n",
            "Requirement already satisfied: pytz>=2020.1 in /usr/local/lib/python3.11/dist-packages (from pandas) (2025.2)\n",
            "Requirement already satisfied: tzdata>=2022.7 in /usr/local/lib/python3.11/dist-packages (from pandas) (2025.2)\n",
            "Requirement already satisfied: contourpy>=1.0.1 in /usr/local/lib/python3.11/dist-packages (from matplotlib) (1.3.2)\n",
            "Requirement already satisfied: cycler>=0.10 in /usr/local/lib/python3.11/dist-packages (from matplotlib) (0.12.1)\n",
            "Requirement already satisfied: fonttools>=4.22.0 in /usr/local/lib/python3.11/dist-packages (from matplotlib) (4.57.0)\n",
            "Requirement already satisfied: kiwisolver>=1.3.1 in /usr/local/lib/python3.11/dist-packages (from matplotlib) (1.4.8)\n",
            "Requirement already satisfied: packaging>=20.0 in /usr/local/lib/python3.11/dist-packages (from matplotlib) (24.2)\n",
            "Requirement already satisfied: pillow>=8 in /usr/local/lib/python3.11/dist-packages (from matplotlib) (11.2.1)\n",
            "Requirement already satisfied: pyparsing>=2.3.1 in /usr/local/lib/python3.11/dist-packages (from matplotlib) (3.2.3)\n",
            "Requirement already satisfied: filelock in /usr/local/lib/python3.11/dist-packages (from datasets) (3.18.0)\n",
            "Requirement already satisfied: pyarrow>=15.0.0 in /usr/local/lib/python3.11/dist-packages (from datasets) (18.1.0)\n",
            "Collecting dill<0.3.9,>=0.3.0 (from datasets)\n",
            "  Downloading dill-0.3.8-py3-none-any.whl.metadata (10 kB)\n",
            "Requirement already satisfied: requests>=2.32.2 in /usr/local/lib/python3.11/dist-packages (from datasets) (2.32.3)\n",
            "Requirement already satisfied: tqdm>=4.66.3 in /usr/local/lib/python3.11/dist-packages (from datasets) (4.67.1)\n",
            "Collecting xxhash (from datasets)\n",
            "  Downloading xxhash-3.5.0-cp311-cp311-manylinux_2_17_x86_64.manylinux2014_x86_64.whl.metadata (12 kB)\n",
            "Collecting multiprocess<0.70.17 (from datasets)\n",
            "  Downloading multiprocess-0.70.16-py311-none-any.whl.metadata (7.2 kB)\n",
            "Collecting fsspec<=2025.3.0,>=2023.1.0 (from fsspec[http]<=2025.3.0,>=2023.1.0->datasets)\n",
            "  Downloading fsspec-2025.3.0-py3-none-any.whl.metadata (11 kB)\n",
            "Requirement already satisfied: aiohttp in /usr/local/lib/python3.11/dist-packages (from datasets) (3.11.15)\n",
            "Requirement already satisfied: huggingface-hub>=0.24.0 in /usr/local/lib/python3.11/dist-packages (from datasets) (0.30.2)\n",
            "Requirement already satisfied: pyyaml>=5.1 in /usr/local/lib/python3.11/dist-packages (from datasets) (6.0.2)\n",
            "Requirement already satisfied: regex!=2019.12.17 in /usr/local/lib/python3.11/dist-packages (from transformers) (2024.11.6)\n",
            "Requirement already satisfied: tokenizers<0.22,>=0.21 in /usr/local/lib/python3.11/dist-packages (from transformers) (0.21.1)\n",
            "Requirement already satisfied: safetensors>=0.4.3 in /usr/local/lib/python3.11/dist-packages (from transformers) (0.5.3)\n",
            "Requirement already satisfied: psutil in /usr/local/lib/python3.11/dist-packages (from accelerate) (5.9.5)\n",
            "Requirement already satisfied: torch>=2.0.0 in /usr/local/lib/python3.11/dist-packages (from accelerate) (2.6.0+cu124)\n",
            "Requirement already satisfied: aiohappyeyeballs>=2.3.0 in /usr/local/lib/python3.11/dist-packages (from aiohttp->datasets) (2.6.1)\n",
            "Requirement already satisfied: aiosignal>=1.1.2 in /usr/local/lib/python3.11/dist-packages (from aiohttp->datasets) (1.3.2)\n",
            "Requirement already satisfied: attrs>=17.3.0 in /usr/local/lib/python3.11/dist-packages (from aiohttp->datasets) (25.3.0)\n",
            "Requirement already satisfied: frozenlist>=1.1.1 in /usr/local/lib/python3.11/dist-packages (from aiohttp->datasets) (1.6.0)\n",
            "Requirement already satisfied: multidict<7.0,>=4.5 in /usr/local/lib/python3.11/dist-packages (from aiohttp->datasets) (6.4.3)\n",
            "Requirement already satisfied: propcache>=0.2.0 in /usr/local/lib/python3.11/dist-packages (from aiohttp->datasets) (0.3.1)\n",
            "Requirement already satisfied: yarl<2.0,>=1.17.0 in /usr/local/lib/python3.11/dist-packages (from aiohttp->datasets) (1.20.0)\n",
            "Requirement already satisfied: typing-extensions>=3.7.4.3 in /usr/local/lib/python3.11/dist-packages (from huggingface-hub>=0.24.0->datasets) (4.13.2)\n",
            "Requirement already satisfied: six>=1.5 in /usr/local/lib/python3.11/dist-packages (from python-dateutil>=2.8.2->pandas) (1.17.0)\n",
            "Requirement already satisfied: charset-normalizer<4,>=2 in /usr/local/lib/python3.11/dist-packages (from requests>=2.32.2->datasets) (3.4.1)\n",
            "Requirement already satisfied: idna<4,>=2.5 in /usr/local/lib/python3.11/dist-packages (from requests>=2.32.2->datasets) (3.10)\n",
            "Requirement already satisfied: urllib3<3,>=1.21.1 in /usr/local/lib/python3.11/dist-packages (from requests>=2.32.2->datasets) (2.4.0)\n",
            "Requirement already satisfied: certifi>=2017.4.17 in /usr/local/lib/python3.11/dist-packages (from requests>=2.32.2->datasets) (2025.1.31)\n",
            "Requirement already satisfied: networkx in /usr/local/lib/python3.11/dist-packages (from torch>=2.0.0->accelerate) (3.4.2)\n",
            "Requirement already satisfied: jinja2 in /usr/local/lib/python3.11/dist-packages (from torch>=2.0.0->accelerate) (3.1.6)\n",
            "Collecting nvidia-cuda-nvrtc-cu12==12.4.127 (from torch>=2.0.0->accelerate)\n",
            "  Downloading nvidia_cuda_nvrtc_cu12-12.4.127-py3-none-manylinux2014_x86_64.whl.metadata (1.5 kB)\n",
            "Collecting nvidia-cuda-runtime-cu12==12.4.127 (from torch>=2.0.0->accelerate)\n",
            "  Downloading nvidia_cuda_runtime_cu12-12.4.127-py3-none-manylinux2014_x86_64.whl.metadata (1.5 kB)\n",
            "Collecting nvidia-cuda-cupti-cu12==12.4.127 (from torch>=2.0.0->accelerate)\n",
            "  Downloading nvidia_cuda_cupti_cu12-12.4.127-py3-none-manylinux2014_x86_64.whl.metadata (1.6 kB)\n",
            "Collecting nvidia-cudnn-cu12==9.1.0.70 (from torch>=2.0.0->accelerate)\n",
            "  Downloading nvidia_cudnn_cu12-9.1.0.70-py3-none-manylinux2014_x86_64.whl.metadata (1.6 kB)\n",
            "Collecting nvidia-cublas-cu12==12.4.5.8 (from torch>=2.0.0->accelerate)\n",
            "  Downloading nvidia_cublas_cu12-12.4.5.8-py3-none-manylinux2014_x86_64.whl.metadata (1.5 kB)\n",
            "Collecting nvidia-cufft-cu12==11.2.1.3 (from torch>=2.0.0->accelerate)\n",
            "  Downloading nvidia_cufft_cu12-11.2.1.3-py3-none-manylinux2014_x86_64.whl.metadata (1.5 kB)\n",
            "Collecting nvidia-curand-cu12==10.3.5.147 (from torch>=2.0.0->accelerate)\n",
            "  Downloading nvidia_curand_cu12-10.3.5.147-py3-none-manylinux2014_x86_64.whl.metadata (1.5 kB)\n",
            "Collecting nvidia-cusolver-cu12==11.6.1.9 (from torch>=2.0.0->accelerate)\n",
            "  Downloading nvidia_cusolver_cu12-11.6.1.9-py3-none-manylinux2014_x86_64.whl.metadata (1.6 kB)\n",
            "Collecting nvidia-cusparse-cu12==12.3.1.170 (from torch>=2.0.0->accelerate)\n",
            "  Downloading nvidia_cusparse_cu12-12.3.1.170-py3-none-manylinux2014_x86_64.whl.metadata (1.6 kB)\n",
            "Requirement already satisfied: nvidia-cusparselt-cu12==0.6.2 in /usr/local/lib/python3.11/dist-packages (from torch>=2.0.0->accelerate) (0.6.2)\n",
            "Requirement already satisfied: nvidia-nccl-cu12==2.21.5 in /usr/local/lib/python3.11/dist-packages (from torch>=2.0.0->accelerate) (2.21.5)\n",
            "Requirement already satisfied: nvidia-nvtx-cu12==12.4.127 in /usr/local/lib/python3.11/dist-packages (from torch>=2.0.0->accelerate) (12.4.127)\n",
            "Collecting nvidia-nvjitlink-cu12==12.4.127 (from torch>=2.0.0->accelerate)\n",
            "  Downloading nvidia_nvjitlink_cu12-12.4.127-py3-none-manylinux2014_x86_64.whl.metadata (1.5 kB)\n",
            "Requirement already satisfied: triton==3.2.0 in /usr/local/lib/python3.11/dist-packages (from torch>=2.0.0->accelerate) (3.2.0)\n",
            "Requirement already satisfied: sympy==1.13.1 in /usr/local/lib/python3.11/dist-packages (from torch>=2.0.0->accelerate) (1.13.1)\n",
            "Requirement already satisfied: mpmath<1.4,>=1.1.0 in /usr/local/lib/python3.11/dist-packages (from sympy==1.13.1->torch>=2.0.0->accelerate) (1.3.0)\n",
            "Requirement already satisfied: MarkupSafe>=2.0 in /usr/local/lib/python3.11/dist-packages (from jinja2->torch>=2.0.0->accelerate) (3.0.2)\n",
            "Downloading datasets-3.5.1-py3-none-any.whl (491 kB)\n",
            "\u001b[2K   \u001b[90m━━━━━━━━━━━━━━━━━━━━━━━━━━━━━━━━━━━━━━━━\u001b[0m \u001b[32m491.4/491.4 kB\u001b[0m \u001b[31m4.5 MB/s\u001b[0m eta \u001b[36m0:00:00\u001b[0m\n",
            "\u001b[?25hDownloading evaluate-0.4.3-py3-none-any.whl (84 kB)\n",
            "\u001b[2K   \u001b[90m━━━━━━━━━━━━━━━━━━━━━━━━━━━━━━━━━━━━━━━━\u001b[0m \u001b[32m84.0/84.0 kB\u001b[0m \u001b[31m4.2 MB/s\u001b[0m eta \u001b[36m0:00:00\u001b[0m\n",
            "\u001b[?25hDownloading dill-0.3.8-py3-none-any.whl (116 kB)\n",
            "\u001b[2K   \u001b[90m━━━━━━━━━━━━━━━━━━━━━━━━━━━━━━━━━━━━━━━━\u001b[0m \u001b[32m116.3/116.3 kB\u001b[0m \u001b[31m7.9 MB/s\u001b[0m eta \u001b[36m0:00:00\u001b[0m\n",
            "\u001b[?25hDownloading fsspec-2025.3.0-py3-none-any.whl (193 kB)\n",
            "\u001b[2K   \u001b[90m━━━━━━━━━━━━━━━━━━━━━━━━━━━━━━━━━━━━━━━━\u001b[0m \u001b[32m193.6/193.6 kB\u001b[0m \u001b[31m11.0 MB/s\u001b[0m eta \u001b[36m0:00:00\u001b[0m\n",
            "\u001b[?25hDownloading multiprocess-0.70.16-py311-none-any.whl (143 kB)\n",
            "\u001b[2K   \u001b[90m━━━━━━━━━━━━━━━━━━━━━━━━━━━━━━━━━━━━━━━━\u001b[0m \u001b[32m143.5/143.5 kB\u001b[0m \u001b[31m11.0 MB/s\u001b[0m eta \u001b[36m0:00:00\u001b[0m\n",
            "\u001b[?25hDownloading nvidia_cublas_cu12-12.4.5.8-py3-none-manylinux2014_x86_64.whl (363.4 MB)\n",
            "\u001b[2K   \u001b[90m━━━━━━━━━━━━━━━━━━━━━━━━━━━━━━━━━━━━━━━━\u001b[0m \u001b[32m363.4/363.4 MB\u001b[0m \u001b[31m3.0 MB/s\u001b[0m eta \u001b[36m0:00:00\u001b[0m\n",
            "\u001b[?25hDownloading nvidia_cuda_cupti_cu12-12.4.127-py3-none-manylinux2014_x86_64.whl (13.8 MB)\n",
            "\u001b[2K   \u001b[90m━━━━━━━━━━━━━━━━━━━━━━━━━━━━━━━━━━━━━━━━\u001b[0m \u001b[32m13.8/13.8 MB\u001b[0m \u001b[31m62.0 MB/s\u001b[0m eta \u001b[36m0:00:00\u001b[0m\n",
            "\u001b[?25hDownloading nvidia_cuda_nvrtc_cu12-12.4.127-py3-none-manylinux2014_x86_64.whl (24.6 MB)\n",
            "\u001b[2K   \u001b[90m━━━━━━━━━━━━━━━━━━━━━━━━━━━━━━━━━━━━━━━━\u001b[0m \u001b[32m24.6/24.6 MB\u001b[0m \u001b[31m50.3 MB/s\u001b[0m eta \u001b[36m0:00:00\u001b[0m\n",
            "\u001b[?25hDownloading nvidia_cuda_runtime_cu12-12.4.127-py3-none-manylinux2014_x86_64.whl (883 kB)\n",
            "\u001b[2K   \u001b[90m━━━━━━━━━━━━━━━━━━━━━━━━━━━━━━━━━━━━━━━━\u001b[0m \u001b[32m883.7/883.7 kB\u001b[0m \u001b[31m44.2 MB/s\u001b[0m eta \u001b[36m0:00:00\u001b[0m\n",
            "\u001b[?25hDownloading nvidia_cudnn_cu12-9.1.0.70-py3-none-manylinux2014_x86_64.whl (664.8 MB)\n",
            "\u001b[2K   \u001b[90m━━━━━━━━━━━━━━━━━━━━━━━━━━━━━━━━━━━━━━━━\u001b[0m \u001b[32m664.8/664.8 MB\u001b[0m \u001b[31m2.0 MB/s\u001b[0m eta \u001b[36m0:00:00\u001b[0m\n",
            "\u001b[?25hDownloading nvidia_cufft_cu12-11.2.1.3-py3-none-manylinux2014_x86_64.whl (211.5 MB)\n",
            "\u001b[2K   \u001b[90m━━━━━━━━━━━━━━━━━━━━━━━━━━━━━━━━━━━━━━━━\u001b[0m \u001b[32m211.5/211.5 MB\u001b[0m \u001b[31m6.3 MB/s\u001b[0m eta \u001b[36m0:00:00\u001b[0m\n",
            "\u001b[?25hDownloading nvidia_curand_cu12-10.3.5.147-py3-none-manylinux2014_x86_64.whl (56.3 MB)\n",
            "\u001b[2K   \u001b[90m━━━━━━━━━━━━━━━━━━━━━━━━━━━━━━━━━━━━━━━━\u001b[0m \u001b[32m56.3/56.3 MB\u001b[0m \u001b[31m19.1 MB/s\u001b[0m eta \u001b[36m0:00:00\u001b[0m\n",
            "\u001b[?25hDownloading nvidia_cusolver_cu12-11.6.1.9-py3-none-manylinux2014_x86_64.whl (127.9 MB)\n",
            "\u001b[2K   \u001b[90m━━━━━━━━━━━━━━━━━━━━━━━━━━━━━━━━━━━━━━━━\u001b[0m \u001b[32m127.9/127.9 MB\u001b[0m \u001b[31m8.8 MB/s\u001b[0m eta \u001b[36m0:00:00\u001b[0m\n",
            "\u001b[?25hDownloading nvidia_cusparse_cu12-12.3.1.170-py3-none-manylinux2014_x86_64.whl (207.5 MB)\n",
            "\u001b[2K   \u001b[90m━━━━━━━━━━━━━━━━━━━━━━━━━━━━━━━━━━━━━━━━\u001b[0m \u001b[32m207.5/207.5 MB\u001b[0m \u001b[31m3.5 MB/s\u001b[0m eta \u001b[36m0:00:00\u001b[0m\n",
            "\u001b[?25hDownloading nvidia_nvjitlink_cu12-12.4.127-py3-none-manylinux2014_x86_64.whl (21.1 MB)\n",
            "\u001b[2K   \u001b[90m━━━━━━━━━━━━━━━━━━━━━━━━━━━━━━━━━━━━━━━━\u001b[0m \u001b[32m21.1/21.1 MB\u001b[0m \u001b[31m51.0 MB/s\u001b[0m eta \u001b[36m0:00:00\u001b[0m\n",
            "\u001b[?25hDownloading xxhash-3.5.0-cp311-cp311-manylinux_2_17_x86_64.manylinux2014_x86_64.whl (194 kB)\n",
            "\u001b[2K   \u001b[90m━━━━━━━━━━━━━━━━━━━━━━━━━━━━━━━━━━━━━━━━\u001b[0m \u001b[32m194.8/194.8 kB\u001b[0m \u001b[31m21.5 MB/s\u001b[0m eta \u001b[36m0:00:00\u001b[0m\n",
            "\u001b[?25hInstalling collected packages: xxhash, nvidia-nvjitlink-cu12, nvidia-curand-cu12, nvidia-cufft-cu12, nvidia-cuda-runtime-cu12, nvidia-cuda-nvrtc-cu12, nvidia-cuda-cupti-cu12, nvidia-cublas-cu12, fsspec, dill, nvidia-cusparse-cu12, nvidia-cudnn-cu12, multiprocess, nvidia-cusolver-cu12, datasets, evaluate\n",
            "  Attempting uninstall: nvidia-nvjitlink-cu12\n",
            "    Found existing installation: nvidia-nvjitlink-cu12 12.5.82\n",
            "    Uninstalling nvidia-nvjitlink-cu12-12.5.82:\n",
            "      Successfully uninstalled nvidia-nvjitlink-cu12-12.5.82\n",
            "  Attempting uninstall: nvidia-curand-cu12\n",
            "    Found existing installation: nvidia-curand-cu12 10.3.6.82\n",
            "    Uninstalling nvidia-curand-cu12-10.3.6.82:\n",
            "      Successfully uninstalled nvidia-curand-cu12-10.3.6.82\n",
            "  Attempting uninstall: nvidia-cufft-cu12\n",
            "    Found existing installation: nvidia-cufft-cu12 11.2.3.61\n",
            "    Uninstalling nvidia-cufft-cu12-11.2.3.61:\n",
            "      Successfully uninstalled nvidia-cufft-cu12-11.2.3.61\n",
            "  Attempting uninstall: nvidia-cuda-runtime-cu12\n",
            "    Found existing installation: nvidia-cuda-runtime-cu12 12.5.82\n",
            "    Uninstalling nvidia-cuda-runtime-cu12-12.5.82:\n",
            "      Successfully uninstalled nvidia-cuda-runtime-cu12-12.5.82\n",
            "  Attempting uninstall: nvidia-cuda-nvrtc-cu12\n",
            "    Found existing installation: nvidia-cuda-nvrtc-cu12 12.5.82\n",
            "    Uninstalling nvidia-cuda-nvrtc-cu12-12.5.82:\n",
            "      Successfully uninstalled nvidia-cuda-nvrtc-cu12-12.5.82\n",
            "  Attempting uninstall: nvidia-cuda-cupti-cu12\n",
            "    Found existing installation: nvidia-cuda-cupti-cu12 12.5.82\n",
            "    Uninstalling nvidia-cuda-cupti-cu12-12.5.82:\n",
            "      Successfully uninstalled nvidia-cuda-cupti-cu12-12.5.82\n",
            "  Attempting uninstall: nvidia-cublas-cu12\n",
            "    Found existing installation: nvidia-cublas-cu12 12.5.3.2\n",
            "    Uninstalling nvidia-cublas-cu12-12.5.3.2:\n",
            "      Successfully uninstalled nvidia-cublas-cu12-12.5.3.2\n",
            "  Attempting uninstall: fsspec\n",
            "    Found existing installation: fsspec 2025.3.2\n",
            "    Uninstalling fsspec-2025.3.2:\n",
            "      Successfully uninstalled fsspec-2025.3.2\n",
            "  Attempting uninstall: nvidia-cusparse-cu12\n",
            "    Found existing installation: nvidia-cusparse-cu12 12.5.1.3\n",
            "    Uninstalling nvidia-cusparse-cu12-12.5.1.3:\n",
            "      Successfully uninstalled nvidia-cusparse-cu12-12.5.1.3\n",
            "  Attempting uninstall: nvidia-cudnn-cu12\n",
            "    Found existing installation: nvidia-cudnn-cu12 9.3.0.75\n",
            "    Uninstalling nvidia-cudnn-cu12-9.3.0.75:\n",
            "      Successfully uninstalled nvidia-cudnn-cu12-9.3.0.75\n",
            "  Attempting uninstall: nvidia-cusolver-cu12\n",
            "    Found existing installation: nvidia-cusolver-cu12 11.6.3.83\n",
            "    Uninstalling nvidia-cusolver-cu12-11.6.3.83:\n",
            "      Successfully uninstalled nvidia-cusolver-cu12-11.6.3.83\n",
            "\u001b[31mERROR: pip's dependency resolver does not currently take into account all the packages that are installed. This behaviour is the source of the following dependency conflicts.\n",
            "gcsfs 2025.3.2 requires fsspec==2025.3.2, but you have fsspec 2025.3.0 which is incompatible.\u001b[0m\u001b[31m\n",
            "\u001b[0mSuccessfully installed datasets-3.5.1 dill-0.3.8 evaluate-0.4.3 fsspec-2025.3.0 multiprocess-0.70.16 nvidia-cublas-cu12-12.4.5.8 nvidia-cuda-cupti-cu12-12.4.127 nvidia-cuda-nvrtc-cu12-12.4.127 nvidia-cuda-runtime-cu12-12.4.127 nvidia-cudnn-cu12-9.1.0.70 nvidia-cufft-cu12-11.2.1.3 nvidia-curand-cu12-10.3.5.147 nvidia-cusolver-cu12-11.6.1.9 nvidia-cusparse-cu12-12.3.1.170 nvidia-nvjitlink-cu12-12.4.127 xxhash-3.5.0\n"
          ]
        }
      ],
      "source": [
        "!pip install scikit-learn numpy pandas matplotlib seaborn datasets transformers evaluate accelerate\n",
        "import numpy as np\n",
        "import pandas as pd\n",
        "import matplotlib.pyplot as plt\n",
        "import seaborn as sns\n",
        "from datasets import load_dataset\n",
        "from sklearn.model_selection import train_test_split\n",
        "from sklearn.feature_extraction.text import TfidfVectorizer\n",
        "from sklearn.linear_model import LogisticRegression\n",
        "from sklearn.metrics import confusion_matrix, classification_report\n",
        "\n",
        "import tensorflow as tf\n",
        "from tensorflow import keras\n",
        "from tensorflow.keras import layers\n",
        "\n",
        "from transformers import (AutoTokenizer, AutoModelForSequenceClassification,\n",
        "                          DataCollatorWithPadding, TrainingArguments, Trainer)\n",
        "import evaluate, torch, os, random, json\n",
        "\n",
        "np.random.seed(42)"
      ]
    },
    {
      "cell_type": "markdown",
      "metadata": {
        "id": "UV7PuqNoLmu8"
      },
      "source": [
        "## 2. Data Loading & Preprocessing\n",
        "\n",
        "For demonstration, we'll assume we have a text classification dataset named `df`. It contains two columns:\n",
        "- `text` : The text field\n",
        "- `label`: The target label (0 or 1, for binary classification, or more classes)\n",
        "\n",
        "We'll split the data into **train** and **test** sets, then further create a small dev set if needed."
      ]
    },
    {
      "cell_type": "code",
      "execution_count": null,
      "metadata": {
        "id": "GqcC7KYbLmu8",
        "outputId": "3113b509-76c9-4a19-ecdf-7ee291a165c3",
        "tags": []
      },
      "outputs": [
        {
          "name": "stdout",
          "output_type": "stream",
          "text": [
            "DatasetDict({\n",
            "    train: Dataset({\n",
            "        features: ['text', 'label'],\n",
            "        num_rows: 25000\n",
            "    })\n",
            "    test: Dataset({\n",
            "        features: ['text', 'label'],\n",
            "        num_rows: 25000\n",
            "    })\n",
            "    unsupervised: Dataset({\n",
            "        features: ['text', 'label'],\n",
            "        num_rows: 50000\n",
            "    })\n",
            "})\n"
          ]
        }
      ],
      "source": [
        "# Load the imdb\n",
        "dataset = load_dataset('imdb')\n",
        "print(dataset)\n",
        "\n",
        "\n",
        "# Convert to pandas DataFrame for easier manipulation\n",
        "train_df = dataset['train'].shuffle(seed=42).to_pandas()\n",
        "test_df = dataset['test'].shuffle(seed=42).to_pandas()\n",
        "# Clean the memory\n",
        "del dataset"
      ]
    },
    {
      "cell_type": "markdown",
      "metadata": {
        "id": "X8qGTLSWLmu9"
      },
      "source": [
        "## 3. TF-IDF + Logistic Regression\n",
        "\n",
        "We'll:\n",
        "1. Vectorize our text using TF-IDF.\n",
        "2. Train a Logistic Regression model.\n",
        "3. Evaluate on the test set.\n",
        "4. Visualize results.\n"
      ]
    },
    {
      "cell_type": "code",
      "execution_count": null,
      "metadata": {
        "id": "fRucDkOMLmu-",
        "outputId": "a23da300-7460-4513-88b1-61561d4998e3"
      },
      "outputs": [
        {
          "name": "stdout",
          "output_type": "stream",
          "text": [
            "X_train shape: (25000, 20000) , y_train shape: (25000,)\n"
          ]
        }
      ],
      "source": [
        "# 3.1 Vectorize text with TF-IDF\n",
        "tfidf_vec = TfidfVectorizer(stop_words='english', min_df=5, max_features=20000)\n",
        "\n",
        "X_train_tfidf = tfidf_vec.fit_transform(train_df['text'])\n",
        "y_train = train_df['label'].values\n",
        "\n",
        "X_test_tfidf = tfidf_vec.transform(test_df['text'])\n",
        "y_test = test_df['label'].values\n",
        "\n",
        "print(\"X_train shape:\", X_train_tfidf.shape, \", y_train shape:\", y_train.shape)"
      ]
    },
    {
      "cell_type": "code",
      "execution_count": null,
      "metadata": {
        "id": "N6C0IxCeLmu-",
        "outputId": "92558089-4e9d-4ca4-c15e-8a48ab64dbca"
      },
      "outputs": [
        {
          "name": "stdout",
          "output_type": "stream",
          "text": [
            "LogisticRegression Test Classification Report:\n",
            "              precision    recall  f1-score   support\n",
            "\n",
            "           0       0.88      0.88      0.88     12500\n",
            "           1       0.88      0.88      0.88     12500\n",
            "\n",
            "    accuracy                           0.88     25000\n",
            "   macro avg       0.88      0.88      0.88     25000\n",
            "weighted avg       0.88      0.88      0.88     25000\n",
            "\n",
            "Confusion Matrix: [[10979  1521]\n",
            " [ 1495 11005]]\n"
          ]
        }
      ],
      "source": [
        "# 3.2 Train a Logistic Regression model\n",
        "logreg = LogisticRegression()\n",
        "logreg.fit(X_train_tfidf, y_train)\n",
        "\n",
        "# Evaluate on test\n",
        "y_pred_logreg = logreg.predict(X_test_tfidf)\n",
        "\n",
        "print(\"LogisticRegression Test Classification Report:\")\n",
        "print(classification_report(y_test, y_pred_logreg))\n",
        "cm_logreg = confusion_matrix(y_test, y_pred_logreg)\n",
        "print(\"Confusion Matrix:\", cm_logreg)"
      ]
    },
    {
      "cell_type": "markdown",
      "metadata": {
        "id": "zpw0x7fXLmu-"
      },
      "source": [
        "### Visualization of Confusion Matrix"
      ]
    },
    {
      "cell_type": "code",
      "execution_count": null,
      "metadata": {
        "id": "tp7yffowLmu-",
        "outputId": "32bc0acf-538b-4aba-d291-5d7afcfd71cd"
      },
      "outputs": [
        {
          "data": {
            "image/png": "[encoded data removed]",
            "text/plain": [
              "<Figure size 400x400 with 1 Axes>"
            ]
          },
          "metadata": {},
          "output_type": "display_data"
        }
      ],
      "source": [
        "plt.figure(figsize=(4,4))\n",
        "sns.heatmap(cm_logreg, annot=True, cmap='Blues', fmt='d', cbar=False)\n",
        "plt.title(\"LogReg TF-IDF - Confusion Matrix\")\n",
        "plt.xlabel(\"Predicted\")\n",
        "plt.ylabel(\"True\")\n",
        "plt.show()"
      ]
    },
    {
      "cell_type": "markdown",
      "metadata": {
        "id": "vkmlft9eLmu_"
      },
      "source": [
        "## 4: LSTM Classification\n",
        "\n",
        "For the whole explanation on the LSTM classification, please refer to the [Session 4](https://github.com/agomberto/AdvancedNLPClasses/blob/main/docs/chapter2/Session_2_3_LSTM_Classif.ipynb).\n",
        "\n",
        "Here we will directly train the model.\n",
        "\n",
        "### 4.1 Preprocessing the Text for LSTM"
      ]
    },
    {
      "cell_type": "code",
      "execution_count": null,
      "metadata": {
        "id": "uV_PO6RkLmvA",
        "outputId": "bb75ddba-cd63-43e5-9b61-682ed8bb9e7e"
      },
      "outputs": [
        {
          "name": "stdout",
          "output_type": "stream",
          "text": [
            "20001\n"
          ]
        },
        {
          "data": {
            "text/plain": [
              "((25000, 128), (25000,))"
            ]
          },
          "execution_count": 6,
          "metadata": {},
          "output_type": "execute_result"
        }
      ],
      "source": [
        "from tensorflow.keras.preprocessing.text import Tokenizer\n",
        "from tensorflow.keras.preprocessing.sequence import pad_sequences\n",
        "\n",
        "#Create the tokenizer with the same vocabulary as the TF-IDF vectorizer\n",
        "custom_vocab = tfidf_vec.vocabulary_\n",
        "vocab_size = len(custom_vocab) + 1 # +1 for the OOV token\n",
        "tokenizer = Tokenizer(num_words=vocab_size, oov_token=\"<OOV>\")\n",
        "\n",
        "# Manually assign word index\n",
        "tokenizer.word_index = {word: i for i, word in enumerate(custom_vocab)}\n",
        "tokenizer.word_index[tokenizer.oov_token] = len(custom_vocab)\n",
        "print(len(tokenizer.word_index))\n",
        "\n",
        "##Let's increase the max length of the sequences to 128\n",
        "max_len = 128\n",
        "\n",
        "# Let's create a function to convert the text to a sequence of token IDs and pad them to the same length: 128\n",
        "\n",
        "def text_to_seq(df_col, max_len=128):\n",
        "    seqs = tokenizer.texts_to_sequences(df_col)\n",
        "    # pad\n",
        "    seqs_padded = pad_sequences(seqs, maxlen=max_len, padding='post', truncating='post')\n",
        "    return seqs_padded\n",
        "\n",
        "X_train_seq = text_to_seq(train_df['text'].map(lambda x: x.lower()), max_len=max_len)\n",
        "X_test_seq = text_to_seq(test_df['text'].map(lambda x: x.lower()), max_len=max_len)\n",
        "\n",
        "y_train_lstm = train_df['label'].values\n",
        "y_test_lstm  = test_df['label'].values\n",
        "\n",
        "X_train_seq.shape, y_train_lstm.shape"
      ]
    },
    {
      "cell_type": "markdown",
      "metadata": {
        "id": "TPHR1BcNLmvA"
      },
      "source": [
        "### 4.2 Build the LSTM Model\n",
        "\n",
        "Now that we have our sequences ready and padded, we can build an LSTM-based neural network using Keras.\n",
        "\n",
        "We’ll use a simple architecture:\n",
        "- An **Embedding layer** to learn word representations.\n",
        "- A single **LSTM layer** to process the sequence.\n",
        "- A **Dense layer** with a sigmoid activation to output binary predictions.\n",
        "\n",
        "The optimizer is Adam with a learning rate of 0.01."
      ]
    },
    {
      "cell_type": "code",
      "execution_count": null,
      "metadata": {
        "id": "gehkCNhcLmvA",
        "outputId": "bb5b502b-5609-4963-b615-76963d1b952f"
      },
      "outputs": [
        {
          "data": {
            "text/html": [
              "<pre style=\"white-space:pre;overflow-x:auto;line-height:normal;font-family:Menlo,'DejaVu Sans Mono',consolas,'Courier New',monospace\"><span style=\"font-weight: bold\">Model: \"functional\"</span>\n",
              "</pre>\n"
            ],
            "text/plain": [
              "\u001b[1mModel: \"functional\"\u001b[0m\n"
            ]
          },
          "metadata": {},
          "output_type": "display_data"
        },
        {
          "data": {
            "text/html": [
              "<pre style=\"white-space:pre;overflow-x:auto;line-height:normal;font-family:Menlo,'DejaVu Sans Mono',consolas,'Courier New',monospace\">┏━━━━━━━━━━━━━━━━━━━━━━━━━━━━━━━━━┳━━━━━━━━━━━━━━━━━━━━━━━━┳━━━━━━━━━━━━━━━┓\n",
              "┃<span style=\"font-weight: bold\"> Layer (type)                    </span>┃<span style=\"font-weight: bold\"> Output Shape           </span>┃<span style=\"font-weight: bold\">       Param # </span>┃\n",
              "┡━━━━━━━━━━━━━━━━━━━━━━━━━━━━━━━━━╇━━━━━━━━━━━━━━━━━━━━━━━━╇━━━━━━━━━━━━━━━┩\n",
              "│ input_layer (<span style=\"color: #0087ff; text-decoration-color: #0087ff\">InputLayer</span>)        │ (<span style=\"color: #00d7ff; text-decoration-color: #00d7ff\">None</span>, <span style=\"color: #00af00; text-decoration-color: #00af00\">128</span>)            │             <span style=\"color: #00af00; text-decoration-color: #00af00\">0</span> │\n",
              "├─────────────────────────────────┼────────────────────────┼───────────────┤\n",
              "│ embedding (<span style=\"color: #0087ff; text-decoration-color: #0087ff\">Embedding</span>)           │ (<span style=\"color: #00d7ff; text-decoration-color: #00d7ff\">None</span>, <span style=\"color: #00af00; text-decoration-color: #00af00\">128</span>, <span style=\"color: #00af00; text-decoration-color: #00af00\">32</span>)        │       <span style=\"color: #00af00; text-decoration-color: #00af00\">640,032</span> │\n",
              "├─────────────────────────────────┼────────────────────────┼───────────────┤\n",
              "│ lstm (<span style=\"color: #0087ff; text-decoration-color: #0087ff\">LSTM</span>)                     │ (<span style=\"color: #00d7ff; text-decoration-color: #00d7ff\">None</span>, <span style=\"color: #00af00; text-decoration-color: #00af00\">128</span>, <span style=\"color: #00af00; text-decoration-color: #00af00\">32</span>)        │         <span style=\"color: #00af00; text-decoration-color: #00af00\">8,320</span> │\n",
              "├─────────────────────────────────┼────────────────────────┼───────────────┤\n",
              "│ flatten (<span style=\"color: #0087ff; text-decoration-color: #0087ff\">Flatten</span>)               │ (<span style=\"color: #00d7ff; text-decoration-color: #00d7ff\">None</span>, <span style=\"color: #00af00; text-decoration-color: #00af00\">4096</span>)           │             <span style=\"color: #00af00; text-decoration-color: #00af00\">0</span> │\n",
              "├─────────────────────────────────┼────────────────────────┼───────────────┤\n",
              "│ dropout (<span style=\"color: #0087ff; text-decoration-color: #0087ff\">Dropout</span>)               │ (<span style=\"color: #00d7ff; text-decoration-color: #00d7ff\">None</span>, <span style=\"color: #00af00; text-decoration-color: #00af00\">4096</span>)           │             <span style=\"color: #00af00; text-decoration-color: #00af00\">0</span> │\n",
              "├─────────────────────────────────┼────────────────────────┼───────────────┤\n",
              "│ dense (<span style=\"color: #0087ff; text-decoration-color: #0087ff\">Dense</span>)                   │ (<span style=\"color: #00d7ff; text-decoration-color: #00d7ff\">None</span>, <span style=\"color: #00af00; text-decoration-color: #00af00\">1</span>)              │         <span style=\"color: #00af00; text-decoration-color: #00af00\">4,097</span> │\n",
              "└─────────────────────────────────┴────────────────────────┴───────────────┘\n",
              "</pre>\n"
            ],
            "text/plain": [
              "┏━━━━━━━━━━━━━━━━━━━━━━━━━━━━━━━━━┳━━━━━━━━━━━━━━━━━━━━━━━━┳━━━━━━━━━━━━━━━┓\n",
              "┃\u001b[1m \u001b[0m\u001b[1mLayer (type)                   \u001b[0m\u001b[1m \u001b[0m┃\u001b[1m \u001b[0m\u001b[1mOutput Shape          \u001b[0m\u001b[1m \u001b[0m┃\u001b[1m \u001b[0m\u001b[1m      Param #\u001b[0m\u001b[1m \u001b[0m┃\n",
              "┡━━━━━━━━━━━━━━━━━━━━━━━━━━━━━━━━━╇━━━━━━━━━━━━━━━━━━━━━━━━╇━━━━━━━━━━━━━━━┩\n",
              "│ input_layer (\u001b[38;5;33mInputLayer\u001b[0m)        │ (\u001b[38;5;45mNone\u001b[0m, \u001b[38;5;34m128\u001b[0m)            │             \u001b[38;5;34m0\u001b[0m │\n",
              "├─────────────────────────────────┼────────────────────────┼───────────────┤\n",
              "│ embedding (\u001b[38;5;33mEmbedding\u001b[0m)           │ (\u001b[38;5;45mNone\u001b[0m, \u001b[38;5;34m128\u001b[0m, \u001b[38;5;34m32\u001b[0m)        │       \u001b[38;5;34m640,032\u001b[0m │\n",
              "├─────────────────────────────────┼────────────────────────┼───────────────┤\n",
              "│ lstm (\u001b[38;5;33mLSTM\u001b[0m)                     │ (\u001b[38;5;45mNone\u001b[0m, \u001b[38;5;34m128\u001b[0m, \u001b[38;5;34m32\u001b[0m)        │         \u001b[38;5;34m8,320\u001b[0m │\n",
              "├─────────────────────────────────┼────────────────────────┼───────────────┤\n",
              "│ flatten (\u001b[38;5;33mFlatten\u001b[0m)               │ (\u001b[38;5;45mNone\u001b[0m, \u001b[38;5;34m4096\u001b[0m)           │             \u001b[38;5;34m0\u001b[0m │\n",
              "├─────────────────────────────────┼────────────────────────┼───────────────┤\n",
              "│ dropout (\u001b[38;5;33mDropout\u001b[0m)               │ (\u001b[38;5;45mNone\u001b[0m, \u001b[38;5;34m4096\u001b[0m)           │             \u001b[38;5;34m0\u001b[0m │\n",
              "├─────────────────────────────────┼────────────────────────┼───────────────┤\n",
              "│ dense (\u001b[38;5;33mDense\u001b[0m)                   │ (\u001b[38;5;45mNone\u001b[0m, \u001b[38;5;34m1\u001b[0m)              │         \u001b[38;5;34m4,097\u001b[0m │\n",
              "└─────────────────────────────────┴────────────────────────┴───────────────┘\n"
            ]
          },
          "metadata": {},
          "output_type": "display_data"
        },
        {
          "data": {
            "text/html": [
              "<pre style=\"white-space:pre;overflow-x:auto;line-height:normal;font-family:Menlo,'DejaVu Sans Mono',consolas,'Courier New',monospace\"><span style=\"font-weight: bold\"> Total params: </span><span style=\"color: #00af00; text-decoration-color: #00af00\">652,449</span> (2.49 MB)\n",
              "</pre>\n"
            ],
            "text/plain": [
              "\u001b[1m Total params: \u001b[0m\u001b[38;5;34m652,449\u001b[0m (2.49 MB)\n"
            ]
          },
          "metadata": {},
          "output_type": "display_data"
        },
        {
          "data": {
            "text/html": [
              "<pre style=\"white-space:pre;overflow-x:auto;line-height:normal;font-family:Menlo,'DejaVu Sans Mono',consolas,'Courier New',monospace\"><span style=\"font-weight: bold\"> Trainable params: </span><span style=\"color: #00af00; text-decoration-color: #00af00\">652,449</span> (2.49 MB)\n",
              "</pre>\n"
            ],
            "text/plain": [
              "\u001b[1m Trainable params: \u001b[0m\u001b[38;5;34m652,449\u001b[0m (2.49 MB)\n"
            ]
          },
          "metadata": {},
          "output_type": "display_data"
        },
        {
          "data": {
            "text/html": [
              "<pre style=\"white-space:pre;overflow-x:auto;line-height:normal;font-family:Menlo,'DejaVu Sans Mono',consolas,'Courier New',monospace\"><span style=\"font-weight: bold\"> Non-trainable params: </span><span style=\"color: #00af00; text-decoration-color: #00af00\">0</span> (0.00 B)\n",
              "</pre>\n"
            ],
            "text/plain": [
              "\u001b[1m Non-trainable params: \u001b[0m\u001b[38;5;34m0\u001b[0m (0.00 B)\n"
            ]
          },
          "metadata": {},
          "output_type": "display_data"
        }
      ],
      "source": [
        "import keras\n",
        "from keras import layers, regularizers\n",
        "\n",
        "embedding_dim = 32\n",
        "inputs = keras.Input(shape=(max_len,), dtype=\"int32\")\n",
        "x = layers.Embedding(vocab_size, embedding_dim)(inputs)\n",
        "\n",
        "# LSTM with regularizer\n",
        "x = layers.LSTM(32,\n",
        "               return_sequences=True,\n",
        "               kernel_regularizer=regularizers.L2(0.01))(x)\n",
        "\n",
        "x = layers.Flatten()(x)\n",
        "x = layers.Dropout(0.15)(x)\n",
        "outputs = layers.Dense(1, activation=\"sigmoid\")(x)\n",
        "model = keras.Model(inputs, outputs)\n",
        "model.summary()"
      ]
    },
    {
      "cell_type": "markdown",
      "metadata": {
        "id": "ROapDcYWLmvB"
      },
      "source": [
        "### 4.3 Train the LSTM Model\n",
        "\n",
        "Now we train the model using our preprocessed sequences and binary labels.\n",
        "\n",
        "We use:\n",
        "- `validation_split=0.2`: to hold out 20% of training data for validation.\n",
        "- `epochs=10`: to iterate 10 times over the dataset.\n",
        "- `batch_size=128`: A high batch size to speed up training and also to reduce overfitting.\n",
        "\n",
        "Note that LSTMs are more computationally expensive than logistic regression, so training can take longer — especially with small batches.\n",
        "\n",
        "To control the overfitting we can use the callback `EarlyStopping` to stop the training if the validation loss does not improve for 3 epochs."
      ]
    },
    {
      "cell_type": "code",
      "execution_count": null,
      "metadata": {
        "id": "3rFW_hUdLmvB"
      },
      "outputs": [],
      "source": [
        "optimizer = keras.optimizers.Adam(learning_rate=0.001)\n",
        "\n",
        "model.compile(\n",
        "    optimizer=optimizer,\n",
        "    loss=keras.losses.BinaryCrossentropy(from_logits=False),\n",
        "    metrics=['accuracy', 'recall', 'precision']\n",
        ")"
      ]
    },
    {
      "cell_type": "code",
      "execution_count": null,
      "metadata": {
        "id": "p-xn14v1LmvB",
        "outputId": "b4d7fdb2-07f9-42fe-9fe5-8a6cdf6772ed"
      },
      "outputs": [
        {
          "name": "stdout",
          "output_type": "stream",
          "text": [
            "Epoch 1/20\n",
            "\u001b[1m157/157\u001b[0m \u001b[32m━━━━━━━━━━━━━━━━━━━━\u001b[0m\u001b[37m\u001b[0m \u001b[1m8s\u001b[0m 45ms/step - accuracy: 0.5229 - loss: 1.0028 - precision: 0.5240 - recall: 0.4451 - val_accuracy: 0.5248 - val_loss: 0.7198 - val_precision: 0.7191 - val_recall: 0.1096\n",
            "Epoch 2/20\n",
            "\u001b[1m157/157\u001b[0m \u001b[32m━━━━━━━━━━━━━━━━━━━━\u001b[0m\u001b[37m\u001b[0m \u001b[1m6s\u001b[0m 41ms/step - accuracy: 0.6956 - loss: 0.6072 - precision: 0.7172 - recall: 0.6287 - val_accuracy: 0.7628 - val_loss: 0.5149 - val_precision: 0.9370 - val_recall: 0.5727\n",
            "Epoch 3/20\n",
            "\u001b[1m157/157\u001b[0m \u001b[32m━━━━━━━━━━━━━━━━━━━━\u001b[0m\u001b[37m\u001b[0m \u001b[1m6s\u001b[0m 40ms/step - accuracy: 0.8790 - loss: 0.3105 - precision: 0.8770 - recall: 0.8784 - val_accuracy: 0.8246 - val_loss: 0.4125 - val_precision: 0.7700 - val_recall: 0.9348\n",
            "Epoch 4/20\n",
            "\u001b[1m157/157\u001b[0m \u001b[32m━━━━━━━━━━━━━━━━━━━━\u001b[0m\u001b[37m\u001b[0m \u001b[1m7s\u001b[0m 41ms/step - accuracy: 0.9099 - loss: 0.2416 - precision: 0.9059 - recall: 0.9130 - val_accuracy: 0.8392 - val_loss: 0.4123 - val_precision: 0.8100 - val_recall: 0.8940\n",
            "Epoch 5/20\n",
            "\u001b[1m157/157\u001b[0m \u001b[32m━━━━━━━━━━━━━━━━━━━━\u001b[0m\u001b[37m\u001b[0m \u001b[1m6s\u001b[0m 40ms/step - accuracy: 0.9420 - loss: 0.1670 - precision: 0.9393 - recall: 0.9443 - val_accuracy: 0.8264 - val_loss: 0.4205 - val_precision: 0.8980 - val_recall: 0.7435\n",
            "Epoch 6/20\n",
            "\u001b[1m157/157\u001b[0m \u001b[32m━━━━━━━━━━━━━━━━━━━━\u001b[0m\u001b[37m\u001b[0m \u001b[1m6s\u001b[0m 41ms/step - accuracy: 0.9495 - loss: 0.1552 - precision: 0.9479 - recall: 0.9510 - val_accuracy: 0.8304 - val_loss: 0.4782 - val_precision: 0.8811 - val_recall: 0.7710\n",
            "Epoch 7/20\n",
            "\u001b[1m157/157\u001b[0m \u001b[32m━━━━━━━━━━━━━━━━━━━━\u001b[0m\u001b[37m\u001b[0m \u001b[1m6s\u001b[0m 41ms/step - accuracy: 0.9623 - loss: 0.1185 - precision: 0.9638 - recall: 0.9608 - val_accuracy: 0.8272 - val_loss: 0.4598 - val_precision: 0.8682 - val_recall: 0.7789\n"
          ]
        }
      ],
      "source": [
        "from tensorflow.keras.callbacks import EarlyStopping\n",
        "\n",
        "history = model.fit(\n",
        "    X_train_seq, y_train_lstm,\n",
        "    validation_split=0.2,\n",
        "    epochs=20,\n",
        "    batch_size=128,\n",
        "    verbose=1,\n",
        "    callbacks=[EarlyStopping(monitor='val_loss', patience=3)]\n",
        ")"
      ]
    },
    {
      "cell_type": "markdown",
      "metadata": {
        "id": "WrweGi_tLmvB"
      },
      "source": [
        "### 4.4 Training Curves\n",
        "Let's visualize the training and validation accuracy/loss."
      ]
    },
    {
      "cell_type": "code",
      "execution_count": null,
      "metadata": {
        "id": "QDEkp9g-LmvB",
        "outputId": "d9960bd8-9e85-4cb3-cc12-7655b203a816"
      },
      "outputs": [
        {
          "data": {
            "image/png": "[encoded data removed]",
            "text/plain": [
              "<Figure size 1200x400 with 2 Axes>"
            ]
          },
          "metadata": {},
          "output_type": "display_data"
        }
      ],
      "source": [
        "plt.figure(figsize=(12,4))\n",
        "plt.subplot(1,2,1)\n",
        "plt.plot(history.history['loss'], label='Train Loss')\n",
        "plt.plot(history.history['val_loss'], label='Val Loss')\n",
        "plt.legend()\n",
        "plt.title('LSTM Loss')\n",
        "\n",
        "plt.subplot(1,2,2)\n",
        "plt.plot(history.history['accuracy'], label='Train Acc')\n",
        "plt.plot(history.history['val_accuracy'], label='Val Acc')\n",
        "plt.legend()\n",
        "plt.title('LSTM Accuracy')\n",
        "plt.show()"
      ]
    },
    {
      "cell_type": "markdown",
      "metadata": {
        "id": "CD48JyKZLmvC"
      },
      "source": [
        "### 4.5 Evaluate on Test Data"
      ]
    },
    {
      "cell_type": "code",
      "execution_count": null,
      "metadata": {
        "id": "-aab80KRLmvC",
        "outputId": "b4760b65-b33b-4502-f295-a59c87bf1546"
      },
      "outputs": [
        {
          "name": "stdout",
          "output_type": "stream",
          "text": [
            "\u001b[1m782/782\u001b[0m \u001b[32m━━━━━━━━━━━━━━━━━━━━\u001b[0m\u001b[37m\u001b[0m \u001b[1m3s\u001b[0m 4ms/step\n",
            "LSTM Classification Report:\n",
            "              precision    recall  f1-score   support\n",
            "\n",
            "           0       0.75      0.87      0.81     12500\n",
            "           1       0.85      0.72      0.78     12500\n",
            "\n",
            "    accuracy                           0.79     25000\n",
            "   macro avg       0.80      0.79      0.79     25000\n",
            "weighted avg       0.80      0.79      0.79     25000\n",
            "\n"
          ]
        }
      ],
      "source": [
        "y_pred_lstm_prob = model.predict(X_test_seq)\n",
        "y_pred_lstm = (y_pred_lstm_prob>0.5).astype(int)\n",
        "print(\"LSTM Classification Report:\")\n",
        "print(classification_report(y_test_lstm, y_pred_lstm))"
      ]
    },
    {
      "cell_type": "markdown",
      "metadata": {
        "id": "kNK5lWVpLmvC"
      },
      "source": [
        "## 5 : BERT (Text Classification)\n",
        "\n",
        "In this section we'll fine-tune **BERT (Base-uncased)** – a *bidirectional* transformer that already knows an enormous amount about language from pre-training on Wikipedia + Books.\n",
        "\n",
        "### 🤔 Why Move From LSTM to BERT?\n",
        "\n",
        "|                           | LSTM + Embeddings            | BERT (Transformer)                   |\n",
        "|---------------------------|------------------------------|--------------------------------------|\n",
        "| **Context Window**        | Limited, sequential          | Global (self-attention)              |\n",
        "| **Pre-training**          | Usually random embeddings    | 110 M parameters pre-trained on ~3 B words |\n",
        "| **Handles Long Ranges?**  | Struggles                    | Much better (all-to-all attention)   |\n",
        "| **Training Data Needed**  | More (from scratch)          | Less (only fine-tune)                |\n",
        "| **Compute / Memory**      | Lower                        | Higher                               |\n",
        "\n",
        "\n",
        "**Key idea:** BERT already understands syntax, semantics, and even some world-knowledg. Fine-tuning adapts that knowledge to *your* downstream task (e.g. sentiment, toxicity).\n"
      ]
    },
    {
      "cell_type": "code",
      "execution_count": 20,
      "metadata": {
        "id": "1Dnn7IiYLmvC"
      },
      "outputs": [],
      "source": [
        "from datasets import load_dataset, DatasetDict\n",
        "from transformers import (AutoTokenizer,\n",
        "                          AutoModelForSequenceClassification,\n",
        "                          TrainingArguments, Trainer,\n",
        "                          EarlyStoppingCallback)\n",
        "import evaluate, numpy as np, matplotlib.pyplot as plt\n",
        "from pathlib import Path\n",
        "import torch, random, os\n",
        "\n",
        "model_ckpt   = \"distilbert/distilbert-base-uncased\"   # ✔️ swap for \"microsoft/MiniLM-L6...\" if you need something lighter\n",
        "num_labels   = 2                     # binary classification\n",
        "max_length   = 128                   # truncate / pad length\n",
        "batch_size   = 64\n",
        "seed         = 42\n",
        "\n",
        "def set_seed(seed):\n",
        "    random.seed(seed); np.random.seed(seed); torch.manual_seed(seed); torch.cuda.manual_seed_all(seed)\n",
        "set_seed(seed)\n"
      ]
    },
    {
      "cell_type": "markdown",
      "metadata": {
        "id": "SFadNOD9LmvC"
      },
      "source": [
        "### 5.1 Pre-Processing (Tokenizer)\n",
        "\n",
        "BERT can't ingest raw text – we first:\n",
        "\n",
        "1. **Tokenize** into WordPieces (e.g. “`playing`” → “`play`”, “`##ing`”).  \n",
        "2. **Map** to integer IDs from BERT’s 30 522-wordpiece vocabulary.  \n",
        "3. **Pad/Truncate** every sequence to `max_length`.\n",
        "\n",
        "We’ll wrap this in a small function so 🤗 `Dataset.map` can apply it in parallel."
      ]
    },
    {
      "cell_type": "code",
      "execution_count": 21,
      "metadata": {
        "colab": {
          "base_uri": "https://localhost:8080/",
          "height": 49,
          "referenced_widgets": [
            "1978b39ae0834479b0b0e99c8618fd8f",
            "4d8609b107d74eefb58b78d6da160456",
            "ff8343d16be64b89ae6328c5099bfc77",
            "86c227b7871b44c6aca4b1f6cb0defba",
            "732cf088f859477c8c777930add73e9c",
            "412ccd8f851a45fda83f14380d47eedb",
            "9f4a3e48f9894ce0b19dda61bfb066f8",
            "5cd5be93a88140c6ab922c98367443e8",
            "77e49a6af5bc4f13a546993b76b8174c",
            "45e7f1892de44b1f9254f263d25addf5",
            "fc56ba71a6314130a1729f1ff5e26348"
          ]
        },
        "id": "Tf-JAaTlLmvC",
        "outputId": "4b829ab7-089f-4247-dd2a-f5124ee4dca1"
      },
      "outputs": [
        {
          "data": {
            "application/vnd.jupyter.widget-view+json": {
              "model_id": "1978b39ae0834479b0b0e99c8618fd8f",
              "version_major": 2,
              "version_minor": 0
            },
            "text/plain": [
              "Map:   0%|          | 0/25000 [00:00<?, ? examples/s]"
            ]
          },
          "metadata": {},
          "output_type": "display_data"
        }
      ],
      "source": [
        "# Load your dataset -----------------------------------------------------------\n",
        "raw = load_dataset(\"imdb\", split={\"train\":\"train\", \"test\":\"test\"})\n",
        "dataset = DatasetDict(train=raw[\"train\"], test=raw[\"test\"])\n",
        "\n",
        "# Tokeniser -------------------------------------------------------------------\n",
        "tok = AutoTokenizer.from_pretrained(model_ckpt)\n",
        "\n",
        "def tokenize(batch):\n",
        "    return tok(batch[\"text\"], padding=\"max_length\", truncation=True, max_length=max_length)\n",
        "\n",
        "dataset = dataset.map(tokenize, batched=True, remove_columns=[\"text\"])\n",
        "dataset = dataset.rename_column(\"label\", \"labels\")\n",
        "dataset.set_format(\"torch\")\n"
      ]
    },
    {
      "cell_type": "markdown",
      "metadata": {
        "id": "rV6A9IgILmvD"
      },
      "source": [
        "### 5.2 Build the BERT Model\n",
        "\n",
        "We’ll fine-tune **`BertForSequenceClassification`**:\n",
        "\n",
        "* An **embedding** + **12 Transformer layers** share weights with the pre-training check-point.  \n",
        "* A fresh **classification head** (dense layer) is added on top.\n"
      ]
    },
    {
      "cell_type": "code",
      "execution_count": 29,
      "metadata": {
        "colab": {
          "base_uri": "https://localhost:8080/"
        },
        "id": "lDEzFo8ILmvD",
        "outputId": "3e95fa88-69a2-4028-cceb-cb0275eaf2f6"
      },
      "outputs": [
        {
          "name": "stderr",
          "output_type": "stream",
          "text": [
            "Some weights of DistilBertForSequenceClassification were not initialized from the model checkpoint at distilbert/distilbert-base-uncased and are newly initialized: ['classifier.bias', 'classifier.weight', 'pre_classifier.bias', 'pre_classifier.weight']\n",
            "You should probably TRAIN this model on a down-stream task to be able to use it for predictions and inference.\n"
          ]
        }
      ],
      "source": [
        "model = AutoModelForSequenceClassification.from_pretrained(\n",
        "    model_ckpt,\n",
        "    num_labels = num_labels,\n",
        "    problem_type = \"single_label_classification\"\n",
        ")"
      ]
    },
    {
      "cell_type": "markdown",
      "metadata": {
        "id": "SZf-YadULmvD"
      },
      "source": [
        "### 5.3 Training (set up `Trainer` + Early Stopping)\n",
        "\n",
        "We use 🤗 **`Trainer`** which handles:\n",
        "\n",
        "* **Optimiser** (AdamW), LR-schedule, mixed-precision, etc.  \n",
        "* **Metrics** logging every *eval-steps*.  \n",
        "* **Callbacks** – we’ll plug in **`EarlyStoppingCallback`** to halt training if `eval_loss` hasn’t improved for **3 checkpoints**.\n",
        "\n",
        "`TrainingArguments` govern the run; tweak learning-rate, epochs, batch-size, etc."
      ]
    },
    {
      "cell_type": "code",
      "execution_count": 30,
      "metadata": {
        "id": "m4qzv4glLmvD"
      },
      "outputs": [],
      "source": [
        "metric_accuracy  = evaluate.load(\"accuracy\")\n",
        "metric_precision = evaluate.load(\"precision\")\n",
        "metric_recall    = evaluate.load(\"recall\")\n",
        "\n",
        "def compute_metrics(eval_pred):\n",
        "    logits, labels = eval_pred\n",
        "    preds = np.argmax(logits, axis=-1)\n",
        "\n",
        "    acc  = metric_accuracy.compute(predictions=preds, references=labels)\n",
        "    prec = metric_precision.compute(predictions=preds, references=labels, average=\"binary\")\n",
        "    rec  = metric_recall.compute(predictions=preds, references=labels, average=\"binary\")\n",
        "\n",
        "    # merge into a single dict that Trainer can log\n",
        "    return {\n",
        "        \"accuracy\":  acc[\"accuracy\"],\n",
        "        \"precision\": prec[\"precision\"],\n",
        "        \"recall\":    rec[\"recall\"],\n",
        "    }\n",
        "\n",
        "\n",
        "args = TrainingArguments(\n",
        "    output_dir          = \"./bert_cls\",\n",
        "    eval_strategy       = \"epoch\",\n",
        "    save_strategy       = \"epoch\",\n",
        "    logging_strategy    = \"steps\",\n",
        "    logging_steps       = 50,\n",
        "    learning_rate       = 2e-5,\n",
        "    per_device_train_batch_size = batch_size,\n",
        "    per_device_eval_batch_size  = batch_size,\n",
        "    num_train_epochs    = 5,\n",
        "    weight_decay        = 0.01,\n",
        "    load_best_model_at_end = True,\n",
        "    metric_for_best_model = \"eval_loss\",\n",
        "    save_total_limit    = 2,\n",
        "    seed                = seed,\n",
        "    report_to           = \"none\",  # Disable wandb\n",
        "    fp16                = True, # Enable mixed precision training\n",
        "    gradient_accumulation_steps = 2\n",
        ")\n",
        "\n",
        "trainer = Trainer(\n",
        "    model           = model,\n",
        "    args            = args,\n",
        "    train_dataset   = dataset[\"train\"],\n",
        "    eval_dataset    = dataset[\"test\"].shuffle(seed=seed),  # small held-out set for early-stop\n",
        "    compute_metrics = compute_metrics,\n",
        "    callbacks       = [EarlyStoppingCallback(early_stopping_patience=3)]\n",
        ")"
      ]
    },
    {
      "cell_type": "markdown",
      "metadata": {
        "id": "wviICpPKLmvD"
      },
      "source": [
        "### 5.4 Train the Model 🚀\n",
        "\n",
        "Just one line of code !"
      ]
    },
    {
      "cell_type": "code",
      "execution_count": 31,
      "metadata": {
        "colab": {
          "base_uri": "https://localhost:8080/",
          "height": 201
        },
        "id": "h25G9LSbLmvD",
        "outputId": "6d9e2f15-b14b-473c-cec9-726a43f0b122"
      },
      "outputs": [
        {
          "data": {
            "text/html": [
              "\n",
              "    <div>\n",
              "      \n",
              "      <progress value='975' max='975' style='width:300px; height:20px; vertical-align: middle;'></progress>\n",
              "      [975/975 08:17, Epoch 4/5]\n",
              "    </div>\n",
              "    <table border=\"1\" class=\"dataframe\">\n",
              "  <thead>\n",
              " <tr style=\"text-align: left;\">\n",
              "      <th>Epoch</th>\n",
              "      <th>Training Loss</th>\n",
              "      <th>Validation Loss</th>\n",
              "      <th>Accuracy</th>\n",
              "      <th>Precision</th>\n",
              "      <th>Recall</th>\n",
              "    </tr>\n",
              "  </thead>\n",
              "  <tbody>\n",
              "    <tr>\n",
              "      <td>1</td>\n",
              "      <td>0.343600</td>\n",
              "      <td>0.314421</td>\n",
              "      <td>0.865560</td>\n",
              "      <td>0.845624</td>\n",
              "      <td>0.894400</td>\n",
              "    </tr>\n",
              "    <tr>\n",
              "      <td>2</td>\n",
              "      <td>0.268300</td>\n",
              "      <td>0.294475</td>\n",
              "      <td>0.874520</td>\n",
              "      <td>0.887702</td>\n",
              "      <td>0.857520</td>\n",
              "    </tr>\n",
              "    <tr>\n",
              "      <td>3</td>\n",
              "      <td>0.216000</td>\n",
              "      <td>0.313074</td>\n",
              "      <td>0.875800</td>\n",
              "      <td>0.857360</td>\n",
              "      <td>0.901600</td>\n",
              "    </tr>\n",
              "    <tr>\n",
              "      <td>4</td>\n",
              "      <td>0.149000</td>\n",
              "      <td>0.339019</td>\n",
              "      <td>0.874720</td>\n",
              "      <td>0.867834</td>\n",
              "      <td>0.884080</td>\n",
              "    </tr>\n",
              "  </tbody>\n",
              "</table><p>"
            ],
            "text/plain": [
              "<IPython.core.display.HTML object>"
            ]
          },
          "metadata": {},
          "output_type": "display_data"
        }
      ],
      "source": [
        "train_output = trainer.train()"
      ]
    },
    {
      "cell_type": "markdown",
      "metadata": {
        "id": "Ql0wkH3lLmvE"
      },
      "source": [
        "### 5.5 Training Curves 📈\n",
        "\n",
        "Let’s plot **loss** & **accuracy** logged in `trainer.state.log_history`.  \n",
        "We’ll visualise *train* vs *eval* so you can spot over-fitting at a glance."
      ]
    },
    {
      "cell_type": "code",
      "execution_count": 35,
      "metadata": {
        "colab": {
          "base_uri": "https://localhost:8080/",
          "height": 803
        },
        "id": "1cRQIHvGLmvE",
        "outputId": "7f3c4c06-b48e-439e-c29d-15955ff39f8b"
      },
      "outputs": [
        {
          "data": {
            "image/png": "[encoded data removed]",
            "text/plain": [
              "<Figure size 600x400 with 1 Axes>"
            ]
          },
          "metadata": {},
          "output_type": "display_data"
        },
        {
          "data": {
            "image/png": "[encoded data removed]",
            "text/plain": [
              "<Figure size 600x400 with 1 Axes>"
            ]
          },
          "metadata": {},
          "output_type": "display_data"
        }
      ],
      "source": [
        "# Collect logs ---------------------------------------------------------------\n",
        "logs = trainer.state.log_history\n",
        "train_loss, eval_loss, eval_acc, steps_eval, steps_train = [], [], [], [], []\n",
        "\n",
        "for e in logs:\n",
        "    if 'loss' in e and e.get(\"epoch\") is not None:\n",
        "        train_loss.append(e['loss'])\n",
        "        steps_train.append(e['epoch'])\n",
        "    if 'eval_loss' in e:\n",
        "        eval_loss.append(e['eval_loss'])\n",
        "        eval_acc.append(e['eval_accuracy'])\n",
        "        steps_eval.append(e['epoch'])\n",
        "\n",
        "# Plot -----------------------------------------------------------------------\n",
        "plt.figure(figsize=(6,4))\n",
        "plt.plot(steps_train, train_loss, label=\"train-loss\")\n",
        "plt.plot(steps_eval, eval_loss, label=\"eval-loss\")\n",
        "plt.xlabel(\"Epoch\"); plt.ylabel(\"Loss\"); plt.legend(); plt.title(\"BERT Loss Curves\")\n",
        "plt.show()\n",
        "\n",
        "plt.figure(figsize=(6,4))\n",
        "plt.plot(steps[:len(eval_acc)], eval_acc, label=\"eval-accuracy\")\n",
        "plt.xlabel(\"Epoch\"); plt.ylabel(\"Accuracy\"); plt.legend(); plt.title(\"BERT Accuracy Curve\")\n",
        "plt.show()\n"
      ]
    },
    {
      "cell_type": "markdown",
      "metadata": {
        "id": "lAsOCigdLmvE"
      },
      "source": [
        "### 5.6 Final Evaluation (on the Test Set)\n",
        "\n",
        "We now evaluate on the **full** test split that was never touched during training.\n"
      ]
    },
    {
      "cell_type": "code",
      "execution_count": 36,
      "metadata": {
        "colab": {
          "base_uri": "https://localhost:8080/",
          "height": 75
        },
        "id": "xMFXEPYLLmvE",
        "outputId": "b1067c5e-51b7-4218-d8d4-315920471b72"
      },
      "outputs": [
        {
          "data": {
            "text/html": [
              "\n",
              "    <div>\n",
              "      \n",
              "      <progress value='391' max='391' style='width:300px; height:20px; vertical-align: middle;'></progress>\n",
              "      [391/391 00:24]\n",
              "    </div>\n",
              "    "
            ],
            "text/plain": [
              "<IPython.core.display.HTML object>"
            ]
          },
          "metadata": {},
          "output_type": "display_data"
        },
        {
          "name": "stdout",
          "output_type": "stream",
          "text": [
            "{'eval_loss': 0.29447534680366516, 'eval_accuracy': 0.87452, 'eval_precision': 0.8877018633540372, 'eval_recall': 0.85752, 'eval_runtime': 24.4135, 'eval_samples_per_second': 1024.024, 'eval_steps_per_second': 16.016, 'epoch': 4.976982097186701}\n"
          ]
        }
      ],
      "source": [
        "test_metrics = trainer.evaluate(dataset[\"test\"])\n",
        "print(test_metrics)"
      ]
    },
    {
      "cell_type": "code",
      "execution_count": 49,
      "metadata": {
        "colab": {
          "base_uri": "https://localhost:8080/"
        },
        "id": "opZJLHY4Vph0",
        "outputId": "b071bf4d-0402-4893-98c0-0dec2c5c164c"
      },
      "outputs": [
        {
          "name": "stderr",
          "output_type": "stream",
          "text": [
            "Some weights of the PyTorch model were not used when initializing the TF 2.0 model TFDistilBertModel: ['vocab_layer_norm.weight', 'vocab_transform.weight', 'vocab_layer_norm.bias', 'vocab_projector.bias', 'vocab_transform.bias']\n",
            "- This IS expected if you are initializing TFDistilBertModel from a PyTorch model trained on another task or with another architecture (e.g. initializing a TFBertForSequenceClassification model from a BertForPreTraining model).\n",
            "- This IS NOT expected if you are initializing TFDistilBertModel from a PyTorch model that you expect to be exactly identical (e.g. initializing a TFBertForSequenceClassification model from a BertForSequenceClassification model).\n",
            "All the weights of TFDistilBertModel were initialized from the PyTorch model.\n",
            "If your task is similar to the task the model of the checkpoint was trained on, you can already use TFDistilBertModel for predictions without further training.\n"
          ]
        },
        {
          "name": "stdout",
          "output_type": "stream",
          "text": [
            "Model: \"tf_distil_bert_model_5\"\n",
            "_________________________________________________________________\n",
            " Layer (type)                Output Shape              Param #   \n",
            "=================================================================\n",
            " distilbert (TFDistilBertMa  multiple                  66362880  \n",
            " inLayer)                                                        \n",
            "                                                                 \n",
            "=================================================================\n",
            "Total params: 66362880 (253.15 MB)\n",
            "Trainable params: 0 (0.00 Byte)\n",
            "Non-trainable params: 66362880 (253.15 MB)\n",
            "_________________________________________________________________\n"
          ]
        }
      ],
      "source": [
        "from transformers import AutoTokenizer, TFAutoModel\n",
        "\n",
        "seed              = 42\n",
        "model_name        = \"bert-base-uncased\"      # ✏️ switch to any BERT-like ckpt\n",
        "max_len           = 128\n",
        "batch_size        = 64\n",
        "epochs            = 5\n",
        "learning_rate     = 2e-5\n",
        "\n",
        "tf.keras.utils.set_random_seed(seed)\n",
        "tf.config.experimental.enable_op_determinism()\n",
        "\n",
        "# Load pre-trained BERT model and tokenizer\n",
        "tokenizer = AutoTokenizer.from_pretrained(model_ckpt)\n",
        "base_model = TFAutoModel.from_pretrained(model_ckpt)\n",
        "base_model.layers[0].trainable = False\n",
        "\n",
        "base_model.summary()"
      ]
    },
    {
      "cell_type": "code",
      "execution_count": 64,
      "metadata": {
        "id": "_zgEULPMVqF5"
      },
      "outputs": [],
      "source": [
        "# Create the model\n",
        "input_ids = keras.layers.Input(shape=(None,), dtype=tf.int32, name='input_ids')\n",
        "attention_mask = keras.layers.Input(shape=(None,), dtype=tf.int32, name='attention_mask')\n",
        "\n",
        "# Get BERT embeddings\n",
        "sequence_output = base_model({\"input_ids\": input_ids, \"attention_mask\": attention_mask})[0]\n",
        "\n",
        "attention_weights = keras.layers.Dense(1)(sequence_output)\n",
        "attention_weights = tf.squeeze(attention_weights, -1)\n",
        "\n",
        "# Apply mask before softmax (to avoid attending to padding tokens)\n",
        "mask = tf.cast(attention_mask, tf.float32)\n",
        "attention_weights = attention_weights * mask - 1e10 * (1 - mask)\n",
        "attention_weights = tf.nn.softmax(attention_weights, axis=1)\n",
        "\n",
        "# Get weighted sum of token embeddings\n",
        "context_vector = tf.reduce_sum(\n",
        "    sequence_output * tf.expand_dims(attention_weights, axis=-1),\n",
        "    axis=1\n",
        ")\n",
        "\n",
        "# Classifier\n",
        "x = keras.layers.Dropout(0.3)(context_vector)\n",
        "output = keras.layers.Dense(num_labels, activation='softmax')(x)"
      ]
    },
    {
      "cell_type": "code",
      "execution_count": 65,
      "metadata": {
        "colab": {
          "base_uri": "https://localhost:8080/"
        },
        "id": "W_XEsdvJVqq9",
        "outputId": "6d61e7f0-f291-472b-c47e-bd6b2f9a62bc"
      },
      "outputs": [
        {
          "name": "stdout",
          "output_type": "stream",
          "text": [
            "Model: \"model_7\"\n",
            "__________________________________________________________________________________________________\n",
            " Layer (type)                Output Shape                 Param #   Connected to                  \n",
            "==================================================================================================\n",
            " attention_mask (InputLayer  [(None, None)]               0         []                            \n",
            " )                                                                                                \n",
            "                                                                                                  \n",
            " input_ids (InputLayer)      [(None, None)]               0         []                            \n",
            "                                                                                                  \n",
            " tf_distil_bert_model_5 (TF  TFBaseModelOutput(last_hid   6636288   ['attention_mask[0][0]',      \n",
            " DistilBertModel)            den_state=(None, None, 768   0          'input_ids[0][0]']           \n",
            "                             ),                                                                   \n",
            "                              hidden_states=None, atten                                           \n",
            "                             tions=None)                                                          \n",
            "                                                                                                  \n",
            " dense_7 (Dense)             (None, None, 1)              769       ['tf_distil_bert_model_5[5][0]\n",
            "                                                                    ']                            \n",
            "                                                                                                  \n",
            " tf.cast_1 (TFOpLambda)      (None, None)                 0         ['attention_mask[0][0]']      \n",
            "                                                                                                  \n",
            " tf.compat.v1.squeeze_2 (TF  (None, None)                 0         ['dense_7[0][0]']             \n",
            " OpLambda)                                                                                        \n",
            "                                                                                                  \n",
            " tf.math.subtract_2 (TFOpLa  (None, None)                 0         ['tf.cast_1[0][0]']           \n",
            " mbda)                                                                                            \n",
            "                                                                                                  \n",
            " tf.math.multiply_4 (TFOpLa  (None, None)                 0         ['tf.compat.v1.squeeze_2[0][0]\n",
            " mbda)                                                              ',                            \n",
            "                                                                     'tf.cast_1[0][0]']           \n",
            "                                                                                                  \n",
            " tf.math.multiply_5 (TFOpLa  (None, None)                 0         ['tf.math.subtract_2[0][0]']  \n",
            " mbda)                                                                                            \n",
            "                                                                                                  \n",
            " tf.math.subtract_3 (TFOpLa  (None, None)                 0         ['tf.math.multiply_4[0][0]',  \n",
            " mbda)                                                               'tf.math.multiply_5[0][0]']  \n",
            "                                                                                                  \n",
            " tf.nn.softmax_2 (TFOpLambd  (None, None)                 0         ['tf.math.subtract_3[0][0]']  \n",
            " a)                                                                                               \n",
            "                                                                                                  \n",
            " tf.expand_dims_2 (TFOpLamb  (None, None, 1)              0         ['tf.nn.softmax_2[0][0]']     \n",
            " da)                                                                                              \n",
            "                                                                                                  \n",
            " tf.math.multiply_6 (TFOpLa  (None, None, 768)            0         ['tf_distil_bert_model_5[5][0]\n",
            " mbda)                                                              ',                            \n",
            "                                                                     'tf.expand_dims_2[0][0]']    \n",
            "                                                                                                  \n",
            " tf.math.reduce_sum_2 (TFOp  (None, 768)                  0         ['tf.math.multiply_6[0][0]']  \n",
            " Lambda)                                                                                          \n",
            "                                                                                                  \n",
            " dropout_119 (Dropout)       (None, 768)                  0         ['tf.math.reduce_sum_2[0][0]']\n",
            "                                                                                                  \n",
            " dense_8 (Dense)             (None, 2)                    1538      ['dropout_119[0][0]']         \n",
            "                                                                                                  \n",
            "==================================================================================================\n",
            "Total params: 66365187 (253.16 MB)\n",
            "Trainable params: 2307 (9.01 KB)\n",
            "Non-trainable params: 66362880 (253.15 MB)\n",
            "__________________________________________________________________________________________________\n"
          ]
        }
      ],
      "source": [
        "# Build and compile the model\n",
        "model = keras.Model(inputs=[input_ids, attention_mask], outputs=output)\n",
        "model.compile(\n",
        "    optimizer=keras.optimizers.Adam(learning_rate=2e-5),\n",
        "    loss='sparse_categorical_crossentropy',\n",
        "    metrics=['accuracy']\n",
        ")\n",
        "model.summary()"
      ]
    },
    {
      "cell_type": "code",
      "execution_count": 47,
      "metadata": {
        "id": "GfEnF5CIVrQE"
      },
      "outputs": [],
      "source": [
        "# Prepare data for Keras\n",
        "dataset = load_dataset(\"imdb\", split={\"train\":\"train\", \"test\":\"test\"})\n",
        "\n",
        "def prepare_tf_dataset(examples):\n",
        "    tokenized = tokenizer(\n",
        "        examples[\"text\"],\n",
        "        padding='max_length',\n",
        "        truncation=True,\n",
        "        max_length=128,\n",
        "        return_tensors=\"tf\"\n",
        "    )\n",
        "    return {\n",
        "        \"input_ids\": tokenized[\"input_ids\"],\n",
        "        \"attention_mask\": tokenized[\"attention_mask\"],\n",
        "        \"labels\": examples[\"label\"]\n",
        "    }\n",
        "\n",
        "train_ds = prepare_tf_dataset(dataset[\"train\"])\n",
        "test_ds = prepare_tf_dataset(dataset[\"test\"])\n",
        "\n",
        "# Convert to TF datasets\n",
        "train_ds = tf.data.Dataset.from_tensor_slices((\n",
        "    {\"input_ids\": train_ds[\"input_ids\"], \"attention_mask\": train_ds[\"attention_mask\"]},\n",
        "    train_ds[\"labels\"]\n",
        ")).batch(batch_size)\n",
        "\n",
        "test_ds = tf.data.Dataset.from_tensor_slices((\n",
        "    {\"input_ids\": test_ds[\"input_ids\"], \"attention_mask\": test_ds[\"attention_mask\"]},\n",
        "    test_ds[\"labels\"]\n",
        ")).batch(batch_size)"
      ]
    },
    {
      "cell_type": "code",
      "execution_count": 66,
      "metadata": {
        "colab": {
          "base_uri": "https://localhost:8080/",
          "height": 1000
        },
        "id": "Rut0aGoKVomt",
        "outputId": "b518c4bb-e5bf-421f-aebb-b75d6d85dec0"
      },
      "outputs": [
        {
          "name": "stdout",
          "output_type": "stream",
          "text": [
            "Epoch 1/5\n"
          ]
        },
        {
          "ename": "FailedPreconditionError",
          "evalue": "Graph execution error:\n\nDetected at node Adam/StatefulPartitionedCall_3 defined at (most recent call last):\n  File \"<frozen runpy>\", line 198, in _run_module_as_main\n\n  File \"<frozen runpy>\", line 88, in _run_code\n\n  File \"/usr/local/lib/python3.11/dist-packages/colab_kernel_launcher.py\", line 37, in <module>\n\n  File \"/usr/local/lib/python3.11/dist-packages/traitlets/config/application.py\", line 992, in launch_instance\n\n  File \"/usr/local/lib/python3.11/dist-packages/ipykernel/kernelapp.py\", line 712, in start\n\n  File \"/usr/local/lib/python3.11/dist-packages/tornado/platform/asyncio.py\", line 205, in start\n\n  File \"/usr/lib/python3.11/asyncio/base_events.py\", line 608, in run_forever\n\n  File \"/usr/lib/python3.11/asyncio/base_events.py\", line 1936, in _run_once\n\n  File \"/usr/lib/python3.11/asyncio/events.py\", line 84, in _run\n\n  File \"/usr/local/lib/python3.11/dist-packages/ipykernel/kernelbase.py\", line 510, in dispatch_queue\n\n  File \"/usr/local/lib/python3.11/dist-packages/ipykernel/kernelbase.py\", line 499, in process_one\n\n  File \"/usr/local/lib/python3.11/dist-packages/ipykernel/kernelbase.py\", line 406, in dispatch_shell\n\n  File \"/usr/local/lib/python3.11/dist-packages/ipykernel/kernelbase.py\", line 730, in execute_request\n\n  File \"/usr/local/lib/python3.11/dist-packages/ipykernel/ipkernel.py\", line 383, in do_execute\n\n  File \"/usr/local/lib/python3.11/dist-packages/ipykernel/zmqshell.py\", line 528, in run_cell\n\n  File \"/usr/local/lib/python3.11/dist-packages/IPython/core/interactiveshell.py\", line 2975, in run_cell\n\n  File \"/usr/local/lib/python3.11/dist-packages/IPython/core/interactiveshell.py\", line 3030, in _run_cell\n\n  File \"/usr/local/lib/python3.11/dist-packages/IPython/core/async_helpers.py\", line 78, in _pseudo_sync_runner\n\n  File \"/usr/local/lib/python3.11/dist-packages/IPython/core/interactiveshell.py\", line 3257, in run_cell_async\n\n  File \"/usr/local/lib/python3.11/dist-packages/IPython/core/interactiveshell.py\", line 3473, in run_ast_nodes\n\n  File \"/usr/local/lib/python3.11/dist-packages/IPython/core/interactiveshell.py\", line 3553, in run_code\n\n  File \"<ipython-input-66-949396ca0a28>\", line 9, in <cell line: 0>\n\n  File \"/usr/local/lib/python3.11/dist-packages/tf_keras/src/utils/traceback_utils.py\", line 65, in error_handler\n\n  File \"/usr/local/lib/python3.11/dist-packages/tf_keras/src/engine/training.py\", line 1804, in fit\n\n  File \"/usr/local/lib/python3.11/dist-packages/tf_keras/src/engine/training.py\", line 1398, in train_function\n\n  File \"/usr/local/lib/python3.11/dist-packages/tf_keras/src/engine/training.py\", line 1381, in step_function\n\n  File \"/usr/local/lib/python3.11/dist-packages/tf_keras/src/engine/training.py\", line 1370, in run_step\n\n  File \"/usr/local/lib/python3.11/dist-packages/tf_keras/src/engine/training.py\", line 1151, in train_step\n\n  File \"/usr/local/lib/python3.11/dist-packages/tf_keras/src/optimizers/optimizer.py\", line 623, in minimize\n\n  File \"/usr/local/lib/python3.11/dist-packages/tf_keras/src/optimizers/optimizer.py\", line 1309, in apply_gradients\n\n  File \"/usr/local/lib/python3.11/dist-packages/tf_keras/src/optimizers/optimizer.py\", line 731, in apply_gradients\n\n  File \"/usr/local/lib/python3.11/dist-packages/tf_keras/src/optimizers/optimizer.py\", line 1339, in _internal_apply_gradients\n\n  File \"/usr/local/lib/python3.11/dist-packages/tf_keras/src/optimizers/optimizer.py\", line 1431, in _distributed_apply_gradients_fn\n\n  File \"/usr/local/lib/python3.11/dist-packages/tf_keras/src/optimizers/optimizer.py\", line 1426, in apply_grad_to_update_var\n\nDNN library initialization failed. Look at the errors above for more details.\n\t [[{{node Adam/StatefulPartitionedCall_3}}]] [Op:__inference_train_function_84618]",
          "output_type": "error",
          "traceback": [
            "\u001b[0;31m---------------------------------------------------------------------------\u001b[0m",
            "\u001b[0;31mFailedPreconditionError\u001b[0m                   Traceback (most recent call last)",
            "\u001b[0;32m<ipython-input-66-949396ca0a28>\u001b[0m in \u001b[0;36m<cell line: 0>\u001b[0;34m()\u001b[0m\n\u001b[1;32m      7\u001b[0m \u001b[0;34m\u001b[0m\u001b[0m\n\u001b[1;32m      8\u001b[0m \u001b[0;31m# Train the model\u001b[0m\u001b[0;34m\u001b[0m\u001b[0;34m\u001b[0m\u001b[0m\n\u001b[0;32m----> 9\u001b[0;31m history = model.fit(\n\u001b[0m\u001b[1;32m     10\u001b[0m     \u001b[0mtrain_ds\u001b[0m\u001b[0;34m,\u001b[0m\u001b[0;34m\u001b[0m\u001b[0;34m\u001b[0m\u001b[0m\n\u001b[1;32m     11\u001b[0m     \u001b[0mepochs\u001b[0m\u001b[0;34m=\u001b[0m\u001b[0;36m5\u001b[0m\u001b[0;34m,\u001b[0m\u001b[0;34m\u001b[0m\u001b[0;34m\u001b[0m\u001b[0m\n",
            "\u001b[0;32m/usr/local/lib/python3.11/dist-packages/tf_keras/src/utils/traceback_utils.py\u001b[0m in \u001b[0;36merror_handler\u001b[0;34m(*args, **kwargs)\u001b[0m\n\u001b[1;32m     68\u001b[0m             \u001b[0;31m# To get the full stack trace, call:\u001b[0m\u001b[0;34m\u001b[0m\u001b[0;34m\u001b[0m\u001b[0m\n\u001b[1;32m     69\u001b[0m             \u001b[0;31m# `tf.debugging.disable_traceback_filtering()`\u001b[0m\u001b[0;34m\u001b[0m\u001b[0;34m\u001b[0m\u001b[0m\n\u001b[0;32m---> 70\u001b[0;31m             \u001b[0;32mraise\u001b[0m \u001b[0me\u001b[0m\u001b[0;34m.\u001b[0m\u001b[0mwith_traceback\u001b[0m\u001b[0;34m(\u001b[0m\u001b[0mfiltered_tb\u001b[0m\u001b[0;34m)\u001b[0m \u001b[0;32mfrom\u001b[0m \u001b[0;32mNone\u001b[0m\u001b[0;34m\u001b[0m\u001b[0;34m\u001b[0m\u001b[0m\n\u001b[0m\u001b[1;32m     71\u001b[0m         \u001b[0;32mfinally\u001b[0m\u001b[0;34m:\u001b[0m\u001b[0;34m\u001b[0m\u001b[0;34m\u001b[0m\u001b[0m\n\u001b[1;32m     72\u001b[0m             \u001b[0;32mdel\u001b[0m \u001b[0mfiltered_tb\u001b[0m\u001b[0;34m\u001b[0m\u001b[0;34m\u001b[0m\u001b[0m\n",
            "\u001b[0;32m/usr/local/lib/python3.11/dist-packages/tensorflow/python/eager/execute.py\u001b[0m in \u001b[0;36mquick_execute\u001b[0;34m(op_name, num_outputs, inputs, attrs, ctx, name)\u001b[0m\n\u001b[1;32m     57\u001b[0m       \u001b[0me\u001b[0m\u001b[0;34m.\u001b[0m\u001b[0mmessage\u001b[0m \u001b[0;34m+=\u001b[0m \u001b[0;34m\" name: \"\u001b[0m \u001b[0;34m+\u001b[0m \u001b[0mname\u001b[0m\u001b[0;34m\u001b[0m\u001b[0;34m\u001b[0m\u001b[0m\n\u001b[1;32m     58\u001b[0m     \u001b[0;32mraise\u001b[0m \u001b[0mcore\u001b[0m\u001b[0;34m.\u001b[0m\u001b[0m_status_to_exception\u001b[0m\u001b[0;34m(\u001b[0m\u001b[0me\u001b[0m\u001b[0;34m)\u001b[0m \u001b[0;32mfrom\u001b[0m \u001b[0;32mNone\u001b[0m\u001b[0;34m\u001b[0m\u001b[0;34m\u001b[0m\u001b[0m\n\u001b[0;32m---> 59\u001b[0;31m   \u001b[0;32mexcept\u001b[0m \u001b[0mTypeError\u001b[0m \u001b[0;32mas\u001b[0m \u001b[0me\u001b[0m\u001b[0;34m:\u001b[0m\u001b[0;34m\u001b[0m\u001b[0;34m\u001b[0m\u001b[0m\n\u001b[0m\u001b[1;32m     60\u001b[0m     \u001b[0mkeras_symbolic_tensors\u001b[0m \u001b[0;34m=\u001b[0m \u001b[0;34m[\u001b[0m\u001b[0mx\u001b[0m \u001b[0;32mfor\u001b[0m \u001b[0mx\u001b[0m \u001b[0;32min\u001b[0m \u001b[0minputs\u001b[0m \u001b[0;32mif\u001b[0m \u001b[0m_is_keras_symbolic_tensor\u001b[0m\u001b[0;34m(\u001b[0m\u001b[0mx\u001b[0m\u001b[0;34m)\u001b[0m\u001b[0;34m]\u001b[0m\u001b[0;34m\u001b[0m\u001b[0;34m\u001b[0m\u001b[0m\n\u001b[1;32m     61\u001b[0m     \u001b[0;32mif\u001b[0m \u001b[0mkeras_symbolic_tensors\u001b[0m\u001b[0;34m:\u001b[0m\u001b[0;34m\u001b[0m\u001b[0;34m\u001b[0m\u001b[0m\n",
            "\u001b[0;31mFailedPreconditionError\u001b[0m: Graph execution error:\n\nDetected at node Adam/StatefulPartitionedCall_3 defined at (most recent call last):\n  File \"<frozen runpy>\", line 198, in _run_module_as_main\n\n  File \"<frozen runpy>\", line 88, in _run_code\n\n  File \"/usr/local/lib/python3.11/dist-packages/colab_kernel_launcher.py\", line 37, in <module>\n\n  File \"/usr/local/lib/python3.11/dist-packages/traitlets/config/application.py\", line 992, in launch_instance\n\n  File \"/usr/local/lib/python3.11/dist-packages/ipykernel/kernelapp.py\", line 712, in start\n\n  File \"/usr/local/lib/python3.11/dist-packages/tornado/platform/asyncio.py\", line 205, in start\n\n  File \"/usr/lib/python3.11/asyncio/base_events.py\", line 608, in run_forever\n\n  File \"/usr/lib/python3.11/asyncio/base_events.py\", line 1936, in _run_once\n\n  File \"/usr/lib/python3.11/asyncio/events.py\", line 84, in _run\n\n  File \"/usr/local/lib/python3.11/dist-packages/ipykernel/kernelbase.py\", line 510, in dispatch_queue\n\n  File \"/usr/local/lib/python3.11/dist-packages/ipykernel/kernelbase.py\", line 499, in process_one\n\n  File \"/usr/local/lib/python3.11/dist-packages/ipykernel/kernelbase.py\", line 406, in dispatch_shell\n\n  File \"/usr/local/lib/python3.11/dist-packages/ipykernel/kernelbase.py\", line 730, in execute_request\n\n  File \"/usr/local/lib/python3.11/dist-packages/ipykernel/ipkernel.py\", line 383, in do_execute\n\n  File \"/usr/local/lib/python3.11/dist-packages/ipykernel/zmqshell.py\", line 528, in run_cell\n\n  File \"/usr/local/lib/python3.11/dist-packages/IPython/core/interactiveshell.py\", line 2975, in run_cell\n\n  File \"/usr/local/lib/python3.11/dist-packages/IPython/core/interactiveshell.py\", line 3030, in _run_cell\n\n  File \"/usr/local/lib/python3.11/dist-packages/IPython/core/async_helpers.py\", line 78, in _pseudo_sync_runner\n\n  File \"/usr/local/lib/python3.11/dist-packages/IPython/core/interactiveshell.py\", line 3257, in run_cell_async\n\n  File \"/usr/local/lib/python3.11/dist-packages/IPython/core/interactiveshell.py\", line 3473, in run_ast_nodes\n\n  File \"/usr/local/lib/python3.11/dist-packages/IPython/core/interactiveshell.py\", line 3553, in run_code\n\n  File \"<ipython-input-66-949396ca0a28>\", line 9, in <cell line: 0>\n\n  File \"/usr/local/lib/python3.11/dist-packages/tf_keras/src/utils/traceback_utils.py\", line 65, in error_handler\n\n  File \"/usr/local/lib/python3.11/dist-packages/tf_keras/src/engine/training.py\", line 1804, in fit\n\n  File \"/usr/local/lib/python3.11/dist-packages/tf_keras/src/engine/training.py\", line 1398, in train_function\n\n  File \"/usr/local/lib/python3.11/dist-packages/tf_keras/src/engine/training.py\", line 1381, in step_function\n\n  File \"/usr/local/lib/python3.11/dist-packages/tf_keras/src/engine/training.py\", line 1370, in run_step\n\n  File \"/usr/local/lib/python3.11/dist-packages/tf_keras/src/engine/training.py\", line 1151, in train_step\n\n  File \"/usr/local/lib/python3.11/dist-packages/tf_keras/src/optimizers/optimizer.py\", line 623, in minimize\n\n  File \"/usr/local/lib/python3.11/dist-packages/tf_keras/src/optimizers/optimizer.py\", line 1309, in apply_gradients\n\n  File \"/usr/local/lib/python3.11/dist-packages/tf_keras/src/optimizers/optimizer.py\", line 731, in apply_gradients\n\n  File \"/usr/local/lib/python3.11/dist-packages/tf_keras/src/optimizers/optimizer.py\", line 1339, in _internal_apply_gradients\n\n  File \"/usr/local/lib/python3.11/dist-packages/tf_keras/src/optimizers/optimizer.py\", line 1431, in _distributed_apply_gradients_fn\n\n  File \"/usr/local/lib/python3.11/dist-packages/tf_keras/src/optimizers/optimizer.py\", line 1426, in apply_grad_to_update_var\n\nDNN library initialization failed. Look at the errors above for more details.\n\t [[{{node Adam/StatefulPartitionedCall_3}}]] [Op:__inference_train_function_84618]"
          ]
        }
      ],
      "source": [
        "# Custom callback for early stopping\n",
        "early_stopping = keras.callbacks.EarlyStopping(\n",
        "    monitor='val_loss',\n",
        "    patience=3,\n",
        "    restore_best_weights=True\n",
        ")\n",
        "\n",
        "# Train the model\n",
        "history = model.fit(\n",
        "    train_ds,\n",
        "    epochs=5,\n",
        "    validation_data=test_ds,\n",
        "    callbacks=[early_stopping],\n",
        "    verbose=1\n",
        ")"
      ]
    },
    {
      "cell_type": "code",
      "execution_count": null,
      "metadata": {
        "id": "cdfpwwGeYow6"
      },
      "outputs": [],
      "source": [
        "plt.figure(figsize=(12,4))\n",
        "plt.subplot(1,2,1)\n",
        "plt.plot(history.history['loss'], label='Train Loss')\n",
        "plt.plot(history.history['val_loss'], label='Val Loss')\n",
        "plt.legend()\n",
        "plt.title('DistilBERT Loss')\n",
        "\n",
        "plt.subplot(1,2,2)\n",
        "plt.plot(history.history['accuracy'], label='Train Acc')\n",
        "plt.plot(history.history['val_accuracy'], label='Val Acc')\n",
        "plt.legend()\n",
        "plt.title('DistilBERT Accuracy')\n",
        "plt.show()"
      ]
    },
    {
      "cell_type": "code",
      "execution_count": null,
      "metadata": {
        "id": "BvoXC22oYpcc"
      },
      "outputs": [],
      "source": [
        "# Evaluate the model\n",
        "def compute_metrics_keras(y_true, y_pred):\n",
        "    y_pred_classes = np.argmax(y_pred, axis=-1)\n",
        "\n",
        "    acc = metric_accuracy.compute(predictions=y_pred_classes, references=y_true)\n",
        "    prec = metric_precision.compute(predictions=y_pred_classes, references=y_true, average=\"binary\")\n",
        "    rec = metric_recall.compute(predictions=y_pred_classes, references=y_true, average=\"binary\")\n",
        "\n",
        "    return {\n",
        "        \"accuracy\": acc[\"accuracy\"],\n",
        "        \"precision\": prec[\"precision\"],\n",
        "        \"recall\": rec[\"recall\"]\n",
        "    }\n",
        "\n",
        "y_pred = model.predict(test_ds)\n",
        "metrics = compute_metrics_keras(test_ds.unbatch().map(lambda x, y: y).as_numpy_iterator(), y_pred)\n",
        "print(metrics)"
      ]
    },
    {
      "cell_type": "markdown",
      "metadata": {
        "id": "w6a0yXG1LmvE"
      },
      "source": [
        "## ✅ BERT vs Others — Quick Recap\n",
        "\n",
        "| Model                        | Accuracy (test) | Training Time | Params (trainable) | Notes |\n",
        "|------------------------------|-----------------|---------------|--------------------|-------|\n",
        "| **TF-IDF + Logistic Reg.**   | *~0.88*         | ⏱️ seconds    |  20 K            | Strong baseline |\n",
        "| **LSTM + Embeddings**        | *~0.78*         | ⏱️ minutes    |  600k              | Needs careful tuning |\n",
        "| **Fine-tuned BERT**          | *~0.93*         | ⏱️ ~5-10 min  |  ~110 M (but only a few % heavily updated) | State-of-the-art context understanding |\n",
        "\n",
        "**Takeaway:**  \n",
        "BERT’s pre-training gives it a massive head-start, letting you reach higher accuracy with (often) *less* labelled data and *fewer* epochs than an LSTM trained from scratch.  \n",
        "Early-stopping keeps us from over-fitting, while plotting loss/accuracy curves helps diagnose training health 🩺.\n"
      ]
    },
    {
      "cell_type": "code",
      "execution_count": null,
      "metadata": {
        "id": "Ruwsyv3yLmvE"
      },
      "outputs": [],
      "source": []
    }
  ],
  "metadata": {
    "accelerator": "GPU",
    "colab": {
      "gpuType": "T4",
      "provenance": []
    },
    "kernelspec": {
      "display_name": "bse-nlp-DetGwK6_-py3.11",
      "language": "python",
      "name": "python3"
    },
    "language_info": {
      "codemirror_mode": {
        "name": "ipython",
        "version": 3
      },
      "file_extension": ".py",
      "mimetype": "text/x-python",
      "name": "python",
      "nbconvert_exporter": "python",
      "pygments_lexer": "ipython3",
      "version": "3.11.5"
    },
    "widgets": {
      "application/vnd.jupyter.widget-state+json": {
        "1978b39ae0834479b0b0e99c8618fd8f": {
          "model_module": "@jupyter-widgets/controls",
          "model_module_version": "1.5.0",
          "model_name": "HBoxModel",
          "state": {
            "_dom_classes": [],
            "_model_module": "@jupyter-widgets/controls",
            "_model_module_version": "1.5.0",
            "_model_name": "HBoxModel",
            "_view_count": null,
            "_view_module": "@jupyter-widgets/controls",
            "_view_module_version": "1.5.0",
            "_view_name": "HBoxView",
            "box_style": "",
            "children": [
              "IPY_MODEL_4d8609b107d74eefb58b78d6da160456",
              "IPY_MODEL_ff8343d16be64b89ae6328c5099bfc77",
              "IPY_MODEL_86c227b7871b44c6aca4b1f6cb0defba"
            ],
            "layout": "IPY_MODEL_732cf088f859477c8c777930add73e9c"
          }
        },
        "412ccd8f851a45fda83f14380d47eedb": {
          "model_module": "@jupyter-widgets/base",
          "model_module_version": "1.2.0",
          "model_name": "LayoutModel",
          "state": {
            "_model_module": "@jupyter-widgets/base",
            "_model_module_version": "1.2.0",
            "_model_name": "LayoutModel",
            "_view_count": null,
            "_view_module": "@jupyter-widgets/base",
            "_view_module_version": "1.2.0",
            "_view_name": "LayoutView",
            "align_content": null,
            "align_items": null,
            "align_self": null,
            "border": null,
            "bottom": null,
            "display": null,
            "flex": null,
            "flex_flow": null,
            "grid_area": null,
            "grid_auto_columns": null,
            "grid_auto_flow": null,
            "grid_auto_rows": null,
            "grid_column": null,
            "grid_gap": null,
            "grid_row": null,
            "grid_template_areas": null,
            "grid_template_columns": null,
            "grid_template_rows": null,
            "height": null,
            "justify_content": null,
            "justify_items": null,
            "left": null,
            "margin": null,
            "max_height": null,
            "max_width": null,
            "min_height": null,
            "min_width": null,
            "object_fit": null,
            "object_position": null,
            "order": null,
            "overflow": null,
            "overflow_x": null,
            "overflow_y": null,
            "padding": null,
            "right": null,
            "top": null,
            "visibility": null,
            "width": null
          }
        },
        "45e7f1892de44b1f9254f263d25addf5": {
          "model_module": "@jupyter-widgets/base",
          "model_module_version": "1.2.0",
          "model_name": "LayoutModel",
          "state": {
            "_model_module": "@jupyter-widgets/base",
            "_model_module_version": "1.2.0",
            "_model_name": "LayoutModel",
            "_view_count": null,
            "_view_module": "@jupyter-widgets/base",
            "_view_module_version": "1.2.0",
            "_view_name": "LayoutView",
            "align_content": null,
            "align_items": null,
            "align_self": null,
            "border": null,
            "bottom": null,
            "display": null,
            "flex": null,
            "flex_flow": null,
            "grid_area": null,
            "grid_auto_columns": null,
            "grid_auto_flow": null,
            "grid_auto_rows": null,
            "grid_column": null,
            "grid_gap": null,
            "grid_row": null,
            "grid_template_areas": null,
            "grid_template_columns": null,
            "grid_template_rows": null,
            "height": null,
            "justify_content": null,
            "justify_items": null,
            "left": null,
            "margin": null,
            "max_height": null,
            "max_width": null,
            "min_height": null,
            "min_width": null,
            "object_fit": null,
            "object_position": null,
            "order": null,
            "overflow": null,
            "overflow_x": null,
            "overflow_y": null,
            "padding": null,
            "right": null,
            "top": null,
            "visibility": null,
            "width": null
          }
        },
        "4d8609b107d74eefb58b78d6da160456": {
          "model_module": "@jupyter-widgets/controls",
          "model_module_version": "1.5.0",
          "model_name": "HTMLModel",
          "state": {
            "_dom_classes": [],
            "_model_module": "@jupyter-widgets/controls",
            "_model_module_version": "1.5.0",
            "_model_name": "HTMLModel",
            "_view_count": null,
            "_view_module": "@jupyter-widgets/controls",
            "_view_module_version": "1.5.0",
            "_view_name": "HTMLView",
            "description": "",
            "description_tooltip": null,
            "layout": "IPY_MODEL_412ccd8f851a45fda83f14380d47eedb",
            "placeholder": "​",
            "style": "IPY_MODEL_9f4a3e48f9894ce0b19dda61bfb066f8",
            "value": "Map: 100%"
          }
        },
        "5cd5be93a88140c6ab922c98367443e8": {
          "model_module": "@jupyter-widgets/base",
          "model_module_version": "1.2.0",
          "model_name": "LayoutModel",
          "state": {
            "_model_module": "@jupyter-widgets/base",
            "_model_module_version": "1.2.0",
            "_model_name": "LayoutModel",
            "_view_count": null,
            "_view_module": "@jupyter-widgets/base",
            "_view_module_version": "1.2.0",
            "_view_name": "LayoutView",
            "align_content": null,
            "align_items": null,
            "align_self": null,
            "border": null,
            "bottom": null,
            "display": null,
            "flex": null,
            "flex_flow": null,
            "grid_area": null,
            "grid_auto_columns": null,
            "grid_auto_flow": null,
            "grid_auto_rows": null,
            "grid_column": null,
            "grid_gap": null,
            "grid_row": null,
            "grid_template_areas": null,
            "grid_template_columns": null,
            "grid_template_rows": null,
            "height": null,
            "justify_content": null,
            "justify_items": null,
            "left": null,
            "margin": null,
            "max_height": null,
            "max_width": null,
            "min_height": null,
            "min_width": null,
            "object_fit": null,
            "object_position": null,
            "order": null,
            "overflow": null,
            "overflow_x": null,
            "overflow_y": null,
            "padding": null,
            "right": null,
            "top": null,
            "visibility": null,
            "width": null
          }
        },
        "732cf088f859477c8c777930add73e9c": {
          "model_module": "@jupyter-widgets/base",
          "model_module_version": "1.2.0",
          "model_name": "LayoutModel",
          "state": {
            "_model_module": "@jupyter-widgets/base",
            "_model_module_version": "1.2.0",
            "_model_name": "LayoutModel",
            "_view_count": null,
            "_view_module": "@jupyter-widgets/base",
            "_view_module_version": "1.2.0",
            "_view_name": "LayoutView",
            "align_content": null,
            "align_items": null,
            "align_self": null,
            "border": null,
            "bottom": null,
            "display": null,
            "flex": null,
            "flex_flow": null,
            "grid_area": null,
            "grid_auto_columns": null,
            "grid_auto_flow": null,
            "grid_auto_rows": null,
            "grid_column": null,
            "grid_gap": null,
            "grid_row": null,
            "grid_template_areas": null,
            "grid_template_columns": null,
            "grid_template_rows": null,
            "height": null,
            "justify_content": null,
            "justify_items": null,
            "left": null,
            "margin": null,
            "max_height": null,
            "max_width": null,
            "min_height": null,
            "min_width": null,
            "object_fit": null,
            "object_position": null,
            "order": null,
            "overflow": null,
            "overflow_x": null,
            "overflow_y": null,
            "padding": null,
            "right": null,
            "top": null,
            "visibility": null,
            "width": null
          }
        },
        "77e49a6af5bc4f13a546993b76b8174c": {
          "model_module": "@jupyter-widgets/controls",
          "model_module_version": "1.5.0",
          "model_name": "ProgressStyleModel",
          "state": {
            "_model_module": "@jupyter-widgets/controls",
            "_model_module_version": "1.5.0",
            "_model_name": "ProgressStyleModel",
            "_view_count": null,
            "_view_module": "@jupyter-widgets/base",
            "_view_module_version": "1.2.0",
            "_view_name": "StyleView",
            "bar_color": null,
            "description_width": ""
          }
        },
        "86c227b7871b44c6aca4b1f6cb0defba": {
          "model_module": "@jupyter-widgets/controls",
          "model_module_version": "1.5.0",
          "model_name": "HTMLModel",
          "state": {
            "_dom_classes": [],
            "_model_module": "@jupyter-widgets/controls",
            "_model_module_version": "1.5.0",
            "_model_name": "HTMLModel",
            "_view_count": null,
            "_view_module": "@jupyter-widgets/controls",
            "_view_module_version": "1.5.0",
            "_view_name": "HTMLView",
            "description": "",
            "description_tooltip": null,
            "layout": "IPY_MODEL_45e7f1892de44b1f9254f263d25addf5",
            "placeholder": "​",
            "style": "IPY_MODEL_fc56ba71a6314130a1729f1ff5e26348",
            "value": " 25000/25000 [00:25&lt;00:00, 881.76 examples/s]"
          }
        },
        "9f4a3e48f9894ce0b19dda61bfb066f8": {
          "model_module": "@jupyter-widgets/controls",
          "model_module_version": "1.5.0",
          "model_name": "DescriptionStyleModel",
          "state": {
            "_model_module": "@jupyter-widgets/controls",
            "_model_module_version": "1.5.0",
            "_model_name": "DescriptionStyleModel",
            "_view_count": null,
            "_view_module": "@jupyter-widgets/base",
            "_view_module_version": "1.2.0",
            "_view_name": "StyleView",
            "description_width": ""
          }
        },
        "fc56ba71a6314130a1729f1ff5e26348": {
          "model_module": "@jupyter-widgets/controls",
          "model_module_version": "1.5.0",
          "model_name": "DescriptionStyleModel",
          "state": {
            "_model_module": "@jupyter-widgets/controls",
            "_model_module_version": "1.5.0",
            "_model_name": "DescriptionStyleModel",
            "_view_count": null,
            "_view_module": "@jupyter-widgets/base",
            "_view_module_version": "1.2.0",
            "_view_name": "StyleView",
            "description_width": ""
          }
        },
        "ff8343d16be64b89ae6328c5099bfc77": {
          "model_module": "@jupyter-widgets/controls",
          "model_module_version": "1.5.0",
          "model_name": "FloatProgressModel",
          "state": {
            "_dom_classes": [],
            "_model_module": "@jupyter-widgets/controls",
            "_model_module_version": "1.5.0",
            "_model_name": "FloatProgressModel",
            "_view_count": null,
            "_view_module": "@jupyter-widgets/controls",
            "_view_module_version": "1.5.0",
            "_view_name": "ProgressView",
            "bar_style": "success",
            "description": "",
            "description_tooltip": null,
            "layout": "IPY_MODEL_5cd5be93a88140c6ab922c98367443e8",
            "max": 25000,
            "min": 0,
            "orientation": "horizontal",
            "style": "IPY_MODEL_77e49a6af5bc4f13a546993b76b8174c",
            "value": 25000
          }
        }
      }
    }
  },
  "nbformat": 4,
  "nbformat_minor": 0
}
