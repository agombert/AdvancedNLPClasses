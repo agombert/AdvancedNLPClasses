{
  "cells": [
    {
      "cell_type": "markdown",
      "metadata": {
        "id": "hSePAhRNLmu6"
      },
      "source": [
        "# BERT Implementation with HF vs LSTM Text Classification vs. TF-IDF + Logistic Regression\n",
        "\n",
        "In this notebook, we compare three different approaches to text classification:\n",
        "\n",
        "1. **Logistic Regression** on top of TF-IDF features\n",
        "2. **LSTM** (using Keras) trained end-to-end\n",
        "3. **BERT** (using Hugging Face) trained end-to-end\n",
        "\n",
        "We'll explore:\n",
        "- The architectures for each approach\n",
        "- Their respective training processes\n",
        "- Visualization of results and metrics\n",
        "- How each model interprets words in the final decision\n",
        "- Potential improvements for the BERT model"
      ]
    },
    {
      "cell_type": "markdown",
      "metadata": {
        "id": "1r5vdQV2Lmu7"
      },
      "source": [
        "## 1. Environment Setup & Imports\n",
        "\n",
        "We'll install any dependencies (if needed) and import the necessary libraries."
      ]
    },
    {
      "cell_type": "code",
      "execution_count": 1,
      "metadata": {
        "colab": {
          "base_uri": "https://localhost:8080/"
        },
        "id": "yyMImr0gLmu7",
        "outputId": "de75ed5b-8000-46f0-db6a-f1be6755ab5f",
        "tags": []
      },
      "outputs": [
        {
          "name": "stderr",
          "output_type": "stream",
          "text": [
            "2025-05-05 11:11:03.608750: I tensorflow/core/util/port.cc:113] oneDNN custom operations are on. You may see slightly different numerical results due to floating-point round-off errors from different computation orders. To turn them off, set the environment variable `TF_ENABLE_ONEDNN_OPTS=0`.\n",
            "2025-05-05 11:11:03.643424: E external/local_xla/xla/stream_executor/cuda/cuda_dnn.cc:9261] Unable to register cuDNN factory: Attempting to register factory for plugin cuDNN when one has already been registered\n",
            "2025-05-05 11:11:03.643448: E external/local_xla/xla/stream_executor/cuda/cuda_fft.cc:607] Unable to register cuFFT factory: Attempting to register factory for plugin cuFFT when one has already been registered\n",
            "2025-05-05 11:11:03.644375: E external/local_xla/xla/stream_executor/cuda/cuda_blas.cc:1515] Unable to register cuBLAS factory: Attempting to register factory for plugin cuBLAS when one has already been registered\n",
            "2025-05-05 11:11:03.650611: I tensorflow/core/platform/cpu_feature_guard.cc:182] This TensorFlow binary is optimized to use available CPU instructions in performance-critical operations.\n",
            "To enable the following instructions: AVX2 AVX512F AVX512_VNNI FMA, in other operations, rebuild TensorFlow with the appropriate compiler flags.\n",
            "2025-05-05 11:11:04.384736: W tensorflow/compiler/tf2tensorrt/utils/py_utils.cc:38] TF-TRT Warning: Could not find TensorRT\n"
          ]
        }
      ],
      "source": [
        "import numpy as np\n",
        "import pandas as pd\n",
        "import matplotlib.pyplot as plt\n",
        "import seaborn as sns\n",
        "from datasets import load_dataset\n",
        "from sklearn.model_selection import train_test_split\n",
        "from sklearn.feature_extraction.text import TfidfVectorizer\n",
        "from sklearn.linear_model import LogisticRegression\n",
        "from sklearn.metrics import confusion_matrix, classification_report\n",
        "\n",
        "import os\n",
        "os.environ[\"TF_USE_LEGACY_KERAS\"] = \"1\" # This is needed for the LSTM model on GPU\n",
        "os.environ[\"KERAS_BACKEND\"] = \"tensorflow\"  # Use TensorFlow backend\n",
        "\n",
        "import tensorflow as tf\n",
        "from tensorflow import keras\n",
        "from tensorflow.keras import layers\n",
        "\n",
        "from transformers import (AutoTokenizer, AutoModelForSequenceClassification,\n",
        "                          DataCollatorWithPadding, TrainingArguments, Trainer)\n",
        "import evaluate, torch, os, random, json\n",
        "\n",
        "np.random.seed(42)"
      ]
    },
    {
      "cell_type": "markdown",
      "metadata": {
        "id": "UV7PuqNoLmu8"
      },
      "source": [
        "## 2. Data Loading & Preprocessing\n",
        "\n",
        "For demonstration, we'll assume we have a text classification dataset named `df`. It contains two columns:\n",
        "- `text` : The text field\n",
        "- `label`: The target label (0 or 1, for binary classification, or more classes)\n",
        "\n",
        "We'll split the data into **train** and **test** sets, then further create a small dev set if needed."
      ]
    },
    {
      "cell_type": "code",
      "execution_count": 2,
      "metadata": {
        "id": "GqcC7KYbLmu8",
        "outputId": "3113b509-76c9-4a19-ecdf-7ee291a165c3",
        "tags": []
      },
      "outputs": [
        {
          "name": "stdout",
          "output_type": "stream",
          "text": [
            "DatasetDict({\n",
            "    train: Dataset({\n",
            "        features: ['text', 'label'],\n",
            "        num_rows: 25000\n",
            "    })\n",
            "    test: Dataset({\n",
            "        features: ['text', 'label'],\n",
            "        num_rows: 25000\n",
            "    })\n",
            "    unsupervised: Dataset({\n",
            "        features: ['text', 'label'],\n",
            "        num_rows: 50000\n",
            "    })\n",
            "})\n"
          ]
        }
      ],
      "source": [
        "# Load the imdb\n",
        "dataset = load_dataset('imdb')\n",
        "print(dataset)\n",
        "\n",
        "\n",
        "# Convert to pandas DataFrame for easier manipulation\n",
        "train_df = dataset['train'].shuffle(seed=42).to_pandas()\n",
        "test_df = dataset['test'].shuffle(seed=42).to_pandas()\n",
        "# Clean the memory\n",
        "del dataset"
      ]
    },
    {
      "cell_type": "markdown",
      "metadata": {
        "id": "X8qGTLSWLmu9"
      },
      "source": [
        "## 3. TF-IDF + Logistic Regression\n",
        "\n",
        "We'll:\n",
        "1. Vectorize our text using TF-IDF.\n",
        "2. Train a Logistic Regression model.\n",
        "3. Evaluate on the test set.\n",
        "4. Visualize results.\n"
      ]
    },
    {
      "cell_type": "code",
      "execution_count": 3,
      "metadata": {
        "id": "fRucDkOMLmu-",
        "outputId": "a23da300-7460-4513-88b1-61561d4998e3"
      },
      "outputs": [
        {
          "name": "stdout",
          "output_type": "stream",
          "text": [
            "X_train shape: (25000, 20000) , y_train shape: (25000,)\n"
          ]
        }
      ],
      "source": [
        "# 3.1 Vectorize text with TF-IDF\n",
        "tfidf_vec = TfidfVectorizer(stop_words='english', min_df=5, max_features=20000)\n",
        "\n",
        "X_train_tfidf = tfidf_vec.fit_transform(train_df['text'])\n",
        "y_train = train_df['label'].values\n",
        "\n",
        "X_test_tfidf = tfidf_vec.transform(test_df['text'])\n",
        "y_test = test_df['label'].values\n",
        "\n",
        "print(\"X_train shape:\", X_train_tfidf.shape, \", y_train shape:\", y_train.shape)"
      ]
    },
    {
      "cell_type": "code",
      "execution_count": 4,
      "metadata": {
        "id": "N6C0IxCeLmu-",
        "outputId": "92558089-4e9d-4ca4-c15e-8a48ab64dbca"
      },
      "outputs": [
        {
          "name": "stdout",
          "output_type": "stream",
          "text": [
            "LogisticRegression Test Classification Report:\n",
            "              precision    recall  f1-score   support\n",
            "\n",
            "           0       0.88      0.88      0.88     12500\n",
            "           1       0.88      0.88      0.88     12500\n",
            "\n",
            "    accuracy                           0.88     25000\n",
            "   macro avg       0.88      0.88      0.88     25000\n",
            "weighted avg       0.88      0.88      0.88     25000\n",
            "\n",
            "Confusion Matrix: [[10985  1515]\n",
            " [ 1479 11021]]\n"
          ]
        }
      ],
      "source": [
        "# 3.2 Train a Logistic Regression model\n",
        "logreg = LogisticRegression()\n",
        "logreg.fit(X_train_tfidf, y_train)\n",
        "\n",
        "# Evaluate on test\n",
        "y_pred_logreg = logreg.predict(X_test_tfidf)\n",
        "\n",
        "print(\"LogisticRegression Test Classification Report:\")\n",
        "print(classification_report(y_test, y_pred_logreg))\n",
        "cm_logreg = confusion_matrix(y_test, y_pred_logreg)\n",
        "print(\"Confusion Matrix:\", cm_logreg)"
      ]
    },
    {
      "cell_type": "markdown",
      "metadata": {
        "id": "zpw0x7fXLmu-"
      },
      "source": [
        "### Visualization of Confusion Matrix"
      ]
    },
    {
      "cell_type": "code",
      "execution_count": null,
      "metadata": {
        "id": "tp7yffowLmu-",
        "outputId": "32bc0acf-538b-4aba-d291-5d7afcfd71cd"
      },
      "outputs": [
        {
          "data": {
            "image/png": "[encoded data removed]",
            "text/plain": [
              "<Figure size 400x400 with 1 Axes>"
            ]
          },
          "metadata": {},
          "output_type": "display_data"
        }
      ],
      "source": [
        "plt.figure(figsize=(4,4))\n",
        "sns.heatmap(cm_logreg, annot=True, cmap='Blues', fmt='d', cbar=False)\n",
        "plt.title(\"LogReg TF-IDF - Confusion Matrix\")\n",
        "plt.xlabel(\"Predicted\")\n",
        "plt.ylabel(\"True\")\n",
        "plt.show()"
      ]
    },
    {
      "cell_type": "markdown",
      "metadata": {
        "id": "vkmlft9eLmu_"
      },
      "source": [
        "## 4: LSTM Classification\n",
        "\n",
        "For the whole explanation on the LSTM classification, please refer to the [Session 4](https://github.com/agomberto/AdvancedNLPClasses/blob/main/docs/chapter2/Session_2_3_LSTM_Classif.ipynb).\n",
        "\n",
        "Here we will directly train the model.\n",
        "\n",
        "### 4.1 Preprocessing the Text for LSTM"
      ]
    },
    {
      "cell_type": "code",
      "execution_count": 6,
      "metadata": {
        "id": "uV_PO6RkLmvA",
        "outputId": "bb75ddba-cd63-43e5-9b61-682ed8bb9e7e"
      },
      "outputs": [
        {
          "name": "stdout",
          "output_type": "stream",
          "text": [
            "20001\n"
          ]
        },
        {
          "data": {
            "text/plain": [
              "((25000, 128), (25000,))"
            ]
          },
          "execution_count": 6,
          "metadata": {},
          "output_type": "execute_result"
        }
      ],
      "source": [
        "from tensorflow.keras.preprocessing.text import Tokenizer\n",
        "from tensorflow.keras.preprocessing.sequence import pad_sequences\n",
        "\n",
        "#Create the tokenizer with the same vocabulary as the TF-IDF vectorizer\n",
        "custom_vocab = tfidf_vec.vocabulary_\n",
        "vocab_size = len(custom_vocab) + 1 # +1 for the OOV token\n",
        "tokenizer = Tokenizer(num_words=vocab_size, oov_token=\"<OOV>\")\n",
        "\n",
        "# Manually assign word index\n",
        "tokenizer.word_index = {word: i for i, word in enumerate(custom_vocab)}\n",
        "tokenizer.word_index[tokenizer.oov_token] = len(custom_vocab)\n",
        "print(len(tokenizer.word_index))\n",
        "\n",
        "##Let's increase the max length of the sequences to 128\n",
        "max_len = 128\n",
        "\n",
        "# Let's create a function to convert the text to a sequence of token IDs and pad them to the same length: 128\n",
        "\n",
        "def text_to_seq(df_col, max_len=128):\n",
        "    seqs = tokenizer.texts_to_sequences(df_col)\n",
        "    # pad\n",
        "    seqs_padded = pad_sequences(seqs, maxlen=max_len, padding='post', truncating='post')\n",
        "    return seqs_padded\n",
        "\n",
        "X_train_seq = text_to_seq(train_df['text'].map(lambda x: x.lower()), max_len=max_len)\n",
        "X_test_seq = text_to_seq(test_df['text'].map(lambda x: x.lower()), max_len=max_len)\n",
        "\n",
        "y_train_lstm = train_df['label'].values\n",
        "y_test_lstm  = test_df['label'].values\n",
        "\n",
        "X_train_seq.shape, y_train_lstm.shape"
      ]
    },
    {
      "cell_type": "markdown",
      "metadata": {
        "id": "TPHR1BcNLmvA"
      },
      "source": [
        "### 4.2 Build the LSTM Model\n",
        "\n",
        "Now that we have our sequences ready and padded, we can build an LSTM-based neural network using Keras.\n",
        "\n",
        "We’ll use a simple architecture:\n",
        "- An **Embedding layer** to learn word representations.\n",
        "- A single **LSTM layer** to process the sequence.\n",
        "- A **Dense layer** with a sigmoid activation to output binary predictions.\n",
        "\n",
        "The optimizer is Adam with a learning rate of 0.01."
      ]
    },
    {
      "cell_type": "code",
      "execution_count": 7,
      "metadata": {
        "id": "gehkCNhcLmvA",
        "outputId": "bb5b502b-5609-4963-b615-76963d1b952f"
      },
      "outputs": [
        {
          "name": "stdout",
          "output_type": "stream",
          "text": [
            "Model: \"model\"\n",
            "_________________________________________________________________\n",
            " Layer (type)                Output Shape              Param #   \n",
            "=================================================================\n",
            " input_1 (InputLayer)        [(None, 128)]             0         \n",
            "                                                                 \n",
            " embedding (Embedding)       (None, 128, 32)           640032    \n",
            "                                                                 \n",
            " lstm (LSTM)                 (None, 128, 32)           8320      \n",
            "                                                                 \n"
          ]
        },
        {
          "name": "stderr",
          "output_type": "stream",
          "text": [
            "2025-05-05 11:11:25.038066: I external/local_xla/xla/stream_executor/cuda/cuda_executor.cc:901] successful NUMA node read from SysFS had negative value (-1), but there must be at least one NUMA node, so returning NUMA node zero. See more at https://github.com/torvalds/linux/blob/v6.0/Documentation/ABI/testing/sysfs-bus-pci#L344-L355\n",
            "2025-05-05 11:11:25.042701: W tensorflow/core/common_runtime/gpu/gpu_device.cc:2256] Cannot dlopen some GPU libraries. Please make sure the missing libraries mentioned above are installed properly if you would like to use GPU. Follow the guide at https://www.tensorflow.org/install/gpu for how to download and setup the required libraries for your platform.\n",
            "Skipping registering GPU devices...\n"
          ]
        },
        {
          "name": "stdout",
          "output_type": "stream",
          "text": [
            " flatten (Flatten)           (None, 4096)              0         \n",
            "                                                                 \n",
            " dropout (Dropout)           (None, 4096)              0         \n",
            "                                                                 \n",
            " dense (Dense)               (None, 1)                 4097      \n",
            "                                                                 \n",
            "=================================================================\n",
            "Total params: 652449 (2.49 MB)\n",
            "Trainable params: 652449 (2.49 MB)\n",
            "Non-trainable params: 0 (0.00 Byte)\n",
            "_________________________________________________________________\n"
          ]
        }
      ],
      "source": [
        "import keras\n",
        "from keras import layers, regularizers\n",
        "\n",
        "embedding_dim = 32\n",
        "inputs = keras.Input(shape=(max_len,), dtype=\"int32\")\n",
        "x = layers.Embedding(vocab_size, embedding_dim)(inputs)\n",
        "\n",
        "# LSTM with regularizer\n",
        "x = layers.LSTM(32,\n",
        "               return_sequences=True,\n",
        "               kernel_regularizer=regularizers.L2(0.01))(x)\n",
        "\n",
        "x = layers.Flatten()(x)\n",
        "x = layers.Dropout(0.15)(x)\n",
        "outputs = layers.Dense(1, activation=\"sigmoid\")(x)\n",
        "model = keras.Model(inputs, outputs)\n",
        "model.summary()"
      ]
    },
    {
      "cell_type": "markdown",
      "metadata": {
        "id": "ROapDcYWLmvB"
      },
      "source": [
        "### 4.3 Train the LSTM Model\n",
        "\n",
        "Now we train the model using our preprocessed sequences and binary labels.\n",
        "\n",
        "We use:\n",
        "- `validation_split=0.2`: to hold out 20% of training data for validation.\n",
        "- `epochs=10`: to iterate 10 times over the dataset.\n",
        "- `batch_size=128`: A high batch size to speed up training and also to reduce overfitting.\n",
        "\n",
        "Note that LSTMs are more computationally expensive than logistic regression, so training can take longer — especially with small batches.\n",
        "\n",
        "To control the overfitting we can use the callback `EarlyStopping` to stop the training if the validation loss does not improve for 3 epochs."
      ]
    },
    {
      "cell_type": "code",
      "execution_count": 8,
      "metadata": {
        "id": "3rFW_hUdLmvB"
      },
      "outputs": [],
      "source": [
        "from tensorflow.keras.metrics import Recall, Precision\n",
        "\n",
        "optimizer = keras.optimizers.Adam(learning_rate=0.001)\n",
        "\n",
        "# Then compile with the correct metric objects\n",
        "model.compile(\n",
        "    optimizer=optimizer,\n",
        "    loss=keras.losses.BinaryCrossentropy(from_logits=False),\n",
        "    metrics=['accuracy', Recall(), Precision()]\n",
        ")"
      ]
    },
    {
      "cell_type": "code",
      "execution_count": 9,
      "metadata": {
        "id": "p-xn14v1LmvB",
        "outputId": "b4d7fdb2-07f9-42fe-9fe5-8a6cdf6772ed"
      },
      "outputs": [
        {
          "name": "stdout",
          "output_type": "stream",
          "text": [
            "Epoch 1/20\n"
          ]
        },
        {
          "name": "stdout",
          "output_type": "stream",
          "text": [
            "157/157 [==============================] - 10s 39ms/step - loss: 0.7218 - accuracy: 0.6925 - recall: 0.6582 - precision: 0.5813 - val_loss: 0.4788 - val_accuracy: 0.8064 - val_recall: 0.6960 - val_precision: 0.7081\n",
            "Epoch 2/20\n",
            "157/157 [==============================] - 6s 36ms/step - loss: 0.2989 - accuracy: 0.8913 - recall: 0.7491 - precision: 0.7688 - val_loss: 0.3881 - val_accuracy: 0.8410 - val_recall: 0.7881 - val_precision: 0.8005\n",
            "Epoch 3/20\n",
            "157/157 [==============================] - 6s 36ms/step - loss: 0.1876 - accuracy: 0.9392 - recall: 0.8165 - precision: 0.8247 - val_loss: 0.4466 - val_accuracy: 0.8336 - val_recall: 0.8351 - val_precision: 0.8405\n",
            "Epoch 4/20\n",
            "157/157 [==============================] - 6s 36ms/step - loss: 0.1205 - accuracy: 0.9647 - recall: 0.8514 - precision: 0.8543 - val_loss: 0.6309 - val_accuracy: 0.8064 - val_recall: 0.8590 - val_precision: 0.8662\n",
            "Epoch 5/20\n",
            "157/157 [==============================] - 6s 36ms/step - loss: 0.0881 - accuracy: 0.9752 - recall: 0.8662 - precision: 0.8768 - val_loss: 0.6237 - val_accuracy: 0.8214 - val_recall: 0.8742 - val_precision: 0.8835\n"
          ]
        }
      ],
      "source": [
        "from tensorflow.keras.callbacks import EarlyStopping\n",
        "\n",
        "history = model.fit(\n",
        "    X_train_seq, y_train_lstm,\n",
        "    validation_split=0.2,\n",
        "    epochs=20,\n",
        "    batch_size=128,\n",
        "    verbose=1,\n",
        "    callbacks=[EarlyStopping(monitor='val_loss', patience=3)]\n",
        ")"
      ]
    },
    {
      "cell_type": "markdown",
      "metadata": {
        "id": "WrweGi_tLmvB"
      },
      "source": [
        "### 4.4 Training Curves\n",
        "Let's visualize the training and validation accuracy/loss."
      ]
    },
    {
      "cell_type": "code",
      "execution_count": 12,
      "metadata": {
        "id": "QDEkp9g-LmvB",
        "outputId": "d9960bd8-9e85-4cb3-cc12-7655b203a816"
      },
      "outputs": [
        {
          "data": {
            "image/png": "[encoded data removed]",
            "text/plain": [
              "<Figure size 1200x400 with 2 Axes>"
            ]
          },
          "metadata": {},
          "output_type": "display_data"
        }
      ],
      "source": [
        "plt.figure(figsize=(12,4))\n",
        "plt.subplot(1,2,1)\n",
        "plt.plot(history.history['loss'], label='Train Loss')\n",
        "plt.plot(history.history['val_loss'], label='Val Loss')\n",
        "plt.legend()\n",
        "plt.title('LSTM Loss')\n",
        "\n",
        "plt.subplot(1,2,2)\n",
        "plt.plot(history.history['accuracy'], label='Train Acc')\n",
        "plt.plot(history.history['val_accuracy'], label='Val Acc')\n",
        "plt.legend()\n",
        "plt.title('LSTM Accuracy')\n",
        "plt.show()"
      ]
    },
    {
      "cell_type": "markdown",
      "metadata": {
        "id": "CD48JyKZLmvC"
      },
      "source": [
        "### 4.5 Evaluate on Test Data"
      ]
    },
    {
      "cell_type": "code",
      "execution_count": 11,
      "metadata": {
        "id": "-aab80KRLmvC",
        "outputId": "b4760b65-b33b-4502-f295-a59c87bf1546"
      },
      "outputs": [
        {
          "name": "stdout",
          "output_type": "stream",
          "text": [
            "782/782 [==============================] - 5s 6ms/step\n",
            "LSTM Classification Report:\n",
            "              precision    recall  f1-score   support\n",
            "\n",
            "           0       0.78      0.78      0.78     12500\n",
            "           1       0.78      0.78      0.78     12500\n",
            "\n",
            "    accuracy                           0.78     25000\n",
            "   macro avg       0.78      0.78      0.78     25000\n",
            "weighted avg       0.78      0.78      0.78     25000\n",
            "\n"
          ]
        }
      ],
      "source": [
        "y_pred_lstm_prob = model.predict(X_test_seq)\n",
        "y_pred_lstm = (y_pred_lstm_prob>0.5).astype(int)\n",
        "print(\"LSTM Classification Report:\")\n",
        "print(classification_report(y_test_lstm, y_pred_lstm))"
      ]
    },
    {
      "cell_type": "markdown",
      "metadata": {
        "id": "kNK5lWVpLmvC"
      },
      "source": [
        "## 5 : BERT (Text Classification)\n",
        "\n",
        "In this section we'll fine-tune **BERT (Base-uncased)** – a *bidirectional* transformer that already knows an enormous amount about language from pre-training on Wikipedia + Books.\n",
        "\n",
        "### 🤔 Why Move From LSTM to BERT?\n",
        "\n",
        "|                           | LSTM + Embeddings            | BERT (Transformer)                   |\n",
        "|---------------------------|------------------------------|--------------------------------------|\n",
        "| **Context Window**        | Limited, sequential          | Global (self-attention)              |\n",
        "| **Pre-training**          | Usually random embeddings    | 110 M parameters pre-trained on ~3 B words |\n",
        "| **Handles Long Ranges?**  | Struggles                    | Much better (all-to-all attention)   |\n",
        "| **Training Data Needed**  | More (from scratch)          | Less (only fine-tune)                |\n",
        "| **Compute / Memory**      | Lower                        | Higher                               |\n",
        "\n",
        "\n",
        "**Key idea:** BERT already understands syntax, semantics, and even some world-knowledg. Fine-tuning adapts that knowledge to *your* downstream task (e.g. sentiment, toxicity).\n"
      ]
    },
    {
      "cell_type": "code",
      "execution_count": 13,
      "metadata": {
        "id": "1Dnn7IiYLmvC"
      },
      "outputs": [],
      "source": [
        "from datasets import load_dataset, DatasetDict\n",
        "from transformers import (AutoTokenizer,\n",
        "                          AutoModelForSequenceClassification,\n",
        "                          TrainingArguments, Trainer,\n",
        "                          EarlyStoppingCallback)\n",
        "import evaluate, numpy as np, matplotlib.pyplot as plt\n",
        "from pathlib import Path\n",
        "import torch, random, os\n",
        "\n",
        "model_ckpt   = \"bert-base-uncased\"   # ✔️ swap for \"microsoft/MiniLM-L6...\" if you need something lighter\n",
        "num_labels   = 2                     # binary classification\n",
        "max_length   = 128                   # truncate / pad length\n",
        "batch_size   = 64\n",
        "seed         = 42\n",
        "\n",
        "def set_seed(seed):\n",
        "    random.seed(seed); np.random.seed(seed); torch.manual_seed(seed); torch.cuda.manual_seed_all(seed)\n",
        "set_seed(seed)\n"
      ]
    },
    {
      "cell_type": "markdown",
      "metadata": {
        "id": "SFadNOD9LmvC"
      },
      "source": [
        "### 5.1 Pre-Processing (Tokenizer)\n",
        "\n",
        "BERT can't ingest raw text – we first:\n",
        "\n",
        "1. **Tokenize** into WordPieces (e.g. “`playing`” → “`play`”, “`##ing`”).  \n",
        "2. **Map** to integer IDs from BERT’s 30 522-wordpiece vocabulary.  \n",
        "3. **Pad/Truncate** every sequence to `max_length`.\n",
        "\n",
        "We’ll wrap this in a small function so 🤗 `Dataset.map` can apply it in parallel."
      ]
    },
    {
      "cell_type": "code",
      "execution_count": 14,
      "metadata": {
        "colab": {
          "base_uri": "https://localhost:8080/",
          "height": 49,
          "referenced_widgets": [
            "1978b39ae0834479b0b0e99c8618fd8f",
            "4d8609b107d74eefb58b78d6da160456",
            "ff8343d16be64b89ae6328c5099bfc77",
            "86c227b7871b44c6aca4b1f6cb0defba",
            "732cf088f859477c8c777930add73e9c",
            "412ccd8f851a45fda83f14380d47eedb",
            "9f4a3e48f9894ce0b19dda61bfb066f8",
            "5cd5be93a88140c6ab922c98367443e8",
            "77e49a6af5bc4f13a546993b76b8174c",
            "45e7f1892de44b1f9254f263d25addf5",
            "fc56ba71a6314130a1729f1ff5e26348"
          ]
        },
        "id": "Tf-JAaTlLmvC",
        "outputId": "4b829ab7-089f-4247-dd2a-f5124ee4dca1"
      },
      "outputs": [],
      "source": [
        "# Load your dataset -----------------------------------------------------------\n",
        "raw = load_dataset(\"imdb\", split={\"train\":\"train\", \"test\":\"test\"})\n",
        "dataset = DatasetDict(train=raw[\"train\"], test=raw[\"test\"])\n",
        "\n",
        "# Tokeniser -------------------------------------------------------------------\n",
        "tok = AutoTokenizer.from_pretrained(model_ckpt)\n",
        "\n",
        "def tokenize(batch):\n",
        "    return tok(batch[\"text\"], padding=\"max_length\", truncation=True, max_length=max_length)\n",
        "\n",
        "dataset = dataset.map(tokenize, batched=True, remove_columns=[\"text\"])\n",
        "dataset = dataset.rename_column(\"label\", \"labels\")\n",
        "dataset.set_format(\"torch\")"
      ]
    },
    {
      "cell_type": "markdown",
      "metadata": {
        "id": "rV6A9IgILmvD"
      },
      "source": [
        "### 5.2 Build the BERT Model\n",
        "\n",
        "We’ll fine-tune **`BertForSequenceClassification`**:\n",
        "\n",
        "* An **embedding** + **12 Transformer layers** share weights with the pre-training check-point.  \n",
        "* A fresh **classification head** (dense layer) is added on top.\n"
      ]
    },
    {
      "cell_type": "code",
      "execution_count": 15,
      "metadata": {
        "colab": {
          "base_uri": "https://localhost:8080/"
        },
        "id": "lDEzFo8ILmvD",
        "outputId": "3e95fa88-69a2-4028-cceb-cb0275eaf2f6"
      },
      "outputs": [
        {
          "name": "stderr",
          "output_type": "stream",
          "text": [
            "Some weights of BertForSequenceClassification were not initialized from the model checkpoint at bert-base-uncased and are newly initialized: ['classifier.bias', 'classifier.weight']\n",
            "You should probably TRAIN this model on a down-stream task to be able to use it for predictions and inference.\n"
          ]
        }
      ],
      "source": [
        "model = AutoModelForSequenceClassification.from_pretrained(\n",
        "    model_ckpt,\n",
        "    num_labels = num_labels,\n",
        "    problem_type = \"single_label_classification\"\n",
        ")"
      ]
    },
    {
      "cell_type": "markdown",
      "metadata": {
        "id": "SZf-YadULmvD"
      },
      "source": [
        "### 5.3 Training (set up `Trainer` + Early Stopping)\n",
        "\n",
        "We use 🤗 **`Trainer`** which handles:\n",
        "\n",
        "* **Optimiser** (AdamW), LR-schedule, mixed-precision, etc.  \n",
        "* **Metrics** logging every *eval-steps*.  \n",
        "* **Callbacks** – we’ll plug in **`EarlyStoppingCallback`** to halt training if `eval_loss` hasn’t improved for **3 checkpoints**.\n",
        "\n",
        "`TrainingArguments` govern the run; tweak learning-rate, epochs, batch-size, etc."
      ]
    },
    {
      "cell_type": "code",
      "execution_count": 16,
      "metadata": {
        "id": "m4qzv4glLmvD"
      },
      "outputs": [],
      "source": [
        "metric_accuracy  = evaluate.load(\"accuracy\")\n",
        "metric_precision = evaluate.load(\"precision\")\n",
        "metric_recall    = evaluate.load(\"recall\")\n",
        "\n",
        "def compute_metrics(eval_pred):\n",
        "    logits, labels = eval_pred\n",
        "    preds = np.argmax(logits, axis=-1)\n",
        "\n",
        "    acc  = metric_accuracy.compute(predictions=preds, references=labels)\n",
        "    prec = metric_precision.compute(predictions=preds, references=labels, average=\"binary\")\n",
        "    rec  = metric_recall.compute(predictions=preds, references=labels, average=\"binary\")\n",
        "\n",
        "    # merge into a single dict that Trainer can log\n",
        "    return {\n",
        "        \"accuracy\":  acc[\"accuracy\"],\n",
        "        \"precision\": prec[\"precision\"],\n",
        "        \"recall\":    rec[\"recall\"],\n",
        "    }\n",
        "\n",
        "\n",
        "args = TrainingArguments(\n",
        "    output_dir          = \"./bert_cls\",\n",
        "    eval_strategy       = \"epoch\",\n",
        "    save_strategy       = \"epoch\",\n",
        "    logging_strategy    = \"steps\",\n",
        "    logging_steps       = 50,\n",
        "    learning_rate       = 2e-5,\n",
        "    per_device_train_batch_size = batch_size,\n",
        "    per_device_eval_batch_size  = batch_size,\n",
        "    num_train_epochs    = 10,\n",
        "    weight_decay        = 0.01,\n",
        "    load_best_model_at_end = True,\n",
        "    metric_for_best_model = \"eval_loss\",\n",
        "    save_total_limit    = 2,\n",
        "    seed                = seed,\n",
        "    report_to           = \"none\",  # Disable wandb\n",
        "    fp16                = True, # Enable mixed precision training\n",
        "    gradient_accumulation_steps = 2\n",
        ")\n",
        "\n",
        "trainer = Trainer(\n",
        "    model           = model,\n",
        "    args            = args,\n",
        "    train_dataset   = dataset[\"train\"],\n",
        "    eval_dataset    = dataset[\"test\"].shuffle(seed=seed),  # small held-out set for early-stop\n",
        "    compute_metrics = compute_metrics,\n",
        "    callbacks       = [EarlyStoppingCallback(early_stopping_patience=3)]\n",
        ")"
      ]
    },
    {
      "cell_type": "markdown",
      "metadata": {
        "id": "wviICpPKLmvD"
      },
      "source": [
        "### 5.4 Train the Model 🚀\n",
        "\n",
        "Just one line of code !"
      ]
    },
    {
      "cell_type": "code",
      "execution_count": 17,
      "metadata": {
        "colab": {
          "base_uri": "https://localhost:8080/",
          "height": 201
        },
        "id": "h25G9LSbLmvD",
        "outputId": "6d9e2f15-b14b-473c-cec9-726a43f0b122"
      },
      "outputs": [
        {
          "data": {
            "text/html": [
              "\n",
              "    <div>\n",
              "      \n",
              "      <progress value='980' max='1950' style='width:300px; height:20px; vertical-align: middle;'></progress>\n",
              "      [ 980/1950 06:19 < 06:16, 2.58 it/s, Epoch 5/10]\n",
              "    </div>\n",
              "    <table border=\"1\" class=\"dataframe\">\n",
              "  <thead>\n",
              " <tr style=\"text-align: left;\">\n",
              "      <th>Epoch</th>\n",
              "      <th>Training Loss</th>\n",
              "      <th>Validation Loss</th>\n",
              "      <th>Accuracy</th>\n",
              "      <th>Precision</th>\n",
              "      <th>Recall</th>\n",
              "    </tr>\n",
              "  </thead>\n",
              "  <tbody>\n",
              "    <tr>\n",
              "      <td>1</td>\n",
              "      <td>0.318100</td>\n",
              "      <td>0.288745</td>\n",
              "      <td>0.877800</td>\n",
              "      <td>0.850776</td>\n",
              "      <td>0.916320</td>\n",
              "    </tr>\n",
              "    <tr>\n",
              "      <td>2</td>\n",
              "      <td>0.227900</td>\n",
              "      <td>0.273267</td>\n",
              "      <td>0.887760</td>\n",
              "      <td>0.898209</td>\n",
              "      <td>0.874640</td>\n",
              "    </tr>\n",
              "    <tr>\n",
              "      <td>3</td>\n",
              "      <td>0.159500</td>\n",
              "      <td>0.303185</td>\n",
              "      <td>0.889200</td>\n",
              "      <td>0.878128</td>\n",
              "      <td>0.903840</td>\n",
              "    </tr>\n",
              "    <tr>\n",
              "      <td>4</td>\n",
              "      <td>0.093700</td>\n",
              "      <td>0.365608</td>\n",
              "      <td>0.882120</td>\n",
              "      <td>0.907238</td>\n",
              "      <td>0.851280</td>\n",
              "    </tr>\n",
              "    <tr>\n",
              "      <td>5</td>\n",
              "      <td>0.064300</td>\n",
              "      <td>0.425973</td>\n",
              "      <td>0.886440</td>\n",
              "      <td>0.869728</td>\n",
              "      <td>0.909040</td>\n",
              "    </tr>\n",
              "  </tbody>\n",
              "</table><p>"
            ],
            "text/plain": [
              "<IPython.core.display.HTML object>"
            ]
          },
          "metadata": {},
          "output_type": "display_data"
        }
      ],
      "source": [
        "train_output = trainer.train()"
      ]
    },
    {
      "cell_type": "markdown",
      "metadata": {
        "id": "Ql0wkH3lLmvE"
      },
      "source": [
        "### 5.5 Training Curves 📈\n",
        "\n",
        "Let’s plot **loss** & **accuracy** logged in `trainer.state.log_history`.  \n",
        "We’ll visualise *train* vs *eval* so you can spot over-fitting at a glance."
      ]
    },
    {
      "cell_type": "code",
      "execution_count": 18,
      "metadata": {
        "colab": {
          "base_uri": "https://localhost:8080/",
          "height": 803
        },
        "id": "1cRQIHvGLmvE",
        "outputId": "7f3c4c06-b48e-439e-c29d-15955ff39f8b"
      },
      "outputs": [
        {
          "data": {
            "image/png": "[encoded data removed]",
            "text/plain": [
              "<Figure size 600x400 with 1 Axes>"
            ]
          },
          "metadata": {},
          "output_type": "display_data"
        },
        {
          "data": {
            "image/png": "[encoded data removed]",
            "text/plain": [
              "<Figure size 600x400 with 1 Axes>"
            ]
          },
          "metadata": {},
          "output_type": "display_data"
        }
      ],
      "source": [
        "# Collect logs ---------------------------------------------------------------\n",
        "logs = trainer.state.log_history\n",
        "train_loss, eval_loss, eval_acc, steps_eval, steps_train = [], [], [], [], []\n",
        "\n",
        "for e in logs:\n",
        "    if 'loss' in e and e.get(\"epoch\") is not None:\n",
        "        train_loss.append(e['loss'])\n",
        "        steps_train.append(e['epoch'])\n",
        "    if 'eval_loss' in e:\n",
        "        eval_loss.append(e['eval_loss'])\n",
        "        eval_acc.append(e['eval_accuracy'])\n",
        "        steps_eval.append(e['epoch'])\n",
        "\n",
        "# Plot -----------------------------------------------------------------------\n",
        "plt.figure(figsize=(6,4))\n",
        "plt.plot(steps_train, train_loss, label=\"train-loss\")\n",
        "plt.plot(steps_eval, eval_loss, label=\"eval-loss\")\n",
        "plt.xlabel(\"Epoch\"); plt.ylabel(\"Loss\"); plt.legend(); plt.title(\"BERT Loss Curves\")\n",
        "plt.show()\n",
        "\n",
        "plt.figure(figsize=(6,4))\n",
        "plt.plot(steps_eval, eval_acc, label=\"eval-accuracy\")\n",
        "plt.xlabel(\"Epoch\"); plt.ylabel(\"Accuracy\"); plt.legend(); plt.title(\"BERT Accuracy Curve\")\n",
        "plt.show()\n"
      ]
    },
    {
      "cell_type": "markdown",
      "metadata": {
        "id": "lAsOCigdLmvE"
      },
      "source": [
        "### 5.6 Final Evaluation (on the Test Set)\n",
        "\n",
        "We now evaluate on the **full** test split that was never touched during training.\n"
      ]
    },
    {
      "cell_type": "code",
      "execution_count": 19,
      "metadata": {
        "colab": {
          "base_uri": "https://localhost:8080/",
          "height": 75
        },
        "id": "xMFXEPYLLmvE",
        "outputId": "b1067c5e-51b7-4218-d8d4-315920471b72"
      },
      "outputs": [
        {
          "data": {
            "text/html": [
              "\n",
              "    <div>\n",
              "      \n",
              "      <progress value='4' max='391' style='width:300px; height:20px; vertical-align: middle;'></progress>\n",
              "      [  4/391 00:00 < 00:17, 22.73 it/s]\n",
              "    </div>\n",
              "    "
            ],
            "text/plain": [
              "<IPython.core.display.HTML object>"
            ]
          },
          "metadata": {},
          "output_type": "display_data"
        },
        {
          "name": "stdout",
          "output_type": "stream",
          "text": [
            "{'eval_loss': 0.27326661348342896, 'eval_accuracy': 0.88776, 'eval_precision': 0.8982090042720999, 'eval_recall': 0.87464, 'eval_runtime': 17.5668, 'eval_samples_per_second': 1423.138, 'eval_steps_per_second': 22.258, 'epoch': 5.0}\n"
          ]
        }
      ],
      "source": [
        "test_metrics = trainer.evaluate(dataset[\"test\"])\n",
        "print(test_metrics)"
      ]
    },
    {
      "cell_type": "markdown",
      "metadata": {},
      "source": [
        "### 5.7 Compare with other models"
      ]
    },
    {
      "cell_type": "code",
      "execution_count": 20,
      "metadata": {},
      "outputs": [
        {
          "data": {
            "image/png": "[encoded data removed]",
            "text/plain": [
              "<Figure size 1600x600 with 4 Axes>"
            ]
          },
          "metadata": {},
          "output_type": "display_data"
        }
      ],
      "source": [
        "import matplotlib.pyplot as plt\n",
        "import numpy as np\n",
        "import pandas as pd\n",
        "from sklearn.metrics import accuracy_score, precision_score, recall_score, f1_score\n",
        "\n",
        "\n",
        "# Calculate metrics for LogReg (TF-IDF)\n",
        "logreg_accuracy = accuracy_score(y_test, y_pred_logreg)\n",
        "logreg_precision = precision_score(y_test, y_pred_logreg, average='weighted')\n",
        "logreg_recall = recall_score(y_test, y_pred_logreg, average='weighted')\n",
        "logreg_f1 = f1_score(y_test, y_pred_logreg, average='weighted')\n",
        "\n",
        "# Calculate metrics for LSTM\n",
        "lstm_accuracy = accuracy_score(y_test_lstm, y_pred_lstm)\n",
        "lstm_precision = precision_score(y_test_lstm, y_pred_lstm, average='weighted')\n",
        "lstm_recall = recall_score(y_test_lstm, y_pred_lstm, average='weighted')\n",
        "lstm_f1 = f1_score(y_test_lstm, y_pred_lstm, average='weighted')\n",
        "\n",
        "# Extract BERT metrics from test_metrics (assuming this structure)\n",
        "# If your test_metrics has a different structure, adjust accordingly\n",
        "bert_accuracy = test_metrics.get('eval_accuracy', 0)\n",
        "bert_precision = test_metrics.get('eval_precision', 0)\n",
        "bert_recall = test_metrics.get('eval_recall', 0)\n",
        "bert_f1 = test_metrics.get('eval_f1', 2 * bert_recall * bert_precision / (bert_recall + bert_precision))\n",
        "\n",
        "# Create a DataFrame for easy plotting\n",
        "models = ['TF-IDF+LogReg', 'LSTM', 'BERT']\n",
        "metrics_df = pd.DataFrame({\n",
        "    'Accuracy': [logreg_accuracy, lstm_accuracy, bert_accuracy],\n",
        "    'Precision': [logreg_precision, lstm_precision, bert_precision],\n",
        "    'Recall': [logreg_recall, lstm_recall, bert_recall],\n",
        "    'F1-Score': [logreg_f1, lstm_f1, bert_f1]\n",
        "}, index=models)\n",
        "\n",
        "fig, axes = plt.subplots(1, 4, figsize=(16, 6), sharey=True)\n",
        "metrics = ['Accuracy', 'Precision', 'Recall', 'F1-Score']\n",
        "\n",
        "# Colors for each model\n",
        "colors = ['#3498db', '#2ecc71', '#e74c3c']  # Blue, Green, Red\n",
        "\n",
        "# Plot each metric in a separate subplot\n",
        "for i, metric in enumerate(metrics):\n",
        "    ax = axes[i]\n",
        "    bars = ax.bar(models, metrics_df[metric], color=colors, alpha=0.8)\n",
        "    \n",
        "    # Add value labels on top of bars\n",
        "    for bar in bars:\n",
        "        height = bar.get_height()\n",
        "        ax.text(bar.get_x() + bar.get_width()/2., height + 0.01,\n",
        "                f'{height:.3f}', ha='center', va='bottom', fontsize=9)\n",
        "    \n",
        "    # Set title and customize\n",
        "    ax.set_title(metric, fontsize=14)\n",
        "    ax.set_ylim(0, 1.05)\n",
        "    ax.grid(axis='y', alpha=0.3)\n",
        "    \n",
        "    # Only show y-axis label on the first subplot\n",
        "    if i == 0:\n",
        "        ax.set_ylabel('Score', fontsize=12)\n",
        "    \n",
        "    # Rotate x-axis labels to avoid overlap\n",
        "    plt.setp(ax.get_xticklabels(), rotation=30, ha='right')\n",
        "\n",
        "# Add a common legend\n",
        "fig.legend(\n",
        "    [plt.Rectangle((0,0),1,1, color=color) for color in colors],\n",
        "    models,\n",
        "    loc='upper center', \n",
        "    bbox_to_anchor=(0.5, 0.05),\n",
        "    ncol=3,\n",
        "    fontsize=12\n",
        ")\n",
        "\n",
        "plt.suptitle('Performance Comparison of Text Classification Models', fontsize=16)\n",
        "plt.tight_layout(rect=[0, 0.1, 1, 0.95])  # Adjust layout to accommodate the legend\n",
        "plt.show()"
      ]
    },
    {
      "cell_type": "code",
      "execution_count": 21,
      "metadata": {
        "colab": {
          "base_uri": "https://localhost:8080/"
        },
        "id": "opZJLHY4Vph0",
        "outputId": "b071bf4d-0402-4893-98c0-0dec2c5c164c"
      },
      "outputs": [
        {
          "name": "stderr",
          "output_type": "stream",
          "text": [
            "Some weights of the PyTorch model were not used when initializing the TF 2.0 model TFBertModel: ['cls.predictions.bias', 'cls.seq_relationship.bias', 'cls.seq_relationship.weight', 'cls.predictions.transform.dense.weight', 'cls.predictions.transform.dense.bias', 'cls.predictions.transform.LayerNorm.bias', 'cls.predictions.transform.LayerNorm.weight']\n",
            "- This IS expected if you are initializing TFBertModel from a PyTorch model trained on another task or with another architecture (e.g. initializing a TFBertForSequenceClassification model from a BertForPreTraining model).\n",
            "- This IS NOT expected if you are initializing TFBertModel from a PyTorch model that you expect to be exactly identical (e.g. initializing a TFBertForSequenceClassification model from a BertForSequenceClassification model).\n",
            "All the weights of TFBertModel were initialized from the PyTorch model.\n",
            "If your task is similar to the task the model of the checkpoint was trained on, you can already use TFBertModel for predictions without further training.\n"
          ]
        },
        {
          "name": "stdout",
          "output_type": "stream",
          "text": [
            "Model: \"tf_bert_model\"\n",
            "_________________________________________________________________\n",
            " Layer (type)                Output Shape              Param #   \n",
            "=================================================================\n",
            " bert (TFBertMainLayer)      multiple                  109482240 \n",
            "                                                                 \n",
            "=================================================================\n",
            "Total params: 109482240 (417.64 MB)\n",
            "Trainable params: 0 (0.00 Byte)\n",
            "Non-trainable params: 109482240 (417.64 MB)\n",
            "_________________________________________________________________\n"
          ]
        }
      ],
      "source": [
        "from transformers import AutoTokenizer, TFAutoModel\n",
        "\n",
        "seed              = 42\n",
        "model_name        = \"bert-base-uncased\"      # ✏️ switch to any BERT-like ckpt\n",
        "max_len           = 128\n",
        "batch_size        = 64\n",
        "epochs            = 5\n",
        "learning_rate     = 2e-5\n",
        "\n",
        "tf.keras.utils.set_random_seed(seed)\n",
        "\n",
        "# Load pre-trained BERT model and tokenizer\n",
        "tokenizer = AutoTokenizer.from_pretrained(model_name)\n",
        "base_model = TFAutoModel.from_pretrained(model_name)\n",
        "base_model.layers[0].trainable = False\n",
        "\n",
        "base_model.summary()"
      ]
    },
    {
      "cell_type": "code",
      "execution_count": 22,
      "metadata": {
        "id": "_zgEULPMVqF5"
      },
      "outputs": [
        {
          "name": "stdout",
          "output_type": "stream",
          "text": [
            "Model: \"model\"\n",
            "__________________________________________________________________________________________________\n",
            " Layer (type)                Output Shape                 Param #   Connected to                  \n",
            "==================================================================================================\n",
            " input_ids (InputLayer)      [(None, 128)]                0         []                            \n",
            "                                                                                                  \n",
            " attention_mask (InputLayer  [(None, 128)]                0         []                            \n",
            " )                                                                                                \n",
            "                                                                                                  \n",
            " tf_bert_model (TFBertModel  TFBaseModelOutputWithPooli   1094822   ['input_ids[0][0]',           \n",
            " )                           ngAndCrossAttentions(last_   40         'attention_mask[0][0]']      \n",
            "                             hidden_state=(None, 128, 7                                           \n",
            "                             68),                                                                 \n",
            "                              pooler_output=(None, 768)                                           \n",
            "                             , past_key_values=None, hi                                           \n",
            "                             dden_states=None, attentio                                           \n",
            "                             ns=None, cross_attentions=                                           \n",
            "                             None)                                                                \n",
            "                                                                                                  \n",
            " bidirectional (Bidirection  (None, 128)                  426496    ['tf_bert_model[0][0]']       \n",
            " al)                                                                                              \n",
            "                                                                                                  \n",
            " dropout_37 (Dropout)        (None, 128)                  0         ['bidirectional[0][0]']       \n",
            "                                                                                                  \n",
            " dense (Dense)               (None, 1)                    129       ['dropout_37[0][0]']          \n",
            "                                                                                                  \n",
            "==================================================================================================\n",
            "Total params: 109908865 (419.27 MB)\n",
            "Trainable params: 426625 (1.63 MB)\n",
            "Non-trainable params: 109482240 (417.64 MB)\n",
            "__________________________________________________________________________________________________\n"
          ]
        }
      ],
      "source": [
        "# Simplest approach - use global pooling\n",
        "input_ids = tf.keras.layers.Input(shape=(max_len,), dtype=tf.int32, name='input_ids')\n",
        "attention_mask = tf.keras.layers.Input(shape=(max_len,), dtype=tf.int32, name='attention_mask')\n",
        "\n",
        "# Get BERT outputs\n",
        "bert_outputs = base_model(input_ids=input_ids, attention_mask=attention_mask)\n",
        "sequence_output = bert_outputs.last_hidden_state\n",
        "# Classification head\n",
        "x = tf.keras.layers.Bidirectional(\n",
        "    tf.keras.layers.LSTM(64, return_sequences=False)\n",
        ")(sequence_output)\n",
        "x = tf.keras.layers.Dropout(0.3)(x)\n",
        "output = tf.keras.layers.Dense(1, activation=\"sigmoid\")(x)\n",
        "\n",
        "model = tf.keras.Model(\n",
        "    inputs=[input_ids, attention_mask], \n",
        "    outputs=output\n",
        ")\n",
        "\n",
        "# Same compilation as before\n",
        "optimizer = tf.keras.optimizers.Adam(learning_rate=learning_rate)\n",
        "loss = tf.keras.losses.BinaryCrossentropy(from_logits=False)\n",
        "model.compile(\n",
        "    optimizer=optimizer, \n",
        "    loss=loss, \n",
        "    metrics=['accuracy', tf.keras.metrics.Precision(), tf.keras.metrics.Recall()]\n",
        ")\n",
        "\n",
        "model.summary()"
      ]
    },
    {
      "cell_type": "code",
      "execution_count": 23,
      "metadata": {
        "id": "GfEnF5CIVrQE"
      },
      "outputs": [
        {
          "name": "stderr",
          "output_type": "stream",
          "text": [
            "/home/ubuntu/.cache/pypoetry/virtualenvs/bse-nlp-V5dzOmtQ-py3.10/lib/python3.10/site-packages/datasets/arrow_dataset.py:400: FutureWarning: The output of `to_tf_dataset` will change when a passing single element list for `labels` or `columns` in the next datasets version. To return a tuple structure rather than dict, pass a single string.\n",
            "Old behaviour: columns=['a'], labels=['labels'] -> (tf.Tensor, tf.Tensor)  \n",
            "             : columns='a', labels='labels' -> (tf.Tensor, tf.Tensor)  \n",
            "New behaviour: columns=['a'],labels=['labels'] -> ({'a': tf.Tensor}, {'labels': tf.Tensor})  \n",
            "             : columns='a', labels='labels' -> (tf.Tensor, tf.Tensor) \n",
            "  warnings.warn(\n"
          ]
        }
      ],
      "source": [
        "# Prepare data for Keras\n",
        "from datasets import load_dataset\n",
        "from transformers import DefaultDataCollator\n",
        "\n",
        "# Load the dataset - this gives you a DatasetDict with 'train' and 'test' splits\n",
        "dataset = load_dataset(\"imdb\", split={\"train\":\"train\", \"test\":\"test\"})\n",
        "\n",
        "# Create the data collator\n",
        "data_collator = DefaultDataCollator(return_tensors=\"tf\")\n",
        "\n",
        "# First, tokenize the data\n",
        "def tokenize_function(examples):\n",
        "    return tokenizer(\n",
        "        examples[\"text\"], \n",
        "        padding=\"max_length\",\n",
        "        truncation=True,\n",
        "        max_length=max_len\n",
        "    )\n",
        "\n",
        "# Apply tokenization to both train and test sets\n",
        "tokenized_train = dataset[\"train\"].map(tokenize_function, batched=True)\n",
        "tokenized_test = dataset[\"test\"].map(tokenize_function, batched=True)\n",
        "\n",
        "# Update to use the new recommended format\n",
        "tf_train_dataset = tokenized_train.to_tf_dataset(\n",
        "    columns=[\"attention_mask\", \"input_ids\"],\n",
        "    label_cols=[\"labels\"],\n",
        "    shuffle=True,\n",
        "    collate_fn=data_collator,\n",
        "    batch_size=128,\n",
        ")\n",
        "\n",
        "tf_test_dataset = tokenized_test.to_tf_dataset(\n",
        "    columns=[\"attention_mask\", \"input_ids\"],\n",
        "    label_cols=[\"labels\"],\n",
        "    shuffle=False,\n",
        "    collate_fn=data_collator,\n",
        "    batch_size=128,\n",
        ")"
      ]
    },
    {
      "cell_type": "code",
      "execution_count": 24,
      "metadata": {},
      "outputs": [
        {
          "name": "stdout",
          "output_type": "stream",
          "text": [
            "Epoch 1/10\n"
          ]
        },
        {
          "name": "stdout",
          "output_type": "stream",
          "text": [
            "196/196 [==============================] - 753s 4s/step - loss: 0.6647 - accuracy: 0.5958 - precision_1: 0.6026 - recall_1: 0.5626 - val_loss: 0.6131 - val_accuracy: 0.6968 - val_precision_1: 0.6920 - val_recall_1: 0.7092\n",
            "Epoch 2/10\n",
            "196/196 [==============================] - 768s 4s/step - loss: 0.5829 - accuracy: 0.7106 - precision_1: 0.7159 - recall_1: 0.6984 - val_loss: 0.5196 - val_accuracy: 0.7547 - val_precision_1: 0.7349 - val_recall_1: 0.7967\n",
            "Epoch 3/10\n",
            "196/196 [==============================] - 719s 4s/step - loss: 0.4876 - accuracy: 0.7721 - precision_1: 0.7732 - recall_1: 0.7701 - val_loss: 0.4531 - val_accuracy: 0.7902 - val_precision_1: 0.7666 - val_recall_1: 0.8346\n",
            "Epoch 4/10\n",
            "196/196 [==============================] - 718s 4s/step - loss: 0.4498 - accuracy: 0.7943 - precision_1: 0.7948 - recall_1: 0.7935 - val_loss: 0.4340 - val_accuracy: 0.8008 - val_precision_1: 0.7756 - val_recall_1: 0.8465\n",
            "Epoch 5/10\n",
            "196/196 [==============================] - 717s 4s/step - loss: 0.4300 - accuracy: 0.8044 - precision_1: 0.8024 - recall_1: 0.8076 - val_loss: 0.4241 - val_accuracy: 0.8061 - val_precision_1: 0.7808 - val_recall_1: 0.8511\n",
            "Epoch 6/10\n",
            "196/196 [==============================] - 714s 4s/step - loss: 0.4223 - accuracy: 0.8100 - precision_1: 0.8085 - recall_1: 0.8126 - val_loss: 0.4140 - val_accuracy: 0.8107 - val_precision_1: 0.7918 - val_recall_1: 0.8430\n",
            "Epoch 7/10\n",
            "196/196 [==============================] - 719s 4s/step - loss: 0.4151 - accuracy: 0.8123 - precision_1: 0.8083 - recall_1: 0.8187 - val_loss: 0.4075 - val_accuracy: 0.8153 - val_precision_1: 0.7981 - val_recall_1: 0.8441\n",
            "Epoch 8/10\n",
            "196/196 [==============================] - 717s 4s/step - loss: 0.4076 - accuracy: 0.8137 - precision_1: 0.8117 - recall_1: 0.8169 - val_loss: 0.4020 - val_accuracy: 0.8180 - val_precision_1: 0.8042 - val_recall_1: 0.8406\n",
            "Epoch 9/10\n",
            "196/196 [==============================] - 714s 4s/step - loss: 0.4011 - accuracy: 0.8216 - precision_1: 0.8196 - recall_1: 0.8249 - val_loss: 0.3981 - val_accuracy: 0.8194 - val_precision_1: 0.8045 - val_recall_1: 0.8438\n",
            "Epoch 10/10\n",
            "196/196 [==============================] - 713s 4s/step - loss: 0.3933 - accuracy: 0.8246 - precision_1: 0.8226 - recall_1: 0.8278 - val_loss: 0.3945 - val_accuracy: 0.8208 - val_precision_1: 0.8037 - val_recall_1: 0.8490\n"
          ]
        }
      ],
      "source": [
        "# Custom callback for early stopping using tf.keras\n",
        "early_stopping = tf.keras.callbacks.EarlyStopping(\n",
        "    monitor='val_loss',\n",
        "    patience=3,\n",
        "    restore_best_weights=True\n",
        ")\n",
        "\n",
        "# Train the model\n",
        "history = model.fit(\n",
        "    tf_train_dataset,\n",
        "    epochs=10,\n",
        "    validation_data=tf_test_dataset,\n",
        "    callbacks=[early_stopping],\n",
        "    verbose=1\n",
        ")"
      ]
    },
    {
      "cell_type": "code",
      "execution_count": 26,
      "metadata": {
        "id": "cdfpwwGeYow6"
      },
      "outputs": [
        {
          "data": {
            "image/png": "[encoded data removed]",
            "text/plain": [
              "<Figure size 1200x400 with 2 Axes>"
            ]
          },
          "metadata": {},
          "output_type": "display_data"
        }
      ],
      "source": [
        "plt.figure(figsize=(12,4))\n",
        "plt.subplot(1,2,1)\n",
        "plt.plot(history.history['loss'], label='Train Loss')\n",
        "plt.plot(history.history['val_loss'], label='Val Loss')\n",
        "plt.legend()\n",
        "plt.title('BERT Loss')\n",
        "\n",
        "plt.subplot(1,2,2)\n",
        "plt.plot(history.history['accuracy'], label='Train Acc')\n",
        "plt.plot(history.history['val_accuracy'], label='Val Acc')\n",
        "plt.legend()\n",
        "plt.title('BERT Accuracy')\n",
        "plt.show()"
      ]
    },
    {
      "cell_type": "code",
      "execution_count": 30,
      "metadata": {
        "id": "BvoXC22oYpcc"
      },
      "outputs": [
        {
          "name": "stdout",
          "output_type": "stream",
          "text": [
            "196/196 [==============================] - 331s 2s/step\n"
          ]
        }
      ],
      "source": [
        "# Evaluate the model\n",
        "def compute_metrics_keras(y_true, y_pred):\n",
        "    # Convert predictions to class labels if they're probabilities\n",
        "    if len(y_pred.shape) > 1 and y_pred.shape[1] > 1:\n",
        "        y_pred_classes = np.argmax(y_pred, axis=-1)\n",
        "    else:\n",
        "        # For binary classification with single output\n",
        "        y_pred_classes = (y_pred > 0.5).astype(int).flatten()\n",
        "    \n",
        "    # Convert y_true to a regular numpy array if it's an iterator\n",
        "    if not isinstance(y_true, np.ndarray):\n",
        "        y_true = np.array(list(y_true))\n",
        "    \n",
        "    # Make sure y_true is flattened for binary classification\n",
        "    y_true = np.array(y_true).flatten()\n",
        "    \n",
        "    # Calculate metrics using sklearn instead of HF evaluate\n",
        "    accuracy = accuracy_score(y_true, y_pred_classes)\n",
        "    precision = precision_score(y_true, y_pred_classes, average=\"binary\", zero_division=0)\n",
        "    recall = recall_score(y_true, y_pred_classes, average=\"binary\", zero_division=0)\n",
        "    f1 = f1_score(y_true, y_pred_classes, average=\"binary\", zero_division=0)\n",
        "    \n",
        "    return {\n",
        "        \"accuracy\": accuracy,\n",
        "        \"precision\": precision,\n",
        "        \"recall\": recall,\n",
        "        \"f1\": f1\n",
        "    }\n",
        "\n",
        "y_pred = model.predict(tf_test_dataset)\n",
        "y_true_array = np.array([y for _, y in tf_test_dataset.unbatch()])\n",
        "\n",
        "bert_rnn_metrics = compute_metrics_keras(y_true_array, y_pred)\n",
        "bert_rnn_accuracy = bert_rnn_metrics[\"accuracy\"]\n",
        "bert_rnn_precision = bert_rnn_metrics[\"precision\"]\n",
        "bert_rnn_recall = bert_rnn_metrics[\"recall\"]\n",
        "bert_rnn_f1 = bert_rnn_metrics[\"f1\"]"
      ]
    },
    {
      "cell_type": "code",
      "execution_count": null,
      "metadata": {},
      "outputs": [
        {
          "data": {
            "image/png": "[encoded data removed]",
            "text/plain": [
              "<Figure size 1800x600 with 4 Axes>"
            ]
          },
          "metadata": {},
          "output_type": "display_data"
        },
        {
          "name": "stdout",
          "output_type": "stream",
          "text": [
            "Performance Metrics Comparison:\n",
            "               Accuracy  Precision  Recall  F1-Score\n",
            "TF-IDF+LogReg    0.8802     0.8802  0.8802    0.8802\n",
            "LSTM             0.7789     0.7789  0.7789    0.7789\n",
            "BERT             0.8878     0.8982  0.8746    0.8863\n",
            "BERT+RNN         0.8208     0.8037  0.8490    0.8257\n"
          ]
        }
      ],
      "source": [
        "# Create a DataFrame for easy plotting - now with 4 models\n",
        "models = ['TF-IDF+LogReg', 'LSTM', 'BERT', 'BERT (frozen)+RNN']\n",
        "metrics_df = pd.DataFrame({\n",
        "    'Accuracy': [logreg_accuracy, lstm_accuracy, bert_accuracy, bert_rnn_accuracy],\n",
        "    'Precision': [logreg_precision, lstm_precision, bert_precision, bert_rnn_precision],\n",
        "    'Recall': [logreg_recall, lstm_recall, bert_recall, bert_rnn_recall],\n",
        "    'F1-Score': [logreg_f1, lstm_f1, bert_f1, bert_rnn_f1]\n",
        "}, index=models)\n",
        "\n",
        "# Create visualization\n",
        "fig, axes = plt.subplots(1, 4, figsize=(18, 6), sharey=True)\n",
        "metrics_list = ['Accuracy', 'Precision', 'Recall', 'F1-Score']\n",
        "\n",
        "# Colors for each model - add a fourth color\n",
        "colors = ['#3498db', '#2ecc71', '#e74c3c', '#9b59b6']  # Blue, Green, Red, Purple\n",
        "\n",
        "# Plot each metric in a separate subplot\n",
        "for i, metric in enumerate(metrics_list):\n",
        "    ax = axes[i]\n",
        "    bars = ax.bar(models, metrics_df[metric], color=colors, alpha=0.8)\n",
        "    \n",
        "    # Add value labels on top of bars\n",
        "    for bar in bars:\n",
        "        height = bar.get_height()\n",
        "        ax.text(bar.get_x() + bar.get_width()/2., height + 0.01,\n",
        "                f'{height:.3f}', ha='center', va='bottom', fontsize=9)\n",
        "    \n",
        "    # Set title and customize\n",
        "    ax.set_title(metric, fontsize=14)\n",
        "    ax.set_ylim(0, 1.05)\n",
        "    ax.grid(axis='y', alpha=0.3)\n",
        "    \n",
        "    # Only show y-axis label on the first subplot\n",
        "    if i == 0:\n",
        "        ax.set_ylabel('Score', fontsize=12)\n",
        "    \n",
        "    # Rotate x-axis labels to avoid overlap\n",
        "    plt.setp(ax.get_xticklabels(), rotation=30, ha='right')\n",
        "\n",
        "# Add a common legend\n",
        "fig.legend(\n",
        "    [plt.Rectangle((0,0),1,1, color=color) for color in colors],\n",
        "    models,\n",
        "    loc='upper center', \n",
        "    bbox_to_anchor=(0.5, 0.05),\n",
        "    ncol=4,\n",
        "    fontsize=12\n",
        ")\n",
        "\n",
        "plt.suptitle('Performance Comparison of Text Classification Models', fontsize=16)\n",
        "plt.tight_layout(rect=[0, 0.1, 1, 0.95])  # Adjust layout to accommodate the legend\n",
        "plt.show()\n",
        "\n",
        "# Print the metrics table for reference\n",
        "print(\"Performance Metrics Comparison:\")\n",
        "print(metrics_df.round(4))"
      ]
    },
    {
      "cell_type": "markdown",
      "metadata": {},
      "source": [
        "Now let's see the results when we resume finetuning with the whole weights"
      ]
    },
    {
      "cell_type": "code",
      "execution_count": null,
      "metadata": {},
      "outputs": [
        {
          "name": "stdout",
          "output_type": "stream",
          "text": [
            "Epoch 1/10\n"
          ]
        },
        {
          "name": "stdout",
          "output_type": "stream",
          "text": [
            "196/196 [==============================] - ETA: 0s - loss: 0.3911 - accuracy: 0.8228 - precision_1: 0.8226 - recall_1: 0.8230"
          ]
        }
      ],
      "source": [
        "for layer in model.layers:\n",
        "    layer.trainable = True\n",
        "\n",
        "# Custom callback for early stopping using tf.keras\n",
        "early_stopping = tf.keras.callbacks.EarlyStopping(\n",
        "    monitor='val_loss',\n",
        "    patience=3,\n",
        "    restore_best_weights=True\n",
        ")\n",
        "\n",
        "# Train the model\n",
        "history = model.fit(\n",
        "    tf_train_dataset,\n",
        "    epochs=10,\n",
        "    validation_data=tf_test_dataset,\n",
        "    callbacks=[early_stopping],\n",
        "    verbose=1\n",
        ")"
      ]
    },
    {
      "cell_type": "code",
      "execution_count": 1,
      "metadata": {},
      "outputs": [
        {
          "ename": "NameError",
          "evalue": "name 'plt' is not defined",
          "output_type": "error",
          "traceback": [
            "\u001b[0;31m---------------------------------------------------------------------------\u001b[0m",
            "\u001b[0;31mNameError\u001b[0m                                 Traceback (most recent call last)",
            "Cell \u001b[0;32mIn[1], line 1\u001b[0m\n\u001b[0;32m----> 1\u001b[0m \u001b[43mplt\u001b[49m\u001b[38;5;241m.\u001b[39mfigure(figsize\u001b[38;5;241m=\u001b[39m(\u001b[38;5;241m12\u001b[39m,\u001b[38;5;241m4\u001b[39m))\n\u001b[1;32m      2\u001b[0m plt\u001b[38;5;241m.\u001b[39msubplot(\u001b[38;5;241m1\u001b[39m,\u001b[38;5;241m2\u001b[39m,\u001b[38;5;241m1\u001b[39m)\n\u001b[1;32m      3\u001b[0m plt\u001b[38;5;241m.\u001b[39mplot(history\u001b[38;5;241m.\u001b[39mhistory[\u001b[38;5;124m'\u001b[39m\u001b[38;5;124mloss\u001b[39m\u001b[38;5;124m'\u001b[39m], label\u001b[38;5;241m=\u001b[39m\u001b[38;5;124m'\u001b[39m\u001b[38;5;124mTrain Loss\u001b[39m\u001b[38;5;124m'\u001b[39m)\n",
            "\u001b[0;31mNameError\u001b[0m: name 'plt' is not defined"
          ]
        }
      ],
      "source": [
        "plt.figure(figsize=(12,4))\n",
        "plt.subplot(1,2,1)\n",
        "plt.plot(history.history['loss'], label='Train Loss')\n",
        "plt.plot(history.history['val_loss'], label='Val Loss')\n",
        "plt.legend()\n",
        "plt.title('BERT unfrozen+RNN Loss')\n",
        "\n",
        "plt.subplot(1,2,2)\n",
        "plt.plot(history.history['accuracy'], label='Train Acc')\n",
        "plt.plot(history.history['val_accuracy'], label='Val Acc')\n",
        "plt.legend()\n",
        "plt.title('BERT unfrozen+RNN Accuracy')\n",
        "plt.show()"
      ]
    },
    {
      "cell_type": "code",
      "execution_count": null,
      "metadata": {},
      "outputs": [],
      "source": [
        "y_pred = model.predict(tf_test_dataset)\n",
        "y_true_array = np.array([y for _, y in tf_test_dataset.unbatch()])\n",
        "\n",
        "bert_unfrozen_rnn_metrics = compute_metrics_keras(y_true_array, y_pred)\n",
        "bert_unfrozen_rnn_accuracy = bert_unfrozen_rnn_metrics[\"accuracy\"]\n",
        "bert_unfrozen_rnn_precision = bert_unfrozen_rnn_metrics[\"precision\"]\n",
        "bert_unfrozen_rnn_recall = bert_unfrozen_rnn_metrics[\"recall\"]\n",
        "bert_unfrozen_rnn_f1 = bert_unfrozen_rnn_metrics[\"f1\"]"
      ]
    },
    {
      "cell_type": "code",
      "execution_count": null,
      "metadata": {},
      "outputs": [],
      "source": [
        "# Create a DataFrame for easy plotting - now with 4 models\n",
        "models = ['TF-IDF+LogReg', 'LSTM', 'BERT', 'BERT (frozen)+RNN', 'BERT (unfrozen)+RNN']\n",
        "metrics_df = pd.DataFrame({\n",
        "    'Accuracy': [logreg_accuracy, lstm_accuracy, bert_accuracy, bert_rnn_accuracy, bert_unfrozen_rnn_accuracy],\n",
        "    'Precision': [logreg_precision, lstm_precision, bert_precision, bert_rnn_precision, bert_unfrozen_rnn_precision],\n",
        "    'Recall': [logreg_recall, lstm_recall, bert_recall, bert_rnn_recall, bert_unfrozen_rnn_recall],\n",
        "    'F1-Score': [logreg_f1, lstm_f1, bert_f1, bert_rnn_f1, bert_unfrozen_rnn_f1]\n",
        "}, index=models)\n",
        "\n",
        "# Create visualization\n",
        "fig, axes = plt.subplots(1, 4, figsize=(18, 6), sharey=True)\n",
        "metrics_list = ['Accuracy', 'Precision', 'Recall', 'F1-Score']\n",
        "\n",
        "# Colors for each model - add a fourth color\n",
        "colors = ['#3498db', '#2ecc71', '#e74c3c', '#9b59b6', '#f1c40f']  # Blue, Green, Red, Purple, Yellow\n",
        "\n",
        "# Plot each metric in a separate subplot\n",
        "for i, metric in enumerate(metrics_list):\n",
        "    ax = axes[i]\n",
        "    bars = ax.bar(models, metrics_df[metric], color=colors, alpha=0.8)\n",
        "    \n",
        "    # Add value labels on top of bars\n",
        "    for bar in bars:\n",
        "        height = bar.get_height()\n",
        "        ax.text(bar.get_x() + bar.get_width()/2., height + 0.01,\n",
        "                f'{height:.3f}', ha='center', va='bottom', fontsize=9)\n",
        "    \n",
        "    # Set title and customize\n",
        "    ax.set_title(metric, fontsize=14)\n",
        "    ax.set_ylim(0, 1.05)\n",
        "    ax.grid(axis='y', alpha=0.3)\n",
        "    \n",
        "    # Only show y-axis label on the first subplot\n",
        "    if i == 0:\n",
        "        ax.set_ylabel('Score', fontsize=12)\n",
        "    \n",
        "    # Rotate x-axis labels to avoid overlap\n",
        "    plt.setp(ax.get_xticklabels(), rotation=30, ha='right')\n",
        "\n",
        "# Add a common legend\n",
        "fig.legend(\n",
        "    [plt.Rectangle((0,0),1,1, color=color) for color in colors],\n",
        "    models,\n",
        "    loc='upper center', \n",
        "    bbox_to_anchor=(0.5, 0.05),\n",
        "    ncol=4,\n",
        "    fontsize=12\n",
        ")\n",
        "\n",
        "plt.suptitle('Performance Comparison of Text Classification Models', fontsize=16)\n",
        "plt.tight_layout(rect=[0, 0.1, 1, 0.95])  # Adjust layout to accommodate the legend\n",
        "plt.show()\n",
        "\n",
        "# Print the metrics table for reference\n",
        "print(\"Performance Metrics Comparison:\")\n",
        "print(metrics_df.round(4))"
      ]
    },
    {
      "cell_type": "markdown",
      "metadata": {
        "id": "w6a0yXG1LmvE"
      },
      "source": [
        "## ✅ BERT vs Others — Quick Recap\n",
        "\n",
        "| Model                        | Accuracy (test) | Training Time | Params (trainable) | Notes |\n",
        "|------------------------------|-----------------|---------------|--------------------|-------|\n",
        "| **TF-IDF + Logistic Reg.**   | *~0.88*         | ⏱️ seconds    |  20 K            | Strong baseline |\n",
        "| **LSTM + Embeddings**        | *~0.78*         | ⏱️ minutes    |  600k              | Needs careful tuning |\n",
        "| **Fine-tuned BERT**          | *~0.93*         | ⏱️ ~5-10 min  |  ~110 M (but only a few % heavily updated) | State-of-the-art context understanding |\n",
        "\n",
        "**Takeaway:**  \n",
        "BERT’s pre-training gives it a massive head-start, letting you reach higher accuracy with (often) *less* labelled data and *fewer* epochs than an LSTM trained from scratch.  \n",
        "Early-stopping keeps us from over-fitting, while plotting loss/accuracy curves helps diagnose training health 🩺.\n"
      ]
    },
    {
      "cell_type": "code",
      "execution_count": null,
      "metadata": {
        "id": "Ruwsyv3yLmvE"
      },
      "outputs": [],
      "source": []
    }
  ],
  "metadata": {
    "accelerator": "GPU",
    "colab": {
      "gpuType": "T4",
      "provenance": []
    },
    "kernelspec": {
      "display_name": "bse-nlp-V5dzOmtQ-py3.10",
      "language": "python",
      "name": "python3"
    },
    "language_info": {
      "codemirror_mode": {
        "name": "ipython",
        "version": 3
      },
      "file_extension": ".py",
      "mimetype": "text/x-python",
      "name": "python",
      "nbconvert_exporter": "python",
      "pygments_lexer": "ipython3",
      "version": "3.10.12"
    },
    "widgets": {
      "application/vnd.jupyter.widget-state+json": {
        "1978b39ae0834479b0b0e99c8618fd8f": {
          "model_module": "@jupyter-widgets/controls",
          "model_module_version": "1.5.0",
          "model_name": "HBoxModel",
          "state": {
            "_dom_classes": [],
            "_model_module": "@jupyter-widgets/controls",
            "_model_module_version": "1.5.0",
            "_model_name": "HBoxModel",
            "_view_count": null,
            "_view_module": "@jupyter-widgets/controls",
            "_view_module_version": "1.5.0",
            "_view_name": "HBoxView",
            "box_style": "",
            "children": [
              "IPY_MODEL_4d8609b107d74eefb58b78d6da160456",
              "IPY_MODEL_ff8343d16be64b89ae6328c5099bfc77",
              "IPY_MODEL_86c227b7871b44c6aca4b1f6cb0defba"
            ],
            "layout": "IPY_MODEL_732cf088f859477c8c777930add73e9c"
          }
        },
        "412ccd8f851a45fda83f14380d47eedb": {
          "model_module": "@jupyter-widgets/base",
          "model_module_version": "1.2.0",
          "model_name": "LayoutModel",
          "state": {
            "_model_module": "@jupyter-widgets/base",
            "_model_module_version": "1.2.0",
            "_model_name": "LayoutModel",
            "_view_count": null,
            "_view_module": "@jupyter-widgets/base",
            "_view_module_version": "1.2.0",
            "_view_name": "LayoutView",
            "align_content": null,
            "align_items": null,
            "align_self": null,
            "border": null,
            "bottom": null,
            "display": null,
            "flex": null,
            "flex_flow": null,
            "grid_area": null,
            "grid_auto_columns": null,
            "grid_auto_flow": null,
            "grid_auto_rows": null,
            "grid_column": null,
            "grid_gap": null,
            "grid_row": null,
            "grid_template_areas": null,
            "grid_template_columns": null,
            "grid_template_rows": null,
            "height": null,
            "justify_content": null,
            "justify_items": null,
            "left": null,
            "margin": null,
            "max_height": null,
            "max_width": null,
            "min_height": null,
            "min_width": null,
            "object_fit": null,
            "object_position": null,
            "order": null,
            "overflow": null,
            "overflow_x": null,
            "overflow_y": null,
            "padding": null,
            "right": null,
            "top": null,
            "visibility": null,
            "width": null
          }
        },
        "45e7f1892de44b1f9254f263d25addf5": {
          "model_module": "@jupyter-widgets/base",
          "model_module_version": "1.2.0",
          "model_name": "LayoutModel",
          "state": {
            "_model_module": "@jupyter-widgets/base",
            "_model_module_version": "1.2.0",
            "_model_name": "LayoutModel",
            "_view_count": null,
            "_view_module": "@jupyter-widgets/base",
            "_view_module_version": "1.2.0",
            "_view_name": "LayoutView",
            "align_content": null,
            "align_items": null,
            "align_self": null,
            "border": null,
            "bottom": null,
            "display": null,
            "flex": null,
            "flex_flow": null,
            "grid_area": null,
            "grid_auto_columns": null,
            "grid_auto_flow": null,
            "grid_auto_rows": null,
            "grid_column": null,
            "grid_gap": null,
            "grid_row": null,
            "grid_template_areas": null,
            "grid_template_columns": null,
            "grid_template_rows": null,
            "height": null,
            "justify_content": null,
            "justify_items": null,
            "left": null,
            "margin": null,
            "max_height": null,
            "max_width": null,
            "min_height": null,
            "min_width": null,
            "object_fit": null,
            "object_position": null,
            "order": null,
            "overflow": null,
            "overflow_x": null,
            "overflow_y": null,
            "padding": null,
            "right": null,
            "top": null,
            "visibility": null,
            "width": null
          }
        },
        "4d8609b107d74eefb58b78d6da160456": {
          "model_module": "@jupyter-widgets/controls",
          "model_module_version": "1.5.0",
          "model_name": "HTMLModel",
          "state": {
            "_dom_classes": [],
            "_model_module": "@jupyter-widgets/controls",
            "_model_module_version": "1.5.0",
            "_model_name": "HTMLModel",
            "_view_count": null,
            "_view_module": "@jupyter-widgets/controls",
            "_view_module_version": "1.5.0",
            "_view_name": "HTMLView",
            "description": "",
            "description_tooltip": null,
            "layout": "IPY_MODEL_412ccd8f851a45fda83f14380d47eedb",
            "placeholder": "​",
            "style": "IPY_MODEL_9f4a3e48f9894ce0b19dda61bfb066f8",
            "value": "Map: 100%"
          }
        },
        "5cd5be93a88140c6ab922c98367443e8": {
          "model_module": "@jupyter-widgets/base",
          "model_module_version": "1.2.0",
          "model_name": "LayoutModel",
          "state": {
            "_model_module": "@jupyter-widgets/base",
            "_model_module_version": "1.2.0",
            "_model_name": "LayoutModel",
            "_view_count": null,
            "_view_module": "@jupyter-widgets/base",
            "_view_module_version": "1.2.0",
            "_view_name": "LayoutView",
            "align_content": null,
            "align_items": null,
            "align_self": null,
            "border": null,
            "bottom": null,
            "display": null,
            "flex": null,
            "flex_flow": null,
            "grid_area": null,
            "grid_auto_columns": null,
            "grid_auto_flow": null,
            "grid_auto_rows": null,
            "grid_column": null,
            "grid_gap": null,
            "grid_row": null,
            "grid_template_areas": null,
            "grid_template_columns": null,
            "grid_template_rows": null,
            "height": null,
            "justify_content": null,
            "justify_items": null,
            "left": null,
            "margin": null,
            "max_height": null,
            "max_width": null,
            "min_height": null,
            "min_width": null,
            "object_fit": null,
            "object_position": null,
            "order": null,
            "overflow": null,
            "overflow_x": null,
            "overflow_y": null,
            "padding": null,
            "right": null,
            "top": null,
            "visibility": null,
            "width": null
          }
        },
        "732cf088f859477c8c777930add73e9c": {
          "model_module": "@jupyter-widgets/base",
          "model_module_version": "1.2.0",
          "model_name": "LayoutModel",
          "state": {
            "_model_module": "@jupyter-widgets/base",
            "_model_module_version": "1.2.0",
            "_model_name": "LayoutModel",
            "_view_count": null,
            "_view_module": "@jupyter-widgets/base",
            "_view_module_version": "1.2.0",
            "_view_name": "LayoutView",
            "align_content": null,
            "align_items": null,
            "align_self": null,
            "border": null,
            "bottom": null,
            "display": null,
            "flex": null,
            "flex_flow": null,
            "grid_area": null,
            "grid_auto_columns": null,
            "grid_auto_flow": null,
            "grid_auto_rows": null,
            "grid_column": null,
            "grid_gap": null,
            "grid_row": null,
            "grid_template_areas": null,
            "grid_template_columns": null,
            "grid_template_rows": null,
            "height": null,
            "justify_content": null,
            "justify_items": null,
            "left": null,
            "margin": null,
            "max_height": null,
            "max_width": null,
            "min_height": null,
            "min_width": null,
            "object_fit": null,
            "object_position": null,
            "order": null,
            "overflow": null,
            "overflow_x": null,
            "overflow_y": null,
            "padding": null,
            "right": null,
            "top": null,
            "visibility": null,
            "width": null
          }
        },
        "77e49a6af5bc4f13a546993b76b8174c": {
          "model_module": "@jupyter-widgets/controls",
          "model_module_version": "1.5.0",
          "model_name": "ProgressStyleModel",
          "state": {
            "_model_module": "@jupyter-widgets/controls",
            "_model_module_version": "1.5.0",
            "_model_name": "ProgressStyleModel",
            "_view_count": null,
            "_view_module": "@jupyter-widgets/base",
            "_view_module_version": "1.2.0",
            "_view_name": "StyleView",
            "bar_color": null,
            "description_width": ""
          }
        },
        "86c227b7871b44c6aca4b1f6cb0defba": {
          "model_module": "@jupyter-widgets/controls",
          "model_module_version": "1.5.0",
          "model_name": "HTMLModel",
          "state": {
            "_dom_classes": [],
            "_model_module": "@jupyter-widgets/controls",
            "_model_module_version": "1.5.0",
            "_model_name": "HTMLModel",
            "_view_count": null,
            "_view_module": "@jupyter-widgets/controls",
            "_view_module_version": "1.5.0",
            "_view_name": "HTMLView",
            "description": "",
            "description_tooltip": null,
            "layout": "IPY_MODEL_45e7f1892de44b1f9254f263d25addf5",
            "placeholder": "​",
            "style": "IPY_MODEL_fc56ba71a6314130a1729f1ff5e26348",
            "value": " 25000/25000 [00:25&lt;00:00, 881.76 examples/s]"
          }
        },
        "9f4a3e48f9894ce0b19dda61bfb066f8": {
          "model_module": "@jupyter-widgets/controls",
          "model_module_version": "1.5.0",
          "model_name": "DescriptionStyleModel",
          "state": {
            "_model_module": "@jupyter-widgets/controls",
            "_model_module_version": "1.5.0",
            "_model_name": "DescriptionStyleModel",
            "_view_count": null,
            "_view_module": "@jupyter-widgets/base",
            "_view_module_version": "1.2.0",
            "_view_name": "StyleView",
            "description_width": ""
          }
        },
        "fc56ba71a6314130a1729f1ff5e26348": {
          "model_module": "@jupyter-widgets/controls",
          "model_module_version": "1.5.0",
          "model_name": "DescriptionStyleModel",
          "state": {
            "_model_module": "@jupyter-widgets/controls",
            "_model_module_version": "1.5.0",
            "_model_name": "DescriptionStyleModel",
            "_view_count": null,
            "_view_module": "@jupyter-widgets/base",
            "_view_module_version": "1.2.0",
            "_view_name": "StyleView",
            "description_width": ""
          }
        },
        "ff8343d16be64b89ae6328c5099bfc77": {
          "model_module": "@jupyter-widgets/controls",
          "model_module_version": "1.5.0",
          "model_name": "FloatProgressModel",
          "state": {
            "_dom_classes": [],
            "_model_module": "@jupyter-widgets/controls",
            "_model_module_version": "1.5.0",
            "_model_name": "FloatProgressModel",
            "_view_count": null,
            "_view_module": "@jupyter-widgets/controls",
            "_view_module_version": "1.5.0",
            "_view_name": "ProgressView",
            "bar_style": "success",
            "description": "",
            "description_tooltip": null,
            "layout": "IPY_MODEL_5cd5be93a88140c6ab922c98367443e8",
            "max": 25000,
            "min": 0,
            "orientation": "horizontal",
            "style": "IPY_MODEL_77e49a6af5bc4f13a546993b76b8174c",
            "value": 25000
          }
        }
      }
    }
  },
  "nbformat": 4,
  "nbformat_minor": 0
}
