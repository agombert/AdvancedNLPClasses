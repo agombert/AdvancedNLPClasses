{
  "cells": [
    {
      "cell_type": "markdown",
      "metadata": {},
      "source": [
        "# Zero-Shot and Few-Shot Classification\n",
        "\n",
        "In this notebook, we explore how **pretrained transformers** (like BERT, RoBERTa, and DeBERTa) can be used for **classification tasks** — with **little to no labeled data**.\n",
        "\n",
        "We'll apply multiple strategies to the **IMDB sentiment dataset**, going from fully zero-shot to very low-shot learning.\n",
        "\n",
        "---\n",
        "\n",
        "## Introduction to the task\n",
        "\n",
        "### 🧭 What You’ll Learn\n",
        "\n",
        "- How to classify texts **without labeled examples** using pretrained language models.\n",
        "- The difference between **semantic similarity**, **inference-based classification**, and **language modeling-based prompts**.\n",
        "- How to simulate labeling with **weak supervision** and use those labels to train models.\n",
        "- How **SetFit** enables efficient few-shot learning with great results and low compute.\n",
        "\n",
        "---\n",
        "\n",
        "### 📚 Methods We’ll Explore\n",
        "\n",
        "| Method                        | Style                        | Supervision  | Based On           |\n",
        "|------------------------------|------------------------------|--------------|--------------------|\n",
        "| 1️⃣ Latent Embedding Matching | Cosine similarity of vectors | ❌ None       | Sentence Transformers |\n",
        "| 2️⃣ NLI-based Inference        | Premise + Hypothesis         | ❌ None       | BERT for NLI       |\n",
        "| 3️⃣ Cloze Task Prompting       | Fill-in-the-blank format     | ❌ None       | Masked LM (BERT)   |\n",
        "| 4️⃣ Weak Supervision (Snorkel) | Heuristic labeling           | ⚠️ Partial    | Rules / Functions  |\n",
        "| 5️⃣ SetFit                    | Contrastive + classifier     | ✅ 4–128 docs | Sentence-BERT      |\n",
        "\n",
        "---\n",
        "\n",
        "### 🧪 Dataset: IMDB Sentiment\n",
        "\n",
        "We'll use the [IMDB dataset](https://huggingface.co/datasets/imdb), a binary sentiment classification task:\n",
        "- **Positive reviews** → label 1\n",
        "- **Negative reviews** → label 0\n",
        "\n",
        "---\n",
        "\n",
        "### 📌 Notebook Structure\n",
        "\n",
        "1. **Load the IMDB dataset**\n",
        "2. 🔍 Zero-shot classification:\n",
        "   - Sentence embedding similarity\n",
        "   - Natural language inference\n",
        "   - Cloze prompting\n",
        "3. ⚙️ Weak supervision with Snorkel\n",
        "4. 🚀 Few-shot learning with SetFit (4 → 128 examples)\n",
        "5. 📈 Compare performance across strategies\n",
        "\n",
        "Let’s get started by loading and preparing the dataset.\n",
        "\n",
        "---\n",
        "\n",
        "## 📥 Step 1: Load and Preprocess the IMDB Dataset\n",
        "\n",
        "We'll use the `datasets` library from Hugging Face to load the **IMDB sentiment dataset**, which contains:\n",
        "- 25,000 training reviews\n",
        "- 25,000 test reviews\n",
        "- Binary labels:  \n",
        "  - `1` → Positive  \n",
        "  - `0` → Negative\n",
        "\n",
        "We'll also sample subsets for quicker prototyping, and later use larger slices for methods like SetFit.\n",
        "\n",
        "For consistency, we’ll rename `label` to `labels`, and lowercase the text."
      ]
    },
    {
      "cell_type": "code",
      "execution_count": 3,
      "metadata": {},
      "outputs": [
        {
          "name": "stdout",
          "output_type": "stream",
          "text": [
            "there is no relation at all between fortier and profiler but the fact that both are police series about violent crimes. profiler looks crispy, fortier looks classic. profiler plots are quite simple. fortier's plot are far more complicated... fortier looks more like prime suspect, if we have to spot similarities... the main character is weak and weirdo, but have \"clairvoyance\". people like to compare, to judge, to evaluate. how about just enjoying? funny thing too, people writing fortier looks american but, on the other hand, arguing they prefer american series (!!!). maybe it's the language, or the spirit, but i think this series is more english than american. by the way, the actors are really good and funny. the acting is not superficial at all...\n",
            "1\n",
            "----------------------------------------------------------------------------------------------------\n",
            "this movie is a great. the plot is very true to the book which is a classic written by mark twain. the movie starts of with a scene where hank sings a song with a bunch of kids called \"when you stub your toe on the moon\" it reminds me of sinatra's song high hopes, it is fun and inspirational. the music is great throughout and my favorite song is sung by the king, hank (bing crosby) and sir \"saggy\" sagamore. overall a great family movie or even a great date movie. this is a movie you can watch over and over again. the princess played by rhonda fleming is gorgeous. i love this movie!! if you liked danny kaye in the court jester then you will definitely like this movie.\n",
            "1\n",
            "----------------------------------------------------------------------------------------------------\n",
            "george p. cosmatos' \"rambo: first blood part ii\" is pure wish-fulfillment. the united states clearly didn't win the war in vietnam. they caused damage to this country beyond the imaginable and this movie continues the fairy story of the oh-so innocent soldiers. the only bad guys were the leaders of the nation, who made this war happen. the character of rambo is perfect to notice this. he is extremely patriotic, bemoans that us-americans didn't appreciate and celebrate the achievements of the single soldier, but has nothing but distrust for leading officers and politicians. like every film that defends the war (e.g. \"we were soldiers\") also this one avoids the need to give a comprehensible reason for the engagement in south asia. and for that matter also the reason for every single us-american soldier that was there. instead, rambo gets to take revenge for the wounds of a whole nation. it would have been better to work on how to deal with the memories, rather than suppressing them. \"do we get to win this time?\" yes, you do.\n",
            "0\n",
            "----------------------------------------------------------------------------------------------------\n"
          ]
        }
      ],
      "source": [
        "from datasets import load_dataset, DatasetDict\n",
        "import pandas as pd\n",
        "\n",
        "# Load IMDB dataset (train/test)\n",
        "raw = load_dataset(\"imdb\")\n",
        "dataset = DatasetDict({\n",
        "    \"train\": raw[\"train\"],\n",
        "    \"test\": raw[\"test\"]\n",
        "})\n",
        "\n",
        "# Convert to lowercase for consistency\n",
        "dataset = dataset.map(lambda x: {\"text\": [t.lower() for t in x[\"text\"]]}, batched=True)\n",
        "\n",
        "# Rename label column for compatibility\n",
        "dataset = dataset.rename_column(\"label\", \"labels\")\n",
        "\n",
        "# Show a small sample\n",
        "for i in dataset[\"train\"].shuffle(seed=42).select(range(3)):\n",
        "    print(i[\"text\"])\n",
        "    print(i[\"labels\"])\n",
        "    print(\"-\"*100)"
      ]
    },
    {
      "cell_type": "markdown",
      "metadata": {},
      "source": [
        "## 🧠 Step 2: Zero-Shot Classification via Latent Embedding Matching\n",
        "\n",
        "This method uses **semantic similarity** between a review and class descriptions — without needing any labeled training data.\n",
        "\n",
        "### ✅ How It Works (via Hugging Face Pipelines):\n",
        "1. We use a pretrained language model to encode both the **input sentence** and **candidate class labels** (e.g., `\"positive\"` and `\"negative\"`).\n",
        "2. The model frames this as an **entailment task**:\n",
        "   - “Does this sentence entail that the label applies?”\n",
        "3. It returns a **confidence score** for each label.\n",
        "4. The label with the highest score is chosen as the prediction.\n",
        "\n",
        "This is implemented with Hugging Face’s `zero-shot-classification` pipeline under the hood — which uses **Natural Language Inference (NLI)** as the mechanism.\n",
        "\n",
        "---\n",
        "\n",
        "### 🔍 Models Compared:\n",
        "We’ll evaluate performance across three different transformer backbones:\n",
        "\n",
        "| Model        | Description                                 |\n",
        "|--------------|---------------------------------------------|\n",
        "| `bert-base-uncased`   | Google’s original BERT                |\n",
        "| `roberta-base`        | Facebook AI’s optimized BERT variant |\n",
        "| `distilbert-base-uncased` | Smaller, faster distilled BERT     |\n",
        "\n",
        "Each model handles the inference task slightly differently depending on its pretraining, so we’ll print out predicted labels, true labels, and label probabilities to compare.\n",
        "\n",
        "Next: we’ll scale this approach to the entire test set and evaluate precision, recall, and F1!"
      ]
    },
    {
      "cell_type": "code",
      "execution_count": 15,
      "metadata": {},
      "outputs": [
        {
          "name": "stdout",
          "output_type": "stream",
          "text": [
            "Loading zero-shot classification pipeline for BERT...\n"
          ]
        },
        {
          "name": "stderr",
          "output_type": "stream",
          "text": [
            "Some weights of BertForSequenceClassification were not initialized from the model checkpoint at bert-base-uncased and are newly initialized: ['classifier.bias', 'classifier.weight']\n",
            "You should probably TRAIN this model on a down-stream task to be able to use it for predictions and inference.\n",
            "Device set to use mps:0\n",
            "Failed to determine 'entailment' label id from the label2id mapping in the model config. Setting to -1. Define a descriptive label2id mapping in the model config to ensure correct outputs.\n"
          ]
        },
        {
          "name": "stdout",
          "output_type": "stream",
          "text": [
            "\n",
            "📄 Review: there is no relation at all between fortier and profiler but the fact that both are police series ab...\n",
            "🔍 Predicted: negative, True: negative\n",
            "📊 Probabilities: ['0.5090', '0.4910']\n",
            "----------------------------------------------------------------------------------------------------\n",
            "\n",
            "📄 Review: this movie is a great. the plot is very true to the book which is a classic written by mark twain. t...\n",
            "🔍 Predicted: negative, True: negative\n",
            "📊 Probabilities: ['0.5562', '0.4438']\n",
            "----------------------------------------------------------------------------------------------------\n",
            "\n",
            "📄 Review: george p. cosmatos' \"rambo: first blood part ii\" is pure wish-fulfillment. the united states clearly...\n",
            "🔍 Predicted: positive, True: positive\n",
            "📊 Probabilities: ['0.5007', '0.4993']\n",
            "----------------------------------------------------------------------------------------------------\n",
            "Loading zero-shot classification pipeline for RoBERTa...\n"
          ]
        },
        {
          "name": "stderr",
          "output_type": "stream",
          "text": [
            "Some weights of RobertaForSequenceClassification were not initialized from the model checkpoint at roberta-base and are newly initialized: ['classifier.dense.bias', 'classifier.dense.weight', 'classifier.out_proj.bias', 'classifier.out_proj.weight']\n",
            "You should probably TRAIN this model on a down-stream task to be able to use it for predictions and inference.\n",
            "Device set to use mps:0\n",
            "Failed to determine 'entailment' label id from the label2id mapping in the model config. Setting to -1. Define a descriptive label2id mapping in the model config to ensure correct outputs.\n"
          ]
        },
        {
          "name": "stdout",
          "output_type": "stream",
          "text": [
            "\n",
            "📄 Review: there is no relation at all between fortier and profiler but the fact that both are police series ab...\n",
            "🔍 Predicted: negative, True: negative\n",
            "📊 Probabilities: ['0.5002', '0.4998']\n",
            "----------------------------------------------------------------------------------------------------\n",
            "\n",
            "📄 Review: this movie is a great. the plot is very true to the book which is a classic written by mark twain. t...\n",
            "🔍 Predicted: negative, True: negative\n",
            "📊 Probabilities: ['0.5002', '0.4998']\n",
            "----------------------------------------------------------------------------------------------------\n",
            "\n",
            "📄 Review: george p. cosmatos' \"rambo: first blood part ii\" is pure wish-fulfillment. the united states clearly...\n",
            "🔍 Predicted: negative, True: positive\n",
            "📊 Probabilities: ['0.5001', '0.4999']\n",
            "----------------------------------------------------------------------------------------------------\n",
            "Loading zero-shot classification pipeline for DistilBERT...\n"
          ]
        },
        {
          "name": "stderr",
          "output_type": "stream",
          "text": [
            "Some weights of DistilBertForSequenceClassification were not initialized from the model checkpoint at distilbert-base-uncased and are newly initialized: ['classifier.bias', 'classifier.weight', 'pre_classifier.bias', 'pre_classifier.weight']\n",
            "You should probably TRAIN this model on a down-stream task to be able to use it for predictions and inference.\n",
            "Device set to use mps:0\n",
            "Failed to determine 'entailment' label id from the label2id mapping in the model config. Setting to -1. Define a descriptive label2id mapping in the model config to ensure correct outputs.\n"
          ]
        },
        {
          "name": "stdout",
          "output_type": "stream",
          "text": [
            "\n",
            "📄 Review: there is no relation at all between fortier and profiler but the fact that both are police series ab...\n",
            "🔍 Predicted: positive, True: negative\n",
            "📊 Probabilities: ['0.5007', '0.4993']\n",
            "----------------------------------------------------------------------------------------------------\n",
            "\n",
            "📄 Review: this movie is a great. the plot is very true to the book which is a classic written by mark twain. t...\n",
            "🔍 Predicted: negative, True: negative\n",
            "📊 Probabilities: ['0.5002', '0.4998']\n",
            "----------------------------------------------------------------------------------------------------\n",
            "\n",
            "📄 Review: george p. cosmatos' \"rambo: first blood part ii\" is pure wish-fulfillment. the united states clearly...\n",
            "🔍 Predicted: positive, True: positive\n",
            "📊 Probabilities: ['0.5009', '0.4991']\n",
            "----------------------------------------------------------------------------------------------------\n"
          ]
        }
      ],
      "source": [
        "from transformers import pipeline\n",
        "from tqdm import tqdm\n",
        "import numpy as np\n",
        "from sklearn.metrics import classification_report\n",
        "\n",
        "# Define candidate labels\n",
        "labels = [\"positive\", \"negative\"]\n",
        "\n",
        "examples = dataset[\"train\"].shuffle(seed=42).select(range(3))\n",
        "\n",
        "models = {\n",
        "    \"BERT\": \"bert-base-uncased\",\n",
        "    \"RoBERTa\": \"roberta-base\",\n",
        "    \"DistilBERT\": \"distilbert-base-uncased\"\n",
        "}\n",
        "\n",
        "for model_name, model_path in models.items():\n",
        "    print(f\"Loading zero-shot classification pipeline for {model_name}...\")\n",
        "    # Load zero-shot classification pipeline\n",
        "    classifier = pipeline(\"zero-shot-classification\", model=model_path)\n",
        "\n",
        "    for example in examples:\n",
        "        result = classifier(example[\"text\"], labels)\n",
        "        print(f\"\\n📄 Review: {example['text'][:100]}...\")\n",
        "        print(f\"🔍 Predicted: {result['labels'][0]}, True: {labels[example['labels']]}\")\n",
        "        print(f\"📊 Probabilities: {[f'{p:.4f}' for p in result['scores']]}\")\n",
        "        print(\"-\"*100)"
      ]
    },
    {
      "cell_type": "markdown",
      "metadata": {},
      "source": [
        "Now that we’ve tested a few examples, it’s time to **scale up** and evaluate how well these models perform on a real sample of the dataset.\n",
        "\n",
        "---\n",
        "\n",
        "### ⚙️ What We're Doing:\n",
        "\n",
        "- We take a **random sample** of 500 IMDB reviews from the test set.\n",
        "- For each review, we use the `zero-shot-classification` pipeline to decide whether it's `\"positive\"` or `\"negative\"`.\n",
        "- We do this for **three models**:\n",
        "  - `bert-base-uncased`\n",
        "  - `roberta-base`\n",
        "  - `distilbert-base-uncased`\n",
        "\n",
        "---\n",
        "\n",
        "### 📊 Evaluation Metrics:\n",
        "\n",
        "After classifying, we calculate:\n",
        "- **Precision**: What proportion of predicted positives are actually positive?\n",
        "- **Recall**: What proportion of actual positives did we catch?\n",
        "- **F1 Score**: Harmonic mean of precision and recall — a balance between them.\n",
        "- **Accuracy**: Total percentage of correct predictions.\n",
        "\n",
        "We also:\n",
        "- **Print a few review examples** with their predicted label and model confidence.\n",
        "- **Compare the overall accuracy** of all three models side by side.\n",
        "\n",
        "---\n",
        "\n",
        "### 📌 Note on Probabilities:\n",
        "\n",
        "We extract the model’s raw **label probabilities**, and normalize them to ensure they sum to 1 for each prediction:\n",
        "```python\n",
        "probs.append([positive_score, 1 - positive_score])\n"
      ]
    },
    {
      "cell_type": "code",
      "execution_count": 16,
      "metadata": {},
      "outputs": [
        {
          "name": "stdout",
          "output_type": "stream",
          "text": [
            "\n",
            "🔍 Evaluating bert-base-uncased Zero-Shot Classification\n"
          ]
        },
        {
          "name": "stderr",
          "output_type": "stream",
          "text": [
            "Some weights of BertForSequenceClassification were not initialized from the model checkpoint at bert-base-uncased and are newly initialized: ['classifier.bias', 'classifier.weight']\n",
            "You should probably TRAIN this model on a down-stream task to be able to use it for predictions and inference.\n",
            "Device set to use mps:0\n",
            "Failed to determine 'entailment' label id from the label2id mapping in the model config. Setting to -1. Define a descriptive label2id mapping in the model config to ensure correct outputs.\n",
            "Classifying with bert-base-uncased: 100%|██████████| 63/63 [01:43<00:00,  1.64s/it]\n"
          ]
        },
        {
          "name": "stdout",
          "output_type": "stream",
          "text": [
            "Classification Report for bert-base-uncased:\n",
            "\n",
            "              precision    recall  f1-score   support\n",
            "\n",
            "    positive       0.62      0.58      0.60       238\n",
            "    negative       0.64      0.68      0.66       262\n",
            "\n",
            "    accuracy                           0.63       500\n",
            "   macro avg       0.63      0.63      0.63       500\n",
            "weighted avg       0.63      0.63      0.63       500\n",
            "\n",
            "\n",
            "📄 Review: (a possible minor spoiler) the first \"jurassic park\" was an effective, but silly film that did it's ...\n",
            "🔍 Predicted: negative, True: positive\n",
            "📊 Probabilities: ['0.5117', '0.4883']\n",
            "\n",
            "📄 Review: i just saw this film at the sidewalk film festival in birmingham, al, which was actually a really fu...\n",
            "🔍 Predicted: positive, True: negative\n",
            "📊 Probabilities: ['0.4918', '0.5082']\n",
            "\n",
            "📄 Review: stay away from this movie at all costs. i was suckered into watching this movie in a bet to see whic...\n",
            "🔍 Predicted: positive, True: positive\n",
            "📊 Probabilities: ['0.4832', '0.5168']\n",
            "\n",
            "🔍 Evaluating roberta-base Zero-Shot Classification\n"
          ]
        },
        {
          "name": "stderr",
          "output_type": "stream",
          "text": [
            "Some weights of RobertaForSequenceClassification were not initialized from the model checkpoint at roberta-base and are newly initialized: ['classifier.dense.bias', 'classifier.dense.weight', 'classifier.out_proj.bias', 'classifier.out_proj.weight']\n",
            "You should probably TRAIN this model on a down-stream task to be able to use it for predictions and inference.\n",
            "Device set to use mps:0\n",
            "Failed to determine 'entailment' label id from the label2id mapping in the model config. Setting to -1. Define a descriptive label2id mapping in the model config to ensure correct outputs.\n",
            "Classifying with roberta-base: 100%|██████████| 63/63 [02:17<00:00,  2.19s/it]\n"
          ]
        },
        {
          "name": "stdout",
          "output_type": "stream",
          "text": [
            "Classification Report for roberta-base:\n",
            "\n",
            "              precision    recall  f1-score   support\n",
            "\n",
            "    positive       0.50      0.89      0.64       238\n",
            "    negative       0.66      0.20      0.31       262\n",
            "\n",
            "    accuracy                           0.53       500\n",
            "   macro avg       0.58      0.54      0.48       500\n",
            "weighted avg       0.59      0.53      0.47       500\n",
            "\n",
            "\n",
            "📄 Review: (a possible minor spoiler) the first \"jurassic park\" was an effective, but silly film that did it's ...\n",
            "🔍 Predicted: positive, True: positive\n",
            "📊 Probabilities: ['0.5000', '0.5000']\n",
            "\n",
            "📄 Review: i just saw this film at the sidewalk film festival in birmingham, al, which was actually a really fu...\n",
            "🔍 Predicted: negative, True: negative\n",
            "📊 Probabilities: ['0.5000', '0.5000']\n",
            "\n",
            "📄 Review: stay away from this movie at all costs. i was suckered into watching this movie in a bet to see whic...\n",
            "🔍 Predicted: positive, True: positive\n",
            "📊 Probabilities: ['0.5000', '0.5000']\n",
            "\n",
            "🔍 Evaluating distilbert-base-uncased Zero-Shot Classification\n"
          ]
        },
        {
          "name": "stderr",
          "output_type": "stream",
          "text": [
            "Some weights of DistilBertForSequenceClassification were not initialized from the model checkpoint at distilbert-base-uncased and are newly initialized: ['classifier.bias', 'classifier.weight', 'pre_classifier.bias', 'pre_classifier.weight']\n",
            "You should probably TRAIN this model on a down-stream task to be able to use it for predictions and inference.\n",
            "Device set to use mps:0\n",
            "Failed to determine 'entailment' label id from the label2id mapping in the model config. Setting to -1. Define a descriptive label2id mapping in the model config to ensure correct outputs.\n",
            "Classifying with distilbert-base-uncased: 100%|██████████| 63/63 [00:38<00:00,  1.65it/s]"
          ]
        },
        {
          "name": "stdout",
          "output_type": "stream",
          "text": [
            "Classification Report for distilbert-base-uncased:\n",
            "\n",
            "              precision    recall  f1-score   support\n",
            "\n",
            "    positive       0.45      0.02      0.04       238\n",
            "    negative       0.52      0.98      0.68       262\n",
            "\n",
            "    accuracy                           0.52       500\n",
            "   macro avg       0.49      0.50      0.36       500\n",
            "weighted avg       0.49      0.52      0.38       500\n",
            "\n",
            "\n",
            "📄 Review: (a possible minor spoiler) the first \"jurassic park\" was an effective, but silly film that did it's ...\n",
            "🔍 Predicted: negative, True: positive\n",
            "📊 Probabilities: ['0.5013', '0.4987']\n",
            "\n",
            "📄 Review: i just saw this film at the sidewalk film festival in birmingham, al, which was actually a really fu...\n",
            "🔍 Predicted: negative, True: negative\n",
            "📊 Probabilities: ['0.5015', '0.4985']\n",
            "\n",
            "📄 Review: stay away from this movie at all costs. i was suckered into watching this movie in a bet to see whic...\n",
            "🔍 Predicted: negative, True: positive\n",
            "📊 Probabilities: ['0.5024', '0.4976']\n",
            "\n",
            "📊 Model Comparison (Accuracy):\n",
            "bert-base-uncased: 0.6320\n",
            "roberta-base: 0.5280\n",
            "distilbert-base-uncased: 0.5220\n"
          ]
        },
        {
          "name": "stderr",
          "output_type": "stream",
          "text": [
            "\n"
          ]
        }
      ],
      "source": [
        "from transformers import pipeline\n",
        "from tqdm import tqdm\n",
        "import numpy as np\n",
        "from sklearn.metrics import classification_report\n",
        "\n",
        "# Get test data\n",
        "test_texts = dataset[\"test\"][\"text\"]\n",
        "true_labels = dataset[\"test\"][\"labels\"]\n",
        "\n",
        "# Sample a subset for faster processing\n",
        "sample_size = 500\n",
        "random_indices = np.random.choice(len(test_texts), size=sample_size, replace=False)\n",
        "sample_texts = [test_texts[i] for i in random_indices]\n",
        "sample_labels = [true_labels[i] for i in random_indices]\n",
        "\n",
        "# Define candidate labels\n",
        "labels = [\"positive\", \"negative\"]\n",
        "\n",
        "# Dictionary to store results for comparison\n",
        "all_results = {}\n",
        "\n",
        "# Define models to test\n",
        "model_names = [\"bert-base-uncased\", \"roberta-base\", \"distilbert-base-uncased\"]\n",
        "\n",
        "# Process with each model\n",
        "for model_name in model_names:\n",
        "    print(f\"\\n🔍 Evaluating {model_name} Zero-Shot Classification\")\n",
        "    \n",
        "    # Load zero-shot classification pipeline with specific model\n",
        "    classifier = pipeline(\"zero-shot-classification\", model=model_name)\n",
        "    \n",
        "    # Process examples in batches to avoid memory issues\n",
        "    batch_size = 8\n",
        "    preds = []\n",
        "    probs = []\n",
        "    \n",
        "    for i in tqdm(range(0, len(sample_texts), batch_size), desc=f\"Classifying with {model_name}\"):\n",
        "        batch_texts = sample_texts[i:i+batch_size]\n",
        "        batch_results = classifier(batch_texts, labels, multi_label=False)\n",
        "        \n",
        "        # Handle single result vs batch results\n",
        "        if not isinstance(batch_results, list):\n",
        "            batch_results = [batch_results]\n",
        "            \n",
        "        for result in batch_results:\n",
        "            # Get scores\n",
        "            scores = result['scores']\n",
        "            # Get index of positive label\n",
        "            pos_idx = result['labels'].index('positive')\n",
        "            # Store probability of positive class\n",
        "            probs.append([scores[pos_idx], 1-scores[pos_idx]])\n",
        "            # Predict label (1 for positive, 0 for negative)\n",
        "            pred = 1 if scores[pos_idx] > 0.5 else 0\n",
        "            preds.append(pred)\n",
        "    \n",
        "    # Evaluate\n",
        "    report = classification_report(sample_labels, preds, target_names=labels, output_dict=True)\n",
        "    print(f\"Classification Report for {model_name}:\\n\")\n",
        "    print(classification_report(sample_labels, preds, target_names=labels))\n",
        "    \n",
        "    # Store results for comparison\n",
        "    all_results[model_name] = {\n",
        "        \"predictions\": preds,\n",
        "        \"probabilities\": np.array(probs),\n",
        "        \"report\": report\n",
        "    }\n",
        "    \n",
        "    # Print a few examples\n",
        "    num_examples = 3\n",
        "    for i in range(num_examples):\n",
        "        print(f\"\\n📄 Review: {sample_texts[i][:100]}...\")\n",
        "        print(f\"🔍 Predicted: {labels[preds[i]]}, True: {labels[sample_labels[i]]}\")\n",
        "        print(f\"📊 Probabilities: {[f'{p:.4f}' for p in probs[i]]}\")\n",
        "\n",
        "# Compare model performance\n",
        "print(\"\\n📊 Model Comparison (Accuracy):\")\n",
        "for model_name in model_names:\n",
        "    acc = all_results[model_name][\"report\"][\"accuracy\"]\n",
        "    print(f\"{model_name}: {acc:.4f}\")"
      ]
    },
    {
      "cell_type": "code",
      "execution_count": 18,
      "metadata": {},
      "outputs": [
        {
          "data": {
            "image/png": "[encoded data removed]",
            "text/plain": [
              "<Figure size 1200x600 with 1 Axes>"
            ]
          },
          "metadata": {},
          "output_type": "display_data"
        }
      ],
      "source": [
        "import matplotlib.pyplot as plt\n",
        "import pandas as pd\n",
        "\n",
        "# Extract metrics for comparison\n",
        "metrics_data = []\n",
        "\n",
        "for model_name in model_names:\n",
        "    report = all_results[model_name][\"report\"]\n",
        "    \n",
        "    # Get overall metrics\n",
        "    accuracy = report[\"accuracy\"]\n",
        "    \n",
        "    # Get averaged metrics (macro avg)\n",
        "    macro_precision = report[\"macro avg\"][\"precision\"]\n",
        "    macro_recall = report[\"macro avg\"][\"recall\"]\n",
        "    macro_f1 = report[\"macro avg\"][\"f1-score\"]\n",
        "    \n",
        "    # Store in data list\n",
        "    metrics_data.append({\n",
        "        \"Model\": model_name.split(\"-\")[0],  # Just use first part of model name\n",
        "        \"Accuracy\": accuracy,\n",
        "        \"Precision\": macro_precision,\n",
        "        \"Recall\": macro_recall,\n",
        "        \"F1-Score\": macro_f1\n",
        "    })\n",
        "\n",
        "# Convert to DataFrame\n",
        "df = pd.DataFrame(metrics_data)\n",
        "\n",
        "# Reshape for grouped bar chart\n",
        "metrics_df = pd.melt(df, \n",
        "                     id_vars=[\"Model\"],\n",
        "                     value_vars=[\"Accuracy\", \"Precision\", \"Recall\", \"F1-Score\"],\n",
        "                     var_name=\"Metric\", value_name=\"Score\")\n",
        "\n",
        "# Set up the plot\n",
        "plt.figure(figsize=(12, 6))\n",
        "bar_width = 0.2\n",
        "opacity = 0.8\n",
        "\n",
        "# Create grouped bar chart\n",
        "ax = plt.subplot(111)\n",
        "\n",
        "# Get unique models and metrics\n",
        "models = df[\"Model\"].unique()\n",
        "metrics = [\"Accuracy\", \"Precision\", \"Recall\", \"F1-Score\"]\n",
        "\n",
        "# Set x positions for bars\n",
        "x_pos = np.arange(len(metrics))\n",
        "\n",
        "# Plot bars for each model\n",
        "for i, model in enumerate(models):\n",
        "    model_data = metrics_df[metrics_df[\"Model\"] == model]\n",
        "    offset = bar_width * (i - len(models)/2 + 0.5)\n",
        "    plt.bar(x_pos + offset, \n",
        "            model_data[\"Score\"], \n",
        "            bar_width, \n",
        "            alpha=opacity,\n",
        "            label=model)\n",
        "\n",
        "# Customize plot\n",
        "plt.xlabel('Metric')\n",
        "plt.ylabel('Score')\n",
        "plt.title('Zero-Shot Classification Performance by Model')\n",
        "plt.xticks(x_pos, metrics)\n",
        "plt.legend()\n",
        "plt.grid(axis='y', linestyle='--', alpha=0.7)\n",
        "plt.tight_layout()\n",
        "\n",
        "# Add value labels on top of bars\n",
        "for i, model in enumerate(models):\n",
        "    model_data = metrics_df[metrics_df[\"Model\"] == model]\n",
        "    offset = bar_width * (i - len(models)/2 + 0.5)\n",
        "    \n",
        "    for j, score in enumerate(model_data[\"Score\"]):\n",
        "        plt.text(j + offset, score + 0.01, f'{score:.2f}', \n",
        "                 ha='center', va='bottom', fontsize=8)\n",
        "\n",
        "plt.show()"
      ]
    },
    {
      "cell_type": "markdown",
      "metadata": {},
      "source": [
        "Let’s break down how our **zero-shot classification models** performed on the IMDB test data — and compare them to a simple **TF-IDF + Logistic Regression** baseline from earlier sessions (which achieved **~88% accuracy, precision, and recall**).\n",
        "\n",
        "---\n",
        "\n",
        "### 🧪 Observations by Model:\n",
        "\n",
        "#### ✅ `bert-base-uncased`:\n",
        "- **Best performer** among the three transformers.\n",
        "- Achieved **63% accuracy**, with balanced **precision/recall** around 62–64%.\n",
        "- Shows that **semantic similarity in embedding space** is informative — but not yet optimal.\n",
        "- Useful when no labeled data is available, but still far behind supervised approaches.\n",
        "\n",
        "#### ⚠️ `roberta-base`:\n",
        "- Very **high recall for “positive”** (89%) but **terrible recall for “negative”** (20%).\n",
        "- Imbalanced predictions — likely overpredicting \"positive\".\n",
        "- Accuracy drops to **53%**, meaning **essentially random performance**.\n",
        "- May stem from how RoBERTa handles label semantics without fine-tuning.\n",
        "\n",
        "#### 🚨 `distilbert-base-uncased`:\n",
        "- Nearly always predicts **“negative”**: 98% recall for negative, but **only 2% recall for positive**.\n",
        "- Accuracy again **~52%**, but for the wrong reasons.\n",
        "- This suggests **severe bias or label interpretation mismatch** in this zero-shot setting.\n",
        "\n",
        "---\n",
        "\n",
        "### 🧠 Key Takeaways:\n",
        "\n",
        "- **Zero-shot classification is appealing** — but has limits, especially in binary sentiment classification where:\n",
        "  - Labels like `\"positive\"` and `\"negative\"` are highly **subjective**.\n",
        "  - The model may have different semantic priors (e.g., \"positive\" meaning *good*, but not *positive review*).\n",
        "- Performance **lags far behind traditional supervised methods** like Logistic Regression with TF-IDF, which hit **~88%** on all metrics.\n",
        "- Still, **BERT's moderate success** shows the potential of using **pretrained language models** without labeled data — particularly in **low-resource** or **rapid prototyping** scenarios.\n",
        "\n",
        "---\n",
        "\n",
        "## 🧠 Step 3: Zero-Shot Classification via Natural Language Inference (NLI)\n",
        "\n",
        "Now let’s reframe the problem of sentiment classification as an **inference task**.\n",
        "\n",
        "### 🧬 What is NLI?\n",
        "\n",
        "**Natural Language Inference (NLI)** involves determining the logical relationship between two sentences:\n",
        "- **Premise**: a factual or observed sentence (our input text).\n",
        "- **Hypothesis**: a candidate statement we want to test (e.g., \"This is a positive review\").\n",
        "\n",
        "The model must decide whether the hypothesis:\n",
        "- **Entails** the premise (true)\n",
        "- **Contradicts** the premise (false)\n",
        "- Is **neutral** (undetermined)\n",
        "\n",
        "---\n",
        "\n",
        "### 🧪 How We Use It for Classification:\n",
        "\n",
        "We use a **specialized NLI model** (like `facebook/bart-large-mnli`) that has been trained on large NLI datasets.\n",
        "\n",
        "#### For each review:\n",
        "1. Treat the **review** as the *premise*.\n",
        "2. Create two *hypotheses*:\n",
        "   - `\"This is a positive review.\"`\n",
        "   - `\"This is a negative review.\"`\n",
        "3. The model scores each hypothesis for **entailment probability**.\n",
        "4. We normalize the scores and pick the class with the highest entailment.\n",
        "\n",
        "---\n",
        "\n",
        "### 🤖 NLI Models to Try:\n",
        "- `facebook/bart-large-mnli` – One of the most reliable NLI-capable models.\n",
        "- `roberta-large-mnli` – RoBERTa variant fine-tuned on MultiNLI dataset.\n",
        "\n",
        "Let’s now run this method across the IMDB test set and compare performance to our previous zero-shot embedding-based approach."
      ]
    },
    {
      "cell_type": "code",
      "execution_count": null,
      "metadata": {},
      "outputs": [
        {
          "name": "stdout",
          "output_type": "stream",
          "text": [
            "\n",
            "🔍 Evaluating facebook/bart-large-mnli Zero-Shot NLI Classification\n"
          ]
        },
        {
          "data": {
            "text/plain": [
              "config.json:   0%|          | 0.00/1.15k [00:00<?, ?B/s]"
            ]
          },
          "metadata": {},
          "output_type": "display_data"
        },
        {
          "name": "stderr",
          "output_type": "stream",
          "text": [
            "Xet Storage is enabled for this repo, but the 'hf_xet' package is not installed. Falling back to regular HTTP download. For better performance, install the package with: `pip install huggingface_hub[hf_xet]` or `pip install hf_xet`\n"
          ]
        },
        {
          "data": {
            "text/plain": [
              "model.safetensors:   0%|          | 0.00/1.63G [00:00<?, ?B/s]"
            ]
          },
          "metadata": {},
          "output_type": "display_data"
        },
        {
          "data": {
            "text/plain": [
              "tokenizer_config.json:   0%|          | 0.00/26.0 [00:00<?, ?B/s]"
            ]
          },
          "metadata": {},
          "output_type": "display_data"
        },
        {
          "data": {
            "text/plain": [
              "vocab.json:   0%|          | 0.00/899k [00:00<?, ?B/s]"
            ]
          },
          "metadata": {},
          "output_type": "display_data"
        },
        {
          "data": {
            "text/plain": [
              "merges.txt:   0%|          | 0.00/456k [00:00<?, ?B/s]"
            ]
          },
          "metadata": {},
          "output_type": "display_data"
        },
        {
          "data": {
            "text/plain": [
              "tokenizer.json:   0%|          | 0.00/1.36M [00:00<?, ?B/s]"
            ]
          },
          "metadata": {},
          "output_type": "display_data"
        },
        {
          "name": "stderr",
          "output_type": "stream",
          "text": [
            "Device set to use mps:0\n",
            "Classifying with facebook/bart-large-mnli: 100%|██████████| 63/63 [07:51<00:00,  7.49s/it]\n"
          ]
        },
        {
          "name": "stdout",
          "output_type": "stream",
          "text": [
            "Classification Report for facebook/bart-large-mnli:\n",
            "\n",
            "              precision    recall  f1-score   support\n",
            "\n",
            "    positive       0.92      0.92      0.92       238\n",
            "    negative       0.93      0.92      0.93       262\n",
            "\n",
            "    accuracy                           0.92       500\n",
            "   macro avg       0.92      0.92      0.92       500\n",
            "weighted avg       0.92      0.92      0.92       500\n",
            "\n",
            "\n",
            "📄 Review: (a possible minor spoiler) the first \"jurassic park\" was an effective, but silly film that did it's ...\n",
            "🔍 Predicted: positive, True: positive\n",
            "📊 Probabilities: ['0.0570', '0.9430']\n",
            "\n",
            "📄 Review: i just saw this film at the sidewalk film festival in birmingham, al, which was actually a really fu...\n",
            "🔍 Predicted: negative, True: negative\n",
            "📊 Probabilities: ['0.9445', '0.0555']\n",
            "\n",
            "📄 Review: stay away from this movie at all costs. i was suckered into watching this movie in a bet to see whic...\n",
            "🔍 Predicted: positive, True: positive\n",
            "📊 Probabilities: ['0.0072', '0.9928']\n",
            "\n",
            "🔍 Evaluating roberta-large-mnli Zero-Shot NLI Classification\n"
          ]
        },
        {
          "data": {
            "text/plain": [
              "config.json:   0%|          | 0.00/688 [00:00<?, ?B/s]"
            ]
          },
          "metadata": {},
          "output_type": "display_data"
        },
        {
          "name": "stderr",
          "output_type": "stream",
          "text": [
            "Xet Storage is enabled for this repo, but the 'hf_xet' package is not installed. Falling back to regular HTTP download. For better performance, install the package with: `pip install huggingface_hub[hf_xet]` or `pip install hf_xet`\n"
          ]
        },
        {
          "data": {
            "text/plain": [
              "model.safetensors:   0%|          | 0.00/1.43G [00:00<?, ?B/s]"
            ]
          },
          "metadata": {},
          "output_type": "display_data"
        },
        {
          "name": "stderr",
          "output_type": "stream",
          "text": [
            "Some weights of the model checkpoint at roberta-large-mnli were not used when initializing RobertaForSequenceClassification: ['roberta.pooler.dense.bias', 'roberta.pooler.dense.weight']\n",
            "- This IS expected if you are initializing RobertaForSequenceClassification from the checkpoint of a model trained on another task or with another architecture (e.g. initializing a BertForSequenceClassification model from a BertForPreTraining model).\n",
            "- This IS NOT expected if you are initializing RobertaForSequenceClassification from the checkpoint of a model that you expect to be exactly identical (initializing a BertForSequenceClassification model from a BertForSequenceClassification model).\n"
          ]
        },
        {
          "data": {
            "text/plain": [
              "tokenizer_config.json:   0%|          | 0.00/25.0 [00:00<?, ?B/s]"
            ]
          },
          "metadata": {},
          "output_type": "display_data"
        },
        {
          "data": {
            "text/plain": [
              "vocab.json:   0%|          | 0.00/899k [00:00<?, ?B/s]"
            ]
          },
          "metadata": {},
          "output_type": "display_data"
        },
        {
          "data": {
            "text/plain": [
              "merges.txt:   0%|          | 0.00/456k [00:00<?, ?B/s]"
            ]
          },
          "metadata": {},
          "output_type": "display_data"
        },
        {
          "data": {
            "text/plain": [
              "tokenizer.json:   0%|          | 0.00/1.36M [00:00<?, ?B/s]"
            ]
          },
          "metadata": {},
          "output_type": "display_data"
        },
        {
          "name": "stderr",
          "output_type": "stream",
          "text": [
            "Device set to use mps:0\n",
            "Classifying with roberta-large-mnli: 100%|██████████| 63/63 [06:03<00:00,  5.78s/it]"
          ]
        },
        {
          "name": "stdout",
          "output_type": "stream",
          "text": [
            "Classification Report for roberta-large-mnli:\n",
            "\n",
            "              precision    recall  f1-score   support\n",
            "\n",
            "    positive       0.82      0.88      0.85       238\n",
            "    negative       0.88      0.82      0.85       262\n",
            "\n",
            "    accuracy                           0.85       500\n",
            "   macro avg       0.85      0.85      0.85       500\n",
            "weighted avg       0.85      0.85      0.85       500\n",
            "\n",
            "\n",
            "📄 Review: (a possible minor spoiler) the first \"jurassic park\" was an effective, but silly film that did it's ...\n",
            "🔍 Predicted: positive, True: positive\n",
            "📊 Probabilities: ['0.2776', '0.7224']\n",
            "\n",
            "📄 Review: i just saw this film at the sidewalk film festival in birmingham, al, which was actually a really fu...\n",
            "🔍 Predicted: negative, True: negative\n",
            "📊 Probabilities: ['0.9864', '0.0136']\n",
            "\n",
            "📄 Review: stay away from this movie at all costs. i was suckered into watching this movie in a bet to see whic...\n",
            "🔍 Predicted: positive, True: positive\n",
            "📊 Probabilities: ['0.0052', '0.9948']\n"
          ]
        },
        {
          "name": "stderr",
          "output_type": "stream",
          "text": [
            "\n"
          ]
        }
      ],
      "source": [
        "from transformers import pipeline\n",
        "from tqdm import tqdm\n",
        "import numpy as np\n",
        "from sklearn.metrics import classification_report\n",
        "import matplotlib.pyplot as plt\n",
        "import pandas as pd\n",
        "\n",
        "# Define candidate labels and the hypotheses\n",
        "labels = [\"positive\", \"negative\"]\n",
        "hypothesis_template = \"This is a {} review.\"\n",
        "\n",
        "# Dictionary to store results for comparison\n",
        "nli_results = {}\n",
        "\n",
        "# Define NLI models to test\n",
        "nli_model_names = [\"facebook/bart-large-mnli\", \"roberta-large-mnli\"]\n",
        "\n",
        "# Process with each NLI model\n",
        "for model_name in nli_model_names:\n",
        "    print(f\"\\n🔍 Evaluating {model_name} Zero-Shot NLI Classification\")\n",
        "    \n",
        "    # Load zero-shot classification pipeline with specific model\n",
        "    # Use NLI model to perform zero-shot classification\n",
        "    classifier = pipeline(\"zero-shot-classification\", model=model_name)\n",
        "    \n",
        "    # Process examples in batches to avoid memory issues\n",
        "    batch_size = 8\n",
        "    preds = []\n",
        "    probs = []\n",
        "    \n",
        "    for i in tqdm(range(0, len(sample_texts), batch_size), desc=f\"Classifying with {model_name}\"):\n",
        "        batch_texts = sample_texts[i:i+batch_size]\n",
        "        # Use hypothesis template\n",
        "        batch_results = classifier(\n",
        "            batch_texts, \n",
        "            labels, \n",
        "            hypothesis_template=hypothesis_template,\n",
        "            multi_label=False\n",
        "        )\n",
        "        \n",
        "        # Handle single result vs batch results\n",
        "        if not isinstance(batch_results, list):\n",
        "            batch_results = [batch_results]\n",
        "            \n",
        "        for result in batch_results:\n",
        "            # Get scores\n",
        "            scores = result['scores']\n",
        "            # Get index of positive label\n",
        "            pos_idx = result['labels'].index('positive')\n",
        "            # Store probability of positive class\n",
        "            probs.append([scores[pos_idx], 1-scores[pos_idx]])\n",
        "            # Predict label (1 for positive, 0 for negative)\n",
        "            pred = 1 if scores[pos_idx] > 0.5 else 0\n",
        "            preds.append(pred)\n",
        "    \n",
        "    # Evaluate\n",
        "    report = classification_report(sample_labels, preds, target_names=labels, output_dict=True)\n",
        "    print(f\"Classification Report for {model_name}:\\n\")\n",
        "    print(classification_report(sample_labels, preds, target_names=labels))\n",
        "    \n",
        "    # Store results for comparison\n",
        "    nli_results[model_name] = {\n",
        "        \"predictions\": preds,\n",
        "        \"probabilities\": np.array(probs),\n",
        "        \"report\": report\n",
        "    }\n",
        "    \n",
        "    # Print a few examples\n",
        "    num_examples = 3\n",
        "    for i in range(num_examples):\n",
        "        print(f\"\\n📄 Review: {sample_texts[i][:100]}...\")\n",
        "        print(f\"🔍 Predicted: {labels[preds[i]]}, True: {labels[sample_labels[i]]}\")\n",
        "        print(f\"📊 Probabilities: {[f'{p:.4f}' for p in probs[i]]}\")\n",
        "\n",
        "# Combine all results for comparison\n",
        "combined_results = {}\n",
        "combined_results.update(all_results)  # Previous models\n",
        "combined_results.update(nli_results)  # NLI models\n",
        "\n",
        "# Extract metrics for comparison\n",
        "metrics_data = []\n",
        "\n",
        "for model_name, result in combined_results.items():\n",
        "    # Get model short name\n",
        "    if \"/\" in model_name:\n",
        "        model_short = model_name.split(\"/\")[1]\n",
        "    else:\n",
        "        model_short = model_name\n",
        "        \n",
        "    report = result[\"report\"]\n",
        "    \n",
        "    # Get overall metrics\n",
        "    accuracy = report[\"accuracy\"]\n",
        "    \n",
        "    # Get averaged metrics (macro avg)\n",
        "    macro_precision = report[\"macro avg\"][\"precision\"]\n",
        "    macro_recall = report[\"macro avg\"][\"recall\"]\n",
        "    macro_f1 = report[\"macro avg\"][\"f1-score\"]\n",
        "    \n",
        "    # Store in data list\n",
        "    metrics_data.append({\n",
        "        \"Model\": model_short,\n",
        "        \"Accuracy\": accuracy,\n",
        "        \"Precision\": macro_precision,\n",
        "        \"Recall\": macro_recall,\n",
        "        \"F1-Score\": macro_f1\n",
        "    })\n"
      ]
    },
    {
      "cell_type": "code",
      "execution_count": 26,
      "metadata": {},
      "outputs": [
        {
          "data": {
            "image/png": "[encoded data removed]",
            "text/plain": [
              "<Figure size 1200x600 with 1 Axes>"
            ]
          },
          "metadata": {},
          "output_type": "display_data"
        },
        {
          "name": "stdout",
          "output_type": "stream",
          "text": [
            "\n",
            "📊 Model Comparison (Accuracy):\n",
            "bart-large-mnli: 0.9240\n",
            "roberta-large-mnli: 0.8500\n",
            "bert-base-uncased: 0.6320\n",
            "roberta-base: 0.5280\n",
            "distilbert-base-uncased: 0.5220\n"
          ]
        }
      ],
      "source": [
        "# Convert to DataFrame\n",
        "df = pd.DataFrame(metrics_data)\n",
        "\n",
        "# Reshape for grouped bar chart\n",
        "metrics_df = pd.melt(df, \n",
        "                     id_vars=[\"Model\"],\n",
        "                     value_vars=[\"Accuracy\", \"Precision\", \"Recall\", \"F1-Score\"],\n",
        "                     var_name=\"Metric\", value_name=\"Score\")\n",
        "\n",
        "# Set up the plot\n",
        "plt.figure(figsize=(12, 6))\n",
        "bar_width = 0.15\n",
        "opacity = 0.8\n",
        "\n",
        "# Create grouped bar chart\n",
        "ax = plt.subplot(111)\n",
        "\n",
        "# Get unique models and metrics\n",
        "models = df[\"Model\"].unique()\n",
        "metrics = [\"Accuracy\", \"Precision\", \"Recall\", \"F1-Score\"]\n",
        "\n",
        "# Set x positions for bars\n",
        "x_pos = np.arange(len(metrics))\n",
        "\n",
        "# Plot bars for each model\n",
        "colors = plt.cm.tab10(np.linspace(0, 1, len(models)))\n",
        "for i, model in enumerate(models):\n",
        "    model_data = metrics_df[metrics_df[\"Model\"] == model]\n",
        "    \n",
        "    # Make sure we have all metrics for this model\n",
        "    values = []\n",
        "    for metric in metrics:\n",
        "        metric_row = model_data[model_data[\"Metric\"] == metric]\n",
        "        if len(metric_row) > 0:\n",
        "            values.append(metric_row[\"Score\"].values[0])\n",
        "        else:\n",
        "            values.append(0)  # Default if missing\n",
        "    \n",
        "    offset = bar_width * (i - len(models)/2 + 0.5)\n",
        "    plt.bar(x_pos + offset, \n",
        "            values, \n",
        "            bar_width, \n",
        "            alpha=opacity,\n",
        "            color=colors[i],\n",
        "            label=model)\n",
        "\n",
        "# Customize plot\n",
        "plt.xlabel('Metric')\n",
        "plt.ylabel('Score')\n",
        "plt.title('Zero-Shot Classification Performance (Embedding vs NLI)')\n",
        "plt.xticks(x_pos, metrics)\n",
        "plt.legend(loc='upper center', bbox_to_anchor=(0.5, -0.15), ncol=3)\n",
        "plt.grid(axis='y', linestyle='--', alpha=0.7)\n",
        "plt.tight_layout()\n",
        "\n",
        "# Add value labels on top of bars\n",
        "for i, model in enumerate(models):\n",
        "    model_data = metrics_df[metrics_df[\"Model\"] == model]\n",
        "    offset = bar_width * (i - len(models)/2 + 0.5)\n",
        "    \n",
        "    values = []\n",
        "    for metric in metrics:\n",
        "        metric_row = model_data[model_data[\"Metric\"] == metric]\n",
        "        if len(metric_row) > 0:\n",
        "            values.append(metric_row[\"Score\"].values[0])\n",
        "        else:\n",
        "            values.append(0)\n",
        "    \n",
        "    for j, score in enumerate(values):\n",
        "        plt.text(j + offset, score + 0.01, f'{score:.2f}', \n",
        "                 ha='center', va='bottom', fontsize=7)\n",
        "\n",
        "\n",
        "plt.show()\n",
        "\n",
        "# Print comparative summary\n",
        "print(\"\\n📊 Model Comparison (Accuracy):\")\n",
        "for model_name, result in sorted(combined_results.items(), key=lambda x: x[1][\"report\"][\"accuracy\"], reverse=True):\n",
        "    acc = result[\"report\"][\"accuracy\"]\n",
        "    if \"/\" in model_name:\n",
        "        model_short = model_name.split(\"/\")[1]\n",
        "    else:\n",
        "        model_short = model_name\n",
        "    print(f\"{model_short}: {acc:.4f}\")"
      ]
    },
    {
      "cell_type": "markdown",
      "metadata": {},
      "source": [
        "Let’s take a look at how well the NLI-based zero-shot models performed on IMDB sentiment classification:\n",
        "\n",
        "### 🔍 Performance Summary:\n",
        "\n",
        "| Model                    | Accuracy | Precision | Recall | F1 Score |\n",
        "|--------------------------|----------|-----------|--------|----------|\n",
        "| **`facebook/bart-large-mnli`** | **92%**      | 0.92/0.93 | 0.92    | **0.93**    |\n",
        "| **`roberta-large-mnli`**       | 85%      | 0.82/0.88 | 0.88    | 0.85    |\n",
        "| **TF-IDF + Logistic Regression** | 88%  | 0.88      | 0.88    | 0.88    |\n",
        "\n",
        "---\n",
        "\n",
        "### 🤯 Why is `bart-large-mnli` so strong?\n",
        "\n",
        "These models were **explicitly fine-tuned for NLI tasks** like entailment and contradiction detection using datasets like **MultiNLI**, which contain thousands of sentence pairs with reasoning-based annotations.\n",
        "\n",
        "That makes them naturally good at:\n",
        "- Understanding nuanced semantic relationships.\n",
        "- Inferring sentiment or intent when framed as *\"This is a positive/negative review.\"*\n",
        "\n",
        "So even though we **never trained them on sentiment labels**, they generalize remarkably well to this task through **semantic reasoning**.\n",
        "\n",
        "---\n",
        "\n",
        "### 🧠 Takeaway: Choose Models Aligned With Your Task\n",
        "\n",
        "The results here highlight a key lesson:\n",
        "\n",
        "> ✅ **Before building or fine-tuning anything, check the Hugging Face Hub!**\n",
        "\n",
        "There may already be:\n",
        "- Models trained on **tasks similar to yours** (e.g., NLI, sentiment, question answering).\n",
        "- Tools like `zero-shot-classification` pipelines that make deployment easy.\n",
        "\n",
        "Using such models can help in:\n",
        "- Bootstrapping pseudo-labels (for weak supervision).\n",
        "- Rapid prototyping and feasibility testing.\n",
        "- Avoiding unnecessary fine-tuning when generalization is strong.\n",
        "\n",
        "---\n",
        "\n",
        "## 🧩 Step 4: Zero-Shot Classification as Cloze Tasks (Masked Language Modeling)\n",
        "\n",
        "In this approach, we **reformulate classification as a fill-in-the-blank problem**, using models like BERT that are trained to predict masked tokens.\n",
        "\n",
        "---\n",
        "\n",
        "### 📖 What is a Cloze Task?\n",
        "\n",
        "Originally used in language learning, a **cloze task** asks a model to fill in a missing word in a sentence:\n",
        "\n",
        "> \"This movie was [MASK].\"\n",
        "\n",
        "Pretrained masked language models (like **BERT**) can predict the most probable word(s) for the `[MASK]`. If we craft our prompt carefully, the prediction can directly indicate the class label.\n",
        "\n",
        "---\n",
        "\n",
        "### 🧠 Example: Sentiment Classification\n",
        "\n",
        "We can convert the input review into a prompt like:\n",
        "\n",
        "> \"The review said: *'The story was thrilling and well-acted.'* Overall, it was [MASK].\"\n",
        "\n",
        "If BERT predicts `\"great\"` or `\"good\"` → positive  \n",
        "If it predicts `\"bad\"` or `\"boring\"` → negative  \n",
        "\n",
        "We define a small **vocabulary of candidate labels** to constrain the model's output and interpret the results as a classification.\n",
        "\n",
        "---\n",
        "\n",
        "### 🧪 Reference: Schick & Schütze (2020)\n",
        "\n",
        "This idea is inspired by the paper [**\"Exploiting Cloze Questions for Few-Shot Text Classification and Natural Language Inference\"**](https://arxiv.org/abs/2001.07676), where the authors:\n",
        "\n",
        "- Reformulate **classification as cloze questions**, asking the model to predict the label directly within a sentence.\n",
        "- Propose using **multiple prompt templates** to reduce bias and improve robustness.\n",
        "- Show that **pretrained MLMs (like BERT)** can perform few-shot learning effectively using only prompts + label words, without gradient updates."
      ]
    },
    {
      "cell_type": "code",
      "execution_count": 36,
      "metadata": {},
      "outputs": [
        {
          "name": "stdout",
          "output_type": "stream",
          "text": [
            "Loading fill-mask pipeline for BERT...\n"
          ]
        },
        {
          "name": "stderr",
          "output_type": "stream",
          "text": [
            "Some weights of the model checkpoint at bert-base-uncased were not used when initializing BertForMaskedLM: ['bert.pooler.dense.bias', 'bert.pooler.dense.weight', 'cls.seq_relationship.bias', 'cls.seq_relationship.weight']\n",
            "- This IS expected if you are initializing BertForMaskedLM from the checkpoint of a model trained on another task or with another architecture (e.g. initializing a BertForSequenceClassification model from a BertForPreTraining model).\n",
            "- This IS NOT expected if you are initializing BertForMaskedLM from the checkpoint of a model that you expect to be exactly identical (initializing a BertForSequenceClassification model from a BertForSequenceClassification model).\n",
            "Device set to use mps:0\n"
          ]
        },
        {
          "name": "stdout",
          "output_type": "stream",
          "text": [
            "\n",
            "📄 Review: there is no relation at all between fortier and profiler but the fact that both are police series ab...\n",
            "🔍 Top predictions: ['good', 'great', 'average', 'positive', 'fantastic']\n",
            "📊 Probabilities: ['0.1738', '0.1232', '0.0386', '0.0358', '0.0331']\n",
            "----------------------------------------------------------------------------------------------------\n",
            "\n",
            "📄 Review: this movie is a great. the plot is very true to the book which is a classic written by mark twain. t...\n",
            "🔍 Top predictions: ['great', 'good', 'fantastic', 'amazing', 'enjoyable']\n",
            "📊 Probabilities: ['0.1982', '0.1675', '0.0857', '0.0505', '0.0326']\n",
            "----------------------------------------------------------------------------------------------------\n",
            "\n",
            "📄 Review: george p. cosmatos' \"rambo: first blood part ii\" is pure wish-fulfillment. the united states clearly...\n",
            "🔍 Top predictions: ['good', 'interesting', 'great', 'amazing', 'fun']\n",
            "📊 Probabilities: ['0.1191', '0.0615', '0.0601', '0.0445', '0.0432']\n",
            "----------------------------------------------------------------------------------------------------\n",
            "Loading fill-mask pipeline for RoBERTa...\n"
          ]
        },
        {
          "name": "stderr",
          "output_type": "stream",
          "text": [
            "Device set to use mps:0\n"
          ]
        },
        {
          "name": "stdout",
          "output_type": "stream",
          "text": [
            "\n",
            "📄 Review: there is no relation at all between fortier and profiler but the fact that both are police series ab...\n",
            "🔍 Top predictions: [' good', ' okay', ' ok', ' excellent', ' enjoyable']\n",
            "📊 Probabilities: ['0.3490', '0.0874', '0.0757', '0.0587', '0.0580']\n",
            "----------------------------------------------------------------------------------------------------\n",
            "\n",
            "📄 Review: this movie is a great. the plot is very true to the book which is a classic written by mark twain. t...\n",
            "🔍 Top predictions: [' great', ' good', ' excellent', ' okay', ' ok']\n",
            "📊 Probabilities: ['0.3643', '0.2570', '0.0752', '0.0381', '0.0353']\n",
            "----------------------------------------------------------------------------------------------------\n",
            "\n",
            "📄 Review: george p. cosmatos' \"rambo: first blood part ii\" is pure wish-fulfillment. the united states clearly...\n",
            "🔍 Top predictions: [' excellent', ' good', ' disappointing', ' okay', ' great']\n",
            "📊 Probabilities: ['0.1581', '0.1282', '0.0707', '0.0489', '0.0454']\n",
            "----------------------------------------------------------------------------------------------------\n",
            "Loading fill-mask pipeline for DistilBERT...\n"
          ]
        },
        {
          "name": "stderr",
          "output_type": "stream",
          "text": [
            "Device set to use mps:0\n"
          ]
        },
        {
          "name": "stdout",
          "output_type": "stream",
          "text": [
            "\n",
            "📄 Review: there is no relation at all between fortier and profiler but the fact that both are police series ab...\n",
            "🔍 Top predictions: ['funny', 'enjoyable', 'entertaining', 'excellent', 'positive']\n",
            "📊 Probabilities: ['0.0594', '0.0552', '0.0434', '0.0415', '0.0411']\n",
            "----------------------------------------------------------------------------------------------------\n",
            "\n",
            "📄 Review: this movie is a great. the plot is very true to the book which is a classic written by mark twain. t...\n",
            "🔍 Top predictions: ['positive', 'excellent', 'good', 'fantastic', 'great']\n",
            "📊 Probabilities: ['0.0772', '0.0753', '0.0624', '0.0550', '0.0519']\n",
            "----------------------------------------------------------------------------------------------------\n",
            "\n",
            "📄 Review: george p. cosmatos' \"rambo: first blood part ii\" is pure wish-fulfillment. the united states clearly...\n",
            "🔍 Top predictions: ['brilliant', 'impressive', 'entertaining', 'disappointing', 'hilarious']\n",
            "📊 Probabilities: ['0.0519', '0.0422', '0.0307', '0.0301', '0.0273']\n",
            "----------------------------------------------------------------------------------------------------\n"
          ]
        }
      ],
      "source": [
        "examples = dataset[\"train\"].shuffle(seed=42).select(range(3))\n",
        "\n",
        "models = {\n",
        "    \"BERT\": \"bert-base-uncased\",\n",
        "    \"RoBERTa\": \"roberta-base\",\n",
        "    \"DistilBERT\": \"distilbert-base-uncased\"\n",
        "}\n",
        "\n",
        "#cloze_task = f\"The review said: *'my_review_here'* Overall, it was [MASK].\"\n",
        "\n",
        "for model_name, model_path in models.items():\n",
        "    print(f\"Loading fill-mask pipeline for {model_name}...\")\n",
        "    # Load fill-mask pipeline\n",
        "    classifier = pipeline(\"fill-mask\", model=model_path)\n",
        "    \n",
        "    # Define mask token based on model\n",
        "    mask_token = \"<mask>\" if \"roberta\" in model_path else \"[MASK]\"\n",
        "    \n",
        "    for example in examples:\n",
        "        # Create masked input with sentiment at the end\n",
        "        masked_text = f\"The review said: *'{example['text']}'* Overall, it was {mask_token}.\"\n",
        "        result = classifier(masked_text)\n",
        "        print(f\"\\n📄 Review: {example['text'][:100]}...\")\n",
        "        \n",
        "        # Fix the f-string syntax\n",
        "        top_predictions = [r[\"token_str\"] for r in result[:5]]\n",
        "        top_scores = [f\"{r['score']:.4f}\" for r in result[:5]]\n",
        "        \n",
        "        print(f\"🔍 Top predictions: {top_predictions}\")\n",
        "        print(f\"📊 Probabilities: {top_scores}\")\n",
        "        print(\"-\"*100)"
      ]
    },
    {
      "cell_type": "markdown",
      "metadata": {},
      "source": [
        "And if I want to reduce only to two candidates:"
      ]
    },
    {
      "cell_type": "code",
      "execution_count": 38,
      "metadata": {},
      "outputs": [
        {
          "name": "stdout",
          "output_type": "stream",
          "text": [
            "Loading fill-mask pipeline for BERT...\n"
          ]
        },
        {
          "name": "stderr",
          "output_type": "stream",
          "text": [
            "Some weights of the model checkpoint at bert-base-uncased were not used when initializing BertForMaskedLM: ['bert.pooler.dense.bias', 'bert.pooler.dense.weight', 'cls.seq_relationship.bias', 'cls.seq_relationship.weight']\n",
            "- This IS expected if you are initializing BertForMaskedLM from the checkpoint of a model trained on another task or with another architecture (e.g. initializing a BertForSequenceClassification model from a BertForPreTraining model).\n",
            "- This IS NOT expected if you are initializing BertForMaskedLM from the checkpoint of a model that you expect to be exactly identical (initializing a BertForSequenceClassification model from a BertForSequenceClassification model).\n",
            "Device set to use mps:0\n"
          ]
        },
        {
          "name": "stdout",
          "output_type": "stream",
          "text": [
            "\n",
            "📄 Review: there is no relation at all between fortier and profiler but the fact that both are police series ab...\n",
            "🔍 Top predictions: ['good', 'bad']\n",
            "📊 Probabilities: ['0.9978', '0.0022']\n",
            "----------------------------------------------------------------------------------------------------\n",
            "\n",
            "📄 Review: this movie is a great. the plot is very true to the book which is a classic written by mark twain. t...\n",
            "🔍 Top predictions: ['good', 'bad']\n",
            "📊 Probabilities: ['0.9976', '0.0024']\n",
            "----------------------------------------------------------------------------------------------------\n",
            "\n",
            "📄 Review: george p. cosmatos' \"rambo: first blood part ii\" is pure wish-fulfillment. the united states clearly...\n",
            "🔍 Top predictions: ['good', 'bad']\n",
            "📊 Probabilities: ['0.9955', '0.0045']\n",
            "----------------------------------------------------------------------------------------------------\n",
            "Loading fill-mask pipeline for RoBERTa...\n"
          ]
        },
        {
          "name": "stderr",
          "output_type": "stream",
          "text": [
            "Device set to use mps:0\n"
          ]
        },
        {
          "name": "stdout",
          "output_type": "stream",
          "text": [
            "\n",
            "📄 Review: there is no relation at all between fortier and profiler but the fact that both are police series ab...\n",
            "🔍 Top predictions: ['good', 'bad']\n",
            "📊 Probabilities: ['0.9813', '0.0187']\n",
            "----------------------------------------------------------------------------------------------------\n",
            "\n",
            "📄 Review: this movie is a great. the plot is very true to the book which is a classic written by mark twain. t...\n",
            "🔍 Top predictions: ['good', 'bad']\n",
            "📊 Probabilities: ['0.9973', '0.0027']\n",
            "----------------------------------------------------------------------------------------------------\n",
            "\n",
            "📄 Review: george p. cosmatos' \"rambo: first blood part ii\" is pure wish-fulfillment. the united states clearly...\n",
            "🔍 Top predictions: ['good', 'bad']\n",
            "📊 Probabilities: ['0.9209', '0.0791']\n",
            "----------------------------------------------------------------------------------------------------\n",
            "Loading fill-mask pipeline for DistilBERT...\n"
          ]
        },
        {
          "name": "stderr",
          "output_type": "stream",
          "text": [
            "Device set to use mps:0\n"
          ]
        },
        {
          "name": "stdout",
          "output_type": "stream",
          "text": [
            "\n",
            "📄 Review: there is no relation at all between fortier and profiler but the fact that both are police series ab...\n",
            "🔍 Top predictions: ['good', 'bad']\n",
            "📊 Probabilities: ['0.9233', '0.0767']\n",
            "----------------------------------------------------------------------------------------------------\n",
            "\n",
            "📄 Review: this movie is a great. the plot is very true to the book which is a classic written by mark twain. t...\n",
            "🔍 Top predictions: ['good', 'bad']\n",
            "📊 Probabilities: ['0.9707', '0.0293']\n",
            "----------------------------------------------------------------------------------------------------\n",
            "\n",
            "📄 Review: george p. cosmatos' \"rambo: first blood part ii\" is pure wish-fulfillment. the united states clearly...\n",
            "🔍 Top predictions: ['good', 'bad']\n",
            "📊 Probabilities: ['0.9232', '0.0768']\n",
            "----------------------------------------------------------------------------------------------------\n"
          ]
        }
      ],
      "source": [
        "# Define candidate labels\n",
        "labels = [\"good\", \"bad\"]\n",
        "\n",
        "examples = dataset[\"train\"].shuffle(seed=42).select(range(3))\n",
        "\n",
        "models = {\n",
        "    \"BERT\": \"bert-base-uncased\",\n",
        "    \"RoBERTa\": \"roberta-base\",\n",
        "    \"DistilBERT\": \"distilbert-base-uncased\"\n",
        "}\n",
        "\n",
        "#cloze_task = f\"The review said: *'my_review_here'* Overall, it was [MASK].\"\n",
        "\n",
        "for model_name, model_path in models.items():\n",
        "    print(f\"Loading fill-mask pipeline for {model_name}...\")\n",
        "    # Load fill-mask pipeline\n",
        "    classifier = pipeline(\"fill-mask\", model=model_path)\n",
        "    \n",
        "    # Define mask token based on model\n",
        "    mask_token = \"<mask>\" if \"roberta\" in model_path else \"[MASK]\"\n",
        "    \n",
        "    for example in examples:\n",
        "        # Create masked input with sentiment at the end\n",
        "        masked_text = f\"The review said: *'{example['text']}'* Overall, it was {mask_token}.\"\n",
        "        result = classifier(masked_text, targets=labels)\n",
        "        print(f\"\\n📄 Review: {example['text'][:100]}...\")\n",
        "        \n",
        "        # Fix the f-string syntax\n",
        "        sum_score = sum([r['score'] for r in result])\n",
        "        top_predictions = [r[\"token_str\"] for r in result]\n",
        "        top_scores = [f\"{r['score']/sum_score:.4f}\" for r in result]\n",
        "        \n",
        "        print(f\"🔍 Top predictions: {top_predictions}\")\n",
        "        print(f\"📊 Probabilities: {top_scores}\")\n",
        "        print(\"-\"*100)"
      ]
    },
    {
      "cell_type": "markdown",
      "metadata": {},
      "source": [
        "Okay let's now try to apply different cloze tasks to see if there is any difference with the three models. "
      ]
    },
    {
      "cell_type": "code",
      "execution_count": 119,
      "metadata": {},
      "outputs": [
        {
          "name": "stdout",
          "output_type": "stream",
          "text": [
            "Loading fill-mask pipeline for BERT...\n"
          ]
        },
        {
          "name": "stderr",
          "output_type": "stream",
          "text": [
            "Some weights of the model checkpoint at bert-base-uncased were not used when initializing BertForMaskedLM: ['bert.pooler.dense.bias', 'bert.pooler.dense.weight', 'cls.seq_relationship.bias', 'cls.seq_relationship.weight']\n",
            "- This IS expected if you are initializing BertForMaskedLM from the checkpoint of a model trained on another task or with another architecture (e.g. initializing a BertForSequenceClassification model from a BertForPreTraining model).\n",
            "- This IS NOT expected if you are initializing BertForMaskedLM from the checkpoint of a model that you expect to be exactly identical (initializing a BertForSequenceClassification model from a BertForSequenceClassification model).\n",
            "Device set to use mps:0\n",
            "Classifying with BERT: 100%|██████████| 63/63 [00:29<00:00,  2.15it/s]\n"
          ]
        },
        {
          "name": "stdout",
          "output_type": "stream",
          "text": [
            "Classification Report for BERT:\n",
            "\n",
            "{\n",
            "    \"prompt_template\": \"{}. This movie was really {}.\",\n",
            "    \"targets\": [\n",
            "        \"good\",\n",
            "        \"bad\"\n",
            "    ]\n",
            "}\n",
            "              precision    recall  f1-score   support\n",
            "\n",
            "        good       0.90      0.16      0.27       238\n",
            "         bad       0.56      0.98      0.72       262\n",
            "\n",
            "    accuracy                           0.59       500\n",
            "   macro avg       0.73      0.57      0.49       500\n",
            "weighted avg       0.73      0.59      0.50       500\n",
            "\n"
          ]
        },
        {
          "name": "stderr",
          "output_type": "stream",
          "text": [
            "Classifying with BERT: 100%|██████████| 63/63 [00:30<00:00,  2.08it/s]\n"
          ]
        },
        {
          "name": "stdout",
          "output_type": "stream",
          "text": [
            "Classification Report for BERT:\n",
            "\n",
            "{\n",
            "    \"prompt_template\": \"This movie was really {}. {}.\",\n",
            "    \"targets\": [\n",
            "        \"great\",\n",
            "        \"bad\"\n",
            "    ]\n",
            "}\n",
            "              precision    recall  f1-score   support\n",
            "\n",
            "        good       0.86      0.33      0.48       238\n",
            "         bad       0.61      0.95      0.74       262\n",
            "\n",
            "    accuracy                           0.66       500\n",
            "   macro avg       0.73      0.64      0.61       500\n",
            "weighted avg       0.73      0.66      0.62       500\n",
            "\n"
          ]
        },
        {
          "name": "stderr",
          "output_type": "stream",
          "text": [
            "Classifying with BERT: 100%|██████████| 63/63 [00:29<00:00,  2.13it/s]\n"
          ]
        },
        {
          "name": "stdout",
          "output_type": "stream",
          "text": [
            "Classification Report for BERT:\n",
            "\n",
            "{\n",
            "    \"prompt_template\": \"{}. Did you like the movie? {}. \",\n",
            "    \"targets\": [\n",
            "        \"yes\",\n",
            "        \"no\"\n",
            "    ]\n",
            "}\n",
            "              precision    recall  f1-score   support\n",
            "\n",
            "        good       0.48      1.00      0.65       238\n",
            "         bad       0.83      0.02      0.04       262\n",
            "\n",
            "    accuracy                           0.48       500\n",
            "   macro avg       0.66      0.51      0.34       500\n",
            "weighted avg       0.67      0.48      0.33       500\n",
            "\n"
          ]
        },
        {
          "name": "stderr",
          "output_type": "stream",
          "text": [
            "Classifying with BERT: 100%|██████████| 63/63 [00:30<00:00,  2.09it/s]\n"
          ]
        },
        {
          "name": "stdout",
          "output_type": "stream",
          "text": [
            "Classification Report for BERT:\n",
            "\n",
            "{\n",
            "    \"prompt_template\": \"Did you like the movie? {}. {}\",\n",
            "    \"targets\": [\n",
            "        \"yes\",\n",
            "        \"no\"\n",
            "    ]\n",
            "}\n",
            "              precision    recall  f1-score   support\n",
            "\n",
            "        good       0.49      0.99      0.66       238\n",
            "         bad       0.90      0.07      0.13       262\n",
            "\n",
            "    accuracy                           0.51       500\n",
            "   macro avg       0.70      0.53      0.40       500\n",
            "weighted avg       0.71      0.51      0.38       500\n",
            "\n",
            "Loading fill-mask pipeline for RoBERTa...\n"
          ]
        },
        {
          "name": "stderr",
          "output_type": "stream",
          "text": [
            "Device set to use mps:0\n",
            "Classifying with RoBERTa: 100%|██████████| 63/63 [00:40<00:00,  1.56it/s]\n"
          ]
        },
        {
          "name": "stdout",
          "output_type": "stream",
          "text": [
            "Classification Report for RoBERTa:\n",
            "\n",
            "{\n",
            "    \"prompt_template\": \"{}. This movie was really {}.\",\n",
            "    \"targets\": [\n",
            "        \"good\",\n",
            "        \"bad\"\n",
            "    ]\n",
            "}\n",
            "              precision    recall  f1-score   support\n",
            "\n",
            "        good       0.94      0.75      0.84       238\n",
            "         bad       0.81      0.96      0.88       262\n",
            "\n",
            "    accuracy                           0.86       500\n",
            "   macro avg       0.88      0.86      0.86       500\n",
            "weighted avg       0.87      0.86      0.86       500\n",
            "\n"
          ]
        },
        {
          "name": "stderr",
          "output_type": "stream",
          "text": [
            "Classifying with RoBERTa: 100%|██████████| 63/63 [00:39<00:00,  1.60it/s]\n"
          ]
        },
        {
          "name": "stdout",
          "output_type": "stream",
          "text": [
            "Classification Report for RoBERTa:\n",
            "\n",
            "{\n",
            "    \"prompt_template\": \"This movie was really {}. {}.\",\n",
            "    \"targets\": [\n",
            "        \"great\",\n",
            "        \"bad\"\n",
            "    ]\n",
            "}\n",
            "              precision    recall  f1-score   support\n",
            "\n",
            "        good       0.70      0.96      0.81       238\n",
            "         bad       0.95      0.63      0.76       262\n",
            "\n",
            "    accuracy                           0.79       500\n",
            "   macro avg       0.83      0.80      0.78       500\n",
            "weighted avg       0.83      0.79      0.78       500\n",
            "\n"
          ]
        },
        {
          "name": "stderr",
          "output_type": "stream",
          "text": [
            "Classifying with RoBERTa: 100%|██████████| 63/63 [00:46<00:00,  1.36it/s]\n"
          ]
        },
        {
          "name": "stdout",
          "output_type": "stream",
          "text": [
            "Classification Report for RoBERTa:\n",
            "\n",
            "{\n",
            "    \"prompt_template\": \"{}. Did you like the movie? {}. \",\n",
            "    \"targets\": [\n",
            "        \"yes\",\n",
            "        \"no\"\n",
            "    ]\n",
            "}\n",
            "              precision    recall  f1-score   support\n",
            "\n",
            "        good       0.83      0.30      0.44       238\n",
            "         bad       0.60      0.94      0.73       262\n",
            "\n",
            "    accuracy                           0.64       500\n",
            "   macro avg       0.71      0.62      0.58       500\n",
            "weighted avg       0.71      0.64      0.59       500\n",
            "\n"
          ]
        },
        {
          "name": "stderr",
          "output_type": "stream",
          "text": [
            "Classifying with RoBERTa: 100%|██████████| 63/63 [00:42<00:00,  1.49it/s]\n"
          ]
        },
        {
          "name": "stdout",
          "output_type": "stream",
          "text": [
            "Classification Report for RoBERTa:\n",
            "\n",
            "{\n",
            "    \"prompt_template\": \"Did you like the movie? {}. {}\",\n",
            "    \"targets\": [\n",
            "        \"yes\",\n",
            "        \"no\"\n",
            "    ]\n",
            "}\n",
            "              precision    recall  f1-score   support\n",
            "\n",
            "        good       0.89      0.61      0.73       238\n",
            "         bad       0.73      0.93      0.82       262\n",
            "\n",
            "    accuracy                           0.78       500\n",
            "   macro avg       0.81      0.77      0.77       500\n",
            "weighted avg       0.80      0.78      0.77       500\n",
            "\n",
            "Loading fill-mask pipeline for DistilBERT...\n"
          ]
        },
        {
          "name": "stderr",
          "output_type": "stream",
          "text": [
            "Device set to use mps:0\n",
            "Classifying with DistilBERT: 100%|██████████| 63/63 [00:20<00:00,  3.01it/s]\n"
          ]
        },
        {
          "name": "stdout",
          "output_type": "stream",
          "text": [
            "Classification Report for DistilBERT:\n",
            "\n",
            "{\n",
            "    \"prompt_template\": \"{}. This movie was really {}.\",\n",
            "    \"targets\": [\n",
            "        \"good\",\n",
            "        \"bad\"\n",
            "    ]\n",
            "}\n",
            "              precision    recall  f1-score   support\n",
            "\n",
            "        good       0.75      0.79      0.76       238\n",
            "         bad       0.80      0.76      0.77       262\n",
            "\n",
            "    accuracy                           0.77       500\n",
            "   macro avg       0.77      0.77      0.77       500\n",
            "weighted avg       0.77      0.77      0.77       500\n",
            "\n"
          ]
        },
        {
          "name": "stderr",
          "output_type": "stream",
          "text": [
            "Classifying with DistilBERT: 100%|██████████| 63/63 [00:20<00:00,  3.11it/s]\n"
          ]
        },
        {
          "name": "stdout",
          "output_type": "stream",
          "text": [
            "Classification Report for DistilBERT:\n",
            "\n",
            "{\n",
            "    \"prompt_template\": \"This movie was really {}. {}.\",\n",
            "    \"targets\": [\n",
            "        \"great\",\n",
            "        \"bad\"\n",
            "    ]\n",
            "}\n",
            "              precision    recall  f1-score   support\n",
            "\n",
            "        good       0.74      0.72      0.73       238\n",
            "         bad       0.75      0.76      0.76       262\n",
            "\n",
            "    accuracy                           0.74       500\n",
            "   macro avg       0.74      0.74      0.74       500\n",
            "weighted avg       0.74      0.74      0.74       500\n",
            "\n"
          ]
        },
        {
          "name": "stderr",
          "output_type": "stream",
          "text": [
            "Classifying with DistilBERT: 100%|██████████| 63/63 [00:20<00:00,  3.15it/s]\n"
          ]
        },
        {
          "name": "stdout",
          "output_type": "stream",
          "text": [
            "Classification Report for DistilBERT:\n",
            "\n",
            "{\n",
            "    \"prompt_template\": \"{}. Did you like the movie? {}. \",\n",
            "    \"targets\": [\n",
            "        \"yes\",\n",
            "        \"no\"\n",
            "    ]\n",
            "}\n",
            "              precision    recall  f1-score   support\n",
            "\n",
            "        good       0.53      0.84      0.65       238\n",
            "         bad       0.68      0.32      0.43       262\n",
            "\n",
            "    accuracy                           0.56       500\n",
            "   macro avg       0.60      0.58      0.54       500\n",
            "weighted avg       0.61      0.56      0.53       500\n",
            "\n"
          ]
        },
        {
          "name": "stderr",
          "output_type": "stream",
          "text": [
            "Classifying with DistilBERT: 100%|██████████| 63/63 [00:19<00:00,  3.20it/s]"
          ]
        },
        {
          "name": "stdout",
          "output_type": "stream",
          "text": [
            "Classification Report for DistilBERT:\n",
            "\n",
            "{\n",
            "    \"prompt_template\": \"Did you like the movie? {}. {}\",\n",
            "    \"targets\": [\n",
            "        \"yes\",\n",
            "        \"no\"\n",
            "    ]\n",
            "}\n",
            "              precision    recall  f1-score   support\n",
            "\n",
            "        good       0.55      0.64      0.59       238\n",
            "         bad       0.62      0.53      0.57       262\n",
            "\n",
            "    accuracy                           0.58       500\n",
            "   macro avg       0.59      0.59      0.58       500\n",
            "weighted avg       0.59      0.58      0.58       500\n",
            "\n"
          ]
        },
        {
          "name": "stderr",
          "output_type": "stream",
          "text": [
            "\n"
          ]
        }
      ],
      "source": [
        "from transformers import pipeline\n",
        "from tqdm import tqdm\n",
        "import numpy as np\n",
        "from sklearn.metrics import classification_report\n",
        "import matplotlib.pyplot as plt\n",
        "import pandas as pd\n",
        "import json\n",
        "\n",
        "models = {\n",
        "    \"BERT\": \"bert-base-uncased\",\n",
        "    \"RoBERTa\": \"roberta-base\",\n",
        "    \"DistilBERT\": \"distilbert-base-uncased\"\n",
        "}\n",
        "\n",
        "# Define candidate labels and the hypotheses\n",
        "cloze_task_parameters = [\n",
        "    {\n",
        "    \"prompt_template\": \"{}. This movie was really {}.\",\n",
        "    \"targets\": [\"good\", \"bad\"]\n",
        "    },\n",
        "    {\n",
        "    \"prompt_template\": \"This movie was really {}. {}.\",\n",
        "    \"targets\": [\"great\", \"bad\"]\n",
        "    },\n",
        "    {\n",
        "    \"prompt_template\": \"{}. Did you like the movie? {}. \",\n",
        "    \"targets\": [\"yes\", \"no\"]\n",
        "    },\n",
        "    {\n",
        "    \"prompt_template\": \"Did you like the movie? {}. {}\",\n",
        "    \"targets\": [\"yes\", \"no\"]\n",
        "    }\n",
        "    ]\n",
        "\n",
        "# Dictionary to store results for comparison\n",
        "cloze_task_results = {}\n",
        "\n",
        "\n",
        "for model_name, model_path in models.items():\n",
        "    print(f\"Loading fill-mask pipeline for {model_name}...\")\n",
        "    # Load fill-mask pipeline\n",
        "    classifier = pipeline(\"fill-mask\", model=model_path)\n",
        "    mask_token = \"<mask>\" if \"roberta\" in model_path else \"[MASK]\"\n",
        "    for i, cloze_task in enumerate(cloze_task_parameters):\n",
        "        prompt_template = cloze_task['prompt_template']\n",
        "        targets = cloze_task[\"targets\"]\n",
        "    \n",
        "        # Process examples in batches to avoid memory issues\n",
        "        batch_size = 8\n",
        "        preds = []\n",
        "        probs = []\n",
        "        \n",
        "        for k in tqdm(range(0, len(sample_texts), batch_size), desc=f\"Classifying with {model_name}\"):\n",
        "            batch_texts = sample_texts[k:k+batch_size]\n",
        "            if i % 2 == 0:\n",
        "                masked_texts = [prompt_template.format(text[:1024], mask_token) for text in batch_texts]\n",
        "            else:\n",
        "                masked_texts = [prompt_template.format(mask_token, text[:1024]) for text in batch_texts]\n",
        "            batch_results = classifier(masked_texts, targets=targets)\n",
        "            \n",
        "            # Handle single result vs batch results\n",
        "            if not isinstance(batch_results, list):\n",
        "                batch_results = [batch_results]\n",
        "                \n",
        "            for result in batch_results:\n",
        "                # Get scores\n",
        "                scores = [r['score'] for r in result]\n",
        "                scores = [r/sum(scores) for r in scores]\n",
        "                # Get index of positive label\n",
        "                idx = [r['token_str'] for r in result]\n",
        "                pos_idx = 0 if idx[0] in ['good', 'yes', 'great'] else 1\n",
        "                # Store probability of positive class\n",
        "                probs.append([scores[pos_idx], 1-scores[pos_idx]])\n",
        "                # Predict label (1 for positive, 0 for negative)\n",
        "                pred = 1 if scores[pos_idx] > 0.5 else 0\n",
        "                preds.append(pred)\n",
        "        \n",
        "        # Evaluate\n",
        "        report = classification_report(sample_labels, preds, target_names=labels, output_dict=True)\n",
        "        print(f\"Classification Report for {model_name}:\\n\")\n",
        "        print(json.dumps(cloze_task, indent=4))\n",
        "        print(classification_report(sample_labels, preds, target_names=labels))\n",
        "    \n",
        "        # Store results for comparison\n",
        "        cloze_task_results[model_name + f'_prompt_{i+1}'] = {\n",
        "                                                        \"predictions\": preds,\n",
        "                                                        \"probabilities\": np.array(probs),\n",
        "                                                        \"report\": report\n",
        "                                                    }\n",
        "\n",
        "# Combine all results for comparison\n",
        "combined_results = {}\n",
        "combined_results.update(all_results)  # Lattent Embeddings\n",
        "combined_results.update(nli_results)  # NLI models\n",
        "combined_results.update(cloze_task_results) #Clozed tasks\n",
        "\n",
        "# Extract metrics for comparison\n",
        "metrics_data = []\n",
        "\n",
        "for model_name, result in combined_results.items():\n",
        "    # Get model short name\n",
        "    if \"/\" in model_name:\n",
        "        model_short = model_name.split(\"/\")[1]\n",
        "    else:\n",
        "        model_short = model_name\n",
        "        \n",
        "    report = result[\"report\"]\n",
        "    \n",
        "    # Get overall metrics\n",
        "    accuracy = report[\"accuracy\"]\n",
        "    \n",
        "    # Get averaged metrics (macro avg)\n",
        "    macro_precision = report[\"macro avg\"][\"precision\"]\n",
        "    macro_recall = report[\"macro avg\"][\"recall\"]\n",
        "    macro_f1 = report[\"macro avg\"][\"f1-score\"]\n",
        "    \n",
        "    # Store in data list\n",
        "    metrics_data.append({\n",
        "        \"Model\": model_short,\n",
        "        \"Accuracy\": accuracy,\n",
        "        \"Precision\": macro_precision,\n",
        "        \"Recall\": macro_recall,\n",
        "        \"F1-Score\": macro_f1\n",
        "    })"
      ]
    },
    {
      "cell_type": "code",
      "execution_count": 122,
      "metadata": {},
      "outputs": [
        {
          "data": {
            "image/png": "[encoded data removed]",
            "text/plain": [
              "<Figure size 1200x600 with 1 Axes>"
            ]
          },
          "metadata": {},
          "output_type": "display_data"
        },
        {
          "name": "stdout",
          "output_type": "stream",
          "text": [
            "\n",
            "📊 Model Comparison (Accuracy):\n",
            "bart-large-mnli: 0.9240\n",
            "RoBERTa_prompt_1: 0.8600\n",
            "roberta-large-mnli: 0.8500\n",
            "RoBERTa_prompt_2: 0.7880\n",
            "RoBERTa_prompt_4: 0.7800\n",
            "DistilBERT_prompt_1: 0.7700\n",
            "DistilBERT_prompt_2: 0.7440\n",
            "BERT_prompt_2: 0.6560\n",
            "RoBERTa_prompt_3: 0.6360\n",
            "bert-base-uncased: 0.6320\n",
            "BERT_prompt_1: 0.5920\n",
            "DistilBERT_prompt_4: 0.5840\n",
            "DistilBERT_prompt_3: 0.5640\n",
            "roberta-base: 0.5280\n",
            "distilbert-base-uncased: 0.5220\n",
            "BERT_prompt_4: 0.5100\n",
            "BERT_prompt_3: 0.4840\n"
          ]
        }
      ],
      "source": [
        "# Convert to DataFrame\n",
        "df = pd.DataFrame(metrics_data)\n",
        "\n",
        "# Reshape for grouped bar chart\n",
        "metrics_df = pd.melt(df, \n",
        "                     id_vars=[\"Model\"],\n",
        "                     value_vars=[\"Accuracy\", \"Precision\", \"Recall\", \"F1-Score\"],\n",
        "                     var_name=\"Metric\", value_name=\"Score\")\n",
        "\n",
        "# Set up the plot\n",
        "plt.figure(figsize=(12, 6))\n",
        "bar_width = 0.05\n",
        "opacity = 0.8\n",
        "\n",
        "# Create grouped bar chart\n",
        "ax = plt.subplot(111)\n",
        "\n",
        "# Get unique models and metrics\n",
        "models = df[\"Model\"].unique()\n",
        "metrics = [\"Accuracy\", \"Precision\", \"Recall\", \"F1-Score\"]\n",
        "\n",
        "# Set x positions for bars\n",
        "x_pos = np.arange(len(metrics))\n",
        "\n",
        "# Plot bars for each model\n",
        "colors = plt.cm.tab10(np.linspace(0, 1, len(models)))\n",
        "for i, model in enumerate(models):\n",
        "    model_data = metrics_df[metrics_df[\"Model\"] == model]\n",
        "    \n",
        "    # Make sure we have all metrics for this model\n",
        "    values = []\n",
        "    for metric in metrics:\n",
        "        metric_row = model_data[model_data[\"Metric\"] == metric]\n",
        "        if len(metric_row) > 0:\n",
        "            values.append(metric_row[\"Score\"].values[0])\n",
        "        else:\n",
        "            values.append(0)  # Default if missing\n",
        "    \n",
        "    offset = bar_width * (i - len(models)/2 + 0.1)\n",
        "    plt.bar(x_pos + offset, \n",
        "            values, \n",
        "            bar_width, \n",
        "            alpha=opacity,\n",
        "            color=colors[i],\n",
        "            label=model)\n",
        "\n",
        "# Customize plot\n",
        "plt.xlabel('Metric')\n",
        "plt.ylabel('Score')\n",
        "plt.title('Zero-Shot Classification Performance (Embedding vs NLI)')\n",
        "plt.xticks(x_pos, metrics)\n",
        "plt.legend(loc='upper center', bbox_to_anchor=(0.5, -0.15), ncol=3)\n",
        "plt.grid(axis='y', linestyle='--', alpha=0.7)\n",
        "plt.tight_layout()\n",
        "\n",
        "# Add value labels on top of bars\n",
        "for i, model in enumerate(models):\n",
        "    model_data = metrics_df[metrics_df[\"Model\"] == model]\n",
        "    offset = bar_width * (i - len(models)/2 + 0.5)\n",
        "    \n",
        "    values = []\n",
        "    for metric in metrics:\n",
        "        metric_row = model_data[model_data[\"Metric\"] == metric]\n",
        "        if len(metric_row) > 0:\n",
        "            values.append(metric_row[\"Score\"].values[0])\n",
        "        else:\n",
        "            values.append(0)\n",
        "    \n",
        "    for j, score in enumerate(values):\n",
        "        plt.text(j + offset, score + 0.01, f'{score:.2f}', \n",
        "                 ha='center', va='bottom', fontsize=7)\n",
        "\n",
        "\n",
        "plt.show()\n",
        "\n",
        "# Print comparative summary\n",
        "print(\"\\n📊 Model Comparison (Accuracy):\")\n",
        "for model_name, result in sorted(combined_results.items(), key=lambda x: x[1][\"report\"][\"accuracy\"], reverse=True):\n",
        "    acc = result[\"report\"][\"accuracy\"]\n",
        "    if \"/\" in model_name:\n",
        "        model_short = model_name.split(\"/\")[1]\n",
        "    else:\n",
        "        model_short = model_name\n",
        "    print(f\"{model_short}: {acc:.4f}\")"
      ]
    },
    {
      "cell_type": "markdown",
      "metadata": {},
      "source": [
        "### 🔍 Performance Summary\n",
        "\n",
        "We explored **zero-shot classification via Cloze-style prompts**, applying several templated sentence structures to three models: **BERT**, **RoBERTa**, and **DistilBERT**.\n",
        "\n",
        "---\n",
        "\n",
        "#### 📈 Key Observations\n",
        "\n",
        "1. **RoBERTa Performs Best in Zero-Shot**:\n",
        "   - With the prompt `\"{}. This movie was really {}.\"` and targets `[\"good\", \"bad\"]`, **RoBERTa reached 86% F1**  approaching the performance of a supervised TF-IDF + Logistic Regression baseline (88%).\n",
        "   - It also handled other prompts relatively well, with **3 prompts scoring above 70% F1**.\n",
        "\n",
        "2. **DistilBERT Shows Competitive Results**:\n",
        "   - Despite being lighter, **DistilBERT achieved >75% F1** on two prompts.\n",
        "   - Its performance is generally consistent, and with tuning, it could be an efficient alternative for real-time or edge applications.\n",
        "\n",
        "3. **BERT Underperforms in Cloze Format**:\n",
        "   - Most prompts yielded **subpar results**, with some F1 scores **lower than a random baseline (50%)**.\n",
        "   - This suggests **BERT’s MLM behavior is more sensitive** to how the prompt is structured, or its masked token inference is less calibrated for classification prompts.\n",
        "\n",
        "4. **Template Matters — A Lot**:\n",
        "   - Prompts like `\"{}. Did you like the movie? {}.\"` failed across all models — showing **low recall** for negative sentiment and severely **imbalanced predictions**.\n",
        "   - Templates that clearly align sentiment with polarity words (e.g., “good/bad” after “This movie was…”) yield much **better discriminative signals**.\n",
        "\n",
        "---\n",
        "\n",
        "#### 🧠 Why Does This Matter?\n",
        "\n",
        "- **Cloze-style classification is promising**: With no labeled training data and basic prompt design, we approach classical supervised accuracy.\n",
        "- It confirms the findings from [Schick & Schütze (2020)](https://arxiv.org/abs/2001.07676), who demonstrate that **pretrained masked language models can learn classification tasks from natural prompts**.\n",
        "\n",
        "---\n",
        "\n",
        "#### 💡 What’s Next?\n",
        "\n",
        "- **Prompt Optimization**:\n",
        "  - Try **more templates**, ensemble across them, or tune word choices (e.g., “great” vs. “excellent”).\n",
        "\n",
        "- **Use as Weak Labels**:\n",
        "  - These predictions could serve as **pseudo-labels** for weak supervision.\n",
        "  - You can **train a downstream model** on a larger dataset labeled using Cloze tasks.\n",
        "\n",
        "- **Explore Calibration**:\n",
        "  - Some models are overconfident or biased toward one label.\n",
        "  - Use temperature scaling or threshold tuning to improve decision boundaries.\n",
        "\n",
        "## 🧪 Step 5: Weak Supervision via Zero-Shot Labeling\n",
        "\n",
        "When we don’t have enough high-quality labeled data, **weak supervision** is a valuable alternative.  \n",
        "Instead of relying on one perfect labeler, we **combine noisy labeling sources** to approximate ground truth.\n",
        "\n",
        "In this notebook, we use:\n",
        "\n",
        "### ⚙️ Strategy: Combine Weak Labels from Cloze Prompts\n",
        "\n",
        "We’ve already seen that different **Cloze-style prompts** can yield meaningful (but not perfect) zero-shot predictions.  \n",
        "Now we’ll treat each prompt as a **weak labeling function**, and **combine** their outputs to create a pseudo-labeled dataset.\n",
        "\n",
        "> Our goal is to see whether a simple combination of weak signals can outperform individual prompts.\n",
        "\n",
        "---\n",
        "\n",
        "### 🧰 Related Tools: Snorkel (Optional)\n",
        "\n",
        "[**Snorkel**](https://snorkel.org/) is a popular framework that:\n",
        "- Models the **accuracy, bias, and correlation** of multiple weak labelers.\n",
        "- Uses **generative models** to produce cleaner labels.\n",
        "- Outputs **confidence-weighted training data** for downstream models."
      ]
    },
    {
      "cell_type": "code",
      "execution_count": null,
      "metadata": {},
      "outputs": [
        {
          "name": "stdout",
          "output_type": "stream",
          "text": [
            "Average predictions of :\n",
            "              precision    recall  f1-score   support\n",
            "\n",
            "        good       0.88      0.87      0.87       238\n",
            "         bad       0.88      0.89      0.89       262\n",
            "\n",
            "    accuracy                           0.88       500\n",
            "   macro avg       0.88      0.88      0.88       500\n",
            "weighted avg       0.88      0.88      0.88       500\n",
            "\n",
            "Weighted predictions:\n",
            "              precision    recall  f1-score   support\n",
            "\n",
            "        good       0.88      0.87      0.87       238\n",
            "         bad       0.88      0.89      0.89       262\n",
            "\n",
            "    accuracy                           0.88       500\n",
            "   macro avg       0.88      0.88      0.88       500\n",
            "weighted avg       0.88      0.88      0.88       500\n",
            "\n"
          ]
        }
      ],
      "source": [
        "import numpy as np\n",
        "\n",
        "# Assuming you have the results stored in a dictionary\n",
        "models = {\n",
        "    \"RoBERTa_prompt_1\": {\"accuracy\": combined_results[\"RoBERTa_prompt_1\"].get('report').get('accuracy'), \"probabilities\": combined_results[\"RoBERTa_prompt_1\"].get(\"probabilities\")},\n",
        "    \"RoBERTa_prompt_2\": {\"accuracy\": combined_results[\"RoBERTa_prompt_2\"].get('report').get('accuracy'), \"probabilities\": combined_results[\"RoBERTa_prompt_2\"].get(\"probabilities\")},\n",
        "    \"RoBERTa_prompt_4\": {\"accuracy\": combined_results[\"RoBERTa_prompt_4\"].get('report').get('accuracy'), \"probabilities\": combined_results[\"RoBERTa_prompt_4\"].get(\"probabilities\")},\n",
        "    \"DistilBERT_prompt_1\": {\"accuracy\": combined_results[\"DistilBERT_prompt_1\"].get('report').get('accuracy'), \"probabilities\": combined_results[\"DistilBERT_prompt_1\"].get(\"probabilities\")},\n",
        "    \"DistilBERT_prompt_2\": {\"accuracy\": combined_results[\"DistilBERT_prompt_2\"].get('report').get('accuracy'), \"probabilities\": combined_results[\"DistilBERT_prompt_2\"].get(\"probabilities\")}\n",
        "}\n",
        "\n",
        "# 1. Simple average of predictions\n",
        "all_probs = [models[key][\"probabilities\"] for key in models]\n",
        "average_predictions = np.mean(all_probs, axis=0)\n",
        "average_labels = 1 - np.argmax(average_predictions, axis=1)\n",
        "\n",
        "# 2. Weighted average based on accuracy\n",
        "weights = np.array([models[key][\"accuracy\"] for key in models])\n",
        "weights = weights / np.sum(weights) \n",
        "\n",
        "weighted_predictions = np.zeros_like(models[\"RoBERTa_prompt_1\"][\"probabilities\"])\n",
        "for i, key in enumerate(models):\n",
        "    weighted_predictions += models[key][\"probabilities\"] * weights[i]\n",
        "\n",
        "weighted_labels = 1 - np.argmax(weighted_predictions, axis=1)\n",
        "\n",
        "mean_predictions = {\"average\": {\"report\": classification_report(sample_labels, average_labels, target_names=labels, output_dict=True), \"predictions\": average_labels, \"probabilities\": average_predictions},\n",
        "                    \"weighted\": {\"report\": classification_report(sample_labels, weighted_labels, target_names=labels, output_dict=True), \"predictions\": weighted_labels, \"probabilities\": weighted_predictions}}\n",
        "\n",
        "# Compare results\n",
        "print(\"Average predictions of :\")\n",
        "print(classification_report(sample_labels, average_labels, target_names=labels))\n",
        "\n",
        "print(\"Weighted predictions:\")\n",
        "print(classification_report(sample_labels, weighted_labels, target_names=labels))"
      ]
    },
    {
      "cell_type": "code",
      "execution_count": 160,
      "metadata": {},
      "outputs": [],
      "source": [
        "# Combine all results for comparison\n",
        "combined_results = {key: value for key, value in cloze_task_results.items() if key in models}\n",
        "combined_results.update(mean_predictions)\n",
        "\n",
        "# Extract metrics for comparison\n",
        "metrics_data = []\n",
        "\n",
        "for model_name, result in combined_results.items():\n",
        "        \n",
        "    report = result[\"report\"]\n",
        "    \n",
        "    # Get overall metrics\n",
        "    accuracy = report[\"accuracy\"]\n",
        "    \n",
        "    # Get averaged metrics (macro avg)\n",
        "    macro_precision = report[\"macro avg\"][\"precision\"]\n",
        "    macro_recall = report[\"macro avg\"][\"recall\"]\n",
        "    macro_f1 = report[\"macro avg\"][\"f1-score\"]\n",
        "    \n",
        "    # Store in data list\n",
        "    metrics_data.append({\n",
        "        \"Model\": model_name,\n",
        "        \"Accuracy\": accuracy,\n",
        "        \"Precision\": macro_precision,\n",
        "        \"Recall\": macro_recall,\n",
        "        \"F1-Score\": macro_f1\n",
        "    })"
      ]
    },
    {
      "cell_type": "code",
      "execution_count": 162,
      "metadata": {},
      "outputs": [
        {
          "data": {
            "image/png": "[encoded data removed]",
            "text/plain": [
              "<Figure size 1200x600 with 1 Axes>"
            ]
          },
          "metadata": {},
          "output_type": "display_data"
        },
        {
          "name": "stdout",
          "output_type": "stream",
          "text": [
            "\n",
            "📊 Model Comparison (Accuracy):\n",
            "average: 0.8800\n",
            "weighted: 0.8800\n",
            "RoBERTa_prompt_1: 0.8600\n",
            "RoBERTa_prompt_2: 0.7880\n",
            "RoBERTa_prompt_4: 0.7800\n",
            "DistilBERT_prompt_1: 0.7700\n",
            "DistilBERT_prompt_2: 0.7440\n"
          ]
        }
      ],
      "source": [
        "# Convert to DataFrame\n",
        "df = pd.DataFrame(metrics_data)\n",
        "\n",
        "# Reshape for grouped bar chart\n",
        "metrics_df = pd.melt(df, \n",
        "                     id_vars=[\"Model\"],\n",
        "                     value_vars=[\"Accuracy\", \"Precision\", \"Recall\", \"F1-Score\"],\n",
        "                     var_name=\"Metric\", value_name=\"Score\")\n",
        "\n",
        "# Set up the plot\n",
        "plt.figure(figsize=(12, 6))\n",
        "bar_width = 0.1\n",
        "opacity = 0.8\n",
        "\n",
        "# Create grouped bar chart\n",
        "ax = plt.subplot(111)\n",
        "\n",
        "# Get unique models and metrics\n",
        "models = df[\"Model\"].unique()\n",
        "metrics = [\"Accuracy\", \"Precision\", \"Recall\", \"F1-Score\"]\n",
        "\n",
        "# Set x positions for bars\n",
        "x_pos = np.arange(len(metrics))\n",
        "\n",
        "# Plot bars for each model\n",
        "colors = plt.cm.tab10(np.linspace(0, 1, len(models)))\n",
        "for i, model in enumerate(models):\n",
        "    model_data = metrics_df[metrics_df[\"Model\"] == model]\n",
        "    \n",
        "    # Make sure we have all metrics for this model\n",
        "    values = []\n",
        "    for metric in metrics:\n",
        "        metric_row = model_data[model_data[\"Metric\"] == metric]\n",
        "        if len(metric_row) > 0:\n",
        "            values.append(metric_row[\"Score\"].values[0])\n",
        "        else:\n",
        "            values.append(0)  # Default if missing\n",
        "    \n",
        "    offset = bar_width * (i - len(models)/2 + 0.1)\n",
        "    plt.bar(x_pos + offset, \n",
        "            values, \n",
        "            bar_width, \n",
        "            alpha=opacity,\n",
        "            color=colors[i],\n",
        "            label=model)\n",
        "\n",
        "# Customize plot\n",
        "plt.xlabel('Metric')\n",
        "plt.ylabel('Score')\n",
        "plt.title('Zero-Shot Classification Performance (Embedding vs NLI)')\n",
        "plt.xticks(x_pos, metrics)\n",
        "plt.legend(loc='upper center', bbox_to_anchor=(0.5, -0.15), ncol=3)\n",
        "plt.grid(axis='y', linestyle='--', alpha=0.7)\n",
        "plt.tight_layout()\n",
        "\n",
        "# Add value labels on top of bars\n",
        "for i, model in enumerate(models):\n",
        "    model_data = metrics_df[metrics_df[\"Model\"] == model]\n",
        "    offset = bar_width * (i - len(models)/2 + 0.5)\n",
        "    \n",
        "    values = []\n",
        "    for metric in metrics:\n",
        "        metric_row = model_data[model_data[\"Metric\"] == metric]\n",
        "        if len(metric_row) > 0:\n",
        "            values.append(metric_row[\"Score\"].values[0])\n",
        "        else:\n",
        "            values.append(0)\n",
        "    \n",
        "    for j, score in enumerate(values):\n",
        "        plt.text(j + offset, score + 0.01, f'{score:.2f}', \n",
        "                 ha='center', va='bottom', fontsize=7)\n",
        "\n",
        "\n",
        "plt.show()\n",
        "\n",
        "# Print comparative summary\n",
        "print(\"\\n📊 Model Comparison (Accuracy):\")\n",
        "for model_name, result in sorted(combined_results.items(), key=lambda x: x[1][\"report\"][\"accuracy\"], reverse=True):\n",
        "    acc = result[\"report\"][\"accuracy\"]\n",
        "    if \"/\" in model_name:\n",
        "        model_short = model_name.split(\"/\")[1]\n",
        "    else:\n",
        "        model_short = model_name\n",
        "    print(f\"{model_short}: {acc:.4f}\")"
      ]
    },
    {
      "cell_type": "markdown",
      "metadata": {},
      "source": [
        "### ✅ Weak Supervision Can Boost Zero-Shot Learning\n",
        "\n",
        "By combining predictions from our **top-performing Cloze-based zero-shot classifiers**, we were able to achieve:\n",
        "\n",
        "#### 🔢 Final Performance (500 Test Reviews):\n",
        "| Aggregation Method     | Accuracy | F1-Score |\n",
        "|------------------------|----------|----------|\n",
        "| **Averaged Predictions** | **88.0%** | **88.0%** |\n",
        "| **Weighted Predictions** | **88.0%** | **88.0%** |\n",
        "\n",
        "This clearly **outperforms each individual model/prompt**:\n",
        "- Best single prompt (RoBERTa): **86.0%**\n",
        "- DistilBERT and others: **74–78%**\n",
        "\n",
        "---\n",
        "\n",
        "#### 🤖 What Does This Mean?\n",
        "\n",
        "Weak supervision — even with basic aggregation — can:\n",
        "- **Amplify weak signals** from multiple imperfect classifiers.\n",
        "- **Smooth out biases** introduced by any one template or model.\n",
        "- Produce **pseudo-labels** that rival strong supervised models like TF-IDF + Logistic Regression (~88%).\n",
        "\n",
        "---\n",
        "\n",
        "#### 🧰 Next Steps\n",
        "\n",
        "In practice, we could:\n",
        "- Use these **combined predictions as training data** to fine-tune a lightweight classifier (e.g., TF-IDF + Logistic Regression or DistilBERT).\n",
        "- Explore more advanced denoising tools like **Snorkel** to:\n",
        "  - Model dependencies between prompts.\n",
        "  - Estimate confidence per label.\n",
        "  - Generate even more reliable weak labels.\n",
        "\n",
        "This makes weak supervision a **powerful strategy** in low-label scenarios and a great stepping stone toward fully supervised fine-tuning\n",
        "\n",
        "---\n",
        "\n",
        "## 🧩 Step 6: Few-Shot Classification with SetFit\n",
        "\n",
        "Now let’s explore **SetFit** — one of the most promising modern approaches for few-shot learning in NLP.\n",
        "\n",
        "SetFit stands for **\"Setence Transformer Fine-Tuning\"** and was introduced by Tunstall et al. (2022).  \n",
        "It leverages **contrastive learning** to achieve excellent performance even with **just 8–16 labeled examples** per class.\n",
        "\n",
        "---\n",
        "\n",
        "### 💡 How Does SetFit Work?\n",
        "\n",
        "SetFit splits the classification task into two stages:\n",
        "\n",
        "1. **Contrastive Learning (Representation Learning)**  \n",
        "   Instead of training with class labels directly, the model learns which sentence pairs are:\n",
        "   - **Semantically similar** (should be close in embedding space)\n",
        "   - **Semantically different** (should be far apart)\n",
        "\n",
        "   This step helps build a powerful embedding space using **only a few labeled examples**.\n",
        "\n",
        "2. **Simple Classifier Head**  \n",
        "   Once the embedding space is trained, a lightweight classifier (like Logistic Regression) is trained **on top of it**.\n",
        "\n",
        "---\n",
        "\n",
        "### 🎯 Why Contrastive Learning?\n",
        "\n",
        "- Imagine giving the model **pairs of reviews**:\n",
        "  - Both are \"positive\" → Pull them closer together\n",
        "  - One \"positive\", one \"negative\" → Push them apart\n",
        "- Over time, the model **naturally clusters similar examples**, even with very few labels.\n",
        "\n",
        "This is similar to how humans **generalize concepts** after seeing just a few examples.\n",
        "\n",
        "---\n",
        "\n",
        "### 🛠️ What Makes SetFit Special?\n",
        "\n",
        "- It **avoids prompt engineering** and **doesn’t need language modeling**.\n",
        "- It works **without GPUs** — training runs in seconds even on CPU.\n",
        "- With **as few as 8–16 examples per class**, it can rival large-scale fine-tuning.\n",
        "\n",
        "---\n",
        "\n",
        "### 🧪 What We’ll Do\n",
        "\n",
        "To test SetFit, we run an experiment where we:\n",
        "\n",
        "- Train the model on **increasing amounts of labeled data**:  \n",
        "  `4, 8, 16, 32, 64, 128` labeled examples.\n",
        "- For each sample size, we repeat training over **10 random seeds** to get stable estimates.\n",
        "- Evaluate on a fixed **500-example test set**.\n",
        "\n",
        "---\n",
        "\n",
        "### 🧬 Code Logic (Simplified)\n",
        "\n",
        "```python\n",
        "sample_sizes = [4, 8, 16, 32, 64, 128]\n",
        "num_iterations = 10\n",
        "\n",
        "# For each sample size, repeat:\n",
        "for size in sample_sizes:\n",
        "    for iteration in range(num_iterations):\n",
        "        - Sample a balanced train set with `size` examples\n",
        "        - Fine-tune SetFit model (MiniLM)\n",
        "        - Evaluate on the same test set\n",
        "        - Store metrics: Accuracy, F1, Precision, Recall\n",
        "```"
      ]
    },
    {
      "cell_type": "code",
      "execution_count": 172,
      "metadata": {},
      "outputs": [
        {
          "name": "stdout",
          "output_type": "stream",
          "text": [
            "Training with 4 examples...\n",
            "  Iteration 1/10\n"
          ]
        },
        {
          "name": "stderr",
          "output_type": "stream",
          "text": [
            "model_head.pkl not found on HuggingFace Hub, initialising classification head with random weights. You should TRAIN this model on a downstream task to use it for predictions and inference.\n",
            "/var/folders/2z/g737jg9d2jj206wkf56g7gyc0000gn/T/ipykernel_33895/2856560924.py:56: DeprecationWarning: `SetFitTrainer` has been deprecated and will be removed in v2.0.0 of SetFit. Please use `Trainer` instead.\n",
            "  trainer = SetFitTrainer(\n"
          ]
        },
        {
          "data": {
            "text/plain": [
              "Map:   0%|          | 0/4 [00:00<?, ? examples/s]"
            ]
          },
          "metadata": {},
          "output_type": "display_data"
        },
        {
          "name": "stderr",
          "output_type": "stream",
          "text": [
            "***** Running training *****\n",
            "  Num unique pairs = 160\n",
            "  Batch size = 16\n",
            "  Num epochs = 1\n",
            "/Users/agomberto/Library/Caches/pypoetry/virtualenvs/bse-nlp-DetGwK6_-py3.11/lib/python3.11/site-packages/torch/utils/data/dataloader.py:683: UserWarning: 'pin_memory' argument is set as true but not supported on MPS now, then device pinned memory won't be used.\n",
            "  warnings.warn(warn_msg)\n"
          ]
        },
        {
          "data": {
            "text/html": [
              "\n",
              "    <div>\n",
              "      \n",
              "      <progress value='10' max='10' style='width:300px; height:20px; vertical-align: middle;'></progress>\n",
              "      [10/10 00:12, Epoch 1/1]\n",
              "    </div>\n",
              "    <table border=\"1\" class=\"dataframe\">\n",
              "  <thead>\n",
              " <tr style=\"text-align: left;\">\n",
              "      <th>Step</th>\n",
              "      <th>Training Loss</th>\n",
              "    </tr>\n",
              "  </thead>\n",
              "  <tbody>\n",
              "    <tr>\n",
              "      <td>1</td>\n",
              "      <td>0.165400</td>\n",
              "    </tr>\n",
              "  </tbody>\n",
              "</table><p>"
            ],
            "text/plain": [
              "<IPython.core.display.HTML object>"
            ]
          },
          "metadata": {},
          "output_type": "display_data"
        },
        {
          "name": "stdout",
          "output_type": "stream",
          "text": [
            "  Iteration 2/10\n"
          ]
        },
        {
          "name": "stderr",
          "output_type": "stream",
          "text": [
            "model_head.pkl not found on HuggingFace Hub, initialising classification head with random weights. You should TRAIN this model on a downstream task to use it for predictions and inference.\n",
            "/var/folders/2z/g737jg9d2jj206wkf56g7gyc0000gn/T/ipykernel_33895/2856560924.py:56: DeprecationWarning: `SetFitTrainer` has been deprecated and will be removed in v2.0.0 of SetFit. Please use `Trainer` instead.\n",
            "  trainer = SetFitTrainer(\n"
          ]
        },
        {
          "data": {
            "text/plain": [
              "Map:   0%|          | 0/4 [00:00<?, ? examples/s]"
            ]
          },
          "metadata": {},
          "output_type": "display_data"
        },
        {
          "name": "stderr",
          "output_type": "stream",
          "text": [
            "***** Running training *****\n",
            "  Num unique pairs = 160\n",
            "  Batch size = 16\n",
            "  Num epochs = 1\n",
            "/Users/agomberto/Library/Caches/pypoetry/virtualenvs/bse-nlp-DetGwK6_-py3.11/lib/python3.11/site-packages/torch/utils/data/dataloader.py:683: UserWarning: 'pin_memory' argument is set as true but not supported on MPS now, then device pinned memory won't be used.\n",
            "  warnings.warn(warn_msg)\n"
          ]
        },
        {
          "data": {
            "text/html": [
              "\n",
              "    <div>\n",
              "      \n",
              "      <progress value='10' max='10' style='width:300px; height:20px; vertical-align: middle;'></progress>\n",
              "      [10/10 00:11, Epoch 1/1]\n",
              "    </div>\n",
              "    <table border=\"1\" class=\"dataframe\">\n",
              "  <thead>\n",
              " <tr style=\"text-align: left;\">\n",
              "      <th>Step</th>\n",
              "      <th>Training Loss</th>\n",
              "    </tr>\n",
              "  </thead>\n",
              "  <tbody>\n",
              "    <tr>\n",
              "      <td>1</td>\n",
              "      <td>0.211100</td>\n",
              "    </tr>\n",
              "  </tbody>\n",
              "</table><p>"
            ],
            "text/plain": [
              "<IPython.core.display.HTML object>"
            ]
          },
          "metadata": {},
          "output_type": "display_data"
        },
        {
          "name": "stdout",
          "output_type": "stream",
          "text": [
            "  Iteration 3/10\n"
          ]
        },
        {
          "name": "stderr",
          "output_type": "stream",
          "text": [
            "model_head.pkl not found on HuggingFace Hub, initialising classification head with random weights. You should TRAIN this model on a downstream task to use it for predictions and inference.\n",
            "/var/folders/2z/g737jg9d2jj206wkf56g7gyc0000gn/T/ipykernel_33895/2856560924.py:56: DeprecationWarning: `SetFitTrainer` has been deprecated and will be removed in v2.0.0 of SetFit. Please use `Trainer` instead.\n",
            "  trainer = SetFitTrainer(\n"
          ]
        },
        {
          "data": {
            "text/plain": [
              "Map:   0%|          | 0/4 [00:00<?, ? examples/s]"
            ]
          },
          "metadata": {},
          "output_type": "display_data"
        },
        {
          "name": "stderr",
          "output_type": "stream",
          "text": [
            "***** Running training *****\n",
            "  Num unique pairs = 160\n",
            "  Batch size = 16\n",
            "  Num epochs = 1\n",
            "/Users/agomberto/Library/Caches/pypoetry/virtualenvs/bse-nlp-DetGwK6_-py3.11/lib/python3.11/site-packages/torch/utils/data/dataloader.py:683: UserWarning: 'pin_memory' argument is set as true but not supported on MPS now, then device pinned memory won't be used.\n",
            "  warnings.warn(warn_msg)\n"
          ]
        },
        {
          "data": {
            "text/html": [
              "\n",
              "    <div>\n",
              "      \n",
              "      <progress value='10' max='10' style='width:300px; height:20px; vertical-align: middle;'></progress>\n",
              "      [10/10 00:11, Epoch 1/1]\n",
              "    </div>\n",
              "    <table border=\"1\" class=\"dataframe\">\n",
              "  <thead>\n",
              " <tr style=\"text-align: left;\">\n",
              "      <th>Step</th>\n",
              "      <th>Training Loss</th>\n",
              "    </tr>\n",
              "  </thead>\n",
              "  <tbody>\n",
              "    <tr>\n",
              "      <td>1</td>\n",
              "      <td>0.168700</td>\n",
              "    </tr>\n",
              "  </tbody>\n",
              "</table><p>"
            ],
            "text/plain": [
              "<IPython.core.display.HTML object>"
            ]
          },
          "metadata": {},
          "output_type": "display_data"
        },
        {
          "name": "stdout",
          "output_type": "stream",
          "text": [
            "  Iteration 4/10\n"
          ]
        },
        {
          "name": "stderr",
          "output_type": "stream",
          "text": [
            "model_head.pkl not found on HuggingFace Hub, initialising classification head with random weights. You should TRAIN this model on a downstream task to use it for predictions and inference.\n",
            "/var/folders/2z/g737jg9d2jj206wkf56g7gyc0000gn/T/ipykernel_33895/2856560924.py:56: DeprecationWarning: `SetFitTrainer` has been deprecated and will be removed in v2.0.0 of SetFit. Please use `Trainer` instead.\n",
            "  trainer = SetFitTrainer(\n"
          ]
        },
        {
          "data": {
            "text/plain": [
              "Map:   0%|          | 0/4 [00:00<?, ? examples/s]"
            ]
          },
          "metadata": {},
          "output_type": "display_data"
        },
        {
          "name": "stderr",
          "output_type": "stream",
          "text": [
            "***** Running training *****\n",
            "  Num unique pairs = 160\n",
            "  Batch size = 16\n",
            "  Num epochs = 1\n",
            "/Users/agomberto/Library/Caches/pypoetry/virtualenvs/bse-nlp-DetGwK6_-py3.11/lib/python3.11/site-packages/torch/utils/data/dataloader.py:683: UserWarning: 'pin_memory' argument is set as true but not supported on MPS now, then device pinned memory won't be used.\n",
            "  warnings.warn(warn_msg)\n"
          ]
        },
        {
          "data": {
            "text/html": [
              "\n",
              "    <div>\n",
              "      \n",
              "      <progress value='10' max='10' style='width:300px; height:20px; vertical-align: middle;'></progress>\n",
              "      [10/10 00:11, Epoch 1/1]\n",
              "    </div>\n",
              "    <table border=\"1\" class=\"dataframe\">\n",
              "  <thead>\n",
              " <tr style=\"text-align: left;\">\n",
              "      <th>Step</th>\n",
              "      <th>Training Loss</th>\n",
              "    </tr>\n",
              "  </thead>\n",
              "  <tbody>\n",
              "    <tr>\n",
              "      <td>1</td>\n",
              "      <td>0.260500</td>\n",
              "    </tr>\n",
              "  </tbody>\n",
              "</table><p>"
            ],
            "text/plain": [
              "<IPython.core.display.HTML object>"
            ]
          },
          "metadata": {},
          "output_type": "display_data"
        },
        {
          "name": "stdout",
          "output_type": "stream",
          "text": [
            "  Iteration 5/10\n"
          ]
        },
        {
          "name": "stderr",
          "output_type": "stream",
          "text": [
            "model_head.pkl not found on HuggingFace Hub, initialising classification head with random weights. You should TRAIN this model on a downstream task to use it for predictions and inference.\n",
            "/var/folders/2z/g737jg9d2jj206wkf56g7gyc0000gn/T/ipykernel_33895/2856560924.py:56: DeprecationWarning: `SetFitTrainer` has been deprecated and will be removed in v2.0.0 of SetFit. Please use `Trainer` instead.\n",
            "  trainer = SetFitTrainer(\n"
          ]
        },
        {
          "data": {
            "text/plain": [
              "Map:   0%|          | 0/4 [00:00<?, ? examples/s]"
            ]
          },
          "metadata": {},
          "output_type": "display_data"
        },
        {
          "name": "stderr",
          "output_type": "stream",
          "text": [
            "***** Running training *****\n",
            "  Num unique pairs = 160\n",
            "  Batch size = 16\n",
            "  Num epochs = 1\n",
            "/Users/agomberto/Library/Caches/pypoetry/virtualenvs/bse-nlp-DetGwK6_-py3.11/lib/python3.11/site-packages/torch/utils/data/dataloader.py:683: UserWarning: 'pin_memory' argument is set as true but not supported on MPS now, then device pinned memory won't be used.\n",
            "  warnings.warn(warn_msg)\n"
          ]
        },
        {
          "data": {
            "text/html": [
              "\n",
              "    <div>\n",
              "      \n",
              "      <progress value='10' max='10' style='width:300px; height:20px; vertical-align: middle;'></progress>\n",
              "      [10/10 00:11, Epoch 1/1]\n",
              "    </div>\n",
              "    <table border=\"1\" class=\"dataframe\">\n",
              "  <thead>\n",
              " <tr style=\"text-align: left;\">\n",
              "      <th>Step</th>\n",
              "      <th>Training Loss</th>\n",
              "    </tr>\n",
              "  </thead>\n",
              "  <tbody>\n",
              "    <tr>\n",
              "      <td>1</td>\n",
              "      <td>0.199800</td>\n",
              "    </tr>\n",
              "  </tbody>\n",
              "</table><p>"
            ],
            "text/plain": [
              "<IPython.core.display.HTML object>"
            ]
          },
          "metadata": {},
          "output_type": "display_data"
        },
        {
          "name": "stdout",
          "output_type": "stream",
          "text": [
            "  Iteration 6/10\n"
          ]
        },
        {
          "name": "stderr",
          "output_type": "stream",
          "text": [
            "model_head.pkl not found on HuggingFace Hub, initialising classification head with random weights. You should TRAIN this model on a downstream task to use it for predictions and inference.\n",
            "/var/folders/2z/g737jg9d2jj206wkf56g7gyc0000gn/T/ipykernel_33895/2856560924.py:56: DeprecationWarning: `SetFitTrainer` has been deprecated and will be removed in v2.0.0 of SetFit. Please use `Trainer` instead.\n",
            "  trainer = SetFitTrainer(\n"
          ]
        },
        {
          "data": {
            "text/plain": [
              "Map:   0%|          | 0/4 [00:00<?, ? examples/s]"
            ]
          },
          "metadata": {},
          "output_type": "display_data"
        },
        {
          "name": "stderr",
          "output_type": "stream",
          "text": [
            "***** Running training *****\n",
            "  Num unique pairs = 160\n",
            "  Batch size = 16\n",
            "  Num epochs = 1\n",
            "/Users/agomberto/Library/Caches/pypoetry/virtualenvs/bse-nlp-DetGwK6_-py3.11/lib/python3.11/site-packages/torch/utils/data/dataloader.py:683: UserWarning: 'pin_memory' argument is set as true but not supported on MPS now, then device pinned memory won't be used.\n",
            "  warnings.warn(warn_msg)\n"
          ]
        },
        {
          "data": {
            "text/html": [
              "\n",
              "    <div>\n",
              "      \n",
              "      <progress value='10' max='10' style='width:300px; height:20px; vertical-align: middle;'></progress>\n",
              "      [10/10 00:12, Epoch 1/1]\n",
              "    </div>\n",
              "    <table border=\"1\" class=\"dataframe\">\n",
              "  <thead>\n",
              " <tr style=\"text-align: left;\">\n",
              "      <th>Step</th>\n",
              "      <th>Training Loss</th>\n",
              "    </tr>\n",
              "  </thead>\n",
              "  <tbody>\n",
              "    <tr>\n",
              "      <td>1</td>\n",
              "      <td>0.111200</td>\n",
              "    </tr>\n",
              "  </tbody>\n",
              "</table><p>"
            ],
            "text/plain": [
              "<IPython.core.display.HTML object>"
            ]
          },
          "metadata": {},
          "output_type": "display_data"
        },
        {
          "name": "stdout",
          "output_type": "stream",
          "text": [
            "  Iteration 7/10\n"
          ]
        },
        {
          "name": "stderr",
          "output_type": "stream",
          "text": [
            "model_head.pkl not found on HuggingFace Hub, initialising classification head with random weights. You should TRAIN this model on a downstream task to use it for predictions and inference.\n",
            "/var/folders/2z/g737jg9d2jj206wkf56g7gyc0000gn/T/ipykernel_33895/2856560924.py:56: DeprecationWarning: `SetFitTrainer` has been deprecated and will be removed in v2.0.0 of SetFit. Please use `Trainer` instead.\n",
            "  trainer = SetFitTrainer(\n"
          ]
        },
        {
          "data": {
            "text/plain": [
              "Map:   0%|          | 0/4 [00:00<?, ? examples/s]"
            ]
          },
          "metadata": {},
          "output_type": "display_data"
        },
        {
          "name": "stderr",
          "output_type": "stream",
          "text": [
            "***** Running training *****\n",
            "  Num unique pairs = 160\n",
            "  Batch size = 16\n",
            "  Num epochs = 1\n",
            "/Users/agomberto/Library/Caches/pypoetry/virtualenvs/bse-nlp-DetGwK6_-py3.11/lib/python3.11/site-packages/torch/utils/data/dataloader.py:683: UserWarning: 'pin_memory' argument is set as true but not supported on MPS now, then device pinned memory won't be used.\n",
            "  warnings.warn(warn_msg)\n"
          ]
        },
        {
          "data": {
            "text/html": [
              "\n",
              "    <div>\n",
              "      \n",
              "      <progress value='10' max='10' style='width:300px; height:20px; vertical-align: middle;'></progress>\n",
              "      [10/10 00:11, Epoch 1/1]\n",
              "    </div>\n",
              "    <table border=\"1\" class=\"dataframe\">\n",
              "  <thead>\n",
              " <tr style=\"text-align: left;\">\n",
              "      <th>Step</th>\n",
              "      <th>Training Loss</th>\n",
              "    </tr>\n",
              "  </thead>\n",
              "  <tbody>\n",
              "    <tr>\n",
              "      <td>1</td>\n",
              "      <td>0.218800</td>\n",
              "    </tr>\n",
              "  </tbody>\n",
              "</table><p>"
            ],
            "text/plain": [
              "<IPython.core.display.HTML object>"
            ]
          },
          "metadata": {},
          "output_type": "display_data"
        },
        {
          "name": "stdout",
          "output_type": "stream",
          "text": [
            "  Iteration 8/10\n"
          ]
        },
        {
          "name": "stderr",
          "output_type": "stream",
          "text": [
            "model_head.pkl not found on HuggingFace Hub, initialising classification head with random weights. You should TRAIN this model on a downstream task to use it for predictions and inference.\n",
            "/var/folders/2z/g737jg9d2jj206wkf56g7gyc0000gn/T/ipykernel_33895/2856560924.py:56: DeprecationWarning: `SetFitTrainer` has been deprecated and will be removed in v2.0.0 of SetFit. Please use `Trainer` instead.\n",
            "  trainer = SetFitTrainer(\n"
          ]
        },
        {
          "data": {
            "text/plain": [
              "Map:   0%|          | 0/4 [00:00<?, ? examples/s]"
            ]
          },
          "metadata": {},
          "output_type": "display_data"
        },
        {
          "name": "stderr",
          "output_type": "stream",
          "text": [
            "***** Running training *****\n",
            "  Num unique pairs = 160\n",
            "  Batch size = 16\n",
            "  Num epochs = 1\n",
            "/Users/agomberto/Library/Caches/pypoetry/virtualenvs/bse-nlp-DetGwK6_-py3.11/lib/python3.11/site-packages/torch/utils/data/dataloader.py:683: UserWarning: 'pin_memory' argument is set as true but not supported on MPS now, then device pinned memory won't be used.\n",
            "  warnings.warn(warn_msg)\n"
          ]
        },
        {
          "data": {
            "text/html": [
              "\n",
              "    <div>\n",
              "      \n",
              "      <progress value='10' max='10' style='width:300px; height:20px; vertical-align: middle;'></progress>\n",
              "      [10/10 00:10, Epoch 1/1]\n",
              "    </div>\n",
              "    <table border=\"1\" class=\"dataframe\">\n",
              "  <thead>\n",
              " <tr style=\"text-align: left;\">\n",
              "      <th>Step</th>\n",
              "      <th>Training Loss</th>\n",
              "    </tr>\n",
              "  </thead>\n",
              "  <tbody>\n",
              "    <tr>\n",
              "      <td>1</td>\n",
              "      <td>0.162400</td>\n",
              "    </tr>\n",
              "  </tbody>\n",
              "</table><p>"
            ],
            "text/plain": [
              "<IPython.core.display.HTML object>"
            ]
          },
          "metadata": {},
          "output_type": "display_data"
        },
        {
          "name": "stdout",
          "output_type": "stream",
          "text": [
            "  Iteration 9/10\n"
          ]
        },
        {
          "name": "stderr",
          "output_type": "stream",
          "text": [
            "model_head.pkl not found on HuggingFace Hub, initialising classification head with random weights. You should TRAIN this model on a downstream task to use it for predictions and inference.\n",
            "/var/folders/2z/g737jg9d2jj206wkf56g7gyc0000gn/T/ipykernel_33895/2856560924.py:56: DeprecationWarning: `SetFitTrainer` has been deprecated and will be removed in v2.0.0 of SetFit. Please use `Trainer` instead.\n",
            "  trainer = SetFitTrainer(\n"
          ]
        },
        {
          "data": {
            "text/plain": [
              "Map:   0%|          | 0/4 [00:00<?, ? examples/s]"
            ]
          },
          "metadata": {},
          "output_type": "display_data"
        },
        {
          "name": "stderr",
          "output_type": "stream",
          "text": [
            "***** Running training *****\n",
            "  Num unique pairs = 160\n",
            "  Batch size = 16\n",
            "  Num epochs = 1\n",
            "/Users/agomberto/Library/Caches/pypoetry/virtualenvs/bse-nlp-DetGwK6_-py3.11/lib/python3.11/site-packages/torch/utils/data/dataloader.py:683: UserWarning: 'pin_memory' argument is set as true but not supported on MPS now, then device pinned memory won't be used.\n",
            "  warnings.warn(warn_msg)\n"
          ]
        },
        {
          "data": {
            "text/html": [
              "\n",
              "    <div>\n",
              "      \n",
              "      <progress value='10' max='10' style='width:300px; height:20px; vertical-align: middle;'></progress>\n",
              "      [10/10 00:12, Epoch 1/1]\n",
              "    </div>\n",
              "    <table border=\"1\" class=\"dataframe\">\n",
              "  <thead>\n",
              " <tr style=\"text-align: left;\">\n",
              "      <th>Step</th>\n",
              "      <th>Training Loss</th>\n",
              "    </tr>\n",
              "  </thead>\n",
              "  <tbody>\n",
              "    <tr>\n",
              "      <td>1</td>\n",
              "      <td>0.143500</td>\n",
              "    </tr>\n",
              "  </tbody>\n",
              "</table><p>"
            ],
            "text/plain": [
              "<IPython.core.display.HTML object>"
            ]
          },
          "metadata": {},
          "output_type": "display_data"
        },
        {
          "name": "stdout",
          "output_type": "stream",
          "text": [
            "  Iteration 10/10\n"
          ]
        },
        {
          "name": "stderr",
          "output_type": "stream",
          "text": [
            "model_head.pkl not found on HuggingFace Hub, initialising classification head with random weights. You should TRAIN this model on a downstream task to use it for predictions and inference.\n",
            "/var/folders/2z/g737jg9d2jj206wkf56g7gyc0000gn/T/ipykernel_33895/2856560924.py:56: DeprecationWarning: `SetFitTrainer` has been deprecated and will be removed in v2.0.0 of SetFit. Please use `Trainer` instead.\n",
            "  trainer = SetFitTrainer(\n"
          ]
        },
        {
          "data": {
            "text/plain": [
              "Map:   0%|          | 0/4 [00:00<?, ? examples/s]"
            ]
          },
          "metadata": {},
          "output_type": "display_data"
        },
        {
          "name": "stderr",
          "output_type": "stream",
          "text": [
            "***** Running training *****\n",
            "  Num unique pairs = 160\n",
            "  Batch size = 16\n",
            "  Num epochs = 1\n",
            "/Users/agomberto/Library/Caches/pypoetry/virtualenvs/bse-nlp-DetGwK6_-py3.11/lib/python3.11/site-packages/torch/utils/data/dataloader.py:683: UserWarning: 'pin_memory' argument is set as true but not supported on MPS now, then device pinned memory won't be used.\n",
            "  warnings.warn(warn_msg)\n"
          ]
        },
        {
          "data": {
            "text/html": [
              "\n",
              "    <div>\n",
              "      \n",
              "      <progress value='10' max='10' style='width:300px; height:20px; vertical-align: middle;'></progress>\n",
              "      [10/10 00:11, Epoch 1/1]\n",
              "    </div>\n",
              "    <table border=\"1\" class=\"dataframe\">\n",
              "  <thead>\n",
              " <tr style=\"text-align: left;\">\n",
              "      <th>Step</th>\n",
              "      <th>Training Loss</th>\n",
              "    </tr>\n",
              "  </thead>\n",
              "  <tbody>\n",
              "    <tr>\n",
              "      <td>1</td>\n",
              "      <td>0.246600</td>\n",
              "    </tr>\n",
              "  </tbody>\n",
              "</table><p>"
            ],
            "text/plain": [
              "<IPython.core.display.HTML object>"
            ]
          },
          "metadata": {},
          "output_type": "display_data"
        },
        {
          "name": "stdout",
          "output_type": "stream",
          "text": [
            "Training with 8 examples...\n",
            "  Iteration 1/10\n"
          ]
        },
        {
          "name": "stderr",
          "output_type": "stream",
          "text": [
            "model_head.pkl not found on HuggingFace Hub, initialising classification head with random weights. You should TRAIN this model on a downstream task to use it for predictions and inference.\n",
            "/var/folders/2z/g737jg9d2jj206wkf56g7gyc0000gn/T/ipykernel_33895/2856560924.py:56: DeprecationWarning: `SetFitTrainer` has been deprecated and will be removed in v2.0.0 of SetFit. Please use `Trainer` instead.\n",
            "  trainer = SetFitTrainer(\n"
          ]
        },
        {
          "data": {
            "text/plain": [
              "Map:   0%|          | 0/8 [00:00<?, ? examples/s]"
            ]
          },
          "metadata": {},
          "output_type": "display_data"
        },
        {
          "name": "stderr",
          "output_type": "stream",
          "text": [
            "***** Running training *****\n",
            "  Num unique pairs = 320\n",
            "  Batch size = 16\n",
            "  Num epochs = 1\n",
            "/Users/agomberto/Library/Caches/pypoetry/virtualenvs/bse-nlp-DetGwK6_-py3.11/lib/python3.11/site-packages/torch/utils/data/dataloader.py:683: UserWarning: 'pin_memory' argument is set as true but not supported on MPS now, then device pinned memory won't be used.\n",
            "  warnings.warn(warn_msg)\n"
          ]
        },
        {
          "data": {
            "text/html": [
              "\n",
              "    <div>\n",
              "      \n",
              "      <progress value='20' max='20' style='width:300px; height:20px; vertical-align: middle;'></progress>\n",
              "      [20/20 00:27, Epoch 1/1]\n",
              "    </div>\n",
              "    <table border=\"1\" class=\"dataframe\">\n",
              "  <thead>\n",
              " <tr style=\"text-align: left;\">\n",
              "      <th>Step</th>\n",
              "      <th>Training Loss</th>\n",
              "    </tr>\n",
              "  </thead>\n",
              "  <tbody>\n",
              "    <tr>\n",
              "      <td>1</td>\n",
              "      <td>0.201600</td>\n",
              "    </tr>\n",
              "  </tbody>\n",
              "</table><p>"
            ],
            "text/plain": [
              "<IPython.core.display.HTML object>"
            ]
          },
          "metadata": {},
          "output_type": "display_data"
        },
        {
          "name": "stdout",
          "output_type": "stream",
          "text": [
            "  Iteration 2/10\n"
          ]
        },
        {
          "name": "stderr",
          "output_type": "stream",
          "text": [
            "model_head.pkl not found on HuggingFace Hub, initialising classification head with random weights. You should TRAIN this model on a downstream task to use it for predictions and inference.\n",
            "/var/folders/2z/g737jg9d2jj206wkf56g7gyc0000gn/T/ipykernel_33895/2856560924.py:56: DeprecationWarning: `SetFitTrainer` has been deprecated and will be removed in v2.0.0 of SetFit. Please use `Trainer` instead.\n",
            "  trainer = SetFitTrainer(\n"
          ]
        },
        {
          "data": {
            "text/plain": [
              "Map:   0%|          | 0/8 [00:00<?, ? examples/s]"
            ]
          },
          "metadata": {},
          "output_type": "display_data"
        },
        {
          "name": "stderr",
          "output_type": "stream",
          "text": [
            "***** Running training *****\n",
            "  Num unique pairs = 320\n",
            "  Batch size = 16\n",
            "  Num epochs = 1\n",
            "/Users/agomberto/Library/Caches/pypoetry/virtualenvs/bse-nlp-DetGwK6_-py3.11/lib/python3.11/site-packages/torch/utils/data/dataloader.py:683: UserWarning: 'pin_memory' argument is set as true but not supported on MPS now, then device pinned memory won't be used.\n",
            "  warnings.warn(warn_msg)\n"
          ]
        },
        {
          "data": {
            "text/html": [
              "\n",
              "    <div>\n",
              "      \n",
              "      <progress value='20' max='20' style='width:300px; height:20px; vertical-align: middle;'></progress>\n",
              "      [20/20 00:23, Epoch 1/1]\n",
              "    </div>\n",
              "    <table border=\"1\" class=\"dataframe\">\n",
              "  <thead>\n",
              " <tr style=\"text-align: left;\">\n",
              "      <th>Step</th>\n",
              "      <th>Training Loss</th>\n",
              "    </tr>\n",
              "  </thead>\n",
              "  <tbody>\n",
              "    <tr>\n",
              "      <td>1</td>\n",
              "      <td>0.345300</td>\n",
              "    </tr>\n",
              "  </tbody>\n",
              "</table><p>"
            ],
            "text/plain": [
              "<IPython.core.display.HTML object>"
            ]
          },
          "metadata": {},
          "output_type": "display_data"
        },
        {
          "name": "stdout",
          "output_type": "stream",
          "text": [
            "  Iteration 3/10\n"
          ]
        },
        {
          "name": "stderr",
          "output_type": "stream",
          "text": [
            "model_head.pkl not found on HuggingFace Hub, initialising classification head with random weights. You should TRAIN this model on a downstream task to use it for predictions and inference.\n",
            "/var/folders/2z/g737jg9d2jj206wkf56g7gyc0000gn/T/ipykernel_33895/2856560924.py:56: DeprecationWarning: `SetFitTrainer` has been deprecated and will be removed in v2.0.0 of SetFit. Please use `Trainer` instead.\n",
            "  trainer = SetFitTrainer(\n"
          ]
        },
        {
          "data": {
            "text/plain": [
              "Map:   0%|          | 0/8 [00:00<?, ? examples/s]"
            ]
          },
          "metadata": {},
          "output_type": "display_data"
        },
        {
          "name": "stderr",
          "output_type": "stream",
          "text": [
            "***** Running training *****\n",
            "  Num unique pairs = 320\n",
            "  Batch size = 16\n",
            "  Num epochs = 1\n",
            "/Users/agomberto/Library/Caches/pypoetry/virtualenvs/bse-nlp-DetGwK6_-py3.11/lib/python3.11/site-packages/torch/utils/data/dataloader.py:683: UserWarning: 'pin_memory' argument is set as true but not supported on MPS now, then device pinned memory won't be used.\n",
            "  warnings.warn(warn_msg)\n"
          ]
        },
        {
          "data": {
            "text/html": [
              "\n",
              "    <div>\n",
              "      \n",
              "      <progress value='20' max='20' style='width:300px; height:20px; vertical-align: middle;'></progress>\n",
              "      [20/20 00:26, Epoch 1/1]\n",
              "    </div>\n",
              "    <table border=\"1\" class=\"dataframe\">\n",
              "  <thead>\n",
              " <tr style=\"text-align: left;\">\n",
              "      <th>Step</th>\n",
              "      <th>Training Loss</th>\n",
              "    </tr>\n",
              "  </thead>\n",
              "  <tbody>\n",
              "    <tr>\n",
              "      <td>1</td>\n",
              "      <td>0.209800</td>\n",
              "    </tr>\n",
              "  </tbody>\n",
              "</table><p>"
            ],
            "text/plain": [
              "<IPython.core.display.HTML object>"
            ]
          },
          "metadata": {},
          "output_type": "display_data"
        },
        {
          "name": "stdout",
          "output_type": "stream",
          "text": [
            "  Iteration 4/10\n"
          ]
        },
        {
          "name": "stderr",
          "output_type": "stream",
          "text": [
            "model_head.pkl not found on HuggingFace Hub, initialising classification head with random weights. You should TRAIN this model on a downstream task to use it for predictions and inference.\n",
            "/var/folders/2z/g737jg9d2jj206wkf56g7gyc0000gn/T/ipykernel_33895/2856560924.py:56: DeprecationWarning: `SetFitTrainer` has been deprecated and will be removed in v2.0.0 of SetFit. Please use `Trainer` instead.\n",
            "  trainer = SetFitTrainer(\n"
          ]
        },
        {
          "data": {
            "text/plain": [
              "Map:   0%|          | 0/8 [00:00<?, ? examples/s]"
            ]
          },
          "metadata": {},
          "output_type": "display_data"
        },
        {
          "name": "stderr",
          "output_type": "stream",
          "text": [
            "***** Running training *****\n",
            "  Num unique pairs = 320\n",
            "  Batch size = 16\n",
            "  Num epochs = 1\n",
            "/Users/agomberto/Library/Caches/pypoetry/virtualenvs/bse-nlp-DetGwK6_-py3.11/lib/python3.11/site-packages/torch/utils/data/dataloader.py:683: UserWarning: 'pin_memory' argument is set as true but not supported on MPS now, then device pinned memory won't be used.\n",
            "  warnings.warn(warn_msg)\n"
          ]
        },
        {
          "data": {
            "text/html": [
              "\n",
              "    <div>\n",
              "      \n",
              "      <progress value='20' max='20' style='width:300px; height:20px; vertical-align: middle;'></progress>\n",
              "      [20/20 00:24, Epoch 1/1]\n",
              "    </div>\n",
              "    <table border=\"1\" class=\"dataframe\">\n",
              "  <thead>\n",
              " <tr style=\"text-align: left;\">\n",
              "      <th>Step</th>\n",
              "      <th>Training Loss</th>\n",
              "    </tr>\n",
              "  </thead>\n",
              "  <tbody>\n",
              "    <tr>\n",
              "      <td>1</td>\n",
              "      <td>0.351100</td>\n",
              "    </tr>\n",
              "  </tbody>\n",
              "</table><p>"
            ],
            "text/plain": [
              "<IPython.core.display.HTML object>"
            ]
          },
          "metadata": {},
          "output_type": "display_data"
        },
        {
          "name": "stdout",
          "output_type": "stream",
          "text": [
            "  Iteration 5/10\n"
          ]
        },
        {
          "name": "stderr",
          "output_type": "stream",
          "text": [
            "model_head.pkl not found on HuggingFace Hub, initialising classification head with random weights. You should TRAIN this model on a downstream task to use it for predictions and inference.\n",
            "/var/folders/2z/g737jg9d2jj206wkf56g7gyc0000gn/T/ipykernel_33895/2856560924.py:56: DeprecationWarning: `SetFitTrainer` has been deprecated and will be removed in v2.0.0 of SetFit. Please use `Trainer` instead.\n",
            "  trainer = SetFitTrainer(\n"
          ]
        },
        {
          "data": {
            "text/plain": [
              "Map:   0%|          | 0/8 [00:00<?, ? examples/s]"
            ]
          },
          "metadata": {},
          "output_type": "display_data"
        },
        {
          "name": "stderr",
          "output_type": "stream",
          "text": [
            "***** Running training *****\n",
            "  Num unique pairs = 320\n",
            "  Batch size = 16\n",
            "  Num epochs = 1\n",
            "/Users/agomberto/Library/Caches/pypoetry/virtualenvs/bse-nlp-DetGwK6_-py3.11/lib/python3.11/site-packages/torch/utils/data/dataloader.py:683: UserWarning: 'pin_memory' argument is set as true but not supported on MPS now, then device pinned memory won't be used.\n",
            "  warnings.warn(warn_msg)\n"
          ]
        },
        {
          "data": {
            "text/html": [
              "\n",
              "    <div>\n",
              "      \n",
              "      <progress value='20' max='20' style='width:300px; height:20px; vertical-align: middle;'></progress>\n",
              "      [20/20 00:26, Epoch 1/1]\n",
              "    </div>\n",
              "    <table border=\"1\" class=\"dataframe\">\n",
              "  <thead>\n",
              " <tr style=\"text-align: left;\">\n",
              "      <th>Step</th>\n",
              "      <th>Training Loss</th>\n",
              "    </tr>\n",
              "  </thead>\n",
              "  <tbody>\n",
              "    <tr>\n",
              "      <td>1</td>\n",
              "      <td>0.282800</td>\n",
              "    </tr>\n",
              "  </tbody>\n",
              "</table><p>"
            ],
            "text/plain": [
              "<IPython.core.display.HTML object>"
            ]
          },
          "metadata": {},
          "output_type": "display_data"
        },
        {
          "name": "stdout",
          "output_type": "stream",
          "text": [
            "  Iteration 6/10\n"
          ]
        },
        {
          "name": "stderr",
          "output_type": "stream",
          "text": [
            "model_head.pkl not found on HuggingFace Hub, initialising classification head with random weights. You should TRAIN this model on a downstream task to use it for predictions and inference.\n",
            "/var/folders/2z/g737jg9d2jj206wkf56g7gyc0000gn/T/ipykernel_33895/2856560924.py:56: DeprecationWarning: `SetFitTrainer` has been deprecated and will be removed in v2.0.0 of SetFit. Please use `Trainer` instead.\n",
            "  trainer = SetFitTrainer(\n"
          ]
        },
        {
          "data": {
            "text/plain": [
              "Map:   0%|          | 0/8 [00:00<?, ? examples/s]"
            ]
          },
          "metadata": {},
          "output_type": "display_data"
        },
        {
          "name": "stderr",
          "output_type": "stream",
          "text": [
            "***** Running training *****\n",
            "  Num unique pairs = 320\n",
            "  Batch size = 16\n",
            "  Num epochs = 1\n",
            "/Users/agomberto/Library/Caches/pypoetry/virtualenvs/bse-nlp-DetGwK6_-py3.11/lib/python3.11/site-packages/torch/utils/data/dataloader.py:683: UserWarning: 'pin_memory' argument is set as true but not supported on MPS now, then device pinned memory won't be used.\n",
            "  warnings.warn(warn_msg)\n"
          ]
        },
        {
          "data": {
            "text/html": [
              "\n",
              "    <div>\n",
              "      \n",
              "      <progress value='20' max='20' style='width:300px; height:20px; vertical-align: middle;'></progress>\n",
              "      [20/20 00:25, Epoch 1/1]\n",
              "    </div>\n",
              "    <table border=\"1\" class=\"dataframe\">\n",
              "  <thead>\n",
              " <tr style=\"text-align: left;\">\n",
              "      <th>Step</th>\n",
              "      <th>Training Loss</th>\n",
              "    </tr>\n",
              "  </thead>\n",
              "  <tbody>\n",
              "    <tr>\n",
              "      <td>1</td>\n",
              "      <td>0.263900</td>\n",
              "    </tr>\n",
              "  </tbody>\n",
              "</table><p>"
            ],
            "text/plain": [
              "<IPython.core.display.HTML object>"
            ]
          },
          "metadata": {},
          "output_type": "display_data"
        },
        {
          "name": "stdout",
          "output_type": "stream",
          "text": [
            "  Iteration 7/10\n"
          ]
        },
        {
          "name": "stderr",
          "output_type": "stream",
          "text": [
            "model_head.pkl not found on HuggingFace Hub, initialising classification head with random weights. You should TRAIN this model on a downstream task to use it for predictions and inference.\n",
            "/var/folders/2z/g737jg9d2jj206wkf56g7gyc0000gn/T/ipykernel_33895/2856560924.py:56: DeprecationWarning: `SetFitTrainer` has been deprecated and will be removed in v2.0.0 of SetFit. Please use `Trainer` instead.\n",
            "  trainer = SetFitTrainer(\n"
          ]
        },
        {
          "data": {
            "text/plain": [
              "Map:   0%|          | 0/8 [00:00<?, ? examples/s]"
            ]
          },
          "metadata": {},
          "output_type": "display_data"
        },
        {
          "name": "stderr",
          "output_type": "stream",
          "text": [
            "***** Running training *****\n",
            "  Num unique pairs = 320\n",
            "  Batch size = 16\n",
            "  Num epochs = 1\n",
            "/Users/agomberto/Library/Caches/pypoetry/virtualenvs/bse-nlp-DetGwK6_-py3.11/lib/python3.11/site-packages/torch/utils/data/dataloader.py:683: UserWarning: 'pin_memory' argument is set as true but not supported on MPS now, then device pinned memory won't be used.\n",
            "  warnings.warn(warn_msg)\n"
          ]
        },
        {
          "data": {
            "text/html": [
              "\n",
              "    <div>\n",
              "      \n",
              "      <progress value='20' max='20' style='width:300px; height:20px; vertical-align: middle;'></progress>\n",
              "      [20/20 00:27, Epoch 1/1]\n",
              "    </div>\n",
              "    <table border=\"1\" class=\"dataframe\">\n",
              "  <thead>\n",
              " <tr style=\"text-align: left;\">\n",
              "      <th>Step</th>\n",
              "      <th>Training Loss</th>\n",
              "    </tr>\n",
              "  </thead>\n",
              "  <tbody>\n",
              "    <tr>\n",
              "      <td>1</td>\n",
              "      <td>0.282200</td>\n",
              "    </tr>\n",
              "  </tbody>\n",
              "</table><p>"
            ],
            "text/plain": [
              "<IPython.core.display.HTML object>"
            ]
          },
          "metadata": {},
          "output_type": "display_data"
        },
        {
          "name": "stdout",
          "output_type": "stream",
          "text": [
            "  Iteration 8/10\n"
          ]
        },
        {
          "name": "stderr",
          "output_type": "stream",
          "text": [
            "model_head.pkl not found on HuggingFace Hub, initialising classification head with random weights. You should TRAIN this model on a downstream task to use it for predictions and inference.\n",
            "/var/folders/2z/g737jg9d2jj206wkf56g7gyc0000gn/T/ipykernel_33895/2856560924.py:56: DeprecationWarning: `SetFitTrainer` has been deprecated and will be removed in v2.0.0 of SetFit. Please use `Trainer` instead.\n",
            "  trainer = SetFitTrainer(\n"
          ]
        },
        {
          "data": {
            "text/plain": [
              "Map:   0%|          | 0/8 [00:00<?, ? examples/s]"
            ]
          },
          "metadata": {},
          "output_type": "display_data"
        },
        {
          "name": "stderr",
          "output_type": "stream",
          "text": [
            "***** Running training *****\n",
            "  Num unique pairs = 320\n",
            "  Batch size = 16\n",
            "  Num epochs = 1\n",
            "/Users/agomberto/Library/Caches/pypoetry/virtualenvs/bse-nlp-DetGwK6_-py3.11/lib/python3.11/site-packages/torch/utils/data/dataloader.py:683: UserWarning: 'pin_memory' argument is set as true but not supported on MPS now, then device pinned memory won't be used.\n",
            "  warnings.warn(warn_msg)\n"
          ]
        },
        {
          "data": {
            "text/html": [
              "\n",
              "    <div>\n",
              "      \n",
              "      <progress value='20' max='20' style='width:300px; height:20px; vertical-align: middle;'></progress>\n",
              "      [20/20 00:24, Epoch 1/1]\n",
              "    </div>\n",
              "    <table border=\"1\" class=\"dataframe\">\n",
              "  <thead>\n",
              " <tr style=\"text-align: left;\">\n",
              "      <th>Step</th>\n",
              "      <th>Training Loss</th>\n",
              "    </tr>\n",
              "  </thead>\n",
              "  <tbody>\n",
              "    <tr>\n",
              "      <td>1</td>\n",
              "      <td>0.354000</td>\n",
              "    </tr>\n",
              "  </tbody>\n",
              "</table><p>"
            ],
            "text/plain": [
              "<IPython.core.display.HTML object>"
            ]
          },
          "metadata": {},
          "output_type": "display_data"
        },
        {
          "name": "stdout",
          "output_type": "stream",
          "text": [
            "  Iteration 9/10\n"
          ]
        },
        {
          "name": "stderr",
          "output_type": "stream",
          "text": [
            "model_head.pkl not found on HuggingFace Hub, initialising classification head with random weights. You should TRAIN this model on a downstream task to use it for predictions and inference.\n",
            "/var/folders/2z/g737jg9d2jj206wkf56g7gyc0000gn/T/ipykernel_33895/2856560924.py:56: DeprecationWarning: `SetFitTrainer` has been deprecated and will be removed in v2.0.0 of SetFit. Please use `Trainer` instead.\n",
            "  trainer = SetFitTrainer(\n"
          ]
        },
        {
          "data": {
            "text/plain": [
              "Map:   0%|          | 0/8 [00:00<?, ? examples/s]"
            ]
          },
          "metadata": {},
          "output_type": "display_data"
        },
        {
          "name": "stderr",
          "output_type": "stream",
          "text": [
            "***** Running training *****\n",
            "  Num unique pairs = 320\n",
            "  Batch size = 16\n",
            "  Num epochs = 1\n",
            "/Users/agomberto/Library/Caches/pypoetry/virtualenvs/bse-nlp-DetGwK6_-py3.11/lib/python3.11/site-packages/torch/utils/data/dataloader.py:683: UserWarning: 'pin_memory' argument is set as true but not supported on MPS now, then device pinned memory won't be used.\n",
            "  warnings.warn(warn_msg)\n"
          ]
        },
        {
          "data": {
            "text/html": [
              "\n",
              "    <div>\n",
              "      \n",
              "      <progress value='20' max='20' style='width:300px; height:20px; vertical-align: middle;'></progress>\n",
              "      [20/20 00:23, Epoch 1/1]\n",
              "    </div>\n",
              "    <table border=\"1\" class=\"dataframe\">\n",
              "  <thead>\n",
              " <tr style=\"text-align: left;\">\n",
              "      <th>Step</th>\n",
              "      <th>Training Loss</th>\n",
              "    </tr>\n",
              "  </thead>\n",
              "  <tbody>\n",
              "    <tr>\n",
              "      <td>1</td>\n",
              "      <td>0.302000</td>\n",
              "    </tr>\n",
              "  </tbody>\n",
              "</table><p>"
            ],
            "text/plain": [
              "<IPython.core.display.HTML object>"
            ]
          },
          "metadata": {},
          "output_type": "display_data"
        },
        {
          "name": "stdout",
          "output_type": "stream",
          "text": [
            "  Iteration 10/10\n"
          ]
        },
        {
          "name": "stderr",
          "output_type": "stream",
          "text": [
            "model_head.pkl not found on HuggingFace Hub, initialising classification head with random weights. You should TRAIN this model on a downstream task to use it for predictions and inference.\n",
            "/var/folders/2z/g737jg9d2jj206wkf56g7gyc0000gn/T/ipykernel_33895/2856560924.py:56: DeprecationWarning: `SetFitTrainer` has been deprecated and will be removed in v2.0.0 of SetFit. Please use `Trainer` instead.\n",
            "  trainer = SetFitTrainer(\n"
          ]
        },
        {
          "data": {
            "text/plain": [
              "Map:   0%|          | 0/8 [00:00<?, ? examples/s]"
            ]
          },
          "metadata": {},
          "output_type": "display_data"
        },
        {
          "name": "stderr",
          "output_type": "stream",
          "text": [
            "***** Running training *****\n",
            "  Num unique pairs = 320\n",
            "  Batch size = 16\n",
            "  Num epochs = 1\n",
            "/Users/agomberto/Library/Caches/pypoetry/virtualenvs/bse-nlp-DetGwK6_-py3.11/lib/python3.11/site-packages/torch/utils/data/dataloader.py:683: UserWarning: 'pin_memory' argument is set as true but not supported on MPS now, then device pinned memory won't be used.\n",
            "  warnings.warn(warn_msg)\n"
          ]
        },
        {
          "data": {
            "text/html": [
              "\n",
              "    <div>\n",
              "      \n",
              "      <progress value='20' max='20' style='width:300px; height:20px; vertical-align: middle;'></progress>\n",
              "      [20/20 00:24, Epoch 1/1]\n",
              "    </div>\n",
              "    <table border=\"1\" class=\"dataframe\">\n",
              "  <thead>\n",
              " <tr style=\"text-align: left;\">\n",
              "      <th>Step</th>\n",
              "      <th>Training Loss</th>\n",
              "    </tr>\n",
              "  </thead>\n",
              "  <tbody>\n",
              "    <tr>\n",
              "      <td>1</td>\n",
              "      <td>0.271100</td>\n",
              "    </tr>\n",
              "  </tbody>\n",
              "</table><p>"
            ],
            "text/plain": [
              "<IPython.core.display.HTML object>"
            ]
          },
          "metadata": {},
          "output_type": "display_data"
        },
        {
          "name": "stdout",
          "output_type": "stream",
          "text": [
            "Training with 16 examples...\n",
            "  Iteration 1/10\n"
          ]
        },
        {
          "name": "stderr",
          "output_type": "stream",
          "text": [
            "model_head.pkl not found on HuggingFace Hub, initialising classification head with random weights. You should TRAIN this model on a downstream task to use it for predictions and inference.\n",
            "/var/folders/2z/g737jg9d2jj206wkf56g7gyc0000gn/T/ipykernel_33895/2856560924.py:56: DeprecationWarning: `SetFitTrainer` has been deprecated and will be removed in v2.0.0 of SetFit. Please use `Trainer` instead.\n",
            "  trainer = SetFitTrainer(\n"
          ]
        },
        {
          "data": {
            "text/plain": [
              "Map:   0%|          | 0/16 [00:00<?, ? examples/s]"
            ]
          },
          "metadata": {},
          "output_type": "display_data"
        },
        {
          "name": "stderr",
          "output_type": "stream",
          "text": [
            "***** Running training *****\n",
            "  Num unique pairs = 640\n",
            "  Batch size = 16\n",
            "  Num epochs = 1\n",
            "/Users/agomberto/Library/Caches/pypoetry/virtualenvs/bse-nlp-DetGwK6_-py3.11/lib/python3.11/site-packages/torch/utils/data/dataloader.py:683: UserWarning: 'pin_memory' argument is set as true but not supported on MPS now, then device pinned memory won't be used.\n",
            "  warnings.warn(warn_msg)\n"
          ]
        },
        {
          "data": {
            "text/html": [
              "\n",
              "    <div>\n",
              "      \n",
              "      <progress value='40' max='40' style='width:300px; height:20px; vertical-align: middle;'></progress>\n",
              "      [40/40 00:50, Epoch 1/1]\n",
              "    </div>\n",
              "    <table border=\"1\" class=\"dataframe\">\n",
              "  <thead>\n",
              " <tr style=\"text-align: left;\">\n",
              "      <th>Step</th>\n",
              "      <th>Training Loss</th>\n",
              "    </tr>\n",
              "  </thead>\n",
              "  <tbody>\n",
              "    <tr>\n",
              "      <td>1</td>\n",
              "      <td>0.252200</td>\n",
              "    </tr>\n",
              "  </tbody>\n",
              "</table><p>"
            ],
            "text/plain": [
              "<IPython.core.display.HTML object>"
            ]
          },
          "metadata": {},
          "output_type": "display_data"
        },
        {
          "name": "stdout",
          "output_type": "stream",
          "text": [
            "  Iteration 2/10\n"
          ]
        },
        {
          "name": "stderr",
          "output_type": "stream",
          "text": [
            "model_head.pkl not found on HuggingFace Hub, initialising classification head with random weights. You should TRAIN this model on a downstream task to use it for predictions and inference.\n",
            "/var/folders/2z/g737jg9d2jj206wkf56g7gyc0000gn/T/ipykernel_33895/2856560924.py:56: DeprecationWarning: `SetFitTrainer` has been deprecated and will be removed in v2.0.0 of SetFit. Please use `Trainer` instead.\n",
            "  trainer = SetFitTrainer(\n"
          ]
        },
        {
          "data": {
            "text/plain": [
              "Map:   0%|          | 0/16 [00:00<?, ? examples/s]"
            ]
          },
          "metadata": {},
          "output_type": "display_data"
        },
        {
          "name": "stderr",
          "output_type": "stream",
          "text": [
            "***** Running training *****\n",
            "  Num unique pairs = 640\n",
            "  Batch size = 16\n",
            "  Num epochs = 1\n",
            "/Users/agomberto/Library/Caches/pypoetry/virtualenvs/bse-nlp-DetGwK6_-py3.11/lib/python3.11/site-packages/torch/utils/data/dataloader.py:683: UserWarning: 'pin_memory' argument is set as true but not supported on MPS now, then device pinned memory won't be used.\n",
            "  warnings.warn(warn_msg)\n"
          ]
        },
        {
          "data": {
            "text/html": [
              "\n",
              "    <div>\n",
              "      \n",
              "      <progress value='40' max='40' style='width:300px; height:20px; vertical-align: middle;'></progress>\n",
              "      [40/40 00:48, Epoch 1/1]\n",
              "    </div>\n",
              "    <table border=\"1\" class=\"dataframe\">\n",
              "  <thead>\n",
              " <tr style=\"text-align: left;\">\n",
              "      <th>Step</th>\n",
              "      <th>Training Loss</th>\n",
              "    </tr>\n",
              "  </thead>\n",
              "  <tbody>\n",
              "    <tr>\n",
              "      <td>1</td>\n",
              "      <td>0.236700</td>\n",
              "    </tr>\n",
              "  </tbody>\n",
              "</table><p>"
            ],
            "text/plain": [
              "<IPython.core.display.HTML object>"
            ]
          },
          "metadata": {},
          "output_type": "display_data"
        },
        {
          "name": "stdout",
          "output_type": "stream",
          "text": [
            "  Iteration 3/10\n"
          ]
        },
        {
          "name": "stderr",
          "output_type": "stream",
          "text": [
            "model_head.pkl not found on HuggingFace Hub, initialising classification head with random weights. You should TRAIN this model on a downstream task to use it for predictions and inference.\n",
            "/var/folders/2z/g737jg9d2jj206wkf56g7gyc0000gn/T/ipykernel_33895/2856560924.py:56: DeprecationWarning: `SetFitTrainer` has been deprecated and will be removed in v2.0.0 of SetFit. Please use `Trainer` instead.\n",
            "  trainer = SetFitTrainer(\n"
          ]
        },
        {
          "data": {
            "text/plain": [
              "Map:   0%|          | 0/16 [00:00<?, ? examples/s]"
            ]
          },
          "metadata": {},
          "output_type": "display_data"
        },
        {
          "name": "stderr",
          "output_type": "stream",
          "text": [
            "***** Running training *****\n",
            "  Num unique pairs = 640\n",
            "  Batch size = 16\n",
            "  Num epochs = 1\n",
            "/Users/agomberto/Library/Caches/pypoetry/virtualenvs/bse-nlp-DetGwK6_-py3.11/lib/python3.11/site-packages/torch/utils/data/dataloader.py:683: UserWarning: 'pin_memory' argument is set as true but not supported on MPS now, then device pinned memory won't be used.\n",
            "  warnings.warn(warn_msg)\n"
          ]
        },
        {
          "data": {
            "text/html": [
              "\n",
              "    <div>\n",
              "      \n",
              "      <progress value='40' max='40' style='width:300px; height:20px; vertical-align: middle;'></progress>\n",
              "      [40/40 00:53, Epoch 1/1]\n",
              "    </div>\n",
              "    <table border=\"1\" class=\"dataframe\">\n",
              "  <thead>\n",
              " <tr style=\"text-align: left;\">\n",
              "      <th>Step</th>\n",
              "      <th>Training Loss</th>\n",
              "    </tr>\n",
              "  </thead>\n",
              "  <tbody>\n",
              "    <tr>\n",
              "      <td>1</td>\n",
              "      <td>0.276600</td>\n",
              "    </tr>\n",
              "  </tbody>\n",
              "</table><p>"
            ],
            "text/plain": [
              "<IPython.core.display.HTML object>"
            ]
          },
          "metadata": {},
          "output_type": "display_data"
        },
        {
          "name": "stdout",
          "output_type": "stream",
          "text": [
            "  Iteration 4/10\n"
          ]
        },
        {
          "name": "stderr",
          "output_type": "stream",
          "text": [
            "model_head.pkl not found on HuggingFace Hub, initialising classification head with random weights. You should TRAIN this model on a downstream task to use it for predictions and inference.\n",
            "/var/folders/2z/g737jg9d2jj206wkf56g7gyc0000gn/T/ipykernel_33895/2856560924.py:56: DeprecationWarning: `SetFitTrainer` has been deprecated and will be removed in v2.0.0 of SetFit. Please use `Trainer` instead.\n",
            "  trainer = SetFitTrainer(\n"
          ]
        },
        {
          "data": {
            "text/plain": [
              "Map:   0%|          | 0/16 [00:00<?, ? examples/s]"
            ]
          },
          "metadata": {},
          "output_type": "display_data"
        },
        {
          "name": "stderr",
          "output_type": "stream",
          "text": [
            "***** Running training *****\n",
            "  Num unique pairs = 640\n",
            "  Batch size = 16\n",
            "  Num epochs = 1\n",
            "/Users/agomberto/Library/Caches/pypoetry/virtualenvs/bse-nlp-DetGwK6_-py3.11/lib/python3.11/site-packages/torch/utils/data/dataloader.py:683: UserWarning: 'pin_memory' argument is set as true but not supported on MPS now, then device pinned memory won't be used.\n",
            "  warnings.warn(warn_msg)\n"
          ]
        },
        {
          "data": {
            "text/html": [
              "\n",
              "    <div>\n",
              "      \n",
              "      <progress value='40' max='40' style='width:300px; height:20px; vertical-align: middle;'></progress>\n",
              "      [40/40 00:52, Epoch 1/1]\n",
              "    </div>\n",
              "    <table border=\"1\" class=\"dataframe\">\n",
              "  <thead>\n",
              " <tr style=\"text-align: left;\">\n",
              "      <th>Step</th>\n",
              "      <th>Training Loss</th>\n",
              "    </tr>\n",
              "  </thead>\n",
              "  <tbody>\n",
              "    <tr>\n",
              "      <td>1</td>\n",
              "      <td>0.207200</td>\n",
              "    </tr>\n",
              "  </tbody>\n",
              "</table><p>"
            ],
            "text/plain": [
              "<IPython.core.display.HTML object>"
            ]
          },
          "metadata": {},
          "output_type": "display_data"
        },
        {
          "name": "stdout",
          "output_type": "stream",
          "text": [
            "  Iteration 5/10\n"
          ]
        },
        {
          "name": "stderr",
          "output_type": "stream",
          "text": [
            "model_head.pkl not found on HuggingFace Hub, initialising classification head with random weights. You should TRAIN this model on a downstream task to use it for predictions and inference.\n",
            "/var/folders/2z/g737jg9d2jj206wkf56g7gyc0000gn/T/ipykernel_33895/2856560924.py:56: DeprecationWarning: `SetFitTrainer` has been deprecated and will be removed in v2.0.0 of SetFit. Please use `Trainer` instead.\n",
            "  trainer = SetFitTrainer(\n"
          ]
        },
        {
          "data": {
            "text/plain": [
              "Map:   0%|          | 0/16 [00:00<?, ? examples/s]"
            ]
          },
          "metadata": {},
          "output_type": "display_data"
        },
        {
          "name": "stderr",
          "output_type": "stream",
          "text": [
            "***** Running training *****\n",
            "  Num unique pairs = 640\n",
            "  Batch size = 16\n",
            "  Num epochs = 1\n",
            "/Users/agomberto/Library/Caches/pypoetry/virtualenvs/bse-nlp-DetGwK6_-py3.11/lib/python3.11/site-packages/torch/utils/data/dataloader.py:683: UserWarning: 'pin_memory' argument is set as true but not supported on MPS now, then device pinned memory won't be used.\n",
            "  warnings.warn(warn_msg)\n"
          ]
        },
        {
          "data": {
            "text/html": [
              "\n",
              "    <div>\n",
              "      \n",
              "      <progress value='40' max='40' style='width:300px; height:20px; vertical-align: middle;'></progress>\n",
              "      [40/40 00:54, Epoch 1/1]\n",
              "    </div>\n",
              "    <table border=\"1\" class=\"dataframe\">\n",
              "  <thead>\n",
              " <tr style=\"text-align: left;\">\n",
              "      <th>Step</th>\n",
              "      <th>Training Loss</th>\n",
              "    </tr>\n",
              "  </thead>\n",
              "  <tbody>\n",
              "    <tr>\n",
              "      <td>1</td>\n",
              "      <td>0.277400</td>\n",
              "    </tr>\n",
              "  </tbody>\n",
              "</table><p>"
            ],
            "text/plain": [
              "<IPython.core.display.HTML object>"
            ]
          },
          "metadata": {},
          "output_type": "display_data"
        },
        {
          "name": "stdout",
          "output_type": "stream",
          "text": [
            "  Iteration 6/10\n"
          ]
        },
        {
          "name": "stderr",
          "output_type": "stream",
          "text": [
            "model_head.pkl not found on HuggingFace Hub, initialising classification head with random weights. You should TRAIN this model on a downstream task to use it for predictions and inference.\n",
            "/var/folders/2z/g737jg9d2jj206wkf56g7gyc0000gn/T/ipykernel_33895/2856560924.py:56: DeprecationWarning: `SetFitTrainer` has been deprecated and will be removed in v2.0.0 of SetFit. Please use `Trainer` instead.\n",
            "  trainer = SetFitTrainer(\n"
          ]
        },
        {
          "data": {
            "text/plain": [
              "Map:   0%|          | 0/16 [00:00<?, ? examples/s]"
            ]
          },
          "metadata": {},
          "output_type": "display_data"
        },
        {
          "name": "stderr",
          "output_type": "stream",
          "text": [
            "***** Running training *****\n",
            "  Num unique pairs = 640\n",
            "  Batch size = 16\n",
            "  Num epochs = 1\n",
            "/Users/agomberto/Library/Caches/pypoetry/virtualenvs/bse-nlp-DetGwK6_-py3.11/lib/python3.11/site-packages/torch/utils/data/dataloader.py:683: UserWarning: 'pin_memory' argument is set as true but not supported on MPS now, then device pinned memory won't be used.\n",
            "  warnings.warn(warn_msg)\n"
          ]
        },
        {
          "data": {
            "text/html": [
              "\n",
              "    <div>\n",
              "      \n",
              "      <progress value='40' max='40' style='width:300px; height:20px; vertical-align: middle;'></progress>\n",
              "      [40/40 00:57, Epoch 1/1]\n",
              "    </div>\n",
              "    <table border=\"1\" class=\"dataframe\">\n",
              "  <thead>\n",
              " <tr style=\"text-align: left;\">\n",
              "      <th>Step</th>\n",
              "      <th>Training Loss</th>\n",
              "    </tr>\n",
              "  </thead>\n",
              "  <tbody>\n",
              "    <tr>\n",
              "      <td>1</td>\n",
              "      <td>0.316600</td>\n",
              "    </tr>\n",
              "  </tbody>\n",
              "</table><p>"
            ],
            "text/plain": [
              "<IPython.core.display.HTML object>"
            ]
          },
          "metadata": {},
          "output_type": "display_data"
        },
        {
          "name": "stdout",
          "output_type": "stream",
          "text": [
            "  Iteration 7/10\n"
          ]
        },
        {
          "name": "stderr",
          "output_type": "stream",
          "text": [
            "model_head.pkl not found on HuggingFace Hub, initialising classification head with random weights. You should TRAIN this model on a downstream task to use it for predictions and inference.\n",
            "/var/folders/2z/g737jg9d2jj206wkf56g7gyc0000gn/T/ipykernel_33895/2856560924.py:56: DeprecationWarning: `SetFitTrainer` has been deprecated and will be removed in v2.0.0 of SetFit. Please use `Trainer` instead.\n",
            "  trainer = SetFitTrainer(\n"
          ]
        },
        {
          "data": {
            "text/plain": [
              "Map:   0%|          | 0/16 [00:00<?, ? examples/s]"
            ]
          },
          "metadata": {},
          "output_type": "display_data"
        },
        {
          "name": "stderr",
          "output_type": "stream",
          "text": [
            "***** Running training *****\n",
            "  Num unique pairs = 640\n",
            "  Batch size = 16\n",
            "  Num epochs = 1\n",
            "/Users/agomberto/Library/Caches/pypoetry/virtualenvs/bse-nlp-DetGwK6_-py3.11/lib/python3.11/site-packages/torch/utils/data/dataloader.py:683: UserWarning: 'pin_memory' argument is set as true but not supported on MPS now, then device pinned memory won't be used.\n",
            "  warnings.warn(warn_msg)\n"
          ]
        },
        {
          "data": {
            "text/html": [
              "\n",
              "    <div>\n",
              "      \n",
              "      <progress value='40' max='40' style='width:300px; height:20px; vertical-align: middle;'></progress>\n",
              "      [40/40 00:49, Epoch 1/1]\n",
              "    </div>\n",
              "    <table border=\"1\" class=\"dataframe\">\n",
              "  <thead>\n",
              " <tr style=\"text-align: left;\">\n",
              "      <th>Step</th>\n",
              "      <th>Training Loss</th>\n",
              "    </tr>\n",
              "  </thead>\n",
              "  <tbody>\n",
              "    <tr>\n",
              "      <td>1</td>\n",
              "      <td>0.241000</td>\n",
              "    </tr>\n",
              "  </tbody>\n",
              "</table><p>"
            ],
            "text/plain": [
              "<IPython.core.display.HTML object>"
            ]
          },
          "metadata": {},
          "output_type": "display_data"
        },
        {
          "name": "stdout",
          "output_type": "stream",
          "text": [
            "  Iteration 8/10\n"
          ]
        },
        {
          "name": "stderr",
          "output_type": "stream",
          "text": [
            "model_head.pkl not found on HuggingFace Hub, initialising classification head with random weights. You should TRAIN this model on a downstream task to use it for predictions and inference.\n",
            "/var/folders/2z/g737jg9d2jj206wkf56g7gyc0000gn/T/ipykernel_33895/2856560924.py:56: DeprecationWarning: `SetFitTrainer` has been deprecated and will be removed in v2.0.0 of SetFit. Please use `Trainer` instead.\n",
            "  trainer = SetFitTrainer(\n"
          ]
        },
        {
          "data": {
            "text/plain": [
              "Map:   0%|          | 0/16 [00:00<?, ? examples/s]"
            ]
          },
          "metadata": {},
          "output_type": "display_data"
        },
        {
          "name": "stderr",
          "output_type": "stream",
          "text": [
            "***** Running training *****\n",
            "  Num unique pairs = 640\n",
            "  Batch size = 16\n",
            "  Num epochs = 1\n",
            "/Users/agomberto/Library/Caches/pypoetry/virtualenvs/bse-nlp-DetGwK6_-py3.11/lib/python3.11/site-packages/torch/utils/data/dataloader.py:683: UserWarning: 'pin_memory' argument is set as true but not supported on MPS now, then device pinned memory won't be used.\n",
            "  warnings.warn(warn_msg)\n"
          ]
        },
        {
          "data": {
            "text/html": [
              "\n",
              "    <div>\n",
              "      \n",
              "      <progress value='40' max='40' style='width:300px; height:20px; vertical-align: middle;'></progress>\n",
              "      [40/40 00:48, Epoch 1/1]\n",
              "    </div>\n",
              "    <table border=\"1\" class=\"dataframe\">\n",
              "  <thead>\n",
              " <tr style=\"text-align: left;\">\n",
              "      <th>Step</th>\n",
              "      <th>Training Loss</th>\n",
              "    </tr>\n",
              "  </thead>\n",
              "  <tbody>\n",
              "    <tr>\n",
              "      <td>1</td>\n",
              "      <td>0.274200</td>\n",
              "    </tr>\n",
              "  </tbody>\n",
              "</table><p>"
            ],
            "text/plain": [
              "<IPython.core.display.HTML object>"
            ]
          },
          "metadata": {},
          "output_type": "display_data"
        },
        {
          "name": "stdout",
          "output_type": "stream",
          "text": [
            "  Iteration 9/10\n"
          ]
        },
        {
          "name": "stderr",
          "output_type": "stream",
          "text": [
            "model_head.pkl not found on HuggingFace Hub, initialising classification head with random weights. You should TRAIN this model on a downstream task to use it for predictions and inference.\n",
            "/var/folders/2z/g737jg9d2jj206wkf56g7gyc0000gn/T/ipykernel_33895/2856560924.py:56: DeprecationWarning: `SetFitTrainer` has been deprecated and will be removed in v2.0.0 of SetFit. Please use `Trainer` instead.\n",
            "  trainer = SetFitTrainer(\n"
          ]
        },
        {
          "data": {
            "text/plain": [
              "Map:   0%|          | 0/16 [00:00<?, ? examples/s]"
            ]
          },
          "metadata": {},
          "output_type": "display_data"
        },
        {
          "name": "stderr",
          "output_type": "stream",
          "text": [
            "***** Running training *****\n",
            "  Num unique pairs = 640\n",
            "  Batch size = 16\n",
            "  Num epochs = 1\n",
            "/Users/agomberto/Library/Caches/pypoetry/virtualenvs/bse-nlp-DetGwK6_-py3.11/lib/python3.11/site-packages/torch/utils/data/dataloader.py:683: UserWarning: 'pin_memory' argument is set as true but not supported on MPS now, then device pinned memory won't be used.\n",
            "  warnings.warn(warn_msg)\n"
          ]
        },
        {
          "data": {
            "text/html": [
              "\n",
              "    <div>\n",
              "      \n",
              "      <progress value='40' max='40' style='width:300px; height:20px; vertical-align: middle;'></progress>\n",
              "      [40/40 00:48, Epoch 1/1]\n",
              "    </div>\n",
              "    <table border=\"1\" class=\"dataframe\">\n",
              "  <thead>\n",
              " <tr style=\"text-align: left;\">\n",
              "      <th>Step</th>\n",
              "      <th>Training Loss</th>\n",
              "    </tr>\n",
              "  </thead>\n",
              "  <tbody>\n",
              "    <tr>\n",
              "      <td>1</td>\n",
              "      <td>0.288200</td>\n",
              "    </tr>\n",
              "  </tbody>\n",
              "</table><p>"
            ],
            "text/plain": [
              "<IPython.core.display.HTML object>"
            ]
          },
          "metadata": {},
          "output_type": "display_data"
        },
        {
          "name": "stdout",
          "output_type": "stream",
          "text": [
            "  Iteration 10/10\n"
          ]
        },
        {
          "name": "stderr",
          "output_type": "stream",
          "text": [
            "model_head.pkl not found on HuggingFace Hub, initialising classification head with random weights. You should TRAIN this model on a downstream task to use it for predictions and inference.\n",
            "/var/folders/2z/g737jg9d2jj206wkf56g7gyc0000gn/T/ipykernel_33895/2856560924.py:56: DeprecationWarning: `SetFitTrainer` has been deprecated and will be removed in v2.0.0 of SetFit. Please use `Trainer` instead.\n",
            "  trainer = SetFitTrainer(\n"
          ]
        },
        {
          "data": {
            "text/plain": [
              "Map:   0%|          | 0/16 [00:00<?, ? examples/s]"
            ]
          },
          "metadata": {},
          "output_type": "display_data"
        },
        {
          "name": "stderr",
          "output_type": "stream",
          "text": [
            "***** Running training *****\n",
            "  Num unique pairs = 640\n",
            "  Batch size = 16\n",
            "  Num epochs = 1\n",
            "/Users/agomberto/Library/Caches/pypoetry/virtualenvs/bse-nlp-DetGwK6_-py3.11/lib/python3.11/site-packages/torch/utils/data/dataloader.py:683: UserWarning: 'pin_memory' argument is set as true but not supported on MPS now, then device pinned memory won't be used.\n",
            "  warnings.warn(warn_msg)\n"
          ]
        },
        {
          "data": {
            "text/html": [
              "\n",
              "    <div>\n",
              "      \n",
              "      <progress value='40' max='40' style='width:300px; height:20px; vertical-align: middle;'></progress>\n",
              "      [40/40 00:46, Epoch 1/1]\n",
              "    </div>\n",
              "    <table border=\"1\" class=\"dataframe\">\n",
              "  <thead>\n",
              " <tr style=\"text-align: left;\">\n",
              "      <th>Step</th>\n",
              "      <th>Training Loss</th>\n",
              "    </tr>\n",
              "  </thead>\n",
              "  <tbody>\n",
              "    <tr>\n",
              "      <td>1</td>\n",
              "      <td>0.198500</td>\n",
              "    </tr>\n",
              "  </tbody>\n",
              "</table><p>"
            ],
            "text/plain": [
              "<IPython.core.display.HTML object>"
            ]
          },
          "metadata": {},
          "output_type": "display_data"
        },
        {
          "name": "stdout",
          "output_type": "stream",
          "text": [
            "Training with 32 examples...\n",
            "  Iteration 1/10\n"
          ]
        },
        {
          "name": "stderr",
          "output_type": "stream",
          "text": [
            "model_head.pkl not found on HuggingFace Hub, initialising classification head with random weights. You should TRAIN this model on a downstream task to use it for predictions and inference.\n",
            "/var/folders/2z/g737jg9d2jj206wkf56g7gyc0000gn/T/ipykernel_33895/2856560924.py:56: DeprecationWarning: `SetFitTrainer` has been deprecated and will be removed in v2.0.0 of SetFit. Please use `Trainer` instead.\n",
            "  trainer = SetFitTrainer(\n"
          ]
        },
        {
          "data": {
            "text/plain": [
              "Map:   0%|          | 0/32 [00:00<?, ? examples/s]"
            ]
          },
          "metadata": {},
          "output_type": "display_data"
        },
        {
          "name": "stderr",
          "output_type": "stream",
          "text": [
            "***** Running training *****\n",
            "  Num unique pairs = 1280\n",
            "  Batch size = 16\n",
            "  Num epochs = 1\n",
            "/Users/agomberto/Library/Caches/pypoetry/virtualenvs/bse-nlp-DetGwK6_-py3.11/lib/python3.11/site-packages/torch/utils/data/dataloader.py:683: UserWarning: 'pin_memory' argument is set as true but not supported on MPS now, then device pinned memory won't be used.\n",
            "  warnings.warn(warn_msg)\n"
          ]
        },
        {
          "data": {
            "text/html": [
              "\n",
              "    <div>\n",
              "      \n",
              "      <progress value='80' max='80' style='width:300px; height:20px; vertical-align: middle;'></progress>\n",
              "      [80/80 01:51, Epoch 1/1]\n",
              "    </div>\n",
              "    <table border=\"1\" class=\"dataframe\">\n",
              "  <thead>\n",
              " <tr style=\"text-align: left;\">\n",
              "      <th>Step</th>\n",
              "      <th>Training Loss</th>\n",
              "    </tr>\n",
              "  </thead>\n",
              "  <tbody>\n",
              "    <tr>\n",
              "      <td>1</td>\n",
              "      <td>0.423000</td>\n",
              "    </tr>\n",
              "    <tr>\n",
              "      <td>50</td>\n",
              "      <td>0.206100</td>\n",
              "    </tr>\n",
              "  </tbody>\n",
              "</table><p>"
            ],
            "text/plain": [
              "<IPython.core.display.HTML object>"
            ]
          },
          "metadata": {},
          "output_type": "display_data"
        },
        {
          "name": "stdout",
          "output_type": "stream",
          "text": [
            "  Iteration 2/10\n"
          ]
        },
        {
          "name": "stderr",
          "output_type": "stream",
          "text": [
            "model_head.pkl not found on HuggingFace Hub, initialising classification head with random weights. You should TRAIN this model on a downstream task to use it for predictions and inference.\n",
            "/var/folders/2z/g737jg9d2jj206wkf56g7gyc0000gn/T/ipykernel_33895/2856560924.py:56: DeprecationWarning: `SetFitTrainer` has been deprecated and will be removed in v2.0.0 of SetFit. Please use `Trainer` instead.\n",
            "  trainer = SetFitTrainer(\n"
          ]
        },
        {
          "data": {
            "text/plain": [
              "Map:   0%|          | 0/32 [00:00<?, ? examples/s]"
            ]
          },
          "metadata": {},
          "output_type": "display_data"
        },
        {
          "name": "stderr",
          "output_type": "stream",
          "text": [
            "***** Running training *****\n",
            "  Num unique pairs = 1280\n",
            "  Batch size = 16\n",
            "  Num epochs = 1\n",
            "/Users/agomberto/Library/Caches/pypoetry/virtualenvs/bse-nlp-DetGwK6_-py3.11/lib/python3.11/site-packages/torch/utils/data/dataloader.py:683: UserWarning: 'pin_memory' argument is set as true but not supported on MPS now, then device pinned memory won't be used.\n",
            "  warnings.warn(warn_msg)\n"
          ]
        },
        {
          "data": {
            "text/html": [
              "\n",
              "    <div>\n",
              "      \n",
              "      <progress value='80' max='80' style='width:300px; height:20px; vertical-align: middle;'></progress>\n",
              "      [80/80 01:38, Epoch 1/1]\n",
              "    </div>\n",
              "    <table border=\"1\" class=\"dataframe\">\n",
              "  <thead>\n",
              " <tr style=\"text-align: left;\">\n",
              "      <th>Step</th>\n",
              "      <th>Training Loss</th>\n",
              "    </tr>\n",
              "  </thead>\n",
              "  <tbody>\n",
              "    <tr>\n",
              "      <td>1</td>\n",
              "      <td>0.246500</td>\n",
              "    </tr>\n",
              "    <tr>\n",
              "      <td>50</td>\n",
              "      <td>0.194700</td>\n",
              "    </tr>\n",
              "  </tbody>\n",
              "</table><p>"
            ],
            "text/plain": [
              "<IPython.core.display.HTML object>"
            ]
          },
          "metadata": {},
          "output_type": "display_data"
        },
        {
          "name": "stdout",
          "output_type": "stream",
          "text": [
            "  Iteration 3/10\n"
          ]
        },
        {
          "name": "stderr",
          "output_type": "stream",
          "text": [
            "model_head.pkl not found on HuggingFace Hub, initialising classification head with random weights. You should TRAIN this model on a downstream task to use it for predictions and inference.\n",
            "/var/folders/2z/g737jg9d2jj206wkf56g7gyc0000gn/T/ipykernel_33895/2856560924.py:56: DeprecationWarning: `SetFitTrainer` has been deprecated and will be removed in v2.0.0 of SetFit. Please use `Trainer` instead.\n",
            "  trainer = SetFitTrainer(\n"
          ]
        },
        {
          "data": {
            "text/plain": [
              "Map:   0%|          | 0/32 [00:00<?, ? examples/s]"
            ]
          },
          "metadata": {},
          "output_type": "display_data"
        },
        {
          "name": "stderr",
          "output_type": "stream",
          "text": [
            "***** Running training *****\n",
            "  Num unique pairs = 1280\n",
            "  Batch size = 16\n",
            "  Num epochs = 1\n",
            "/Users/agomberto/Library/Caches/pypoetry/virtualenvs/bse-nlp-DetGwK6_-py3.11/lib/python3.11/site-packages/torch/utils/data/dataloader.py:683: UserWarning: 'pin_memory' argument is set as true but not supported on MPS now, then device pinned memory won't be used.\n",
            "  warnings.warn(warn_msg)\n"
          ]
        },
        {
          "data": {
            "text/html": [
              "\n",
              "    <div>\n",
              "      \n",
              "      <progress value='80' max='80' style='width:300px; height:20px; vertical-align: middle;'></progress>\n",
              "      [80/80 01:35, Epoch 1/1]\n",
              "    </div>\n",
              "    <table border=\"1\" class=\"dataframe\">\n",
              "  <thead>\n",
              " <tr style=\"text-align: left;\">\n",
              "      <th>Step</th>\n",
              "      <th>Training Loss</th>\n",
              "    </tr>\n",
              "  </thead>\n",
              "  <tbody>\n",
              "    <tr>\n",
              "      <td>1</td>\n",
              "      <td>0.301700</td>\n",
              "    </tr>\n",
              "    <tr>\n",
              "      <td>50</td>\n",
              "      <td>0.226400</td>\n",
              "    </tr>\n",
              "  </tbody>\n",
              "</table><p>"
            ],
            "text/plain": [
              "<IPython.core.display.HTML object>"
            ]
          },
          "metadata": {},
          "output_type": "display_data"
        },
        {
          "name": "stdout",
          "output_type": "stream",
          "text": [
            "  Iteration 4/10\n"
          ]
        },
        {
          "name": "stderr",
          "output_type": "stream",
          "text": [
            "model_head.pkl not found on HuggingFace Hub, initialising classification head with random weights. You should TRAIN this model on a downstream task to use it for predictions and inference.\n",
            "/var/folders/2z/g737jg9d2jj206wkf56g7gyc0000gn/T/ipykernel_33895/2856560924.py:56: DeprecationWarning: `SetFitTrainer` has been deprecated and will be removed in v2.0.0 of SetFit. Please use `Trainer` instead.\n",
            "  trainer = SetFitTrainer(\n"
          ]
        },
        {
          "data": {
            "text/plain": [
              "Map:   0%|          | 0/32 [00:00<?, ? examples/s]"
            ]
          },
          "metadata": {},
          "output_type": "display_data"
        },
        {
          "name": "stderr",
          "output_type": "stream",
          "text": [
            "***** Running training *****\n",
            "  Num unique pairs = 1280\n",
            "  Batch size = 16\n",
            "  Num epochs = 1\n",
            "/Users/agomberto/Library/Caches/pypoetry/virtualenvs/bse-nlp-DetGwK6_-py3.11/lib/python3.11/site-packages/torch/utils/data/dataloader.py:683: UserWarning: 'pin_memory' argument is set as true but not supported on MPS now, then device pinned memory won't be used.\n",
            "  warnings.warn(warn_msg)\n"
          ]
        },
        {
          "data": {
            "text/html": [
              "\n",
              "    <div>\n",
              "      \n",
              "      <progress value='80' max='80' style='width:300px; height:20px; vertical-align: middle;'></progress>\n",
              "      [80/80 01:35, Epoch 1/1]\n",
              "    </div>\n",
              "    <table border=\"1\" class=\"dataframe\">\n",
              "  <thead>\n",
              " <tr style=\"text-align: left;\">\n",
              "      <th>Step</th>\n",
              "      <th>Training Loss</th>\n",
              "    </tr>\n",
              "  </thead>\n",
              "  <tbody>\n",
              "    <tr>\n",
              "      <td>1</td>\n",
              "      <td>0.199700</td>\n",
              "    </tr>\n",
              "    <tr>\n",
              "      <td>50</td>\n",
              "      <td>0.192200</td>\n",
              "    </tr>\n",
              "  </tbody>\n",
              "</table><p>"
            ],
            "text/plain": [
              "<IPython.core.display.HTML object>"
            ]
          },
          "metadata": {},
          "output_type": "display_data"
        },
        {
          "name": "stdout",
          "output_type": "stream",
          "text": [
            "  Iteration 5/10\n"
          ]
        },
        {
          "name": "stderr",
          "output_type": "stream",
          "text": [
            "model_head.pkl not found on HuggingFace Hub, initialising classification head with random weights. You should TRAIN this model on a downstream task to use it for predictions and inference.\n",
            "/var/folders/2z/g737jg9d2jj206wkf56g7gyc0000gn/T/ipykernel_33895/2856560924.py:56: DeprecationWarning: `SetFitTrainer` has been deprecated and will be removed in v2.0.0 of SetFit. Please use `Trainer` instead.\n",
            "  trainer = SetFitTrainer(\n"
          ]
        },
        {
          "data": {
            "text/plain": [
              "Map:   0%|          | 0/32 [00:00<?, ? examples/s]"
            ]
          },
          "metadata": {},
          "output_type": "display_data"
        },
        {
          "name": "stderr",
          "output_type": "stream",
          "text": [
            "***** Running training *****\n",
            "  Num unique pairs = 1280\n",
            "  Batch size = 16\n",
            "  Num epochs = 1\n",
            "/Users/agomberto/Library/Caches/pypoetry/virtualenvs/bse-nlp-DetGwK6_-py3.11/lib/python3.11/site-packages/torch/utils/data/dataloader.py:683: UserWarning: 'pin_memory' argument is set as true but not supported on MPS now, then device pinned memory won't be used.\n",
            "  warnings.warn(warn_msg)\n"
          ]
        },
        {
          "data": {
            "text/html": [
              "\n",
              "    <div>\n",
              "      \n",
              "      <progress value='80' max='80' style='width:300px; height:20px; vertical-align: middle;'></progress>\n",
              "      [80/80 01:34, Epoch 1/1]\n",
              "    </div>\n",
              "    <table border=\"1\" class=\"dataframe\">\n",
              "  <thead>\n",
              " <tr style=\"text-align: left;\">\n",
              "      <th>Step</th>\n",
              "      <th>Training Loss</th>\n",
              "    </tr>\n",
              "  </thead>\n",
              "  <tbody>\n",
              "    <tr>\n",
              "      <td>1</td>\n",
              "      <td>0.327900</td>\n",
              "    </tr>\n",
              "    <tr>\n",
              "      <td>50</td>\n",
              "      <td>0.202000</td>\n",
              "    </tr>\n",
              "  </tbody>\n",
              "</table><p>"
            ],
            "text/plain": [
              "<IPython.core.display.HTML object>"
            ]
          },
          "metadata": {},
          "output_type": "display_data"
        },
        {
          "name": "stdout",
          "output_type": "stream",
          "text": [
            "  Iteration 6/10\n"
          ]
        },
        {
          "name": "stderr",
          "output_type": "stream",
          "text": [
            "model_head.pkl not found on HuggingFace Hub, initialising classification head with random weights. You should TRAIN this model on a downstream task to use it for predictions and inference.\n",
            "/var/folders/2z/g737jg9d2jj206wkf56g7gyc0000gn/T/ipykernel_33895/2856560924.py:56: DeprecationWarning: `SetFitTrainer` has been deprecated and will be removed in v2.0.0 of SetFit. Please use `Trainer` instead.\n",
            "  trainer = SetFitTrainer(\n"
          ]
        },
        {
          "data": {
            "text/plain": [
              "Map:   0%|          | 0/32 [00:00<?, ? examples/s]"
            ]
          },
          "metadata": {},
          "output_type": "display_data"
        },
        {
          "name": "stderr",
          "output_type": "stream",
          "text": [
            "***** Running training *****\n",
            "  Num unique pairs = 1280\n",
            "  Batch size = 16\n",
            "  Num epochs = 1\n",
            "/Users/agomberto/Library/Caches/pypoetry/virtualenvs/bse-nlp-DetGwK6_-py3.11/lib/python3.11/site-packages/torch/utils/data/dataloader.py:683: UserWarning: 'pin_memory' argument is set as true but not supported on MPS now, then device pinned memory won't be used.\n",
            "  warnings.warn(warn_msg)\n"
          ]
        },
        {
          "data": {
            "text/html": [
              "\n",
              "    <div>\n",
              "      \n",
              "      <progress value='80' max='80' style='width:300px; height:20px; vertical-align: middle;'></progress>\n",
              "      [80/80 01:33, Epoch 1/1]\n",
              "    </div>\n",
              "    <table border=\"1\" class=\"dataframe\">\n",
              "  <thead>\n",
              " <tr style=\"text-align: left;\">\n",
              "      <th>Step</th>\n",
              "      <th>Training Loss</th>\n",
              "    </tr>\n",
              "  </thead>\n",
              "  <tbody>\n",
              "    <tr>\n",
              "      <td>1</td>\n",
              "      <td>0.343900</td>\n",
              "    </tr>\n",
              "    <tr>\n",
              "      <td>50</td>\n",
              "      <td>0.227100</td>\n",
              "    </tr>\n",
              "  </tbody>\n",
              "</table><p>"
            ],
            "text/plain": [
              "<IPython.core.display.HTML object>"
            ]
          },
          "metadata": {},
          "output_type": "display_data"
        },
        {
          "name": "stdout",
          "output_type": "stream",
          "text": [
            "  Iteration 7/10\n"
          ]
        },
        {
          "name": "stderr",
          "output_type": "stream",
          "text": [
            "model_head.pkl not found on HuggingFace Hub, initialising classification head with random weights. You should TRAIN this model on a downstream task to use it for predictions and inference.\n",
            "/var/folders/2z/g737jg9d2jj206wkf56g7gyc0000gn/T/ipykernel_33895/2856560924.py:56: DeprecationWarning: `SetFitTrainer` has been deprecated and will be removed in v2.0.0 of SetFit. Please use `Trainer` instead.\n",
            "  trainer = SetFitTrainer(\n"
          ]
        },
        {
          "data": {
            "text/plain": [
              "Map:   0%|          | 0/32 [00:00<?, ? examples/s]"
            ]
          },
          "metadata": {},
          "output_type": "display_data"
        },
        {
          "name": "stderr",
          "output_type": "stream",
          "text": [
            "***** Running training *****\n",
            "  Num unique pairs = 1280\n",
            "  Batch size = 16\n",
            "  Num epochs = 1\n",
            "/Users/agomberto/Library/Caches/pypoetry/virtualenvs/bse-nlp-DetGwK6_-py3.11/lib/python3.11/site-packages/torch/utils/data/dataloader.py:683: UserWarning: 'pin_memory' argument is set as true but not supported on MPS now, then device pinned memory won't be used.\n",
            "  warnings.warn(warn_msg)\n"
          ]
        },
        {
          "data": {
            "text/html": [
              "\n",
              "    <div>\n",
              "      \n",
              "      <progress value='80' max='80' style='width:300px; height:20px; vertical-align: middle;'></progress>\n",
              "      [80/80 01:34, Epoch 1/1]\n",
              "    </div>\n",
              "    <table border=\"1\" class=\"dataframe\">\n",
              "  <thead>\n",
              " <tr style=\"text-align: left;\">\n",
              "      <th>Step</th>\n",
              "      <th>Training Loss</th>\n",
              "    </tr>\n",
              "  </thead>\n",
              "  <tbody>\n",
              "    <tr>\n",
              "      <td>1</td>\n",
              "      <td>0.266300</td>\n",
              "    </tr>\n",
              "    <tr>\n",
              "      <td>50</td>\n",
              "      <td>0.225700</td>\n",
              "    </tr>\n",
              "  </tbody>\n",
              "</table><p>"
            ],
            "text/plain": [
              "<IPython.core.display.HTML object>"
            ]
          },
          "metadata": {},
          "output_type": "display_data"
        },
        {
          "name": "stdout",
          "output_type": "stream",
          "text": [
            "  Iteration 8/10\n"
          ]
        },
        {
          "name": "stderr",
          "output_type": "stream",
          "text": [
            "model_head.pkl not found on HuggingFace Hub, initialising classification head with random weights. You should TRAIN this model on a downstream task to use it for predictions and inference.\n",
            "/var/folders/2z/g737jg9d2jj206wkf56g7gyc0000gn/T/ipykernel_33895/2856560924.py:56: DeprecationWarning: `SetFitTrainer` has been deprecated and will be removed in v2.0.0 of SetFit. Please use `Trainer` instead.\n",
            "  trainer = SetFitTrainer(\n"
          ]
        },
        {
          "data": {
            "text/plain": [
              "Map:   0%|          | 0/32 [00:00<?, ? examples/s]"
            ]
          },
          "metadata": {},
          "output_type": "display_data"
        },
        {
          "name": "stderr",
          "output_type": "stream",
          "text": [
            "***** Running training *****\n",
            "  Num unique pairs = 1280\n",
            "  Batch size = 16\n",
            "  Num epochs = 1\n",
            "/Users/agomberto/Library/Caches/pypoetry/virtualenvs/bse-nlp-DetGwK6_-py3.11/lib/python3.11/site-packages/torch/utils/data/dataloader.py:683: UserWarning: 'pin_memory' argument is set as true but not supported on MPS now, then device pinned memory won't be used.\n",
            "  warnings.warn(warn_msg)\n"
          ]
        },
        {
          "data": {
            "text/html": [
              "\n",
              "    <div>\n",
              "      \n",
              "      <progress value='80' max='80' style='width:300px; height:20px; vertical-align: middle;'></progress>\n",
              "      [80/80 01:35, Epoch 1/1]\n",
              "    </div>\n",
              "    <table border=\"1\" class=\"dataframe\">\n",
              "  <thead>\n",
              " <tr style=\"text-align: left;\">\n",
              "      <th>Step</th>\n",
              "      <th>Training Loss</th>\n",
              "    </tr>\n",
              "  </thead>\n",
              "  <tbody>\n",
              "    <tr>\n",
              "      <td>1</td>\n",
              "      <td>0.269800</td>\n",
              "    </tr>\n",
              "    <tr>\n",
              "      <td>50</td>\n",
              "      <td>0.232400</td>\n",
              "    </tr>\n",
              "  </tbody>\n",
              "</table><p>"
            ],
            "text/plain": [
              "<IPython.core.display.HTML object>"
            ]
          },
          "metadata": {},
          "output_type": "display_data"
        },
        {
          "name": "stdout",
          "output_type": "stream",
          "text": [
            "  Iteration 9/10\n"
          ]
        },
        {
          "name": "stderr",
          "output_type": "stream",
          "text": [
            "model_head.pkl not found on HuggingFace Hub, initialising classification head with random weights. You should TRAIN this model on a downstream task to use it for predictions and inference.\n",
            "/var/folders/2z/g737jg9d2jj206wkf56g7gyc0000gn/T/ipykernel_33895/2856560924.py:56: DeprecationWarning: `SetFitTrainer` has been deprecated and will be removed in v2.0.0 of SetFit. Please use `Trainer` instead.\n",
            "  trainer = SetFitTrainer(\n"
          ]
        },
        {
          "data": {
            "text/plain": [
              "Map:   0%|          | 0/32 [00:00<?, ? examples/s]"
            ]
          },
          "metadata": {},
          "output_type": "display_data"
        },
        {
          "name": "stderr",
          "output_type": "stream",
          "text": [
            "***** Running training *****\n",
            "  Num unique pairs = 1280\n",
            "  Batch size = 16\n",
            "  Num epochs = 1\n",
            "/Users/agomberto/Library/Caches/pypoetry/virtualenvs/bse-nlp-DetGwK6_-py3.11/lib/python3.11/site-packages/torch/utils/data/dataloader.py:683: UserWarning: 'pin_memory' argument is set as true but not supported on MPS now, then device pinned memory won't be used.\n",
            "  warnings.warn(warn_msg)\n"
          ]
        },
        {
          "data": {
            "text/html": [
              "\n",
              "    <div>\n",
              "      \n",
              "      <progress value='80' max='80' style='width:300px; height:20px; vertical-align: middle;'></progress>\n",
              "      [80/80 01:34, Epoch 1/1]\n",
              "    </div>\n",
              "    <table border=\"1\" class=\"dataframe\">\n",
              "  <thead>\n",
              " <tr style=\"text-align: left;\">\n",
              "      <th>Step</th>\n",
              "      <th>Training Loss</th>\n",
              "    </tr>\n",
              "  </thead>\n",
              "  <tbody>\n",
              "    <tr>\n",
              "      <td>1</td>\n",
              "      <td>0.318400</td>\n",
              "    </tr>\n",
              "    <tr>\n",
              "      <td>50</td>\n",
              "      <td>0.225900</td>\n",
              "    </tr>\n",
              "  </tbody>\n",
              "</table><p>"
            ],
            "text/plain": [
              "<IPython.core.display.HTML object>"
            ]
          },
          "metadata": {},
          "output_type": "display_data"
        },
        {
          "name": "stdout",
          "output_type": "stream",
          "text": [
            "  Iteration 10/10\n"
          ]
        },
        {
          "name": "stderr",
          "output_type": "stream",
          "text": [
            "model_head.pkl not found on HuggingFace Hub, initialising classification head with random weights. You should TRAIN this model on a downstream task to use it for predictions and inference.\n",
            "/var/folders/2z/g737jg9d2jj206wkf56g7gyc0000gn/T/ipykernel_33895/2856560924.py:56: DeprecationWarning: `SetFitTrainer` has been deprecated and will be removed in v2.0.0 of SetFit. Please use `Trainer` instead.\n",
            "  trainer = SetFitTrainer(\n"
          ]
        },
        {
          "data": {
            "text/plain": [
              "Map:   0%|          | 0/32 [00:00<?, ? examples/s]"
            ]
          },
          "metadata": {},
          "output_type": "display_data"
        },
        {
          "name": "stderr",
          "output_type": "stream",
          "text": [
            "***** Running training *****\n",
            "  Num unique pairs = 1280\n",
            "  Batch size = 16\n",
            "  Num epochs = 1\n",
            "/Users/agomberto/Library/Caches/pypoetry/virtualenvs/bse-nlp-DetGwK6_-py3.11/lib/python3.11/site-packages/torch/utils/data/dataloader.py:683: UserWarning: 'pin_memory' argument is set as true but not supported on MPS now, then device pinned memory won't be used.\n",
            "  warnings.warn(warn_msg)\n"
          ]
        },
        {
          "data": {
            "text/html": [
              "\n",
              "    <div>\n",
              "      \n",
              "      <progress value='80' max='80' style='width:300px; height:20px; vertical-align: middle;'></progress>\n",
              "      [80/80 01:33, Epoch 1/1]\n",
              "    </div>\n",
              "    <table border=\"1\" class=\"dataframe\">\n",
              "  <thead>\n",
              " <tr style=\"text-align: left;\">\n",
              "      <th>Step</th>\n",
              "      <th>Training Loss</th>\n",
              "    </tr>\n",
              "  </thead>\n",
              "  <tbody>\n",
              "    <tr>\n",
              "      <td>1</td>\n",
              "      <td>0.301700</td>\n",
              "    </tr>\n",
              "    <tr>\n",
              "      <td>50</td>\n",
              "      <td>0.226700</td>\n",
              "    </tr>\n",
              "  </tbody>\n",
              "</table><p>"
            ],
            "text/plain": [
              "<IPython.core.display.HTML object>"
            ]
          },
          "metadata": {},
          "output_type": "display_data"
        },
        {
          "name": "stdout",
          "output_type": "stream",
          "text": [
            "Training with 64 examples...\n",
            "  Iteration 1/10\n"
          ]
        },
        {
          "name": "stderr",
          "output_type": "stream",
          "text": [
            "model_head.pkl not found on HuggingFace Hub, initialising classification head with random weights. You should TRAIN this model on a downstream task to use it for predictions and inference.\n",
            "/var/folders/2z/g737jg9d2jj206wkf56g7gyc0000gn/T/ipykernel_33895/2856560924.py:56: DeprecationWarning: `SetFitTrainer` has been deprecated and will be removed in v2.0.0 of SetFit. Please use `Trainer` instead.\n",
            "  trainer = SetFitTrainer(\n"
          ]
        },
        {
          "data": {
            "text/plain": [
              "Map:   0%|          | 0/64 [00:00<?, ? examples/s]"
            ]
          },
          "metadata": {},
          "output_type": "display_data"
        },
        {
          "name": "stderr",
          "output_type": "stream",
          "text": [
            "***** Running training *****\n",
            "  Num unique pairs = 2560\n",
            "  Batch size = 16\n",
            "  Num epochs = 1\n",
            "/Users/agomberto/Library/Caches/pypoetry/virtualenvs/bse-nlp-DetGwK6_-py3.11/lib/python3.11/site-packages/torch/utils/data/dataloader.py:683: UserWarning: 'pin_memory' argument is set as true but not supported on MPS now, then device pinned memory won't be used.\n",
            "  warnings.warn(warn_msg)\n"
          ]
        },
        {
          "data": {
            "text/html": [
              "\n",
              "    <div>\n",
              "      \n",
              "      <progress value='160' max='160' style='width:300px; height:20px; vertical-align: middle;'></progress>\n",
              "      [160/160 03:13, Epoch 1/1]\n",
              "    </div>\n",
              "    <table border=\"1\" class=\"dataframe\">\n",
              "  <thead>\n",
              " <tr style=\"text-align: left;\">\n",
              "      <th>Step</th>\n",
              "      <th>Training Loss</th>\n",
              "    </tr>\n",
              "  </thead>\n",
              "  <tbody>\n",
              "    <tr>\n",
              "      <td>1</td>\n",
              "      <td>0.374200</td>\n",
              "    </tr>\n",
              "    <tr>\n",
              "      <td>50</td>\n",
              "      <td>0.260500</td>\n",
              "    </tr>\n",
              "    <tr>\n",
              "      <td>100</td>\n",
              "      <td>0.210700</td>\n",
              "    </tr>\n",
              "    <tr>\n",
              "      <td>150</td>\n",
              "      <td>0.087600</td>\n",
              "    </tr>\n",
              "  </tbody>\n",
              "</table><p>"
            ],
            "text/plain": [
              "<IPython.core.display.HTML object>"
            ]
          },
          "metadata": {},
          "output_type": "display_data"
        },
        {
          "name": "stdout",
          "output_type": "stream",
          "text": [
            "  Iteration 2/10\n"
          ]
        },
        {
          "name": "stderr",
          "output_type": "stream",
          "text": [
            "model_head.pkl not found on HuggingFace Hub, initialising classification head with random weights. You should TRAIN this model on a downstream task to use it for predictions and inference.\n",
            "/var/folders/2z/g737jg9d2jj206wkf56g7gyc0000gn/T/ipykernel_33895/2856560924.py:56: DeprecationWarning: `SetFitTrainer` has been deprecated and will be removed in v2.0.0 of SetFit. Please use `Trainer` instead.\n",
            "  trainer = SetFitTrainer(\n"
          ]
        },
        {
          "data": {
            "text/plain": [
              "Map:   0%|          | 0/64 [00:00<?, ? examples/s]"
            ]
          },
          "metadata": {},
          "output_type": "display_data"
        },
        {
          "name": "stderr",
          "output_type": "stream",
          "text": [
            "***** Running training *****\n",
            "  Num unique pairs = 2560\n",
            "  Batch size = 16\n",
            "  Num epochs = 1\n",
            "/Users/agomberto/Library/Caches/pypoetry/virtualenvs/bse-nlp-DetGwK6_-py3.11/lib/python3.11/site-packages/torch/utils/data/dataloader.py:683: UserWarning: 'pin_memory' argument is set as true but not supported on MPS now, then device pinned memory won't be used.\n",
            "  warnings.warn(warn_msg)\n"
          ]
        },
        {
          "data": {
            "text/html": [
              "\n",
              "    <div>\n",
              "      \n",
              "      <progress value='160' max='160' style='width:300px; height:20px; vertical-align: middle;'></progress>\n",
              "      [160/160 06:13, Epoch 1/1]\n",
              "    </div>\n",
              "    <table border=\"1\" class=\"dataframe\">\n",
              "  <thead>\n",
              " <tr style=\"text-align: left;\">\n",
              "      <th>Step</th>\n",
              "      <th>Training Loss</th>\n",
              "    </tr>\n",
              "  </thead>\n",
              "  <tbody>\n",
              "    <tr>\n",
              "      <td>1</td>\n",
              "      <td>0.425400</td>\n",
              "    </tr>\n",
              "    <tr>\n",
              "      <td>50</td>\n",
              "      <td>0.239600</td>\n",
              "    </tr>\n",
              "    <tr>\n",
              "      <td>100</td>\n",
              "      <td>0.096900</td>\n",
              "    </tr>\n",
              "    <tr>\n",
              "      <td>150</td>\n",
              "      <td>0.010700</td>\n",
              "    </tr>\n",
              "  </tbody>\n",
              "</table><p>"
            ],
            "text/plain": [
              "<IPython.core.display.HTML object>"
            ]
          },
          "metadata": {},
          "output_type": "display_data"
        },
        {
          "name": "stdout",
          "output_type": "stream",
          "text": [
            "  Iteration 3/10\n"
          ]
        },
        {
          "name": "stderr",
          "output_type": "stream",
          "text": [
            "model_head.pkl not found on HuggingFace Hub, initialising classification head with random weights. You should TRAIN this model on a downstream task to use it for predictions and inference.\n",
            "/var/folders/2z/g737jg9d2jj206wkf56g7gyc0000gn/T/ipykernel_33895/2856560924.py:56: DeprecationWarning: `SetFitTrainer` has been deprecated and will be removed in v2.0.0 of SetFit. Please use `Trainer` instead.\n",
            "  trainer = SetFitTrainer(\n"
          ]
        },
        {
          "data": {
            "text/plain": [
              "Map:   0%|          | 0/64 [00:00<?, ? examples/s]"
            ]
          },
          "metadata": {},
          "output_type": "display_data"
        },
        {
          "name": "stderr",
          "output_type": "stream",
          "text": [
            "***** Running training *****\n",
            "  Num unique pairs = 2560\n",
            "  Batch size = 16\n",
            "  Num epochs = 1\n",
            "/Users/agomberto/Library/Caches/pypoetry/virtualenvs/bse-nlp-DetGwK6_-py3.11/lib/python3.11/site-packages/torch/utils/data/dataloader.py:683: UserWarning: 'pin_memory' argument is set as true but not supported on MPS now, then device pinned memory won't be used.\n",
            "  warnings.warn(warn_msg)\n"
          ]
        },
        {
          "data": {
            "text/html": [
              "\n",
              "    <div>\n",
              "      \n",
              "      <progress value='160' max='160' style='width:300px; height:20px; vertical-align: middle;'></progress>\n",
              "      [160/160 03:25, Epoch 1/1]\n",
              "    </div>\n",
              "    <table border=\"1\" class=\"dataframe\">\n",
              "  <thead>\n",
              " <tr style=\"text-align: left;\">\n",
              "      <th>Step</th>\n",
              "      <th>Training Loss</th>\n",
              "    </tr>\n",
              "  </thead>\n",
              "  <tbody>\n",
              "    <tr>\n",
              "      <td>1</td>\n",
              "      <td>0.436400</td>\n",
              "    </tr>\n",
              "    <tr>\n",
              "      <td>50</td>\n",
              "      <td>0.248300</td>\n",
              "    </tr>\n",
              "    <tr>\n",
              "      <td>100</td>\n",
              "      <td>0.173300</td>\n",
              "    </tr>\n",
              "    <tr>\n",
              "      <td>150</td>\n",
              "      <td>0.030800</td>\n",
              "    </tr>\n",
              "  </tbody>\n",
              "</table><p>"
            ],
            "text/plain": [
              "<IPython.core.display.HTML object>"
            ]
          },
          "metadata": {},
          "output_type": "display_data"
        },
        {
          "name": "stdout",
          "output_type": "stream",
          "text": [
            "  Iteration 4/10\n"
          ]
        },
        {
          "name": "stderr",
          "output_type": "stream",
          "text": [
            "model_head.pkl not found on HuggingFace Hub, initialising classification head with random weights. You should TRAIN this model on a downstream task to use it for predictions and inference.\n",
            "/var/folders/2z/g737jg9d2jj206wkf56g7gyc0000gn/T/ipykernel_33895/2856560924.py:56: DeprecationWarning: `SetFitTrainer` has been deprecated and will be removed in v2.0.0 of SetFit. Please use `Trainer` instead.\n",
            "  trainer = SetFitTrainer(\n"
          ]
        },
        {
          "data": {
            "text/plain": [
              "Map:   0%|          | 0/64 [00:00<?, ? examples/s]"
            ]
          },
          "metadata": {},
          "output_type": "display_data"
        },
        {
          "name": "stderr",
          "output_type": "stream",
          "text": [
            "***** Running training *****\n",
            "  Num unique pairs = 2560\n",
            "  Batch size = 16\n",
            "  Num epochs = 1\n",
            "/Users/agomberto/Library/Caches/pypoetry/virtualenvs/bse-nlp-DetGwK6_-py3.11/lib/python3.11/site-packages/torch/utils/data/dataloader.py:683: UserWarning: 'pin_memory' argument is set as true but not supported on MPS now, then device pinned memory won't be used.\n",
            "  warnings.warn(warn_msg)\n"
          ]
        },
        {
          "data": {
            "text/html": [
              "\n",
              "    <div>\n",
              "      \n",
              "      <progress value='160' max='160' style='width:300px; height:20px; vertical-align: middle;'></progress>\n",
              "      [160/160 08:30, Epoch 1/1]\n",
              "    </div>\n",
              "    <table border=\"1\" class=\"dataframe\">\n",
              "  <thead>\n",
              " <tr style=\"text-align: left;\">\n",
              "      <th>Step</th>\n",
              "      <th>Training Loss</th>\n",
              "    </tr>\n",
              "  </thead>\n",
              "  <tbody>\n",
              "    <tr>\n",
              "      <td>1</td>\n",
              "      <td>0.377000</td>\n",
              "    </tr>\n",
              "    <tr>\n",
              "      <td>50</td>\n",
              "      <td>0.239600</td>\n",
              "    </tr>\n",
              "    <tr>\n",
              "      <td>100</td>\n",
              "      <td>0.073800</td>\n",
              "    </tr>\n",
              "    <tr>\n",
              "      <td>150</td>\n",
              "      <td>0.009400</td>\n",
              "    </tr>\n",
              "  </tbody>\n",
              "</table><p>"
            ],
            "text/plain": [
              "<IPython.core.display.HTML object>"
            ]
          },
          "metadata": {},
          "output_type": "display_data"
        },
        {
          "name": "stdout",
          "output_type": "stream",
          "text": [
            "  Iteration 5/10\n"
          ]
        },
        {
          "name": "stderr",
          "output_type": "stream",
          "text": [
            "model_head.pkl not found on HuggingFace Hub, initialising classification head with random weights. You should TRAIN this model on a downstream task to use it for predictions and inference.\n",
            "/var/folders/2z/g737jg9d2jj206wkf56g7gyc0000gn/T/ipykernel_33895/2856560924.py:56: DeprecationWarning: `SetFitTrainer` has been deprecated and will be removed in v2.0.0 of SetFit. Please use `Trainer` instead.\n",
            "  trainer = SetFitTrainer(\n"
          ]
        },
        {
          "data": {
            "text/plain": [
              "Map:   0%|          | 0/64 [00:00<?, ? examples/s]"
            ]
          },
          "metadata": {},
          "output_type": "display_data"
        },
        {
          "name": "stderr",
          "output_type": "stream",
          "text": [
            "***** Running training *****\n",
            "  Num unique pairs = 2560\n",
            "  Batch size = 16\n",
            "  Num epochs = 1\n",
            "/Users/agomberto/Library/Caches/pypoetry/virtualenvs/bse-nlp-DetGwK6_-py3.11/lib/python3.11/site-packages/torch/utils/data/dataloader.py:683: UserWarning: 'pin_memory' argument is set as true but not supported on MPS now, then device pinned memory won't be used.\n",
            "  warnings.warn(warn_msg)\n"
          ]
        },
        {
          "data": {
            "text/html": [
              "\n",
              "    <div>\n",
              "      \n",
              "      <progress value='160' max='160' style='width:300px; height:20px; vertical-align: middle;'></progress>\n",
              "      [160/160 03:17, Epoch 1/1]\n",
              "    </div>\n",
              "    <table border=\"1\" class=\"dataframe\">\n",
              "  <thead>\n",
              " <tr style=\"text-align: left;\">\n",
              "      <th>Step</th>\n",
              "      <th>Training Loss</th>\n",
              "    </tr>\n",
              "  </thead>\n",
              "  <tbody>\n",
              "    <tr>\n",
              "      <td>1</td>\n",
              "      <td>0.312900</td>\n",
              "    </tr>\n",
              "    <tr>\n",
              "      <td>50</td>\n",
              "      <td>0.247100</td>\n",
              "    </tr>\n",
              "    <tr>\n",
              "      <td>100</td>\n",
              "      <td>0.169500</td>\n",
              "    </tr>\n",
              "    <tr>\n",
              "      <td>150</td>\n",
              "      <td>0.041300</td>\n",
              "    </tr>\n",
              "  </tbody>\n",
              "</table><p>"
            ],
            "text/plain": [
              "<IPython.core.display.HTML object>"
            ]
          },
          "metadata": {},
          "output_type": "display_data"
        },
        {
          "name": "stdout",
          "output_type": "stream",
          "text": [
            "  Iteration 6/10\n"
          ]
        },
        {
          "name": "stderr",
          "output_type": "stream",
          "text": [
            "model_head.pkl not found on HuggingFace Hub, initialising classification head with random weights. You should TRAIN this model on a downstream task to use it for predictions and inference.\n",
            "/var/folders/2z/g737jg9d2jj206wkf56g7gyc0000gn/T/ipykernel_33895/2856560924.py:56: DeprecationWarning: `SetFitTrainer` has been deprecated and will be removed in v2.0.0 of SetFit. Please use `Trainer` instead.\n",
            "  trainer = SetFitTrainer(\n"
          ]
        },
        {
          "data": {
            "text/plain": [
              "Map:   0%|          | 0/64 [00:00<?, ? examples/s]"
            ]
          },
          "metadata": {},
          "output_type": "display_data"
        },
        {
          "name": "stderr",
          "output_type": "stream",
          "text": [
            "***** Running training *****\n",
            "  Num unique pairs = 2560\n",
            "  Batch size = 16\n",
            "  Num epochs = 1\n",
            "/Users/agomberto/Library/Caches/pypoetry/virtualenvs/bse-nlp-DetGwK6_-py3.11/lib/python3.11/site-packages/torch/utils/data/dataloader.py:683: UserWarning: 'pin_memory' argument is set as true but not supported on MPS now, then device pinned memory won't be used.\n",
            "  warnings.warn(warn_msg)\n"
          ]
        },
        {
          "data": {
            "text/html": [
              "\n",
              "    <div>\n",
              "      \n",
              "      <progress value='160' max='160' style='width:300px; height:20px; vertical-align: middle;'></progress>\n",
              "      [160/160 03:04, Epoch 1/1]\n",
              "    </div>\n",
              "    <table border=\"1\" class=\"dataframe\">\n",
              "  <thead>\n",
              " <tr style=\"text-align: left;\">\n",
              "      <th>Step</th>\n",
              "      <th>Training Loss</th>\n",
              "    </tr>\n",
              "  </thead>\n",
              "  <tbody>\n",
              "    <tr>\n",
              "      <td>1</td>\n",
              "      <td>0.436800</td>\n",
              "    </tr>\n",
              "    <tr>\n",
              "      <td>50</td>\n",
              "      <td>0.248800</td>\n",
              "    </tr>\n",
              "    <tr>\n",
              "      <td>100</td>\n",
              "      <td>0.143400</td>\n",
              "    </tr>\n",
              "    <tr>\n",
              "      <td>150</td>\n",
              "      <td>0.023100</td>\n",
              "    </tr>\n",
              "  </tbody>\n",
              "</table><p>"
            ],
            "text/plain": [
              "<IPython.core.display.HTML object>"
            ]
          },
          "metadata": {},
          "output_type": "display_data"
        },
        {
          "name": "stdout",
          "output_type": "stream",
          "text": [
            "  Iteration 7/10\n"
          ]
        },
        {
          "name": "stderr",
          "output_type": "stream",
          "text": [
            "model_head.pkl not found on HuggingFace Hub, initialising classification head with random weights. You should TRAIN this model on a downstream task to use it for predictions and inference.\n",
            "/var/folders/2z/g737jg9d2jj206wkf56g7gyc0000gn/T/ipykernel_33895/2856560924.py:56: DeprecationWarning: `SetFitTrainer` has been deprecated and will be removed in v2.0.0 of SetFit. Please use `Trainer` instead.\n",
            "  trainer = SetFitTrainer(\n"
          ]
        },
        {
          "data": {
            "text/plain": [
              "Map:   0%|          | 0/64 [00:00<?, ? examples/s]"
            ]
          },
          "metadata": {},
          "output_type": "display_data"
        },
        {
          "name": "stderr",
          "output_type": "stream",
          "text": [
            "***** Running training *****\n",
            "  Num unique pairs = 2560\n",
            "  Batch size = 16\n",
            "  Num epochs = 1\n",
            "/Users/agomberto/Library/Caches/pypoetry/virtualenvs/bse-nlp-DetGwK6_-py3.11/lib/python3.11/site-packages/torch/utils/data/dataloader.py:683: UserWarning: 'pin_memory' argument is set as true but not supported on MPS now, then device pinned memory won't be used.\n",
            "  warnings.warn(warn_msg)\n"
          ]
        },
        {
          "data": {
            "text/html": [
              "\n",
              "    <div>\n",
              "      \n",
              "      <progress value='160' max='160' style='width:300px; height:20px; vertical-align: middle;'></progress>\n",
              "      [160/160 03:01, Epoch 1/1]\n",
              "    </div>\n",
              "    <table border=\"1\" class=\"dataframe\">\n",
              "  <thead>\n",
              " <tr style=\"text-align: left;\">\n",
              "      <th>Step</th>\n",
              "      <th>Training Loss</th>\n",
              "    </tr>\n",
              "  </thead>\n",
              "  <tbody>\n",
              "    <tr>\n",
              "      <td>1</td>\n",
              "      <td>0.413100</td>\n",
              "    </tr>\n",
              "    <tr>\n",
              "      <td>50</td>\n",
              "      <td>0.253200</td>\n",
              "    </tr>\n",
              "    <tr>\n",
              "      <td>100</td>\n",
              "      <td>0.168500</td>\n",
              "    </tr>\n",
              "    <tr>\n",
              "      <td>150</td>\n",
              "      <td>0.039300</td>\n",
              "    </tr>\n",
              "  </tbody>\n",
              "</table><p>"
            ],
            "text/plain": [
              "<IPython.core.display.HTML object>"
            ]
          },
          "metadata": {},
          "output_type": "display_data"
        },
        {
          "name": "stdout",
          "output_type": "stream",
          "text": [
            "  Iteration 8/10\n"
          ]
        },
        {
          "name": "stderr",
          "output_type": "stream",
          "text": [
            "model_head.pkl not found on HuggingFace Hub, initialising classification head with random weights. You should TRAIN this model on a downstream task to use it for predictions and inference.\n",
            "/var/folders/2z/g737jg9d2jj206wkf56g7gyc0000gn/T/ipykernel_33895/2856560924.py:56: DeprecationWarning: `SetFitTrainer` has been deprecated and will be removed in v2.0.0 of SetFit. Please use `Trainer` instead.\n",
            "  trainer = SetFitTrainer(\n"
          ]
        },
        {
          "data": {
            "text/plain": [
              "Map:   0%|          | 0/64 [00:00<?, ? examples/s]"
            ]
          },
          "metadata": {},
          "output_type": "display_data"
        },
        {
          "name": "stderr",
          "output_type": "stream",
          "text": [
            "***** Running training *****\n",
            "  Num unique pairs = 2560\n",
            "  Batch size = 16\n",
            "  Num epochs = 1\n",
            "/Users/agomberto/Library/Caches/pypoetry/virtualenvs/bse-nlp-DetGwK6_-py3.11/lib/python3.11/site-packages/torch/utils/data/dataloader.py:683: UserWarning: 'pin_memory' argument is set as true but not supported on MPS now, then device pinned memory won't be used.\n",
            "  warnings.warn(warn_msg)\n"
          ]
        },
        {
          "data": {
            "text/html": [
              "\n",
              "    <div>\n",
              "      \n",
              "      <progress value='160' max='160' style='width:300px; height:20px; vertical-align: middle;'></progress>\n",
              "      [160/160 03:07, Epoch 1/1]\n",
              "    </div>\n",
              "    <table border=\"1\" class=\"dataframe\">\n",
              "  <thead>\n",
              " <tr style=\"text-align: left;\">\n",
              "      <th>Step</th>\n",
              "      <th>Training Loss</th>\n",
              "    </tr>\n",
              "  </thead>\n",
              "  <tbody>\n",
              "    <tr>\n",
              "      <td>1</td>\n",
              "      <td>0.353900</td>\n",
              "    </tr>\n",
              "    <tr>\n",
              "      <td>50</td>\n",
              "      <td>0.248300</td>\n",
              "    </tr>\n",
              "    <tr>\n",
              "      <td>100</td>\n",
              "      <td>0.170500</td>\n",
              "    </tr>\n",
              "    <tr>\n",
              "      <td>150</td>\n",
              "      <td>0.033400</td>\n",
              "    </tr>\n",
              "  </tbody>\n",
              "</table><p>"
            ],
            "text/plain": [
              "<IPython.core.display.HTML object>"
            ]
          },
          "metadata": {},
          "output_type": "display_data"
        },
        {
          "name": "stdout",
          "output_type": "stream",
          "text": [
            "  Iteration 9/10\n"
          ]
        },
        {
          "name": "stderr",
          "output_type": "stream",
          "text": [
            "model_head.pkl not found on HuggingFace Hub, initialising classification head with random weights. You should TRAIN this model on a downstream task to use it for predictions and inference.\n",
            "/var/folders/2z/g737jg9d2jj206wkf56g7gyc0000gn/T/ipykernel_33895/2856560924.py:56: DeprecationWarning: `SetFitTrainer` has been deprecated and will be removed in v2.0.0 of SetFit. Please use `Trainer` instead.\n",
            "  trainer = SetFitTrainer(\n"
          ]
        },
        {
          "data": {
            "text/plain": [
              "Map:   0%|          | 0/64 [00:00<?, ? examples/s]"
            ]
          },
          "metadata": {},
          "output_type": "display_data"
        },
        {
          "name": "stderr",
          "output_type": "stream",
          "text": [
            "***** Running training *****\n",
            "  Num unique pairs = 2560\n",
            "  Batch size = 16\n",
            "  Num epochs = 1\n",
            "/Users/agomberto/Library/Caches/pypoetry/virtualenvs/bse-nlp-DetGwK6_-py3.11/lib/python3.11/site-packages/torch/utils/data/dataloader.py:683: UserWarning: 'pin_memory' argument is set as true but not supported on MPS now, then device pinned memory won't be used.\n",
            "  warnings.warn(warn_msg)\n"
          ]
        },
        {
          "data": {
            "text/html": [
              "\n",
              "    <div>\n",
              "      \n",
              "      <progress value='160' max='160' style='width:300px; height:20px; vertical-align: middle;'></progress>\n",
              "      [160/160 03:44, Epoch 1/1]\n",
              "    </div>\n",
              "    <table border=\"1\" class=\"dataframe\">\n",
              "  <thead>\n",
              " <tr style=\"text-align: left;\">\n",
              "      <th>Step</th>\n",
              "      <th>Training Loss</th>\n",
              "    </tr>\n",
              "  </thead>\n",
              "  <tbody>\n",
              "    <tr>\n",
              "      <td>1</td>\n",
              "      <td>0.396400</td>\n",
              "    </tr>\n",
              "    <tr>\n",
              "      <td>50</td>\n",
              "      <td>0.242400</td>\n",
              "    </tr>\n",
              "    <tr>\n",
              "      <td>100</td>\n",
              "      <td>0.142800</td>\n",
              "    </tr>\n",
              "    <tr>\n",
              "      <td>150</td>\n",
              "      <td>0.023300</td>\n",
              "    </tr>\n",
              "  </tbody>\n",
              "</table><p>"
            ],
            "text/plain": [
              "<IPython.core.display.HTML object>"
            ]
          },
          "metadata": {},
          "output_type": "display_data"
        },
        {
          "name": "stdout",
          "output_type": "stream",
          "text": [
            "  Iteration 10/10\n"
          ]
        },
        {
          "name": "stderr",
          "output_type": "stream",
          "text": [
            "model_head.pkl not found on HuggingFace Hub, initialising classification head with random weights. You should TRAIN this model on a downstream task to use it for predictions and inference.\n",
            "/var/folders/2z/g737jg9d2jj206wkf56g7gyc0000gn/T/ipykernel_33895/2856560924.py:56: DeprecationWarning: `SetFitTrainer` has been deprecated and will be removed in v2.0.0 of SetFit. Please use `Trainer` instead.\n",
            "  trainer = SetFitTrainer(\n"
          ]
        },
        {
          "data": {
            "text/plain": [
              "Map:   0%|          | 0/64 [00:00<?, ? examples/s]"
            ]
          },
          "metadata": {},
          "output_type": "display_data"
        },
        {
          "name": "stderr",
          "output_type": "stream",
          "text": [
            "***** Running training *****\n",
            "  Num unique pairs = 2560\n",
            "  Batch size = 16\n",
            "  Num epochs = 1\n",
            "/Users/agomberto/Library/Caches/pypoetry/virtualenvs/bse-nlp-DetGwK6_-py3.11/lib/python3.11/site-packages/torch/utils/data/dataloader.py:683: UserWarning: 'pin_memory' argument is set as true but not supported on MPS now, then device pinned memory won't be used.\n",
            "  warnings.warn(warn_msg)\n"
          ]
        },
        {
          "data": {
            "text/html": [
              "\n",
              "    <div>\n",
              "      \n",
              "      <progress value='160' max='160' style='width:300px; height:20px; vertical-align: middle;'></progress>\n",
              "      [160/160 03:53, Epoch 1/1]\n",
              "    </div>\n",
              "    <table border=\"1\" class=\"dataframe\">\n",
              "  <thead>\n",
              " <tr style=\"text-align: left;\">\n",
              "      <th>Step</th>\n",
              "      <th>Training Loss</th>\n",
              "    </tr>\n",
              "  </thead>\n",
              "  <tbody>\n",
              "    <tr>\n",
              "      <td>1</td>\n",
              "      <td>0.368900</td>\n",
              "    </tr>\n",
              "    <tr>\n",
              "      <td>50</td>\n",
              "      <td>0.254600</td>\n",
              "    </tr>\n",
              "    <tr>\n",
              "      <td>100</td>\n",
              "      <td>0.129800</td>\n",
              "    </tr>\n",
              "    <tr>\n",
              "      <td>150</td>\n",
              "      <td>0.014700</td>\n",
              "    </tr>\n",
              "  </tbody>\n",
              "</table><p>"
            ],
            "text/plain": [
              "<IPython.core.display.HTML object>"
            ]
          },
          "metadata": {},
          "output_type": "display_data"
        },
        {
          "name": "stdout",
          "output_type": "stream",
          "text": [
            "Training with 128 examples...\n",
            "  Iteration 1/10\n"
          ]
        },
        {
          "name": "stderr",
          "output_type": "stream",
          "text": [
            "model_head.pkl not found on HuggingFace Hub, initialising classification head with random weights. You should TRAIN this model on a downstream task to use it for predictions and inference.\n",
            "/var/folders/2z/g737jg9d2jj206wkf56g7gyc0000gn/T/ipykernel_33895/2856560924.py:56: DeprecationWarning: `SetFitTrainer` has been deprecated and will be removed in v2.0.0 of SetFit. Please use `Trainer` instead.\n",
            "  trainer = SetFitTrainer(\n"
          ]
        },
        {
          "data": {
            "text/plain": [
              "Map:   0%|          | 0/128 [00:00<?, ? examples/s]"
            ]
          },
          "metadata": {},
          "output_type": "display_data"
        },
        {
          "name": "stderr",
          "output_type": "stream",
          "text": [
            "***** Running training *****\n",
            "  Num unique pairs = 5120\n",
            "  Batch size = 16\n",
            "  Num epochs = 1\n",
            "/Users/agomberto/Library/Caches/pypoetry/virtualenvs/bse-nlp-DetGwK6_-py3.11/lib/python3.11/site-packages/torch/utils/data/dataloader.py:683: UserWarning: 'pin_memory' argument is set as true but not supported on MPS now, then device pinned memory won't be used.\n",
            "  warnings.warn(warn_msg)\n"
          ]
        },
        {
          "data": {
            "text/html": [
              "\n",
              "    <div>\n",
              "      \n",
              "      <progress value='320' max='320' style='width:300px; height:20px; vertical-align: middle;'></progress>\n",
              "      [320/320 06:53, Epoch 1/1]\n",
              "    </div>\n",
              "    <table border=\"1\" class=\"dataframe\">\n",
              "  <thead>\n",
              " <tr style=\"text-align: left;\">\n",
              "      <th>Step</th>\n",
              "      <th>Training Loss</th>\n",
              "    </tr>\n",
              "  </thead>\n",
              "  <tbody>\n",
              "    <tr>\n",
              "      <td>1</td>\n",
              "      <td>0.396300</td>\n",
              "    </tr>\n",
              "    <tr>\n",
              "      <td>50</td>\n",
              "      <td>0.256800</td>\n",
              "    </tr>\n",
              "    <tr>\n",
              "      <td>100</td>\n",
              "      <td>0.244900</td>\n",
              "    </tr>\n",
              "    <tr>\n",
              "      <td>150</td>\n",
              "      <td>0.164400</td>\n",
              "    </tr>\n",
              "    <tr>\n",
              "      <td>200</td>\n",
              "      <td>0.044000</td>\n",
              "    </tr>\n",
              "    <tr>\n",
              "      <td>250</td>\n",
              "      <td>0.011100</td>\n",
              "    </tr>\n",
              "    <tr>\n",
              "      <td>300</td>\n",
              "      <td>0.006500</td>\n",
              "    </tr>\n",
              "  </tbody>\n",
              "</table><p>"
            ],
            "text/plain": [
              "<IPython.core.display.HTML object>"
            ]
          },
          "metadata": {},
          "output_type": "display_data"
        },
        {
          "name": "stdout",
          "output_type": "stream",
          "text": [
            "  Iteration 2/10\n"
          ]
        },
        {
          "name": "stderr",
          "output_type": "stream",
          "text": [
            "model_head.pkl not found on HuggingFace Hub, initialising classification head with random weights. You should TRAIN this model on a downstream task to use it for predictions and inference.\n",
            "/var/folders/2z/g737jg9d2jj206wkf56g7gyc0000gn/T/ipykernel_33895/2856560924.py:56: DeprecationWarning: `SetFitTrainer` has been deprecated and will be removed in v2.0.0 of SetFit. Please use `Trainer` instead.\n",
            "  trainer = SetFitTrainer(\n"
          ]
        },
        {
          "data": {
            "text/plain": [
              "Map:   0%|          | 0/128 [00:00<?, ? examples/s]"
            ]
          },
          "metadata": {},
          "output_type": "display_data"
        },
        {
          "name": "stderr",
          "output_type": "stream",
          "text": [
            "***** Running training *****\n",
            "  Num unique pairs = 5120\n",
            "  Batch size = 16\n",
            "  Num epochs = 1\n",
            "/Users/agomberto/Library/Caches/pypoetry/virtualenvs/bse-nlp-DetGwK6_-py3.11/lib/python3.11/site-packages/torch/utils/data/dataloader.py:683: UserWarning: 'pin_memory' argument is set as true but not supported on MPS now, then device pinned memory won't be used.\n",
            "  warnings.warn(warn_msg)\n"
          ]
        },
        {
          "data": {
            "text/html": [
              "\n",
              "    <div>\n",
              "      \n",
              "      <progress value='320' max='320' style='width:300px; height:20px; vertical-align: middle;'></progress>\n",
              "      [320/320 09:03, Epoch 1/1]\n",
              "    </div>\n",
              "    <table border=\"1\" class=\"dataframe\">\n",
              "  <thead>\n",
              " <tr style=\"text-align: left;\">\n",
              "      <th>Step</th>\n",
              "      <th>Training Loss</th>\n",
              "    </tr>\n",
              "  </thead>\n",
              "  <tbody>\n",
              "    <tr>\n",
              "      <td>1</td>\n",
              "      <td>0.365600</td>\n",
              "    </tr>\n",
              "    <tr>\n",
              "      <td>50</td>\n",
              "      <td>0.256600</td>\n",
              "    </tr>\n",
              "    <tr>\n",
              "      <td>100</td>\n",
              "      <td>0.206800</td>\n",
              "    </tr>\n",
              "    <tr>\n",
              "      <td>150</td>\n",
              "      <td>0.056300</td>\n",
              "    </tr>\n",
              "    <tr>\n",
              "      <td>200</td>\n",
              "      <td>0.008200</td>\n",
              "    </tr>\n",
              "    <tr>\n",
              "      <td>250</td>\n",
              "      <td>0.003100</td>\n",
              "    </tr>\n",
              "    <tr>\n",
              "      <td>300</td>\n",
              "      <td>0.002300</td>\n",
              "    </tr>\n",
              "  </tbody>\n",
              "</table><p>"
            ],
            "text/plain": [
              "<IPython.core.display.HTML object>"
            ]
          },
          "metadata": {},
          "output_type": "display_data"
        },
        {
          "name": "stdout",
          "output_type": "stream",
          "text": [
            "  Iteration 3/10\n"
          ]
        },
        {
          "name": "stderr",
          "output_type": "stream",
          "text": [
            "model_head.pkl not found on HuggingFace Hub, initialising classification head with random weights. You should TRAIN this model on a downstream task to use it for predictions and inference.\n",
            "/var/folders/2z/g737jg9d2jj206wkf56g7gyc0000gn/T/ipykernel_33895/2856560924.py:56: DeprecationWarning: `SetFitTrainer` has been deprecated and will be removed in v2.0.0 of SetFit. Please use `Trainer` instead.\n",
            "  trainer = SetFitTrainer(\n"
          ]
        },
        {
          "data": {
            "text/plain": [
              "Map:   0%|          | 0/128 [00:00<?, ? examples/s]"
            ]
          },
          "metadata": {},
          "output_type": "display_data"
        },
        {
          "name": "stderr",
          "output_type": "stream",
          "text": [
            "***** Running training *****\n",
            "  Num unique pairs = 5120\n",
            "  Batch size = 16\n",
            "  Num epochs = 1\n",
            "/Users/agomberto/Library/Caches/pypoetry/virtualenvs/bse-nlp-DetGwK6_-py3.11/lib/python3.11/site-packages/torch/utils/data/dataloader.py:683: UserWarning: 'pin_memory' argument is set as true but not supported on MPS now, then device pinned memory won't be used.\n",
            "  warnings.warn(warn_msg)\n"
          ]
        },
        {
          "data": {
            "text/html": [
              "\n",
              "    <div>\n",
              "      \n",
              "      <progress value='320' max='320' style='width:300px; height:20px; vertical-align: middle;'></progress>\n",
              "      [320/320 37:34, Epoch 1/1]\n",
              "    </div>\n",
              "    <table border=\"1\" class=\"dataframe\">\n",
              "  <thead>\n",
              " <tr style=\"text-align: left;\">\n",
              "      <th>Step</th>\n",
              "      <th>Training Loss</th>\n",
              "    </tr>\n",
              "  </thead>\n",
              "  <tbody>\n",
              "    <tr>\n",
              "      <td>1</td>\n",
              "      <td>0.374600</td>\n",
              "    </tr>\n",
              "    <tr>\n",
              "      <td>50</td>\n",
              "      <td>0.253500</td>\n",
              "    </tr>\n",
              "    <tr>\n",
              "      <td>100</td>\n",
              "      <td>0.233000</td>\n",
              "    </tr>\n",
              "    <tr>\n",
              "      <td>150</td>\n",
              "      <td>0.088900</td>\n",
              "    </tr>\n",
              "    <tr>\n",
              "      <td>200</td>\n",
              "      <td>0.015900</td>\n",
              "    </tr>\n",
              "    <tr>\n",
              "      <td>250</td>\n",
              "      <td>0.005400</td>\n",
              "    </tr>\n",
              "    <tr>\n",
              "      <td>300</td>\n",
              "      <td>0.004200</td>\n",
              "    </tr>\n",
              "  </tbody>\n",
              "</table><p>"
            ],
            "text/plain": [
              "<IPython.core.display.HTML object>"
            ]
          },
          "metadata": {},
          "output_type": "display_data"
        },
        {
          "name": "stdout",
          "output_type": "stream",
          "text": [
            "  Iteration 4/10\n"
          ]
        },
        {
          "name": "stderr",
          "output_type": "stream",
          "text": [
            "model_head.pkl not found on HuggingFace Hub, initialising classification head with random weights. You should TRAIN this model on a downstream task to use it for predictions and inference.\n",
            "/var/folders/2z/g737jg9d2jj206wkf56g7gyc0000gn/T/ipykernel_33895/2856560924.py:56: DeprecationWarning: `SetFitTrainer` has been deprecated and will be removed in v2.0.0 of SetFit. Please use `Trainer` instead.\n",
            "  trainer = SetFitTrainer(\n"
          ]
        },
        {
          "data": {
            "text/plain": [
              "Map:   0%|          | 0/128 [00:00<?, ? examples/s]"
            ]
          },
          "metadata": {},
          "output_type": "display_data"
        },
        {
          "name": "stderr",
          "output_type": "stream",
          "text": [
            "***** Running training *****\n",
            "  Num unique pairs = 5120\n",
            "  Batch size = 16\n",
            "  Num epochs = 1\n",
            "/Users/agomberto/Library/Caches/pypoetry/virtualenvs/bse-nlp-DetGwK6_-py3.11/lib/python3.11/site-packages/torch/utils/data/dataloader.py:683: UserWarning: 'pin_memory' argument is set as true but not supported on MPS now, then device pinned memory won't be used.\n",
            "  warnings.warn(warn_msg)\n"
          ]
        },
        {
          "data": {
            "text/html": [
              "\n",
              "    <div>\n",
              "      \n",
              "      <progress value='320' max='320' style='width:300px; height:20px; vertical-align: middle;'></progress>\n",
              "      [320/320 07:33, Epoch 1/1]\n",
              "    </div>\n",
              "    <table border=\"1\" class=\"dataframe\">\n",
              "  <thead>\n",
              " <tr style=\"text-align: left;\">\n",
              "      <th>Step</th>\n",
              "      <th>Training Loss</th>\n",
              "    </tr>\n",
              "  </thead>\n",
              "  <tbody>\n",
              "    <tr>\n",
              "      <td>1</td>\n",
              "      <td>0.351200</td>\n",
              "    </tr>\n",
              "    <tr>\n",
              "      <td>50</td>\n",
              "      <td>0.243900</td>\n",
              "    </tr>\n",
              "    <tr>\n",
              "      <td>100</td>\n",
              "      <td>0.155900</td>\n",
              "    </tr>\n",
              "    <tr>\n",
              "      <td>150</td>\n",
              "      <td>0.024600</td>\n",
              "    </tr>\n",
              "    <tr>\n",
              "      <td>200</td>\n",
              "      <td>0.003500</td>\n",
              "    </tr>\n",
              "    <tr>\n",
              "      <td>250</td>\n",
              "      <td>0.001800</td>\n",
              "    </tr>\n",
              "    <tr>\n",
              "      <td>300</td>\n",
              "      <td>0.001500</td>\n",
              "    </tr>\n",
              "  </tbody>\n",
              "</table><p>"
            ],
            "text/plain": [
              "<IPython.core.display.HTML object>"
            ]
          },
          "metadata": {},
          "output_type": "display_data"
        },
        {
          "name": "stdout",
          "output_type": "stream",
          "text": [
            "  Iteration 5/10\n"
          ]
        },
        {
          "name": "stderr",
          "output_type": "stream",
          "text": [
            "model_head.pkl not found on HuggingFace Hub, initialising classification head with random weights. You should TRAIN this model on a downstream task to use it for predictions and inference.\n",
            "/var/folders/2z/g737jg9d2jj206wkf56g7gyc0000gn/T/ipykernel_33895/2856560924.py:56: DeprecationWarning: `SetFitTrainer` has been deprecated and will be removed in v2.0.0 of SetFit. Please use `Trainer` instead.\n",
            "  trainer = SetFitTrainer(\n"
          ]
        },
        {
          "data": {
            "text/plain": [
              "Map:   0%|          | 0/128 [00:00<?, ? examples/s]"
            ]
          },
          "metadata": {},
          "output_type": "display_data"
        },
        {
          "name": "stderr",
          "output_type": "stream",
          "text": [
            "***** Running training *****\n",
            "  Num unique pairs = 5120\n",
            "  Batch size = 16\n",
            "  Num epochs = 1\n",
            "/Users/agomberto/Library/Caches/pypoetry/virtualenvs/bse-nlp-DetGwK6_-py3.11/lib/python3.11/site-packages/torch/utils/data/dataloader.py:683: UserWarning: 'pin_memory' argument is set as true but not supported on MPS now, then device pinned memory won't be used.\n",
            "  warnings.warn(warn_msg)\n"
          ]
        },
        {
          "data": {
            "text/html": [
              "\n",
              "    <div>\n",
              "      \n",
              "      <progress value='320' max='320' style='width:300px; height:20px; vertical-align: middle;'></progress>\n",
              "      [320/320 06:16, Epoch 1/1]\n",
              "    </div>\n",
              "    <table border=\"1\" class=\"dataframe\">\n",
              "  <thead>\n",
              " <tr style=\"text-align: left;\">\n",
              "      <th>Step</th>\n",
              "      <th>Training Loss</th>\n",
              "    </tr>\n",
              "  </thead>\n",
              "  <tbody>\n",
              "    <tr>\n",
              "      <td>1</td>\n",
              "      <td>0.337000</td>\n",
              "    </tr>\n",
              "    <tr>\n",
              "      <td>50</td>\n",
              "      <td>0.258500</td>\n",
              "    </tr>\n",
              "    <tr>\n",
              "      <td>100</td>\n",
              "      <td>0.240300</td>\n",
              "    </tr>\n",
              "    <tr>\n",
              "      <td>150</td>\n",
              "      <td>0.145600</td>\n",
              "    </tr>\n",
              "    <tr>\n",
              "      <td>200</td>\n",
              "      <td>0.042000</td>\n",
              "    </tr>\n",
              "    <tr>\n",
              "      <td>250</td>\n",
              "      <td>0.008700</td>\n",
              "    </tr>\n",
              "    <tr>\n",
              "      <td>300</td>\n",
              "      <td>0.004600</td>\n",
              "    </tr>\n",
              "  </tbody>\n",
              "</table><p>"
            ],
            "text/plain": [
              "<IPython.core.display.HTML object>"
            ]
          },
          "metadata": {},
          "output_type": "display_data"
        },
        {
          "name": "stdout",
          "output_type": "stream",
          "text": [
            "  Iteration 6/10\n"
          ]
        },
        {
          "name": "stderr",
          "output_type": "stream",
          "text": [
            "model_head.pkl not found on HuggingFace Hub, initialising classification head with random weights. You should TRAIN this model on a downstream task to use it for predictions and inference.\n",
            "/var/folders/2z/g737jg9d2jj206wkf56g7gyc0000gn/T/ipykernel_33895/2856560924.py:56: DeprecationWarning: `SetFitTrainer` has been deprecated and will be removed in v2.0.0 of SetFit. Please use `Trainer` instead.\n",
            "  trainer = SetFitTrainer(\n"
          ]
        },
        {
          "data": {
            "text/plain": [
              "Map:   0%|          | 0/128 [00:00<?, ? examples/s]"
            ]
          },
          "metadata": {},
          "output_type": "display_data"
        },
        {
          "name": "stderr",
          "output_type": "stream",
          "text": [
            "***** Running training *****\n",
            "  Num unique pairs = 5120\n",
            "  Batch size = 16\n",
            "  Num epochs = 1\n",
            "/Users/agomberto/Library/Caches/pypoetry/virtualenvs/bse-nlp-DetGwK6_-py3.11/lib/python3.11/site-packages/torch/utils/data/dataloader.py:683: UserWarning: 'pin_memory' argument is set as true but not supported on MPS now, then device pinned memory won't be used.\n",
            "  warnings.warn(warn_msg)\n"
          ]
        },
        {
          "data": {
            "text/html": [
              "\n",
              "    <div>\n",
              "      \n",
              "      <progress value='320' max='320' style='width:300px; height:20px; vertical-align: middle;'></progress>\n",
              "      [320/320 06:18, Epoch 1/1]\n",
              "    </div>\n",
              "    <table border=\"1\" class=\"dataframe\">\n",
              "  <thead>\n",
              " <tr style=\"text-align: left;\">\n",
              "      <th>Step</th>\n",
              "      <th>Training Loss</th>\n",
              "    </tr>\n",
              "  </thead>\n",
              "  <tbody>\n",
              "    <tr>\n",
              "      <td>1</td>\n",
              "      <td>0.339100</td>\n",
              "    </tr>\n",
              "    <tr>\n",
              "      <td>50</td>\n",
              "      <td>0.262900</td>\n",
              "    </tr>\n",
              "    <tr>\n",
              "      <td>100</td>\n",
              "      <td>0.223900</td>\n",
              "    </tr>\n",
              "    <tr>\n",
              "      <td>150</td>\n",
              "      <td>0.085200</td>\n",
              "    </tr>\n",
              "    <tr>\n",
              "      <td>200</td>\n",
              "      <td>0.016400</td>\n",
              "    </tr>\n",
              "    <tr>\n",
              "      <td>250</td>\n",
              "      <td>0.005400</td>\n",
              "    </tr>\n",
              "    <tr>\n",
              "      <td>300</td>\n",
              "      <td>0.004400</td>\n",
              "    </tr>\n",
              "  </tbody>\n",
              "</table><p>"
            ],
            "text/plain": [
              "<IPython.core.display.HTML object>"
            ]
          },
          "metadata": {},
          "output_type": "display_data"
        },
        {
          "name": "stdout",
          "output_type": "stream",
          "text": [
            "  Iteration 7/10\n"
          ]
        },
        {
          "name": "stderr",
          "output_type": "stream",
          "text": [
            "model_head.pkl not found on HuggingFace Hub, initialising classification head with random weights. You should TRAIN this model on a downstream task to use it for predictions and inference.\n",
            "/var/folders/2z/g737jg9d2jj206wkf56g7gyc0000gn/T/ipykernel_33895/2856560924.py:56: DeprecationWarning: `SetFitTrainer` has been deprecated and will be removed in v2.0.0 of SetFit. Please use `Trainer` instead.\n",
            "  trainer = SetFitTrainer(\n"
          ]
        },
        {
          "data": {
            "text/plain": [
              "Map:   0%|          | 0/128 [00:00<?, ? examples/s]"
            ]
          },
          "metadata": {},
          "output_type": "display_data"
        },
        {
          "name": "stderr",
          "output_type": "stream",
          "text": [
            "***** Running training *****\n",
            "  Num unique pairs = 5120\n",
            "  Batch size = 16\n",
            "  Num epochs = 1\n",
            "/Users/agomberto/Library/Caches/pypoetry/virtualenvs/bse-nlp-DetGwK6_-py3.11/lib/python3.11/site-packages/torch/utils/data/dataloader.py:683: UserWarning: 'pin_memory' argument is set as true but not supported on MPS now, then device pinned memory won't be used.\n",
            "  warnings.warn(warn_msg)\n"
          ]
        },
        {
          "data": {
            "text/html": [
              "\n",
              "    <div>\n",
              "      \n",
              "      <progress value='320' max='320' style='width:300px; height:20px; vertical-align: middle;'></progress>\n",
              "      [320/320 06:09, Epoch 1/1]\n",
              "    </div>\n",
              "    <table border=\"1\" class=\"dataframe\">\n",
              "  <thead>\n",
              " <tr style=\"text-align: left;\">\n",
              "      <th>Step</th>\n",
              "      <th>Training Loss</th>\n",
              "    </tr>\n",
              "  </thead>\n",
              "  <tbody>\n",
              "    <tr>\n",
              "      <td>1</td>\n",
              "      <td>0.347300</td>\n",
              "    </tr>\n",
              "    <tr>\n",
              "      <td>50</td>\n",
              "      <td>0.253000</td>\n",
              "    </tr>\n",
              "    <tr>\n",
              "      <td>100</td>\n",
              "      <td>0.212200</td>\n",
              "    </tr>\n",
              "    <tr>\n",
              "      <td>150</td>\n",
              "      <td>0.058000</td>\n",
              "    </tr>\n",
              "    <tr>\n",
              "      <td>200</td>\n",
              "      <td>0.009500</td>\n",
              "    </tr>\n",
              "    <tr>\n",
              "      <td>250</td>\n",
              "      <td>0.003200</td>\n",
              "    </tr>\n",
              "    <tr>\n",
              "      <td>300</td>\n",
              "      <td>0.002300</td>\n",
              "    </tr>\n",
              "  </tbody>\n",
              "</table><p>"
            ],
            "text/plain": [
              "<IPython.core.display.HTML object>"
            ]
          },
          "metadata": {},
          "output_type": "display_data"
        },
        {
          "name": "stdout",
          "output_type": "stream",
          "text": [
            "  Iteration 8/10\n"
          ]
        },
        {
          "name": "stderr",
          "output_type": "stream",
          "text": [
            "model_head.pkl not found on HuggingFace Hub, initialising classification head with random weights. You should TRAIN this model on a downstream task to use it for predictions and inference.\n",
            "/var/folders/2z/g737jg9d2jj206wkf56g7gyc0000gn/T/ipykernel_33895/2856560924.py:56: DeprecationWarning: `SetFitTrainer` has been deprecated and will be removed in v2.0.0 of SetFit. Please use `Trainer` instead.\n",
            "  trainer = SetFitTrainer(\n"
          ]
        },
        {
          "data": {
            "text/plain": [
              "Map:   0%|          | 0/128 [00:00<?, ? examples/s]"
            ]
          },
          "metadata": {},
          "output_type": "display_data"
        },
        {
          "name": "stderr",
          "output_type": "stream",
          "text": [
            "***** Running training *****\n",
            "  Num unique pairs = 5120\n",
            "  Batch size = 16\n",
            "  Num epochs = 1\n",
            "/Users/agomberto/Library/Caches/pypoetry/virtualenvs/bse-nlp-DetGwK6_-py3.11/lib/python3.11/site-packages/torch/utils/data/dataloader.py:683: UserWarning: 'pin_memory' argument is set as true but not supported on MPS now, then device pinned memory won't be used.\n",
            "  warnings.warn(warn_msg)\n"
          ]
        },
        {
          "data": {
            "text/html": [
              "\n",
              "    <div>\n",
              "      \n",
              "      <progress value='320' max='320' style='width:300px; height:20px; vertical-align: middle;'></progress>\n",
              "      [320/320 06:27, Epoch 1/1]\n",
              "    </div>\n",
              "    <table border=\"1\" class=\"dataframe\">\n",
              "  <thead>\n",
              " <tr style=\"text-align: left;\">\n",
              "      <th>Step</th>\n",
              "      <th>Training Loss</th>\n",
              "    </tr>\n",
              "  </thead>\n",
              "  <tbody>\n",
              "    <tr>\n",
              "      <td>1</td>\n",
              "      <td>0.370400</td>\n",
              "    </tr>\n",
              "    <tr>\n",
              "      <td>50</td>\n",
              "      <td>0.261600</td>\n",
              "    </tr>\n",
              "    <tr>\n",
              "      <td>100</td>\n",
              "      <td>0.238000</td>\n",
              "    </tr>\n",
              "    <tr>\n",
              "      <td>150</td>\n",
              "      <td>0.107600</td>\n",
              "    </tr>\n",
              "    <tr>\n",
              "      <td>200</td>\n",
              "      <td>0.025300</td>\n",
              "    </tr>\n",
              "    <tr>\n",
              "      <td>250</td>\n",
              "      <td>0.006800</td>\n",
              "    </tr>\n",
              "    <tr>\n",
              "      <td>300</td>\n",
              "      <td>0.004200</td>\n",
              "    </tr>\n",
              "  </tbody>\n",
              "</table><p>"
            ],
            "text/plain": [
              "<IPython.core.display.HTML object>"
            ]
          },
          "metadata": {},
          "output_type": "display_data"
        },
        {
          "name": "stdout",
          "output_type": "stream",
          "text": [
            "  Iteration 9/10\n"
          ]
        },
        {
          "name": "stderr",
          "output_type": "stream",
          "text": [
            "model_head.pkl not found on HuggingFace Hub, initialising classification head with random weights. You should TRAIN this model on a downstream task to use it for predictions and inference.\n",
            "/var/folders/2z/g737jg9d2jj206wkf56g7gyc0000gn/T/ipykernel_33895/2856560924.py:56: DeprecationWarning: `SetFitTrainer` has been deprecated and will be removed in v2.0.0 of SetFit. Please use `Trainer` instead.\n",
            "  trainer = SetFitTrainer(\n"
          ]
        },
        {
          "data": {
            "text/plain": [
              "Map:   0%|          | 0/128 [00:00<?, ? examples/s]"
            ]
          },
          "metadata": {},
          "output_type": "display_data"
        },
        {
          "name": "stderr",
          "output_type": "stream",
          "text": [
            "***** Running training *****\n",
            "  Num unique pairs = 5120\n",
            "  Batch size = 16\n",
            "  Num epochs = 1\n",
            "/Users/agomberto/Library/Caches/pypoetry/virtualenvs/bse-nlp-DetGwK6_-py3.11/lib/python3.11/site-packages/torch/utils/data/dataloader.py:683: UserWarning: 'pin_memory' argument is set as true but not supported on MPS now, then device pinned memory won't be used.\n",
            "  warnings.warn(warn_msg)\n"
          ]
        },
        {
          "data": {
            "text/html": [
              "\n",
              "    <div>\n",
              "      \n",
              "      <progress value='320' max='320' style='width:300px; height:20px; vertical-align: middle;'></progress>\n",
              "      [320/320 06:45, Epoch 1/1]\n",
              "    </div>\n",
              "    <table border=\"1\" class=\"dataframe\">\n",
              "  <thead>\n",
              " <tr style=\"text-align: left;\">\n",
              "      <th>Step</th>\n",
              "      <th>Training Loss</th>\n",
              "    </tr>\n",
              "  </thead>\n",
              "  <tbody>\n",
              "    <tr>\n",
              "      <td>1</td>\n",
              "      <td>0.324800</td>\n",
              "    </tr>\n",
              "    <tr>\n",
              "      <td>50</td>\n",
              "      <td>0.261000</td>\n",
              "    </tr>\n",
              "    <tr>\n",
              "      <td>100</td>\n",
              "      <td>0.206400</td>\n",
              "    </tr>\n",
              "    <tr>\n",
              "      <td>150</td>\n",
              "      <td>0.046600</td>\n",
              "    </tr>\n",
              "    <tr>\n",
              "      <td>200</td>\n",
              "      <td>0.005400</td>\n",
              "    </tr>\n",
              "    <tr>\n",
              "      <td>250</td>\n",
              "      <td>0.002600</td>\n",
              "    </tr>\n",
              "    <tr>\n",
              "      <td>300</td>\n",
              "      <td>0.001700</td>\n",
              "    </tr>\n",
              "  </tbody>\n",
              "</table><p>"
            ],
            "text/plain": [
              "<IPython.core.display.HTML object>"
            ]
          },
          "metadata": {},
          "output_type": "display_data"
        },
        {
          "name": "stdout",
          "output_type": "stream",
          "text": [
            "  Iteration 10/10\n"
          ]
        },
        {
          "name": "stderr",
          "output_type": "stream",
          "text": [
            "model_head.pkl not found on HuggingFace Hub, initialising classification head with random weights. You should TRAIN this model on a downstream task to use it for predictions and inference.\n",
            "/var/folders/2z/g737jg9d2jj206wkf56g7gyc0000gn/T/ipykernel_33895/2856560924.py:56: DeprecationWarning: `SetFitTrainer` has been deprecated and will be removed in v2.0.0 of SetFit. Please use `Trainer` instead.\n",
            "  trainer = SetFitTrainer(\n"
          ]
        },
        {
          "data": {
            "text/plain": [
              "Map:   0%|          | 0/128 [00:00<?, ? examples/s]"
            ]
          },
          "metadata": {},
          "output_type": "display_data"
        },
        {
          "name": "stderr",
          "output_type": "stream",
          "text": [
            "***** Running training *****\n",
            "  Num unique pairs = 5120\n",
            "  Batch size = 16\n",
            "  Num epochs = 1\n",
            "/Users/agomberto/Library/Caches/pypoetry/virtualenvs/bse-nlp-DetGwK6_-py3.11/lib/python3.11/site-packages/torch/utils/data/dataloader.py:683: UserWarning: 'pin_memory' argument is set as true but not supported on MPS now, then device pinned memory won't be used.\n",
            "  warnings.warn(warn_msg)\n"
          ]
        },
        {
          "data": {
            "text/html": [
              "\n",
              "    <div>\n",
              "      \n",
              "      <progress value='320' max='320' style='width:300px; height:20px; vertical-align: middle;'></progress>\n",
              "      [320/320 10:18:23, Epoch 1/1]\n",
              "    </div>\n",
              "    <table border=\"1\" class=\"dataframe\">\n",
              "  <thead>\n",
              " <tr style=\"text-align: left;\">\n",
              "      <th>Step</th>\n",
              "      <th>Training Loss</th>\n",
              "    </tr>\n",
              "  </thead>\n",
              "  <tbody>\n",
              "    <tr>\n",
              "      <td>1</td>\n",
              "      <td>0.288600</td>\n",
              "    </tr>\n",
              "    <tr>\n",
              "      <td>50</td>\n",
              "      <td>0.252500</td>\n",
              "    </tr>\n",
              "    <tr>\n",
              "      <td>100</td>\n",
              "      <td>0.241200</td>\n",
              "    </tr>\n",
              "    <tr>\n",
              "      <td>150</td>\n",
              "      <td>0.112000</td>\n",
              "    </tr>\n",
              "    <tr>\n",
              "      <td>200</td>\n",
              "      <td>0.024600</td>\n",
              "    </tr>\n",
              "    <tr>\n",
              "      <td>250</td>\n",
              "      <td>0.007100</td>\n",
              "    </tr>\n",
              "    <tr>\n",
              "      <td>300</td>\n",
              "      <td>0.004100</td>\n",
              "    </tr>\n",
              "  </tbody>\n",
              "</table><p>"
            ],
            "text/plain": [
              "<IPython.core.display.HTML object>"
            ]
          },
          "metadata": {},
          "output_type": "display_data"
        }
      ],
      "source": [
        "import numpy as np\n",
        "from setfit import SetFitModel, SetFitTrainer\n",
        "from sklearn.metrics import accuracy_score, f1_score, precision_score, recall_score\n",
        "import pandas as pd\n",
        "import matplotlib.pyplot as plt\n",
        "from datasets import Dataset\n",
        "\n",
        "# Define sample sizes to experiment with\n",
        "sample_sizes = [4, 8, 16, 32, 64, 128]\n",
        "num_iterations = 10\n",
        "metrics = ['accuracy', 'f1', 'precision', 'recall']\n",
        "results = {size: {metric: [] for metric in metrics} for size in sample_sizes}\n",
        "\n",
        "#dataset['train'] = dataset['train'].rename_column(\"labels\", \"label\")\n",
        "#dataset['test'] = dataset['test'].rename_column(\"labels\", \"label\")\n",
        "\n",
        "# Function to sample balanced dataset\n",
        "def sample_balanced_dataset(dataset, num_samples, seed=None):\n",
        "    # Get positive and negative examples\n",
        "    pos_examples = dataset.filter(lambda x: x['label'] == 1)\n",
        "    neg_examples = dataset.filter(lambda x: x['label'] == 0)\n",
        "    \n",
        "    # Sample equal numbers from each class\n",
        "    samples_per_class = num_samples // 2\n",
        "    \n",
        "    if seed is not None:\n",
        "        pos_sampled = pos_examples.shuffle(seed=seed).select(range(samples_per_class))\n",
        "        neg_sampled = neg_examples.shuffle(seed=seed).select(range(samples_per_class))\n",
        "    else:\n",
        "        pos_sampled = pos_examples.shuffle().select(range(samples_per_class))\n",
        "        neg_sampled = neg_examples.shuffle().select(range(samples_per_class))\n",
        "    \n",
        "    # Combine and shuffle\n",
        "    combined = Dataset.from_dict({\n",
        "        'text': pos_sampled['text'] + neg_sampled['text'],\n",
        "        'label': pos_sampled['label'] + neg_sampled['label']\n",
        "    })\n",
        "    \n",
        "    return combined.shuffle(seed=seed) if seed is not None else combined.shuffle()\n",
        "\n",
        "# Prepare test set (use a fixed portion of the dataset)\n",
        "test_set = dataset['test'].select(random_indices)\n",
        "\n",
        "# Run experiments\n",
        "for size in sample_sizes:\n",
        "    print(f\"Training with {size} examples...\")\n",
        "    \n",
        "    for iteration in range(num_iterations):\n",
        "        print(f\"  Iteration {iteration+1}/{num_iterations}\")\n",
        "        \n",
        "        # Sample balanced training data\n",
        "        train_samples = sample_balanced_dataset(dataset['train'], size, seed=42+iteration)\n",
        "        model = SetFitModel.from_pretrained(\"sentence-transformers/all-MiniLM-L6-v2\")\n",
        "\n",
        "        # Initialize and train SetFit model\n",
        "        trainer = SetFitTrainer(\n",
        "            model=model,\n",
        "            train_dataset=train_samples,\n",
        "            eval_dataset=test_set,\n",
        "            batch_size=16,\n",
        "            num_iterations=20,\n",
        "            num_epochs=1\n",
        "        )\n",
        "        \n",
        "        trainer.train()\n",
        "        \n",
        "        # Evaluate\n",
        "        predictions = trainer.model.predict(test_set['text'])\n",
        "        \n",
        "        # Calculate metrics\n",
        "        results[size]['accuracy'].append(accuracy_score(test_set['label'], predictions))\n",
        "        results[size]['f1'].append(f1_score(test_set['label'], predictions))\n",
        "        results[size]['precision'].append(precision_score(test_set['label'], predictions))\n",
        "        results[size]['recall'].append(recall_score(test_set['label'], predictions))"
      ]
    },
    {
      "cell_type": "markdown",
      "metadata": {},
      "source": [
        "### 📈 Learning Curves: How Much Data Do We Really Need?\n",
        "\n",
        "Now that we've trained SetFit across various dataset sizes, let’s **visualize the performance gains** as we increase the number of labeled training examples.\n",
        "\n",
        "#### 📊 What This Tells Us\n",
        "\n",
        "For each curve:\n",
        "- The **line** shows the **average score** over 10 training runs.\n",
        "- The **shaded region** shows the **standard deviation** (variation across random seeds)."
      ]
    },
    {
      "cell_type": "code",
      "execution_count": 176,
      "metadata": {},
      "outputs": [
        {
          "data": {
            "image/png": "[encoded data removed]",
            "text/plain": [
              "<Figure size 1500x1000 with 4 Axes>"
            ]
          },
          "metadata": {},
          "output_type": "display_data"
        }
      ],
      "source": [
        "# Calculate mean and std for each metric and sample size\n",
        "summary = {metric: {'mean': [0], 'std': [0]} for metric in metrics}\n",
        "for metric in metrics:\n",
        "    for size in sample_sizes:\n",
        "        summary[metric]['mean'].append(np.mean(results[size][metric]))\n",
        "        summary[metric]['std'].append(np.std(results[size][metric]))\n",
        "\n",
        "# Plot learning curves\n",
        "# Plot learning curves\n",
        "plt.figure(figsize=(15, 10))\n",
        "for i, metric in enumerate(metrics):\n",
        "    plt.subplot(2, 2, i+1)\n",
        "    \n",
        "    means = summary[metric]['mean']\n",
        "    stds = summary[metric]['std']\n",
        "    \n",
        "    # Plot the mean line\n",
        "    plt.plot([0] + sample_sizes, means, 'o-', label=metric.capitalize())\n",
        "    \n",
        "    # Fill between for standard deviation\n",
        "    plt.fill_between(\n",
        "        [0] + sample_sizes,\n",
        "        [max(0, m - s) for m, s in zip(means, stds)],  # Ensure lower bound doesn't go below 0\n",
        "        [min(1, m + s) for m, s in zip(means, stds)],  # Ensure upper bound doesn't exceed 1\n",
        "        alpha=0.2\n",
        "    )\n",
        "    \n",
        "    plt.title(f'{metric.capitalize()} vs Training Examples')\n",
        "    plt.xlabel('Number of Training Examples')\n",
        "    plt.ylabel(metric.capitalize())\n",
        "    plt.grid(True)\n",
        "    plt.ylim(0, 1)  # Set y-axis to start at 0 and end at 1\n",
        "    \n",
        "plt.tight_layout()\n",
        "plt.savefig('setfit_learning_curves.png')\n",
        "plt.show()"
      ]
    },
    {
      "cell_type": "markdown",
      "metadata": {},
      "source": [
        "### ✅ Final Thoughts: SetFit vs Zero-Shot Learning\n",
        "\n",
        "#### 🚀 SetFit: A Few Labels, Big Impact\n",
        "\n",
        "With only a **few dozen labeled examples**, SetFit manages to:\n",
        "- **Outperform zero-shot learning** methods like BERT/DistilBERT cloze tasks and latent similarity.\n",
        "- Match or **approach the 88% accuracy** obtained via tf-idf + Logistic Regression baseline (but with 25k data).\n",
        "\n",
        "| # Labels | Accuracy | F1     | Precision | Recall | Std (Accuracy) |\n",
        "|----------|----------|--------|-----------|--------|----------------|\n",
        "| 4        | 0.54     | 0.53   | 0.58      | 0.52   | 0.03           |\n",
        "| 8        | 0.57     | 0.58   | 0.61      | 0.59   | 0.04           |\n",
        "| 32       | 0.68     | 0.67   | 0.72      | 0.64   | 0.04           |\n",
        "| 128      | **0.80** | **0.80** | **0.82** | **0.78** | **0.02**     |\n",
        "\n",
        "#### 📊 What Makes SetFit Special?\n",
        "\n",
        "1. **Robust Learning Curve**  \n",
        "   - Even with **4–8 samples**, SetFit starts learning coherent patterns.\n",
        "   - The **variance (standard deviation)** across random seeds **shrinks as we scale up**, showing **stability** and **robustness**.\n",
        "\n",
        "2. **Contrastive Pretraining FTW**  \n",
        "   - SetFit uses a contrastive learning phase to **pull similar examples closer** and **push dissimilar ones apart** in embedding space.\n",
        "   - This lets the model learn **rich semantic clusters**, even from tiny datasets.\n",
        "\n",
        "3. **Fine-tuning Simplicity**  \n",
        "   - Unlike traditional fine-tuning, SetFit doesn't require gradients through a large Transformer model — making it **extremely fast** and **lightweight**.\n"
      ]
    },
    {
      "cell_type": "markdown",
      "metadata": {},
      "source": []
    }
  ],
  "metadata": {
    "kernelspec": {
      "display_name": "bse-nlp-DetGwK6_-py3.11",
      "language": "python",
      "name": "python3"
    },
    "language_info": {
      "codemirror_mode": {
        "name": "ipython",
        "version": 3
      },
      "file_extension": ".py",
      "mimetype": "text/x-python",
      "name": "python",
      "nbconvert_exporter": "python",
      "pygments_lexer": "ipython3",
      "version": "3.11.5"
    }
  },
  "nbformat": 4,
  "nbformat_minor": 2
}
