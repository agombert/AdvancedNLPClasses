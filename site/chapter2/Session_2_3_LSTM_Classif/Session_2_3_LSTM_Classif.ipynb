{
  "cells": [
    {
      "cell_type": "markdown",
      "metadata": {},
      "source": [
        "# LSTM Text Classification vs. TF-IDF + Logistic Regression\n",
        "\n",
        "In this notebook, we compare two different approaches to text classification:\n",
        "\n",
        "1. **Logistic Regression** on top of TF-IDF features\n",
        "2. **LSTM** (using Keras) trained end-to-end\n",
        "\n",
        "We'll explore:\n",
        "- The architectures for each approach\n",
        "- Their respective training processes\n",
        "- Visualization of results and metrics\n",
        "- How each model interprets words in the final decision\n",
        "- Potential improvements for the LSTM model\n"
      ]
    },
    {
      "cell_type": "markdown",
      "metadata": {},
      "source": [
        "## 1. Environment Setup & Imports\n",
        "\n",
        "We'll install any dependencies (if needed) and import the necessary libraries."
      ]
    },
    {
      "cell_type": "code",
      "execution_count": 1,
      "metadata": {
        "tags": []
      },
      "outputs": [],
      "source": [
        "# !pip install scikit-learn tensorflow keras matplotlib seaborn --quiet\n",
        "\n",
        "import numpy as np\n",
        "import pandas as pd\n",
        "import matplotlib.pyplot as plt\n",
        "import seaborn as sns\n",
        "from datasets import load_dataset\n",
        "from sklearn.model_selection import train_test_split\n",
        "from sklearn.feature_extraction.text import TfidfVectorizer\n",
        "from sklearn.linear_model import LogisticRegression\n",
        "from sklearn.metrics import confusion_matrix, classification_report\n",
        "\n",
        "import tensorflow as tf\n",
        "from tensorflow import keras\n",
        "from tensorflow.keras import layers\n",
        "\n",
        "np.random.seed(42)"
      ]
    },
    {
      "cell_type": "markdown",
      "metadata": {},
      "source": [
        "## 2. Data Loading & Preprocessing\n",
        "\n",
        "For demonstration, we'll assume we have a text classification dataset named `df`. It contains two columns:\n",
        "- `text` : The text field\n",
        "- `label`: The target label (0 or 1, for binary classification, or more classes)\n",
        "\n",
        "We'll split the data into **train** and **test** sets, then further create a small dev set if needed."
      ]
    },
    {
      "cell_type": "code",
      "execution_count": 2,
      "metadata": {
        "tags": []
      },
      "outputs": [
        {
          "name": "stdout",
          "output_type": "stream",
          "text": [
            "DatasetDict({\n",
            "    train: Dataset({\n",
            "        features: ['text', 'label'],\n",
            "        num_rows: 25000\n",
            "    })\n",
            "    test: Dataset({\n",
            "        features: ['text', 'label'],\n",
            "        num_rows: 25000\n",
            "    })\n",
            "    unsupervised: Dataset({\n",
            "        features: ['text', 'label'],\n",
            "        num_rows: 50000\n",
            "    })\n",
            "})\n"
          ]
        }
      ],
      "source": [
        "# Placeholder: load your data here.\n",
        "# For demonstration, let's create a small synthetic dataset.\n",
        "\n",
        "# Load the imdb\n",
        "dataset = load_dataset('imdb')\n",
        "print(dataset)\n",
        "\n",
        "\n",
        "# Convert to pandas DataFrame for easier manipulation\n",
        "train_df = dataset['train'].shuffle(seed=42).to_pandas()\n",
        "test_df = dataset['test'].shuffle(seed=42).to_pandas()\n",
        "# Clean the memory\n",
        "del dataset"
      ]
    },
    {
      "cell_type": "markdown",
      "metadata": {},
      "source": [
        "## 3. TF-IDF + Logistic Regression\n",
        "\n",
        "We'll:\n",
        "1. Vectorize our text using TF-IDF.\n",
        "2. Train a Logistic Regression model.\n",
        "3. Evaluate on the test set.\n",
        "4. Visualize results.\n"
      ]
    },
    {
      "cell_type": "code",
      "execution_count": 3,
      "metadata": {},
      "outputs": [
        {
          "name": "stdout",
          "output_type": "stream",
          "text": [
            "X_train shape: (25000, 20000) , y_train shape: (25000,)\n"
          ]
        }
      ],
      "source": [
        "# 3.1 Vectorize text with TF-IDF\n",
        "tfidf_vec = TfidfVectorizer(stop_words='english', min_df=5, max_features=20000)\n",
        "\n",
        "X_train_tfidf = tfidf_vec.fit_transform(train_df['text'])\n",
        "y_train = train_df['label'].values\n",
        "\n",
        "X_test_tfidf = tfidf_vec.transform(test_df['text'])\n",
        "y_test = test_df['label'].values\n",
        "\n",
        "print(\"X_train shape:\", X_train_tfidf.shape, \", y_train shape:\", y_train.shape)"
      ]
    },
    {
      "cell_type": "code",
      "execution_count": 4,
      "metadata": {},
      "outputs": [
        {
          "name": "stdout",
          "output_type": "stream",
          "text": [
            "LogisticRegression Test Classification Report:\n",
            "              precision    recall  f1-score   support\n",
            "\n",
            "           0       0.88      0.88      0.88     12500\n",
            "           1       0.88      0.88      0.88     12500\n",
            "\n",
            "    accuracy                           0.88     25000\n",
            "   macro avg       0.88      0.88      0.88     25000\n",
            "weighted avg       0.88      0.88      0.88     25000\n",
            "\n",
            "Confusion Matrix: [[10979  1521]\n",
            " [ 1495 11005]]\n"
          ]
        }
      ],
      "source": [
        "# 3.2 Train a Logistic Regression model\n",
        "logreg = LogisticRegression()\n",
        "logreg.fit(X_train_tfidf, y_train)\n",
        "\n",
        "# Evaluate on test\n",
        "y_pred_logreg = logreg.predict(X_test_tfidf)\n",
        "\n",
        "print(\"LogisticRegression Test Classification Report:\")\n",
        "print(classification_report(y_test, y_pred_logreg))\n",
        "cm_logreg = confusion_matrix(y_test, y_pred_logreg)\n",
        "print(\"Confusion Matrix:\", cm_logreg)"
      ]
    },
    {
      "cell_type": "markdown",
      "metadata": {},
      "source": [
        "### Visualization of Confusion Matrix"
      ]
    },
    {
      "cell_type": "code",
      "execution_count": 5,
      "metadata": {},
      "outputs": [
        {
          "data": {
            "image/png": "[encoded data removed]",
            "text/plain": [
              "<Figure size 400x400 with 1 Axes>"
            ]
          },
          "metadata": {},
          "output_type": "display_data"
        }
      ],
      "source": [
        "plt.figure(figsize=(4,4))\n",
        "sns.heatmap(cm_logreg, annot=True, cmap='Blues', fmt='d', cbar=False)\n",
        "plt.title(\"LogReg TF-IDF - Confusion Matrix\")\n",
        "plt.xlabel(\"Predicted\")\n",
        "plt.ylabel(\"True\")\n",
        "plt.show()"
      ]
    },
    {
      "cell_type": "markdown",
      "metadata": {},
      "source": [
        "## 4: LSTM Classification\n",
        "\n",
        "In this part, we'll train a **Recurrent Neural Network (RNN)** using an **LSTM (Long Short-Term Memory)** layer — a powerful deep learning technique especially designed for **sequential data** like text.\n",
        "\n",
        "### 🤔 Why Not Use TF-IDF for LSTMs?\n",
        "\n",
        "TF-IDF transforms text into **fixed-length sparse vectors**, measuring the importance of each word. However, it **ignores word order**, which is crucial for understanding meaning in context.\n",
        "\n",
        "> For example:\n",
        "> - `\"the cat sat on the mat\"` and `\"mat sat the on cat the\"` will result in the **same TF-IDF vector**.\n",
        "\n",
        "This is a problem for models like LSTMs that are built to:\n",
        "- Process **sequences of words**, not unordered bags.\n",
        "- Learn **how word meanings evolve across time**.\n",
        "- Use **positional and contextual dependencies** to understand sentences.\n",
        "\n",
        "### ✅ What Do LSTMs Expect as Input?\n",
        "\n",
        "Instead of a TF-IDF vector, LSTMs take in:\n",
        "- A **sequence of word IDs** (tokenized text),\n",
        "- Which are then **mapped to dense vectors** (embeddings),\n",
        "- And passed through the LSTM layer, which learns from the word order and meaning.\n",
        "\n",
        "### 4.1 Preprocessing the Text for LSTM\n",
        "\n",
        "#### Step 1️⃣ — Tokenize Text using `Tokenizer`\n",
        "\n",
        "- The `Tokenizer` assigns a **unique ID to each word** in the training data.\n",
        "- We use:\n",
        "  - `num_words=vocab_size` to limit to top N most frequent words.\n",
        "  - `oov_token=\"<OOV>\"` to represent unknown or rare words.\n",
        "  - `fit_on_texts(...)` to build the internal word-to-index dictionary."
      ]
    },
    {
      "cell_type": "code",
      "execution_count": 6,
      "metadata": {},
      "outputs": [],
      "source": [
        "from tensorflow.keras.preprocessing.text import Tokenizer\n",
        "from tensorflow.keras.preprocessing.sequence import pad_sequences\n",
        "\n",
        "vocab_size = 1000\n",
        "max_len = 64\n",
        "\n",
        "tokenizer = Tokenizer(num_words=vocab_size, oov_token=\"<OOV>\")\n",
        "tokenizer.fit_on_texts(train_df['text'])"
      ]
    },
    {
      "cell_type": "markdown",
      "metadata": {},
      "source": [
        "#### Step 2️⃣ — Convert Sentences to Sequences\n",
        "\n",
        "Each sentence is turned into a sequence of word IDs:\n",
        "\n",
        "> `\"There is no relation at all between Fortier...\"`  \n",
        "> becomes  \n",
        "> `[48, 7, 55, 1, 31, 30, 198, 1, ...]`\n",
        "\n",
        "- `<OOV>` is inserted for words not in the vocabulary.\n",
        "- These sequences now preserve the **order of words**, which is key for LSTM models.\n"
      ]
    },
    {
      "cell_type": "code",
      "execution_count": 7,
      "metadata": {},
      "outputs": [
        {
          "name": "stdout",
          "output_type": "stream",
          "text": [
            "[48, 7, 55, 1, 31, 30, 198, 1, 3, 1, 19, 2, 190, 13, 197, 24, 566, 199, 42, 1, 1, 1, 270, 1, 1, 270, 354, 1, 1, 24, 177, 604, 1, 112, 24, 228, 51, 1, 1, 270, 51, 38, 1, 1, 45, 73, 26, 6, 1, 1, 2, 291, 107, 7, 813, 3, 1, 19, 26, 1, 82, 38, 6, 1, 6, 1, 6, 1, 87, 42, 41, 1, 161, 152, 97, 82, 485, 1, 270, 296, 19, 21, 2, 83, 506, 1, 34, 1, 296, 199, 277, 43, 2, 1, 40, 2, 1, 19, 11, 102, 12, 199, 7, 51, 629, 72, 296, 32, 2, 94, 2, 154, 24, 64, 50, 3, 161, 2, 114, 7, 22, 1, 31, 30]\n",
            "[\"there is no <OOV> at all between <OOV> and <OOV> but the fact that both are police series about <OOV> <OOV> <OOV> looks <OOV> <OOV> looks classic <OOV> <OOV> are quite simple <OOV> plot are far more <OOV> <OOV> looks more like <OOV> <OOV> if we have to <OOV> <OOV> the main character is weak and <OOV> but have <OOV> people like to <OOV> to <OOV> to <OOV> how about just <OOV> funny thing too people writing <OOV> looks american but on the other hand <OOV> they <OOV> american series maybe it's the <OOV> or the <OOV> but i think this series is more english than american by the way the actors are really good and funny the acting is not <OOV> at all\"]\n",
            "There is no relation at all between Fortier and Profiler but the fact that both are police series about violent crimes. Profiler looks crispy, Fortier looks classic. Profiler plots are quite simple. Fortier's plot are far more complicated... Fortier looks more like Prime Suspect, if we have to spot similarities... The main character is weak and weirdo, but have \"clairvoyance\". People like to compare, to judge, to evaluate. How about just enjoying? Funny thing too, people writing Fortier looks American but, on the other hand, arguing they prefer American series (!!!). Maybe it's the language, or the spirit, but I think this series is more English than American. By the way, the actors are really good and funny. The acting is not superficial at all...\n"
          ]
        }
      ],
      "source": [
        "seqs = tokenizer.texts_to_sequences(train_df['text'])\n",
        "print(seqs[0])\n",
        "print(tokenizer.sequences_to_texts([seqs[0]]))\n",
        "print(train_df['text'][0])"
      ]
    },
    {
      "cell_type": "markdown",
      "metadata": {},
      "source": [
        "#### Step 3️⃣ — Pad Sequences to Equal Length\n",
        "\n",
        "Neural networks require inputs of consistent size. But:\n",
        "- Some sentences are short, others are long.\n",
        "- So we **truncate longer ones** and **pad shorter ones** to a fixed length.\n",
        "\n",
        "We use:\n",
        "- `max_len = 64`\n",
        "- `pad_sequences(..., padding='post', truncating='post')`  \n",
        "  to ensure all sequences are the same length, with padding (0s) added **at the end**.\n"
      ]
    },
    {
      "cell_type": "code",
      "execution_count": 8,
      "metadata": {},
      "outputs": [],
      "source": [
        "seqs_padded = pad_sequences(seqs, maxlen=max_len, padding='post', truncating='post')"
      ]
    },
    {
      "cell_type": "markdown",
      "metadata": {},
      "source": [
        "#### Step 4️⃣ — Split into `X` and `y`\n",
        "\n",
        "At this point, we have:\n",
        "- `X_train_seq`: Padded sequences of token IDs.\n",
        "- `y_train_lstm`: Corresponding binary labels (0 or 1).\n",
        "\n",
        "The same applies for the test set: `X_test_seq`, `y_test_lstm`.\n",
        "\n",
        "### ✏️ Note on Using the Same Vocabulary for LSTM and TF-IDF\n",
        "\n",
        "To ensure a fair comparison between the Logistic Regression (TF-IDF) and LSTM models:\n",
        "- We use the **same vocabulary** from the TF-IDF vectorizer.\n",
        "- This means we ignore stopwords and low-frequency words **consistently**.\n",
        "- The only addition is the `<OOV>` token used by LSTM to handle unknowns."
      ]
    },
    {
      "cell_type": "code",
      "execution_count": 9,
      "metadata": {},
      "outputs": [
        {
          "name": "stdout",
          "output_type": "stream",
          "text": [
            "20001\n",
            "['There', 'is', 'no', 'relation', 'at', 'all', 'between', 'Fortier', 'and', 'Profiler', 'but', 'the', 'fact', 'that', 'both', 'are', 'police', 'series', 'about', 'violent', 'crimes.', 'Profiler', 'looks', 'crispy,', 'Fortier', 'looks', 'classic.', 'Profiler', 'plots', 'are', 'quite', 'simple.', \"Fortier's\", 'plot', 'are', 'far', 'more', 'complicated...', 'Fortier', 'looks', 'more', 'like', 'Prime', 'Suspect,', 'if', 'we', 'have', 'to', 'spot', 'similarities...', 'The', 'main', 'character', 'is', 'weak', 'and', 'weirdo,', 'but', 'have', '\"clairvoyance\".', 'People', 'like', 'to', 'compare,', 'to', 'judge,', 'to', 'evaluate.', 'How', 'about', 'just', 'enjoying?', 'Funny', 'thing', 'too,', 'people', 'writing', 'Fortier', 'looks', 'American', 'but,', 'on', 'the', 'other', 'hand,', 'arguing', 'they', 'prefer', 'American', 'series', '(!!!).', 'Maybe', \"it's\", 'the', 'language,', 'or', 'the', 'spirit,', 'but', 'I', 'think', 'this', 'series', 'is', 'more', 'English', 'than', 'American.', 'By', 'the', 'way,', 'the', 'actors', 'are', 'really', 'good', 'and', 'funny.', 'The', 'acting', 'is', 'not', 'superficial', 'at', 'all...']\n",
            "[20000 20000 20000     0 20000 20000 20000 20000 20000 20000 20000 20000\n",
            "     1 20000 20000 20000     2     3 20000     4     5 20000     6 20000\n",
            " 20000     6     7 20000     8 20000     9    10 20000    11 20000    12\n",
            " 20000    13 20000     6 20000    14    15    16 20000 20000 20000 20000\n",
            "    17    18 20000    19    20 20000    21 20000    22 20000 20000    23\n",
            "    24    14 20000    25 20000    26 20000    27 20000 20000    28    29\n",
            "    30    31 20000    24    32 20000     6    33 20000 20000 20000 20000\n",
            "    34    35 20000    36    33     3    37 20000 20000    38 20000 20000\n",
            "    39 20000 20000    40 20000     3 20000 20000    41 20000    33 20000\n",
            " 20000    42 20000    43 20000    44    45 20000    30 20000    46 20000\n",
            " 20000    47 20000 20000     0     0     0     0]\n",
            "1\n"
          ]
        },
        {
          "data": {
            "text/plain": [
              "((25000, 128), (25000,))"
            ]
          },
          "execution_count": 9,
          "metadata": {},
          "output_type": "execute_result"
        }
      ],
      "source": [
        "#Create the tokenizer with the same vocabulary as the TF-IDF vectorizer\n",
        "custom_vocab = tfidf_vec.vocabulary_\n",
        "vocab_size = len(custom_vocab) + 1 # +1 for the OOV token\n",
        "tokenizer = Tokenizer(num_words=vocab_size, oov_token=\"<OOV>\")\n",
        "\n",
        "# Manually assign word index\n",
        "tokenizer.word_index = {word: i for i, word in enumerate(custom_vocab)}\n",
        "tokenizer.word_index[tokenizer.oov_token] = len(custom_vocab)\n",
        "print(len(tokenizer.word_index))\n",
        "\n",
        "#DO NOT fit the tokenizer on the training data otherwise you will have a mismatch between the tokenizer and the TF-IDF vectorizer\n",
        "\n",
        "##Let's increase the max length of the sequences to 128\n",
        "max_len = 128\n",
        "\n",
        "# Let's create a function to convert the text to a sequence of token IDs and pad them to the same length: 128\n",
        "\n",
        "def text_to_seq(df_col, max_len=128):\n",
        "    seqs = tokenizer.texts_to_sequences(df_col)\n",
        "    # pad\n",
        "    seqs_padded = pad_sequences(seqs, maxlen=max_len, padding='post', truncating='post')\n",
        "    return seqs_padded\n",
        "\n",
        "X_train_seq = text_to_seq(train_df['text'].map(lambda x: x.lower()), max_len=max_len)\n",
        "X_test_seq = text_to_seq(test_df['text'].map(lambda x: x.lower()), max_len=max_len)\n",
        "\n",
        "y_train_lstm = train_df['label'].values\n",
        "y_test_lstm  = test_df['label'].values\n",
        "\n",
        "print(train_df['text'][0].split()[:max_len])\n",
        "print(X_train_seq[0])\n",
        "print(y_train_lstm[0])\n",
        "\n",
        "X_train_seq.shape, y_train_lstm.shape"
      ]
    },
    {
      "cell_type": "markdown",
      "metadata": {},
      "source": [
        "### Embeddings: the input of the LSTM\n",
        "\n",
        "The LSTM (or RNNs) is fed with the tokenized sequences of the reviews. Nevertheless, if we feed the RNN with the raw token IDs (represented as integers above) the RNN will be just get as inputs the positions of the words in the vocabulary nothing more. To gain more information we use **the embeddings**.\n",
        "\n",
        "Let's first link embeddings to the TF-IDF pipeline.\n",
        "\n",
        "#### 🧠 Embeddings in the TF-IDF Pipeline\n",
        "\n",
        "In the TF-IDF + logistic regression model, the model learned the embeddings implicitly from the TF-IDF vectorizer. The embeddings are learned when we fit the vectorizer to the training data. In the end we associate, for each sentence, each word to a weight and the sentence is represented as a vector of the weights. We say that we have a \"sentence embedding\". \n",
        "\n",
        "In a TF-IDF + Logistic Regression model:\n",
        "- Each word is assigned **a single numerical weight**.\n",
        "- This weight reflects how important the word is in the review.\n",
        "- The model uses this fixed value as the representation of the word.\n",
        "- The logistic regression model uses the sentence embedding to make the prediction.\n",
        "\n",
        "See below:"
      ]
    },
    {
      "cell_type": "code",
      "execution_count": 10,
      "metadata": {},
      "outputs": [
        {
          "name": "stdout",
          "output_type": "stream",
          "text": [
            "TF-IDF vector for the first review in the training set:\n",
            "[[0. 0. 0. ... 0. 0. 0.]]\n",
            "\n",
            "TF-IDF vector for the first review in the training set where we have the weights for each word:\n",
            "acting, 411 -> 0.06453486881043621\n",
            "actors, 422 -> 0.07451506986747358\n",
            "american, 798 -> 0.282849599154727\n",
            "arguing, 1097 -> 0.18188205992788842\n",
            "character, 3121 -> 0.06712120649061068\n",
            "clairvoyance, 3387 -> 0.22993873098246653\n",
            "classic, 3407 -> 0.09600506078617589\n",
            "compare, 3741 -> 0.13682793832789433\n",
            "complicated, 3788 -> 0.15271278591080203\n",
            "crimes, 4363 -> 0.16069252150549165\n",
            "\n",
            "TF-IDF vector for the first review in the training set where we have the weights for each word:\n",
            "[0.06453487 0.07451507 0.2828496  0.18188206 0.06712121 0.22993873\n",
            " 0.09600506 0.13682794 0.15271279 0.16069252 0.1132163  0.15364272\n",
            " 0.20665086 0.07954201 0.08338438 0.15625659 0.04963082 0.10494199\n",
            " 0.14360214 0.04733146 0.12566851 0.08952358 0.35838411 0.09075236\n",
            " 0.08986416 0.12151923 0.06613852 0.14117013 0.11334531 0.15152355\n",
            " 0.14943343 0.07901726 0.05558572 0.16987687 0.27193871 0.1675908\n",
            " 0.10945524 0.12873432 0.13291014 0.16355615 0.13930737 0.07366632\n",
            " 0.06416329 0.12690591 0.06153084 0.11729007 0.19316474 0.10345318]\n"
          ]
        }
      ],
      "source": [
        "# let's look at the first review in the training set\n",
        "# and see the TF-IDF vector where we have the weights for each word\n",
        "# and look at weights > 0\n",
        "\n",
        "print('TF-IDF vector for the first review in the training set:')\n",
        "print(tfidf_vec.transform(train_df['text'][:1]).toarray())\n",
        "\n",
        "print('\\nTF-IDF vector for the first review in the training set where we have the weights for each word:')\n",
        "non_zero_indices = np.where(tfidf_vec.transform(train_df['text'][:1]).toarray() > 0)[1]\n",
        "for index in non_zero_indices[:10]:\n",
        "    print(f\"{tfidf_vec.get_feature_names_out()[index]}, {index} -> {tfidf_vec.transform(train_df['text'][:1]).toarray()[0, index]}\")\n",
        "\n",
        "print('\\nTF-IDF vector for the first review in the training set where we have the weights for each word:')\n",
        "print(tfidf_vec.transform(train_df['text'][:1]).toarray()[0, non_zero_indices])"
      ]
    },
    {
      "cell_type": "markdown",
      "metadata": {},
      "source": [
        "Nevertheless, those weights don’t capture relationships between words. They are learned from the data and are fixed for each word. We basically put all the information of one word in a single number. The semantic meaning is limited.\n",
        "\n",
        "#### 🧠 Embeddings in the LSTM Pipeline\n",
        "\n",
        "As we said, the LSTM could be fed with the tokenized sequences of the reviews: their positions in the vocabulary. To gain *word importance and semantic* we can add a layer between the tokenized sequences and the LSTM cells. This layer is called the **embedding layer**.\n",
        "\n",
        "This embedding layer is the matrix of weights. In the case of the TF-IDF pipeline it would be the matrix of the weights of the words in the vocabulary. A matrix with one column and as many rows as the number of words in the vocabulary.\n",
        "\n",
        "As we said, one value is quite limited to capture the semantic meaning of a word. So we use a dense vector to represent a word instead of a single number.\n",
        "\n",
        "Therefore, in an LSTM pipeline:\n",
        "- We tokenize the sentences and have a sequence of token IDs which represent the words in the sentences.\n",
        "- Each word is mapped to a **dense vector** (e.g. `[0.21, -0.67, 0.04, ...]`) instead of a single number.\n",
        "- We feed the LSTM with the sequence of dense vectors instead of the token IDs.\n",
        "\n",
        "Therefore when we set up the LSTM pipeline we need to set up the embedding layer at first. We can see the embedding layer as a matrix of weights for the whole vocabulary. And one vector is associated to one word. This vector will be the **word embedding** said differently the vector carries the semantic meaning of the word.\n",
        "\n",
        "We will dive more into embeddings in the next session.\n",
        "\n",
        "#### More concretely\n",
        "\n",
        "In the LSTM pipeline, we add a layer, called the **embedding layer**, which turns each token ID into a **dense vector** — like turning `actor` into `[0.21, -0.67, 0.04, ...]`. This dense vector for `actor`is part of the vocabulary matrix.\n",
        "\n",
        "Each word of the sequence is mapped to a dense vector, we feed the LSTM with the sequence and then we add classifier, concretely a dense layer with a sigmoid activation function.\n",
        "\n",
        "When we train the whole pipeline, we will train also the embedding layer.\n",
        "\n",
        "📌 Without embeddings, LSTM would be just memorizing token positions — embeddings help it understand **meaning** of the words.\n",
        "\n",
        "\n",
        "## ✅ Summary\n",
        "\n",
        "| Feature                | TF-IDF + Logistic Regression     | Tokenized Sequence + LSTM               |\n",
        "|------------------------|----------------------------------|------------------------------------------|\n",
        "| Input Format           | Sparse fixed-length vector       | Sequence of token IDs                   |\n",
        "| Captures Word Order?   | ❌ No                            | ✅ Yes                                  |\n",
        "| Learns Contextual Meaning | ❌ No                        | ✅ Yes (via Embeddings)                 |\n",
        "| Model Complexity       | Simpler, interpretable           | More expressive, less interpretable     |\n",
        "| Good For               | Quick baselines                  | Sequence modeling, complex patterns     |\n",
        "\n",
        "\n",
        "Using **embedding + LSTM** lets us build **context-aware models** that understand **both word meanings and their positions**, which is essential for tasks like **sentiment analysis**, **text generation**, and **sequence classification**."
      ]
    },
    {
      "cell_type": "markdown",
      "metadata": {},
      "source": [
        "### 4.2 Build the LSTM Model\n",
        "\n",
        "Now that we have our sequences ready and padded, we can build an LSTM-based neural network using Keras.\n",
        "\n",
        "We’ll use a simple architecture:\n",
        "- An **Embedding layer** to learn word representations.\n",
        "- A single **LSTM layer** to process the sequence.\n",
        "- A **Dense layer** with a sigmoid activation to output binary predictions.\n",
        "\n",
        "Let’s break this down:\n",
        "\n",
        "- `Embedding(input_dim, output_dim)`: This layer takes each word ID and maps it to a dense vector. Here, `input_dim` is the vocabulary size, and `output_dim` is the size of the embedding (we use 16).\n",
        "- `LSTM(units)`: Processes the sequence of embeddings, capturing patterns and dependencies across time.\n",
        "- `Bidirectional(LSTM(units))`: This layer processes the sequence in both directions (forward and backward), capturing patterns and dependencies across time.\n",
        "- `Flatten()`: This layer flattens the output of the LTSM layer into a 1D vector. As we asked the LSTM to return the sequences we need to flatten the output to have a 1D vector and have the information of the whole sequence.\n",
        "- `Dense(1, activation='sigmoid')`: Outputs a single probability for binary classification (positive or negative label).\n",
        "\n",
        "The optimizer is Adam with a learning rate of 0.01."
      ]
    },
    {
      "cell_type": "code",
      "execution_count": 11,
      "metadata": {},
      "outputs": [
        {
          "data": {
            "text/html": [
              "<pre style=\"white-space:pre;overflow-x:auto;line-height:normal;font-family:Menlo,'DejaVu Sans Mono',consolas,'Courier New',monospace\"><span style=\"font-weight: bold\">Model: \"functional\"</span>\n",
              "</pre>\n"
            ],
            "text/plain": [
              "\u001b[1mModel: \"functional\"\u001b[0m\n"
            ]
          },
          "metadata": {},
          "output_type": "display_data"
        },
        {
          "data": {
            "text/html": [
              "<pre style=\"white-space:pre;overflow-x:auto;line-height:normal;font-family:Menlo,'DejaVu Sans Mono',consolas,'Courier New',monospace\">┏━━━━━━━━━━━━━━━━━━━━━━━━━━━━━━━━━┳━━━━━━━━━━━━━━━━━━━━━━━━┳━━━━━━━━━━━━━━━┓\n",
              "┃<span style=\"font-weight: bold\"> Layer (type)                    </span>┃<span style=\"font-weight: bold\"> Output Shape           </span>┃<span style=\"font-weight: bold\">       Param # </span>┃\n",
              "┡━━━━━━━━━━━━━━━━━━━━━━━━━━━━━━━━━╇━━━━━━━━━━━━━━━━━━━━━━━━╇━━━━━━━━━━━━━━━┩\n",
              "│ input_layer (<span style=\"color: #0087ff; text-decoration-color: #0087ff\">InputLayer</span>)        │ (<span style=\"color: #00d7ff; text-decoration-color: #00d7ff\">None</span>, <span style=\"color: #00af00; text-decoration-color: #00af00\">128</span>)            │             <span style=\"color: #00af00; text-decoration-color: #00af00\">0</span> │\n",
              "├─────────────────────────────────┼────────────────────────┼───────────────┤\n",
              "│ embedding (<span style=\"color: #0087ff; text-decoration-color: #0087ff\">Embedding</span>)           │ (<span style=\"color: #00d7ff; text-decoration-color: #00d7ff\">None</span>, <span style=\"color: #00af00; text-decoration-color: #00af00\">128</span>, <span style=\"color: #00af00; text-decoration-color: #00af00\">16</span>)        │       <span style=\"color: #00af00; text-decoration-color: #00af00\">320,016</span> │\n",
              "├─────────────────────────────────┼────────────────────────┼───────────────┤\n",
              "│ bidirectional (<span style=\"color: #0087ff; text-decoration-color: #0087ff\">Bidirectional</span>)   │ (<span style=\"color: #00d7ff; text-decoration-color: #00d7ff\">None</span>, <span style=\"color: #00af00; text-decoration-color: #00af00\">128</span>, <span style=\"color: #00af00; text-decoration-color: #00af00\">64</span>)        │        <span style=\"color: #00af00; text-decoration-color: #00af00\">12,544</span> │\n",
              "├─────────────────────────────────┼────────────────────────┼───────────────┤\n",
              "│ flatten (<span style=\"color: #0087ff; text-decoration-color: #0087ff\">Flatten</span>)               │ (<span style=\"color: #00d7ff; text-decoration-color: #00d7ff\">None</span>, <span style=\"color: #00af00; text-decoration-color: #00af00\">8192</span>)           │             <span style=\"color: #00af00; text-decoration-color: #00af00\">0</span> │\n",
              "├─────────────────────────────────┼────────────────────────┼───────────────┤\n",
              "│ dense (<span style=\"color: #0087ff; text-decoration-color: #0087ff\">Dense</span>)                   │ (<span style=\"color: #00d7ff; text-decoration-color: #00d7ff\">None</span>, <span style=\"color: #00af00; text-decoration-color: #00af00\">1</span>)              │         <span style=\"color: #00af00; text-decoration-color: #00af00\">8,193</span> │\n",
              "└─────────────────────────────────┴────────────────────────┴───────────────┘\n",
              "</pre>\n"
            ],
            "text/plain": [
              "┏━━━━━━━━━━━━━━━━━━━━━━━━━━━━━━━━━┳━━━━━━━━━━━━━━━━━━━━━━━━┳━━━━━━━━━━━━━━━┓\n",
              "┃\u001b[1m \u001b[0m\u001b[1mLayer (type)                   \u001b[0m\u001b[1m \u001b[0m┃\u001b[1m \u001b[0m\u001b[1mOutput Shape          \u001b[0m\u001b[1m \u001b[0m┃\u001b[1m \u001b[0m\u001b[1m      Param #\u001b[0m\u001b[1m \u001b[0m┃\n",
              "┡━━━━━━━━━━━━━━━━━━━━━━━━━━━━━━━━━╇━━━━━━━━━━━━━━━━━━━━━━━━╇━━━━━━━━━━━━━━━┩\n",
              "│ input_layer (\u001b[38;5;33mInputLayer\u001b[0m)        │ (\u001b[38;5;45mNone\u001b[0m, \u001b[38;5;34m128\u001b[0m)            │             \u001b[38;5;34m0\u001b[0m │\n",
              "├─────────────────────────────────┼────────────────────────┼───────────────┤\n",
              "│ embedding (\u001b[38;5;33mEmbedding\u001b[0m)           │ (\u001b[38;5;45mNone\u001b[0m, \u001b[38;5;34m128\u001b[0m, \u001b[38;5;34m16\u001b[0m)        │       \u001b[38;5;34m320,016\u001b[0m │\n",
              "├─────────────────────────────────┼────────────────────────┼───────────────┤\n",
              "│ bidirectional (\u001b[38;5;33mBidirectional\u001b[0m)   │ (\u001b[38;5;45mNone\u001b[0m, \u001b[38;5;34m128\u001b[0m, \u001b[38;5;34m64\u001b[0m)        │        \u001b[38;5;34m12,544\u001b[0m │\n",
              "├─────────────────────────────────┼────────────────────────┼───────────────┤\n",
              "│ flatten (\u001b[38;5;33mFlatten\u001b[0m)               │ (\u001b[38;5;45mNone\u001b[0m, \u001b[38;5;34m8192\u001b[0m)           │             \u001b[38;5;34m0\u001b[0m │\n",
              "├─────────────────────────────────┼────────────────────────┼───────────────┤\n",
              "│ dense (\u001b[38;5;33mDense\u001b[0m)                   │ (\u001b[38;5;45mNone\u001b[0m, \u001b[38;5;34m1\u001b[0m)              │         \u001b[38;5;34m8,193\u001b[0m │\n",
              "└─────────────────────────────────┴────────────────────────┴───────────────┘\n"
            ]
          },
          "metadata": {},
          "output_type": "display_data"
        },
        {
          "data": {
            "text/html": [
              "<pre style=\"white-space:pre;overflow-x:auto;line-height:normal;font-family:Menlo,'DejaVu Sans Mono',consolas,'Courier New',monospace\"><span style=\"font-weight: bold\"> Total params: </span><span style=\"color: #00af00; text-decoration-color: #00af00\">340,753</span> (1.30 MB)\n",
              "</pre>\n"
            ],
            "text/plain": [
              "\u001b[1m Total params: \u001b[0m\u001b[38;5;34m340,753\u001b[0m (1.30 MB)\n"
            ]
          },
          "metadata": {},
          "output_type": "display_data"
        },
        {
          "data": {
            "text/html": [
              "<pre style=\"white-space:pre;overflow-x:auto;line-height:normal;font-family:Menlo,'DejaVu Sans Mono',consolas,'Courier New',monospace\"><span style=\"font-weight: bold\"> Trainable params: </span><span style=\"color: #00af00; text-decoration-color: #00af00\">340,753</span> (1.30 MB)\n",
              "</pre>\n"
            ],
            "text/plain": [
              "\u001b[1m Trainable params: \u001b[0m\u001b[38;5;34m340,753\u001b[0m (1.30 MB)\n"
            ]
          },
          "metadata": {},
          "output_type": "display_data"
        },
        {
          "data": {
            "text/html": [
              "<pre style=\"white-space:pre;overflow-x:auto;line-height:normal;font-family:Menlo,'DejaVu Sans Mono',consolas,'Courier New',monospace\"><span style=\"font-weight: bold\"> Non-trainable params: </span><span style=\"color: #00af00; text-decoration-color: #00af00\">0</span> (0.00 B)\n",
              "</pre>\n"
            ],
            "text/plain": [
              "\u001b[1m Non-trainable params: \u001b[0m\u001b[38;5;34m0\u001b[0m (0.00 B)\n"
            ]
          },
          "metadata": {},
          "output_type": "display_data"
        }
      ],
      "source": [
        "embedding_dim = 16\n",
        "# The input is a sequence of integers of length max_len (128)\n",
        "inputs = keras.Input(shape=(max_len,), dtype=\"int32\")\n",
        "# Embed each integer in a 16-dimensional vector\n",
        "x = layers.Embedding(vocab_size, embedding_dim)(inputs)\n",
        "# Add bidirectional LSTMs\n",
        "x = layers.Bidirectional(layers.LSTM(32, return_sequences=True))(x)\n",
        "x = layers.Flatten()(x)\n",
        "outputs = layers.Dense(1, activation=\"sigmoid\")(x)\n",
        "model = keras.Model(inputs, outputs)\n",
        "model.summary()"
      ]
    },
    {
      "cell_type": "markdown",
      "metadata": {},
      "source": [
        "### 4.3 Train the LSTM Model\n",
        "\n",
        "Now we train the model using our preprocessed sequences and binary labels.\n",
        "\n",
        "We use:\n",
        "- `validation_split=0.2`: to hold out 20% of training data for validation.\n",
        "- `epochs=10`: to iterate 10 times over the dataset.\n",
        "- `batch_size=128`: A high batch size to speed up training and also to reduce overfitting.\n",
        "\n",
        "Note that LSTMs are more computationally expensive than logistic regression, so training can take longer — especially with small batches. \n",
        "\n",
        "To control the overfitting we can use the callback `EarlyStopping` to stop the training if the validation loss does not improve for 3 epochs."
      ]
    },
    {
      "cell_type": "code",
      "execution_count": 12,
      "metadata": {},
      "outputs": [],
      "source": [
        "optimizer = keras.optimizers.Adam(learning_rate=0.001)\n",
        "\n",
        "model.compile(\n",
        "    optimizer=optimizer,\n",
        "    loss=keras.losses.BinaryCrossentropy(from_logits=False),\n",
        "    metrics=['accuracy', 'recall', 'precision']\n",
        ")"
      ]
    },
    {
      "cell_type": "code",
      "execution_count": 13,
      "metadata": {},
      "outputs": [
        {
          "name": "stdout",
          "output_type": "stream",
          "text": [
            "Epoch 1/20\n",
            "\u001b[1m157/157\u001b[0m \u001b[32m━━━━━━━━━━━━━━━━━━━━\u001b[0m\u001b[37m\u001b[0m \u001b[1m10s\u001b[0m 55ms/step - accuracy: 0.5588 - loss: 0.6901 - precision: 0.5706 - recall: 0.4375 - val_accuracy: 0.7020 - val_loss: 0.5479 - val_precision: 0.6357 - val_recall: 0.9717\n",
            "Epoch 2/20\n",
            "\u001b[1m157/157\u001b[0m \u001b[32m━━━━━━━━━━━━━━━━━━━━\u001b[0m\u001b[37m\u001b[0m \u001b[1m10s\u001b[0m 67ms/step - accuracy: 0.8026 - loss: 0.4260 - precision: 0.7837 - recall: 0.8272 - val_accuracy: 0.8424 - val_loss: 0.3636 - val_precision: 0.8712 - val_recall: 0.8103\n",
            "Epoch 3/20\n",
            "\u001b[1m157/157\u001b[0m \u001b[32m━━━━━━━━━━━━━━━━━━━━\u001b[0m\u001b[37m\u001b[0m \u001b[1m11s\u001b[0m 72ms/step - accuracy: 0.9045 - loss: 0.2484 - precision: 0.8973 - recall: 0.9110 - val_accuracy: 0.8550 - val_loss: 0.3502 - val_precision: 0.8479 - val_recall: 0.8716\n",
            "Epoch 4/20\n",
            "\u001b[1m157/157\u001b[0m \u001b[32m━━━━━━━━━━━━━━━━━━━━\u001b[0m\u001b[37m\u001b[0m \u001b[1m12s\u001b[0m 74ms/step - accuracy: 0.9407 - loss: 0.1600 - precision: 0.9370 - recall: 0.9450 - val_accuracy: 0.8368 - val_loss: 0.4265 - val_precision: 0.8314 - val_recall: 0.8523\n",
            "Epoch 5/20\n",
            "\u001b[1m157/157\u001b[0m \u001b[32m━━━━━━━━━━━━━━━━━━━━\u001b[0m\u001b[37m\u001b[0m \u001b[1m10s\u001b[0m 66ms/step - accuracy: 0.9700 - loss: 0.0837 - precision: 0.9673 - recall: 0.9729 - val_accuracy: 0.8358 - val_loss: 0.4794 - val_precision: 0.8446 - val_recall: 0.8303\n",
            "Epoch 6/20\n",
            "\u001b[1m157/157\u001b[0m \u001b[32m━━━━━━━━━━━━━━━━━━━━\u001b[0m\u001b[37m\u001b[0m \u001b[1m11s\u001b[0m 72ms/step - accuracy: 0.9856 - loss: 0.0437 - precision: 0.9850 - recall: 0.9858 - val_accuracy: 0.8172 - val_loss: 0.7322 - val_precision: 0.8523 - val_recall: 0.7753\n"
          ]
        }
      ],
      "source": [
        "from tensorflow.keras.callbacks import EarlyStopping\n",
        "\n",
        "history = model.fit(\n",
        "    X_train_seq, y_train_lstm,\n",
        "    validation_split=0.2,\n",
        "    epochs=20,\n",
        "    batch_size=128,\n",
        "    verbose=1,\n",
        "    callbacks=[EarlyStopping(monitor='val_loss', patience=3)]\n",
        ")"
      ]
    },
    {
      "cell_type": "markdown",
      "metadata": {},
      "source": [
        "### 4.4 Training Curves\n",
        "Let's visualize the training and validation accuracy/loss."
      ]
    },
    {
      "cell_type": "code",
      "execution_count": 14,
      "metadata": {},
      "outputs": [
        {
          "data": {
            "image/png": "[encoded data removed]",
            "text/plain": [
              "<Figure size 1200x400 with 2 Axes>"
            ]
          },
          "metadata": {},
          "output_type": "display_data"
        }
      ],
      "source": [
        "plt.figure(figsize=(12,4))\n",
        "plt.subplot(1,2,1)\n",
        "plt.plot(history.history['loss'], label='Train Loss')\n",
        "plt.plot(history.history['val_loss'], label='Val Loss')\n",
        "plt.legend()\n",
        "plt.title('LSTM Loss')\n",
        "\n",
        "plt.subplot(1,2,2)\n",
        "plt.plot(history.history['accuracy'], label='Train Acc')\n",
        "plt.plot(history.history['val_accuracy'], label='Val Acc')\n",
        "plt.legend()\n",
        "plt.title('LSTM Accuracy')\n",
        "plt.show()"
      ]
    },
    {
      "cell_type": "code",
      "execution_count": 15,
      "metadata": {},
      "outputs": [
        {
          "name": "stdout",
          "output_type": "stream",
          "text": [
            "\u001b[1m782/782\u001b[0m \u001b[32m━━━━━━━━━━━━━━━━━━━━\u001b[0m\u001b[37m\u001b[0m \u001b[1m6s\u001b[0m 8ms/step\n",
            "LSTM Classification Report:\n",
            "              precision    recall  f1-score   support\n",
            "\n",
            "           0       0.74      0.86      0.80     12500\n",
            "           1       0.83      0.70      0.76     12500\n",
            "\n",
            "    accuracy                           0.78     25000\n",
            "   macro avg       0.79      0.78      0.78     25000\n",
            "weighted avg       0.79      0.78      0.78     25000\n",
            "\n"
          ]
        }
      ],
      "source": [
        "y_pred_lstm_prob = model.predict(X_test_seq)\n",
        "y_pred_lstm = (y_pred_lstm_prob>0.5).astype(int)\n",
        "print(\"LSTM Classification Report:\")\n",
        "print(classification_report(y_test_lstm, y_pred_lstm))"
      ]
    },
    {
      "cell_type": "markdown",
      "metadata": {},
      "source": [
        "Okay that's interesting. We see that the validation loss is decreasing more or less till epoch 3 and then it starts to increase. This is a sign of overfitting. Plus the validation accuracy is quite stable or slightly decreasing after the same number of epochs. We can try to reduce the overfitting by using regularization or dropout. We even see that the results are bad at the end of the training.\n",
        "\n",
        "Ans we see that the results are not so good (at least worst than the logistic regression with TF-IDF). 78% of accuracy is not so good compared to the 88% of the logistic regression with TF-IDF. The overfitting may be one reason. Let's try to reduce the overfitting.\n",
        "\n",
        "### ⚖️ Regularization \n",
        "\n",
        "Regularization is a technique used to prevent overfitting. It adds a penalty term to the loss function that encourages the model to have smaller weights. This helps prevent the model from fitting the noise in the training data.\n",
        "\n",
        "We can use L2 regularization or L1 regularization.\n",
        "\n",
        "Concretely we can add the regularization to the LSTM layer or the dense layer with `activity_regularizer=keras.regularizers.l2(0.01)` or `activity_regularizer=keras.regularizers.l1(0.01)`.\n",
        "\n",
        "### 🕳️ Dropout\n",
        "\n",
        "Dropout is a technique used to prevent overfitting. It randomly drops out some neurons in the network during training. This helps prevent the model from fitting the noise in the training data.\n",
        "\n",
        "We can use dropout in the LSTM layer or in the dense layer. Concretely we can add the dropout to the LSTM layer or the dense layer with `dropout=0.15`."
      ]
    },
    {
      "cell_type": "code",
      "execution_count": 16,
      "metadata": {},
      "outputs": [
        {
          "data": {
            "text/html": [
              "<pre style=\"white-space:pre;overflow-x:auto;line-height:normal;font-family:Menlo,'DejaVu Sans Mono',consolas,'Courier New',monospace\"><span style=\"font-weight: bold\">Model: \"functional_1\"</span>\n",
              "</pre>\n"
            ],
            "text/plain": [
              "\u001b[1mModel: \"functional_1\"\u001b[0m\n"
            ]
          },
          "metadata": {},
          "output_type": "display_data"
        },
        {
          "data": {
            "text/html": [
              "<pre style=\"white-space:pre;overflow-x:auto;line-height:normal;font-family:Menlo,'DejaVu Sans Mono',consolas,'Courier New',monospace\">┏━━━━━━━━━━━━━━━━━━━━━━━━━━━━━━━━━┳━━━━━━━━━━━━━━━━━━━━━━━━┳━━━━━━━━━━━━━━━┓\n",
              "┃<span style=\"font-weight: bold\"> Layer (type)                    </span>┃<span style=\"font-weight: bold\"> Output Shape           </span>┃<span style=\"font-weight: bold\">       Param # </span>┃\n",
              "┡━━━━━━━━━━━━━━━━━━━━━━━━━━━━━━━━━╇━━━━━━━━━━━━━━━━━━━━━━━━╇━━━━━━━━━━━━━━━┩\n",
              "│ input_layer_1 (<span style=\"color: #0087ff; text-decoration-color: #0087ff\">InputLayer</span>)      │ (<span style=\"color: #00d7ff; text-decoration-color: #00d7ff\">None</span>, <span style=\"color: #00af00; text-decoration-color: #00af00\">128</span>)            │             <span style=\"color: #00af00; text-decoration-color: #00af00\">0</span> │\n",
              "├─────────────────────────────────┼────────────────────────┼───────────────┤\n",
              "│ embedding_1 (<span style=\"color: #0087ff; text-decoration-color: #0087ff\">Embedding</span>)         │ (<span style=\"color: #00d7ff; text-decoration-color: #00d7ff\">None</span>, <span style=\"color: #00af00; text-decoration-color: #00af00\">128</span>, <span style=\"color: #00af00; text-decoration-color: #00af00\">16</span>)        │       <span style=\"color: #00af00; text-decoration-color: #00af00\">320,016</span> │\n",
              "├─────────────────────────────────┼────────────────────────┼───────────────┤\n",
              "│ bidirectional_1 (<span style=\"color: #0087ff; text-decoration-color: #0087ff\">Bidirectional</span>) │ (<span style=\"color: #00d7ff; text-decoration-color: #00d7ff\">None</span>, <span style=\"color: #00af00; text-decoration-color: #00af00\">128</span>, <span style=\"color: #00af00; text-decoration-color: #00af00\">64</span>)        │        <span style=\"color: #00af00; text-decoration-color: #00af00\">12,544</span> │\n",
              "├─────────────────────────────────┼────────────────────────┼───────────────┤\n",
              "│ flatten_1 (<span style=\"color: #0087ff; text-decoration-color: #0087ff\">Flatten</span>)             │ (<span style=\"color: #00d7ff; text-decoration-color: #00d7ff\">None</span>, <span style=\"color: #00af00; text-decoration-color: #00af00\">8192</span>)           │             <span style=\"color: #00af00; text-decoration-color: #00af00\">0</span> │\n",
              "├─────────────────────────────────┼────────────────────────┼───────────────┤\n",
              "│ dropout (<span style=\"color: #0087ff; text-decoration-color: #0087ff\">Dropout</span>)               │ (<span style=\"color: #00d7ff; text-decoration-color: #00d7ff\">None</span>, <span style=\"color: #00af00; text-decoration-color: #00af00\">8192</span>)           │             <span style=\"color: #00af00; text-decoration-color: #00af00\">0</span> │\n",
              "├─────────────────────────────────┼────────────────────────┼───────────────┤\n",
              "│ dense_1 (<span style=\"color: #0087ff; text-decoration-color: #0087ff\">Dense</span>)                 │ (<span style=\"color: #00d7ff; text-decoration-color: #00d7ff\">None</span>, <span style=\"color: #00af00; text-decoration-color: #00af00\">1</span>)              │         <span style=\"color: #00af00; text-decoration-color: #00af00\">8,193</span> │\n",
              "└─────────────────────────────────┴────────────────────────┴───────────────┘\n",
              "</pre>\n"
            ],
            "text/plain": [
              "┏━━━━━━━━━━━━━━━━━━━━━━━━━━━━━━━━━┳━━━━━━━━━━━━━━━━━━━━━━━━┳━━━━━━━━━━━━━━━┓\n",
              "┃\u001b[1m \u001b[0m\u001b[1mLayer (type)                   \u001b[0m\u001b[1m \u001b[0m┃\u001b[1m \u001b[0m\u001b[1mOutput Shape          \u001b[0m\u001b[1m \u001b[0m┃\u001b[1m \u001b[0m\u001b[1m      Param #\u001b[0m\u001b[1m \u001b[0m┃\n",
              "┡━━━━━━━━━━━━━━━━━━━━━━━━━━━━━━━━━╇━━━━━━━━━━━━━━━━━━━━━━━━╇━━━━━━━━━━━━━━━┩\n",
              "│ input_layer_1 (\u001b[38;5;33mInputLayer\u001b[0m)      │ (\u001b[38;5;45mNone\u001b[0m, \u001b[38;5;34m128\u001b[0m)            │             \u001b[38;5;34m0\u001b[0m │\n",
              "├─────────────────────────────────┼────────────────────────┼───────────────┤\n",
              "│ embedding_1 (\u001b[38;5;33mEmbedding\u001b[0m)         │ (\u001b[38;5;45mNone\u001b[0m, \u001b[38;5;34m128\u001b[0m, \u001b[38;5;34m16\u001b[0m)        │       \u001b[38;5;34m320,016\u001b[0m │\n",
              "├─────────────────────────────────┼────────────────────────┼───────────────┤\n",
              "│ bidirectional_1 (\u001b[38;5;33mBidirectional\u001b[0m) │ (\u001b[38;5;45mNone\u001b[0m, \u001b[38;5;34m128\u001b[0m, \u001b[38;5;34m64\u001b[0m)        │        \u001b[38;5;34m12,544\u001b[0m │\n",
              "├─────────────────────────────────┼────────────────────────┼───────────────┤\n",
              "│ flatten_1 (\u001b[38;5;33mFlatten\u001b[0m)             │ (\u001b[38;5;45mNone\u001b[0m, \u001b[38;5;34m8192\u001b[0m)           │             \u001b[38;5;34m0\u001b[0m │\n",
              "├─────────────────────────────────┼────────────────────────┼───────────────┤\n",
              "│ dropout (\u001b[38;5;33mDropout\u001b[0m)               │ (\u001b[38;5;45mNone\u001b[0m, \u001b[38;5;34m8192\u001b[0m)           │             \u001b[38;5;34m0\u001b[0m │\n",
              "├─────────────────────────────────┼────────────────────────┼───────────────┤\n",
              "│ dense_1 (\u001b[38;5;33mDense\u001b[0m)                 │ (\u001b[38;5;45mNone\u001b[0m, \u001b[38;5;34m1\u001b[0m)              │         \u001b[38;5;34m8,193\u001b[0m │\n",
              "└─────────────────────────────────┴────────────────────────┴───────────────┘\n"
            ]
          },
          "metadata": {},
          "output_type": "display_data"
        },
        {
          "data": {
            "text/html": [
              "<pre style=\"white-space:pre;overflow-x:auto;line-height:normal;font-family:Menlo,'DejaVu Sans Mono',consolas,'Courier New',monospace\"><span style=\"font-weight: bold\"> Total params: </span><span style=\"color: #00af00; text-decoration-color: #00af00\">340,753</span> (1.30 MB)\n",
              "</pre>\n"
            ],
            "text/plain": [
              "\u001b[1m Total params: \u001b[0m\u001b[38;5;34m340,753\u001b[0m (1.30 MB)\n"
            ]
          },
          "metadata": {},
          "output_type": "display_data"
        },
        {
          "data": {
            "text/html": [
              "<pre style=\"white-space:pre;overflow-x:auto;line-height:normal;font-family:Menlo,'DejaVu Sans Mono',consolas,'Courier New',monospace\"><span style=\"font-weight: bold\"> Trainable params: </span><span style=\"color: #00af00; text-decoration-color: #00af00\">340,753</span> (1.30 MB)\n",
              "</pre>\n"
            ],
            "text/plain": [
              "\u001b[1m Trainable params: \u001b[0m\u001b[38;5;34m340,753\u001b[0m (1.30 MB)\n"
            ]
          },
          "metadata": {},
          "output_type": "display_data"
        },
        {
          "data": {
            "text/html": [
              "<pre style=\"white-space:pre;overflow-x:auto;line-height:normal;font-family:Menlo,'DejaVu Sans Mono',consolas,'Courier New',monospace\"><span style=\"font-weight: bold\"> Non-trainable params: </span><span style=\"color: #00af00; text-decoration-color: #00af00\">0</span> (0.00 B)\n",
              "</pre>\n"
            ],
            "text/plain": [
              "\u001b[1m Non-trainable params: \u001b[0m\u001b[38;5;34m0\u001b[0m (0.00 B)\n"
            ]
          },
          "metadata": {},
          "output_type": "display_data"
        }
      ],
      "source": [
        "embedding_dim = 16\n",
        "inputs = keras.Input(shape=(max_len,), dtype=\"int32\")\n",
        "x = layers.Embedding(vocab_size, embedding_dim)(inputs)\n",
        "x = layers.Bidirectional(layers.LSTM(32, return_sequences=True, \n",
        "                                     activity_regularizer=keras.regularizers.l2(0.01)))(x)\n",
        "x = layers.Flatten()(x)\n",
        "x = layers.Dropout(0.15)(x)\n",
        "outputs = layers.Dense(1, activation=\"sigmoid\")(x)\n",
        "model = keras.Model(inputs, outputs)\n",
        "model.summary()"
      ]
    },
    {
      "cell_type": "code",
      "execution_count": 17,
      "metadata": {},
      "outputs": [
        {
          "name": "stdout",
          "output_type": "stream",
          "text": [
            "Epoch 1/20\n",
            "\u001b[1m157/157\u001b[0m \u001b[32m━━━━━━━━━━━━━━━━━━━━\u001b[0m\u001b[37m\u001b[0m \u001b[1m11s\u001b[0m 59ms/step - accuracy: 0.5379 - loss: 1.2022 - precision: 0.5372 - recall: 0.5748 - val_accuracy: 0.4914 - val_loss: 0.7867 - val_precision: 1.0000 - val_recall: 0.0012\n",
            "Epoch 2/20\n",
            "\u001b[1m157/157\u001b[0m \u001b[32m━━━━━━━━━━━━━━━━━━━━\u001b[0m\u001b[37m\u001b[0m \u001b[1m12s\u001b[0m 77ms/step - accuracy: 0.7081 - loss: 0.6530 - precision: 0.7136 - recall: 0.6873 - val_accuracy: 0.7082 - val_loss: 0.5926 - val_precision: 0.9338 - val_recall: 0.4595\n",
            "Epoch 3/20\n",
            "\u001b[1m157/157\u001b[0m \u001b[32m━━━━━━━━━━━━━━━━━━━━\u001b[0m\u001b[37m\u001b[0m \u001b[1m13s\u001b[0m 80ms/step - accuracy: 0.8634 - loss: 0.4473 - precision: 0.8639 - recall: 0.8596 - val_accuracy: 0.7942 - val_loss: 0.5179 - val_precision: 0.7234 - val_recall: 0.9647\n",
            "Epoch 4/20\n",
            "\u001b[1m157/157\u001b[0m \u001b[32m━━━━━━━━━━━━━━━━━━━━\u001b[0m\u001b[37m\u001b[0m \u001b[1m13s\u001b[0m 82ms/step - accuracy: 0.8992 - loss: 0.3468 - precision: 0.8948 - recall: 0.9029 - val_accuracy: 0.8278 - val_loss: 0.4581 - val_precision: 0.7774 - val_recall: 0.9273\n",
            "Epoch 5/20\n",
            "\u001b[1m157/157\u001b[0m \u001b[32m━━━━━━━━━━━━━━━━━━━━\u001b[0m\u001b[37m\u001b[0m \u001b[1m13s\u001b[0m 83ms/step - accuracy: 0.9214 - loss: 0.2873 - precision: 0.9197 - recall: 0.9233 - val_accuracy: 0.6434 - val_loss: 0.8884 - val_precision: 0.9727 - val_recall: 0.3083\n",
            "Epoch 6/20\n",
            "\u001b[1m157/157\u001b[0m \u001b[32m━━━━━━━━━━━━━━━━━━━━\u001b[0m\u001b[37m\u001b[0m \u001b[1m13s\u001b[0m 82ms/step - accuracy: 0.9262 - loss: 0.2653 - precision: 0.9313 - recall: 0.9200 - val_accuracy: 0.8382 - val_loss: 0.4100 - val_precision: 0.8694 - val_recall: 0.8028\n",
            "Epoch 7/20\n",
            "\u001b[1m157/157\u001b[0m \u001b[32m━━━━━━━━━━━━━━━━━━━━\u001b[0m\u001b[37m\u001b[0m \u001b[1m13s\u001b[0m 80ms/step - accuracy: 0.9495 - loss: 0.2212 - precision: 0.9520 - recall: 0.9454 - val_accuracy: 0.7612 - val_loss: 0.6576 - val_precision: 0.9395 - val_recall: 0.5676\n",
            "Epoch 8/20\n",
            "\u001b[1m157/157\u001b[0m \u001b[32m━━━━━━━━━━━━━━━━━━━━\u001b[0m\u001b[37m\u001b[0m \u001b[1m13s\u001b[0m 80ms/step - accuracy: 0.9578 - loss: 0.1923 - precision: 0.9584 - recall: 0.9566 - val_accuracy: 0.7886 - val_loss: 0.5987 - val_precision: 0.7179 - val_recall: 0.9635\n",
            "Epoch 9/20\n",
            "\u001b[1m157/157\u001b[0m \u001b[32m━━━━━━━━━━━━━━━━━━━━\u001b[0m\u001b[37m\u001b[0m \u001b[1m13s\u001b[0m 81ms/step - accuracy: 0.9607 - loss: 0.1848 - precision: 0.9594 - recall: 0.9615 - val_accuracy: 0.8402 - val_loss: 0.4436 - val_precision: 0.8390 - val_recall: 0.8492\n"
          ]
        }
      ],
      "source": [
        "X_train_seq = text_to_seq(train_df['text'].map(lambda x: x.lower()), max_len=max_len)\n",
        "X_test_seq = text_to_seq(test_df['text'].map(lambda x: x.lower()), max_len=max_len)\n",
        "\n",
        "y_train_lstm = train_df['label'].values\n",
        "y_test_lstm  = test_df['label'].values\n",
        "\n",
        "optimizer = keras.optimizers.Adam(learning_rate=0.001)\n",
        "\n",
        "model.compile(\n",
        "    optimizer=optimizer,\n",
        "    loss=keras.losses.BinaryCrossentropy(from_logits=False),\n",
        "    metrics=['accuracy', 'recall', 'precision']\n",
        ")\n",
        "\n",
        "\n",
        "history = model.fit(\n",
        "    X_train_seq, y_train_lstm,\n",
        "    validation_split=0.2,\n",
        "    epochs=20,\n",
        "    batch_size=128,\n",
        "    verbose=1,\n",
        "    callbacks=[EarlyStopping(monitor='val_loss', patience=3)]\n",
        "    )"
      ]
    },
    {
      "cell_type": "code",
      "execution_count": 18,
      "metadata": {},
      "outputs": [
        {
          "data": {
            "image/png": "[encoded data removed]",
            "text/plain": [
              "<Figure size 1200x400 with 2 Axes>"
            ]
          },
          "metadata": {},
          "output_type": "display_data"
        }
      ],
      "source": [
        "plt.figure(figsize=(12,4))\n",
        "plt.subplot(1,2,1)\n",
        "plt.plot(history.history['loss'], label='Train Loss')\n",
        "plt.plot(history.history['val_loss'], label='Val Loss')\n",
        "plt.legend()\n",
        "plt.title('LSTM Loss')\n",
        "\n",
        "plt.subplot(1,2,2)\n",
        "plt.plot(history.history['accuracy'], label='Train Acc')\n",
        "plt.plot(history.history['val_accuracy'], label='Val Acc')\n",
        "plt.legend()\n",
        "plt.title('LSTM Accuracy')\n",
        "plt.show()"
      ]
    },
    {
      "cell_type": "markdown",
      "metadata": {},
      "source": [
        "And yes we see that the validation loss has decreased more. But less than the training loss and the loss is higher than the one without regularization. It shows how complex it is to find the best hyperparameters for neural networks. "
      ]
    },
    {
      "cell_type": "markdown",
      "metadata": {},
      "source": [
        "### 4.5 Evaluate on Test Data"
      ]
    },
    {
      "cell_type": "code",
      "execution_count": 19,
      "metadata": {},
      "outputs": [
        {
          "name": "stdout",
          "output_type": "stream",
          "text": [
            "\u001b[1m782/782\u001b[0m \u001b[32m━━━━━━━━━━━━━━━━━━━━\u001b[0m\u001b[37m\u001b[0m \u001b[1m7s\u001b[0m 9ms/step\n",
            "LSTM Classification Report:\n",
            "              precision    recall  f1-score   support\n",
            "\n",
            "           0       0.77      0.81      0.79     12500\n",
            "           1       0.80      0.77      0.78     12500\n",
            "\n",
            "    accuracy                           0.79     25000\n",
            "   macro avg       0.79      0.79      0.79     25000\n",
            "weighted avg       0.79      0.79      0.79     25000\n",
            "\n"
          ]
        }
      ],
      "source": [
        "y_pred_lstm_prob = model.predict(X_test_seq)\n",
        "y_pred_lstm = (y_pred_lstm_prob>0.5).astype(int)\n",
        "print(\"LSTM Classification Report:\")\n",
        "print(classification_report(y_test_lstm, y_pred_lstm))"
      ]
    },
    {
      "cell_type": "markdown",
      "metadata": {},
      "source": [
        "The accuracy has decreased compared to the one without regularization. It shows the complexity of how to find the best hyperparameters and the best way to tweak neural networks.\n",
        "\n",
        "By adding the regularization and the dropout we aimed to limit overfitting, but we see that it has not been so effective on the test set. Maybe adding more epochs or increasing the embedding dimension could help. Those would be things to try.\n",
        "\n",
        "Also, the embedding matrix is initialized randomly. So it could be that the embedding matrix is not optimal for the task. We could try to use a **pretrained embedding matrix** (like GloVe or Word2Vec) or pre-train it ourselves on domain-specific data. This could inject more **semantic understanding** into the model and help the LSTM make better predictions.\n",
        "\n",
        "---\n",
        "\n",
        "## 🔧 How to Interpret Changes in Hyperparameters\n",
        "\n",
        "When tuning a neural network like LSTM, understanding how each parameter affects the model is key. Here's a summary of what typically happens when you increase or decrease each of the main hyperparameters:\n",
        "\n",
        "| Hyperparameter         | If You **Increase** It | If You **Decrease** It |\n",
        "|------------------------|------------------------|-------------------------|\n",
        "| **Batch Size**         | Faster training, but less frequent updates (less noise). Can converge faster but may get stuck in local minima. | More frequent updates (more noise), can explore better minima but training is slower and noisier. |\n",
        "| **Embedding Dimension**| More capacity to represent semantic meaning. Better for complex tasks. Higher risk of overfitting. | Less capacity to capture word meaning. May underfit. |\n",
        "| **LSTM Layers**        | Can model more complex patterns. Better for long-term dependencies. Slower training, more prone to overfitting. | Less expressive. May underfit complex data. |\n",
        "| **Learning Rate**      | Faster convergence but may overshoot or diverge. Unstable training. | Slower, more stable training. May get stuck or take too long to converge. |\n",
        "| **Epochs**             | More training time. Can help model generalize better. Risk of overfitting if too many. | Undertraining — model might not learn enough patterns. |\n",
        "| **Dropout**            | Reduces overfitting. Helps generalization. If too high, model struggles to learn. | Model might overfit. Better training accuracy but worse generalization. |\n",
        "| **Regularization Coefficient (L2)** | Penalizes large weights. Encourages simpler models that generalize better. | Less penalty on large weights. Can lead to overfitting if too low. |\n",
        "\n",
        "---\n",
        "\n",
        "## 🧪 Takeaway\n",
        "\n",
        "Finding the best set of hyperparameters is a **balancing act**:\n",
        "- Too simple? The model **underfits** — it doesn't capture important patterns.\n",
        "- Too complex? The model **overfits** — it memorizes the training data but fails to generalize.\n",
        "\n",
        "Always validate your model on a **development/test set**, and use **learning curves** (loss/accuracy over time) to help diagnose underfitting vs overfitting.\n",
        "\n",
        "This kind of experimentation and interpretation is what makes deep learning a blend of **science and art** 🎨🔬\n"
      ]
    },
    {
      "cell_type": "markdown",
      "metadata": {},
      "source": [
        "If we want to find the best hyperparameters for the LSTM model we can use the `keras_tuner` library.\n",
        "\n",
        "We define the model-building function with hyperparameters and then use the `Hyperband` tuner to find the best hyperparameters.\n",
        "\n",
        "We then use the `get_best_hyperparameters` function to get the best hyperparameters and then use the `build_model` function to build the model with the best hyperparameters.\n",
        "\n",
        "We use the callback `EarlyStopping` to stop the training if the validation loss does not improve for 3 epochs. But even with this it will take around 1h to find the best hyperparameters."
      ]
    },
    {
      "cell_type": "code",
      "execution_count": 25,
      "metadata": {},
      "outputs": [
        {
          "name": "stdout",
          "output_type": "stream",
          "text": [
            "Trial 30 Complete [00h 02m 11s]\n",
            "val_loss: 0.345576673746109\n",
            "\n",
            "Best val_loss So Far: 0.33851927518844604\n",
            "Total elapsed time: 00h 49m 08s\n"
          ]
        },
        {
          "data": {
            "text/html": [
              "<pre style=\"white-space:pre;overflow-x:auto;line-height:normal;font-family:Menlo,'DejaVu Sans Mono',consolas,'Courier New',monospace\"><span style=\"font-weight: bold\">Model: \"functional\"</span>\n",
              "</pre>\n"
            ],
            "text/plain": [
              "\u001b[1mModel: \"functional\"\u001b[0m\n"
            ]
          },
          "metadata": {},
          "output_type": "display_data"
        },
        {
          "data": {
            "text/html": [
              "<pre style=\"white-space:pre;overflow-x:auto;line-height:normal;font-family:Menlo,'DejaVu Sans Mono',consolas,'Courier New',monospace\">┏━━━━━━━━━━━━━━━━━━━━━━━━━━━━━━━━━┳━━━━━━━━━━━━━━━━━━━━━━━━┳━━━━━━━━━━━━━━━┓\n",
              "┃<span style=\"font-weight: bold\"> Layer (type)                    </span>┃<span style=\"font-weight: bold\"> Output Shape           </span>┃<span style=\"font-weight: bold\">       Param # </span>┃\n",
              "┡━━━━━━━━━━━━━━━━━━━━━━━━━━━━━━━━━╇━━━━━━━━━━━━━━━━━━━━━━━━╇━━━━━━━━━━━━━━━┩\n",
              "│ input_layer (<span style=\"color: #0087ff; text-decoration-color: #0087ff\">InputLayer</span>)        │ (<span style=\"color: #00d7ff; text-decoration-color: #00d7ff\">None</span>, <span style=\"color: #00af00; text-decoration-color: #00af00\">128</span>)            │             <span style=\"color: #00af00; text-decoration-color: #00af00\">0</span> │\n",
              "├─────────────────────────────────┼────────────────────────┼───────────────┤\n",
              "│ embedding (<span style=\"color: #0087ff; text-decoration-color: #0087ff\">Embedding</span>)           │ (<span style=\"color: #00d7ff; text-decoration-color: #00d7ff\">None</span>, <span style=\"color: #00af00; text-decoration-color: #00af00\">128</span>, <span style=\"color: #00af00; text-decoration-color: #00af00\">48</span>)        │       <span style=\"color: #00af00; text-decoration-color: #00af00\">960,048</span> │\n",
              "├─────────────────────────────────┼────────────────────────┼───────────────┤\n",
              "│ bidirectional (<span style=\"color: #0087ff; text-decoration-color: #0087ff\">Bidirectional</span>)   │ (<span style=\"color: #00d7ff; text-decoration-color: #00d7ff\">None</span>, <span style=\"color: #00af00; text-decoration-color: #00af00\">128</span>, <span style=\"color: #00af00; text-decoration-color: #00af00\">96</span>)        │        <span style=\"color: #00af00; text-decoration-color: #00af00\">37,248</span> │\n",
              "├─────────────────────────────────┼────────────────────────┼───────────────┤\n",
              "│ flatten (<span style=\"color: #0087ff; text-decoration-color: #0087ff\">Flatten</span>)               │ (<span style=\"color: #00d7ff; text-decoration-color: #00d7ff\">None</span>, <span style=\"color: #00af00; text-decoration-color: #00af00\">12288</span>)          │             <span style=\"color: #00af00; text-decoration-color: #00af00\">0</span> │\n",
              "├─────────────────────────────────┼────────────────────────┼───────────────┤\n",
              "│ dropout (<span style=\"color: #0087ff; text-decoration-color: #0087ff\">Dropout</span>)               │ (<span style=\"color: #00d7ff; text-decoration-color: #00d7ff\">None</span>, <span style=\"color: #00af00; text-decoration-color: #00af00\">12288</span>)          │             <span style=\"color: #00af00; text-decoration-color: #00af00\">0</span> │\n",
              "├─────────────────────────────────┼────────────────────────┼───────────────┤\n",
              "│ dense (<span style=\"color: #0087ff; text-decoration-color: #0087ff\">Dense</span>)                   │ (<span style=\"color: #00d7ff; text-decoration-color: #00d7ff\">None</span>, <span style=\"color: #00af00; text-decoration-color: #00af00\">1</span>)              │        <span style=\"color: #00af00; text-decoration-color: #00af00\">12,289</span> │\n",
              "└─────────────────────────────────┴────────────────────────┴───────────────┘\n",
              "</pre>\n"
            ],
            "text/plain": [
              "┏━━━━━━━━━━━━━━━━━━━━━━━━━━━━━━━━━┳━━━━━━━━━━━━━━━━━━━━━━━━┳━━━━━━━━━━━━━━━┓\n",
              "┃\u001b[1m \u001b[0m\u001b[1mLayer (type)                   \u001b[0m\u001b[1m \u001b[0m┃\u001b[1m \u001b[0m\u001b[1mOutput Shape          \u001b[0m\u001b[1m \u001b[0m┃\u001b[1m \u001b[0m\u001b[1m      Param #\u001b[0m\u001b[1m \u001b[0m┃\n",
              "┡━━━━━━━━━━━━━━━━━━━━━━━━━━━━━━━━━╇━━━━━━━━━━━━━━━━━━━━━━━━╇━━━━━━━━━━━━━━━┩\n",
              "│ input_layer (\u001b[38;5;33mInputLayer\u001b[0m)        │ (\u001b[38;5;45mNone\u001b[0m, \u001b[38;5;34m128\u001b[0m)            │             \u001b[38;5;34m0\u001b[0m │\n",
              "├─────────────────────────────────┼────────────────────────┼───────────────┤\n",
              "│ embedding (\u001b[38;5;33mEmbedding\u001b[0m)           │ (\u001b[38;5;45mNone\u001b[0m, \u001b[38;5;34m128\u001b[0m, \u001b[38;5;34m48\u001b[0m)        │       \u001b[38;5;34m960,048\u001b[0m │\n",
              "├─────────────────────────────────┼────────────────────────┼───────────────┤\n",
              "│ bidirectional (\u001b[38;5;33mBidirectional\u001b[0m)   │ (\u001b[38;5;45mNone\u001b[0m, \u001b[38;5;34m128\u001b[0m, \u001b[38;5;34m96\u001b[0m)        │        \u001b[38;5;34m37,248\u001b[0m │\n",
              "├─────────────────────────────────┼────────────────────────┼───────────────┤\n",
              "│ flatten (\u001b[38;5;33mFlatten\u001b[0m)               │ (\u001b[38;5;45mNone\u001b[0m, \u001b[38;5;34m12288\u001b[0m)          │             \u001b[38;5;34m0\u001b[0m │\n",
              "├─────────────────────────────────┼────────────────────────┼───────────────┤\n",
              "│ dropout (\u001b[38;5;33mDropout\u001b[0m)               │ (\u001b[38;5;45mNone\u001b[0m, \u001b[38;5;34m12288\u001b[0m)          │             \u001b[38;5;34m0\u001b[0m │\n",
              "├─────────────────────────────────┼────────────────────────┼───────────────┤\n",
              "│ dense (\u001b[38;5;33mDense\u001b[0m)                   │ (\u001b[38;5;45mNone\u001b[0m, \u001b[38;5;34m1\u001b[0m)              │        \u001b[38;5;34m12,289\u001b[0m │\n",
              "└─────────────────────────────────┴────────────────────────┴───────────────┘\n"
            ]
          },
          "metadata": {},
          "output_type": "display_data"
        },
        {
          "data": {
            "text/html": [
              "<pre style=\"white-space:pre;overflow-x:auto;line-height:normal;font-family:Menlo,'DejaVu Sans Mono',consolas,'Courier New',monospace\"><span style=\"font-weight: bold\"> Total params: </span><span style=\"color: #00af00; text-decoration-color: #00af00\">1,009,585</span> (3.85 MB)\n",
              "</pre>\n"
            ],
            "text/plain": [
              "\u001b[1m Total params: \u001b[0m\u001b[38;5;34m1,009,585\u001b[0m (3.85 MB)\n"
            ]
          },
          "metadata": {},
          "output_type": "display_data"
        },
        {
          "data": {
            "text/html": [
              "<pre style=\"white-space:pre;overflow-x:auto;line-height:normal;font-family:Menlo,'DejaVu Sans Mono',consolas,'Courier New',monospace\"><span style=\"font-weight: bold\"> Trainable params: </span><span style=\"color: #00af00; text-decoration-color: #00af00\">1,009,585</span> (3.85 MB)\n",
              "</pre>\n"
            ],
            "text/plain": [
              "\u001b[1m Trainable params: \u001b[0m\u001b[38;5;34m1,009,585\u001b[0m (3.85 MB)\n"
            ]
          },
          "metadata": {},
          "output_type": "display_data"
        },
        {
          "data": {
            "text/html": [
              "<pre style=\"white-space:pre;overflow-x:auto;line-height:normal;font-family:Menlo,'DejaVu Sans Mono',consolas,'Courier New',monospace\"><span style=\"font-weight: bold\"> Non-trainable params: </span><span style=\"color: #00af00; text-decoration-color: #00af00\">0</span> (0.00 B)\n",
              "</pre>\n"
            ],
            "text/plain": [
              "\u001b[1m Non-trainable params: \u001b[0m\u001b[38;5;34m0\u001b[0m (0.00 B)\n"
            ]
          },
          "metadata": {},
          "output_type": "display_data"
        },
        {
          "name": "stdout",
          "output_type": "stream",
          "text": [
            "Best embedding dimension: 48\n",
            "Best LSTM units: 48\n",
            "Best dropout rate: 0.0\n",
            "Best learning rate: 0.0005\n"
          ]
        }
      ],
      "source": [
        "import keras_tuner as kt\n",
        "from tensorflow import keras\n",
        "from tensorflow.keras import layers\n",
        "\n",
        "# Define the model-building function with hyperparameters\n",
        "def build_model(hp):\n",
        "    embedding_dim = hp.Int('embedding_dim', min_value=16, max_value=64, step=16)\n",
        "    lstm_units = hp.Int('lstm_units', min_value=16, max_value=64, step=16)\n",
        "    dropout_rate = hp.Float('dropout_rate', min_value=0.0, max_value=0.5, step=0.1)\n",
        "    learning_rate = hp.Float('learning_rate', min_value=1e-4, max_value=1e-3, step=2e-4)\n",
        "    hp.Choice(\"batch_size\", values=[32, 64, 128])\n",
        "    \n",
        "    inputs = keras.Input(shape=(max_len,), dtype=\"int32\")\n",
        "    x = layers.Embedding(vocab_size, embedding_dim)(inputs)\n",
        "    x = layers.Bidirectional(layers.LSTM(lstm_units, return_sequences=True))(x)\n",
        "    x = layers.Flatten()(x)\n",
        "    x = layers.Dropout(dropout_rate)(x)\n",
        "    outputs = layers.Dense(1, activation=\"sigmoid\")(x)\n",
        "    \n",
        "    model = keras.Model(inputs, outputs)\n",
        "    model.compile(\n",
        "        optimizer=keras.optimizers.Adam(learning_rate=learning_rate),\n",
        "        loss=\"binary_crossentropy\",\n",
        "        metrics=[\"accuracy\", \"recall\", \"precision\"]\n",
        "    )\n",
        "    return model\n",
        "\n",
        "# Initialize the tuner\n",
        "tuner = kt.Hyperband(\n",
        "    build_model,\n",
        "    objective='val_loss',\n",
        "    max_epochs=10,\n",
        "    factor=3,\n",
        "    directory='keras_tuner',\n",
        "    project_name='lstm_classifier',\n",
        "    hyperparameters=None,\n",
        "    tune_new_entries=True,\n",
        "    allow_new_entries=True\n",
        ")\n",
        "\n",
        "# Display search space summary\n",
        "tuner.search_space_summary()\n",
        "\n",
        "def run_trial(hp, tuner, x, y, **kwargs):\n",
        "    # Build the model\n",
        "    model = tuner.hypermodel.build(hp)\n",
        "    \n",
        "    # Get batch size from hyperparameters\n",
        "    batch_size = hp.get('batch_size')\n",
        "    \n",
        "    # Run model with the chosen batch size\n",
        "    history = model.fit(\n",
        "        x, y,\n",
        "        batch_size=batch_size,\n",
        "        **kwargs\n",
        "    )\n",
        "    return history\n",
        "\n",
        "# Run the search using the run_trial function\n",
        "batch_sizes = []\n",
        "for trial in tuner.oracle.get_best_trials(10):\n",
        "    hp = trial.hyperparameters\n",
        "    batch_sizes.append(hp.get('batch_size'))\n",
        "    \n",
        "# Use tuner directly with custom execution\n",
        "tuner.search(\n",
        "    X_train_seq, y_train_lstm,\n",
        "    validation_split=0.2,\n",
        "    epochs=10,\n",
        "    callbacks=[keras.callbacks.EarlyStopping(patience=3, monitor='val_loss')],\n",
        "    batch_size=32  # This will be overridden\n",
        ")\n",
        "\n",
        "# Get the best model\n",
        "best_model = tuner.get_best_models(num_models=1)[0]\n",
        "best_model.summary()\n",
        "\n",
        "# Get the optimal hyperparameters\n",
        "best_hps = tuner.get_best_hyperparameters(num_trials=1)[0]\n",
        "print(f\"Best embedding dimension: {best_hps.get('embedding_dim')}\")\n",
        "print(f\"Best LSTM units: {best_hps.get('lstm_units')}\")\n",
        "print(f\"Best dropout rate: {best_hps.get('dropout_rate')}\")\n",
        "print(f\"Best learning rate: {best_hps.get('learning_rate')}\")"
      ]
    },
    {
      "cell_type": "code",
      "execution_count": 26,
      "metadata": {},
      "outputs": [
        {
          "name": "stdout",
          "output_type": "stream",
          "text": [
            "\u001b[1m782/782\u001b[0m \u001b[32m━━━━━━━━━━━━━━━━━━━━\u001b[0m\u001b[37m\u001b[0m \u001b[1m10s\u001b[0m 12ms/step\n",
            "              precision    recall  f1-score   support\n",
            "\n",
            "           0       0.82      0.82      0.82     12500\n",
            "           1       0.82      0.82      0.82     12500\n",
            "\n",
            "    accuracy                           0.82     25000\n",
            "   macro avg       0.82      0.82      0.82     25000\n",
            "weighted avg       0.82      0.82      0.82     25000\n",
            "\n"
          ]
        }
      ],
      "source": [
        "y_pred_lstm = best_model.predict(X_test_seq)\n",
        "y_pred_lstm = (y_pred_lstm>0.5).astype(int)\n",
        "print(classification_report(y_test_lstm, y_pred_lstm))\n"
      ]
    },
    {
      "cell_type": "code",
      "execution_count": 27,
      "metadata": {},
      "outputs": [
        {
          "name": "stdout",
          "output_type": "stream",
          "text": [
            "Logistic Regression Test Accuracy: 0.879\n",
            "LSTM Test Accuracy: 0.825\n"
          ]
        }
      ],
      "source": [
        "# Let's just do a quick note on each model's accuracy for a simple numeric comparison.\n",
        "\n",
        "acc_logreg = (y_pred_logreg==y_test).mean()\n",
        "acc_lstm   = (y_pred_lstm.reshape(-1)==y_test_lstm).mean()\n",
        "print(f\"Logistic Regression Test Accuracy: {acc_logreg:.3f}\")\n",
        "print(f\"LSTM Test Accuracy: {acc_lstm:.3f}\")"
      ]
    },
    {
      "cell_type": "markdown",
      "metadata": {},
      "source": [
        "So basically, with hyperparameter tuning we can get a better accuracy, we gained 1.5pt of accuracy. But we are still much lower than the Logistic Regression with TF-IDF that we did not even try to tune. It shows the complexity of the LSTM model. \n",
        "\n",
        "The most likely reason lies in the embeddings which are initialized randomly. So it must be that the embeddings are not optimal for the task. We could try to use a **pretrained embedding matrix** (like GloVe or Word2Vec) or pre-train it ourselves on domain-specific data. This could inject more **semantic understanding** into the model and help the LSTM make better predictions. We will see this in next session. "
      ]
    },
    {
      "cell_type": "markdown",
      "metadata": {},
      "source": [
        "## 5. Word-Level Interpretation in RNNs\n",
        "\n",
        "### 5.1 Leave-One-Out Attribution for RNNs\n",
        "\n",
        "Unlike simpler models like TF-IDF + logistic regression where each word has a fixed coefficient/weight that directly indicates its contribution to the prediction, interpreting word importance in RNNs is more challenging for several reasons:\n",
        "\n",
        "1. **Sequential processing**: RNNs process words sequentially, so a word's impact depends on all preceding words.\n",
        "2. **Hidden state complexity**: The influence of each word is captured in the hidden state, which evolves throughout the sequence.\n",
        "3. **Non-linearity**: Multiple non-linear transformations make it difficult to trace a word's direct impact on the final prediction.\n",
        "4. **Bidirectional influence**: In bidirectional LSTMs, a word's importance depends on both preceding and following context.\n",
        "\n",
        "To address this challenge, we implemented a \"leave-one-out\" approach that:\n",
        "\n",
        "1. Takes a complete sentence and obtains its sentiment prediction\n",
        "2. Systematically removes each word one at a time\n",
        "3. Observes how the prediction changes without that word\n",
        "4. Words that cause large changes when removed are considered more influential\n",
        "\n",
        "**Interpretation**:\n",
        "- Words highlighted in **green** contribute positively to sentiment (removing them decreases the positive sentiment score)\n",
        "- Words highlighted in **red** contribute negatively (removing them increases the positive sentiment score)\n",
        "- The intensity of the color indicates the magnitude of impact\n",
        "\n",
        "This method, while computationally more intensive than gradient-based approaches, provides more reliable interpretations for RNN architectures where gradient flow might be challenging to capture."
      ]
    },
    {
      "cell_type": "code",
      "execution_count": 37,
      "metadata": {},
      "outputs": [
        {
          "name": "stdout",
          "output_type": "stream",
          "text": [
            "Word importances: [-0.00511168 -0.01023081 -0.00419638 -0.05363719  0.00032213  0.00032213\n",
            " -0.00724988 -0.01255389  0.00083612  0.04623024  0.02968016]\n"
          ]
        },
        {
          "data": {
            "text/html": [
              "<div style=\"font-size: 16px; line-height: 2; font-family: Arial, sans-serif; padding: 10px;\"><span style=\"background-color: rgba(255, 0, 0, 0.09530102461576462); padding: 3px; margin: 2px; border-radius: 3px;\"><OOV></span> <span style=\"background-color: rgba(255, 0, 0, 0.19074095785617828); padding: 3px; margin: 2px; border-radius: 3px;\">movie</span> <span style=\"background-color: rgba(255, 0, 0, 0.07823630422353745); padding: 3px; margin: 2px; border-radius: 3px;\"><OOV></span> <span style=\"background-color: rgba(255, 0, 0, 1.0); padding: 3px; margin: 2px; border-radius: 3px;\">terrible</span> <span style=\"padding: 3px; margin: 2px; border-radius: 3px;\"><OOV></span> <span style=\"padding: 3px; margin: 2px; border-radius: 3px;\"><OOV></span> <span style=\"background-color: rgba(255, 0, 0, 0.13516511023044586); padding: 3px; margin: 2px; border-radius: 3px;\">actors</span> <span style=\"background-color: rgba(255, 0, 0, 0.2340518832206726); padding: 3px; margin: 2px; border-radius: 3px;\">did</span> <span style=\"background-color: rgba(0, 128, 0, 0.015588419511914253); padding: 3px; margin: 2px; border-radius: 3px;\"><OOV></span> <span style=\"background-color: rgba(0, 128, 0, 0.8619064688682556); padding: 3px; margin: 2px; border-radius: 3px;\">great</span> <span style=\"background-color: rgba(0, 128, 0, 0.5533504486083984); padding: 3px; margin: 2px; border-radius: 3px;\">job</span> </div>"
            ],
            "text/plain": [
              "<IPython.core.display.HTML object>"
            ]
          },
          "metadata": {},
          "output_type": "display_data"
        },
        {
          "data": {
            "text/html": [
              "<div style=\"font-size: 16px; line-height: 2; font-family: Arial, sans-serif; padding: 10px;\"><span style=\"background-color: rgba(0, 128, 0, 0.1310533732175827); padding: 3px; margin: 2px; border-radius: 3px;\"><OOV></span> <span style=\"background-color: rgba(0, 128, 0, 0.16483543813228607); padding: 3px; margin: 2px; border-radius: 3px;\">absolutely</span> <span style=\"background-color: rgba(0, 128, 0, 0.5182507038116455); padding: 3px; margin: 2px; border-radius: 3px;\">loved</span> <span style=\"background-color: rgba(0, 128, 0, 0.09697634726762772); padding: 3px; margin: 2px; border-radius: 3px;\"><OOV></span> <span style=\"background-color: rgba(0, 128, 0, 0.1279705911874771); padding: 3px; margin: 2px; border-radius: 3px;\">film</span> <span style=\"background-color: rgba(0, 128, 0, 0.10513849556446075); padding: 3px; margin: 2px; border-radius: 3px;\"><OOV></span> <span style=\"background-color: rgba(0, 128, 0, 0.10513849556446075); padding: 3px; margin: 2px; border-radius: 3px;\"><OOV></span> <span style=\"background-color: rgba(0, 128, 0, 1.0); padding: 3px; margin: 2px; border-radius: 3px;\">amazing</span> <span style=\"background-color: rgba(0, 128, 0, 0.07315022498369217); padding: 3px; margin: 2px; border-radius: 3px;\"><OOV></span> <span style=\"background-color: rgba(255, 0, 0, 0.2213805913925171); padding: 3px; margin: 2px; border-radius: 3px;\">start</span> <span style=\"background-color: rgba(0, 128, 0, 0.10244424641132355); padding: 3px; margin: 2px; border-radius: 3px;\"><OOV></span> <span style=\"background-color: rgba(0, 128, 0, 0.1875564604997635); padding: 3px; margin: 2px; border-radius: 3px;\">finish</span> </div>"
            ],
            "text/plain": [
              "<IPython.core.display.HTML object>"
            ]
          },
          "metadata": {},
          "output_type": "display_data"
        },
        {
          "data": {
            "text/html": [
              "<div style=\"font-size: 16px; line-height: 2; font-family: Arial, sans-serif; padding: 10px;\"><span style=\"background-color: rgba(255, 0, 0, 0.08369370549917221); padding: 3px; margin: 2px; border-radius: 3px;\"><OOV></span> <span style=\"background-color: rgba(255, 0, 0, 0.08369370549917221); padding: 3px; margin: 2px; border-radius: 3px;\"><OOV></span> <span style=\"background-color: rgba(255, 0, 0, 0.08369370549917221); padding: 3px; margin: 2px; border-radius: 3px;\"><OOV></span> <span style=\"background-color: rgba(255, 0, 0, 0.6609818339347839); padding: 3px; margin: 2px; border-radius: 3px;\">worst</span> <span style=\"background-color: rgba(255, 0, 0, 0.08068809658288956); padding: 3px; margin: 2px; border-radius: 3px;\">movie</span> <span style=\"background-color: rgba(255, 0, 0, 0.029302924871444702); padding: 3px; margin: 2px; border-radius: 3px;\"><OOV></span> <span style=\"background-color: rgba(255, 0, 0, 0.029302924871444702); padding: 3px; margin: 2px; border-radius: 3px;\"><OOV></span> <span style=\"background-color: rgba(255, 0, 0, 0.029302924871444702); padding: 3px; margin: 2px; border-radius: 3px;\"><OOV></span> <span style=\"background-color: rgba(0, 128, 0, 0.04240739345550537); padding: 3px; margin: 2px; border-radius: 3px;\">seen</span> <span style=\"background-color: rgba(255, 0, 0, 0.13728703558444977); padding: 3px; margin: 2px; border-radius: 3px;\">complete</span> <span style=\"background-color: rgba(255, 0, 0, 1.0); padding: 3px; margin: 2px; border-radius: 3px;\">waste</span> <span style=\"padding: 3px; margin: 2px; border-radius: 3px;\"><OOV></span> <span style=\"background-color: rgba(0, 128, 0, 0.05974770337343216); padding: 3px; margin: 2px; border-radius: 3px;\">time</span> </div>"
            ],
            "text/plain": [
              "<IPython.core.display.HTML object>"
            ]
          },
          "metadata": {},
          "output_type": "display_data"
        }
      ],
      "source": [
        "import numpy as np\n",
        "from IPython.display import HTML, display\n",
        "\n",
        "def get_word_importance_leave_one_out(model, input_text, tokenizer):\n",
        "    \"\"\"\n",
        "    Calculate word importance by leaving each word out and measuring prediction change.\n",
        "    A more reliable approach when gradient methods fail.\n",
        "    \"\"\"\n",
        "    # Tokenize the input text\n",
        "    tokens = tokenizer.texts_to_sequences([input_text])[0]\n",
        "    sequence = np.array(tokens)\n",
        "    \n",
        "    # Create padded sequence for model input\n",
        "    padded_sequence = tf.keras.preprocessing.sequence.pad_sequences([sequence], maxlen=max_len)\n",
        "    \n",
        "    # Get baseline prediction for full text\n",
        "    baseline_prediction = model.predict(padded_sequence, verbose=0)[0][0]\n",
        "    \n",
        "    # Calculate impact of each word by removing it\n",
        "    word_importance = []\n",
        "    for i in range(len(sequence)):\n",
        "        # Create a modified sequence with word i removed\n",
        "        modified_sequence = sequence.copy()\n",
        "        modified_sequence = np.delete(modified_sequence, i)\n",
        "        \n",
        "        # Pad the modified sequence\n",
        "        padded_modified = tf.keras.preprocessing.sequence.pad_sequences([modified_sequence], maxlen=max_len)\n",
        "        \n",
        "        # Get prediction without this word\n",
        "        modified_prediction = model.predict(padded_modified, verbose=0)[0][0]\n",
        "        \n",
        "        # Calculate importance (positive = removing word decreases sentiment)\n",
        "        importance = baseline_prediction - modified_prediction\n",
        "        word_importance.append(importance)\n",
        "    \n",
        "    # Convert token IDs back to words\n",
        "    idx2word = {v: k for k, v in tokenizer.word_index.items()}\n",
        "    words = [idx2word.get(token_id, '[UNK]') for token_id in sequence]\n",
        "    \n",
        "    return words, np.array(word_importance)\n",
        "\n",
        "def visualize_word_importance_html(words, word_importance, threshold=0.01):\n",
        "    \"\"\"\n",
        "    Visualize word importance using HTML with colored backgrounds.\n",
        "    - Green: Positive sentiment contribution\n",
        "    - Red: Negative sentiment contribution\n",
        "    \"\"\"\n",
        "    # Normalize importance to range -1 to 1 if values are significant\n",
        "    max_importance = max(abs(np.max(word_importance)), abs(np.min(word_importance)))\n",
        "    if max_importance > threshold:\n",
        "        normalized_importance = word_importance / max_importance\n",
        "    else:\n",
        "        normalized_importance = word_importance\n",
        "    \n",
        "    # Start HTML\n",
        "    html = '<div style=\"font-size: 16px; line-height: 2; font-family: Arial, sans-serif; padding: 10px;\">'\n",
        "    \n",
        "    # Show the predicted sentiment\n",
        "    # Create a span for each word with color intensity based on importance\n",
        "    for word, importance in zip(words, normalized_importance):\n",
        "        # Calculate color intensity (0-1)\n",
        "        intensity = min(abs(importance), 1.0)\n",
        "        \n",
        "        # Skip very low importance words (show as neutral)\n",
        "        if abs(importance) < threshold:\n",
        "            html += f'<span style=\"padding: 3px; margin: 2px; border-radius: 3px;\">{word}</span> '\n",
        "            continue\n",
        "            \n",
        "        # Determine color (red for negative, green for positive)\n",
        "        if importance > 0:\n",
        "            # Positive sentiment (green)\n",
        "            color = f'rgba(0, 128, 0, {intensity})'\n",
        "        else:\n",
        "            # Negative sentiment (red)\n",
        "            color = f'rgba(255, 0, 0, {intensity})'\n",
        "            \n",
        "        # Create span with background color\n",
        "        html += f'<span style=\"background-color: {color}; padding: 3px; margin: 2px; border-radius: 3px;\">{word}</span> '\n",
        "    \n",
        "    # Close HTML div\n",
        "    html += '</div>'\n",
        "    \n",
        "    # Display HTML\n",
        "    display(HTML(html))\n",
        "\n",
        "# Example usage:\n",
        "review = \"The movie was terrible but the actors did a great job\"\n",
        "words, importances = get_word_importance_leave_one_out(best_model, review, tokenizer)\n",
        "print(f\"Word importances: {importances}\")\n",
        "visualize_word_importance_html(words, importances)\n",
        "\n",
        "# Try another example\n",
        "review = \"I absolutely loved this film, it was amazing from start to finish\"\n",
        "words, importances = get_word_importance_leave_one_out(best_model, review, tokenizer)\n",
        "visualize_word_importance_html(words, importances)\n",
        "\n",
        "# Try a negative example\n",
        "review = \"This was the worst movie I have ever seen, complete waste of time\"\n",
        "words, importances = get_word_importance_leave_one_out(best_model, review, tokenizer)\n",
        "visualize_word_importance_html(words, importances)"
      ]
    },
    {
      "cell_type": "markdown",
      "metadata": {},
      "source": [
        "### 5.2 Gradient-Based Attribution for RNNs\n",
        "\n",
        "While the leave-one-out approach provides reliable interpretations, it is computationally expensive as it requires N+1 forward passes for a sentence of N words. Here we implement a more efficient gradient-based attribution method.\n",
        "\n",
        "#### How Input × Gradient Attribution Works:\n",
        "\n",
        "1. **Forward Pass**: Run the input text through the model to get embeddings and predictions.\n",
        "2. **Gradient Calculation**: Compute the gradient of the output (sentiment score) with respect to the word embeddings.\n",
        "3. **Attribution**: Multiply these gradients by the embedding values themselves.\n",
        "4. **Aggregation**: Sum across the embedding dimensions to get a single importance score per word.\n",
        "\n",
        "This approach is based on the concept that the gradient indicates how much a small change in the embedding would affect the output, and multiplying by the embedding values weights this by the actual magnitude of the input features.\n",
        "\n",
        "The method has several advantages:\n",
        "- **Efficiency**: Requires only one forward and one backward pass\n",
        "- **Directness**: Directly measures the sensitivity of the output to each word\n",
        "- **Captures Interactions**: Accounts for how words interact with each other in the LSTM context\n",
        "\n",
        "However, gradient-based methods can sometimes face challenges with vanishing gradients or saturation in deep networks, which is why we implement a fallback to the leave-one-out method. It's much more complex to implement and we will try to do in another notebook."
      ]
    }
  ],
  "metadata": {
    "kernelspec": {
      "display_name": "bse-nlp-DetGwK6_-py3.11",
      "language": "python",
      "name": "python3"
    },
    "language_info": {
      "codemirror_mode": {
        "name": "ipython",
        "version": 3
      },
      "file_extension": ".py",
      "mimetype": "text/x-python",
      "name": "python",
      "nbconvert_exporter": "python",
      "pygments_lexer": "ipython3",
      "version": "3.11.5"
    }
  },
  "nbformat": 4,
  "nbformat_minor": 4
}
